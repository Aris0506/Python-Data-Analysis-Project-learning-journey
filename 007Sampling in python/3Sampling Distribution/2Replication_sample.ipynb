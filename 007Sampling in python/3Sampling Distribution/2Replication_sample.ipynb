{
 "cells": [
  {
   "cell_type": "code",
   "execution_count": null,
   "id": "d5e03357",
   "metadata": {},
   "outputs": [],
   "source": [
    "# Create an empty list\n",
    "mean_attritions = []\n",
    "# Loop 500 times to create 500 sample means\n",
    "for i in range(500):\n",
    "\tmean_attritions.append(\n",
    "    \tattrition_pop.sample(n=60)['Attrition'].mean()\n",
    "\t)\n",
    "\n",
    "# Create a histogram of the 500 sample means\n",
    "plt.hist(mean_attritions, bins=16)\n",
    "plt.show()"
   ]
  }
 ],
 "metadata": {
  "language_info": {
   "name": "python"
  }
 },
 "nbformat": 4,
 "nbformat_minor": 5
}
