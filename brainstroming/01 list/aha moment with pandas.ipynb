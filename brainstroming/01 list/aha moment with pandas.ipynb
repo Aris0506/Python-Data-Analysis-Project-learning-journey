{
 "cells": [
  {
   "cell_type": "markdown",
   "id": "e69f7866",
   "metadata": {},
   "source": [
    "**Studi Kasus 3: Era Pandas (Tugas yang Sama, Alat Berbeda)**\n",
    "\n",
    "**Tujuan Anda adalah melakukan hal yang sama persis seperti kemarin, tapi sekarang Anda adalah seorang Analis Data yang sudah mengenal Pandas.**\n",
    "\n",
    "-----"
   ]
  },
  {
   "cell_type": "code",
   "execution_count": 1,
   "id": "b35bd2eb",
   "metadata": {},
   "outputs": [],
   "source": [
    "# Data Awal Anda (Sama seperti kemarin)\n",
    "import pandas as pd # <-- Langkah baru\n",
    "\n",
    "data_mahasiswa = [\n",
    "    {'id': 'M001', 'nama': 'Budi', 'nilai_uts': 85, 'nilai_uas': 90},\n",
    "    {'id': 'M002', 'nama': 'Ani', 'nilai_uts': 70, 'nilai_uas': 85},\n",
    "    {'id': 'M003', 'nama': 'Candra', 'nilai_uts': 90, 'nilai_uas': 'BELUM_UJIAN'},\n",
    "    {'id': 'M004', 'nama': 'Dewi', 'nilai_uts': 50, 'nilai_uas': 65}\n",
    "]"
   ]
  },
  {
   "cell_type": "markdown",
   "id": "0ffab4e4",
   "metadata": {},
   "source": [
    "----\n",
    "\n",
    "**Persiapan: Membuat DataFrame**\n",
    "\n",
    "**Tugas: Ubah list data_mahasiswa di atas menjadi sebuah DataFrame Pandas. Beri nama df_mahasiswa.**\n",
    "- Petunjuk: Cukup gunakan pd.DataFrame(nama_list_anda).\n",
    "- Setelah selesai, cetak (print) df_mahasiswa untuk melihat hasilnya."
   ]
  },
  {
   "cell_type": "code",
   "execution_count": 2,
   "id": "4d41f963",
   "metadata": {},
   "outputs": [
    {
     "name": "stdout",
     "output_type": "stream",
     "text": [
      "Data Mahasiswa Awal:\n",
      "     id    nama  nilai_uts    nilai_uas\n",
      "0  M001    Budi         85           90\n",
      "1  M002     Ani         70           85\n",
      "2  M003  Candra         90  BELUM_UJIAN\n",
      "3  M004    Dewi         50           65\n"
     ]
    }
   ],
   "source": [
    "data_mahasiswa_df =  pd.DataFrame(data_mahasiswa)\n",
    "\n",
    "print(\"Data Mahasiswa Awal:\", data_mahasiswa_df, sep=\"\\n\")\n"
   ]
  },
  {
   "cell_type": "markdown",
   "id": "6af20185",
   "metadata": {},
   "source": [
    "----\n",
    "\n",
    "**Menghitung Nilai Akhir (Operasi Vektor) Ingat rumus: nilai_akhir = 40% Nilai UTS + 60% Nilai UAS.**\n",
    "\n",
    "**Tugas: Buat satu kolom baru bernama `nilai_akhir` di `data_mahasiswa_df` Anda.**\n",
    "\n",
    "- Proses:\n",
    "- Anda akan sadar bahwa kolom `nilai_uas` tidak bisa langsung dikalikan karena ada teks 'BELUM_UJIAN'. (Ini masalah yang sama dengan kemarin).\n",
    "- Kunci Pandas: Daripada for loop dan isinstance, gunakan pd.to_numeric().\n",
    "- Bersihkan kolom nilai_uas: Coba gunakan `pd.to_numeric(df_mahasiswa['nilai_uas'], errors='coerce').` Parameter `errors='coerce'` secara ajaib akan mengubah 'BELUM_UJIAN' menjadi NaN (Not a Number). (Simpan hasil bersih ini kembali ke kolom nilai_uas).\n",
    "- Hitung Nilai Akhir (Tanpa Loop): Sekarang, buat kolom baru dalam satu baris: `df_mahasiswa['nilai_akhir'] = (df_mahasiswa['nilai_uts'] * 0.4) + (df_mahasiswa['nilai_uas'] * 0.6)`\n",
    "- Cetak (print) `data_mahasiswa_df` lagi. Lihat apa yang terjadi pada nilai akhir Candra."
   ]
  },
  {
   "cell_type": "code",
   "execution_count": 3,
   "id": "87abe76b",
   "metadata": {},
   "outputs": [
    {
     "data": {
      "application/vnd.microsoft.datawrangler.viewer.v0+json": {
       "columns": [
        {
         "name": "index",
         "rawType": "int64",
         "type": "integer"
        },
        {
         "name": "id",
         "rawType": "object",
         "type": "string"
        },
        {
         "name": "nama",
         "rawType": "object",
         "type": "string"
        },
        {
         "name": "nilai_uts",
         "rawType": "int64",
         "type": "integer"
        },
        {
         "name": "nilai_uas",
         "rawType": "object",
         "type": "unknown"
        }
       ],
       "ref": "b9769b5e-bb43-4d58-929a-6201f9f1625e",
       "rows": [
        [
         "0",
         "M001",
         "Budi",
         "85",
         "90"
        ],
        [
         "1",
         "M002",
         "Ani",
         "70",
         "85"
        ],
        [
         "2",
         "M003",
         "Candra",
         "90",
         "BELUM_UJIAN"
        ],
        [
         "3",
         "M004",
         "Dewi",
         "50",
         "65"
        ]
       ],
       "shape": {
        "columns": 4,
        "rows": 4
       }
      },
      "text/html": [
       "<div>\n",
       "<style scoped>\n",
       "    .dataframe tbody tr th:only-of-type {\n",
       "        vertical-align: middle;\n",
       "    }\n",
       "\n",
       "    .dataframe tbody tr th {\n",
       "        vertical-align: top;\n",
       "    }\n",
       "\n",
       "    .dataframe thead th {\n",
       "        text-align: right;\n",
       "    }\n",
       "</style>\n",
       "<table border=\"1\" class=\"dataframe\">\n",
       "  <thead>\n",
       "    <tr style=\"text-align: right;\">\n",
       "      <th></th>\n",
       "      <th>id</th>\n",
       "      <th>nama</th>\n",
       "      <th>nilai_uts</th>\n",
       "      <th>nilai_uas</th>\n",
       "    </tr>\n",
       "  </thead>\n",
       "  <tbody>\n",
       "    <tr>\n",
       "      <th>0</th>\n",
       "      <td>M001</td>\n",
       "      <td>Budi</td>\n",
       "      <td>85</td>\n",
       "      <td>90</td>\n",
       "    </tr>\n",
       "    <tr>\n",
       "      <th>1</th>\n",
       "      <td>M002</td>\n",
       "      <td>Ani</td>\n",
       "      <td>70</td>\n",
       "      <td>85</td>\n",
       "    </tr>\n",
       "    <tr>\n",
       "      <th>2</th>\n",
       "      <td>M003</td>\n",
       "      <td>Candra</td>\n",
       "      <td>90</td>\n",
       "      <td>BELUM_UJIAN</td>\n",
       "    </tr>\n",
       "    <tr>\n",
       "      <th>3</th>\n",
       "      <td>M004</td>\n",
       "      <td>Dewi</td>\n",
       "      <td>50</td>\n",
       "      <td>65</td>\n",
       "    </tr>\n",
       "  </tbody>\n",
       "</table>\n",
       "</div>"
      ],
      "text/plain": [
       "     id    nama  nilai_uts    nilai_uas\n",
       "0  M001    Budi         85           90\n",
       "1  M002     Ani         70           85\n",
       "2  M003  Candra         90  BELUM_UJIAN\n",
       "3  M004    Dewi         50           65"
      ]
     },
     "execution_count": 3,
     "metadata": {},
     "output_type": "execute_result"
    }
   ],
   "source": [
    "data_mahasiswa_df\n"
   ]
  },
  {
   "cell_type": "code",
   "execution_count": 4,
   "id": "2d80d75f",
   "metadata": {},
   "outputs": [
    {
     "data": {
      "text/plain": [
       "array([90, 85, 'BELUM_UJIAN', 65], dtype=object)"
      ]
     },
     "execution_count": 4,
     "metadata": {},
     "output_type": "execute_result"
    }
   ],
   "source": [
    "import numpy as np\n",
    "\n",
    "data_mahasiswa_df['nilai_uas'].unique()"
   ]
  },
  {
   "cell_type": "code",
   "execution_count": 5,
   "id": "6f04bfe3",
   "metadata": {},
   "outputs": [
    {
     "name": "stdout",
     "output_type": "stream",
     "text": [
      "Data Mahasiswa setelah mengubah kolom nilai_uas:\n",
      "     id    nama  nilai_uts  nilai_uas\n",
      "0  M001    Budi         85       90.0\n",
      "1  M002     Ani         70       85.0\n",
      "2  M003  Candra         90        NaN\n",
      "3  M004    Dewi         50       65.0\n",
      "==================================================\n",
      "Data Mahasiswa setelah menambahkan kolom nilai_akhir:\n",
      "     id    nama  nilai_uts  nilai_uas  nilai_akhir\n",
      "0  M001    Budi         85       90.0         88.0\n",
      "1  M002     Ani         70       85.0         79.0\n",
      "2  M003  Candra         90        NaN          NaN\n",
      "3  M004    Dewi         50       65.0         59.0\n"
     ]
    }
   ],
   "source": [
    "# change column nilai_uas\n",
    "# import numpy as np\n",
    "# data_mahasiswa_df['nilai_uas'] = data_mahasiswa_df['nilai_uas'].replace('BELUM_UJIAN', np.nan)\n",
    "\n",
    "data_mahasiswa_df['nilai_uas'] = pd.to_numeric(data_mahasiswa_df['nilai_uas'], errors='coerce')\n",
    "print(\"Data Mahasiswa setelah mengubah kolom nilai_uas:\", data_mahasiswa_df, sep=\"\\n\")\n",
    "\n",
    "print(\"=\" * 50)\n",
    "# adding new column nilai_akhir\n",
    "data_mahasiswa_df['nilai_akhir'] = (data_mahasiswa_df['nilai_uts'] * 0.4) + (data_mahasiswa_df['nilai_uas'] * 0.6)\n",
    "\n",
    "print(\"Data Mahasiswa setelah menambahkan kolom nilai_akhir:\", data_mahasiswa_df, sep=\"\\n\")"
   ]
  },
  {
   "cell_type": "markdown",
   "id": "8923c113",
   "metadata": {},
   "source": [
    "----\n",
    "\n",
    "**Membuat Laporan Kelulusan (Boolean Filtering) Syarat lulus: nilai_akhir > 70.**\n",
    "\n",
    "**Tugas: Buat sebuah DataFrame baru bernama mahasiswa_lulus.**\n",
    "- Proses:\n",
    "- Kemarin kita pakai for loop dan if.\n",
    "- Hari ini, kita gunakan Boolean Filtering dalam satu baris: mahasiswa_lulus = df_mahasiswa[ df_mahasiswa['nilai_akhir'] > 70 ]\n",
    "- Cetak (print) mahasiswa_lulus."
   ]
  },
  {
   "cell_type": "code",
   "execution_count": 7,
   "id": "de971d26",
   "metadata": {},
   "outputs": [
    {
     "name": "stdout",
     "output_type": "stream",
     "text": [
      "Data Mahasiswa mahasiswa lulus:\n",
      "     id    nama  nilai_uts  nilai_uas  nilai_akhir mahasiswa_lulus\n",
      "0  M001    Budi         85       90.0         88.0           LULUS\n",
      "1  M002     Ani         70       85.0         79.0           LULUS\n",
      "2  M003  Candra         90        NaN          NaN     TIDAK LULUS\n",
      "3  M004    Dewi         50       65.0         59.0     TIDAK LULUS\n"
     ]
    }
   ],
   "source": [
    "data_mahasiswa_df['mahasiswa_lulus'] = np.where(data_mahasiswa_df['nilai_akhir'] > 70, 'LULUS', 'TIDAK LULUS')\n",
    "print(\"Data Mahasiswa mahasiswa lulus:\", data_mahasiswa_df, sep=\"\\n\")"
   ]
  },
  {
   "cell_type": "markdown",
   "id": "212cea5c",
   "metadata": {},
   "source": [
    "----\n",
    "\n",
    "**Mencari Data Spesifik (Querying) Dosen bertanya, \"Berapa nilai akhir si Dewi?\"**\n",
    "\n",
    "**Tugas: Tampilkan seluruh baris data milik \"Dewi\".**\n",
    "\n",
    "- Proses:\n",
    "- Kemarin kita pakai for loop dan if mhs['nama'] == 'Dewi'.\n",
    "- Hari ini, kita gunakan satu baris lagi: dewi = df_mahasiswa[ df_mahasiswa['nama'] == 'Dewi' ]\n",
    "- Cetak (print) dewi."
   ]
  },
  {
   "cell_type": "code",
   "execution_count": null,
   "id": "3aed6c27",
   "metadata": {},
   "outputs": [
    {
     "name": "stdout",
     "output_type": "stream",
     "text": [
      "Data Mahasiswa milik Dewi:\n",
      "     id  nama  nilai_uts  nilai_uas  nilai_akhir mahasiswa_lulus\n",
      "3  M004  Dewi         50       65.0         59.0     TIDAK LULUS\n"
     ]
    }
   ],
   "source": [
    "nilai_dewi = data_mahasiswa_df[ data_mahasiswa_df['nama'] == 'Dewi' ]\n",
    "print(\"Data Mahasiswa milik Dewi:\", nilai_dewi, sep=\"\\n\")"
   ]
  },
  {
   "cell_type": "markdown",
   "id": "1f8ca464",
   "metadata": {},
   "source": [
    "- nama aja dewi gk lulus bjir"
   ]
  }
 ],
 "metadata": {
  "kernelspec": {
   "display_name": "Python 3",
   "language": "python",
   "name": "python3"
  },
  "language_info": {
   "codemirror_mode": {
    "name": "ipython",
    "version": 3
   },
   "file_extension": ".py",
   "mimetype": "text/x-python",
   "name": "python",
   "nbconvert_exporter": "python",
   "pygments_lexer": "ipython3",
   "version": "3.14.0"
  }
 },
 "nbformat": 4,
 "nbformat_minor": 5
}
