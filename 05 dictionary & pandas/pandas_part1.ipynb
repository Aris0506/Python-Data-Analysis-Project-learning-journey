{
 "cells": [
  {
   "cell_type": "code",
   "execution_count": 2,
   "id": "73487f4c",
   "metadata": {},
   "outputs": [
    {
     "name": "stdout",
     "output_type": "stream",
     "text": [
      "         country  drives_right  cars_per_cap\n",
      "0  United States          True           809\n",
      "1      Australia         False           731\n",
      "2          Japan         False           588\n",
      "3          India         False            18\n",
      "4         Russia          True           200\n",
      "5        Morocco          True            70\n",
      "6          Egypt          True            45\n"
     ]
    }
   ],
   "source": [
    "# Dictionary to DataFrame (1)\n",
    "\n",
    "# Instructions\n",
    "\n",
    "\n",
    "#Import pandas as pd.\n",
    "\n",
    "#Use the pre-defined lists to create a dictionary called my_dict. There should be three key value pairs:\n",
    "#key 'country' and value names.\n",
    "#key 'drives_right' and value dr.\n",
    "#key 'cars_per_cap' and value cpc.\n",
    "\n",
    "#Use pd.DataFrame() to turn your dict into a DataFrame called cars.\n",
    "\n",
    "#Print out cars and see how beautiful it is.\n",
    "\n",
    "\n",
    "# Pre-defined lists\n",
    "names = ['United States', 'Australia', 'Japan', 'India', 'Russia', 'Morocco', 'Egypt']\n",
    "dr =  [True, False, False, False, True, True, True]\n",
    "cpc = [809, 731, 588, 18, 200, 70, 45]\n",
    "\n",
    "# Import pandas as pd\n",
    "import pandas as pd\n",
    "\n",
    "# Create dictionary my_dict with three key:value pairs: my_dict\n",
    "my_dict = {\n",
    "    'country':names, \n",
    "    'drives_right':dr, \n",
    "    'cars_per_cap':cpc\n",
    "}\n",
    "\n",
    "# Build a DataFrame cars from my_dict: cars\n",
    "cars = pd.DataFrame(my_dict)\n",
    "\n",
    "# Print cars\n",
    "print(cars)\n"
   ]
  },
  {
   "cell_type": "code",
   "execution_count": 3,
   "id": "adf9c398",
   "metadata": {},
   "outputs": [
    {
     "name": "stdout",
     "output_type": "stream",
     "text": [
      "         country  drives_right  cars_per_cap\n",
      "0  United States          True           809\n",
      "1      Australia         False           731\n",
      "2          Japan         False           588\n",
      "3          India         False            18\n",
      "4         Russia          True           200\n",
      "5        Morocco          True            70\n",
      "6          Egypt          True            45\n",
      "           country  drives_right  cars_per_cap\n",
      "US   United States          True           809\n",
      "AUS      Australia         False           731\n",
      "JPN          Japan         False           588\n",
      "IN           India         False            18\n",
      "RU          Russia          True           200\n",
      "MOR        Morocco          True            70\n",
      "EG           Egypt          True            45\n"
     ]
    }
   ],
   "source": [
    "# Dictionary to DataFrame (2)\n",
    "\n",
    "# Hit Run Code to see that, indeed, the row labels are not correctly set.\n",
    "# Specify the row labels by setting cars.index equal to row_labels.\n",
    "# Print out cars again and check if the row labels are correct this time.\n",
    "\n",
    "\n",
    "import pandas as pd\n",
    "\n",
    "# Build cars DataFrame\n",
    "names = ['United States', 'Australia', 'Japan', 'India', 'Russia', 'Morocco', 'Egypt']\n",
    "dr =  [True, False, False, False, True, True, True]\n",
    "cpc = [809, 731, 588, 18, 200, 70, 45]\n",
    "cars_dict = { 'country':names, 'drives_right':dr, 'cars_per_cap':cpc }\n",
    "cars = pd.DataFrame(cars_dict)\n",
    "print(cars)\n",
    "\n",
    "# Definition of row_labels\n",
    "row_labels = ['US', 'AUS', 'JPN', 'IN', 'RU', 'MOR', 'EG']\n",
    "\n",
    "# Specify row labels of cars\n",
    "cars.index = row_labels \n",
    "\n",
    "# Print cars again\n",
    "print(cars)"
   ]
  },
  {
   "cell_type": "code",
   "execution_count": null,
   "id": "a2dde653",
   "metadata": {},
   "outputs": [],
   "source": [
    "# CSV to DataFrame (1)\n",
    "\n",
    "# To import CSV files you still need the pandas package: import it as pd.\n",
    "# Use pd.read_csv() to import cars.csv data as a DataFrame. Store this DataFrame as cars.\n",
    "# Print out cars. Does everything look OK?\n",
    "\n",
    "# Import pandas as pd\n",
    "import pandas as pd\n",
    "\n",
    "# Import the cars.csv data: cars\n",
    "cars = pd.read_csv('cars.csv')\n",
    "\n",
    "# Print out cars\n",
    "print(cars)"
   ]
  },
  {
   "cell_type": "code",
   "execution_count": null,
   "id": "0e5d0438",
   "metadata": {},
   "outputs": [],
   "source": [
    "# CSV to DataFrame (2)\n",
    "#Run the code with Run Code and assert that the first column should actually be used as row labels.\n",
    "#Specify the index_col argument inside pd.read_csv(): set it to 0, so that the first column is used as row labels.\n",
    "#Has the printout of cars improved now?\n",
    "\n",
    "# Import pandas as pd\n",
    "import pandas as pd\n",
    "\n",
    "# Fix import by including index_col\n",
    "cars = pd.read_csv('cars.csv', index_col =0)\n",
    "\n",
    "# Print out cars\n",
    "print(cars)"
   ]
  },
  {
   "cell_type": "code",
   "execution_count": null,
   "id": "2effc031",
   "metadata": {},
   "outputs": [],
   "source": []
  }
 ],
 "metadata": {
  "kernelspec": {
   "display_name": "Python 3",
   "language": "python",
   "name": "python3"
  },
  "language_info": {
   "codemirror_mode": {
    "name": "ipython",
    "version": 3
   },
   "file_extension": ".py",
   "mimetype": "text/x-python",
   "name": "python",
   "nbconvert_exporter": "python",
   "pygments_lexer": "ipython3",
   "version": "3.12.4"
  }
 },
 "nbformat": 4,
 "nbformat_minor": 5
}
