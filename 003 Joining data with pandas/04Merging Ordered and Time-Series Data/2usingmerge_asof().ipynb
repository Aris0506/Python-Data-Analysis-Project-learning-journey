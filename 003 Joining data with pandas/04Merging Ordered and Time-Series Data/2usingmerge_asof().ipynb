{
 "cells": [
  {
   "cell_type": "code",
   "execution_count": null,
   "id": "333fe484",
   "metadata": {},
   "outputs": [],
   "source": [
    "# 2usingmerge_asof()_to_study_stocks\n",
    "\n",
    "# Use merge_asof() to merge jpm and wells\n",
    "jpm_wells = pd.merge_asof(jpm, wells, on='date_time', suffixes=('', '_wells'), direction='nearest')\n",
    "\n",
    "\n",
    "# Use merge_asof() to merge jpm_wells and bac\n",
    "jpm_wells_bac = pd.merge_asof(jpm_wells, bac, on=\"date_time\", suffixes=(\"_jpm\", \"_bac\"),direction='nearest')\n",
    "\n",
    "\n",
    "# Compute price diff\n",
    "price_diffs = jpm_wells_bac.diff()\n",
    "\n",
    "# Plot the price diff of the close of jpm, wells and bac only\n",
    "price_diffs.plot(y=[\"close_jpm\", \"close_wells\", \"close_bac\"])\n",
    "plt.show()"
   ]
  },
  {
   "cell_type": "code",
   "execution_count": null,
   "id": "f24b22b3",
   "metadata": {},
   "outputs": [],
   "source": [
    "# Using merge_asof() to create dataset\n",
    "\n",
    "# Merge gdp and recession on date using merge_asof()\n",
    "gdp_recession = pd.merge_asof(gdp, recession, on=\"date\")\n",
    "\n",
    "# Create a list based on the row value of gdp_recession['econ_status']\n",
    "is_recession = ['r' if s=='recession' else 'g' for s in gdp_recession['econ_status']]\n",
    "\n",
    "# Plot a bar chart of gdp_recession\n",
    "gdp_recession.plot(kind=\"bar\", y=\"gdp\", x=\"date\", color=is_recession, rot=90)\n",
    "plt.show()"
   ]
  }
 ],
 "metadata": {
  "language_info": {
   "name": "python"
  }
 },
 "nbformat": 4,
 "nbformat_minor": 5
}
