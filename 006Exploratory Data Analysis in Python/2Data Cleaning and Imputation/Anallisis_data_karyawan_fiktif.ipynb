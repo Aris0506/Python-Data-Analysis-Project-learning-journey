{
 "cells": [
  {
   "cell_type": "markdown",
   "id": "bd838af1",
   "metadata": {},
   "source": [
    "**Proyek: Analisis Data Karyawan Fiktif 🧑‍💻 (penerapan data Cleaning and imputation)**\n",
    "\n",
    "\n",
    "**Skenario:**\n",
    "\n",
    "**diberikan dataset fiktif employee_data.csv. Dataset ini kacau: ada data yang hilang, tipe data yang salah, dan beberapa outlier. Tugas Anda adalah membersihkan dan menganalisis dataset ini untuk memberikan wawasan kepada departemen SDM.**"
   ]
  },
  {
   "cell_type": "markdown",
   "id": "54f9999d",
   "metadata": {},
   "source": [
    "---\n",
    "\n",
    "**Tugas:**\n",
    "\n",
    "**1.Muat dan Inspeksi Data:**\n",
    "- Muat data ke dalam DataFrame pandas.\n",
    "- Gunakan .info() dan .isna().sum() untuk mengidentifikasi masalah awal (nilai hilang, tipe data yang salah)."
   ]
  },
  {
   "cell_type": "code",
   "execution_count": 260,
   "id": "92006fff",
   "metadata": {},
   "outputs": [
    {
     "name": "stdout",
     "output_type": "stream",
     "text": [
      "   Employee_ID   Department  Years_At_Company  Satisfaction_Score  \\\n",
      "0          101        Sales               5.0                 4.5   \n",
      "1          102  Engineering               3.0                 3.8   \n",
      "2          103    Marketing               7.0                 NaN   \n",
      "3          104        Sales              15.0                 2.1   \n",
      "4          105  Engineering               NaN                 4.2   \n",
      "\n",
      "  Last_Salary_USD  \n",
      "0          85,000  \n",
      "1          92,000  \n",
      "2             NaN  \n",
      "3         150,000  \n",
      "4          98,000  \n",
      "<class 'pandas.core.frame.DataFrame'>\n",
      "RangeIndex: 10 entries, 0 to 9\n",
      "Data columns (total 5 columns):\n",
      " #   Column              Non-Null Count  Dtype  \n",
      "---  ------              --------------  -----  \n",
      " 0   Employee_ID         10 non-null     int64  \n",
      " 1   Department          10 non-null     object \n",
      " 2   Years_At_Company    9 non-null      float64\n",
      " 3   Satisfaction_Score  8 non-null      float64\n",
      " 4   Last_Salary_USD     8 non-null      object \n",
      "dtypes: float64(2), int64(1), object(2)\n",
      "memory usage: 532.0+ bytes\n",
      "None\n",
      "Employee_ID           0\n",
      "Department            0\n",
      "Years_At_Company      1\n",
      "Satisfaction_Score    2\n",
      "Last_Salary_USD       2\n",
      "dtype: int64\n"
     ]
    }
   ],
   "source": [
    "import pandas as pd\n",
    "\n",
    "df_employ = pd.read_csv('employee_data.csv')\n",
    "print(df_employ.head())\n",
    "\n",
    "print(df_employ.info())\n",
    "print(df_employ.isna().sum())"
   ]
  },
  {
   "cell_type": "markdown",
   "id": "68bbc6a5",
   "metadata": {},
   "source": [
    "---\n",
    "\n",
    "**2.Pembersihan Data:**\n",
    "\n",
    "- Tangani Data Hilang:\n",
    "\n",
    "    - Untuk Years_At_Company, imputasi nilai yang hilang dengan median dari kolom tersebut.\n",
    "    - Untuk Satisfaction_Score, imputasi nilai yang hilang dengan rata-rata (mean) dari kolom tersebut.\n",
    "    - Untuk Last_Salary_USD, karena ini adalah data penting, hapus baris di mana gaji hilang.\n",
    "\n",
    "- Perbaiki Tipe Data:\n",
    "\n",
    "    - Kolom Last_Salary_USD saat ini bertipe object karena ada koma. Hapus koma dan konversikan kolom ini menjadi tipe data numerik (misalnya, float atau int)."
   ]
  },
  {
   "cell_type": "code",
   "execution_count": 261,
   "id": "86c53d65",
   "metadata": {},
   "outputs": [],
   "source": [
    "#handling missing values\n",
    "\n",
    "df_employ['Years_At_Company'] = df_employ['Years_At_Company'].fillna(df_employ['Years_At_Company'].median())\n",
    "df_employ['Satisfaction_Score'] = df_employ['Satisfaction_Score'].fillna(df_employ['Satisfaction_Score'].mean()).round(2)\n",
    "\n",
    "# df_employ.dropna(subset=[\"Last_Salary_USD\"])           # buang NaN\n",
    "# df_employ[df_employ[\"Last_Salary_USD\"].str.strip() != \"\"]  # buang string kosong\n",
    "df_clean = df_employ[df_employ[\"Last_Salary_USD\"].notna() & (df_employ[\"Last_Salary_USD\"].str.strip() != \"\")].copy()"
   ]
  },
  {
   "cell_type": "code",
   "execution_count": 262,
   "id": "67be40fa",
   "metadata": {},
   "outputs": [],
   "source": [
    "#fix Dtype to float\n",
    "df_clean['Last_Salary_USD'] = df_clean['Last_Salary_USD'].str.replace(\",\", \"\")\n",
    "df_clean['Last_Salary_USD'] = df_clean['Last_Salary_USD'].astype(float)"
   ]
  },
  {
   "cell_type": "code",
   "execution_count": 263,
   "id": "5b203887",
   "metadata": {},
   "outputs": [
    {
     "name": "stdout",
     "output_type": "stream",
     "text": [
      "<class 'pandas.core.frame.DataFrame'>\n",
      "Index: 8 entries, 0 to 9\n",
      "Data columns (total 5 columns):\n",
      " #   Column              Non-Null Count  Dtype  \n",
      "---  ------              --------------  -----  \n",
      " 0   Employee_ID         8 non-null      int64  \n",
      " 1   Department          8 non-null      object \n",
      " 2   Years_At_Company    8 non-null      float64\n",
      " 3   Satisfaction_Score  8 non-null      float64\n",
      " 4   Last_Salary_USD     8 non-null      float64\n",
      "dtypes: float64(3), int64(1), object(1)\n",
      "memory usage: 384.0+ bytes\n",
      "None\n"
     ]
    }
   ],
   "source": [
    "print(df_clean.info())"
   ]
  },
  {
   "cell_type": "code",
   "execution_count": 264,
   "id": "f9ce178b",
   "metadata": {},
   "outputs": [
    {
     "data": {
      "text/plain": [
       "array([ 85000.,  92000., 150000.,  98000.,  82000.,  75000., 250000.,\n",
       "        95000.])"
      ]
     },
     "execution_count": 264,
     "metadata": {},
     "output_type": "execute_result"
    }
   ],
   "source": [
    "df_clean['Last_Salary_USD'].unique()"
   ]
  },
  {
   "cell_type": "code",
   "execution_count": 265,
   "id": "a785db12",
   "metadata": {},
   "outputs": [
    {
     "data": {
      "application/vnd.microsoft.datawrangler.viewer.v0+json": {
       "columns": [
        {
         "name": "index",
         "rawType": "int64",
         "type": "integer"
        },
        {
         "name": "Employee_ID",
         "rawType": "int64",
         "type": "integer"
        },
        {
         "name": "Department",
         "rawType": "object",
         "type": "string"
        },
        {
         "name": "Years_At_Company",
         "rawType": "float64",
         "type": "float"
        },
        {
         "name": "Satisfaction_Score",
         "rawType": "float64",
         "type": "float"
        },
        {
         "name": "Last_Salary_USD",
         "rawType": "float64",
         "type": "float"
        }
       ],
       "ref": "4336e6ca-87b8-417f-a6d2-f945a2ede679",
       "rows": [
        [
         "0",
         "101",
         "Sales",
         "5.0",
         "4.5",
         "85000.0"
        ],
        [
         "1",
         "102",
         "Engineering",
         "3.0",
         "3.8",
         "92000.0"
        ],
        [
         "3",
         "104",
         "Sales",
         "15.0",
         "2.1",
         "150000.0"
        ],
        [
         "4",
         "105",
         "Engineering",
         "6.0",
         "4.2",
         "98000.0"
        ],
        [
         "5",
         "106",
         "Sales",
         "4.0",
         "4.8",
         "82000.0"
        ],
        [
         "6",
         "107",
         "HR",
         "9.0",
         "3.5",
         "75000.0"
        ],
        [
         "7",
         "108",
         "Engineering",
         "25.0",
         "4.9",
         "250000.0"
        ],
        [
         "9",
         "110",
         "Engineering",
         "4.0",
         "3.96",
         "95000.0"
        ]
       ],
       "shape": {
        "columns": 5,
        "rows": 8
       }
      },
      "text/html": [
       "<div>\n",
       "<style scoped>\n",
       "    .dataframe tbody tr th:only-of-type {\n",
       "        vertical-align: middle;\n",
       "    }\n",
       "\n",
       "    .dataframe tbody tr th {\n",
       "        vertical-align: top;\n",
       "    }\n",
       "\n",
       "    .dataframe thead th {\n",
       "        text-align: right;\n",
       "    }\n",
       "</style>\n",
       "<table border=\"1\" class=\"dataframe\">\n",
       "  <thead>\n",
       "    <tr style=\"text-align: right;\">\n",
       "      <th></th>\n",
       "      <th>Employee_ID</th>\n",
       "      <th>Department</th>\n",
       "      <th>Years_At_Company</th>\n",
       "      <th>Satisfaction_Score</th>\n",
       "      <th>Last_Salary_USD</th>\n",
       "    </tr>\n",
       "  </thead>\n",
       "  <tbody>\n",
       "    <tr>\n",
       "      <th>0</th>\n",
       "      <td>101</td>\n",
       "      <td>Sales</td>\n",
       "      <td>5.0</td>\n",
       "      <td>4.50</td>\n",
       "      <td>85000.0</td>\n",
       "    </tr>\n",
       "    <tr>\n",
       "      <th>1</th>\n",
       "      <td>102</td>\n",
       "      <td>Engineering</td>\n",
       "      <td>3.0</td>\n",
       "      <td>3.80</td>\n",
       "      <td>92000.0</td>\n",
       "    </tr>\n",
       "    <tr>\n",
       "      <th>3</th>\n",
       "      <td>104</td>\n",
       "      <td>Sales</td>\n",
       "      <td>15.0</td>\n",
       "      <td>2.10</td>\n",
       "      <td>150000.0</td>\n",
       "    </tr>\n",
       "    <tr>\n",
       "      <th>4</th>\n",
       "      <td>105</td>\n",
       "      <td>Engineering</td>\n",
       "      <td>6.0</td>\n",
       "      <td>4.20</td>\n",
       "      <td>98000.0</td>\n",
       "    </tr>\n",
       "    <tr>\n",
       "      <th>5</th>\n",
       "      <td>106</td>\n",
       "      <td>Sales</td>\n",
       "      <td>4.0</td>\n",
       "      <td>4.80</td>\n",
       "      <td>82000.0</td>\n",
       "    </tr>\n",
       "    <tr>\n",
       "      <th>6</th>\n",
       "      <td>107</td>\n",
       "      <td>HR</td>\n",
       "      <td>9.0</td>\n",
       "      <td>3.50</td>\n",
       "      <td>75000.0</td>\n",
       "    </tr>\n",
       "    <tr>\n",
       "      <th>7</th>\n",
       "      <td>108</td>\n",
       "      <td>Engineering</td>\n",
       "      <td>25.0</td>\n",
       "      <td>4.90</td>\n",
       "      <td>250000.0</td>\n",
       "    </tr>\n",
       "    <tr>\n",
       "      <th>9</th>\n",
       "      <td>110</td>\n",
       "      <td>Engineering</td>\n",
       "      <td>4.0</td>\n",
       "      <td>3.96</td>\n",
       "      <td>95000.0</td>\n",
       "    </tr>\n",
       "  </tbody>\n",
       "</table>\n",
       "</div>"
      ],
      "text/plain": [
       "   Employee_ID   Department  Years_At_Company  Satisfaction_Score  \\\n",
       "0          101        Sales               5.0                4.50   \n",
       "1          102  Engineering               3.0                3.80   \n",
       "3          104        Sales              15.0                2.10   \n",
       "4          105  Engineering               6.0                4.20   \n",
       "5          106        Sales               4.0                4.80   \n",
       "6          107           HR               9.0                3.50   \n",
       "7          108  Engineering              25.0                4.90   \n",
       "9          110  Engineering               4.0                3.96   \n",
       "\n",
       "   Last_Salary_USD  \n",
       "0          85000.0  \n",
       "1          92000.0  \n",
       "3         150000.0  \n",
       "4          98000.0  \n",
       "5          82000.0  \n",
       "6          75000.0  \n",
       "7         250000.0  \n",
       "9          95000.0  "
      ]
     },
     "execution_count": 265,
     "metadata": {},
     "output_type": "execute_result"
    }
   ],
   "source": [
    "df_clean"
   ]
  },
  {
   "cell_type": "markdown",
   "id": "2ca63f9e",
   "metadata": {},
   "source": [
    "---\n",
    "**3.Analisis dan Rekayasa Fitur:**\n",
    "\n",
    "- Identifikasi Outlier: Gunakan metode Interquartile Range (IQR) pada kolom Last_Salary_USD untuk mengidentifikasi apakah ada gaji yang dianggap sebagai outlier. Cetak baris data yang merupakan outlier.\n",
    "\n",
    "- Buat Kolom Baru: Buat kolom baru bernama Employee_Tenure berdasarkan Years_At_Company dengan kategori berikut:\n",
    "    - \"New\" (0-3 tahun)\n",
    "    - \"Mid\" (4-8 tahun)\n",
    "    - \"Senior\" (>8 tahun)"
   ]
  },
  {
   "cell_type": "code",
   "execution_count": 266,
   "id": "698c6967",
   "metadata": {},
   "outputs": [
    {
     "name": "stdout",
     "output_type": "stream",
     "text": [
      "Q1: 84250.0\n",
      "Q3: 111000.0\n",
      "IQR: 26750.0\n",
      "Lower Bound: 44125.0\n",
      "Upper Bound: 151125.0\n"
     ]
    },
    {
     "data": {
      "application/vnd.microsoft.datawrangler.viewer.v0+json": {
       "columns": [
        {
         "name": "index",
         "rawType": "int64",
         "type": "integer"
        },
        {
         "name": "Last_Salary_USD",
         "rawType": "float64",
         "type": "float"
        }
       ],
       "ref": "05b01171-cec0-4e59-9ee5-f4ed871c4105",
       "rows": [
        [
         "7",
         "250000.0"
        ]
       ],
       "shape": {
        "columns": 1,
        "rows": 1
       }
      },
      "text/plain": [
       "7    250000.0\n",
       "Name: Last_Salary_USD, dtype: float64"
      ]
     },
     "execution_count": 266,
     "metadata": {},
     "output_type": "execute_result"
    }
   ],
   "source": [
    "# calculate IQR \n",
    "Q1 = df_clean['Last_Salary_USD'].quantile(0.25)\n",
    "Q3 = df_clean['Last_Salary_USD'].quantile(0.75)\n",
    "\n",
    "IQR =  Q3 - Q1\n",
    "\n",
    "print(\"Q1:\", Q1)\n",
    "print(\"Q3:\", Q3)\n",
    "print(\"IQR:\", IQR)\n",
    "\n",
    "\n",
    "lower_bound = Q1 - 1.5 * IQR\n",
    "upper_bound = Q3 + 1.5 * IQR\n",
    "\n",
    "print(\"Lower Bound:\", lower_bound)\n",
    "print(\"Upper Bound:\", upper_bound)\n",
    "\n",
    "# identification outlier\n",
    "outliers = df_clean[(df_clean['Last_Salary_USD'] < lower_bound) | (df_clean['Last_Salary_USD'] > upper_bound)]\n",
    "outliers['Last_Salary_USD']\n"
   ]
  },
  {
   "cell_type": "code",
   "execution_count": 267,
   "id": "a82758cc",
   "metadata": {},
   "outputs": [
    {
     "data": {
      "image/png": "[encoded data removed]",
      "text/plain": [
       "<Figure size 1600x600 with 1 Axes>"
      ]
     },
     "metadata": {},
     "output_type": "display_data"
    }
   ],
   "source": [
    "import matplotlib.pyplot as plt\n",
    "# Boxplot\n",
    "plt.figure(figsize=(16,6))\n",
    "plt.boxplot(df_clean['Last_Salary_USD'], vert=True)\n",
    "plt.title(\"Boxplot Last_Salary_USD\")\n",
    "plt.ylabel(\"Salary (USD)\")\n",
    "plt.grid(True, axis='y', linestyle='--', alpha=0.7)\n",
    "plt.show()"
   ]
  },
  {
   "cell_type": "code",
   "execution_count": 268,
   "id": "5b8d943f",
   "metadata": {},
   "outputs": [
    {
     "data": {
      "application/vnd.microsoft.datawrangler.viewer.v0+json": {
       "columns": [
        {
         "name": "index",
         "rawType": "int64",
         "type": "integer"
        },
        {
         "name": "Employee_ID",
         "rawType": "int64",
         "type": "integer"
        },
        {
         "name": "Department",
         "rawType": "object",
         "type": "string"
        },
        {
         "name": "Years_At_Company",
         "rawType": "float64",
         "type": "float"
        },
        {
         "name": "Satisfaction_Score",
         "rawType": "float64",
         "type": "float"
        },
        {
         "name": "Last_Salary_USD",
         "rawType": "float64",
         "type": "float"
        },
        {
         "name": "Employee_Tenure",
         "rawType": "object",
         "type": "string"
        }
       ],
       "ref": "4df6021b-4c1b-4899-8ead-d8063c5d1651",
       "rows": [
        [
         "0",
         "101",
         "Sales",
         "5.0",
         "4.5",
         "85000.0",
         "Mid"
        ],
        [
         "1",
         "102",
         "Engineering",
         "3.0",
         "3.8",
         "92000.0",
         "New"
        ],
        [
         "3",
         "104",
         "Sales",
         "15.0",
         "2.1",
         "150000.0",
         "Senior"
        ],
        [
         "4",
         "105",
         "Engineering",
         "6.0",
         "4.2",
         "98000.0",
         "Mid"
        ],
        [
         "5",
         "106",
         "Sales",
         "4.0",
         "4.8",
         "82000.0",
         "Mid"
        ],
        [
         "6",
         "107",
         "HR",
         "9.0",
         "3.5",
         "75000.0",
         "Senior"
        ],
        [
         "7",
         "108",
         "Engineering",
         "25.0",
         "4.9",
         "250000.0",
         "Senior"
        ],
        [
         "9",
         "110",
         "Engineering",
         "4.0",
         "3.96",
         "95000.0",
         "Mid"
        ]
       ],
       "shape": {
        "columns": 6,
        "rows": 8
       }
      },
      "text/html": [
       "<div>\n",
       "<style scoped>\n",
       "    .dataframe tbody tr th:only-of-type {\n",
       "        vertical-align: middle;\n",
       "    }\n",
       "\n",
       "    .dataframe tbody tr th {\n",
       "        vertical-align: top;\n",
       "    }\n",
       "\n",
       "    .dataframe thead th {\n",
       "        text-align: right;\n",
       "    }\n",
       "</style>\n",
       "<table border=\"1\" class=\"dataframe\">\n",
       "  <thead>\n",
       "    <tr style=\"text-align: right;\">\n",
       "      <th></th>\n",
       "      <th>Employee_ID</th>\n",
       "      <th>Department</th>\n",
       "      <th>Years_At_Company</th>\n",
       "      <th>Satisfaction_Score</th>\n",
       "      <th>Last_Salary_USD</th>\n",
       "      <th>Employee_Tenure</th>\n",
       "    </tr>\n",
       "  </thead>\n",
       "  <tbody>\n",
       "    <tr>\n",
       "      <th>0</th>\n",
       "      <td>101</td>\n",
       "      <td>Sales</td>\n",
       "      <td>5.0</td>\n",
       "      <td>4.50</td>\n",
       "      <td>85000.0</td>\n",
       "      <td>Mid</td>\n",
       "    </tr>\n",
       "    <tr>\n",
       "      <th>1</th>\n",
       "      <td>102</td>\n",
       "      <td>Engineering</td>\n",
       "      <td>3.0</td>\n",
       "      <td>3.80</td>\n",
       "      <td>92000.0</td>\n",
       "      <td>New</td>\n",
       "    </tr>\n",
       "    <tr>\n",
       "      <th>3</th>\n",
       "      <td>104</td>\n",
       "      <td>Sales</td>\n",
       "      <td>15.0</td>\n",
       "      <td>2.10</td>\n",
       "      <td>150000.0</td>\n",
       "      <td>Senior</td>\n",
       "    </tr>\n",
       "    <tr>\n",
       "      <th>4</th>\n",
       "      <td>105</td>\n",
       "      <td>Engineering</td>\n",
       "      <td>6.0</td>\n",
       "      <td>4.20</td>\n",
       "      <td>98000.0</td>\n",
       "      <td>Mid</td>\n",
       "    </tr>\n",
       "    <tr>\n",
       "      <th>5</th>\n",
       "      <td>106</td>\n",
       "      <td>Sales</td>\n",
       "      <td>4.0</td>\n",
       "      <td>4.80</td>\n",
       "      <td>82000.0</td>\n",
       "      <td>Mid</td>\n",
       "    </tr>\n",
       "    <tr>\n",
       "      <th>6</th>\n",
       "      <td>107</td>\n",
       "      <td>HR</td>\n",
       "      <td>9.0</td>\n",
       "      <td>3.50</td>\n",
       "      <td>75000.0</td>\n",
       "      <td>Senior</td>\n",
       "    </tr>\n",
       "    <tr>\n",
       "      <th>7</th>\n",
       "      <td>108</td>\n",
       "      <td>Engineering</td>\n",
       "      <td>25.0</td>\n",
       "      <td>4.90</td>\n",
       "      <td>250000.0</td>\n",
       "      <td>Senior</td>\n",
       "    </tr>\n",
       "    <tr>\n",
       "      <th>9</th>\n",
       "      <td>110</td>\n",
       "      <td>Engineering</td>\n",
       "      <td>4.0</td>\n",
       "      <td>3.96</td>\n",
       "      <td>95000.0</td>\n",
       "      <td>Mid</td>\n",
       "    </tr>\n",
       "  </tbody>\n",
       "</table>\n",
       "</div>"
      ],
      "text/plain": [
       "   Employee_ID   Department  Years_At_Company  Satisfaction_Score  \\\n",
       "0          101        Sales               5.0                4.50   \n",
       "1          102  Engineering               3.0                3.80   \n",
       "3          104        Sales              15.0                2.10   \n",
       "4          105  Engineering               6.0                4.20   \n",
       "5          106        Sales               4.0                4.80   \n",
       "6          107           HR               9.0                3.50   \n",
       "7          108  Engineering              25.0                4.90   \n",
       "9          110  Engineering               4.0                3.96   \n",
       "\n",
       "   Last_Salary_USD Employee_Tenure  \n",
       "0          85000.0             Mid  \n",
       "1          92000.0             New  \n",
       "3         150000.0          Senior  \n",
       "4          98000.0             Mid  \n",
       "5          82000.0             Mid  \n",
       "6          75000.0          Senior  \n",
       "7         250000.0          Senior  \n",
       "9          95000.0             Mid  "
      ]
     },
     "execution_count": 268,
     "metadata": {},
     "output_type": "execute_result"
    }
   ],
   "source": [
    "#Adding new column\n",
    "Employee_Tenure = []\n",
    "\n",
    "for index, baris in df_clean.iterrows():\n",
    "    if baris['Years_At_Company'] > 8:\n",
    "        Employee_Tenure.append('Senior')\n",
    "    elif baris['Years_At_Company'] >= 4:\n",
    "        Employee_Tenure.append('Mid')\n",
    "    else:\n",
    "        Employee_Tenure.append('New')\n",
    "\n",
    "df_clean['Employee_Tenure'] = Employee_Tenure\n",
    "# df_penjualan.sort_values(ascending=False)\n",
    "df_clean\n",
    "\n",
    "\n"
   ]
  },
  {
   "cell_type": "markdown",
   "id": "185581af",
   "metadata": {},
   "source": [
    "---\n",
    "**4.Sajikan Wawasan:**\n",
    "- Hitung gaji rata-rata untuk setiap Department. Departemen mana yang memiliki gaji rata-rata tertinggi?\n",
    "- Hitung skor kepuasan rata-rata untuk setiap kategori Employee_Tenure. Apakah karyawan yang lebih lama cenderung lebih puas?"
   ]
  },
  {
   "cell_type": "code",
   "execution_count": 269,
   "id": "3631d6cb",
   "metadata": {},
   "outputs": [
    {
     "name": "stdout",
     "output_type": "stream",
     "text": [
      "Index(['Employee_ID', 'Department', 'Years_At_Company', 'Satisfaction_Score',\n",
      "       'Last_Salary_USD', 'Employee_Tenure'],\n",
      "      dtype='object')\n"
     ]
    }
   ],
   "source": [
    "print(df_clean.columns)"
   ]
  },
  {
   "cell_type": "code",
   "execution_count": 273,
   "id": "413ccb0c",
   "metadata": {},
   "outputs": [
    {
     "name": "stdout",
     "output_type": "stream",
     "text": [
      "Rata-rata Salary Setiap Departement adalah: $\n"
     ]
    },
    {
     "data": {
      "application/vnd.microsoft.datawrangler.viewer.v0+json": {
       "columns": [
        {
         "name": "Department",
         "rawType": "object",
         "type": "string"
        },
        {
         "name": "mean",
         "rawType": "float64",
         "type": "float"
        }
       ],
       "ref": "3ce79048-9bb6-421a-97e5-05b921e2502e",
       "rows": [
        [
         "Engineering",
         "133750.0"
        ],
        [
         "Sales",
         "105666.67"
        ],
        [
         "HR",
         "75000.0"
        ]
       ],
       "shape": {
        "columns": 1,
        "rows": 3
       }
      },
      "text/html": [
       "<div>\n",
       "<style scoped>\n",
       "    .dataframe tbody tr th:only-of-type {\n",
       "        vertical-align: middle;\n",
       "    }\n",
       "\n",
       "    .dataframe tbody tr th {\n",
       "        vertical-align: top;\n",
       "    }\n",
       "\n",
       "    .dataframe thead th {\n",
       "        text-align: right;\n",
       "    }\n",
       "</style>\n",
       "<table border=\"1\" class=\"dataframe\">\n",
       "  <thead>\n",
       "    <tr style=\"text-align: right;\">\n",
       "      <th></th>\n",
       "      <th>mean</th>\n",
       "    </tr>\n",
       "    <tr>\n",
       "      <th>Department</th>\n",
       "      <th></th>\n",
       "    </tr>\n",
       "  </thead>\n",
       "  <tbody>\n",
       "    <tr>\n",
       "      <th>Engineering</th>\n",
       "      <td>133750.00</td>\n",
       "    </tr>\n",
       "    <tr>\n",
       "      <th>Sales</th>\n",
       "      <td>105666.67</td>\n",
       "    </tr>\n",
       "    <tr>\n",
       "      <th>HR</th>\n",
       "      <td>75000.00</td>\n",
       "    </tr>\n",
       "  </tbody>\n",
       "</table>\n",
       "</div>"
      ],
      "text/plain": [
       "                  mean\n",
       "Department            \n",
       "Engineering  133750.00\n",
       "Sales        105666.67\n",
       "HR            75000.00"
      ]
     },
     "execution_count": 273,
     "metadata": {},
     "output_type": "execute_result"
    }
   ],
   "source": [
    "# calculate mean/AVG of last_salary_USD based Departement\n",
    "avg_salary_each_department = df_clean.groupby('Department')['Last_Salary_USD'].agg(['mean']).round(2)\n",
    "print(\"Rata-rata Salary Setiap Departement adalah: $\")\n",
    "avg_salary_each_department.sort_values(by='mean', ascending=False)"
   ]
  },
  {
   "cell_type": "code",
   "execution_count": 276,
   "id": "af39a8b3",
   "metadata": {},
   "outputs": [
    {
     "data": {
      "image/png": "[encoded data removed]",
      "text/plain": [
       "<Figure size 1600x500 with 1 Axes>"
      ]
     },
     "metadata": {},
     "output_type": "display_data"
    }
   ],
   "source": [
    "import seaborn as sns\n",
    "plt.figure(figsize=(16,5))\n",
    "sns.barplot(x=avg_salary_each_department.index, y=avg_salary_each_department[\"mean\"])\n",
    "\n",
    "plt.title(\"Rata-rata Gaji per Department\")\n",
    "plt.xlabel(\"Department\")\n",
    "plt.ylabel(\"Rata-rata Gaji (USD)\")\n",
    "plt.xticks(rotation=45)\n",
    "plt.show()"
   ]
  },
  {
   "cell_type": "code",
   "execution_count": null,
   "id": "bd0eb467",
   "metadata": {},
   "outputs": [
    {
     "data": {
      "application/vnd.microsoft.datawrangler.viewer.v0+json": {
       "columns": [
        {
         "name": "Employee_Tenure",
         "rawType": "object",
         "type": "string"
        },
        {
         "name": "mean",
         "rawType": "float64",
         "type": "float"
        }
       ],
       "ref": "7343b503-37bb-431c-a4ca-f4e4bd8b0b9a",
       "rows": [
        [
         "Mid",
         "4.36"
        ],
        [
         "New",
         "3.8"
        ],
        [
         "Senior",
         "3.5"
        ]
       ],
       "shape": {
        "columns": 1,
        "rows": 3
       }
      },
      "text/html": [
       "<div>\n",
       "<style scoped>\n",
       "    .dataframe tbody tr th:only-of-type {\n",
       "        vertical-align: middle;\n",
       "    }\n",
       "\n",
       "    .dataframe tbody tr th {\n",
       "        vertical-align: top;\n",
       "    }\n",
       "\n",
       "    .dataframe thead th {\n",
       "        text-align: right;\n",
       "    }\n",
       "</style>\n",
       "<table border=\"1\" class=\"dataframe\">\n",
       "  <thead>\n",
       "    <tr style=\"text-align: right;\">\n",
       "      <th></th>\n",
       "      <th>mean</th>\n",
       "    </tr>\n",
       "    <tr>\n",
       "      <th>Employee_Tenure</th>\n",
       "      <th></th>\n",
       "    </tr>\n",
       "  </thead>\n",
       "  <tbody>\n",
       "    <tr>\n",
       "      <th>Mid</th>\n",
       "      <td>4.36</td>\n",
       "    </tr>\n",
       "    <tr>\n",
       "      <th>New</th>\n",
       "      <td>3.80</td>\n",
       "    </tr>\n",
       "    <tr>\n",
       "      <th>Senior</th>\n",
       "      <td>3.50</td>\n",
       "    </tr>\n",
       "  </tbody>\n",
       "</table>\n",
       "</div>"
      ],
      "text/plain": [
       "                 mean\n",
       "Employee_Tenure      \n",
       "Mid              4.36\n",
       "New              3.80\n",
       "Senior           3.50"
      ]
     },
     "execution_count": 258,
     "metadata": {},
     "output_type": "execute_result"
    }
   ],
   "source": [
    "# calculate Satisfaction_Score\n",
    "skor_kepuasan_avg = df_clean.groupby('Employee_Tenure')['Satisfaction_Score'].agg(['mean']).round(2)\n",
    "skor_kepuasan_avg"
   ]
  },
  {
   "cell_type": "code",
   "execution_count": 278,
   "id": "ea7d3e51",
   "metadata": {},
   "outputs": [
    {
     "data": {
      "image/png": "[encoded data removed]",
      "text/plain": [
       "<Figure size 1600x500 with 1 Axes>"
      ]
     },
     "metadata": {},
     "output_type": "display_data"
    }
   ],
   "source": [
    "plt.figure(figsize=(16,5))\n",
    "sns.barplot(x=skor_kepuasan_avg.index, y=skor_kepuasan_avg[\"mean\"])\n",
    "\n",
    "plt.title(\"Skor Kepuasan Bekerja\")\n",
    "plt.xlabel(\"Employee_Tenure\")\n",
    "plt.ylabel(\"Rata-rata Kepuasan\")\n",
    "plt.xticks(rotation=45)\n",
    "plt.show()"
   ]
  },
  {
   "cell_type": "markdown",
   "id": "395ec369",
   "metadata": {},
   "source": [
    "---\n",
    "\n",
    "**Kesimpulan**\n",
    "\n",
    "-  Departemen dengan gaji rata-rata tertinggi adalah Engineering dengan rata-rata **$133,750**, diikuti oleh Sales ($105,666.67) dan HR ($75,000).\n",
    "- Ternyata tidak. Karyawan dengan masa kerja Mid (4-8 tahun) menunjukkan skor kepuasan tertinggi (rata-rata 4.36). Menariknya, karyawan Senior (>8 tahun) memiliki skor kepuasan rata-rata terendah (3.50), bahkan lebih rendah dari karyawan New (0-3 tahun) yang memiliki skor 3.80 "
   ]
  }
 ],
 "metadata": {
  "kernelspec": {
   "display_name": "Python 3",
   "language": "python",
   "name": "python3"
  },
  "language_info": {
   "codemirror_mode": {
    "name": "ipython",
    "version": 3
   },
   "file_extension": ".py",
   "mimetype": "text/x-python",
   "name": "python",
   "nbconvert_exporter": "python",
   "pygments_lexer": "ipython3",
   "version": "3.12.4"
  }
 },
 "nbformat": 4,
 "nbformat_minor": 5
}
