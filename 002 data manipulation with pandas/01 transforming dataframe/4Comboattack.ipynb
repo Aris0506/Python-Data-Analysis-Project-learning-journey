{
 "cells": [
  {
   "cell_type": "code",
   "execution_count": null,
   "id": "409b4efd",
   "metadata": {},
   "outputs": [],
   "source": [
    "# Create indiv_per_10k col as homeless individuals per 10k state pop\n",
    "homelessness[\"indiv_per_10k\"] = 10000 * homelessness[\"individuals\"] / homelessness[\"state_pop\"] \n",
    "\n",
    "# Subset rows for indiv_per_10k greater than 20\n",
    "high_homelessness = homelessness[homelessness[\"indiv_per_10k\"] > 20 ]\n",
    "\n",
    "# Sort high_homelessness by descending indiv_per_10k\n",
    "high_homelessness_srt = high_homelessness.sort_values(\"indiv_per_10k\", ascending=False)\n",
    "\n",
    "# From high_homelessness_srt, select the state and indiv_per_10k cols\n",
    "result = high_homelessness_srt[[\"state\", \"indiv_per_10k\"]]\n",
    "\n",
    "# See the result\n",
    "print(result)"
   ]
  },
  {
   "cell_type": "markdown",
   "id": "8a869b3d",
   "metadata": {},
   "source": [
    "\"Bagaimana cara saya membandingkan penjualan antara toko tipe A dan B?\" Pertanyaan ini akan secara alami menuntun Anda untuk mencari alat yang tepat, yaitu .groupby().\n",
    "\n"
   ]
  },
  {
   "cell_type": "markdown",
   "id": "3d6a23e0",
   "metadata": {},
   "source": []
  },
  {
   "cell_type": "markdown",
   "id": "ff2b5798",
   "metadata": {},
   "source": [
    "Analogi: Mencuci Pakaian (Proses Split-Apply-Combine)\n",
    "Bayangkan Anda memiliki sekeranjang besar pakaian kotor yang tercampur aduk. Ini adalah DataFrame sales Anda yang lengkap.\n",
    "\n",
    "Anda tidak mungkin mencuci semuanya sekaligus. Apa yang akan Anda lakukan?\n",
    "\n",
    "SPLIT (Memisahkan):\n",
    "Anda akan memisahkan tumpukan besar itu menjadi beberapa tumpukan kecil yang sejenis. Misalnya: tumpukan baju putih, tumpukan baju hitam, dan tumpukan baju berwarna.\n",
    "\n",
    "Dalam kode: Inilah yang dilakukan oleh sales.groupby(\"type\"). Ia \"memisahkan\" data Anda menjadi grup Toko Tipe A, grup Toko Tipe B, dan seterusnya.\n",
    "\n",
    "APPLY (Menerapkan Fungsi):\n",
    "Sekarang Anda punya beberapa tumpukan kecil. Anda akan menerapkan sebuah aksi pada setiap tumpukan itu. Misalnya, Anda ingin menghitung \"berapa total berat cucian untuk setiap tumpukan?\". Anda akan menimbang tumpukan putih, menimbang tumpukan hitam, dan menimbang tumpukan berwarna.\n",
    "\n",
    "Dalam kode: Inilah yang dilakukan oleh [\"weekly_sales\"].sum(). Dari setiap grup Tipe Toko, Anda mengambil kolom \"weekly_sales\" lalu menjumlahkannya.\n",
    "\n",
    "COMBINE (Menggabungkan Hasil):\n",
    "Terakhir, Anda akan menggabungkan hasil dari setiap tumpukan tadi menjadi sebuah catatan ringkas.\n",
    "\n",
    "Berat total baju putih: 5 kg\n",
    "\n",
    "Berat total baju hitam: 3 kg\n",
    "\n",
    "Berat total baju berwarna: 4 kg\n",
    "\n",
    "Dalam kode: Inilah output akhir yang Anda lihat. Sebuah tabel ringkas yang menunjukkan total penjualan untuk setiap tipe toko.\n",
    "\n",
    "\n",
    "\n",
    "Jadi, setiap kali otak Anda terasa \"kopong\" saat melihat masalah, jangan pikirkan kodenya dulu. Pikirkan proses fisiknya:\n",
    "\n",
    "Pisahkan datanya berdasarkan kategori -> Lakukan perhitungan pada setiap grup -> Gabungkan hasilnya."
   ]
  }
 ],
 "metadata": {
  "language_info": {
   "name": "python"
  }
 },
 "nbformat": 4,
 "nbformat_minor": 5
}
