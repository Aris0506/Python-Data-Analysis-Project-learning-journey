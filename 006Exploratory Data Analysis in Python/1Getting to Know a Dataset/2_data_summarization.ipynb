{
 "cells": [
  {
   "cell_type": "code",
   "execution_count": null,
   "id": "2fcf18fb",
   "metadata": {},
   "outputs": [],
   "source": [
    "# Summaries with .groupby() and .agg()\n",
    "# Print the mean and standard deviation of rates for 2019 and 2020 \n",
    "print(unemployment[[\"2019\", \"2020\"]].agg([\"mean\", \"std\"]))\n",
    "\n",
    "######################################\n",
    "\n",
    "# Print mean and standard deviation grouped by continent\n",
    "print(unemployment[[\"continent\", \"2019\", \"2020\"]].groupby(\"continent\").agg([\"mean\", \"std\"]).reset_index())"
   ]
  },
  {
   "cell_type": "code",
   "execution_count": null,
   "id": "8ecb0f3c",
   "metadata": {},
   "outputs": [],
   "source": [
    "# Named aggregations\n",
    "\n",
    "continent_summary = unemployment.groupby(\"continent\").agg(\n",
    "    # Create the mean_rate_2021 column\n",
    "    mean_rate_2021=(\"2021\", \"mean\"),\n",
    "    # Create the std_rate_2021 column\n",
    "    std_rate_2021=(\"2021\", \"std\")\n",
    ")\n",
    "print(continent_summary)"
   ]
  },
  {
   "cell_type": "code",
   "execution_count": null,
   "id": "d7510f49",
   "metadata": {},
   "outputs": [],
   "source": [
    "# Visualizing categorical summaries\n",
    "\n",
    "# Create a bar plot of continents and their average unemployment\n",
    "sns.barplot(data=unemployment, x=\"continent\", y=\"2021\")\n",
    "plt.show()"
   ]
  }
 ],
 "metadata": {
  "kernelspec": {
   "display_name": "Python 3",
   "language": "python",
   "name": "python3"
  },
  "language_info": {
   "codemirror_mode": {
    "name": "ipython",
    "version": 3
   },
   "file_extension": ".py",
   "mimetype": "text/x-python",
   "name": "python",
   "nbconvert_exporter": "python",
   "pygments_lexer": "ipython3",
   "version": "3.12.4"
  }
 },
 "nbformat": 4,
 "nbformat_minor": 5
}
