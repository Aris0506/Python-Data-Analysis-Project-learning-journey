{
 "cells": [
  {
   "cell_type": "code",
   "execution_count": null,
   "id": "69bd5c66",
   "metadata": {},
   "outputs": [],
   "source": [
    "# Inspecting a DataFrame\n",
    "\n",
    "# Print the head of the homelessness data\n",
    "print(homelessness.head())\n",
    "\n",
    "# Print information about homelessness\n",
    "print(homelessness.info())\n",
    "\n",
    "# Print the shape of homelessness\n",
    "print(homelessness.shape)\n",
    "\n",
    "# Print a description of homelessness\n",
    "print(homelessness.describe())"
   ]
  },
  {
   "cell_type": "code",
   "execution_count": null,
   "id": "ea9e6d37",
   "metadata": {},
   "outputs": [],
   "source": [
    "# Parts of a DataFrame\n",
    "\n",
    "# Import pandas using the alias pd\n",
    "import pandas as pd\n",
    "# Print the values of homelessness\n",
    "print(homelessness.values)\n",
    "\n",
    "# Print the column index of homelessness\n",
    "print(homelessness.columns)\n",
    "\n",
    "# Print the row index of homelessness\n",
    "print(homelessness.index)"
   ]
  }
 ],
 "metadata": {
  "language_info": {
   "name": "python"
  }
 },
 "nbformat": 4,
 "nbformat_minor": 5
}
