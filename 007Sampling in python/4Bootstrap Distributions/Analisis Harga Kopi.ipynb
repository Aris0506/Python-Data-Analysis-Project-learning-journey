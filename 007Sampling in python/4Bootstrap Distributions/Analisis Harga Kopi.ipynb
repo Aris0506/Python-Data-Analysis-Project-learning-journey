{
 "cells": [
  {
   "cell_type": "markdown",
   "id": "e049a42d",
   "metadata": {},
   "source": [
    "**Proyek: Analisis Harga Kopi**\n",
    "\n",
    "**menerapkan pengetahuan bootstrap distribution dalam sebuah proyek mini!**\n",
    "\n",
    "**Latar Belakang:**\n",
    "**Anda adalah seorang analis data di sebuah perusahaan kopi spesialti. Anda baru saja menerima sampel data coffee_ratings yang berisi 500 catatan rating kopi dari seluruh dunia, termasuk variabel flavor yang merupakan skor rasa dari 0 hingga 10. Manajemen ingin memahami seberapa yakin kita tentang rata-rata skor flavor dari semua kopi spesialti di dunia (populasi), bukan hanya dari sampel yang kita miliki.**\n",
    "\n",
    "---"
   ]
  },
  {
   "cell_type": "markdown",
   "id": "97526667",
   "metadata": {},
   "source": [
    "**Task**\n",
    "\n",
    "**Gunakan teknik bootstrapping untuk menganalisis data flavor dan presentasikan temuan Anda kepada manajemen.**\n",
    "\n",
    "---\n"
   ]
  },
  {
   "cell_type": "markdown",
   "id": "e3308f61",
   "metadata": {},
   "source": [
    "**1. Siapkan Data:**\n",
    "\n",
    "- Anggap Anda memiliki DataFrame pandas bernama coffee_sample yang berisi 500 baris data kopi, dengan salah satu kolomnya adalah flavor. (Anda bisa membuat data simulasi jika perlu)."
   ]
  },
  {
   "cell_type": "markdown",
   "id": "6fe91987",
   "metadata": {},
   "source": [
    "---\n",
    "\n",
    "**2. Lakukan Prosedur Bootstrapping:**\n",
    "\n",
    "- Buat sebuah list kosong untuk menampung hasil statistik bootstrap Anda (misalnya, mean_flavors_bootstrap).\n",
    "- Tulis sebuah loop yang berjalan sebanyak 5000 kali.\n",
    "- Di dalam setiap iterasi loop:\n",
    "    - Buat sebuah bootstrap sample dari coffee_sample dengan cara mengambil sampel ulang berukuran 500 dengan pengembalian (replace=True).\n",
    "    - Hitung rata-rata (mean) dari kolom flavor pada bootstrap sample tersebut.\n",
    "    - Tambahkan nilai rata-rata ini ke dalam list yang sudah Anda siapkan."
   ]
  },
  {
   "cell_type": "markdown",
   "id": "26d4d8e6",
   "metadata": {},
   "source": [
    "---\n",
    "\n",
    "**3. Analisis Distribusi Bootstrap:**\n",
    "\n",
    "- Setelah loop selesai, konversikan list hasil Anda menjadi sebuah Series atau Array pandas/numpy.\n",
    "- Hitung rata-rata dari distribusi bootstrap Anda. Ini adalah estimasi terbaik Anda untuk rata-rata populasi.\n",
    "- Hitung standar deviasi dari distribusi bootstrap Anda. Ini adalah standard error dari rata-rata.\n",
    "- Buat histogram dari distribusi bootstrap Anda untuk memvisualisasikan sebaran rata-rata sampel."
   ]
  },
  {
   "cell_type": "markdown",
   "id": "2da79cf4",
   "metadata": {},
   "source": [
    "---\n",
    "\n",
    "**4. Hitung Interval Kepercayaan 95%:**\n",
    "\n",
    "- Gunakan metode kuantil (quantile) untuk menemukan interval kepercayaan 95%.\n",
    "- Cari nilai pada kuantil 2.5% (0.025) sebagai batas bawah.\n",
    "- Cari nilai pada kuantil 97.5% (0.975) sebagai batas atas."
   ]
  },
  {
   "cell_type": "markdown",
   "id": "47214015",
   "metadata": {},
   "source": [
    "---\n",
    "**5. Tulis Laporan Singkat:**\n",
    "\n",
    "- Sajikan temuan Anda dalam beberapa poin singkat yang mudah dimengerti oleh manajemen:\n",
    "    - Sebutkan rata-rata skor flavor dari sampel asli Anda.\n",
    "    - Sebutkan perkiraan rata-rata skor flavor populasi berdasarkan distribusi bootstrap Anda.\n",
    "    - Jelaskan standard error yang Anda temukan (misalnya, \"Ada ketidakpastian sekitar ±[nilai standard error] pada estimasi rata-rata kita\").\n",
    "    - Sajikan interval kepercayaan 95% yang Anda hitung (misalnya, \"Kami 95% yakin bahwa rata-rata skor flavor untuk semua kopi spesialti di dunia berada di antara [batas bawah] dan [batas atas]\")."
   ]
  }
 ],
 "metadata": {
  "language_info": {
   "name": "python"
  }
 },
 "nbformat": 4,
 "nbformat_minor": 5
}
