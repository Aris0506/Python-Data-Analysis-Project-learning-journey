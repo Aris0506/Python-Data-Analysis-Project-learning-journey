{
 "cells": [
  {
   "cell_type": "markdown",
   "id": "905e8d95",
   "metadata": {},
   "source": [
    "**Proyek : Analisis Lanjutan Data Mobil Bekas**\n",
    "\n",
    "\n",
    "***Skenario: Data mobil bekas Anda telah diperbarui dengan informasi baru, termasuk jarak tempuh. Manajer Anda meminta Anda untuk menyaring data berdasarkan beberapa kriteria spesifik untuk menemukan mobil yang paling sesuai dengan kebutuhan pelanggan.***\n",
    "\n",
    "----"
   ]
  },
  {
   "cell_type": "markdown",
   "id": "9ca453c0",
   "metadata": {},
   "source": [
    "**Tantangan Filtering:**\n",
    "1. Mobil Pilihan Keluarga: Pelanggan mencari mobil dengan transmisi 'Automatic' DAN tahun pembuatan di atas 2018.\n",
    "- Buat filter untuk kondisi ini dan tampilkan hasilnya.\n",
    "\n",
    "2. Mobil Budget atau Merek Populer: Pelanggan lain memiliki kriteria yang lebih fleksibel. Mereka mencari mobil yang harganya di bawah 200 juta ATAU mobilnya adalah merek 'Toyota'.\n",
    "- Buat filter untuk kondisi ini dan tampilkan hasilnya.\n",
    "\n",
    "3. Mobil \"Seperti Baru\" (Tantangan Ekstra): Pelanggan ini sangat spesifik. Mereka mencari mobil dengan kriteria:\n",
    "- Jarak tempuh kurang dari 30.000 km.\n",
    "- DAN merupakan mobil 'Automatic'.\n",
    "- DAN harganya di atas 280 juta.\n",
    "\n",
    "***Buat filter untuk ketiga kondisi ini dan tampilkan mobil mana yang cocok. Petunjuk: Anda bisa menggunakan np.logical_and dua kali, atau cara yang lebih ringkas dengan operator &.***\n",
    "\n",
    "----"
   ]
  },
  {
   "cell_type": "markdown",
   "id": "83022b6b",
   "metadata": {},
   "source": [
    "**Data Mobil Bekas yang Diperbarui**"
   ]
  },
  {
   "cell_type": "code",
   "execution_count": 28,
   "id": "f2f87877",
   "metadata": {},
   "outputs": [
    {
     "data": {
      "application/vnd.microsoft.datawrangler.viewer.v0+json": {
       "columns": [
        {
         "name": "index",
         "rawType": "int64",
         "type": "integer"
        },
        {
         "name": "merek",
         "rawType": "object",
         "type": "string"
        },
        {
         "name": "tahun",
         "rawType": "int64",
         "type": "integer"
        },
        {
         "name": "harga_juta",
         "rawType": "int64",
         "type": "integer"
        },
        {
         "name": "transmisi",
         "rawType": "object",
         "type": "string"
        },
        {
         "name": "jarak_tempuh_km",
         "rawType": "int64",
         "type": "integer"
        }
       ],
       "ref": "eed6c498-574e-4648-ab1f-8fb2a0ddc1e3",
       "rows": [
        [
         "0",
         "Toyota",
         "2019",
         "250",
         "Automatic",
         "40000"
        ],
        [
         "1",
         "Honda",
         "2020",
         "280",
         "Manual",
         "30000"
        ],
        [
         "2",
         "Suzuki",
         "2018",
         "180",
         "Manual",
         "60000"
        ],
        [
         "3",
         "Daihatsu",
         "2019",
         "170",
         "Manual",
         "50000"
        ],
        [
         "4",
         "Mitsubishi",
         "2021",
         "300",
         "Automatic",
         "15000"
        ]
       ],
       "shape": {
        "columns": 5,
        "rows": 5
       }
      },
      "text/html": [
       "<div>\n",
       "<style scoped>\n",
       "    .dataframe tbody tr th:only-of-type {\n",
       "        vertical-align: middle;\n",
       "    }\n",
       "\n",
       "    .dataframe tbody tr th {\n",
       "        vertical-align: top;\n",
       "    }\n",
       "\n",
       "    .dataframe thead th {\n",
       "        text-align: right;\n",
       "    }\n",
       "</style>\n",
       "<table border=\"1\" class=\"dataframe\">\n",
       "  <thead>\n",
       "    <tr style=\"text-align: right;\">\n",
       "      <th></th>\n",
       "      <th>merek</th>\n",
       "      <th>tahun</th>\n",
       "      <th>harga_juta</th>\n",
       "      <th>transmisi</th>\n",
       "      <th>jarak_tempuh_km</th>\n",
       "    </tr>\n",
       "  </thead>\n",
       "  <tbody>\n",
       "    <tr>\n",
       "      <th>0</th>\n",
       "      <td>Toyota</td>\n",
       "      <td>2019</td>\n",
       "      <td>250</td>\n",
       "      <td>Automatic</td>\n",
       "      <td>40000</td>\n",
       "    </tr>\n",
       "    <tr>\n",
       "      <th>1</th>\n",
       "      <td>Honda</td>\n",
       "      <td>2020</td>\n",
       "      <td>280</td>\n",
       "      <td>Manual</td>\n",
       "      <td>30000</td>\n",
       "    </tr>\n",
       "    <tr>\n",
       "      <th>2</th>\n",
       "      <td>Suzuki</td>\n",
       "      <td>2018</td>\n",
       "      <td>180</td>\n",
       "      <td>Manual</td>\n",
       "      <td>60000</td>\n",
       "    </tr>\n",
       "    <tr>\n",
       "      <th>3</th>\n",
       "      <td>Daihatsu</td>\n",
       "      <td>2019</td>\n",
       "      <td>170</td>\n",
       "      <td>Manual</td>\n",
       "      <td>50000</td>\n",
       "    </tr>\n",
       "    <tr>\n",
       "      <th>4</th>\n",
       "      <td>Mitsubishi</td>\n",
       "      <td>2021</td>\n",
       "      <td>300</td>\n",
       "      <td>Automatic</td>\n",
       "      <td>15000</td>\n",
       "    </tr>\n",
       "  </tbody>\n",
       "</table>\n",
       "</div>"
      ],
      "text/plain": [
       "        merek  tahun  harga_juta  transmisi  jarak_tempuh_km\n",
       "0      Toyota   2019         250  Automatic            40000\n",
       "1       Honda   2020         280     Manual            30000\n",
       "2      Suzuki   2018         180     Manual            60000\n",
       "3    Daihatsu   2019         170     Manual            50000\n",
       "4  Mitsubishi   2021         300  Automatic            15000"
      ]
     },
     "execution_count": 28,
     "metadata": {},
     "output_type": "execute_result"
    }
   ],
   "source": [
    "import pandas as pd\n",
    "import numpy as np\n",
    "\n",
    "data_mobil_lengkap = {\n",
    "    'merek': ['Toyota', 'Honda', 'Suzuki', 'Daihatsu', 'Mitsubishi', 'Nissan', 'Mazda'],\n",
    "    'tahun': [2019, 2020, 2018, 2019, 2021, 2017, 2020],\n",
    "    'harga_juta': [250, 280, 180, 170, 300, 190, 290],\n",
    "    'transmisi': ['Automatic', 'Manual', 'Manual', 'Manual', 'Automatic', 'Automatic', 'Automatic'],\n",
    "    'jarak_tempuh_km': [40000, 30000, 60000, 50000, 15000, 70000, 25000]\n",
    "}\n",
    "\n",
    "df_mobil_lengkap = pd.DataFrame(data_mobil_lengkap)\n",
    "df_mobil_lengkap.head()\n"
   ]
  },
  {
   "cell_type": "markdown",
   "id": "979d208a",
   "metadata": {},
   "source": [
    "---"
   ]
  },
  {
   "cell_type": "markdown",
   "id": "3f7fa572",
   "metadata": {},
   "source": [
    "**1.Mobil Pilihan Keluarga: Pelanggan mencari mobil dengan transmisi 'Automatic' DAN tahun pembuatan di atas 2018**\n",
    "- Buat filter untuk kondisi ini dan tampilkan hasilnya."
   ]
  },
  {
   "cell_type": "code",
   "execution_count": 29,
   "id": "de3ded96",
   "metadata": {},
   "outputs": [
    {
     "data": {
      "application/vnd.microsoft.datawrangler.viewer.v0+json": {
       "columns": [
        {
         "name": "index",
         "rawType": "int64",
         "type": "integer"
        },
        {
         "name": "merek",
         "rawType": "object",
         "type": "string"
        },
        {
         "name": "tahun",
         "rawType": "int64",
         "type": "integer"
        },
        {
         "name": "harga_juta",
         "rawType": "int64",
         "type": "integer"
        },
        {
         "name": "transmisi",
         "rawType": "object",
         "type": "string"
        },
        {
         "name": "jarak_tempuh_km",
         "rawType": "int64",
         "type": "integer"
        }
       ],
       "ref": "e70e0cf7-cd2d-4451-8aa8-025af4a91470",
       "rows": [
        [
         "4",
         "Mitsubishi",
         "2021",
         "300",
         "Automatic",
         "15000"
        ],
        [
         "6",
         "Mazda",
         "2020",
         "290",
         "Automatic",
         "25000"
        ]
       ],
       "shape": {
        "columns": 5,
        "rows": 2
       }
      },
      "text/html": [
       "<div>\n",
       "<style scoped>\n",
       "    .dataframe tbody tr th:only-of-type {\n",
       "        vertical-align: middle;\n",
       "    }\n",
       "\n",
       "    .dataframe tbody tr th {\n",
       "        vertical-align: top;\n",
       "    }\n",
       "\n",
       "    .dataframe thead th {\n",
       "        text-align: right;\n",
       "    }\n",
       "</style>\n",
       "<table border=\"1\" class=\"dataframe\">\n",
       "  <thead>\n",
       "    <tr style=\"text-align: right;\">\n",
       "      <th></th>\n",
       "      <th>merek</th>\n",
       "      <th>tahun</th>\n",
       "      <th>harga_juta</th>\n",
       "      <th>transmisi</th>\n",
       "      <th>jarak_tempuh_km</th>\n",
       "    </tr>\n",
       "  </thead>\n",
       "  <tbody>\n",
       "    <tr>\n",
       "      <th>4</th>\n",
       "      <td>Mitsubishi</td>\n",
       "      <td>2021</td>\n",
       "      <td>300</td>\n",
       "      <td>Automatic</td>\n",
       "      <td>15000</td>\n",
       "    </tr>\n",
       "    <tr>\n",
       "      <th>6</th>\n",
       "      <td>Mazda</td>\n",
       "      <td>2020</td>\n",
       "      <td>290</td>\n",
       "      <td>Automatic</td>\n",
       "      <td>25000</td>\n",
       "    </tr>\n",
       "  </tbody>\n",
       "</table>\n",
       "</div>"
      ],
      "text/plain": [
       "        merek  tahun  harga_juta  transmisi  jarak_tempuh_km\n",
       "4  Mitsubishi   2021         300  Automatic            15000\n",
       "6       Mazda   2020         290  Automatic            25000"
      ]
     },
     "execution_count": 29,
     "metadata": {},
     "output_type": "execute_result"
    }
   ],
   "source": [
    "mobil_keluarga = np.logical_and(df_mobil_lengkap[\"transmisi\"] == \"Automatic\", df_mobil_lengkap[\"tahun\"] > 2019)\n",
    "df_mobil_keluarga = df_mobil_lengkap[mobil_keluarga]\n",
    "df_mobil_keluarga"
   ]
  },
  {
   "cell_type": "markdown",
   "id": "d6634d6c",
   "metadata": {},
   "source": [
    "---"
   ]
  },
  {
   "cell_type": "markdown",
   "id": "3b03eb35",
   "metadata": {},
   "source": [
    "**2.Mobil Budget atau Merek Populer: Pelanggan lain memiliki kriteria yang lebih fleksibel. Mereka mencari mobil yang harganya di bawah 200 juta ATAU mobilnya adalah merek 'Toyota'.**\n",
    "- Buat filter untuk kondisi ini dan tampilkan hasilnya."
   ]
  },
  {
   "cell_type": "code",
   "execution_count": 30,
   "id": "bf6a5f3b",
   "metadata": {},
   "outputs": [
    {
     "data": {
      "application/vnd.microsoft.datawrangler.viewer.v0+json": {
       "columns": [
        {
         "name": "index",
         "rawType": "int64",
         "type": "integer"
        },
        {
         "name": "merek",
         "rawType": "object",
         "type": "string"
        },
        {
         "name": "tahun",
         "rawType": "int64",
         "type": "integer"
        },
        {
         "name": "harga_juta",
         "rawType": "int64",
         "type": "integer"
        },
        {
         "name": "transmisi",
         "rawType": "object",
         "type": "string"
        },
        {
         "name": "jarak_tempuh_km",
         "rawType": "int64",
         "type": "integer"
        }
       ],
       "ref": "b298dc1f-1ea3-4716-abda-d2b8df423bd5",
       "rows": [
        [
         "0",
         "Toyota",
         "2019",
         "250",
         "Automatic",
         "40000"
        ],
        [
         "2",
         "Suzuki",
         "2018",
         "180",
         "Manual",
         "60000"
        ],
        [
         "3",
         "Daihatsu",
         "2019",
         "170",
         "Manual",
         "50000"
        ],
        [
         "5",
         "Nissan",
         "2017",
         "190",
         "Automatic",
         "70000"
        ]
       ],
       "shape": {
        "columns": 5,
        "rows": 4
       }
      },
      "text/html": [
       "<div>\n",
       "<style scoped>\n",
       "    .dataframe tbody tr th:only-of-type {\n",
       "        vertical-align: middle;\n",
       "    }\n",
       "\n",
       "    .dataframe tbody tr th {\n",
       "        vertical-align: top;\n",
       "    }\n",
       "\n",
       "    .dataframe thead th {\n",
       "        text-align: right;\n",
       "    }\n",
       "</style>\n",
       "<table border=\"1\" class=\"dataframe\">\n",
       "  <thead>\n",
       "    <tr style=\"text-align: right;\">\n",
       "      <th></th>\n",
       "      <th>merek</th>\n",
       "      <th>tahun</th>\n",
       "      <th>harga_juta</th>\n",
       "      <th>transmisi</th>\n",
       "      <th>jarak_tempuh_km</th>\n",
       "    </tr>\n",
       "  </thead>\n",
       "  <tbody>\n",
       "    <tr>\n",
       "      <th>0</th>\n",
       "      <td>Toyota</td>\n",
       "      <td>2019</td>\n",
       "      <td>250</td>\n",
       "      <td>Automatic</td>\n",
       "      <td>40000</td>\n",
       "    </tr>\n",
       "    <tr>\n",
       "      <th>2</th>\n",
       "      <td>Suzuki</td>\n",
       "      <td>2018</td>\n",
       "      <td>180</td>\n",
       "      <td>Manual</td>\n",
       "      <td>60000</td>\n",
       "    </tr>\n",
       "    <tr>\n",
       "      <th>3</th>\n",
       "      <td>Daihatsu</td>\n",
       "      <td>2019</td>\n",
       "      <td>170</td>\n",
       "      <td>Manual</td>\n",
       "      <td>50000</td>\n",
       "    </tr>\n",
       "    <tr>\n",
       "      <th>5</th>\n",
       "      <td>Nissan</td>\n",
       "      <td>2017</td>\n",
       "      <td>190</td>\n",
       "      <td>Automatic</td>\n",
       "      <td>70000</td>\n",
       "    </tr>\n",
       "  </tbody>\n",
       "</table>\n",
       "</div>"
      ],
      "text/plain": [
       "      merek  tahun  harga_juta  transmisi  jarak_tempuh_km\n",
       "0    Toyota   2019         250  Automatic            40000\n",
       "2    Suzuki   2018         180     Manual            60000\n",
       "3  Daihatsu   2019         170     Manual            50000\n",
       "5    Nissan   2017         190  Automatic            70000"
      ]
     },
     "execution_count": 30,
     "metadata": {},
     "output_type": "execute_result"
    }
   ],
   "source": [
    "flexible_customer = np.logical_or(df_mobil_lengkap[\"harga_juta\"] < 200, df_mobil_lengkap[\"merek\"] == \"Toyota\")\n",
    "df_flexible_customer = df_mobil_lengkap[flexible_customer]\n",
    "df_flexible_customer"
   ]
  },
  {
   "cell_type": "markdown",
   "id": "6f9b514a",
   "metadata": {},
   "source": [
    "---"
   ]
  },
  {
   "cell_type": "markdown",
   "id": "4b98e218",
   "metadata": {},
   "source": [
    "**3. Mobil \"Seperti Baru\" (Tantangan Ekstra): Pelanggan ini sangat spesifik. Mereka mencari mobil dengan kriteria:**\n",
    "- Jarak tempuh kurang dari 30.000 km.\n",
    "- DAN merupakan mobil 'Automatic'.\n",
    "- DAN harganya di atas 280 juta."
   ]
  },
  {
   "cell_type": "code",
   "execution_count": 31,
   "id": "cdb6c245",
   "metadata": {},
   "outputs": [
    {
     "data": {
      "application/vnd.microsoft.datawrangler.viewer.v0+json": {
       "columns": [
        {
         "name": "index",
         "rawType": "int64",
         "type": "integer"
        },
        {
         "name": "merek",
         "rawType": "object",
         "type": "string"
        },
        {
         "name": "tahun",
         "rawType": "int64",
         "type": "integer"
        },
        {
         "name": "harga_juta",
         "rawType": "int64",
         "type": "integer"
        },
        {
         "name": "transmisi",
         "rawType": "object",
         "type": "string"
        },
        {
         "name": "jarak_tempuh_km",
         "rawType": "int64",
         "type": "integer"
        }
       ],
       "ref": "5e1d16f7-503b-4a5f-beb0-e5e1e804abca",
       "rows": [
        [
         "4",
         "Mitsubishi",
         "2021",
         "300",
         "Automatic",
         "15000"
        ],
        [
         "6",
         "Mazda",
         "2020",
         "290",
         "Automatic",
         "25000"
        ]
       ],
       "shape": {
        "columns": 5,
        "rows": 2
       }
      },
      "text/html": [
       "<div>\n",
       "<style scoped>\n",
       "    .dataframe tbody tr th:only-of-type {\n",
       "        vertical-align: middle;\n",
       "    }\n",
       "\n",
       "    .dataframe tbody tr th {\n",
       "        vertical-align: top;\n",
       "    }\n",
       "\n",
       "    .dataframe thead th {\n",
       "        text-align: right;\n",
       "    }\n",
       "</style>\n",
       "<table border=\"1\" class=\"dataframe\">\n",
       "  <thead>\n",
       "    <tr style=\"text-align: right;\">\n",
       "      <th></th>\n",
       "      <th>merek</th>\n",
       "      <th>tahun</th>\n",
       "      <th>harga_juta</th>\n",
       "      <th>transmisi</th>\n",
       "      <th>jarak_tempuh_km</th>\n",
       "    </tr>\n",
       "  </thead>\n",
       "  <tbody>\n",
       "    <tr>\n",
       "      <th>4</th>\n",
       "      <td>Mitsubishi</td>\n",
       "      <td>2021</td>\n",
       "      <td>300</td>\n",
       "      <td>Automatic</td>\n",
       "      <td>15000</td>\n",
       "    </tr>\n",
       "    <tr>\n",
       "      <th>6</th>\n",
       "      <td>Mazda</td>\n",
       "      <td>2020</td>\n",
       "      <td>290</td>\n",
       "      <td>Automatic</td>\n",
       "      <td>25000</td>\n",
       "    </tr>\n",
       "  </tbody>\n",
       "</table>\n",
       "</div>"
      ],
      "text/plain": [
       "        merek  tahun  harga_juta  transmisi  jarak_tempuh_km\n",
       "4  Mitsubishi   2021         300  Automatic            15000\n",
       "6       Mazda   2020         290  Automatic            25000"
      ]
     },
     "execution_count": 31,
     "metadata": {},
     "output_type": "execute_result"
    }
   ],
   "source": [
    "filter_mobil = (\n",
    "    (df_mobil_lengkap['jarak_tempuh_km'] < 30000) & (df_mobil_lengkap['transmisi'] == 'Automatic') & (df_mobil_lengkap['harga_juta'] > 280))\n",
    "df_mobil_spesifik = df_mobil_lengkap[filter_mobil]\n",
    "df_mobil_spesifik\n",
    "\n",
    "\n",
    "\n",
    "# additional filtering examples\n",
    "# filter_mobil = np.logical_and(df_mobil_lengkap['jarak_tempuh_km'] < 30000,\n",
    "#                               np.logical_and(df_mobil_lengkap['transmisi'] == 'Automatic', df_mobil_lengkap['harga_juta'] > 280)\n",
    "# )\n",
    "# df_mobil_spesifik = df_mobil_lengkap[filter_mobil]\n",
    "# df_mobil_spesifik\n"
   ]
  },
  {
   "cell_type": "code",
   "execution_count": null,
   "id": "261bc881",
   "metadata": {},
   "outputs": [],
   "source": []
  }
 ],
 "metadata": {
  "kernelspec": {
   "display_name": "Python 3",
   "language": "python",
   "name": "python3"
  },
  "language_info": {
   "codemirror_mode": {
    "name": "ipython",
    "version": 3
   },
   "file_extension": ".py",
   "mimetype": "text/x-python",
   "name": "python",
   "nbconvert_exporter": "python",
   "pygments_lexer": "ipython3",
   "version": "3.12.4"
  }
 },
 "nbformat": 4,
 "nbformat_minor": 5
}
