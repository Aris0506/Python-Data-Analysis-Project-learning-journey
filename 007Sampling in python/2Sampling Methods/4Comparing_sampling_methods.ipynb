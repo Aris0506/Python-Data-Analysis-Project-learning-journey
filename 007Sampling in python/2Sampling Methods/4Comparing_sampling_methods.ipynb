{
 "cells": [
  {
   "cell_type": "code",
   "execution_count": null,
   "id": "5e5cd98c",
   "metadata": {},
   "outputs": [],
   "source": [
    "# 3 kinds of sampling\n",
    "\n",
    "# Create a list of unique RelationshipSatisfaction values\n",
    "satisfaction_unique = list(attrition_pop[\"RelationshipSatisfaction\"].unique())\n",
    "\n",
    "# Randomly sample 2 unique satisfaction values\n",
    "satisfaction_samp = random.sample(satisfaction_unique, k=2)\n",
    "\n",
    "# Filter for satisfaction_samp and clear unused categories from RelationshipSatisfaction\n",
    "satis_condition = attrition_pop[\"RelationshipSatisfaction\"].isin(satisfaction_samp)\n",
    "attrition_clust_prep = attrition_pop[satis_condition]\n",
    "attrition_clust_prep[\"RelationshipSatisfaction\"] = attrition_clust_prep[\"RelationshipSatisfaction\"].cat.remove_unused_categories()\n",
    "\n",
    "# Perform cluster sampling on the selected group, getting 0.25 of attrition_pop\n",
    "attrition_clust = attrition_clust_prep.groupby(\"RelationshipSatisfaction\")\\\n",
    "    .sample(n=len(attrition_pop) // 4, random_state=2022)"
   ]
  },
  {
   "cell_type": "code",
   "execution_count": null,
   "id": "d11ab0fe",
   "metadata": {},
   "outputs": [],
   "source": [
    "# Comparing point estimates\n",
    "\n",
    "# Mean Attrition by RelationshipSatisfaction group\n",
    "mean_attrition_pop = attrition_pop.groupby(\"RelationshipSatisfaction\")[\"Attrition\"].mean()\n",
    "\n",
    "# Print the result\n",
    "print(mean_attrition_pop)\n",
    "\n",
    "\n",
    "############################\n",
    "\n",
    "\n",
    "# Calculate the same thing for the simple random sample \n",
    "mean_attrition_srs = attrition_srs.groupby(\"RelationshipSatisfaction\")[\"Attrition\"].mean()\n",
    "\n",
    "\n",
    "# Print the result\n",
    "print(mean_attrition_srs)\n",
    "\n",
    "\n",
    "###############################\n",
    "\n",
    "\n",
    "# Calculate the same thing for the stratified sample \n",
    "mean_attrition_strat = attrition_strat.groupby(\"RelationshipSatisfaction\")[\"Attrition\"].mean()\n",
    "\n",
    "\n",
    "# Print the result\n",
    "print(mean_attrition_strat)\n",
    "\n",
    "\n",
    "#################\n",
    "\n",
    "# Calculate the same thing for the cluster sample \n",
    "mean_attrition_clust = attrition_clust.groupby(\"RelationshipSatisfaction\")[\"Attrition\"].mean()\n",
    "\n",
    "\n",
    "# Print the result\n",
    "print(mean_attrition_clust)\n",
    "\n"
   ]
  }
 ],
 "metadata": {
  "language_info": {
   "name": "python"
  }
 },
 "nbformat": 4,
 "nbformat_minor": 5
}
