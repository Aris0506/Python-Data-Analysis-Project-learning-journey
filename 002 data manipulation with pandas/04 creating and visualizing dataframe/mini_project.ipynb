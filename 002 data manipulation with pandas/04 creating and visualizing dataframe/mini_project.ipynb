{
 "cells": [
  {
   "cell_type": "markdown",
   "id": "2e5cf972",
   "metadata": {},
   "source": [
    "**Proyek Akhir Bab: Visualisasi dan Analisis Akhir**\n",
    "\n",
    "**Skenario: Anda hampir selesai! Laporan analisis Anda sudah hampir lengkap. Sebagai langkah terakhir, manajer penjualan ingin Anda membuat beberapa visualisasi kunci dan juga membersihkan data dari nilai-nilai yang mungkin hilang sebelum disajikan.**\n",
    "\n",
    "---"
   ]
  },
  {
   "cell_type": "markdown",
   "id": "0fc74a17",
   "metadata": {},
   "source": [
    "**Tantangan**\n",
    "\n",
    "**1. Buat Visualisasi Laporan Penjualan Harian**\n",
    "\n",
    "- Buat sebuah Line Plot yang menunjukkan tren 'Total Pendapatan' dari hari ke hari.\n",
    "\n",
    "- Petunjuk: Anda perlu mengelompokkan data berdasarkan 'Tanggal' dan menjumlahkan 'Total Pendapatan' untuk setiap tanggal terlebih dahulu.\n",
    "\n",
    "**2. Tangani Nilai yang Hilang (NaN)**\n",
    "\n",
    "- Periksa apakah ada nilai yang hilang di dalam df_penjualan dan tampilkan jumlahnya per kolom.\n",
    "\n",
    "- Karena 'Harga Satuan' untuk 'Webcam' hilang, kita tidak bisa menghitung 'Total Pendapatan'-nya. Hapus semua baris yang memiliki nilai hilang.\n",
    "\n",
    "- Simpan hasilnya ke DataFrame baru bernama df_bersih.\n",
    "\n",
    "- Tampilkan df_bersih untuk memastikan baris 'Webcam' sudah terhapus.\n",
    "\n",
    "**3. Visualisasi Hubungan Antar Variabel**\n",
    "\n",
    "- Gunakan df_bersih yang sudah tidak memiliki nilai hilang.\n",
    "\n",
    "- Buat sebuah Scatter Plot untuk melihat hubungan antara 'Harga Satuan' (sumbu x) dan 'Jumlah Terjual' (sumbu y).\n",
    "\n",
    "- Beri judul plot \"Hubungan Harga vs. Jumlah Penjualan\" dan berikan label yang sesuai untuk sumbu x dan y.\n",
    "[Gambar scatter plot harga vs. penjualan]\n",
    "\n",
    "**4. (Tantangan Ekstra) Analisis Distribusi Harga**\n",
    "\n",
    "- Gunakan df_bersih.\n",
    "\n",
    "- Buat sebuah Histogram untuk kolom 'Harga Satuan' untuk melihat distribusi harga produk yang terjual.\n",
    "[Gambar histogram harga produk]\n",
    "\n",
    "---"
   ]
  },
  {
   "cell_type": "markdown",
   "id": "9541f225",
   "metadata": {},
   "source": [
    "**Data yang Digunakan**\n",
    "\n",
    "- **Gunakan DataFrame df_penjualan yang sudah kita gunakan di bab ini. Untuk membuatnya lebih realistis, kita akan menambahkan beberapa nilai yang hilang (NaN)**"
   ]
  },
  {
   "cell_type": "code",
   "execution_count": 2,
   "id": "87b46157",
   "metadata": {},
   "outputs": [
    {
     "data": {
      "application/vnd.microsoft.datawrangler.viewer.v0+json": {
       "columns": [
        {
         "name": "index",
         "rawType": "int64",
         "type": "integer"
        },
        {
         "name": "Tanggal",
         "rawType": "object",
         "type": "string"
        },
        {
         "name": "Produk",
         "rawType": "object",
         "type": "string"
        },
        {
         "name": "Kategori",
         "rawType": "object",
         "type": "string"
        },
        {
         "name": "Harga Satuan",
         "rawType": "float64",
         "type": "float"
        },
        {
         "name": "Jumlah Terjual",
         "rawType": "int64",
         "type": "integer"
        },
        {
         "name": "Total Pendapatan",
         "rawType": "float64",
         "type": "float"
        }
       ],
       "ref": "6c59d034-1cb9-4fa6-bd6f-37e9952efaf9",
       "rows": [
        [
         "0",
         "2024-07-01",
         "Laptop",
         "Elektronik",
         "15000000.0",
         "5",
         "75000000.0"
        ],
        [
         "1",
         "2024-07-01",
         "Mouse",
         "Aksesoris",
         "150000.0",
         "10",
         "1500000.0"
        ],
        [
         "2",
         "2024-07-02",
         "Laptop",
         "Elektronik",
         "15500000.0",
         "3",
         "46500000.0"
        ],
        [
         "3",
         "2024-07-03",
         "Monitor",
         "Elektronik",
         "3500000.0",
         "7",
         "24500000.0"
        ],
        [
         "4",
         "2024-07-03",
         "Keyboard",
         "Aksesoris",
         "750000.0",
         "8",
         "6000000.0"
        ],
        [
         "5",
         "2024-07-04",
         "Mouse",
         "Aksesoris",
         "160000.0",
         "12",
         "1920000.0"
        ],
        [
         "6",
         "2024-07-05",
         "Webcam",
         "Elektronik",
         null,
         "3",
         null
        ]
       ],
       "shape": {
        "columns": 6,
        "rows": 7
       }
      },
      "text/html": [
       "<div>\n",
       "<style scoped>\n",
       "    .dataframe tbody tr th:only-of-type {\n",
       "        vertical-align: middle;\n",
       "    }\n",
       "\n",
       "    .dataframe tbody tr th {\n",
       "        vertical-align: top;\n",
       "    }\n",
       "\n",
       "    .dataframe thead th {\n",
       "        text-align: right;\n",
       "    }\n",
       "</style>\n",
       "<table border=\"1\" class=\"dataframe\">\n",
       "  <thead>\n",
       "    <tr style=\"text-align: right;\">\n",
       "      <th></th>\n",
       "      <th>Tanggal</th>\n",
       "      <th>Produk</th>\n",
       "      <th>Kategori</th>\n",
       "      <th>Harga Satuan</th>\n",
       "      <th>Jumlah Terjual</th>\n",
       "      <th>Total Pendapatan</th>\n",
       "    </tr>\n",
       "  </thead>\n",
       "  <tbody>\n",
       "    <tr>\n",
       "      <th>0</th>\n",
       "      <td>2024-07-01</td>\n",
       "      <td>Laptop</td>\n",
       "      <td>Elektronik</td>\n",
       "      <td>15000000.0</td>\n",
       "      <td>5</td>\n",
       "      <td>75000000.0</td>\n",
       "    </tr>\n",
       "    <tr>\n",
       "      <th>1</th>\n",
       "      <td>2024-07-01</td>\n",
       "      <td>Mouse</td>\n",
       "      <td>Aksesoris</td>\n",
       "      <td>150000.0</td>\n",
       "      <td>10</td>\n",
       "      <td>1500000.0</td>\n",
       "    </tr>\n",
       "    <tr>\n",
       "      <th>2</th>\n",
       "      <td>2024-07-02</td>\n",
       "      <td>Laptop</td>\n",
       "      <td>Elektronik</td>\n",
       "      <td>15500000.0</td>\n",
       "      <td>3</td>\n",
       "      <td>46500000.0</td>\n",
       "    </tr>\n",
       "    <tr>\n",
       "      <th>3</th>\n",
       "      <td>2024-07-03</td>\n",
       "      <td>Monitor</td>\n",
       "      <td>Elektronik</td>\n",
       "      <td>3500000.0</td>\n",
       "      <td>7</td>\n",
       "      <td>24500000.0</td>\n",
       "    </tr>\n",
       "    <tr>\n",
       "      <th>4</th>\n",
       "      <td>2024-07-03</td>\n",
       "      <td>Keyboard</td>\n",
       "      <td>Aksesoris</td>\n",
       "      <td>750000.0</td>\n",
       "      <td>8</td>\n",
       "      <td>6000000.0</td>\n",
       "    </tr>\n",
       "    <tr>\n",
       "      <th>5</th>\n",
       "      <td>2024-07-04</td>\n",
       "      <td>Mouse</td>\n",
       "      <td>Aksesoris</td>\n",
       "      <td>160000.0</td>\n",
       "      <td>12</td>\n",
       "      <td>1920000.0</td>\n",
       "    </tr>\n",
       "    <tr>\n",
       "      <th>6</th>\n",
       "      <td>2024-07-05</td>\n",
       "      <td>Webcam</td>\n",
       "      <td>Elektronik</td>\n",
       "      <td>NaN</td>\n",
       "      <td>3</td>\n",
       "      <td>NaN</td>\n",
       "    </tr>\n",
       "  </tbody>\n",
       "</table>\n",
       "</div>"
      ],
      "text/plain": [
       "      Tanggal    Produk    Kategori  Harga Satuan  Jumlah Terjual  \\\n",
       "0  2024-07-01    Laptop  Elektronik    15000000.0               5   \n",
       "1  2024-07-01     Mouse   Aksesoris      150000.0              10   \n",
       "2  2024-07-02    Laptop  Elektronik    15500000.0               3   \n",
       "3  2024-07-03   Monitor  Elektronik     3500000.0               7   \n",
       "4  2024-07-03  Keyboard   Aksesoris      750000.0               8   \n",
       "5  2024-07-04     Mouse   Aksesoris      160000.0              12   \n",
       "6  2024-07-05    Webcam  Elektronik           NaN               3   \n",
       "\n",
       "   Total Pendapatan  \n",
       "0        75000000.0  \n",
       "1         1500000.0  \n",
       "2        46500000.0  \n",
       "3        24500000.0  \n",
       "4         6000000.0  \n",
       "5         1920000.0  \n",
       "6               NaN  "
      ]
     },
     "execution_count": 2,
     "metadata": {},
     "output_type": "execute_result"
    }
   ],
   "source": [
    "import pandas as pd\n",
    "import numpy as np\n",
    "import matplotlib.pyplot as plt\n",
    "\n",
    "data_penjualan = {\n",
    "    'Tanggal' : ['2024-07-01', '2024-07-01', '2024-07-02', '2024-07-03', '2024-07-03', '2024-07-04', '2024-07-05'],\n",
    "    'Produk' : ['Laptop', 'Mouse', 'Laptop', 'Monitor', 'Keyboard', 'Mouse', 'Webcam'],\n",
    "    'Kategori': ['Elektronik', 'Aksesoris', 'Elektronik', 'Elektronik', 'Aksesoris', 'Aksesoris', 'Elektronik'],\n",
    "    'Harga Satuan': [15000000, 150000, 15500000, 3500000, 750000, 160000, np.nan],\n",
    "    'Jumlah Terjual': [5, 10, 3, 7, 8, 12, 3]\n",
    "}\n",
    "df_penjualan = pd.DataFrame(data_penjualan)\n",
    "df_penjualan['Total Pendapatan'] = df_penjualan['Harga Satuan'] * df_penjualan['Jumlah Terjual']\n",
    "df_penjualan"
   ]
  },
  {
   "cell_type": "markdown",
   "id": "4c6a0d9f",
   "metadata": {},
   "source": [
    "---"
   ]
  },
  {
   "cell_type": "markdown",
   "id": "008d3a3a",
   "metadata": {},
   "source": [
    "**1. Buat Visualisasi Laporan Penjualan Harian**"
   ]
  },
  {
   "cell_type": "code",
   "execution_count": 6,
   "id": "ac9cb8b8",
   "metadata": {},
   "outputs": [
    {
     "data": {
      "image/png": "[encoded data removed]",
      "text/plain": [
       "<Figure size 1600x400 with 1 Axes>"
      ]
     },
     "metadata": {},
     "output_type": "display_data"
    }
   ],
   "source": [
    "import matplotlib.pyplot as plt\n",
    "\n",
    "plt.figure(figsize=(16, 4))\n",
    "daily_report_sales = df_penjualan.groupby('Tanggal')['Total Pendapatan'].sum()\n",
    "daily_report_sales.plot(kind='line', x='Tanggal', y='Total Pendapatan')\n",
    "plt.title('Laporan Total Pendapatan Harian')\n",
    "plt.xlabel('Tanggal')\n",
    "plt.ylabel('Total')\n",
    "\n",
    "plt.show()"
   ]
  },
  {
   "cell_type": "markdown",
   "id": "324df1ba",
   "metadata": {},
   "source": [
    "---"
   ]
  },
  {
   "cell_type": "markdown",
   "id": "b82146e2",
   "metadata": {},
   "source": [
    "**2. Tangani Nilai yang Hilang (NaN)**"
   ]
  },
  {
   "cell_type": "code",
   "execution_count": 8,
   "id": "831f52d8",
   "metadata": {},
   "outputs": [
    {
     "data": {
      "application/vnd.microsoft.datawrangler.viewer.v0+json": {
       "columns": [
        {
         "name": "index",
         "rawType": "object",
         "type": "string"
        },
        {
         "name": "0",
         "rawType": "int64",
         "type": "integer"
        }
       ],
       "ref": "5e095683-02e3-4433-b1c3-3c0cabfbb96e",
       "rows": [
        [
         "Tanggal",
         "0"
        ],
        [
         "Produk",
         "0"
        ],
        [
         "Kategori",
         "0"
        ],
        [
         "Harga Satuan",
         "1"
        ],
        [
         "Jumlah Terjual",
         "0"
        ],
        [
         "Total Pendapatan",
         "1"
        ]
       ],
       "shape": {
        "columns": 1,
        "rows": 6
       }
      },
      "text/plain": [
       "Tanggal             0\n",
       "Produk              0\n",
       "Kategori            0\n",
       "Harga Satuan        1\n",
       "Jumlah Terjual      0\n",
       "Total Pendapatan    1\n",
       "dtype: int64"
      ]
     },
     "execution_count": 8,
     "metadata": {},
     "output_type": "execute_result"
    }
   ],
   "source": [
    "df_penjualan.isna().sum()"
   ]
  },
  {
   "cell_type": "code",
   "execution_count": 9,
   "id": "dcbd27b7",
   "metadata": {},
   "outputs": [
    {
     "data": {
      "application/vnd.microsoft.datawrangler.viewer.v0+json": {
       "columns": [
        {
         "name": "index",
         "rawType": "int64",
         "type": "integer"
        },
        {
         "name": "Tanggal",
         "rawType": "object",
         "type": "string"
        },
        {
         "name": "Produk",
         "rawType": "object",
         "type": "string"
        },
        {
         "name": "Kategori",
         "rawType": "object",
         "type": "string"
        },
        {
         "name": "Harga Satuan",
         "rawType": "float64",
         "type": "float"
        },
        {
         "name": "Jumlah Terjual",
         "rawType": "int64",
         "type": "integer"
        },
        {
         "name": "Total Pendapatan",
         "rawType": "float64",
         "type": "float"
        }
       ],
       "ref": "3614a9d3-7c7f-403c-b9a6-bb9db175d4fa",
       "rows": [
        [
         "0",
         "2024-07-01",
         "Laptop",
         "Elektronik",
         "15000000.0",
         "5",
         "75000000.0"
        ],
        [
         "1",
         "2024-07-01",
         "Mouse",
         "Aksesoris",
         "150000.0",
         "10",
         "1500000.0"
        ],
        [
         "2",
         "2024-07-02",
         "Laptop",
         "Elektronik",
         "15500000.0",
         "3",
         "46500000.0"
        ],
        [
         "3",
         "2024-07-03",
         "Monitor",
         "Elektronik",
         "3500000.0",
         "7",
         "24500000.0"
        ],
        [
         "4",
         "2024-07-03",
         "Keyboard",
         "Aksesoris",
         "750000.0",
         "8",
         "6000000.0"
        ],
        [
         "5",
         "2024-07-04",
         "Mouse",
         "Aksesoris",
         "160000.0",
         "12",
         "1920000.0"
        ]
       ],
       "shape": {
        "columns": 6,
        "rows": 6
       }
      },
      "text/html": [
       "<div>\n",
       "<style scoped>\n",
       "    .dataframe tbody tr th:only-of-type {\n",
       "        vertical-align: middle;\n",
       "    }\n",
       "\n",
       "    .dataframe tbody tr th {\n",
       "        vertical-align: top;\n",
       "    }\n",
       "\n",
       "    .dataframe thead th {\n",
       "        text-align: right;\n",
       "    }\n",
       "</style>\n",
       "<table border=\"1\" class=\"dataframe\">\n",
       "  <thead>\n",
       "    <tr style=\"text-align: right;\">\n",
       "      <th></th>\n",
       "      <th>Tanggal</th>\n",
       "      <th>Produk</th>\n",
       "      <th>Kategori</th>\n",
       "      <th>Harga Satuan</th>\n",
       "      <th>Jumlah Terjual</th>\n",
       "      <th>Total Pendapatan</th>\n",
       "    </tr>\n",
       "  </thead>\n",
       "  <tbody>\n",
       "    <tr>\n",
       "      <th>0</th>\n",
       "      <td>2024-07-01</td>\n",
       "      <td>Laptop</td>\n",
       "      <td>Elektronik</td>\n",
       "      <td>15000000.0</td>\n",
       "      <td>5</td>\n",
       "      <td>75000000.0</td>\n",
       "    </tr>\n",
       "    <tr>\n",
       "      <th>1</th>\n",
       "      <td>2024-07-01</td>\n",
       "      <td>Mouse</td>\n",
       "      <td>Aksesoris</td>\n",
       "      <td>150000.0</td>\n",
       "      <td>10</td>\n",
       "      <td>1500000.0</td>\n",
       "    </tr>\n",
       "    <tr>\n",
       "      <th>2</th>\n",
       "      <td>2024-07-02</td>\n",
       "      <td>Laptop</td>\n",
       "      <td>Elektronik</td>\n",
       "      <td>15500000.0</td>\n",
       "      <td>3</td>\n",
       "      <td>46500000.0</td>\n",
       "    </tr>\n",
       "    <tr>\n",
       "      <th>3</th>\n",
       "      <td>2024-07-03</td>\n",
       "      <td>Monitor</td>\n",
       "      <td>Elektronik</td>\n",
       "      <td>3500000.0</td>\n",
       "      <td>7</td>\n",
       "      <td>24500000.0</td>\n",
       "    </tr>\n",
       "    <tr>\n",
       "      <th>4</th>\n",
       "      <td>2024-07-03</td>\n",
       "      <td>Keyboard</td>\n",
       "      <td>Aksesoris</td>\n",
       "      <td>750000.0</td>\n",
       "      <td>8</td>\n",
       "      <td>6000000.0</td>\n",
       "    </tr>\n",
       "    <tr>\n",
       "      <th>5</th>\n",
       "      <td>2024-07-04</td>\n",
       "      <td>Mouse</td>\n",
       "      <td>Aksesoris</td>\n",
       "      <td>160000.0</td>\n",
       "      <td>12</td>\n",
       "      <td>1920000.0</td>\n",
       "    </tr>\n",
       "  </tbody>\n",
       "</table>\n",
       "</div>"
      ],
      "text/plain": [
       "      Tanggal    Produk    Kategori  Harga Satuan  Jumlah Terjual  \\\n",
       "0  2024-07-01    Laptop  Elektronik    15000000.0               5   \n",
       "1  2024-07-01     Mouse   Aksesoris      150000.0              10   \n",
       "2  2024-07-02    Laptop  Elektronik    15500000.0               3   \n",
       "3  2024-07-03   Monitor  Elektronik     3500000.0               7   \n",
       "4  2024-07-03  Keyboard   Aksesoris      750000.0               8   \n",
       "5  2024-07-04     Mouse   Aksesoris      160000.0              12   \n",
       "\n",
       "   Total Pendapatan  \n",
       "0        75000000.0  \n",
       "1         1500000.0  \n",
       "2        46500000.0  \n",
       "3        24500000.0  \n",
       "4         6000000.0  \n",
       "5         1920000.0  "
      ]
     },
     "execution_count": 9,
     "metadata": {},
     "output_type": "execute_result"
    }
   ],
   "source": [
    "df_bersih = df_penjualan.dropna()\n",
    "df_bersih"
   ]
  },
  {
   "cell_type": "markdown",
   "id": "4968e29f",
   "metadata": {},
   "source": [
    "----"
   ]
  },
  {
   "cell_type": "markdown",
   "id": "24dcab89",
   "metadata": {},
   "source": [
    "**3. Visualisasi Hubungan Antar Variabel**"
   ]
  },
  {
   "cell_type": "code",
   "execution_count": 11,
   "id": "55f09f71",
   "metadata": {},
   "outputs": [
    {
     "data": {
      "image/png": "[encoded data removed]",
      "text/plain": [
       "<Figure size 640x480 with 1 Axes>"
      ]
     },
     "metadata": {},
     "output_type": "display_data"
    },
    {
     "data": {
      "text/plain": [
       "-0.8893607674911812"
      ]
     },
     "execution_count": 11,
     "metadata": {},
     "output_type": "execute_result"
    }
   ],
   "source": [
    "df_bersih.plot(kind='scatter', x='Harga Satuan', y='Jumlah Terjual')\n",
    "plt.title(\"Hubungan Harga Satuan dan Total Penjualan\")\n",
    "plt.xlabel('Harga')\n",
    "plt.ylabel('Jumlah Terjual')\n",
    "plt.show()\n",
    "\n",
    "\n",
    "df_bersih['Harga Satuan'].corr(df_bersih['Jumlah Terjual'])"
   ]
  },
  {
   "cell_type": "markdown",
   "id": "a10e8347",
   "metadata": {},
   "source": [
    "----"
   ]
  },
  {
   "cell_type": "markdown",
   "id": "ec73564e",
   "metadata": {},
   "source": [
    "**4. (Tantangan Ekstra) Analisis Distribusi Harga**"
   ]
  },
  {
   "cell_type": "code",
   "execution_count": 14,
   "id": "dedb8664",
   "metadata": {},
   "outputs": [
    {
     "data": {
      "image/png": "[encoded data removed]",
      "text/plain": [
       "<Figure size 640x480 with 1 Axes>"
      ]
     },
     "metadata": {},
     "output_type": "display_data"
    }
   ],
   "source": [
    "df_bersih['Harga Satuan'].hist()\n",
    "plt.title('Distribusi Harga Produk Satuan')\n",
    "plt.show()\n"
   ]
  },
  {
   "cell_type": "markdown",
   "id": "399a9880",
   "metadata": {},
   "source": [
    "---"
   ]
  }
 ],
 "metadata": {
  "kernelspec": {
   "display_name": "Python 3",
   "language": "python",
   "name": "python3"
  },
  "language_info": {
   "codemirror_mode": {
    "name": "ipython",
    "version": 3
   },
   "file_extension": ".py",
   "mimetype": "text/x-python",
   "name": "python",
   "nbconvert_exporter": "python",
   "pygments_lexer": "ipython3",
   "version": "3.12.4"
  }
 },
 "nbformat": 4,
 "nbformat_minor": 5
}
