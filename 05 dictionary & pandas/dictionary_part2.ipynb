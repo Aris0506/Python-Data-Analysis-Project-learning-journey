{
 "cells": [
  {
   "cell_type": "code",
   "execution_count": null,
   "id": "0ce46305",
   "metadata": {},
   "outputs": [],
   "source": [
    "# Dictionary Manipulation (1)\n",
    "\n",
    "# If you know how to access a dictionary, you can also assign a new value to it. \n",
    "# To add a new key-value pair to europe you can use something like this:\n",
    "\n",
    "#europe['iceland'] = 'reykjavik'\n",
    "\n",
    "# Instructions\n",
    "\n",
    "# Add the key 'italy' with the value 'rome' to europe.\n",
    "# To assert that 'italy' is now a key in europe, print out 'italy' in europe.\n",
    "# Add another key:value pair to europe: 'poland' is the key, 'warsaw' is the corresponding value.\n",
    "# Print out europe.\n",
    "\n",
    "\n",
    "# Definition of dictionary\n",
    "europe = {'spain':'madrid', 'france':'paris', 'germany':'berlin', 'norway':'oslo' }\n",
    "\n",
    "# Add italy to europe\n",
    "europe['italy'] = 'rome'\n",
    "\n",
    "# Print out italy in europe\n",
    "print('italy' in europe)\n",
    "\n",
    "# Add poland to europe\n",
    "europe['poland'] = 'warsaw'\n",
    "\n",
    "# Print europe\n",
    "print(europe)"
   ]
  },
  {
   "cell_type": "code",
   "execution_count": null,
   "id": "11a490b9",
   "metadata": {},
   "outputs": [],
   "source": [
    "# Dictionary Manipulation (2)\n",
    "\n",
    "# somebody thought it would be funny to mess with your accurately generated dictionary. \n",
    "# An adapted version of the europe dictionary is available in the script.\n",
    "\n",
    "#Can you clean up? Do not do this by adapting the definition of europe, \n",
    "# but by adding Python commands to the script to update and remove key:value pairs.\n",
    "\n",
    "# Instructions\n",
    "\n",
    "# The capital of Germany is not 'bonn'; it's 'berlin'. Update its value.\n",
    "# Australia is not in Europe, Austria is! Remove the key 'australia' from europe.\n",
    "# Print out europe to see if your cleaning work paid off.\n",
    "\n",
    "# Definition of dictionary\n",
    "europe = {'spain':'madrid', 'france':'paris', 'germany':'bonn',\n",
    "          'norway':'oslo', 'italy':'rome', 'poland':'warsaw',\n",
    "          'australia':'vienna' }\n",
    "\n",
    "# Update capital of germany\n",
    "europe['germany'] = 'berlin'\n",
    "\n",
    "# Remove australia\n",
    "del(europe['australia'])\n",
    "\n",
    "# Print europe\n",
    "print(europe)"
   ]
  },
  {
   "cell_type": "code",
   "execution_count": 3,
   "id": "6fd726d5",
   "metadata": {},
   "outputs": [
    {
     "name": "stdout",
     "output_type": "stream",
     "text": [
      "paris\n"
     ]
    },
    {
     "data": {
      "text/plain": [
       "{'spain': {'capital': 'madrid', 'population': 46.77},\n",
       " 'france': {'capital': 'paris', 'population': 66.03},\n",
       " 'germany': {'capital': 'berlin', 'population': 80.62},\n",
       " 'norway': {'capital': 'oslo', 'population': 5.084},\n",
       " 'italy': {'capital': 'rome', 'population': 59.83}}"
      ]
     },
     "execution_count": 3,
     "metadata": {},
     "output_type": "execute_result"
    }
   ],
   "source": [
    "# Dictionariception\n",
    "#use chained square brackets to select and print out the capital of France.\n",
    "#Create a dictionary, named data, with the keys 'capital' and 'population'. Set them to 'rome' and 59.83, respectively.\n",
    "#Add a new key-value pair to europe; the key is 'italy' and the value is data, the dictionary you just built.\n",
    "\n",
    "\n",
    "# Dictionary of dictionaries\n",
    "europe = { 'spain': { 'capital':'madrid', 'population':46.77 },\n",
    "           'france': { 'capital':'paris', 'population':66.03 },\n",
    "           'germany': { 'capital':'berlin', 'population':80.62 },\n",
    "           'norway': { 'capital':'oslo', 'population':5.084 } }\n",
    "\n",
    "\n",
    "# Print out the capital of France\n",
    "print(europe['france']['capital'])\n",
    "\n",
    "# Create sub-dictionary data\n",
    "data = {'capital':'rome', 'population':59.83}\n",
    "\n",
    "# Add data to europe under key 'italy'\n",
    "europe['italy'] = data\n",
    "\n",
    "# Print europe\n",
    "europe\n"
   ]
  },
  {
   "cell_type": "code",
   "execution_count": null,
   "id": "a9cfcbc7",
   "metadata": {},
   "outputs": [],
   "source": []
  }
 ],
 "metadata": {
  "kernelspec": {
   "display_name": "Python 3",
   "language": "python",
   "name": "python3"
  },
  "language_info": {
   "codemirror_mode": {
    "name": "ipython",
    "version": 3
   },
   "file_extension": ".py",
   "mimetype": "text/x-python",
   "name": "python",
   "nbconvert_exporter": "python",
   "pygments_lexer": "ipython3",
   "version": "3.12.4"
  }
 },
 "nbformat": 4,
 "nbformat_minor": 5
}
