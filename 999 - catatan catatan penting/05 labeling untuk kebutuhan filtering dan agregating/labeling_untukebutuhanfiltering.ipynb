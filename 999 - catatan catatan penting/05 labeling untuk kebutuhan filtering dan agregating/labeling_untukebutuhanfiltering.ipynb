{
 "cells": [
  {
   "cell_type": "markdown",
   "id": "8e954b65",
   "metadata": {},
   "source": [
    "###  Catatan: Memberi Label pada Data (Boolean Masking)\n",
    "\n",
    "#### Tanggal: 13 Agustus 2025\n",
    "\n",
    "Tujuan:\n",
    "Membuat sebuah kolom baru yang berisi label True atau False untuk setiap baris data berdasarkan suatu kondisi. Ini adalah langkah persiapan fundamental sebelum melakukan filtering atau agregasi.\n",
    "\n"
   ]
  },
  {
   "cell_type": "markdown",
   "id": "29b941b9",
   "metadata": {},
   "source": [
    "\n",
    "Analogi: Memberi Stiker 🏷️\n",
    "Proses ini seperti memeriksa setiap item dalam sebuah daftar dan memberi stiker (True/False) berdasarkan aturan tertentu, tanpa membuang atau memindahkan item apa pun."
   ]
  },
  {
   "cell_type": "code",
   "execution_count": null,
   "id": "57e8fbe7",
   "metadata": {},
   "outputs": [],
   "source": [
    "# Contoh Kode:\n",
    "\n",
    "import pandas as pd\n",
    "\n",
    "# Data awal\n",
    "data = {'nama': ['Ani', 'Budi', 'Candra'], 'tipe_tiket': ['Reguler', 'VIP', 'VIP']}\n",
    "peserta = pd.DataFrame(data)\n",
    "\n",
    "# --- Proses Memberi Label ---\n",
    "# Membuat kolom 'adalah_vip' yang isinya True/False\n",
    "peserta['adalah_vip'] = peserta['tipe_tiket'] == 'VIP'\n",
    "\n",
    "# Hasilnya:\n",
    "#      nama tipe_tiket  adalah_vip\n",
    "# 0     Ani     Reguler       False\n",
    "# 1    Budi         VIP        True\n",
    "# 2  Candra         VIP        True"
   ]
  },
  {
   "cell_type": "markdown",
   "id": "0c2543ab",
   "metadata": {},
   "source": [
    "### Fungsi Paling Umum Setelah Memberi Label\n",
    "Setelah Anda berhasil membuat kolom label (True/False) seperti adalah_vip di atas, ada dua hal paling umum yang biasa dilakukan selanjutnya:"
   ]
  },
  {
   "cell_type": "code",
   "execution_count": null,
   "id": "9db8e1c3",
   "metadata": {
    "vscode": {
     "languageId": "latex"
    }
   },
   "outputs": [],
   "source": [
    "1. Melakukan Filtering (Memilih Baris)\n",
    "Ini adalah penggunaan yang paling sering. Anda menggunakan kolom label tersebut untuk menyaring dan mengambil hanya baris yang Anda inginkan (biasanya yang berlabel True).\n",
    "\n",
    "Tujuan: Untuk membuat DataFrame baru yang hanya berisi data yang memenuhi kondisi."
   ]
  },
  {
   "cell_type": "code",
   "execution_count": null,
   "id": "594d6658",
   "metadata": {},
   "outputs": [],
   "source": [
    "# Mengambil HANYA peserta yang punya label 'adalah_vip' == True\n",
    "peserta_vip_saja = peserta[peserta['adalah_vip'] == True]\n",
    "\n",
    "print(peserta_vip_saja)\n",
    "# Outputnya adalah tabel yang hanya berisi Budi dan Candra"
   ]
  },
  {
   "cell_type": "code",
   "execution_count": null,
   "id": "9271c9ac",
   "metadata": {
    "vscode": {
     "languageId": "latex"
    }
   },
   "outputs": [],
   "source": [
    "2. Melakukan Agregasi (Menghitung Proporsi/Persentase)\n",
    "Ini adalah teknik yang kita pelajari dengan data Nobel. Anda mengelompokkan data berdasarkan kategori lain, lalu menghitung rata-rata dari kolom label True/False untuk mendapatkan persentase.\n",
    "\n",
    "Tujuan: Untuk menjawab pertanyaan seperti, \"Berapa persentase VIP di setiap grup?\""
   ]
  },
  {
   "cell_type": "code",
   "execution_count": null,
   "id": "1999cd83",
   "metadata": {},
   "outputs": [],
   "source": [
    "# (Bayangkan kita punya kolom 'grup' di data peserta)\n",
    "# proporsi_vip_per_grup = peserta.groupby('grup')['adalah_vip'].mean()\n",
    "\n",
    "# Contoh dari kasus Nobel kita:\n",
    "# Menghitung proporsi pemenang perempuan per dekade\n",
    "prop_female_winners = nobel.groupby('decade')['female_winner'].mean()"
   ]
  },
  {
   "cell_type": "code",
   "execution_count": 1,
   "id": "83bf984d",
   "metadata": {
    "vscode": {
     "languageId": "latex"
    }
   },
   "outputs": [
    {
     "ename": "SyntaxError",
     "evalue": "invalid syntax (2712835903.py, line 1)",
     "output_type": "error",
     "traceback": [
      "\u001b[1;36m  Cell \u001b[1;32mIn[1], line 1\u001b[1;36m\u001b[0m\n\u001b[1;33m    Singkatnya, setelah Anda memberi label, langkah selanjutnya hampir selalu antara memilih data tersebut atau menghitung proporsinya dalam sebuah kelompok.\u001b[0m\n\u001b[1;37m                        ^\u001b[0m\n\u001b[1;31mSyntaxError\u001b[0m\u001b[1;31m:\u001b[0m invalid syntax\n"
     ]
    }
   ],
   "source": [
    "Singkatnya, setelah Anda memberi label, langkah selanjutnya hampir selalu antara memilih data tersebut atau menghitung proporsinya dalam sebuah kelompok."
   ]
  }
 ],
 "metadata": {
  "kernelspec": {
   "display_name": "Python 3",
   "language": "python",
   "name": "python3"
  },
  "language_info": {
   "codemirror_mode": {
    "name": "ipython",
    "version": 3
   },
   "file_extension": ".py",
   "mimetype": "text/x-python",
   "name": "python",
   "nbconvert_exporter": "python",
   "pygments_lexer": "ipython3",
   "version": "3.12.4"
  }
 },
 "nbformat": 4,
 "nbformat_minor": 5
}
