{
 "cells": [
  {
   "cell_type": "markdown",
   "id": "3f7e4a7e",
   "metadata": {},
   "source": [
    "**Proyek Mini: Analisis Data Penjualan Sederhana**\n",
    "\n",
    "***ini adalah project sederhana untuk menantang diri sendiri menggunakan konsep numpy array***\n",
    "\n",
    "---"
   ]
  },
  {
   "cell_type": "markdown",
   "id": "770478b7",
   "metadata": {},
   "source": [
    "**Tantangan:**"
   ]
  },
  {
   "cell_type": "markdown",
   "id": "8595d2b0",
   "metadata": {
    "vscode": {
     "languageId": "bat"
    }
   },
   "source": [
    "**1. Hitung Total Pendapatan per Produk**\n",
    "\n",
    "- Buat sebuah array baru bernama pendapatan_per_produk yang berisi total pendapatan untuk setiap produk.\n",
    "- Petunjuk: Gunakan operasi perkalian antara array harga_satuan dan unit_terjual.\n",
    "\n",
    "\n",
    "**2. Hitung Total Pendapatan Keseluruhan**\n",
    "\n",
    "- Hitung total pendapatan dari semua produk yang terjual.\n",
    "- Cetak hasilnya dengan format yang jelas, misalnya: Total pendapatan minggu lalu: Rp ...\n",
    "- Petunjuk: Gunakan fungsi np.sum() pada array pendapatan_per_produk.\n",
    "\n",
    "\n",
    "**3. Temukan Produk Paling Laris (Berdasarkan Unit Terjual)**\n",
    "\n",
    "- Cari tahu berapa jumlah unit terjual yang paling tinggi.\n",
    "- Tampilkan nama produk yang sesuai dengan jumlah penjualan tertinggi tersebut.\n",
    "- Petunjuk: Gunakan np.max() untuk mencari nilai tertinggi dan np.argmax() untuk mencari indeksnya.\n",
    "\n",
    "\n",
    "**Filter Produk dengan Pendapatan Tinggi**\n",
    "\n",
    "- Tampilkan nama-nama produk yang menghasilkan pendapatan di atas Rp 10.000.000.\n",
    "- Petunjuk: Buat sebuah boolean mask dari pendapatan_per_produk lalu gunakan untuk memfilter array nama_produk.\n",
    "\n",
    "\n",
    "\n",
    "---"
   ]
  },
  {
   "cell_type": "code",
   "execution_count": 1,
   "id": "f7a4cdd8",
   "metadata": {},
   "outputs": [],
   "source": [
    "import numpy as np\n",
    "\n",
    "# Data penjualan\n",
    "nama_produk = np.array(['Monitor', 'Keyboard', 'Mouse', 'Webcam', 'Headset'])\n",
    "harga_satuan = np.array([1500000, 750000, 450000, 800000, 650000])\n",
    "unit_terjual = np.array([10, 15, 22, 8, 12])\n",
    "\n",
    "# --- TULIS KODE ANDA DI BAWAH INI ---\n"
   ]
  },
  {
   "cell_type": "code",
   "execution_count": 2,
   "id": "208681bd",
   "metadata": {},
   "outputs": [
    {
     "name": "stdout",
     "output_type": "stream",
     "text": [
      "Pendapatan per produk: [15000000 11250000  9900000  6400000  7800000]\n",
      "Total pendapatan keseluruhan Rp: 50350000\n"
     ]
    }
   ],
   "source": [
    "# 1. Hitung total pendapatan untuk setiap produk\n",
    "\n",
    "pendapatan_per_produk = harga_satuan * unit_terjual\n",
    "print(\"Pendapatan per produk:\", pendapatan_per_produk)\n",
    "\n",
    "# 2. Hitung total pendapatan keseluruhan\n",
    "total_pendapatan = np.sum(pendapatan_per_produk)\n",
    "print(\"Total pendapatan keseluruhan Rp:\", total_pendapatan)"
   ]
  },
  {
   "cell_type": "code",
   "execution_count": 3,
   "id": "823a5c79",
   "metadata": {},
   "outputs": [
    {
     "name": "stdout",
     "output_type": "stream",
     "text": [
      "Produk dengan pendapatan tertinggi: Monitor\n",
      "Produk dengan pendapatan terendah: Webcam\n"
     ]
    }
   ],
   "source": [
    "\n",
    "#3. Tentukan produk dengan pendapatan tertinggi atau paling laris!\n",
    "\n",
    "produk_tertinggi = nama_produk[np.argmax(pendapatan_per_produk)]    \n",
    "print(\"Produk dengan pendapatan tertinggi:\", produk_tertinggi)\n",
    "\n",
    "# additional challenge\n",
    "produk_terendah = nama_produk[np.argmin(pendapatan_per_produk)]\n",
    "print(\"Produk dengan pendapatan terendah:\", produk_terendah)"
   ]
  },
  {
   "cell_type": "code",
   "execution_count": 4,
   "id": "3ab0042f",
   "metadata": {},
   "outputs": [
    {
     "name": "stdout",
     "output_type": "stream",
     "text": [
      "Produk dengan pendapatan diatas Rp10.000.000: ['Monitor' 'Keyboard']\n"
     ]
    }
   ],
   "source": [
    "#4 filter produk dengan pendapatan tertinggi \n",
    "threshold = 10000000\n",
    "produk_terlaris = nama_produk[pendapatan_per_produk > threshold]\n",
    "print(\"Produk dengan pendapatan diatas Rp10.000.000:\", produk_terlaris)"
   ]
  },
  {
   "cell_type": "code",
   "execution_count": 5,
   "id": "eee8829f",
   "metadata": {},
   "outputs": [
    {
     "name": "stdout",
     "output_type": "stream",
     "text": [
      "3 Produk dengan pendapatan tertinggi: ['Mouse' 'Keyboard' 'Monitor']\n"
     ]
    }
   ],
   "source": [
    "# additonal challenge\n",
    "# tampilkan 3 produk dengan pendapatan tertinggi\n",
    "top_3_produk = nama_produk[np.argsort(pendapatan_per_produk)[-3:]]  \n",
    "print(\"3 Produk dengan pendapatan tertinggi:\", top_3_produk)"
   ]
  },
  {
   "cell_type": "code",
   "execution_count": 6,
   "id": "05d20113",
   "metadata": {},
   "outputs": [
    {
     "data": {
      "image/png": "[encoded data removed]",
      "text/plain": [
       "<Figure size 640x480 with 1 Axes>"
      ]
     },
     "metadata": {},
     "output_type": "display_data"
    }
   ],
   "source": [
    "#visualisasi\n",
    "import matplotlib.pyplot as plt     \n",
    "plt.bar(nama_produk, pendapatan_per_produk)\n",
    "plt.xlabel('Nama Produk')   \n",
    "plt.ylabel('Pendapatan (Rp)')\n",
    "plt.title('Pendapatan per Produk')\n",
    "plt.show()"
   ]
  }
 ],
 "metadata": {
  "kernelspec": {
   "display_name": "Python 3",
   "language": "python",
   "name": "python3"
  },
  "language_info": {
   "codemirror_mode": {
    "name": "ipython",
    "version": 3
   },
   "file_extension": ".py",
   "mimetype": "text/x-python",
   "name": "python",
   "nbconvert_exporter": "python",
   "pygments_lexer": "ipython3",
   "version": "3.12.4"
  }
 },
 "nbformat": 4,
 "nbformat_minor": 5
}
