{
 "cells": [
  {
   "cell_type": "markdown",
   "id": "9e2c68a5",
   "metadata": {},
   "source": [
    "**Proyek: Analisis Eksplorasi Data (EDA) pada Dataset Penjualan Real Estate**\n",
    "\n",
    "\n",
    "**Tujuan:**\n",
    "Anda adalah seorang analis data di sebuah perusahaan properti. Anda diberi dataset penjualan rumah dan diminta untuk melakukan analisis eksplorasi untuk memahami faktor-faktor apa saja yang memengaruhi harga properti dan menemukan pola penjualan yang menarik.\n",
    "\n",
    "---"
   ]
  },
  {
   "cell_type": "markdown",
   "id": "5b385eb5",
   "metadata": {},
   "source": [
    "**Load Dataset**\n",
    "\n",
    "**1: Pemuatan dan Eksplorasi Awal**\n",
    "\n",
    "- Muat dataset ke dalam DataFrame pandas.\n",
    "- Gunakan .head(), .info(), dan .describe() untuk mendapatkan gambaran umum data. Identifikasi kolom mana yang memiliki tipe data yang salah atau data yang hilang."
   ]
  },
  {
   "cell_type": "code",
   "execution_count": 12,
   "id": "7a15f3b4",
   "metadata": {},
   "outputs": [
    {
     "name": "stdout",
     "output_type": "stream",
     "text": [
      "Path to dataset files: C:\\Users\\USER\\.cache\\kagglehub\\datasets\\subhiarjaria09\\real-estate-property-transactions-dataset\\versions\\1\n",
      "['V3.csv']\n"
     ]
    }
   ],
   "source": [
    "import kagglehub\n",
    "import os\n",
    "\n",
    "# Download latest version\n",
    "path = kagglehub.dataset_download(\"subhiarjaria09/real-estate-property-transactions-dataset\")\n",
    "\n",
    "print(\"Path to dataset files:\", path)\n",
    "\n",
    "\n",
    "# Cek file apa saja yang ada di folder dataset\n",
    "print(os.listdir(path))\n"
   ]
  },
  {
   "cell_type": "code",
   "execution_count": 13,
   "id": "0fb7392c",
   "metadata": {},
   "outputs": [],
   "source": [
    "file_path = os.path.join(path, \"V3.csv\")"
   ]
  },
  {
   "cell_type": "code",
   "execution_count": 14,
   "id": "8ae042cb",
   "metadata": {},
   "outputs": [],
   "source": [
    "import pandas as pd\n",
    "import matplotlib.pyplot as plt\n",
    "import seaborn as sns\n",
    "\n",
    "real_estate_trans_df = pd.read_csv(file_path)"
   ]
  },
  {
   "cell_type": "markdown",
   "id": "bee43aee",
   "metadata": {},
   "source": [
    "***muat dataset ke dataframe***"
   ]
  },
  {
   "cell_type": "code",
   "execution_count": 15,
   "id": "2f465dab",
   "metadata": {},
   "outputs": [
    {
     "name": "stdout",
     "output_type": "stream",
     "text": [
      "Dataset_penjualan Real estate\n"
     ]
    },
    {
     "data": {
      "application/vnd.microsoft.datawrangler.viewer.v0+json": {
       "columns": [
        {
         "name": "index",
         "rawType": "int64",
         "type": "integer"
        },
        {
         "name": "Date",
         "rawType": "object",
         "type": "string"
        },
        {
         "name": "Year",
         "rawType": "int64",
         "type": "integer"
        },
        {
         "name": "Locality",
         "rawType": "object",
         "type": "unknown"
        },
        {
         "name": "Estimated Value",
         "rawType": "float64",
         "type": "float"
        },
        {
         "name": "Sale Price",
         "rawType": "float64",
         "type": "float"
        },
        {
         "name": "Property",
         "rawType": "object",
         "type": "string"
        },
        {
         "name": "Residential",
         "rawType": "object",
         "type": "string"
        },
        {
         "name": "num_rooms",
         "rawType": "int64",
         "type": "integer"
        },
        {
         "name": "num_bathrooms",
         "rawType": "int64",
         "type": "integer"
        },
        {
         "name": "carpet_area",
         "rawType": "float64",
         "type": "float"
        },
        {
         "name": "property_tax_rate",
         "rawType": "float64",
         "type": "float"
        },
        {
         "name": "Face",
         "rawType": "object",
         "type": "string"
        }
       ],
       "ref": "4b299117-e046-48df-aa86-198d8f92be78",
       "rows": [
        [
         "0",
         "2009-01-02",
         "2009",
         "Waterbury",
         "111440.0",
         "185000.0",
         "Single Family",
         "Detached House",
         "3",
         "3",
         "996.0",
         "1.025953",
         "South"
        ],
        [
         "1",
         "2009-01-02",
         "2009",
         null,
         "73080.0",
         "152000.0",
         "Single Family",
         "Detached House",
         "3",
         "1",
         "935.0",
         "1.025953",
         "North"
        ],
        [
         "2",
         "2009-01-02",
         "2009",
         "Waterbury",
         "50540.0",
         "105000.0",
         "Single Family",
         "Detached House",
         "3",
         "1",
         "951.0",
         "1.025953",
         "East"
        ],
        [
         "3",
         "2009-01-02",
         "2009",
         "Norwalk",
         "571060.0",
         "1000000.0",
         "Single Family",
         "Detached House",
         "3",
         "2",
         null,
         "1.025953",
         "South"
        ],
        [
         "4",
         "2009-01-02",
         "2009",
         "Bridgeport",
         "4775276.0",
         "272900.0",
         "Single Family",
         "Detached House",
         "3",
         "1",
         "971.0",
         "1.025953",
         "East"
        ]
       ],
       "shape": {
        "columns": 12,
        "rows": 5
       }
      },
      "text/html": [
       "<div>\n",
       "<style scoped>\n",
       "    .dataframe tbody tr th:only-of-type {\n",
       "        vertical-align: middle;\n",
       "    }\n",
       "\n",
       "    .dataframe tbody tr th {\n",
       "        vertical-align: top;\n",
       "    }\n",
       "\n",
       "    .dataframe thead th {\n",
       "        text-align: right;\n",
       "    }\n",
       "</style>\n",
       "<table border=\"1\" class=\"dataframe\">\n",
       "  <thead>\n",
       "    <tr style=\"text-align: right;\">\n",
       "      <th></th>\n",
       "      <th>Date</th>\n",
       "      <th>Year</th>\n",
       "      <th>Locality</th>\n",
       "      <th>Estimated Value</th>\n",
       "      <th>Sale Price</th>\n",
       "      <th>Property</th>\n",
       "      <th>Residential</th>\n",
       "      <th>num_rooms</th>\n",
       "      <th>num_bathrooms</th>\n",
       "      <th>carpet_area</th>\n",
       "      <th>property_tax_rate</th>\n",
       "      <th>Face</th>\n",
       "    </tr>\n",
       "  </thead>\n",
       "  <tbody>\n",
       "    <tr>\n",
       "      <th>0</th>\n",
       "      <td>2009-01-02</td>\n",
       "      <td>2009</td>\n",
       "      <td>Waterbury</td>\n",
       "      <td>111440.0</td>\n",
       "      <td>185000.0</td>\n",
       "      <td>Single Family</td>\n",
       "      <td>Detached House</td>\n",
       "      <td>3</td>\n",
       "      <td>3</td>\n",
       "      <td>996.0</td>\n",
       "      <td>1.025953</td>\n",
       "      <td>South</td>\n",
       "    </tr>\n",
       "    <tr>\n",
       "      <th>1</th>\n",
       "      <td>2009-01-02</td>\n",
       "      <td>2009</td>\n",
       "      <td>NaN</td>\n",
       "      <td>73080.0</td>\n",
       "      <td>152000.0</td>\n",
       "      <td>Single Family</td>\n",
       "      <td>Detached House</td>\n",
       "      <td>3</td>\n",
       "      <td>1</td>\n",
       "      <td>935.0</td>\n",
       "      <td>1.025953</td>\n",
       "      <td>North</td>\n",
       "    </tr>\n",
       "    <tr>\n",
       "      <th>2</th>\n",
       "      <td>2009-01-02</td>\n",
       "      <td>2009</td>\n",
       "      <td>Waterbury</td>\n",
       "      <td>50540.0</td>\n",
       "      <td>105000.0</td>\n",
       "      <td>Single Family</td>\n",
       "      <td>Detached House</td>\n",
       "      <td>3</td>\n",
       "      <td>1</td>\n",
       "      <td>951.0</td>\n",
       "      <td>1.025953</td>\n",
       "      <td>East</td>\n",
       "    </tr>\n",
       "    <tr>\n",
       "      <th>3</th>\n",
       "      <td>2009-01-02</td>\n",
       "      <td>2009</td>\n",
       "      <td>Norwalk</td>\n",
       "      <td>571060.0</td>\n",
       "      <td>1000000.0</td>\n",
       "      <td>Single Family</td>\n",
       "      <td>Detached House</td>\n",
       "      <td>3</td>\n",
       "      <td>2</td>\n",
       "      <td>NaN</td>\n",
       "      <td>1.025953</td>\n",
       "      <td>South</td>\n",
       "    </tr>\n",
       "    <tr>\n",
       "      <th>4</th>\n",
       "      <td>2009-01-02</td>\n",
       "      <td>2009</td>\n",
       "      <td>Bridgeport</td>\n",
       "      <td>4775276.0</td>\n",
       "      <td>272900.0</td>\n",
       "      <td>Single Family</td>\n",
       "      <td>Detached House</td>\n",
       "      <td>3</td>\n",
       "      <td>1</td>\n",
       "      <td>971.0</td>\n",
       "      <td>1.025953</td>\n",
       "      <td>East</td>\n",
       "    </tr>\n",
       "  </tbody>\n",
       "</table>\n",
       "</div>"
      ],
      "text/plain": [
       "         Date  Year    Locality  Estimated Value  Sale Price       Property  \\\n",
       "0  2009-01-02  2009   Waterbury         111440.0    185000.0  Single Family   \n",
       "1  2009-01-02  2009         NaN          73080.0    152000.0  Single Family   \n",
       "2  2009-01-02  2009   Waterbury          50540.0    105000.0  Single Family   \n",
       "3  2009-01-02  2009     Norwalk         571060.0   1000000.0  Single Family   \n",
       "4  2009-01-02  2009  Bridgeport        4775276.0    272900.0  Single Family   \n",
       "\n",
       "      Residential  num_rooms  num_bathrooms  carpet_area  property_tax_rate  \\\n",
       "0  Detached House          3              3        996.0           1.025953   \n",
       "1  Detached House          3              1        935.0           1.025953   \n",
       "2  Detached House          3              1        951.0           1.025953   \n",
       "3  Detached House          3              2          NaN           1.025953   \n",
       "4  Detached House          3              1        971.0           1.025953   \n",
       "\n",
       "    Face  \n",
       "0  South  \n",
       "1  North  \n",
       "2   East  \n",
       "3  South  \n",
       "4   East  "
      ]
     },
     "execution_count": 15,
     "metadata": {},
     "output_type": "execute_result"
    }
   ],
   "source": [
    "print('Dataset_penjualan Real estate')\n",
    "real_estate_trans_df.head()"
   ]
  },
  {
   "cell_type": "markdown",
   "id": "aa7da47b",
   "metadata": {},
   "source": [
    "***get an overview***"
   ]
  },
  {
   "cell_type": "code",
   "execution_count": 16,
   "id": "7cae134a",
   "metadata": {},
   "outputs": [
    {
     "name": "stdout",
     "output_type": "stream",
     "text": [
      "<class 'pandas.core.frame.DataFrame'>\n",
      "RangeIndex: 10000 entries, 0 to 9999\n",
      "Data columns (total 12 columns):\n",
      " #   Column             Non-Null Count  Dtype  \n",
      "---  ------             --------------  -----  \n",
      " 0   Date               10000 non-null  object \n",
      " 1   Year               10000 non-null  int64  \n",
      " 2   Locality           8745 non-null   object \n",
      " 3   Estimated Value    8771 non-null   float64\n",
      " 4   Sale Price         10000 non-null  float64\n",
      " 5   Property           10000 non-null  object \n",
      " 6   Residential        10000 non-null  object \n",
      " 7   num_rooms          10000 non-null  int64  \n",
      " 8   num_bathrooms      10000 non-null  int64  \n",
      " 9   carpet_area        8718 non-null   float64\n",
      " 10  property_tax_rate  10000 non-null  float64\n",
      " 11  Face               10000 non-null  object \n",
      "dtypes: float64(4), int64(3), object(5)\n",
      "memory usage: 937.6+ KB\n"
     ]
    }
   ],
   "source": [
    "real_estate_trans_df.info()"
   ]
  },
  {
   "cell_type": "code",
   "execution_count": 17,
   "id": "16a086df",
   "metadata": {},
   "outputs": [
    {
     "data": {
      "application/vnd.microsoft.datawrangler.viewer.v0+json": {
       "columns": [
        {
         "name": "index",
         "rawType": "object",
         "type": "string"
        },
        {
         "name": "Year",
         "rawType": "float64",
         "type": "float"
        },
        {
         "name": "Estimated Value",
         "rawType": "float64",
         "type": "float"
        },
        {
         "name": "Sale Price",
         "rawType": "float64",
         "type": "float"
        },
        {
         "name": "num_rooms",
         "rawType": "float64",
         "type": "float"
        },
        {
         "name": "num_bathrooms",
         "rawType": "float64",
         "type": "float"
        },
        {
         "name": "carpet_area",
         "rawType": "float64",
         "type": "float"
        },
        {
         "name": "property_tax_rate",
         "rawType": "float64",
         "type": "float"
        }
       ],
       "ref": "626224e3-6bc5-49d2-9247-76641b3a9feb",
       "rows": [
        [
         "count",
         "10000.0",
         "8771.0",
         "10000.0",
         "10000.0",
         "10000.0",
         "8718.0",
         "10000.0"
        ],
        [
         "mean",
         "2015.8801",
         "444584.20704594685",
         "622474.8346",
         "3.3296",
         "2.334",
         "1111.6589814177564",
         "1.1435168593999998"
        ],
        [
         "std",
         "4.088030722673077",
         "751356.4590500176",
         "1029709.441727534",
         "0.8851226944432178",
         "1.209293280814833",
         "305.0584549064621",
         "0.1667620780888612"
        ],
        [
         "min",
         "2009.0",
         "0.0",
         "2000.0",
         "3.0",
         "1.0",
         "900.0",
         "1.003979"
        ],
        [
         "25%",
         "2012.0",
         "130525.0",
         "160000.0",
         "3.0",
         "1.0",
         "960.0",
         "1.0234955"
        ],
        [
         "50%",
         "2016.0",
         "243180.0",
         "340000.0",
         "3.0",
         "2.0",
         "1021.0",
         "1.0258995"
        ],
        [
         "75%",
         "2019.0",
         "441830.0",
         "630000.0",
         "3.0",
         "3.0",
         "1082.0",
         "1.348259"
        ],
        [
         "max",
         "2022.0",
         "21119910.0",
         "25750000.0",
         "8.0",
         "8.0",
         "2989.0",
         "1.422308"
        ]
       ],
       "shape": {
        "columns": 7,
        "rows": 8
       }
      },
      "text/html": [
       "<div>\n",
       "<style scoped>\n",
       "    .dataframe tbody tr th:only-of-type {\n",
       "        vertical-align: middle;\n",
       "    }\n",
       "\n",
       "    .dataframe tbody tr th {\n",
       "        vertical-align: top;\n",
       "    }\n",
       "\n",
       "    .dataframe thead th {\n",
       "        text-align: right;\n",
       "    }\n",
       "</style>\n",
       "<table border=\"1\" class=\"dataframe\">\n",
       "  <thead>\n",
       "    <tr style=\"text-align: right;\">\n",
       "      <th></th>\n",
       "      <th>Year</th>\n",
       "      <th>Estimated Value</th>\n",
       "      <th>Sale Price</th>\n",
       "      <th>num_rooms</th>\n",
       "      <th>num_bathrooms</th>\n",
       "      <th>carpet_area</th>\n",
       "      <th>property_tax_rate</th>\n",
       "    </tr>\n",
       "  </thead>\n",
       "  <tbody>\n",
       "    <tr>\n",
       "      <th>count</th>\n",
       "      <td>10000.000000</td>\n",
       "      <td>8.771000e+03</td>\n",
       "      <td>1.000000e+04</td>\n",
       "      <td>10000.000000</td>\n",
       "      <td>10000.000000</td>\n",
       "      <td>8718.000000</td>\n",
       "      <td>10000.000000</td>\n",
       "    </tr>\n",
       "    <tr>\n",
       "      <th>mean</th>\n",
       "      <td>2015.880100</td>\n",
       "      <td>4.445842e+05</td>\n",
       "      <td>6.224748e+05</td>\n",
       "      <td>3.329600</td>\n",
       "      <td>2.334000</td>\n",
       "      <td>1111.658981</td>\n",
       "      <td>1.143517</td>\n",
       "    </tr>\n",
       "    <tr>\n",
       "      <th>std</th>\n",
       "      <td>4.088031</td>\n",
       "      <td>7.513565e+05</td>\n",
       "      <td>1.029709e+06</td>\n",
       "      <td>0.885123</td>\n",
       "      <td>1.209293</td>\n",
       "      <td>305.058455</td>\n",
       "      <td>0.166762</td>\n",
       "    </tr>\n",
       "    <tr>\n",
       "      <th>min</th>\n",
       "      <td>2009.000000</td>\n",
       "      <td>0.000000e+00</td>\n",
       "      <td>2.000000e+03</td>\n",
       "      <td>3.000000</td>\n",
       "      <td>1.000000</td>\n",
       "      <td>900.000000</td>\n",
       "      <td>1.003979</td>\n",
       "    </tr>\n",
       "    <tr>\n",
       "      <th>25%</th>\n",
       "      <td>2012.000000</td>\n",
       "      <td>1.305250e+05</td>\n",
       "      <td>1.600000e+05</td>\n",
       "      <td>3.000000</td>\n",
       "      <td>1.000000</td>\n",
       "      <td>960.000000</td>\n",
       "      <td>1.023495</td>\n",
       "    </tr>\n",
       "    <tr>\n",
       "      <th>50%</th>\n",
       "      <td>2016.000000</td>\n",
       "      <td>2.431800e+05</td>\n",
       "      <td>3.400000e+05</td>\n",
       "      <td>3.000000</td>\n",
       "      <td>2.000000</td>\n",
       "      <td>1021.000000</td>\n",
       "      <td>1.025899</td>\n",
       "    </tr>\n",
       "    <tr>\n",
       "      <th>75%</th>\n",
       "      <td>2019.000000</td>\n",
       "      <td>4.418300e+05</td>\n",
       "      <td>6.300000e+05</td>\n",
       "      <td>3.000000</td>\n",
       "      <td>3.000000</td>\n",
       "      <td>1082.000000</td>\n",
       "      <td>1.348259</td>\n",
       "    </tr>\n",
       "    <tr>\n",
       "      <th>max</th>\n",
       "      <td>2022.000000</td>\n",
       "      <td>2.111991e+07</td>\n",
       "      <td>2.575000e+07</td>\n",
       "      <td>8.000000</td>\n",
       "      <td>8.000000</td>\n",
       "      <td>2989.000000</td>\n",
       "      <td>1.422308</td>\n",
       "    </tr>\n",
       "  </tbody>\n",
       "</table>\n",
       "</div>"
      ],
      "text/plain": [
       "               Year  Estimated Value    Sale Price     num_rooms  \\\n",
       "count  10000.000000     8.771000e+03  1.000000e+04  10000.000000   \n",
       "mean    2015.880100     4.445842e+05  6.224748e+05      3.329600   \n",
       "std        4.088031     7.513565e+05  1.029709e+06      0.885123   \n",
       "min     2009.000000     0.000000e+00  2.000000e+03      3.000000   \n",
       "25%     2012.000000     1.305250e+05  1.600000e+05      3.000000   \n",
       "50%     2016.000000     2.431800e+05  3.400000e+05      3.000000   \n",
       "75%     2019.000000     4.418300e+05  6.300000e+05      3.000000   \n",
       "max     2022.000000     2.111991e+07  2.575000e+07      8.000000   \n",
       "\n",
       "       num_bathrooms  carpet_area  property_tax_rate  \n",
       "count   10000.000000  8718.000000       10000.000000  \n",
       "mean        2.334000  1111.658981           1.143517  \n",
       "std         1.209293   305.058455           0.166762  \n",
       "min         1.000000   900.000000           1.003979  \n",
       "25%         1.000000   960.000000           1.023495  \n",
       "50%         2.000000  1021.000000           1.025899  \n",
       "75%         3.000000  1082.000000           1.348259  \n",
       "max         8.000000  2989.000000           1.422308  "
      ]
     },
     "execution_count": 17,
     "metadata": {},
     "output_type": "execute_result"
    }
   ],
   "source": [
    "real_estate_trans_df.describe()"
   ]
  },
  {
   "cell_type": "markdown",
   "id": "3a2394e3",
   "metadata": {},
   "source": [
    "---\n",
    "\n",
    "**2: Pembersihan dan Validasi Data**\n",
    "\n",
    "- Tangani Data Hilang: Lakukan imputasi untuk kolom Jumlah Kamar Tidur yang hilang. Pilihlah antara median atau modus dan berikan alasan Anda.\n",
    "- Konversi Tipe Data: Ubah kolom Tanggal Penjualan dari object menjadi datetime. Ubah Jumlah Kamar Tidur menjadi int.\n",
    "- Identifikasi Outlier: Gunakan box plot untuk memeriksa outlier pada kolom Harga (USD) dan Luas Bangunan (m2). Analisis outlier tersebut, apakah perlu dihapus atau dipertahankan? Jelaskan keputusan Anda."
   ]
  },
  {
   "cell_type": "markdown",
   "id": "56cb07dd",
   "metadata": {},
   "source": [
    "***tangani data yang hilang***"
   ]
  },
  {
   "cell_type": "code",
   "execution_count": 30,
   "id": "2627d46b",
   "metadata": {},
   "outputs": [
    {
     "name": "stdout",
     "output_type": "stream",
     "text": [
      "         Date  Year    Locality  Estimated Value  Sale Price       Property  \\\n",
      "0  2009-01-02  2009   Waterbury         111440.0    185000.0  Single Family   \n",
      "1  2009-01-02  2009         NaN          73080.0    152000.0  Single Family   \n",
      "2  2009-01-02  2009   Waterbury          50540.0    105000.0  Single Family   \n",
      "3  2009-01-02  2009     Norwalk         571060.0   1000000.0  Single Family   \n",
      "4  2009-01-02  2009  Bridgeport        4775276.0    272900.0  Single Family   \n",
      "\n",
      "      Residential  num_rooms  num_bathrooms  carpet_area  property_tax_rate  \\\n",
      "0  Detached House          3              3        996.0           1.025953   \n",
      "1  Detached House          3              1        935.0           1.025953   \n",
      "2  Detached House          3              1        951.0           1.025953   \n",
      "3  Detached House          3              2          NaN           1.025953   \n",
      "4  Detached House          3              1        971.0           1.025953   \n",
      "\n",
      "    Face  num_bedrooms  \n",
      "0  South             0  \n",
      "1  North             2  \n",
      "2   East             2  \n",
      "3  South             1  \n",
      "4   East             2  \n"
     ]
    }
   ],
   "source": [
    "# buat kolom kamar tidur anggap  pengurangan ruangan dan kamar mandi menghasilkan kamar tidur\n",
    "# jika ada nilai yang 0 anggap itu missing value\n",
    "real_estate_trans_df['num_bedrooms'] = real_estate_trans_df['num_rooms'] - real_estate_trans_df['num_bathrooms']\n",
    "\n",
    "print(real_estate_trans_df.head())"
   ]
  },
  {
   "cell_type": "code",
   "execution_count": 31,
   "id": "2a606c8b",
   "metadata": {},
   "outputs": [
    {
     "name": "stdout",
     "output_type": "stream",
     "text": [
      "\n",
      "Outlier num_bedrooms yang terdeteksi dengan IQR:\n",
      "0       0\n",
      "1       2\n",
      "2       2\n",
      "3       1\n",
      "4       2\n",
      "       ..\n",
      "9995    1\n",
      "9996    0\n",
      "9997    2\n",
      "9998    1\n",
      "9999    2\n",
      "Name: num_bedrooms, Length: 10000, dtype: int64\n"
     ]
    }
   ],
   "source": [
    "# cek outlier dengan IQR\n",
    "Q1 = real_estate_trans_df['num_bedrooms'].quantile(0.25)\n",
    "Q3 = real_estate_trans_df['num_bedrooms'].quantile(0.75)\n",
    "\n",
    "IQR = Q3 -  Q1\n",
    "\n",
    "lower_bound = Q1 - 1.5 * IQR\n",
    "upper_bound = Q3 - 1.5 * IQR\n",
    "\n",
    "outlier = real_estate_trans_df[(real_estate_trans_df['num_bedrooms'] < lower_bound) | (real_estate_trans_df['num_bedrooms'] > upper_bound)]\n",
    "\n",
    "print('\\nOutlier num_bedrooms yang terdeteksi dengan IQR:')\n",
    "print(outlier['num_bedrooms'])"
   ]
  },
  {
   "cell_type": "code",
   "execution_count": 33,
   "id": "75baaa2f",
   "metadata": {},
   "outputs": [
    {
     "data": {
      "image/png": "[encoded data removed]",
      "text/plain": [
       "<Figure size 1600x600 with 1 Axes>"
      ]
     },
     "metadata": {},
     "output_type": "display_data"
    }
   ],
   "source": [
    "# lihat dengan boxplot agar lebih enak\n",
    "\n",
    "plt.figure(figsize=(16, 6))\n",
    "sns.boxplot(data=real_estate_trans_df, y='num_bedrooms')\n",
    "plt.title('Box Plot of Number of Bedrooms with outlier')\n",
    "plt.show()"
   ]
  },
  {
   "cell_type": "code",
   "execution_count": 42,
   "id": "acfab8c7",
   "metadata": {},
   "outputs": [
    {
     "name": "stdout",
     "output_type": "stream",
     "text": [
      "0.9956\n"
     ]
    }
   ],
   "source": [
    "print(real_estate_trans_df['num_bedrooms'].mean())"
   ]
  },
  {
   "cell_type": "markdown",
   "id": "50e761af",
   "metadata": {},
   "source": [
    "- tidak terdeteksi outlier nilai cenderung antara 0 sampai 2 oleh karena itu kita bisa menggunakan nilai mean untuk mengisi\n",
    "missing value ini sangat aman tetapi pada saat di hitung meannya ada di kisaran 0.9956 yang menyebabkan missing values akan terisi\n",
    "dengan 0 kembali jadi saya akan mengisi dengan mode saja."
   ]
  },
  {
   "cell_type": "code",
   "execution_count": 51,
   "id": "9aa91963",
   "metadata": {},
   "outputs": [],
   "source": [
    "# imputation missing value dengan mode\n",
    "import numpy as np\n",
    "\n",
    "mode_value = real_estate_trans_df['num_bedrooms'].replace(0, np.nan).mode()[0]\n",
    "real_estate_trans_df['num_bedrooms'] = real_estate_trans_df['num_bedrooms'].fillna(mode_value)\n",
    "\n",
    "# pastikan integer\n",
    "real_estate_trans_df['num_bedrooms'] = real_estate_trans_df['num_bedrooms'].astype(int)\n"
   ]
  },
  {
   "cell_type": "code",
   "execution_count": 53,
   "id": "74d9721d",
   "metadata": {},
   "outputs": [
    {
     "name": "stdout",
     "output_type": "stream",
     "text": [
      "Date                  object\n",
      "Year                   int64\n",
      "Locality              object\n",
      "Estimated Value      float64\n",
      "Sale Price           float64\n",
      "Property              object\n",
      "Residential           object\n",
      "num_rooms              int64\n",
      "num_bathrooms          int64\n",
      "carpet_area          float64\n",
      "property_tax_rate    float64\n",
      "Face                  object\n",
      "num_bedrooms           int32\n",
      "dtype: object\n"
     ]
    }
   ],
   "source": [
    "print(real_estate_trans_df.dtypes)"
   ]
  },
  {
   "cell_type": "code",
   "execution_count": 52,
   "id": "becbcde5",
   "metadata": {},
   "outputs": [
    {
     "data": {
      "application/vnd.microsoft.datawrangler.viewer.v0+json": {
       "columns": [
        {
         "name": "index",
         "rawType": "int64",
         "type": "integer"
        },
        {
         "name": "Date",
         "rawType": "object",
         "type": "string"
        },
        {
         "name": "Year",
         "rawType": "int64",
         "type": "integer"
        },
        {
         "name": "Locality",
         "rawType": "object",
         "type": "unknown"
        },
        {
         "name": "Estimated Value",
         "rawType": "float64",
         "type": "float"
        },
        {
         "name": "Sale Price",
         "rawType": "float64",
         "type": "float"
        },
        {
         "name": "Property",
         "rawType": "object",
         "type": "string"
        },
        {
         "name": "Residential",
         "rawType": "object",
         "type": "string"
        },
        {
         "name": "num_rooms",
         "rawType": "int64",
         "type": "integer"
        },
        {
         "name": "num_bathrooms",
         "rawType": "int64",
         "type": "integer"
        },
        {
         "name": "carpet_area",
         "rawType": "float64",
         "type": "float"
        },
        {
         "name": "property_tax_rate",
         "rawType": "float64",
         "type": "float"
        },
        {
         "name": "Face",
         "rawType": "object",
         "type": "string"
        },
        {
         "name": "num_bedrooms",
         "rawType": "int32",
         "type": "integer"
        }
       ],
       "ref": "97b28ee7-409d-4059-ac8f-6e09162753cc",
       "rows": [
        [
         "0",
         "2009-01-02",
         "2009",
         "Waterbury",
         "111440.0",
         "185000.0",
         "Single Family",
         "Detached House",
         "3",
         "3",
         "996.0",
         "1.025953",
         "South",
         "2"
        ],
        [
         "1",
         "2009-01-02",
         "2009",
         null,
         "73080.0",
         "152000.0",
         "Single Family",
         "Detached House",
         "3",
         "1",
         "935.0",
         "1.025953",
         "North",
         "2"
        ],
        [
         "2",
         "2009-01-02",
         "2009",
         "Waterbury",
         "50540.0",
         "105000.0",
         "Single Family",
         "Detached House",
         "3",
         "1",
         "951.0",
         "1.025953",
         "East",
         "2"
        ],
        [
         "3",
         "2009-01-02",
         "2009",
         "Norwalk",
         "571060.0",
         "1000000.0",
         "Single Family",
         "Detached House",
         "3",
         "2",
         null,
         "1.025953",
         "South",
         "1"
        ],
        [
         "4",
         "2009-01-02",
         "2009",
         "Bridgeport",
         "4775276.0",
         "272900.0",
         "Single Family",
         "Detached House",
         "3",
         "1",
         "971.0",
         "1.025953",
         "East",
         "2"
        ],
        [
         "5",
         "2009-01-02",
         "2009",
         "Greenwich",
         null,
         "5187000.0",
         "?",
         "Detached House",
         "3",
         "2",
         "1026.0",
         "1.025953",
         "South",
         "1"
        ],
        [
         "6",
         "2009-01-03",
         "2009",
         "Norwalk",
         null,
         "1340000.0",
         "Single Family",
         "Detached House",
         "3",
         "1",
         "936.0",
         "1.025953",
         "North",
         "2"
        ],
        [
         "7",
         "2009-01-03",
         "2009",
         "Norwalk",
         "172620.0",
         "409000.0",
         "?",
         "Detached House",
         "3",
         "3",
         "1004.0",
         "1.025953",
         "South",
         "2"
        ],
        [
         "8",
         "2009-01-04",
         "2009",
         "Bridgeport",
         null,
         "410000.0",
         "Two Family",
         "Duplex",
         "4",
         "3",
         "1498.0",
         "1.025953",
         "West",
         "1"
        ],
        [
         "9",
         "2009-01-04",
         "2009",
         "Waterbury",
         null,
         "176000.0",
         "?",
         "Detached House",
         "3",
         "1",
         "1008.0",
         "1.025953",
         "North",
         "2"
        ],
        [
         "10",
         "2009-01-04",
         "2009",
         "Norwalk",
         "208880.0",
         "370000.0",
         "Single Family",
         "Detached House",
         "3",
         "2",
         "1063.0",
         "1.025953",
         "South",
         "1"
        ],
        [
         "11",
         "2009-01-04",
         "2009",
         "Waterbury",
         "83300.0",
         "220000.0",
         "Two Family",
         "Duplex",
         "4",
         "4",
         "1471.0",
         "1.025953",
         "South",
         "2"
        ],
        [
         "12",
         "2009-01-05",
         "2009",
         "Bridgeport",
         null,
         "284280.0",
         "?",
         "Detached House",
         "3",
         "3",
         "1015.0",
         "1.025953",
         "South",
         "2"
        ],
        [
         "13",
         "2009-01-05",
         "2009",
         null,
         "73990.0",
         "195000.0",
         "Single Family",
         "Detached House",
         "3",
         "1",
         "960.0",
         "1.025953",
         "North",
         "2"
        ],
        [
         "14",
         "2009-01-05",
         "2009",
         "Greenwich",
         "2095100.0",
         "2860000.0",
         "Single Family",
         "Detached House",
         "3",
         "1",
         "963.0",
         "1.025953",
         "East",
         "2"
        ],
        [
         "15",
         "2009-01-05",
         "2009",
         "Norwalk",
         "186410.0",
         "340000.0",
         "Single Family",
         "Detached House",
         "3",
         "2",
         "933.0",
         "1.025953",
         "East",
         "1"
        ],
        [
         "16",
         "2009-01-05",
         "2009",
         "Greenwich",
         "1162140.0",
         "1990000.0",
         "Single Family",
         "Detached House",
         "3",
         "1",
         null,
         "1.025953",
         "North",
         "2"
        ],
        [
         "17",
         "2009-01-05",
         "2009",
         null,
         "71960.0",
         "219000.0",
         "?",
         "Triplex",
         "6",
         "4",
         null,
         "1.025953",
         "South",
         "2"
        ],
        [
         "18",
         "2009-01-08",
         "2009",
         "Greenwich",
         null,
         "3235000.0",
         "?",
         "Detached House",
         "3",
         "1",
         "1026.0",
         "1.025953",
         "West",
         "2"
        ],
        [
         "19",
         "2009-01-08",
         "2009",
         "Waterbury",
         "56070.0",
         "75000.0",
         "Two Family",
         "Duplex",
         "4",
         "2",
         "1373.0",
         "1.025953",
         "West",
         "2"
        ]
       ],
       "shape": {
        "columns": 13,
        "rows": 20
       }
      },
      "text/html": [
       "<div>\n",
       "<style scoped>\n",
       "    .dataframe tbody tr th:only-of-type {\n",
       "        vertical-align: middle;\n",
       "    }\n",
       "\n",
       "    .dataframe tbody tr th {\n",
       "        vertical-align: top;\n",
       "    }\n",
       "\n",
       "    .dataframe thead th {\n",
       "        text-align: right;\n",
       "    }\n",
       "</style>\n",
       "<table border=\"1\" class=\"dataframe\">\n",
       "  <thead>\n",
       "    <tr style=\"text-align: right;\">\n",
       "      <th></th>\n",
       "      <th>Date</th>\n",
       "      <th>Year</th>\n",
       "      <th>Locality</th>\n",
       "      <th>Estimated Value</th>\n",
       "      <th>Sale Price</th>\n",
       "      <th>Property</th>\n",
       "      <th>Residential</th>\n",
       "      <th>num_rooms</th>\n",
       "      <th>num_bathrooms</th>\n",
       "      <th>carpet_area</th>\n",
       "      <th>property_tax_rate</th>\n",
       "      <th>Face</th>\n",
       "      <th>num_bedrooms</th>\n",
       "    </tr>\n",
       "  </thead>\n",
       "  <tbody>\n",
       "    <tr>\n",
       "      <th>0</th>\n",
       "      <td>2009-01-02</td>\n",
       "      <td>2009</td>\n",
       "      <td>Waterbury</td>\n",
       "      <td>111440.0</td>\n",
       "      <td>185000.0</td>\n",
       "      <td>Single Family</td>\n",
       "      <td>Detached House</td>\n",
       "      <td>3</td>\n",
       "      <td>3</td>\n",
       "      <td>996.0</td>\n",
       "      <td>1.025953</td>\n",
       "      <td>South</td>\n",
       "      <td>2</td>\n",
       "    </tr>\n",
       "    <tr>\n",
       "      <th>1</th>\n",
       "      <td>2009-01-02</td>\n",
       "      <td>2009</td>\n",
       "      <td>NaN</td>\n",
       "      <td>73080.0</td>\n",
       "      <td>152000.0</td>\n",
       "      <td>Single Family</td>\n",
       "      <td>Detached House</td>\n",
       "      <td>3</td>\n",
       "      <td>1</td>\n",
       "      <td>935.0</td>\n",
       "      <td>1.025953</td>\n",
       "      <td>North</td>\n",
       "      <td>2</td>\n",
       "    </tr>\n",
       "    <tr>\n",
       "      <th>2</th>\n",
       "      <td>2009-01-02</td>\n",
       "      <td>2009</td>\n",
       "      <td>Waterbury</td>\n",
       "      <td>50540.0</td>\n",
       "      <td>105000.0</td>\n",
       "      <td>Single Family</td>\n",
       "      <td>Detached House</td>\n",
       "      <td>3</td>\n",
       "      <td>1</td>\n",
       "      <td>951.0</td>\n",
       "      <td>1.025953</td>\n",
       "      <td>East</td>\n",
       "      <td>2</td>\n",
       "    </tr>\n",
       "    <tr>\n",
       "      <th>3</th>\n",
       "      <td>2009-01-02</td>\n",
       "      <td>2009</td>\n",
       "      <td>Norwalk</td>\n",
       "      <td>571060.0</td>\n",
       "      <td>1000000.0</td>\n",
       "      <td>Single Family</td>\n",
       "      <td>Detached House</td>\n",
       "      <td>3</td>\n",
       "      <td>2</td>\n",
       "      <td>NaN</td>\n",
       "      <td>1.025953</td>\n",
       "      <td>South</td>\n",
       "      <td>1</td>\n",
       "    </tr>\n",
       "    <tr>\n",
       "      <th>4</th>\n",
       "      <td>2009-01-02</td>\n",
       "      <td>2009</td>\n",
       "      <td>Bridgeport</td>\n",
       "      <td>4775276.0</td>\n",
       "      <td>272900.0</td>\n",
       "      <td>Single Family</td>\n",
       "      <td>Detached House</td>\n",
       "      <td>3</td>\n",
       "      <td>1</td>\n",
       "      <td>971.0</td>\n",
       "      <td>1.025953</td>\n",
       "      <td>East</td>\n",
       "      <td>2</td>\n",
       "    </tr>\n",
       "    <tr>\n",
       "      <th>5</th>\n",
       "      <td>2009-01-02</td>\n",
       "      <td>2009</td>\n",
       "      <td>Greenwich</td>\n",
       "      <td>NaN</td>\n",
       "      <td>5187000.0</td>\n",
       "      <td>?</td>\n",
       "      <td>Detached House</td>\n",
       "      <td>3</td>\n",
       "      <td>2</td>\n",
       "      <td>1026.0</td>\n",
       "      <td>1.025953</td>\n",
       "      <td>South</td>\n",
       "      <td>1</td>\n",
       "    </tr>\n",
       "    <tr>\n",
       "      <th>6</th>\n",
       "      <td>2009-01-03</td>\n",
       "      <td>2009</td>\n",
       "      <td>Norwalk</td>\n",
       "      <td>NaN</td>\n",
       "      <td>1340000.0</td>\n",
       "      <td>Single Family</td>\n",
       "      <td>Detached House</td>\n",
       "      <td>3</td>\n",
       "      <td>1</td>\n",
       "      <td>936.0</td>\n",
       "      <td>1.025953</td>\n",
       "      <td>North</td>\n",
       "      <td>2</td>\n",
       "    </tr>\n",
       "    <tr>\n",
       "      <th>7</th>\n",
       "      <td>2009-01-03</td>\n",
       "      <td>2009</td>\n",
       "      <td>Norwalk</td>\n",
       "      <td>172620.0</td>\n",
       "      <td>409000.0</td>\n",
       "      <td>?</td>\n",
       "      <td>Detached House</td>\n",
       "      <td>3</td>\n",
       "      <td>3</td>\n",
       "      <td>1004.0</td>\n",
       "      <td>1.025953</td>\n",
       "      <td>South</td>\n",
       "      <td>2</td>\n",
       "    </tr>\n",
       "    <tr>\n",
       "      <th>8</th>\n",
       "      <td>2009-01-04</td>\n",
       "      <td>2009</td>\n",
       "      <td>Bridgeport</td>\n",
       "      <td>NaN</td>\n",
       "      <td>410000.0</td>\n",
       "      <td>Two Family</td>\n",
       "      <td>Duplex</td>\n",
       "      <td>4</td>\n",
       "      <td>3</td>\n",
       "      <td>1498.0</td>\n",
       "      <td>1.025953</td>\n",
       "      <td>West</td>\n",
       "      <td>1</td>\n",
       "    </tr>\n",
       "    <tr>\n",
       "      <th>9</th>\n",
       "      <td>2009-01-04</td>\n",
       "      <td>2009</td>\n",
       "      <td>Waterbury</td>\n",
       "      <td>NaN</td>\n",
       "      <td>176000.0</td>\n",
       "      <td>?</td>\n",
       "      <td>Detached House</td>\n",
       "      <td>3</td>\n",
       "      <td>1</td>\n",
       "      <td>1008.0</td>\n",
       "      <td>1.025953</td>\n",
       "      <td>North</td>\n",
       "      <td>2</td>\n",
       "    </tr>\n",
       "    <tr>\n",
       "      <th>10</th>\n",
       "      <td>2009-01-04</td>\n",
       "      <td>2009</td>\n",
       "      <td>Norwalk</td>\n",
       "      <td>208880.0</td>\n",
       "      <td>370000.0</td>\n",
       "      <td>Single Family</td>\n",
       "      <td>Detached House</td>\n",
       "      <td>3</td>\n",
       "      <td>2</td>\n",
       "      <td>1063.0</td>\n",
       "      <td>1.025953</td>\n",
       "      <td>South</td>\n",
       "      <td>1</td>\n",
       "    </tr>\n",
       "    <tr>\n",
       "      <th>11</th>\n",
       "      <td>2009-01-04</td>\n",
       "      <td>2009</td>\n",
       "      <td>Waterbury</td>\n",
       "      <td>83300.0</td>\n",
       "      <td>220000.0</td>\n",
       "      <td>Two Family</td>\n",
       "      <td>Duplex</td>\n",
       "      <td>4</td>\n",
       "      <td>4</td>\n",
       "      <td>1471.0</td>\n",
       "      <td>1.025953</td>\n",
       "      <td>South</td>\n",
       "      <td>2</td>\n",
       "    </tr>\n",
       "    <tr>\n",
       "      <th>12</th>\n",
       "      <td>2009-01-05</td>\n",
       "      <td>2009</td>\n",
       "      <td>Bridgeport</td>\n",
       "      <td>NaN</td>\n",
       "      <td>284280.0</td>\n",
       "      <td>?</td>\n",
       "      <td>Detached House</td>\n",
       "      <td>3</td>\n",
       "      <td>3</td>\n",
       "      <td>1015.0</td>\n",
       "      <td>1.025953</td>\n",
       "      <td>South</td>\n",
       "      <td>2</td>\n",
       "    </tr>\n",
       "    <tr>\n",
       "      <th>13</th>\n",
       "      <td>2009-01-05</td>\n",
       "      <td>2009</td>\n",
       "      <td>NaN</td>\n",
       "      <td>73990.0</td>\n",
       "      <td>195000.0</td>\n",
       "      <td>Single Family</td>\n",
       "      <td>Detached House</td>\n",
       "      <td>3</td>\n",
       "      <td>1</td>\n",
       "      <td>960.0</td>\n",
       "      <td>1.025953</td>\n",
       "      <td>North</td>\n",
       "      <td>2</td>\n",
       "    </tr>\n",
       "    <tr>\n",
       "      <th>14</th>\n",
       "      <td>2009-01-05</td>\n",
       "      <td>2009</td>\n",
       "      <td>Greenwich</td>\n",
       "      <td>2095100.0</td>\n",
       "      <td>2860000.0</td>\n",
       "      <td>Single Family</td>\n",
       "      <td>Detached House</td>\n",
       "      <td>3</td>\n",
       "      <td>1</td>\n",
       "      <td>963.0</td>\n",
       "      <td>1.025953</td>\n",
       "      <td>East</td>\n",
       "      <td>2</td>\n",
       "    </tr>\n",
       "    <tr>\n",
       "      <th>15</th>\n",
       "      <td>2009-01-05</td>\n",
       "      <td>2009</td>\n",
       "      <td>Norwalk</td>\n",
       "      <td>186410.0</td>\n",
       "      <td>340000.0</td>\n",
       "      <td>Single Family</td>\n",
       "      <td>Detached House</td>\n",
       "      <td>3</td>\n",
       "      <td>2</td>\n",
       "      <td>933.0</td>\n",
       "      <td>1.025953</td>\n",
       "      <td>East</td>\n",
       "      <td>1</td>\n",
       "    </tr>\n",
       "    <tr>\n",
       "      <th>16</th>\n",
       "      <td>2009-01-05</td>\n",
       "      <td>2009</td>\n",
       "      <td>Greenwich</td>\n",
       "      <td>1162140.0</td>\n",
       "      <td>1990000.0</td>\n",
       "      <td>Single Family</td>\n",
       "      <td>Detached House</td>\n",
       "      <td>3</td>\n",
       "      <td>1</td>\n",
       "      <td>NaN</td>\n",
       "      <td>1.025953</td>\n",
       "      <td>North</td>\n",
       "      <td>2</td>\n",
       "    </tr>\n",
       "    <tr>\n",
       "      <th>17</th>\n",
       "      <td>2009-01-05</td>\n",
       "      <td>2009</td>\n",
       "      <td>NaN</td>\n",
       "      <td>71960.0</td>\n",
       "      <td>219000.0</td>\n",
       "      <td>?</td>\n",
       "      <td>Triplex</td>\n",
       "      <td>6</td>\n",
       "      <td>4</td>\n",
       "      <td>NaN</td>\n",
       "      <td>1.025953</td>\n",
       "      <td>South</td>\n",
       "      <td>2</td>\n",
       "    </tr>\n",
       "    <tr>\n",
       "      <th>18</th>\n",
       "      <td>2009-01-08</td>\n",
       "      <td>2009</td>\n",
       "      <td>Greenwich</td>\n",
       "      <td>NaN</td>\n",
       "      <td>3235000.0</td>\n",
       "      <td>?</td>\n",
       "      <td>Detached House</td>\n",
       "      <td>3</td>\n",
       "      <td>1</td>\n",
       "      <td>1026.0</td>\n",
       "      <td>1.025953</td>\n",
       "      <td>West</td>\n",
       "      <td>2</td>\n",
       "    </tr>\n",
       "    <tr>\n",
       "      <th>19</th>\n",
       "      <td>2009-01-08</td>\n",
       "      <td>2009</td>\n",
       "      <td>Waterbury</td>\n",
       "      <td>56070.0</td>\n",
       "      <td>75000.0</td>\n",
       "      <td>Two Family</td>\n",
       "      <td>Duplex</td>\n",
       "      <td>4</td>\n",
       "      <td>2</td>\n",
       "      <td>1373.0</td>\n",
       "      <td>1.025953</td>\n",
       "      <td>West</td>\n",
       "      <td>2</td>\n",
       "    </tr>\n",
       "  </tbody>\n",
       "</table>\n",
       "</div>"
      ],
      "text/plain": [
       "          Date  Year    Locality  Estimated Value  Sale Price       Property  \\\n",
       "0   2009-01-02  2009   Waterbury         111440.0    185000.0  Single Family   \n",
       "1   2009-01-02  2009         NaN          73080.0    152000.0  Single Family   \n",
       "2   2009-01-02  2009   Waterbury          50540.0    105000.0  Single Family   \n",
       "3   2009-01-02  2009     Norwalk         571060.0   1000000.0  Single Family   \n",
       "4   2009-01-02  2009  Bridgeport        4775276.0    272900.0  Single Family   \n",
       "5   2009-01-02  2009   Greenwich              NaN   5187000.0              ?   \n",
       "6   2009-01-03  2009     Norwalk              NaN   1340000.0  Single Family   \n",
       "7   2009-01-03  2009     Norwalk         172620.0    409000.0              ?   \n",
       "8   2009-01-04  2009  Bridgeport              NaN    410000.0     Two Family   \n",
       "9   2009-01-04  2009   Waterbury              NaN    176000.0              ?   \n",
       "10  2009-01-04  2009     Norwalk         208880.0    370000.0  Single Family   \n",
       "11  2009-01-04  2009   Waterbury          83300.0    220000.0     Two Family   \n",
       "12  2009-01-05  2009  Bridgeport              NaN    284280.0              ?   \n",
       "13  2009-01-05  2009         NaN          73990.0    195000.0  Single Family   \n",
       "14  2009-01-05  2009   Greenwich        2095100.0   2860000.0  Single Family   \n",
       "15  2009-01-05  2009     Norwalk         186410.0    340000.0  Single Family   \n",
       "16  2009-01-05  2009   Greenwich        1162140.0   1990000.0  Single Family   \n",
       "17  2009-01-05  2009         NaN          71960.0    219000.0              ?   \n",
       "18  2009-01-08  2009   Greenwich              NaN   3235000.0              ?   \n",
       "19  2009-01-08  2009   Waterbury          56070.0     75000.0     Two Family   \n",
       "\n",
       "       Residential  num_rooms  num_bathrooms  carpet_area  property_tax_rate  \\\n",
       "0   Detached House          3              3        996.0           1.025953   \n",
       "1   Detached House          3              1        935.0           1.025953   \n",
       "2   Detached House          3              1        951.0           1.025953   \n",
       "3   Detached House          3              2          NaN           1.025953   \n",
       "4   Detached House          3              1        971.0           1.025953   \n",
       "5   Detached House          3              2       1026.0           1.025953   \n",
       "6   Detached House          3              1        936.0           1.025953   \n",
       "7   Detached House          3              3       1004.0           1.025953   \n",
       "8           Duplex          4              3       1498.0           1.025953   \n",
       "9   Detached House          3              1       1008.0           1.025953   \n",
       "10  Detached House          3              2       1063.0           1.025953   \n",
       "11          Duplex          4              4       1471.0           1.025953   \n",
       "12  Detached House          3              3       1015.0           1.025953   \n",
       "13  Detached House          3              1        960.0           1.025953   \n",
       "14  Detached House          3              1        963.0           1.025953   \n",
       "15  Detached House          3              2        933.0           1.025953   \n",
       "16  Detached House          3              1          NaN           1.025953   \n",
       "17         Triplex          6              4          NaN           1.025953   \n",
       "18  Detached House          3              1       1026.0           1.025953   \n",
       "19          Duplex          4              2       1373.0           1.025953   \n",
       "\n",
       "     Face  num_bedrooms  \n",
       "0   South             2  \n",
       "1   North             2  \n",
       "2    East             2  \n",
       "3   South             1  \n",
       "4    East             2  \n",
       "5   South             1  \n",
       "6   North             2  \n",
       "7   South             2  \n",
       "8    West             1  \n",
       "9   North             2  \n",
       "10  South             1  \n",
       "11  South             2  \n",
       "12  South             2  \n",
       "13  North             2  \n",
       "14   East             2  \n",
       "15   East             1  \n",
       "16  North             2  \n",
       "17  South             2  \n",
       "18   West             2  \n",
       "19   West             2  "
      ]
     },
     "execution_count": 52,
     "metadata": {},
     "output_type": "execute_result"
    }
   ],
   "source": [
    "real_estate_trans_df.head(20)"
   ]
  },
  {
   "cell_type": "markdown",
   "id": "a96d6d98",
   "metadata": {},
   "source": [
    "***additional mengisi seluruh missing value dari semua kolom yang mempunya missing value agar lebih clean***"
   ]
  },
  {
   "cell_type": "code",
   "execution_count": 55,
   "id": "881994e9",
   "metadata": {},
   "outputs": [
    {
     "data": {
      "application/vnd.microsoft.datawrangler.viewer.v0+json": {
       "columns": [
        {
         "name": "index",
         "rawType": "object",
         "type": "string"
        },
        {
         "name": "0",
         "rawType": "int64",
         "type": "integer"
        }
       ],
       "ref": "385a41d2-4fcc-406c-a76f-5e34de640aba",
       "rows": [
        [
         "Date",
         "0"
        ],
        [
         "Year",
         "0"
        ],
        [
         "Locality",
         "1255"
        ],
        [
         "Estimated Value",
         "1229"
        ],
        [
         "Sale Price",
         "0"
        ],
        [
         "Property",
         "0"
        ],
        [
         "Residential",
         "0"
        ],
        [
         "num_rooms",
         "0"
        ],
        [
         "num_bathrooms",
         "0"
        ],
        [
         "carpet_area",
         "1282"
        ],
        [
         "property_tax_rate",
         "0"
        ],
        [
         "Face",
         "0"
        ],
        [
         "num_bedrooms",
         "0"
        ]
       ],
       "shape": {
        "columns": 1,
        "rows": 13
       }
      },
      "text/plain": [
       "Date                    0\n",
       "Year                    0\n",
       "Locality             1255\n",
       "Estimated Value      1229\n",
       "Sale Price              0\n",
       "Property                0\n",
       "Residential             0\n",
       "num_rooms               0\n",
       "num_bathrooms           0\n",
       "carpet_area          1282\n",
       "property_tax_rate       0\n",
       "Face                    0\n",
       "num_bedrooms            0\n",
       "dtype: int64"
      ]
     },
     "execution_count": 55,
     "metadata": {},
     "output_type": "execute_result"
    }
   ],
   "source": [
    "real_estate_trans_df.isna().sum()"
   ]
  },
  {
   "cell_type": "code",
   "execution_count": null,
   "id": "04c16b61",
   "metadata": {},
   "outputs": [],
   "source": [
    "\n",
    "persentase_missing_values = "
   ]
  }
 ],
 "metadata": {
  "kernelspec": {
   "display_name": "Python 3",
   "language": "python",
   "name": "python3"
  },
  "language_info": {
   "codemirror_mode": {
    "name": "ipython",
    "version": 3
   },
   "file_extension": ".py",
   "mimetype": "text/x-python",
   "name": "python",
   "nbconvert_exporter": "python",
   "pygments_lexer": "ipython3",
   "version": "3.12.4"
  }
 },
 "nbformat": 4,
 "nbformat_minor": 5
}
