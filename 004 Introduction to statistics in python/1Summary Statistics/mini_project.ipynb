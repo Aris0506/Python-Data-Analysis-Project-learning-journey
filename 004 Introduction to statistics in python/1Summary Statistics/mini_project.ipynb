{
 "cells": [
  {
   "cell_type": "markdown",
   "id": "7109182c",
   "metadata": {},
   "source": [
    "**Mini-Project: Analisis Data Tidur Mamalia**\n",
    "\n",
    "**Tujuan: Menganalisis(memahami pola tidur mamalia) dan meringkas data waktu tidur mamalia, lalu membandingkan pola tidur antara kelompok mamalia yang berbeda.**\n",
    "\n",
    "---"
   ]
  },
  {
   "cell_type": "markdown",
   "id": "cab75df3",
   "metadata": {},
   "source": [
    "**Muat dan Jelajahi Data:**\n",
    "\n",
    "- Lihat beberapa baris pertama data (.head()) dan gunakan .info() untuk memahami tipe data setiap kolom."
   ]
  },
  {
   "cell_type": "code",
   "execution_count": 43,
   "id": "b953045b",
   "metadata": {},
   "outputs": [
    {
     "name": "stdout",
     "output_type": "stream",
     "text": [
      "              name     vore  sleep_total\n",
      "0          Cheetah    carni         12.1\n",
      "1       Owl monkey     omni         17.0\n",
      "2  Mountain beaver    herbi         14.4\n",
      "3              Cow    herbi          4.0\n",
      "4    Big brown bat  insecti         19.7\n",
      "==================================================\n",
      "<class 'pandas.core.frame.DataFrame'>\n",
      "RangeIndex: 22 entries, 0 to 21\n",
      "Data columns (total 3 columns):\n",
      " #   Column       Non-Null Count  Dtype  \n",
      "---  ------       --------------  -----  \n",
      " 0   name         22 non-null     object \n",
      " 1   vore         22 non-null     object \n",
      " 2   sleep_total  22 non-null     float64\n",
      "dtypes: float64(1), object(2)\n",
      "memory usage: 660.0+ bytes\n",
      "None\n"
     ]
    }
   ],
   "source": [
    "import pandas as pd \n",
    "import numpy as np\n",
    "\n",
    "# load_csv_file\n",
    "msleep = pd.read_csv('msleep.csv')\n",
    "\n",
    "# displya head()\n",
    "print(msleep.head())\n",
    "print('=' * 50)\n",
    "print(msleep.info())"
   ]
  },
  {
   "cell_type": "markdown",
   "id": "8a7fe2c8",
   "metadata": {},
   "source": [
    "---\n",
    "\n",
    "**2. Analisis Deskriptif Keseluruhan:**\n",
    "\n",
    "- Fokus pada kolom sleep_total (total jam tidur).\n",
    "- Hitung ukuran pemusatan: mean, median.\n",
    "- Hitung ukuran penyebaran: simpangan baku (standard deviation), varian (variance), dan IQR.\n",
    "- Gunakan metode .describe() pada kolom sleep_total untuk mendapatkan ringkasan cepat dari semua statistik ini."
   ]
  },
  {
   "cell_type": "code",
   "execution_count": 44,
   "id": "41115f85",
   "metadata": {},
   "outputs": [
    {
     "name": "stdout",
     "output_type": "stream",
     "text": [
      "Rata - rata total tidur adalah: 11.25\n",
      "Dengan Total Median/nilai tengah: 11.4\n",
      "==================================================\n",
      "Dimana Variancenya Sebesar: 25.68\n",
      "Dengan Standard Deviation sebesar: 5.07\n",
      "==================================================\n",
      "Perhitungan IQR menunjukan angka sebesar: 5.6\n",
      "==================================================\n",
      "Summary Statistic\n",
      " count    22.0\n",
      "mean     11.0\n",
      "std       5.0\n",
      "min       3.0\n",
      "25%       9.0\n",
      "50%      11.0\n",
      "75%      14.0\n",
      "max      20.0\n",
      "Name: sleep_total, dtype: float64\n"
     ]
    }
   ],
   "source": [
    "# measure of centre (mean, median)\n",
    "mean, median = np.mean(msleep['sleep_total']), np.median(msleep['sleep_total'])\n",
    "\n",
    "print(\"Rata - rata total tidur adalah:\", round(mean, 2))\n",
    "print(\"Dengan Total Median/nilai tengah:\", round(median, 2))\n",
    "\n",
    "print('=' * 50)\n",
    "\n",
    "#measure of variance -> \"We use ddof=1 because the dataset we're using represents a sample, not the entire population.\"\n",
    "variance = np.var(msleep['sleep_total'], ddof=1).round(2)\n",
    "print(\"Dimana Variancenya Sebesar:\", variance)\n",
    "\n",
    "#measure standard Deviation\n",
    "std_dev = np.std(msleep['sleep_total'], ddof=1).round(2)\n",
    "print(\"Dengan Standard Deviation sebesar:\", std_dev)\n",
    "\n",
    "print('=' * 50)\n",
    "\n",
    "# measure IQR\n",
    "Q1 = np.percentile(msleep['sleep_total'], 25)\n",
    "Q3 = np.percentile(msleep['sleep_total'], 75)\n",
    "IQR = Q3 - Q1\n",
    "print(f\"Perhitungan IQR menunjukan angka sebesar: {round(IQR, 2)}\")\n",
    "\n",
    "print('=' * 50)\n",
    "\n",
    "# for fast\n",
    "summary = msleep['sleep_total'].describe().round()\n",
    "print(\"Summary Statistic\\n\", summary)\n"
   ]
  },
  {
   "cell_type": "markdown",
   "id": "7c292490",
   "metadata": {},
   "source": [
    "---\n",
    "**3. Visualisasi Distribusi:**\n",
    "- Buat histogram untuk kolom sleep_total untuk melihat distribusi waktu tidur. Apakah distribusinya simetris, miring ke kiri, atau miring ke kanan?\n",
    "- Buat boxplot untuk kolom sleep_total untuk melihat kuartil dan mengidentifikasi potensi outlier."
   ]
  },
  {
   "cell_type": "code",
   "execution_count": 45,
   "id": "eeb813d9",
   "metadata": {},
   "outputs": [
    {
     "data": {
      "image/png": "[encoded data removed]",
      "text/plain": [
       "<Figure size 1600x500 with 2 Axes>"
      ]
     },
     "metadata": {},
     "output_type": "display_data"
    }
   ],
   "source": [
    "import matplotlib.pyplot as plt  \n",
    "\n",
    "fig, axs = plt.subplots(1, 2, figsize=(16, 5))\n",
    "# histogram\n",
    "axs[0].hist(msleep['sleep_total'])   \n",
    "axs[0].set_title('Histogram')\n",
    "\n",
    "# boxplot\n",
    "axs[1].boxplot(msleep['sleep_total']) \n",
    "axs[1].set_title('Boxplot') \n",
    "\n",
    "\n",
    "plt.tight_layout()\n",
    "plt.show()"
   ]
  },
  {
   "cell_type": "code",
   "execution_count": 46,
   "id": "62a55bdd",
   "metadata": {},
   "outputs": [
    {
     "name": "stdout",
     "output_type": "stream",
     "text": [
      "Outliers:\n",
      "Series([], Name: sleep_total, dtype: float64)\n"
     ]
    }
   ],
   "source": [
    "Q1 = msleep['sleep_total'].quantile(0.25)\n",
    "Q3 = msleep['sleep_total'].quantile(0.75)\n",
    "IQR = Q3 - Q1\n",
    "\n",
    "lower_bound = Q1 - 1.5 * IQR\n",
    "upper_bound = Q3 + 1.5 * IQR\n",
    "\n",
    "outliers = msleep[(msleep['sleep_total'] < lower_bound) | (msleep['sleep_total'] > upper_bound)]\n",
    "\n",
    "print(\"Outliers:\")\n",
    "print(outliers['sleep_total'])\n"
   ]
  },
  {
   "cell_type": "markdown",
   "id": "8eedc1fc",
   "metadata": {},
   "source": [
    "*** histogram cenderung right skew dan tidak terlihat posisi outlier ***\n",
    "\n",
    "---"
   ]
  },
  {
   "cell_type": "markdown",
   "id": "7cf46868",
   "metadata": {},
   "source": [
    "**4. Analisis Perbandingan:**\n",
    "\n",
    "- Kelompokkan data berdasarkan jenis makanan mamalia (kolom vore).\n",
    "- Hitung mean dan median dari sleep_total untuk setiap kelompok (carni, herbi, omni, insecti).\n",
    "- Sajikan hasil perbandingan ini. Kelompok mamalia manakah yang cenderung tidur paling lama? Kelompok mana yang tidurnya paling singkat?"
   ]
  },
  {
   "cell_type": "code",
   "execution_count": 72,
   "id": "dfa614bc",
   "metadata": {},
   "outputs": [
    {
     "name": "stdout",
     "output_type": "stream",
     "text": [
      "hasil Perhitungan Analisis Perbandingan\n",
      "\n",
      "           mean  median\n",
      "vore                  \n",
      "carni    12.09    12.1\n",
      "herbi     6.96     4.0\n",
      "insecti  19.23    19.7\n",
      "omni     11.32     9.7\n"
     ]
    },
    {
     "data": {
      "image/png": "[encoded data removed]",
      "text/plain": [
       "<Figure size 1200x500 with 1 Axes>"
      ]
     },
     "metadata": {},
     "output_type": "display_data"
    }
   ],
   "source": [
    "analisis_Perbandingan = msleep.groupby('vore')['sleep_total'].agg(['mean', 'median']).round(2)\n",
    "print(\"hasil Perhitungan Analisis Perbandingan\\n\\n\", analisis_Perbandingan)\n",
    "\n",
    "\n",
    "analisis_Perbandingan.plot(kind='barh', figsize=(12, 5))\n",
    "plt.title(\"Sleep Total Aggregations per Vore\")\n",
    "plt.ylabel(\"Value\")\n",
    "plt.xlabel(\"Vore\")\n",
    "plt.show()\n"
   ]
  },
  {
   "cell_type": "code",
   "execution_count": 73,
   "id": "07e96950",
   "metadata": {},
   "outputs": [
    {
     "name": "stdout",
     "output_type": "stream",
     "text": [
      "         name  sleep_total\n",
      "vore                      \n",
      "carni       7            7\n",
      "herbi       7            7\n",
      "insecti     3            3\n",
      "omni        5            5\n"
     ]
    }
   ],
   "source": [
    "# print(msleep['vore'].value_counts())\n",
    "\n",
    "# Group by 'vore' dan hitung data di setiap kolom\n",
    "frekuensi_vore_count = msleep.groupby('vore').count()\n",
    "\n",
    "print(frekuensi_vore_count)"
   ]
  },
  {
   "cell_type": "markdown",
   "id": "45014ce3",
   "metadata": {},
   "source": [
    "---\n",
    "**Kesimpulan Singkat:**\n",
    "\n",
    "\"Rata-rata waktu tidur mamalia dalam dataset ini adalah 11.25 jam. Ditemukan bahwa kelompok [insect] memiliki rata-rata tidur terlama, sedangkan kelompok [herbivora] memiliki rata-rata terpendek tetapi secara total keseluruhan [karnivora] memiliki waktu tidur terlama. Distribusi waktu tidur secara keseluruhan menunjukkan sedikit kemiringan ke arah [kanan].\""
   ]
  }
 ],
 "metadata": {
  "kernelspec": {
   "display_name": "Python 3",
   "language": "python",
   "name": "python3"
  },
  "language_info": {
   "codemirror_mode": {
    "name": "ipython",
    "version": 3
   },
   "file_extension": ".py",
   "mimetype": "text/x-python",
   "name": "python",
   "nbconvert_exporter": "python",
   "pygments_lexer": "ipython3",
   "version": "3.12.4"
  }
 },
 "nbformat": 4,
 "nbformat_minor": 5
}
