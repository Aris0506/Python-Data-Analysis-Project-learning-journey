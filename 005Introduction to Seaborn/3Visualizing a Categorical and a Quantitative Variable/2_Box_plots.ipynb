{
 "cells": [
  {
   "cell_type": "code",
   "execution_count": null,
   "id": "12534ce9",
   "metadata": {},
   "outputs": [],
   "source": [
    "# Create and interpret a box plot\n",
    "\n",
    "# Specify the category ordering\n",
    "study_time_order = [\"<2 hours\", \"2 to 5 hours\", \n",
    "                    \"5 to 10 hours\", \">10 hours\"]\n",
    "\n",
    "# Create a box plot and set the order of the categories\n",
    "sns.catplot(x=\"study_time\", y=\"G3\", data=student_data, kind=\"box\", order=study_time_order)\n",
    "\n",
    "\n",
    "\n",
    "\n",
    "# Show plot\n",
    "plt.show()"
   ]
  },
  {
   "cell_type": "code",
   "execution_count": null,
   "id": "30570573",
   "metadata": {},
   "outputs": [],
   "source": [
    "# Omitting outliers\n",
    "\n",
    "# Create a box plot with subgroups and omit the outliers\n",
    "sns.catplot(x=\"internet\", y=\"G3\", data=student_data, kind=\"box\", col=\"location\", hue=\"location\", sym=\"\")\n",
    "\n",
    "\n",
    "\n",
    "\n",
    "\n",
    "# Show plot\n",
    "plt.show()"
   ]
  },
  {
   "cell_type": "code",
   "execution_count": null,
   "id": "a975c965",
   "metadata": {},
   "outputs": [],
   "source": [
    "# Adjusting the whiskers\n",
    "\n",
    "# Set the whiskers to 0.5 * IQR\n",
    "sns.catplot(x=\"romantic\", y=\"G3\",\n",
    "            data=student_data,\n",
    "            kind=\"box\", whis=0.5)\n",
    "\n",
    "# Show plot\n",
    "plt.show()\n",
    "\n",
    "\n",
    "###################################\n",
    "\n",
    "# Extend the whiskers to the 5th and 95th percentile\n",
    "sns.catplot(x=\"romantic\", y=\"G3\",\n",
    "            data=student_data,\n",
    "            kind=\"box\",\n",
    "            whis=0.5)\n",
    "\n",
    "# Show plot\n",
    "plt.show()\n",
    "\n",
    "########################################\n",
    "\n",
    "\n",
    "# Set the whiskers at the min and max values\n",
    "sns.catplot(x=\"romantic\", y=\"G3\",\n",
    "            data=student_data,\n",
    "            kind=\"box\",\n",
    "            whis=[5, 95])\n",
    "\n",
    "# Show plot\n",
    "plt.show()\n",
    "\n",
    "#######################################\n",
    "\n",
    "# Set the whiskers at the min and max values\n",
    "sns.catplot(x=\"romantic\", y=\"G3\",\n",
    "            data=student_data,\n",
    "            kind=\"box\",\n",
    "            whis=[0, 100])\n",
    "\n",
    "# Show plot\n",
    "plt.show()"
   ]
  }
 ],
 "metadata": {
  "language_info": {
   "name": "python"
  }
 },
 "nbformat": 4,
 "nbformat_minor": 5
}
