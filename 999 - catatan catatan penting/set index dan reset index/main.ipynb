{
 "cells": [
  {
   "cell_type": "markdown",
   "id": "ac8cd777",
   "metadata": {},
   "source": [
    "Set Index vs Reset Index\n",
    "\n",
    "1. set_index()\n",
    "\n",
    "Tujuan: Digunakan untuk membuat \"glosarium\" atau \"penanda abjad\" agar lebih mudah dan cepat dalam pencarian data berdasarkan kriteria tertentu.\n",
    "\n",
    "Cara Kerja: Mengubah kolom biasa menjadi Indeks (label baris).\n",
    "\n",
    "Metode Pencarian: Setelah set_index, pencarian cepat dilakukan dengan metode .loc (berdasarkan label)."
   ]
  },
  {
   "cell_type": "code",
   "execution_count": null,
   "id": "fee0bea0",
   "metadata": {},
   "outputs": [],
   "source": [
    "#Contoh:\n",
    "import pandas as pd\n",
    "# Jadikan 'name' sebagai indeks\n",
    "df_by_name = df.set_index('name')\n",
    "\n",
    "# Langsung ambil data untuk lagu 'Houdini' tanpa perlu mencari\n",
    "data_houdini = df_by_name.loc['Houdini'] # <- Menggunakan .loc\n",
    "print(data_houdini)"
   ]
  },
  {
   "cell_type": "markdown",
   "id": "4bf72a9c",
   "metadata": {},
   "source": [
    "2. reset_index()\n",
    "\n",
    "Tujuan: Digunakan saat kita akan membuat plotting atau analisis lebih lanjut yang membutuhkan semua data dalam bentuk kolom biasa.\n",
    "\n",
    "Cara Kerja: Mengembalikan Indeks menjadi kolom biasa dan memberikan penomoran standar (0, 1, 2, ...)."
   ]
  },
  {
   "cell_type": "code",
   "execution_count": null,
   "id": "af40e4a1",
   "metadata": {},
   "outputs": [],
   "source": [
    "#Contoh:\n",
    "\n",
    "# Mengembalikan indeks 'genre' menjadi kolom biasa agar siap di-plot\n",
    "data_for_barplot = top_10_genres.reset_index()"
   ]
  },
  {
   "cell_type": "markdown",
   "id": "c9ffccfc",
   "metadata": {},
   "source": [
    "Hal Penting:\n",
    "Fungsi seperti .groupby(), .value_counts(), .pivot_table(), dan .resample() seringkali menghasilkan Indeks secara otomatis. Maka, praktik terbaiknya adalah selalu lakukan .reset_index() terlebih dahulu sebelum melakukan plotting dari hasil fungsi-fungsi tersebut.\n",
    "\""
   ]
  }
 ],
 "metadata": {
  "language_info": {
   "name": "python"
  }
 },
 "nbformat": 4,
 "nbformat_minor": 5
}
