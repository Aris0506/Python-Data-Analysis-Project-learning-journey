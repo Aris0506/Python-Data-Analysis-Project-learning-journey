{
 "cells": [
  {
   "cell_type": "code",
   "execution_count": null,
   "id": "84921ca4",
   "metadata": {},
   "outputs": [],
   "source": [
    "# Detecting data types\n",
    "\n",
    "# Update the data type of the 2019 column to a float\n",
    "unemployment[\"2019\"] = unemployment[\"2019\"].astype(float)\n",
    "# Print the dtypes to check your work\n",
    "print(unemployment.dtypes)\n"
   ]
  },
  {
   "cell_type": "code",
   "execution_count": null,
   "id": "9b099ae2",
   "metadata": {},
   "outputs": [],
   "source": [
    "# Validating continents\n",
    "# Define a Series describing whether each continent is outside of Oceania\n",
    "not_oceania = ~unemployment[\"continent\"].isin([\"Oceania\"])\n",
    "\n",
    "# Print unemployment without records related to countries in Oceania\n",
    "print(unemployment[not_oceania])"
   ]
  },
  {
   "cell_type": "code",
   "execution_count": null,
   "id": "babc49f1",
   "metadata": {},
   "outputs": [],
   "source": [
    "# Validating range\n",
    "\n",
    "# Print the minimum and maximum unemployment rates during 2021\n",
    "print(unemployment[\"2021\"].min(), unemployment[\"2021\"].max())\n",
    "\n",
    "# Create a boxplot of 2021 unemployment rates, broken down by continent\n",
    "sns.boxplot(data=unemployment, x=\"2021\", y=\"continent\")\n",
    "plt.show()"
   ]
  },
  {
   "cell_type": "code",
   "execution_count": null,
   "id": "657feaa8",
   "metadata": {},
   "outputs": [],
   "source": []
  }
 ],
 "metadata": {
  "language_info": {
   "name": "python"
  }
 },
 "nbformat": 4,
 "nbformat_minor": 5
}
