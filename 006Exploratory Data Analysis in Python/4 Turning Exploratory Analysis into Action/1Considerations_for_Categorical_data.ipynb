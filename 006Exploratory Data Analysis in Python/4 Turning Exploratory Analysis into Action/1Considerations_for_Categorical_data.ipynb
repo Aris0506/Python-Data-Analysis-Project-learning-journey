{
 "cells": [
  {
   "cell_type": "code",
   "execution_count": null,
   "id": "1321cf90",
   "metadata": {},
   "outputs": [],
   "source": [
    "# Checking for class imbalance\n",
    "\n",
    "# Print the relative frequency of Job_Category\n",
    "print(salaries[\"Job_Category\"].value_counts(normalize=True))"
   ]
  },
  {
   "cell_type": "code",
   "execution_count": null,
   "id": "036e6519",
   "metadata": {},
   "outputs": [],
   "source": [
    "# Cross-tabulation\n",
    "\n",
    "# Cross-tabulate Company_Size and Experience\n",
    "print(pd.crosstab(salaries[\"Company_Size\"], salaries[\"Experience\"]))\n",
    "\n",
    "\n",
    "#############################\n",
    "\n",
    "\n",
    "# Cross-tabulate Job_Category and Company_Size\n",
    "print(pd.crosstab(salaries[\"Job_Category\"],salaries[\"Company_Size\"]))\n",
    "\n",
    "\n",
    "#############################\n",
    "\n",
    "# Cross-tabulate Job_Category and Company_Size\n",
    "print(pd.crosstab(salaries[\"Job_Category\"], salaries[\"Company_Size\"],\n",
    "            values=salaries[\"Salary_USD\"], aggfunc=\"mean\"))"
   ]
  }
 ],
 "metadata": {
  "language_info": {
   "name": "python"
  }
 },
 "nbformat": 4,
 "nbformat_minor": 5
}
