{
 "cells": [
  {
   "cell_type": "markdown",
   "id": "357d2eee",
   "metadata": {},
   "source": [
    "#### Hari ini saya belajar fungsi .value_counts() yang gunanya untuk menghitung isi data di dalam kolom, lalu mengurutkannya dari yang paling banyak. Jika kita ingin mengambil salah satu nama kategorinya, kita gunakan .index diikuti dengan nomor posisinya, seperti .index[0] untuk mengambil yang teratas.\n"
   ]
  },
  {
   "cell_type": "markdown",
   "id": "aa82ff1e",
   "metadata": {},
   "source": [
    "contoh Kode :\n",
    "##### Misi: Mencari negara asal pemenang Nobel yang paling umum.\n",
    "##### Dataset kita bernama 'nobel'\n",
    "\n",
    "##### 1. Hitung & urutkan semua negara di kolom 'birth_country'.\n",
    "##### 2. Ambil daftar nama negaranya (.index).\n",
    "##### 3. Ambil nama di posisi pertama ([0])."
   ]
  },
  {
   "cell_type": "code",
   "execution_count": null,
   "id": "3a1799e3",
   "metadata": {},
   "outputs": [],
   "source": []
  },
  {
   "cell_type": "code",
   "execution_count": null,
   "id": "1ac8da6a",
   "metadata": {},
   "outputs": [],
   "source": [
    "top_country = nobel['birth_country'].value_counts().index[0]\n",
    "\n",
    "##### Tampilkan hasilnya\n",
    "print(\"Negara pemenang teratas adalah:\", top_country)\n"
   ]
  }
 ],
 "metadata": {
  "language_info": {
   "name": "python"
  }
 },
 "nbformat": 4,
 "nbformat_minor": 5
}
