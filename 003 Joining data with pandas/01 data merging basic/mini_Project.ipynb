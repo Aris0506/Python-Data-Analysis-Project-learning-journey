{
 "cells": [
  {
   "cell_type": "markdown",
   "id": "58c35a68",
   "metadata": {},
   "source": [
    "**Mini Proyek: Analisis Data Penjualan Toko Elektronik**\n",
    "\n",
    "**Skenario:**\n",
    "\n",
    "**Anda adalah seorang analis data di sebuah toko elektronik. Anda diberikan tiga set data terpisah:**\n",
    "- Data transaksi penjualan harian.\n",
    "- Data informasi pelanggan.\n",
    "- Data detail produk.\n",
    "\n",
    "**Tugas Anda adalah menggabungkan ketiga set data ini untuk menjawab beberapa pertanyaan bisnis penting.**\n",
    "\n",
    "----"
   ]
  },
  {
   "cell_type": "markdown",
   "id": "8b6109bf",
   "metadata": {},
   "source": [
    "**Langkah 1: Persiapan Data**"
   ]
  },
  {
   "cell_type": "code",
   "execution_count": 7,
   "id": "09669241",
   "metadata": {},
   "outputs": [
    {
     "name": "stdout",
     "output_type": "stream",
     "text": [
      "--- Data Penjualan ---\n",
      "  id_transaksi  id_pelanggan id_produk  jumlah\n",
      "0          T01           101       P02       1\n",
      "1          T02           102       P01       2\n",
      "2          T03           101       P01       1\n",
      "3          T04           103       P03       3\n",
      "4          T05           102       P02       1\n",
      "5          T06           104       P04       1\n",
      "\n",
      "--- Data Pelanggan ---\n",
      "   id_pelanggan nama_pelanggan      kota\n",
      "0           101           Budi   Jakarta\n",
      "1           102          Citra   Bandung\n",
      "2           103            Eka   Jakarta\n",
      "3           104           Dian  Surabaya\n",
      "\n",
      "--- Data Produk ---\n",
      "  id_produk nama_produk     harga\n",
      "0       P01      Laptop  12000000\n",
      "1       P02       Mouse    250000\n",
      "2       P03    Keyboard    500000\n",
      "3       P04      Webcam    800000\n"
     ]
    }
   ],
   "source": [
    "import pandas as pd\n",
    "\n",
    "# Data Transaksi Penjualan\n",
    "data_penjualan = {\n",
    "    'id_transaksi': ['T01', 'T02', 'T03', 'T04', 'T05', 'T06'],\n",
    "    'id_pelanggan': [101, 102, 101, 103, 102, 104],\n",
    "    'id_produk': ['P02', 'P01', 'P01', 'P03', 'P02', 'P04'],\n",
    "    'jumlah': [1, 2, 1, 3, 1, 1]\n",
    "}\n",
    "penjualan = pd.DataFrame(data_penjualan)\n",
    "\n",
    "# Data Pelanggan\n",
    "data_pelanggan = {\n",
    "    'id_pelanggan': [101, 102, 103, 104],\n",
    "    'nama_pelanggan': ['Budi', 'Citra', 'Eka', 'Dian'],\n",
    "    'kota': ['Jakarta', 'Bandung', 'Jakarta', 'Surabaya']\n",
    "}\n",
    "pelanggan = pd.DataFrame(data_pelanggan)\n",
    "\n",
    "# Data Produk\n",
    "data_produk = {\n",
    "    'id_produk': ['P01', 'P02', 'P03', 'P04'],\n",
    "    'nama_produk': ['Laptop', 'Mouse', 'Keyboard', 'Webcam'],\n",
    "    'harga': [12000000, 250000, 500000, 800000]\n",
    "}\n",
    "produk = pd.DataFrame(data_produk)\n",
    "\n",
    "# Tampilkan data untuk memastikan semuanya benar\n",
    "print(\"--- Data Penjualan ---\")\n",
    "print(penjualan)\n",
    "print(\"\\n--- Data Pelanggan ---\")\n",
    "print(pelanggan)\n",
    "print(\"\\n--- Data Produk ---\")\n",
    "print(produk)"
   ]
  },
  {
   "cell_type": "markdown",
   "id": "4b368650",
   "metadata": {},
   "source": [
    "---"
   ]
  },
  {
   "cell_type": "markdown",
   "id": "a4197842",
   "metadata": {},
   "source": [
    "**Langkah 2: Menggabungkan Data Penjualan dengan Data Pelanggan (one(pelanggan) to many(many))**\n",
    "\n",
    "**Gabungkan penjualan (sebagai DataFrame kiri) dengan pelanggan (sebagai DataFrame kanan) menggunakan kolom id_pelanggan. Simpan hasilnya ke dalam DataFrame baru bernama penjualan_pelanggan**\n"
   ]
  },
  {
   "cell_type": "code",
   "execution_count": 8,
   "id": "eeece8c0",
   "metadata": {},
   "outputs": [
    {
     "data": {
      "application/vnd.microsoft.datawrangler.viewer.v0+json": {
       "columns": [
        {
         "name": "index",
         "rawType": "int64",
         "type": "integer"
        },
        {
         "name": "id_transaksi",
         "rawType": "object",
         "type": "string"
        },
        {
         "name": "id_pelanggan",
         "rawType": "int64",
         "type": "integer"
        },
        {
         "name": "id_produk",
         "rawType": "object",
         "type": "string"
        },
        {
         "name": "jumlah",
         "rawType": "int64",
         "type": "integer"
        },
        {
         "name": "nama_pelanggan",
         "rawType": "object",
         "type": "string"
        },
        {
         "name": "kota",
         "rawType": "object",
         "type": "string"
        }
       ],
       "ref": "c1b9475a-1cbb-4a7b-ba75-4761eee25356",
       "rows": [
        [
         "0",
         "T01",
         "101",
         "P02",
         "1",
         "Budi",
         "Jakarta"
        ],
        [
         "1",
         "T02",
         "102",
         "P01",
         "2",
         "Citra",
         "Bandung"
        ],
        [
         "2",
         "T03",
         "101",
         "P01",
         "1",
         "Budi",
         "Jakarta"
        ],
        [
         "3",
         "T04",
         "103",
         "P03",
         "3",
         "Eka",
         "Jakarta"
        ],
        [
         "4",
         "T05",
         "102",
         "P02",
         "1",
         "Citra",
         "Bandung"
        ],
        [
         "5",
         "T06",
         "104",
         "P04",
         "1",
         "Dian",
         "Surabaya"
        ]
       ],
       "shape": {
        "columns": 6,
        "rows": 6
       }
      },
      "text/html": [
       "<div>\n",
       "<style scoped>\n",
       "    .dataframe tbody tr th:only-of-type {\n",
       "        vertical-align: middle;\n",
       "    }\n",
       "\n",
       "    .dataframe tbody tr th {\n",
       "        vertical-align: top;\n",
       "    }\n",
       "\n",
       "    .dataframe thead th {\n",
       "        text-align: right;\n",
       "    }\n",
       "</style>\n",
       "<table border=\"1\" class=\"dataframe\">\n",
       "  <thead>\n",
       "    <tr style=\"text-align: right;\">\n",
       "      <th></th>\n",
       "      <th>id_transaksi</th>\n",
       "      <th>id_pelanggan</th>\n",
       "      <th>id_produk</th>\n",
       "      <th>jumlah</th>\n",
       "      <th>nama_pelanggan</th>\n",
       "      <th>kota</th>\n",
       "    </tr>\n",
       "  </thead>\n",
       "  <tbody>\n",
       "    <tr>\n",
       "      <th>0</th>\n",
       "      <td>T01</td>\n",
       "      <td>101</td>\n",
       "      <td>P02</td>\n",
       "      <td>1</td>\n",
       "      <td>Budi</td>\n",
       "      <td>Jakarta</td>\n",
       "    </tr>\n",
       "    <tr>\n",
       "      <th>1</th>\n",
       "      <td>T02</td>\n",
       "      <td>102</td>\n",
       "      <td>P01</td>\n",
       "      <td>2</td>\n",
       "      <td>Citra</td>\n",
       "      <td>Bandung</td>\n",
       "    </tr>\n",
       "    <tr>\n",
       "      <th>2</th>\n",
       "      <td>T03</td>\n",
       "      <td>101</td>\n",
       "      <td>P01</td>\n",
       "      <td>1</td>\n",
       "      <td>Budi</td>\n",
       "      <td>Jakarta</td>\n",
       "    </tr>\n",
       "    <tr>\n",
       "      <th>3</th>\n",
       "      <td>T04</td>\n",
       "      <td>103</td>\n",
       "      <td>P03</td>\n",
       "      <td>3</td>\n",
       "      <td>Eka</td>\n",
       "      <td>Jakarta</td>\n",
       "    </tr>\n",
       "    <tr>\n",
       "      <th>4</th>\n",
       "      <td>T05</td>\n",
       "      <td>102</td>\n",
       "      <td>P02</td>\n",
       "      <td>1</td>\n",
       "      <td>Citra</td>\n",
       "      <td>Bandung</td>\n",
       "    </tr>\n",
       "    <tr>\n",
       "      <th>5</th>\n",
       "      <td>T06</td>\n",
       "      <td>104</td>\n",
       "      <td>P04</td>\n",
       "      <td>1</td>\n",
       "      <td>Dian</td>\n",
       "      <td>Surabaya</td>\n",
       "    </tr>\n",
       "  </tbody>\n",
       "</table>\n",
       "</div>"
      ],
      "text/plain": [
       "  id_transaksi  id_pelanggan id_produk  jumlah nama_pelanggan      kota\n",
       "0          T01           101       P02       1           Budi   Jakarta\n",
       "1          T02           102       P01       2          Citra   Bandung\n",
       "2          T03           101       P01       1           Budi   Jakarta\n",
       "3          T04           103       P03       3            Eka   Jakarta\n",
       "4          T05           102       P02       1          Citra   Bandung\n",
       "5          T06           104       P04       1           Dian  Surabaya"
      ]
     },
     "execution_count": 8,
     "metadata": {},
     "output_type": "execute_result"
    }
   ],
   "source": [
    "penjualan_pelanggan = penjualan.merge(pelanggan, on='id_pelanggan')\n",
    "penjualan_pelanggan"
   ]
  },
  {
   "cell_type": "markdown",
   "id": "d9c40e84",
   "metadata": {},
   "source": [
    "----"
   ]
  },
  {
   "cell_type": "markdown",
   "id": "3e4b9b4b",
   "metadata": {},
   "source": [
    "**Langkah 3: Menggabungkan Hasil dengan Data Produk**\n",
    "\n",
    "**Lanjutkan dari DataFrame penjualan_pelanggan, gabungkan dengan DataFrame produk menggunakan kolom id_produk. Simpan hasil akhirnya ke dalam DataFrame bernama laporan_lengkap.**"
   ]
  },
  {
   "cell_type": "code",
   "execution_count": 9,
   "id": "0f2d0d17",
   "metadata": {},
   "outputs": [
    {
     "data": {
      "application/vnd.microsoft.datawrangler.viewer.v0+json": {
       "columns": [
        {
         "name": "index",
         "rawType": "int64",
         "type": "integer"
        },
        {
         "name": "id_transaksi",
         "rawType": "object",
         "type": "string"
        },
        {
         "name": "id_pelanggan",
         "rawType": "int64",
         "type": "integer"
        },
        {
         "name": "id_produk",
         "rawType": "object",
         "type": "string"
        },
        {
         "name": "jumlah",
         "rawType": "int64",
         "type": "integer"
        },
        {
         "name": "nama_pelanggan",
         "rawType": "object",
         "type": "string"
        },
        {
         "name": "kota",
         "rawType": "object",
         "type": "string"
        },
        {
         "name": "nama_produk",
         "rawType": "object",
         "type": "string"
        },
        {
         "name": "harga",
         "rawType": "int64",
         "type": "integer"
        }
       ],
       "ref": "1364249b-ee23-4e6e-8c0e-8e80c5fcc2a8",
       "rows": [
        [
         "0",
         "T01",
         "101",
         "P02",
         "1",
         "Budi",
         "Jakarta",
         "Mouse",
         "250000"
        ],
        [
         "1",
         "T02",
         "102",
         "P01",
         "2",
         "Citra",
         "Bandung",
         "Laptop",
         "12000000"
        ],
        [
         "2",
         "T03",
         "101",
         "P01",
         "1",
         "Budi",
         "Jakarta",
         "Laptop",
         "12000000"
        ],
        [
         "3",
         "T04",
         "103",
         "P03",
         "3",
         "Eka",
         "Jakarta",
         "Keyboard",
         "500000"
        ],
        [
         "4",
         "T05",
         "102",
         "P02",
         "1",
         "Citra",
         "Bandung",
         "Mouse",
         "250000"
        ],
        [
         "5",
         "T06",
         "104",
         "P04",
         "1",
         "Dian",
         "Surabaya",
         "Webcam",
         "800000"
        ]
       ],
       "shape": {
        "columns": 8,
        "rows": 6
       }
      },
      "text/html": [
       "<div>\n",
       "<style scoped>\n",
       "    .dataframe tbody tr th:only-of-type {\n",
       "        vertical-align: middle;\n",
       "    }\n",
       "\n",
       "    .dataframe tbody tr th {\n",
       "        vertical-align: top;\n",
       "    }\n",
       "\n",
       "    .dataframe thead th {\n",
       "        text-align: right;\n",
       "    }\n",
       "</style>\n",
       "<table border=\"1\" class=\"dataframe\">\n",
       "  <thead>\n",
       "    <tr style=\"text-align: right;\">\n",
       "      <th></th>\n",
       "      <th>id_transaksi</th>\n",
       "      <th>id_pelanggan</th>\n",
       "      <th>id_produk</th>\n",
       "      <th>jumlah</th>\n",
       "      <th>nama_pelanggan</th>\n",
       "      <th>kota</th>\n",
       "      <th>nama_produk</th>\n",
       "      <th>harga</th>\n",
       "    </tr>\n",
       "  </thead>\n",
       "  <tbody>\n",
       "    <tr>\n",
       "      <th>0</th>\n",
       "      <td>T01</td>\n",
       "      <td>101</td>\n",
       "      <td>P02</td>\n",
       "      <td>1</td>\n",
       "      <td>Budi</td>\n",
       "      <td>Jakarta</td>\n",
       "      <td>Mouse</td>\n",
       "      <td>250000</td>\n",
       "    </tr>\n",
       "    <tr>\n",
       "      <th>1</th>\n",
       "      <td>T02</td>\n",
       "      <td>102</td>\n",
       "      <td>P01</td>\n",
       "      <td>2</td>\n",
       "      <td>Citra</td>\n",
       "      <td>Bandung</td>\n",
       "      <td>Laptop</td>\n",
       "      <td>12000000</td>\n",
       "    </tr>\n",
       "    <tr>\n",
       "      <th>2</th>\n",
       "      <td>T03</td>\n",
       "      <td>101</td>\n",
       "      <td>P01</td>\n",
       "      <td>1</td>\n",
       "      <td>Budi</td>\n",
       "      <td>Jakarta</td>\n",
       "      <td>Laptop</td>\n",
       "      <td>12000000</td>\n",
       "    </tr>\n",
       "    <tr>\n",
       "      <th>3</th>\n",
       "      <td>T04</td>\n",
       "      <td>103</td>\n",
       "      <td>P03</td>\n",
       "      <td>3</td>\n",
       "      <td>Eka</td>\n",
       "      <td>Jakarta</td>\n",
       "      <td>Keyboard</td>\n",
       "      <td>500000</td>\n",
       "    </tr>\n",
       "    <tr>\n",
       "      <th>4</th>\n",
       "      <td>T05</td>\n",
       "      <td>102</td>\n",
       "      <td>P02</td>\n",
       "      <td>1</td>\n",
       "      <td>Citra</td>\n",
       "      <td>Bandung</td>\n",
       "      <td>Mouse</td>\n",
       "      <td>250000</td>\n",
       "    </tr>\n",
       "    <tr>\n",
       "      <th>5</th>\n",
       "      <td>T06</td>\n",
       "      <td>104</td>\n",
       "      <td>P04</td>\n",
       "      <td>1</td>\n",
       "      <td>Dian</td>\n",
       "      <td>Surabaya</td>\n",
       "      <td>Webcam</td>\n",
       "      <td>800000</td>\n",
       "    </tr>\n",
       "  </tbody>\n",
       "</table>\n",
       "</div>"
      ],
      "text/plain": [
       "  id_transaksi  id_pelanggan id_produk  jumlah nama_pelanggan      kota  \\\n",
       "0          T01           101       P02       1           Budi   Jakarta   \n",
       "1          T02           102       P01       2          Citra   Bandung   \n",
       "2          T03           101       P01       1           Budi   Jakarta   \n",
       "3          T04           103       P03       3            Eka   Jakarta   \n",
       "4          T05           102       P02       1          Citra   Bandung   \n",
       "5          T06           104       P04       1           Dian  Surabaya   \n",
       "\n",
       "  nama_produk     harga  \n",
       "0       Mouse    250000  \n",
       "1      Laptop  12000000  \n",
       "2      Laptop  12000000  \n",
       "3    Keyboard    500000  \n",
       "4       Mouse    250000  \n",
       "5      Webcam    800000  "
      ]
     },
     "execution_count": 9,
     "metadata": {},
     "output_type": "execute_result"
    }
   ],
   "source": [
    "laporan_lengkap = penjualan_pelanggan.merge(produk, on='id_produk')\n",
    "laporan_lengkap"
   ]
  },
  {
   "cell_type": "code",
   "execution_count": 13,
   "id": "12bdcd26",
   "metadata": {},
   "outputs": [],
   "source": [
    "## additional\n",
    "# # Menggabungkan tiga DataFrame sekaligus dengan metode chaining\n",
    "# laporan_lengkap_chained = penjualan.merge(pelanggan, on='id_pelanggan').merge(produk, on='id_produk')\n",
    "# laporan_lengkap_chained"
   ]
  },
  {
   "cell_type": "markdown",
   "id": "1651d089",
   "metadata": {},
   "source": [
    "**additonal analisis**\n",
    "\n",
    "**Gunakan DataFrame laporan_lengkap untuk menjawab pertanyaan berikut:**\n",
    "\n",
    "**1. Hitung Total Pendapatan per Transaksi.**\n",
    "- Buat kolom baru bernama total_harga yang merupakan hasil perkalian dari kolom jumlah dan harga.\n",
    "\n",
    "**2. Siapa Pelanggan dengan Total Belanja Terbanyak?**\n",
    "- Gunakan groupby() pada kolom nama_pelanggan dan jumlahkan total_harga.\n",
    "\n",
    "**3. Produk Apa yang Paling Banyak Terjual (berdasarkan kuantitas)?**\n",
    "- Gunakan groupby() pada nama_produk dan jumlahkan jumlah\n",
    "\n"
   ]
  },
  {
   "cell_type": "code",
   "execution_count": 17,
   "id": "f4f27336",
   "metadata": {},
   "outputs": [
    {
     "data": {
      "application/vnd.microsoft.datawrangler.viewer.v0+json": {
       "columns": [
        {
         "name": "index",
         "rawType": "int64",
         "type": "integer"
        },
        {
         "name": "id_transaksi",
         "rawType": "object",
         "type": "string"
        },
        {
         "name": "id_pelanggan",
         "rawType": "int64",
         "type": "integer"
        },
        {
         "name": "id_produk",
         "rawType": "object",
         "type": "string"
        },
        {
         "name": "jumlah",
         "rawType": "int64",
         "type": "integer"
        },
        {
         "name": "nama_pelanggan",
         "rawType": "object",
         "type": "string"
        },
        {
         "name": "kota",
         "rawType": "object",
         "type": "string"
        },
        {
         "name": "nama_produk",
         "rawType": "object",
         "type": "string"
        },
        {
         "name": "harga",
         "rawType": "int64",
         "type": "integer"
        },
        {
         "name": "total_harga",
         "rawType": "int64",
         "type": "integer"
        }
       ],
       "ref": "61564097-0dd5-4316-a05e-58b3e8f7531e",
       "rows": [
        [
         "1",
         "T02",
         "102",
         "P01",
         "2",
         "Citra",
         "Bandung",
         "Laptop",
         "12000000",
         "24000000"
        ],
        [
         "2",
         "T03",
         "101",
         "P01",
         "1",
         "Budi",
         "Jakarta",
         "Laptop",
         "12000000",
         "12000000"
        ],
        [
         "3",
         "T04",
         "103",
         "P03",
         "3",
         "Eka",
         "Jakarta",
         "Keyboard",
         "500000",
         "1500000"
        ],
        [
         "5",
         "T06",
         "104",
         "P04",
         "1",
         "Dian",
         "Surabaya",
         "Webcam",
         "800000",
         "800000"
        ],
        [
         "0",
         "T01",
         "101",
         "P02",
         "1",
         "Budi",
         "Jakarta",
         "Mouse",
         "250000",
         "250000"
        ],
        [
         "4",
         "T05",
         "102",
         "P02",
         "1",
         "Citra",
         "Bandung",
         "Mouse",
         "250000",
         "250000"
        ]
       ],
       "shape": {
        "columns": 9,
        "rows": 6
       }
      },
      "text/html": [
       "<div>\n",
       "<style scoped>\n",
       "    .dataframe tbody tr th:only-of-type {\n",
       "        vertical-align: middle;\n",
       "    }\n",
       "\n",
       "    .dataframe tbody tr th {\n",
       "        vertical-align: top;\n",
       "    }\n",
       "\n",
       "    .dataframe thead th {\n",
       "        text-align: right;\n",
       "    }\n",
       "</style>\n",
       "<table border=\"1\" class=\"dataframe\">\n",
       "  <thead>\n",
       "    <tr style=\"text-align: right;\">\n",
       "      <th></th>\n",
       "      <th>id_transaksi</th>\n",
       "      <th>id_pelanggan</th>\n",
       "      <th>id_produk</th>\n",
       "      <th>jumlah</th>\n",
       "      <th>nama_pelanggan</th>\n",
       "      <th>kota</th>\n",
       "      <th>nama_produk</th>\n",
       "      <th>harga</th>\n",
       "      <th>total_harga</th>\n",
       "    </tr>\n",
       "  </thead>\n",
       "  <tbody>\n",
       "    <tr>\n",
       "      <th>1</th>\n",
       "      <td>T02</td>\n",
       "      <td>102</td>\n",
       "      <td>P01</td>\n",
       "      <td>2</td>\n",
       "      <td>Citra</td>\n",
       "      <td>Bandung</td>\n",
       "      <td>Laptop</td>\n",
       "      <td>12000000</td>\n",
       "      <td>24000000</td>\n",
       "    </tr>\n",
       "    <tr>\n",
       "      <th>2</th>\n",
       "      <td>T03</td>\n",
       "      <td>101</td>\n",
       "      <td>P01</td>\n",
       "      <td>1</td>\n",
       "      <td>Budi</td>\n",
       "      <td>Jakarta</td>\n",
       "      <td>Laptop</td>\n",
       "      <td>12000000</td>\n",
       "      <td>12000000</td>\n",
       "    </tr>\n",
       "    <tr>\n",
       "      <th>3</th>\n",
       "      <td>T04</td>\n",
       "      <td>103</td>\n",
       "      <td>P03</td>\n",
       "      <td>3</td>\n",
       "      <td>Eka</td>\n",
       "      <td>Jakarta</td>\n",
       "      <td>Keyboard</td>\n",
       "      <td>500000</td>\n",
       "      <td>1500000</td>\n",
       "    </tr>\n",
       "    <tr>\n",
       "      <th>5</th>\n",
       "      <td>T06</td>\n",
       "      <td>104</td>\n",
       "      <td>P04</td>\n",
       "      <td>1</td>\n",
       "      <td>Dian</td>\n",
       "      <td>Surabaya</td>\n",
       "      <td>Webcam</td>\n",
       "      <td>800000</td>\n",
       "      <td>800000</td>\n",
       "    </tr>\n",
       "    <tr>\n",
       "      <th>0</th>\n",
       "      <td>T01</td>\n",
       "      <td>101</td>\n",
       "      <td>P02</td>\n",
       "      <td>1</td>\n",
       "      <td>Budi</td>\n",
       "      <td>Jakarta</td>\n",
       "      <td>Mouse</td>\n",
       "      <td>250000</td>\n",
       "      <td>250000</td>\n",
       "    </tr>\n",
       "    <tr>\n",
       "      <th>4</th>\n",
       "      <td>T05</td>\n",
       "      <td>102</td>\n",
       "      <td>P02</td>\n",
       "      <td>1</td>\n",
       "      <td>Citra</td>\n",
       "      <td>Bandung</td>\n",
       "      <td>Mouse</td>\n",
       "      <td>250000</td>\n",
       "      <td>250000</td>\n",
       "    </tr>\n",
       "  </tbody>\n",
       "</table>\n",
       "</div>"
      ],
      "text/plain": [
       "  id_transaksi  id_pelanggan id_produk  jumlah nama_pelanggan      kota  \\\n",
       "1          T02           102       P01       2          Citra   Bandung   \n",
       "2          T03           101       P01       1           Budi   Jakarta   \n",
       "3          T04           103       P03       3            Eka   Jakarta   \n",
       "5          T06           104       P04       1           Dian  Surabaya   \n",
       "0          T01           101       P02       1           Budi   Jakarta   \n",
       "4          T05           102       P02       1          Citra   Bandung   \n",
       "\n",
       "  nama_produk     harga  total_harga  \n",
       "1      Laptop  12000000     24000000  \n",
       "2      Laptop  12000000     12000000  \n",
       "3    Keyboard    500000      1500000  \n",
       "5      Webcam    800000       800000  \n",
       "0       Mouse    250000       250000  \n",
       "4       Mouse    250000       250000  "
      ]
     },
     "execution_count": 17,
     "metadata": {},
     "output_type": "execute_result"
    }
   ],
   "source": [
    "# hitung total pendapatan per transaksi\n",
    "laporan_lengkap['total_harga'] = laporan_lengkap['jumlah'] * laporan_lengkap['harga']\n",
    "\n",
    "laporan_lengkap.sort_values('total_harga',ascending=False, inplace=True)\n",
    "laporan_lengkap"
   ]
  },
  {
   "cell_type": "code",
   "execution_count": 28,
   "id": "309fac99",
   "metadata": {},
   "outputs": [
    {
     "name": "stdout",
     "output_type": "stream",
     "text": [
      "Pelanggan dengan total belanja terbanyak adalah: Citra dengan total belanja Rp24,250,000\n"
     ]
    }
   ],
   "source": [
    "# Siapa Pelanggan dengan Total Belanja Terbanyak?\n",
    "pelanggan_total_belanja_terbanyak = laporan_lengkap.groupby('nama_pelanggan')['total_harga'].sum()\n",
    "# pelanggan_total_belanja_terbanyak\n",
    "top_pelanggan = pelanggan_total_belanja_terbanyak.idxmax()\n",
    "top_total_belanja = pelanggan_total_belanja_terbanyak.max()\n",
    "print(f\"Pelanggan dengan total belanja terbanyak adalah: {top_pelanggan} dengan total belanja Rp{top_total_belanja:,}\")"
   ]
  },
  {
   "cell_type": "code",
   "execution_count": 31,
   "id": "fba824fc",
   "metadata": {},
   "outputs": [
    {
     "name": "stdout",
     "output_type": "stream",
     "text": [
      "Produk dengan total penjualan terbanyak/terlaris adalah: Keyboard dengan total barang terjual sebanyak: 3 unit/pcs\n"
     ]
    }
   ],
   "source": [
    "# Produk Apa yang Paling Banyak Terjual (berdasarkan kuantitas)?\n",
    "\n",
    "produk_terlaris = laporan_lengkap.groupby('nama_produk')['jumlah'].sum()\n",
    "top_produk = produk_terlaris.idxmax()\n",
    "top_total_terjual = produk_terlaris.max()\n",
    "\n",
    "print(f\"Produk dengan total penjualan terbanyak/terlaris adalah: {top_produk} dengan total barang terjual sebanyak: {top_total_terjual} unit/pcs\")\n"
   ]
  }
 ],
 "metadata": {
  "kernelspec": {
   "display_name": "Python 3",
   "language": "python",
   "name": "python3"
  },
  "language_info": {
   "codemirror_mode": {
    "name": "ipython",
    "version": 3
   },
   "file_extension": ".py",
   "mimetype": "text/x-python",
   "name": "python",
   "nbconvert_exporter": "python",
   "pygments_lexer": "ipython3",
   "version": "3.12.4"
  }
 },
 "nbformat": 4,
 "nbformat_minor": 5
}
