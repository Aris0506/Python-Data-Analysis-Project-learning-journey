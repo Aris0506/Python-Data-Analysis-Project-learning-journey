{
 "cells": [
  {
   "cell_type": "markdown",
   "id": "311867b5",
   "metadata": {},
   "source": [
    "### Proyek Mini: \"Manajemen Daftar Tugas Harian\"\n",
    "\n",
    "\n",
    "\n",
    "\n",
    "\n",
    "\n"
   ]
  },
  {
   "cell_type": "markdown",
   "id": "66d2c010",
   "metadata": {
    "vscode": {
     "languageId": "latex"
    }
   },
   "source": [
    "#### Deskripsi Proyek: Manajemen Daftar Tugas Harian\n",
    "\n",
    "***Proyek ini bertujuan untuk menyimulasikan pengelolaan data dinamis dalam skenario nyata menggunakan*** \n",
    "***struktur data fundamental Python, yaitu list. Metodologi ini menerapkan operasi dasar pada list untuk mencatat, mengakses, memodifikasi, dan mengelola serangkaian tugas.*** "
   ]
  },
  {
   "cell_type": "code",
   "execution_count": null,
   "id": "4a548d09",
   "metadata": {},
   "outputs": [
    {
     "name": "stdout",
     "output_type": "stream",
     "text": [
      "Daftar Tugas Awal:\n",
      "[['Balas email penting', 30], ['Menyiapkan laporan mingguan', 90], ['Membaca buku', 45], ['Olahraga', 60]]\n"
     ]
    }
   ],
   "source": [
    "# Langkah 1: Membuat daftar tugas awal\n",
    "# Konsep yang diterapkan: Membuat list dan list di dalam list\n",
    "# Deskripsi: Membuat daftar tugas harian yang berisi nama tugas dan durasi dalam menit.\n",
    "# Tugas-tugas ini akan digunakan untuk simulasi pengelolaan data dinamis.  \n",
    "# Contoh tugas: Balas email penting, Menyiapkan laporan mingguan, Membaca buku, Olahraga.\n",
    "# Setiap tugas diwakili sebagai list yang berisi nama tugas dan durasi dalam menit.\n",
    "# Daftar tugas akan disimpan dalam list utama yang berisi semua tugas.      \n",
    "# Contoh kode:         \n",
    "tugas1 = [\"Balas email penting\", 30]\n",
    "tugas2 = [\"Menyiapkan laporan mingguan\", 90]\n",
    "tugas3 = [\"Membaca buku\", 45]\n",
    "tugas4 = [\"Olahraga\", 60]\n",
    "\n",
    "daftar_tugas = [tugas1, tugas2, tugas3, tugas4]\n",
    "print(\"Daftar Tugas Awal:\")\n",
    "print(daftar_tugas)"
   ]
  },
  {
   "cell_type": "code",
   "execution_count": null,
   "id": "a918ac97",
   "metadata": {},
   "outputs": [
    {
     "name": "stdout",
     "output_type": "stream",
     "text": [
      "\n",
      "Detail tugas kedua: ['Menyiapkan laporan mingguan', 90]\n",
      "Estimasi waktu tugas terakhir: 60 menit\n"
     ]
    }
   ],
   "source": [
    "# Langkah 2: Mengakses detail tugas\n",
    "# Konsep yang diterapkan: Mengakses elemen dalam list\n",
    "tugas_kedua = daftar_tugas[1]\n",
    "print(\"\\nDetail tugas kedua:\", tugas_kedua)\n",
    "\n",
    "# mengakses estimasi waktu tugas terakhir\n",
    "# Konsep yang diterapkan: Mengakses elemen terakhir dalam list\n",
    "waktu_tugas_terakhir = daftar_tugas[-1][1]\n",
    "print(\"Estimasi waktu tugas terakhir:\", waktu_tugas_terakhir, \"menit\")"
   ]
  },
  {
   "cell_type": "code",
   "execution_count": null,
   "id": "b11b30e2",
   "metadata": {},
   "outputs": [
    {
     "name": "stdout",
     "output_type": "stream",
     "text": [
      "\n",
      "Daftar setelah pembaruan waktu: [['Balas email penting', 30], ['Menyiapkan laporan mingguan', 90], ['Membaca buku', 30], ['Olahraga', 60]]\n",
      "Daftar setelah ada tugas baru: [['Balas email penting', 30], ['Menyiapkan laporan mingguan', 90], ['Membaca buku', 30], ['Olahraga', 60], ['Meeting tim', 45], ['Beli makan siang', 15]]\n"
     ]
    }
   ],
   "source": [
    "# Langkah 3: Memperbarui waktu tugas\n",
    "# Konsep yang diterapkan: Memodifikasi elemen dalam list\n",
    "# Deskripsi: Mengubah durasi tugas ketiga menjadi 30 menit.\n",
    "daftar_tugas[2][1] = 30 \n",
    "print(\"\\nDaftar setelah pembaruan waktu:\", daftar_tugas)\n",
    "\n"
   ]
  },
  {
   "cell_type": "code",
   "execution_count": 8,
   "id": "37044ff9",
   "metadata": {},
   "outputs": [
    {
     "name": "stdout",
     "output_type": "stream",
     "text": [
      "Daftar setelah ada tugas baru: [['Membaca buku', 30], ['Olahraga', 60], ['Meeting tim', 45], ['Beli makan siang', 15], ['Meeting tim', 45], ['Beli makan siang', 15]]\n"
     ]
    }
   ],
   "source": [
    "# Menambah tugas baru\n",
    "# Konsep yang diterapkan: Menambahkan elemen ke dalam list\n",
    "# Deskripsi: Menambahkan tugas baru ke dalam daftar tugas.\n",
    "tugas_tambahan = [[\"Meeting tim\", 45], [\"Beli makan siang\", 15]]\n",
    "daftar_tugas = daftar_tugas + tugas_tambahan\n",
    "print(\"Daftar setelah ada tugas baru:\", daftar_tugas)"
   ]
  },
  {
   "cell_type": "code",
   "execution_count": 6,
   "id": "636f2721",
   "metadata": {},
   "outputs": [
    {
     "name": "stdout",
     "output_type": "stream",
     "text": [
      "\n",
      "Daftar setelah tugas pertama selesai: [['Membaca buku', 30], ['Olahraga', 60], ['Meeting tim', 45], ['Beli makan siang', 15]]\n"
     ]
    }
   ],
   "source": [
    "# Langkah 4: Menghapus tugas yang selesai\n",
    "# Konsep yang diterapkan: Menghapus elemen dari list\n",
    "# Deskripsi: Menghapus tugas pertama dari daftar tugas yang sudah selesai.\n",
    "# Ini mensimulasikan pengelolaan tugas harian yang dinamis.\n",
    "# Menghapus tugas pertama dari daftar tugas yang sudah selesai.\n",
    "# Contoh kode:\n",
    "del(daftar_tugas[0])\n",
    "print(\"\\nDaftar setelah tugas pertama selesai:\", daftar_tugas)\n",
    "\n"
   ]
  },
  {
   "cell_type": "code",
   "execution_count": 7,
   "id": "e50492ee",
   "metadata": {},
   "outputs": [
    {
     "name": "stdout",
     "output_type": "stream",
     "text": [
      "Daftar Tugas Prioritas: [['Membaca buku', 30], ['Olahraga', 60]]\n"
     ]
    }
   ],
   "source": [
    "# Langkah 5: Membuat daftar prioritas\n",
    "# Konsep yang diterapkan: Mengakses elemen dalam list   \n",
    "# Deskripsi: Membuat daftar prioritas dari 2 tugas teratas.\n",
    "# Ini mensimulasikan pengelolaan tugas harian yang dinamis. \n",
    "# Mengakses 2 tugas teratas dari daftar tugas.\n",
    "# Contoh kode:\n",
    "\n",
    "# Membuat daftar prioritas dari 2 tugas teratas\n",
    "tugas_prioritas = daftar_tugas[:2]\n",
    "print(\"Daftar Tugas Prioritas:\", tugas_prioritas)"
   ]
  },
  {
   "cell_type": "code",
   "execution_count": null,
   "id": "77d5163e",
   "metadata": {},
   "outputs": [],
   "source": [
    "### Hasil akhir:\n",
    "\n",
    "# setelah menjalankan kode ini, Anda akan melihat daftar tugas awal, detail tugas kedua, estimasi waktu tugas terakhir, \n",
    "# daftar setelah pembaruan waktu, daftar setelah ada tugas baru, daftar setelah tugas pertama selesai, dan daftar tugas prioritas.\n",
    "# Ini memberikan gambaran tentang bagaimana mengelola data dinamis menggunakan list di Python.  "
   ]
  }
 ],
 "metadata": {
  "kernelspec": {
   "display_name": "Python 3",
   "language": "python",
   "name": "python3"
  },
  "language_info": {
   "codemirror_mode": {
    "name": "ipython",
    "version": 3
   },
   "file_extension": ".py",
   "mimetype": "text/x-python",
   "name": "python",
   "nbconvert_exporter": "python",
   "pygments_lexer": "ipython3",
   "version": "3.12.4"
  }
 },
 "nbformat": 4,
 "nbformat_minor": 5
}
