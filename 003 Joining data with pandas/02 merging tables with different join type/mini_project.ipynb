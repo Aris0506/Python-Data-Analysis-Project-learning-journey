{
 "cells": [
  {
   "cell_type": "markdown",
   "id": "9fda8453",
   "metadata": {},
   "source": [
    "**Mini Project: Analisis Data Karyawan dan Proyek**\n",
    "\n",
    "**Tujuan:**\n",
    "\n",
    "**Gunakan berbagai metode join untuk menjawab beberapa pertanyaan bisnis.**\n",
    "\n",
    "----"
   ]
  },
  {
   "cell_type": "markdown",
   "id": "e32c66ac",
   "metadata": {},
   "source": [
    "**Data:**\n",
    "\n",
    "**Buat tiga DataFrame pandas secara manual**"
   ]
  },
  {
   "cell_type": "code",
   "execution_count": 5,
   "id": "e2716e8c",
   "metadata": {},
   "outputs": [
    {
     "name": "stdout",
     "output_type": "stream",
     "text": [
      "--- Data Karyawan ---\n",
      "   id_karyawan   nama  id_departemen\n",
      "0          101   Andi            1.0\n",
      "1          102   Budi            1.0\n",
      "2          103  Citra            2.0\n",
      "3          104   Dina            3.0\n",
      "4          105    Eka            NaN\n",
      "\n",
      "--- Data Departement ---\n",
      "   id_departemen nama_departemen\n",
      "0              1       Teknologi\n",
      "1              2       Pemasaran\n",
      "2              4        Keuangan\n",
      "\n",
      "--- Data Proyek ---\n",
      "  id_proyek      nama_proyek  penanggung_jawab\n",
      "0        P1  Aplikasi Mobile               101\n",
      "1        P2      Riset Pasar               103\n",
      "2        P3      Sistem Gaji               106\n"
     ]
    }
   ],
   "source": [
    "import pandas as pd\n",
    "\n",
    "karyawan = {\n",
    "    'id_karyawan': [101, 102, 103, 104, 105],\n",
    "    'nama': ['Andi', 'Budi', 'Citra', 'Dina', 'Eka'],\n",
    "    'id_departemen': [1, 1, 2, 3, None]\n",
    "}\n",
    "data_karyawan = pd.DataFrame(karyawan)\n",
    "\n",
    "departemen = {\n",
    "    'id_departemen': [1, 2, 4],\n",
    "    'nama_departemen': ['Teknologi', 'Pemasaran', 'Keuangan']\n",
    "}\n",
    "data_departement = pd.DataFrame(departemen)\n",
    "\n",
    "proyek = {\n",
    "    'id_proyek': ['P1', 'P2', 'P3'],\n",
    "    'nama_proyek': ['Aplikasi Mobile', 'Riset Pasar', 'Sistem Gaji'],\n",
    "    'penanggung_jawab': [101, 103, 106]\n",
    "}\n",
    "data_proyek = pd.DataFrame(proyek)\n",
    "\n",
    "\n",
    "# Tampilkan data untuk memastikan semuanya benar\n",
    "print(\"--- Data Karyawan ---\")\n",
    "print(data_karyawan)\n",
    "print(\"\\n--- Data Departement ---\")\n",
    "print(data_departement)\n",
    "print(\"\\n--- Data Proyek ---\")\n",
    "print(data_proyek)"
   ]
  },
  {
   "cell_type": "markdown",
   "id": "41e9c821",
   "metadata": {},
   "source": [
    "---"
   ]
  },
  {
   "cell_type": "markdown",
   "id": "d460fede",
   "metadata": {},
   "source": [
    "**Tugas:**\n",
    "\n",
    "**1. Laporan Karyawan dan Departemen (Left Join)**\n",
    "\n",
    "- Gabungkan karyawan dan departemen untuk membuat daftar semua karyawan dan nama departemen mereka.\n",
    "- Pertanyaan: Siapakah karyawan yang belum memiliki departemen? (Lihat baris mana yang memiliki nama_departemen kosong/NaN)\n",
    "\n",
    "**2. Laporan Penuh Departemen (Right Join)**\n",
    "\n",
    "- Gabungkan karyawan dan departemen untuk membuat daftar semua departemen yang ada di perusahaan dan siapa saja karyawan di dalamnya.\n",
    "- Pertanyaan: Departemen mana yang saat ini tidak memiliki karyawan?\n",
    "\n",
    "**3. Laporan Karyawan dan Penanggung Jawab Proyek (Outer Join)**\n",
    "\n",
    "- Gabungkan karyawan dan proyek. Gunakan left_on='id_karyawan' dan right_on='penanggung_jawab'.\n",
    "- Pertanyaan: Siapa karyawan yang tidak menjadi penanggung jawab proyek? Proyek mana yang penanggung jawabnya bukan merupakan karyawan internal (ID-nya tidak ada di tabel karyawan)?\n",
    "\n",
    "----"
   ]
  },
  {
   "cell_type": "markdown",
   "id": "e53c5e29",
   "metadata": {},
   "source": [
    "**1. Laporan Karyawan dan Departemen (Left Join)**"
   ]
  },
  {
   "cell_type": "code",
   "execution_count": 10,
   "id": "bbad864b",
   "metadata": {},
   "outputs": [
    {
     "data": {
      "application/vnd.microsoft.datawrangler.viewer.v0+json": {
       "columns": [
        {
         "name": "index",
         "rawType": "int64",
         "type": "integer"
        },
        {
         "name": "id_karyawan",
         "rawType": "int64",
         "type": "integer"
        },
        {
         "name": "nama",
         "rawType": "object",
         "type": "string"
        },
        {
         "name": "id_departemen",
         "rawType": "float64",
         "type": "float"
        },
        {
         "name": "nama_departemen",
         "rawType": "object",
         "type": "unknown"
        }
       ],
       "ref": "25493e6e-91dc-4d99-864c-47915f723382",
       "rows": [
        [
         "0",
         "101",
         "Andi",
         "1.0",
         "Teknologi"
        ],
        [
         "1",
         "102",
         "Budi",
         "1.0",
         "Teknologi"
        ],
        [
         "2",
         "103",
         "Citra",
         "2.0",
         "Pemasaran"
        ],
        [
         "3",
         "104",
         "Dina",
         "3.0",
         null
        ],
        [
         "4",
         "105",
         "Eka",
         null,
         null
        ]
       ],
       "shape": {
        "columns": 4,
        "rows": 5
       }
      },
      "text/html": [
       "<div>\n",
       "<style scoped>\n",
       "    .dataframe tbody tr th:only-of-type {\n",
       "        vertical-align: middle;\n",
       "    }\n",
       "\n",
       "    .dataframe tbody tr th {\n",
       "        vertical-align: top;\n",
       "    }\n",
       "\n",
       "    .dataframe thead th {\n",
       "        text-align: right;\n",
       "    }\n",
       "</style>\n",
       "<table border=\"1\" class=\"dataframe\">\n",
       "  <thead>\n",
       "    <tr style=\"text-align: right;\">\n",
       "      <th></th>\n",
       "      <th>id_karyawan</th>\n",
       "      <th>nama</th>\n",
       "      <th>id_departemen</th>\n",
       "      <th>nama_departemen</th>\n",
       "    </tr>\n",
       "  </thead>\n",
       "  <tbody>\n",
       "    <tr>\n",
       "      <th>0</th>\n",
       "      <td>101</td>\n",
       "      <td>Andi</td>\n",
       "      <td>1.0</td>\n",
       "      <td>Teknologi</td>\n",
       "    </tr>\n",
       "    <tr>\n",
       "      <th>1</th>\n",
       "      <td>102</td>\n",
       "      <td>Budi</td>\n",
       "      <td>1.0</td>\n",
       "      <td>Teknologi</td>\n",
       "    </tr>\n",
       "    <tr>\n",
       "      <th>2</th>\n",
       "      <td>103</td>\n",
       "      <td>Citra</td>\n",
       "      <td>2.0</td>\n",
       "      <td>Pemasaran</td>\n",
       "    </tr>\n",
       "    <tr>\n",
       "      <th>3</th>\n",
       "      <td>104</td>\n",
       "      <td>Dina</td>\n",
       "      <td>3.0</td>\n",
       "      <td>NaN</td>\n",
       "    </tr>\n",
       "    <tr>\n",
       "      <th>4</th>\n",
       "      <td>105</td>\n",
       "      <td>Eka</td>\n",
       "      <td>NaN</td>\n",
       "      <td>NaN</td>\n",
       "    </tr>\n",
       "  </tbody>\n",
       "</table>\n",
       "</div>"
      ],
      "text/plain": [
       "   id_karyawan   nama  id_departemen nama_departemen\n",
       "0          101   Andi            1.0       Teknologi\n",
       "1          102   Budi            1.0       Teknologi\n",
       "2          103  Citra            2.0       Pemasaran\n",
       "3          104   Dina            3.0             NaN\n",
       "4          105    Eka            NaN             NaN"
      ]
     },
     "execution_count": 10,
     "metadata": {},
     "output_type": "execute_result"
    }
   ],
   "source": [
    "# siapa yang belum memiliki departement?\n",
    "\n",
    "karyawan_dan_departement = data_karyawan.merge(data_departement, on='id_departemen', how='left')\n",
    "karyawan_dan_departement"
   ]
  },
  {
   "cell_type": "markdown",
   "id": "402d4048",
   "metadata": {},
   "source": [
    "---"
   ]
  },
  {
   "cell_type": "markdown",
   "id": "41a2c5fb",
   "metadata": {},
   "source": [
    "**2. Laporan Penuh Departemen (Right Join)**"
   ]
  },
  {
   "cell_type": "code",
   "execution_count": 11,
   "id": "092aebb3",
   "metadata": {},
   "outputs": [
    {
     "data": {
      "application/vnd.microsoft.datawrangler.viewer.v0+json": {
       "columns": [
        {
         "name": "index",
         "rawType": "int64",
         "type": "integer"
        },
        {
         "name": "id_karyawan",
         "rawType": "float64",
         "type": "float"
        },
        {
         "name": "nama",
         "rawType": "object",
         "type": "unknown"
        },
        {
         "name": "id_departemen",
         "rawType": "float64",
         "type": "float"
        },
        {
         "name": "nama_departemen",
         "rawType": "object",
         "type": "string"
        }
       ],
       "ref": "8a9f8d9b-82de-4b01-b494-a38a571da93d",
       "rows": [
        [
         "0",
         "101.0",
         "Andi",
         "1.0",
         "Teknologi"
        ],
        [
         "1",
         "102.0",
         "Budi",
         "1.0",
         "Teknologi"
        ],
        [
         "2",
         "103.0",
         "Citra",
         "2.0",
         "Pemasaran"
        ],
        [
         "3",
         null,
         null,
         "4.0",
         "Keuangan"
        ]
       ],
       "shape": {
        "columns": 4,
        "rows": 4
       }
      },
      "text/html": [
       "<div>\n",
       "<style scoped>\n",
       "    .dataframe tbody tr th:only-of-type {\n",
       "        vertical-align: middle;\n",
       "    }\n",
       "\n",
       "    .dataframe tbody tr th {\n",
       "        vertical-align: top;\n",
       "    }\n",
       "\n",
       "    .dataframe thead th {\n",
       "        text-align: right;\n",
       "    }\n",
       "</style>\n",
       "<table border=\"1\" class=\"dataframe\">\n",
       "  <thead>\n",
       "    <tr style=\"text-align: right;\">\n",
       "      <th></th>\n",
       "      <th>id_karyawan</th>\n",
       "      <th>nama</th>\n",
       "      <th>id_departemen</th>\n",
       "      <th>nama_departemen</th>\n",
       "    </tr>\n",
       "  </thead>\n",
       "  <tbody>\n",
       "    <tr>\n",
       "      <th>0</th>\n",
       "      <td>101.0</td>\n",
       "      <td>Andi</td>\n",
       "      <td>1.0</td>\n",
       "      <td>Teknologi</td>\n",
       "    </tr>\n",
       "    <tr>\n",
       "      <th>1</th>\n",
       "      <td>102.0</td>\n",
       "      <td>Budi</td>\n",
       "      <td>1.0</td>\n",
       "      <td>Teknologi</td>\n",
       "    </tr>\n",
       "    <tr>\n",
       "      <th>2</th>\n",
       "      <td>103.0</td>\n",
       "      <td>Citra</td>\n",
       "      <td>2.0</td>\n",
       "      <td>Pemasaran</td>\n",
       "    </tr>\n",
       "    <tr>\n",
       "      <th>3</th>\n",
       "      <td>NaN</td>\n",
       "      <td>NaN</td>\n",
       "      <td>4.0</td>\n",
       "      <td>Keuangan</td>\n",
       "    </tr>\n",
       "  </tbody>\n",
       "</table>\n",
       "</div>"
      ],
      "text/plain": [
       "   id_karyawan   nama  id_departemen nama_departemen\n",
       "0        101.0   Andi            1.0       Teknologi\n",
       "1        102.0   Budi            1.0       Teknologi\n",
       "2        103.0  Citra            2.0       Pemasaran\n",
       "3          NaN    NaN            4.0        Keuangan"
      ]
     },
     "execution_count": 11,
     "metadata": {},
     "output_type": "execute_result"
    }
   ],
   "source": [
    "# departement mana yang saat ini yang tidak memiliki karyawan\n",
    "\n",
    "whos = data_karyawan.merge(data_departement, on='id_departemen', how='right')\n",
    "whos"
   ]
  },
  {
   "cell_type": "markdown",
   "id": "3da4670f",
   "metadata": {},
   "source": [
    "---"
   ]
  },
  {
   "cell_type": "markdown",
   "id": "6a6525e1",
   "metadata": {},
   "source": [
    "**3. Laporan Karyawan dan Penanggung Jawab Proyek (Outer Join)**"
   ]
  },
  {
   "cell_type": "code",
   "execution_count": null,
   "id": "0ac54deb",
   "metadata": {},
   "outputs": [],
   "source": []
  },
  {
   "cell_type": "code",
   "execution_count": 13,
   "id": "5847817e",
   "metadata": {},
   "outputs": [
    {
     "data": {
      "application/vnd.microsoft.datawrangler.viewer.v0+json": {
       "columns": [
        {
         "name": "index",
         "rawType": "int64",
         "type": "integer"
        },
        {
         "name": "id_karyawan",
         "rawType": "float64",
         "type": "float"
        },
        {
         "name": "nama",
         "rawType": "object",
         "type": "unknown"
        },
        {
         "name": "id_departemen",
         "rawType": "float64",
         "type": "float"
        },
        {
         "name": "id_proyek",
         "rawType": "object",
         "type": "unknown"
        },
        {
         "name": "nama_proyek",
         "rawType": "object",
         "type": "unknown"
        },
        {
         "name": "penanggung_jawab",
         "rawType": "float64",
         "type": "float"
        }
       ],
       "ref": "ac7c7206-b726-46f5-94e1-9f31ede72f75",
       "rows": [
        [
         "0",
         "101.0",
         "Andi",
         "1.0",
         "P1",
         "Aplikasi Mobile",
         "101.0"
        ],
        [
         "1",
         "102.0",
         "Budi",
         "1.0",
         null,
         null,
         null
        ],
        [
         "2",
         "103.0",
         "Citra",
         "2.0",
         "P2",
         "Riset Pasar",
         "103.0"
        ],
        [
         "3",
         "104.0",
         "Dina",
         "3.0",
         null,
         null,
         null
        ],
        [
         "4",
         "105.0",
         "Eka",
         null,
         null,
         null,
         null
        ],
        [
         "5",
         null,
         null,
         null,
         "P3",
         "Sistem Gaji",
         "106.0"
        ]
       ],
       "shape": {
        "columns": 6,
        "rows": 6
       }
      },
      "text/html": [
       "<div>\n",
       "<style scoped>\n",
       "    .dataframe tbody tr th:only-of-type {\n",
       "        vertical-align: middle;\n",
       "    }\n",
       "\n",
       "    .dataframe tbody tr th {\n",
       "        vertical-align: top;\n",
       "    }\n",
       "\n",
       "    .dataframe thead th {\n",
       "        text-align: right;\n",
       "    }\n",
       "</style>\n",
       "<table border=\"1\" class=\"dataframe\">\n",
       "  <thead>\n",
       "    <tr style=\"text-align: right;\">\n",
       "      <th></th>\n",
       "      <th>id_karyawan</th>\n",
       "      <th>nama</th>\n",
       "      <th>id_departemen</th>\n",
       "      <th>id_proyek</th>\n",
       "      <th>nama_proyek</th>\n",
       "      <th>penanggung_jawab</th>\n",
       "    </tr>\n",
       "  </thead>\n",
       "  <tbody>\n",
       "    <tr>\n",
       "      <th>0</th>\n",
       "      <td>101.0</td>\n",
       "      <td>Andi</td>\n",
       "      <td>1.0</td>\n",
       "      <td>P1</td>\n",
       "      <td>Aplikasi Mobile</td>\n",
       "      <td>101.0</td>\n",
       "    </tr>\n",
       "    <tr>\n",
       "      <th>1</th>\n",
       "      <td>102.0</td>\n",
       "      <td>Budi</td>\n",
       "      <td>1.0</td>\n",
       "      <td>NaN</td>\n",
       "      <td>NaN</td>\n",
       "      <td>NaN</td>\n",
       "    </tr>\n",
       "    <tr>\n",
       "      <th>2</th>\n",
       "      <td>103.0</td>\n",
       "      <td>Citra</td>\n",
       "      <td>2.0</td>\n",
       "      <td>P2</td>\n",
       "      <td>Riset Pasar</td>\n",
       "      <td>103.0</td>\n",
       "    </tr>\n",
       "    <tr>\n",
       "      <th>3</th>\n",
       "      <td>104.0</td>\n",
       "      <td>Dina</td>\n",
       "      <td>3.0</td>\n",
       "      <td>NaN</td>\n",
       "      <td>NaN</td>\n",
       "      <td>NaN</td>\n",
       "    </tr>\n",
       "    <tr>\n",
       "      <th>4</th>\n",
       "      <td>105.0</td>\n",
       "      <td>Eka</td>\n",
       "      <td>NaN</td>\n",
       "      <td>NaN</td>\n",
       "      <td>NaN</td>\n",
       "      <td>NaN</td>\n",
       "    </tr>\n",
       "    <tr>\n",
       "      <th>5</th>\n",
       "      <td>NaN</td>\n",
       "      <td>NaN</td>\n",
       "      <td>NaN</td>\n",
       "      <td>P3</td>\n",
       "      <td>Sistem Gaji</td>\n",
       "      <td>106.0</td>\n",
       "    </tr>\n",
       "  </tbody>\n",
       "</table>\n",
       "</div>"
      ],
      "text/plain": [
       "   id_karyawan   nama  id_departemen id_proyek      nama_proyek  \\\n",
       "0        101.0   Andi            1.0        P1  Aplikasi Mobile   \n",
       "1        102.0   Budi            1.0       NaN              NaN   \n",
       "2        103.0  Citra            2.0        P2      Riset Pasar   \n",
       "3        104.0   Dina            3.0       NaN              NaN   \n",
       "4        105.0    Eka            NaN       NaN              NaN   \n",
       "5          NaN    NaN            NaN        P3      Sistem Gaji   \n",
       "\n",
       "   penanggung_jawab  \n",
       "0             101.0  \n",
       "1               NaN  \n",
       "2             103.0  \n",
       "3               NaN  \n",
       "4               NaN  \n",
       "5             106.0  "
      ]
     },
     "execution_count": 13,
     "metadata": {},
     "output_type": "execute_result"
    }
   ],
   "source": [
    "# Siapa karyawan yang tidak menjadi penanggung jawab proyek? \n",
    "# Proyek mana yang penanggung jawabnya bukan merupakan karyawan internal (ID-nya tidak ada di tabel karyawan)?\n",
    "\n",
    "karyawan_dan_responsibility = data_karyawan.merge(data_proyek, left_on='id_karyawan', right_on='penanggung_jawab', how='outer')\n",
    "karyawan_dan_responsibility"
   ]
  },
  {
   "cell_type": "code",
   "execution_count": null,
   "id": "81fdd250",
   "metadata": {},
   "outputs": [],
   "source": []
  }
 ],
 "metadata": {
  "kernelspec": {
   "display_name": "Python 3",
   "language": "python",
   "name": "python3"
  },
  "language_info": {
   "codemirror_mode": {
    "name": "ipython",
    "version": 3
   },
   "file_extension": ".py",
   "mimetype": "text/x-python",
   "name": "python",
   "nbconvert_exporter": "python",
   "pygments_lexer": "ipython3",
   "version": "3.12.4"
  }
 },
 "nbformat": 4,
 "nbformat_minor": 5
}
