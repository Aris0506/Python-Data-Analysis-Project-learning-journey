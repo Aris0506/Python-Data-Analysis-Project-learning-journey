{
 "cells": [
  {
   "cell_type": "markdown",
   "id": "f1509f9b",
   "metadata": {},
   "source": [
    "**Proyek yang Disesuaikan: Analisis Waktu Mendengarkan harian Pengguna Spotify 🎵**\n",
    "\n",
    "**Latar Belakang: Sebuah platform streaming musik ingin memahami apakah fitur baru mereka (seperti podcast dan playlist yang dipersonalisasi) telah berhasil meningkatkan waktu dengar harian pengguna. Laporan industri dari beberapa tahun lalu menunjukkan bahwa rata-rata pengguna mendengarkan musik selama 30 menit per hari.**\n",
    "\n",
    "**Tujuan: Tentukan apakah rata-rata waktu dengar harian pengguna saat ini secara statistik lebih tinggi dari angka historis 30 menit.**\n",
    "\n",
    "---"
   ]
  },
  {
   "cell_type": "markdown",
   "id": "f8771d64",
   "metadata": {},
   "source": [
    "**Langkah-langkah Proyek:**\n",
    "\n",
    "**1. Tetapkan Hipotesis:**\n",
    "- Hipotesis Nol (H0): Rata-rata waktu dengar harian pengguna (listening_time) adalah 30 menit atau kurang. (μ ≤ 30)\n",
    "- Hipotesis Alternatif (HA): Rata-rata waktu dengar harian pengguna (listening_time) lebih dari 30 menit. (μ > 30)"
   ]
  },
  {
   "cell_type": "markdown",
   "id": "9a4ce27e",
   "metadata": {},
   "source": [
    "---\n",
    "**2. Persiapan Data:**\n",
    "- Muat dataset Anda yang berisi data pengguna, termasuk kolom listening_time.\n",
    "- Ambil sampel acak dari data Anda (misalnya, 500 pengguna) untuk dianalisis."
   ]
  },
  {
   "cell_type": "code",
   "execution_count": 2,
   "id": "06bbfda3",
   "metadata": {},
   "outputs": [
    {
     "name": "stdout",
     "output_type": "stream",
     "text": [
      "Path to dataset files: C:\\Users\\USER\\.cache\\kagglehub\\datasets\\nabihazahid\\spotify-dataset-for-churn-analysis\\versions\\2\n",
      "['spotify_churn_dataset.csv']\n"
     ]
    }
   ],
   "source": [
    "import kagglehub\n",
    "import os\n",
    "# Download latest version\n",
    "path = kagglehub.dataset_download(\"nabihazahid/spotify-dataset-for-churn-analysis\")\n",
    "\n",
    "print(\"Path to dataset files:\", path)\n",
    "\n",
    "print(os.listdir(path))"
   ]
  },
  {
   "cell_type": "code",
   "execution_count": 4,
   "id": "bb7fdc9c",
   "metadata": {},
   "outputs": [
    {
     "data": {
      "application/vnd.microsoft.datawrangler.viewer.v0+json": {
       "columns": [
        {
         "name": "index",
         "rawType": "int64",
         "type": "integer"
        },
        {
         "name": "user_id",
         "rawType": "int64",
         "type": "integer"
        },
        {
         "name": "gender",
         "rawType": "object",
         "type": "string"
        },
        {
         "name": "age",
         "rawType": "int64",
         "type": "integer"
        },
        {
         "name": "country",
         "rawType": "object",
         "type": "string"
        },
        {
         "name": "subscription_type",
         "rawType": "object",
         "type": "string"
        },
        {
         "name": "listening_time",
         "rawType": "int64",
         "type": "integer"
        },
        {
         "name": "songs_played_per_day",
         "rawType": "int64",
         "type": "integer"
        },
        {
         "name": "skip_rate",
         "rawType": "float64",
         "type": "float"
        },
        {
         "name": "device_type",
         "rawType": "object",
         "type": "string"
        },
        {
         "name": "ads_listened_per_week",
         "rawType": "int64",
         "type": "integer"
        },
        {
         "name": "offline_listening",
         "rawType": "int64",
         "type": "integer"
        },
        {
         "name": "is_churned",
         "rawType": "int64",
         "type": "integer"
        }
       ],
       "ref": "1353cbe9-ce4e-48e7-9d2e-756c4f01e742",
       "rows": [
        [
         "0",
         "1",
         "Female",
         "54",
         "CA",
         "Free",
         "26",
         "23",
         "0.2",
         "Desktop",
         "31",
         "0",
         "1"
        ],
        [
         "1",
         "2",
         "Other",
         "33",
         "DE",
         "Family",
         "141",
         "62",
         "0.34",
         "Web",
         "0",
         "1",
         "0"
        ],
        [
         "2",
         "3",
         "Male",
         "38",
         "AU",
         "Premium",
         "199",
         "38",
         "0.04",
         "Mobile",
         "0",
         "1",
         "1"
        ],
        [
         "3",
         "4",
         "Female",
         "22",
         "CA",
         "Student",
         "36",
         "2",
         "0.31",
         "Mobile",
         "0",
         "1",
         "0"
        ],
        [
         "4",
         "5",
         "Other",
         "29",
         "US",
         "Family",
         "250",
         "57",
         "0.36",
         "Mobile",
         "0",
         "1",
         "1"
        ]
       ],
       "shape": {
        "columns": 12,
        "rows": 5
       }
      },
      "text/html": [
       "<div>\n",
       "<style scoped>\n",
       "    .dataframe tbody tr th:only-of-type {\n",
       "        vertical-align: middle;\n",
       "    }\n",
       "\n",
       "    .dataframe tbody tr th {\n",
       "        vertical-align: top;\n",
       "    }\n",
       "\n",
       "    .dataframe thead th {\n",
       "        text-align: right;\n",
       "    }\n",
       "</style>\n",
       "<table border=\"1\" class=\"dataframe\">\n",
       "  <thead>\n",
       "    <tr style=\"text-align: right;\">\n",
       "      <th></th>\n",
       "      <th>user_id</th>\n",
       "      <th>gender</th>\n",
       "      <th>age</th>\n",
       "      <th>country</th>\n",
       "      <th>subscription_type</th>\n",
       "      <th>listening_time</th>\n",
       "      <th>songs_played_per_day</th>\n",
       "      <th>skip_rate</th>\n",
       "      <th>device_type</th>\n",
       "      <th>ads_listened_per_week</th>\n",
       "      <th>offline_listening</th>\n",
       "      <th>is_churned</th>\n",
       "    </tr>\n",
       "  </thead>\n",
       "  <tbody>\n",
       "    <tr>\n",
       "      <th>0</th>\n",
       "      <td>1</td>\n",
       "      <td>Female</td>\n",
       "      <td>54</td>\n",
       "      <td>CA</td>\n",
       "      <td>Free</td>\n",
       "      <td>26</td>\n",
       "      <td>23</td>\n",
       "      <td>0.20</td>\n",
       "      <td>Desktop</td>\n",
       "      <td>31</td>\n",
       "      <td>0</td>\n",
       "      <td>1</td>\n",
       "    </tr>\n",
       "    <tr>\n",
       "      <th>1</th>\n",
       "      <td>2</td>\n",
       "      <td>Other</td>\n",
       "      <td>33</td>\n",
       "      <td>DE</td>\n",
       "      <td>Family</td>\n",
       "      <td>141</td>\n",
       "      <td>62</td>\n",
       "      <td>0.34</td>\n",
       "      <td>Web</td>\n",
       "      <td>0</td>\n",
       "      <td>1</td>\n",
       "      <td>0</td>\n",
       "    </tr>\n",
       "    <tr>\n",
       "      <th>2</th>\n",
       "      <td>3</td>\n",
       "      <td>Male</td>\n",
       "      <td>38</td>\n",
       "      <td>AU</td>\n",
       "      <td>Premium</td>\n",
       "      <td>199</td>\n",
       "      <td>38</td>\n",
       "      <td>0.04</td>\n",
       "      <td>Mobile</td>\n",
       "      <td>0</td>\n",
       "      <td>1</td>\n",
       "      <td>1</td>\n",
       "    </tr>\n",
       "    <tr>\n",
       "      <th>3</th>\n",
       "      <td>4</td>\n",
       "      <td>Female</td>\n",
       "      <td>22</td>\n",
       "      <td>CA</td>\n",
       "      <td>Student</td>\n",
       "      <td>36</td>\n",
       "      <td>2</td>\n",
       "      <td>0.31</td>\n",
       "      <td>Mobile</td>\n",
       "      <td>0</td>\n",
       "      <td>1</td>\n",
       "      <td>0</td>\n",
       "    </tr>\n",
       "    <tr>\n",
       "      <th>4</th>\n",
       "      <td>5</td>\n",
       "      <td>Other</td>\n",
       "      <td>29</td>\n",
       "      <td>US</td>\n",
       "      <td>Family</td>\n",
       "      <td>250</td>\n",
       "      <td>57</td>\n",
       "      <td>0.36</td>\n",
       "      <td>Mobile</td>\n",
       "      <td>0</td>\n",
       "      <td>1</td>\n",
       "      <td>1</td>\n",
       "    </tr>\n",
       "  </tbody>\n",
       "</table>\n",
       "</div>"
      ],
      "text/plain": [
       "   user_id  gender  age country subscription_type  listening_time  \\\n",
       "0        1  Female   54      CA              Free              26   \n",
       "1        2   Other   33      DE            Family             141   \n",
       "2        3    Male   38      AU           Premium             199   \n",
       "3        4  Female   22      CA           Student              36   \n",
       "4        5   Other   29      US            Family             250   \n",
       "\n",
       "   songs_played_per_day  skip_rate device_type  ads_listened_per_week  \\\n",
       "0                    23       0.20     Desktop                     31   \n",
       "1                    62       0.34         Web                      0   \n",
       "2                    38       0.04      Mobile                      0   \n",
       "3                     2       0.31      Mobile                      0   \n",
       "4                    57       0.36      Mobile                      0   \n",
       "\n",
       "   offline_listening  is_churned  \n",
       "0                  0           1  \n",
       "1                  1           0  \n",
       "2                  1           1  \n",
       "3                  1           0  \n",
       "4                  1           1  "
      ]
     },
     "execution_count": 4,
     "metadata": {},
     "output_type": "execute_result"
    }
   ],
   "source": [
    "file_path = os.path.join(path, 'spotify_churn_dataset.csv')\n",
    "\n",
    "import pandas as pd\n",
    "\n",
    "spotify_df = pd.read_csv(file_path)\n",
    "spotify_df.head()\n"
   ]
  },
  {
   "cell_type": "code",
   "execution_count": 8,
   "id": "c80d1cff",
   "metadata": {},
   "outputs": [
    {
     "data": {
      "application/vnd.microsoft.datawrangler.viewer.v0+json": {
       "columns": [
        {
         "name": "index",
         "rawType": "int64",
         "type": "integer"
        },
        {
         "name": "listening_time",
         "rawType": "int64",
         "type": "integer"
        }
       ],
       "ref": "05bdb4d6-95ed-4aac-8934-3ed4f6a52cdb",
       "rows": [
        [
         "0",
         "26"
        ],
        [
         "1",
         "141"
        ],
        [
         "2",
         "199"
        ],
        [
         "3",
         "36"
        ],
        [
         "4",
         "250"
        ]
       ],
       "shape": {
        "columns": 1,
        "rows": 5
       }
      },
      "text/plain": [
       "0     26\n",
       "1    141\n",
       "2    199\n",
       "3     36\n",
       "4    250\n",
       "Name: listening_time, dtype: int64"
      ]
     },
     "execution_count": 8,
     "metadata": {},
     "output_type": "execute_result"
    }
   ],
   "source": [
    "spotify_df['listening_time'].head()"
   ]
  },
  {
   "cell_type": "markdown",
   "id": "4c0ff69d",
   "metadata": {},
   "source": [
    "---\n",
    "\n",
    "**4. Lakukan Uji Hipotesis:**\n",
    "\n",
    "- Hitung Statistik Sampel: Hitung rata-rata listening_time dari sampel Anda. Sebut ini mean_listening_samp.\n",
    "- Buat Distribusi Bootstrap: Lakukan resampling pada sampel listening_time Anda (dengan penggantian) sebanyak 5.000 kali. Di setiap iterasi, hitung rata-ratanya dan simpan hasilnya.\n",
    "- Hitung Standard Error: Hitung standar deviasi dari distribusi bootstrap yang Anda buat\n",
    "- Hitung Z-score: Gunakan rumus z-score dengan statistik sampel Anda, nilai hipotesis (30), dan standard error yang telah dihitung.\n",
    "    - z_score = (mean_listening_samp - 30) / std_error\n",
    "- Hitung P-value: Karena HA adalah 'lebih dari', ini adalah tes sisi kanan (right-tailed test). Untuk menghitung p-value, gunakan:\n",
    "    - p_value = 1 - norm.cdf(z_score) "
   ]
  },
  {
   "cell_type": "markdown",
   "id": "4141c50a",
   "metadata": {},
   "source": [
    "---\n",
    "**4. Tarik Kesimpulan:**\n",
    "\n",
    "- Tetapkan tingkat signifikansi, misalnya α=0.05.\n",
    "- Bandingkan p-value Anda dengan α.\n",
    "- Tulis kesimpulan Anda. Jika p-value ≤ α, Anda dapat menolak hipotesis nol. Apa artinya ini? Apakah ada bukti yang cukup untuk mengatakan bahwa pengguna sekarang mendengarkan lebih lama dari 30 menit per hari?\n",
    "\n"
   ]
  }
 ],
 "metadata": {
  "kernelspec": {
   "display_name": "Python 3",
   "language": "python",
   "name": "python3"
  },
  "language_info": {
   "codemirror_mode": {
    "name": "ipython",
    "version": 3
   },
   "file_extension": ".py",
   "mimetype": "text/x-python",
   "name": "python",
   "nbconvert_exporter": "python",
   "pygments_lexer": "ipython3",
   "version": "3.12.4"
  }
 },
 "nbformat": 4,
 "nbformat_minor": 5
}
