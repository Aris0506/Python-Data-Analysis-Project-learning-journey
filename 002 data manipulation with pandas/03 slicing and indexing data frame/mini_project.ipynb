{
 "cells": [
  {
   "cell_type": "markdown",
   "id": "0423483f",
   "metadata": {},
   "source": [
    "**Proyek Akhir Bab: Mengiris & Mengindeks Data Penjualan**\n",
    "\n",
    "**Skenario: Analisis Anda sejauh ini sangat membantu. Sekarang, manajer penjualan ingin melihat data dari periode waktu tertentu dan juga ingin analisis yang lebih detail berdasarkan kategori dan produk. Tugas Anda adalah menggunakan kemampuan indexing dan slicing Anda untuk menyajikan data ini.**\n",
    "\n",
    "---"
   ]
  },
  {
   "cell_type": "markdown",
   "id": "ced0ff88",
   "metadata": {},
   "source": [
    "**Tantangan**\n",
    "**1. Analisis Berdasarkan Periode Waktu (Slicing Indeks Tanggal)**\n",
    "- Buat DataFrame baru bernama df_tgl dengan mengatur kolom 'Tanggal' sebagai indeks dan mengurutkannya.\n",
    "- Gunakan slicing dengan .loc pada df_tgl untuk menampilkan semua transaksi yang terjadi dari tanggal '2024-07-01' hingga '2024-07-03'.\n",
    "\n",
    "**2. Analisis Detail per Kategori & Produk (Indeks Multi-Level)**\n",
    "- Buat DataFrame baru bernama df_multi_indeks dengan mengatur 'Kategori' dan 'Produk' sebagai multi-level index dan mengurutkannya.\n",
    "\n",
    "- Gunakan .loc untuk memilih dan menampilkan semua data dari kategori 'Elektronik'.\n",
    "[Gambar dari DataFrame Pandas dengan indeks multi-level]\n",
    "\n",
    "**3. (Tantangan Ekstra) Laporan Posisi Data (Slicing .iloc)**\n",
    "- Gunakan .iloc pada DataFrame df_penjualan yang asli (dengan indeks default) untuk memilih:\n",
    "\n",
    "    - Baris di posisi ke-2 hingga ke-4 (iloc[2:5]).\n",
    "\n",
    "    - DAN hanya kolom di posisi ke-1 ('Produk') dan ke-6 ('Total Pendapatan').\n",
    "\n",
    "    - Tampilkan hasilnya.\n",
    "\n",
    "\n",
    "----"
   ]
  },
  {
   "cell_type": "markdown",
   "id": "659e5c31",
   "metadata": {},
   "source": [
    "**Data yang Digunakan**"
   ]
  },
  {
   "cell_type": "code",
   "execution_count": 2,
   "id": "bbca890a",
   "metadata": {},
   "outputs": [
    {
     "data": {
      "application/vnd.microsoft.datawrangler.viewer.v0+json": {
       "columns": [
        {
         "name": "index",
         "rawType": "int64",
         "type": "integer"
        },
        {
         "name": "Tanggal",
         "rawType": "object",
         "type": "string"
        },
        {
         "name": "Produk",
         "rawType": "object",
         "type": "string"
        },
        {
         "name": "Kategori",
         "rawType": "object",
         "type": "string"
        },
        {
         "name": "Harga Satuan",
         "rawType": "int64",
         "type": "integer"
        },
        {
         "name": "Jumlah Terjual",
         "rawType": "int64",
         "type": "integer"
        },
        {
         "name": "Total Pendapatan",
         "rawType": "int64",
         "type": "integer"
        }
       ],
       "ref": "9755b56d-24f3-4525-bdc6-a8936b1c6d9e",
       "rows": [
        [
         "0",
         "2024-07-01",
         "Laptop",
         "Elektronik",
         "15000000",
         "5",
         "75000000"
        ],
        [
         "1",
         "2024-07-01",
         "Mouse",
         "Aksesoris",
         "150000",
         "10",
         "1500000"
        ],
        [
         "2",
         "2024-07-02",
         "Laptop",
         "Elektronik",
         "15500000",
         "3",
         "46500000"
        ],
        [
         "3",
         "2024-07-03",
         "Monitor",
         "Elektronik",
         "3500000",
         "7",
         "24500000"
        ],
        [
         "4",
         "2024-07-03",
         "Keyboard",
         "Aksesoris",
         "750000",
         "8",
         "6000000"
        ],
        [
         "5",
         "2024-07-04",
         "Mouse",
         "Aksesoris",
         "160000",
         "12",
         "1920000"
        ]
       ],
       "shape": {
        "columns": 6,
        "rows": 6
       }
      },
      "text/html": [
       "<div>\n",
       "<style scoped>\n",
       "    .dataframe tbody tr th:only-of-type {\n",
       "        vertical-align: middle;\n",
       "    }\n",
       "\n",
       "    .dataframe tbody tr th {\n",
       "        vertical-align: top;\n",
       "    }\n",
       "\n",
       "    .dataframe thead th {\n",
       "        text-align: right;\n",
       "    }\n",
       "</style>\n",
       "<table border=\"1\" class=\"dataframe\">\n",
       "  <thead>\n",
       "    <tr style=\"text-align: right;\">\n",
       "      <th></th>\n",
       "      <th>Tanggal</th>\n",
       "      <th>Produk</th>\n",
       "      <th>Kategori</th>\n",
       "      <th>Harga Satuan</th>\n",
       "      <th>Jumlah Terjual</th>\n",
       "      <th>Total Pendapatan</th>\n",
       "    </tr>\n",
       "  </thead>\n",
       "  <tbody>\n",
       "    <tr>\n",
       "      <th>0</th>\n",
       "      <td>2024-07-01</td>\n",
       "      <td>Laptop</td>\n",
       "      <td>Elektronik</td>\n",
       "      <td>15000000</td>\n",
       "      <td>5</td>\n",
       "      <td>75000000</td>\n",
       "    </tr>\n",
       "    <tr>\n",
       "      <th>1</th>\n",
       "      <td>2024-07-01</td>\n",
       "      <td>Mouse</td>\n",
       "      <td>Aksesoris</td>\n",
       "      <td>150000</td>\n",
       "      <td>10</td>\n",
       "      <td>1500000</td>\n",
       "    </tr>\n",
       "    <tr>\n",
       "      <th>2</th>\n",
       "      <td>2024-07-02</td>\n",
       "      <td>Laptop</td>\n",
       "      <td>Elektronik</td>\n",
       "      <td>15500000</td>\n",
       "      <td>3</td>\n",
       "      <td>46500000</td>\n",
       "    </tr>\n",
       "    <tr>\n",
       "      <th>3</th>\n",
       "      <td>2024-07-03</td>\n",
       "      <td>Monitor</td>\n",
       "      <td>Elektronik</td>\n",
       "      <td>3500000</td>\n",
       "      <td>7</td>\n",
       "      <td>24500000</td>\n",
       "    </tr>\n",
       "    <tr>\n",
       "      <th>4</th>\n",
       "      <td>2024-07-03</td>\n",
       "      <td>Keyboard</td>\n",
       "      <td>Aksesoris</td>\n",
       "      <td>750000</td>\n",
       "      <td>8</td>\n",
       "      <td>6000000</td>\n",
       "    </tr>\n",
       "    <tr>\n",
       "      <th>5</th>\n",
       "      <td>2024-07-04</td>\n",
       "      <td>Mouse</td>\n",
       "      <td>Aksesoris</td>\n",
       "      <td>160000</td>\n",
       "      <td>12</td>\n",
       "      <td>1920000</td>\n",
       "    </tr>\n",
       "  </tbody>\n",
       "</table>\n",
       "</div>"
      ],
      "text/plain": [
       "      Tanggal    Produk    Kategori  Harga Satuan  Jumlah Terjual  \\\n",
       "0  2024-07-01    Laptop  Elektronik      15000000               5   \n",
       "1  2024-07-01     Mouse   Aksesoris        150000              10   \n",
       "2  2024-07-02    Laptop  Elektronik      15500000               3   \n",
       "3  2024-07-03   Monitor  Elektronik       3500000               7   \n",
       "4  2024-07-03  Keyboard   Aksesoris        750000               8   \n",
       "5  2024-07-04     Mouse   Aksesoris        160000              12   \n",
       "\n",
       "   Total Pendapatan  \n",
       "0          75000000  \n",
       "1           1500000  \n",
       "2          46500000  \n",
       "3          24500000  \n",
       "4           6000000  \n",
       "5           1920000  "
      ]
     },
     "execution_count": 2,
     "metadata": {},
     "output_type": "execute_result"
    }
   ],
   "source": [
    "import pandas as pd\n",
    "import numpy as np\n",
    "\n",
    "data_penjualan = {\n",
    "    'Tanggal' : ['2024-07-01', '2024-07-01', '2024-07-02', '2024-07-03', '2024-07-03', '2024-07-04'],\n",
    "    'Produk' : ['Laptop', 'Mouse', 'Laptop', 'Monitor', 'Keyboard', 'Mouse'],\n",
    "    'Kategori': ['Elektronik', 'Aksesoris', 'Elektronik', 'Elektronik', 'Aksesoris', 'Aksesoris'],\n",
    "    'Harga Satuan': [15000000, 150000, 15500000, 3500000, 750000, 160000],\n",
    "    'Jumlah Terjual': [5, 10, 3, 7, 8, 12]\n",
    "}\n",
    "\n",
    "\n",
    "df_penjualan = pd.DataFrame(data_penjualan)\n",
    "df_penjualan['Total Pendapatan'] = np.array(df_penjualan['Harga Satuan']) * np.array(df_penjualan['Jumlah Terjual'])\n",
    "\n",
    "df_penjualan\n"
   ]
  },
  {
   "cell_type": "markdown",
   "id": "596fc029",
   "metadata": {},
   "source": [
    "---"
   ]
  },
  {
   "cell_type": "markdown",
   "id": "18c809e7",
   "metadata": {},
   "source": [
    "**1. Analisis Berdasarkan Periode Waktu (Slicing Indeks Tanggal)**"
   ]
  },
  {
   "cell_type": "code",
   "execution_count": 3,
   "id": "c2d0ed1e",
   "metadata": {},
   "outputs": [
    {
     "data": {
      "application/vnd.microsoft.datawrangler.viewer.v0+json": {
       "columns": [
        {
         "name": "Tanggal",
         "rawType": "datetime64[ns]",
         "type": "datetime"
        },
        {
         "name": "Produk",
         "rawType": "object",
         "type": "string"
        },
        {
         "name": "Kategori",
         "rawType": "object",
         "type": "string"
        },
        {
         "name": "Harga Satuan",
         "rawType": "int64",
         "type": "integer"
        },
        {
         "name": "Jumlah Terjual",
         "rawType": "int64",
         "type": "integer"
        },
        {
         "name": "Total Pendapatan",
         "rawType": "int64",
         "type": "integer"
        }
       ],
       "ref": "3ad80538-8fac-4058-8f98-45307a6e1aaf",
       "rows": [
        [
         "2024-07-01 00:00:00",
         "Laptop",
         "Elektronik",
         "15000000",
         "5",
         "75000000"
        ],
        [
         "2024-07-01 00:00:00",
         "Mouse",
         "Aksesoris",
         "150000",
         "10",
         "1500000"
        ],
        [
         "2024-07-02 00:00:00",
         "Laptop",
         "Elektronik",
         "15500000",
         "3",
         "46500000"
        ],
        [
         "2024-07-03 00:00:00",
         "Monitor",
         "Elektronik",
         "3500000",
         "7",
         "24500000"
        ],
        [
         "2024-07-03 00:00:00",
         "Keyboard",
         "Aksesoris",
         "750000",
         "8",
         "6000000"
        ]
       ],
       "shape": {
        "columns": 5,
        "rows": 5
       }
      },
      "text/html": [
       "<div>\n",
       "<style scoped>\n",
       "    .dataframe tbody tr th:only-of-type {\n",
       "        vertical-align: middle;\n",
       "    }\n",
       "\n",
       "    .dataframe tbody tr th {\n",
       "        vertical-align: top;\n",
       "    }\n",
       "\n",
       "    .dataframe thead th {\n",
       "        text-align: right;\n",
       "    }\n",
       "</style>\n",
       "<table border=\"1\" class=\"dataframe\">\n",
       "  <thead>\n",
       "    <tr style=\"text-align: right;\">\n",
       "      <th></th>\n",
       "      <th>Produk</th>\n",
       "      <th>Kategori</th>\n",
       "      <th>Harga Satuan</th>\n",
       "      <th>Jumlah Terjual</th>\n",
       "      <th>Total Pendapatan</th>\n",
       "    </tr>\n",
       "    <tr>\n",
       "      <th>Tanggal</th>\n",
       "      <th></th>\n",
       "      <th></th>\n",
       "      <th></th>\n",
       "      <th></th>\n",
       "      <th></th>\n",
       "    </tr>\n",
       "  </thead>\n",
       "  <tbody>\n",
       "    <tr>\n",
       "      <th>2024-07-01</th>\n",
       "      <td>Laptop</td>\n",
       "      <td>Elektronik</td>\n",
       "      <td>15000000</td>\n",
       "      <td>5</td>\n",
       "      <td>75000000</td>\n",
       "    </tr>\n",
       "    <tr>\n",
       "      <th>2024-07-01</th>\n",
       "      <td>Mouse</td>\n",
       "      <td>Aksesoris</td>\n",
       "      <td>150000</td>\n",
       "      <td>10</td>\n",
       "      <td>1500000</td>\n",
       "    </tr>\n",
       "    <tr>\n",
       "      <th>2024-07-02</th>\n",
       "      <td>Laptop</td>\n",
       "      <td>Elektronik</td>\n",
       "      <td>15500000</td>\n",
       "      <td>3</td>\n",
       "      <td>46500000</td>\n",
       "    </tr>\n",
       "    <tr>\n",
       "      <th>2024-07-03</th>\n",
       "      <td>Monitor</td>\n",
       "      <td>Elektronik</td>\n",
       "      <td>3500000</td>\n",
       "      <td>7</td>\n",
       "      <td>24500000</td>\n",
       "    </tr>\n",
       "    <tr>\n",
       "      <th>2024-07-03</th>\n",
       "      <td>Keyboard</td>\n",
       "      <td>Aksesoris</td>\n",
       "      <td>750000</td>\n",
       "      <td>8</td>\n",
       "      <td>6000000</td>\n",
       "    </tr>\n",
       "  </tbody>\n",
       "</table>\n",
       "</div>"
      ],
      "text/plain": [
       "              Produk    Kategori  Harga Satuan  Jumlah Terjual  \\\n",
       "Tanggal                                                          \n",
       "2024-07-01    Laptop  Elektronik      15000000               5   \n",
       "2024-07-01     Mouse   Aksesoris        150000              10   \n",
       "2024-07-02    Laptop  Elektronik      15500000               3   \n",
       "2024-07-03   Monitor  Elektronik       3500000               7   \n",
       "2024-07-03  Keyboard   Aksesoris        750000               8   \n",
       "\n",
       "            Total Pendapatan  \n",
       "Tanggal                       \n",
       "2024-07-01          75000000  \n",
       "2024-07-01           1500000  \n",
       "2024-07-02          46500000  \n",
       "2024-07-03          24500000  \n",
       "2024-07-03           6000000  "
      ]
     },
     "execution_count": 3,
     "metadata": {},
     "output_type": "execute_result"
    }
   ],
   "source": [
    "df_penjualan['Tanggal'] = pd.to_datetime(df_penjualan['Tanggal'])\n",
    "df_penjualan.set_index('Tanggal', inplace=True)\n",
    "\n",
    "# slicing pada tanggal '2024-07-01' hingga '2024-07-03' dengan .loc\n",
    "time_periode = df_penjualan.loc['2024-07-01':'2024-07-03']\n",
    "time_periode\n",
    "\n"
   ]
  },
  {
   "cell_type": "markdown",
   "id": "37f82bc0",
   "metadata": {},
   "source": [
    "----"
   ]
  },
  {
   "cell_type": "markdown",
   "id": "43826f45",
   "metadata": {},
   "source": [
    "**2. Analisis Detail per Kategori & Produk (Indeks Multi-Level)**\n"
   ]
  },
  {
   "cell_type": "code",
   "execution_count": 4,
   "id": "5e6d8570",
   "metadata": {},
   "outputs": [
    {
     "data": {
      "application/vnd.microsoft.datawrangler.viewer.v0+json": {
       "columns": [
        {
         "name": "Produk",
         "rawType": "object",
         "type": "string"
        },
        {
         "name": "Harga Satuan",
         "rawType": "int64",
         "type": "integer"
        },
        {
         "name": "Jumlah Terjual",
         "rawType": "int64",
         "type": "integer"
        },
        {
         "name": "Total Pendapatan",
         "rawType": "int64",
         "type": "integer"
        }
       ],
       "ref": "bacc15ea-dcbc-4f77-85bb-c0be7edf8904",
       "rows": [
        [
         "Laptop",
         "15000000",
         "5",
         "75000000"
        ],
        [
         "Laptop",
         "15500000",
         "3",
         "46500000"
        ],
        [
         "Monitor",
         "3500000",
         "7",
         "24500000"
        ]
       ],
       "shape": {
        "columns": 3,
        "rows": 3
       }
      },
      "text/html": [
       "<div>\n",
       "<style scoped>\n",
       "    .dataframe tbody tr th:only-of-type {\n",
       "        vertical-align: middle;\n",
       "    }\n",
       "\n",
       "    .dataframe tbody tr th {\n",
       "        vertical-align: top;\n",
       "    }\n",
       "\n",
       "    .dataframe thead th {\n",
       "        text-align: right;\n",
       "    }\n",
       "</style>\n",
       "<table border=\"1\" class=\"dataframe\">\n",
       "  <thead>\n",
       "    <tr style=\"text-align: right;\">\n",
       "      <th></th>\n",
       "      <th>Harga Satuan</th>\n",
       "      <th>Jumlah Terjual</th>\n",
       "      <th>Total Pendapatan</th>\n",
       "    </tr>\n",
       "    <tr>\n",
       "      <th>Produk</th>\n",
       "      <th></th>\n",
       "      <th></th>\n",
       "      <th></th>\n",
       "    </tr>\n",
       "  </thead>\n",
       "  <tbody>\n",
       "    <tr>\n",
       "      <th>Laptop</th>\n",
       "      <td>15000000</td>\n",
       "      <td>5</td>\n",
       "      <td>75000000</td>\n",
       "    </tr>\n",
       "    <tr>\n",
       "      <th>Laptop</th>\n",
       "      <td>15500000</td>\n",
       "      <td>3</td>\n",
       "      <td>46500000</td>\n",
       "    </tr>\n",
       "    <tr>\n",
       "      <th>Monitor</th>\n",
       "      <td>3500000</td>\n",
       "      <td>7</td>\n",
       "      <td>24500000</td>\n",
       "    </tr>\n",
       "  </tbody>\n",
       "</table>\n",
       "</div>"
      ],
      "text/plain": [
       "         Harga Satuan  Jumlah Terjual  Total Pendapatan\n",
       "Produk                                                 \n",
       "Laptop       15000000               5          75000000\n",
       "Laptop       15500000               3          46500000\n",
       "Monitor       3500000               7          24500000"
      ]
     },
     "execution_count": 4,
     "metadata": {},
     "output_type": "execute_result"
    }
   ],
   "source": [
    "df_multi_indeks = df_penjualan.set_index(['Kategori', 'Produk']).sort_index()\n",
    "df_elektronik = df_multi_indeks.loc['Elektronik']\n",
    "df_elektronik\n"
   ]
  },
  {
   "cell_type": "markdown",
   "id": "ca7ab36c",
   "metadata": {},
   "source": [
    "----"
   ]
  },
  {
   "cell_type": "markdown",
   "id": "964ec55e",
   "metadata": {},
   "source": [
    "**3. (Tantangan Ekstra) Laporan Posisi Data (Slicing .iloc)**"
   ]
  },
  {
   "cell_type": "code",
   "execution_count": 5,
   "id": "f795f75f",
   "metadata": {},
   "outputs": [
    {
     "data": {
      "application/vnd.microsoft.datawrangler.viewer.v0+json": {
       "columns": [
        {
         "name": "Tanggal",
         "rawType": "datetime64[ns]",
         "type": "datetime"
        },
        {
         "name": "Produk",
         "rawType": "object",
         "type": "string"
        },
        {
         "name": "Total Pendapatan",
         "rawType": "int64",
         "type": "integer"
        }
       ],
       "ref": "686a4485-9f5c-42b5-afbb-0040d97dfe21",
       "rows": [
        [
         "2024-07-02 00:00:00",
         "Laptop",
         "46500000"
        ],
        [
         "2024-07-03 00:00:00",
         "Monitor",
         "24500000"
        ],
        [
         "2024-07-03 00:00:00",
         "Keyboard",
         "6000000"
        ]
       ],
       "shape": {
        "columns": 2,
        "rows": 3
       }
      },
      "text/html": [
       "<div>\n",
       "<style scoped>\n",
       "    .dataframe tbody tr th:only-of-type {\n",
       "        vertical-align: middle;\n",
       "    }\n",
       "\n",
       "    .dataframe tbody tr th {\n",
       "        vertical-align: top;\n",
       "    }\n",
       "\n",
       "    .dataframe thead th {\n",
       "        text-align: right;\n",
       "    }\n",
       "</style>\n",
       "<table border=\"1\" class=\"dataframe\">\n",
       "  <thead>\n",
       "    <tr style=\"text-align: right;\">\n",
       "      <th></th>\n",
       "      <th>Produk</th>\n",
       "      <th>Total Pendapatan</th>\n",
       "    </tr>\n",
       "    <tr>\n",
       "      <th>Tanggal</th>\n",
       "      <th></th>\n",
       "      <th></th>\n",
       "    </tr>\n",
       "  </thead>\n",
       "  <tbody>\n",
       "    <tr>\n",
       "      <th>2024-07-02</th>\n",
       "      <td>Laptop</td>\n",
       "      <td>46500000</td>\n",
       "    </tr>\n",
       "    <tr>\n",
       "      <th>2024-07-03</th>\n",
       "      <td>Monitor</td>\n",
       "      <td>24500000</td>\n",
       "    </tr>\n",
       "    <tr>\n",
       "      <th>2024-07-03</th>\n",
       "      <td>Keyboard</td>\n",
       "      <td>6000000</td>\n",
       "    </tr>\n",
       "  </tbody>\n",
       "</table>\n",
       "</div>"
      ],
      "text/plain": [
       "              Produk  Total Pendapatan\n",
       "Tanggal                               \n",
       "2024-07-02    Laptop          46500000\n",
       "2024-07-03   Monitor          24500000\n",
       "2024-07-03  Keyboard           6000000"
      ]
     },
     "execution_count": 5,
     "metadata": {},
     "output_type": "execute_result"
    }
   ],
   "source": [
    "# Menampilkan baris ke-2 sampai ke-4 dan kolom ke-0 (Produk) dan kolom ke-4 (Total Pendapatan)\n",
    "\n",
    "data_position = df_penjualan.iloc[2:5, [0, 4]]\n",
    "data_position\n"
   ]
  },
  {
   "cell_type": "code",
   "execution_count": null,
   "id": "3272fa6c",
   "metadata": {},
   "outputs": [],
   "source": []
  }
 ],
 "metadata": {
  "kernelspec": {
   "display_name": "Python 3",
   "language": "python",
   "name": "python3"
  },
  "language_info": {
   "codemirror_mode": {
    "name": "ipython",
    "version": 3
   },
   "file_extension": ".py",
   "mimetype": "text/x-python",
   "name": "python",
   "nbconvert_exporter": "python",
   "pygments_lexer": "ipython3",
   "version": "3.12.4"
  }
 },
 "nbformat": 4,
 "nbformat_minor": 5
}
