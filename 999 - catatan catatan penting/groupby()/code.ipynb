{
 "cells": [
  {
   "cell_type": "markdown",
   "id": "357d2eee",
   "metadata": {},
   "source": [
    "### Tujuan Utama:\n",
    ".groupby() digunakan untuk mengelompokkan baris data berdasarkan sebuah kategori, lalu melakukan perhitungan statistik pada setiap kelompok.\n",
    "\n",
    "### Analogi: Manajer Toko 🏪\n",
    "Anggap .groupby() adalah seorang manajer toko yang cerdas. Tugasnya adalah mengelompokkan barang-barang, lalu membuat laporan tentang setiap kelompok.\n"
   ]
  },
  {
   "cell_type": "markdown",
   "id": "c529d825",
   "metadata": {},
   "source": [
    "### Langkah 1: Mengelompokkan Barang\n",
    "Perintah: df.groupby('nama_kolom_kategori')\n",
    "\n",
    "Analogi Manajer: \"Tolong pisahkan semua barang berdasarkan kategorinya. Semua sabun kumpul di sini, semua sampo di sana.\"\n"
   ]
  },
  {
   "cell_type": "markdown",
   "id": "dda31a6f",
   "metadata": {},
   "source": [
    "### Langkah 2: Melakukan Perhitungan per Kelompok (Agregasi)\n",
    "Setelah dikelompokkan, manajer bisa melakukan berbagai perhitungan. Ini adalah \"perintah\" paling umum:\n",
    "\n",
    ".mean(): Menghitung nilai rata-rata.\n",
    "\n",
    "Perintah Manajer: \"Berapa harga jual rata-rata untuk setiap kategori?\"\n",
    "\n",
    ".sum(): Menghitung total penjumlahan.\n",
    "\n",
    "Perintah Manajer: \"Berapa total stok yang kita punya untuk setiap kategori?\"\n",
    "\n",
    ".count(): Menghitung jumlah item (baris).\n",
    "\n",
    "Perintah Manajer: \"Ada berapa jenis produk berbeda di setiap kategori?\"\n",
    "\n",
    ".max() / .min(): Menghitung nilai tertinggi / terendah.\n",
    "\n",
    "Perintah Manajer: \"Berapa harga termahal dan termurah di setiap kategori?\"\n",
    "\n",
    ".agg(): Perintah \"super\" untuk melakukan beberapa perhitungan sekaligus.\n",
    "\n",
    "Perintah Manajer: \"Beri saya laporan lengkap: total stok, harga rata-rata, dan harga termahal untuk setiap kategori.\""
   ]
  },
  {
   "cell_type": "code",
   "execution_count": null,
   "id": "7941a884",
   "metadata": {},
   "outputs": [],
   "source": [
    "### Contoh Kode Lengkap:\n",
    "\n",
    "import pandas as pd\n",
    "\n",
    "# Data penjualan di toko\n",
    "data = {'Kategori': ['Buah', 'Sayur', 'Buah', 'Sayur', 'Buah'],\n",
    "        'Harga': [10, 5, 8, 6, 7],\n",
    "        'Stok': [100, 150, 120, 180, 80]}\n",
    "df = pd.DataFrame(data)\n",
    "\n",
    "# --- Menggunakan .agg() untuk laporan lengkap ---\n",
    "# Mengelompokkan berdasarkan 'Kategori'\n",
    "laporan_lengkap = df.groupby('Kategori').agg(\n",
    "    Total_Stok=('Stok', 'sum'),\n",
    "    Harga_Rata_Rata=('Harga', 'mean'),\n",
    "    Harga_Termahal=('Harga', 'max')\n",
    ")\n",
    "\n",
    "# Selalu ingat untuk merapikan indeks agar siap di-plotting!\n",
    "laporan_lengkap = laporan_lengkap.reset_index()\n",
    "\n",
    "print(laporan_lengkap)\n"
   ]
  },
  {
   "cell_type": "code",
   "execution_count": null,
   "id": "4d1b7d54",
   "metadata": {},
   "outputs": [],
   "source": [
    "### Hasil Output:\n",
    "\n",
    " Kategori  Total_Stok  Harga_Rata_Rata  Harga_Termahal\n",
    "0     Buah         300             8.33              10\n",
    "1    Sayur         330             5.50               6"
   ]
  }
 ],
 "metadata": {
  "language_info": {
   "name": "python"
  }
 },
 "nbformat": 4,
 "nbformat_minor": 5
}
