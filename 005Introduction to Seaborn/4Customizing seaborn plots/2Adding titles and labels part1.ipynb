{
 "cells": [
  {
   "cell_type": "code",
   "execution_count": null,
   "id": "074eebd5",
   "metadata": {},
   "outputs": [],
   "source": [
    "# FacetGrids vs. AxesSubplots\n",
    "\n",
    "\n",
    "# Create scatter plot\n",
    "g = sns.relplot(x=\"weight\", \n",
    "                y=\"horsepower\", \n",
    "                data=mpg,\n",
    "                kind=\"scatter\")\n",
    "\n",
    "# Identify plot type\n",
    "type_of_g = type(g)\n",
    "\n",
    "# Print type\n",
    "print(type_of_g)\n"
   ]
  },
  {
   "cell_type": "code",
   "execution_count": null,
   "id": "ea174fcf",
   "metadata": {},
   "outputs": [],
   "source": [
    "# Adding a title to a FacetGrid object\n",
    "\n",
    "# Create scatter plot\n",
    "g = sns.relplot(x=\"weight\", \n",
    "                y=\"horsepower\", \n",
    "                data=mpg,\n",
    "                kind=\"scatter\")\n",
    "\n",
    "# Add a title \"Car Weight vs. Horsepower\"\n",
    "g.fig.suptitle(\"Car Weight vs. Horsepower\")\n",
    "\n",
    "\n",
    "# Show plot\n",
    "plt.show()"
   ]
  },
  {
   "cell_type": "code",
   "execution_count": null,
   "id": "c35ab931",
   "metadata": {},
   "outputs": [],
   "source": []
  }
 ],
 "metadata": {
  "language_info": {
   "name": "python"
  }
 },
 "nbformat": 4,
 "nbformat_minor": 5
}
