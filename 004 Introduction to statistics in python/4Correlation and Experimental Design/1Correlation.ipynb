{
 "cells": [
  {
   "cell_type": "code",
   "execution_count": null,
   "id": "e09a73d5",
   "metadata": {},
   "outputs": [],
   "source": [
    "# Relationships between variables\n",
    "\n",
    "# Create a scatterplot of happiness_score vs. life_exp and show\n",
    "sns.scatterplot(x=\"life_exp\", y=\"happiness_score\", data=world_happiness)\n",
    "\n",
    "# Show plot\n",
    "plt.show()\n",
    "\n",
    "\n",
    "###############################\n",
    "# Create scatterplot of happiness_score vs life_exp with trendline\n",
    "sns.lmplot(x='life_exp', y='happiness_score', data=world_happiness, ci=None)\n",
    "\n",
    "# Show plot\n",
    "plt.show()\n",
    "\n",
    "# Correlation between life_exp and happiness_score\n",
    "cor =  world_happiness['life_exp'].corr(world_happiness['happiness_score'])\n",
    "\n",
    "\n",
    "print(cor)"
   ]
  }
 ],
 "metadata": {
  "language_info": {
   "name": "python"
  }
 },
 "nbformat": 4,
 "nbformat_minor": 5
}
