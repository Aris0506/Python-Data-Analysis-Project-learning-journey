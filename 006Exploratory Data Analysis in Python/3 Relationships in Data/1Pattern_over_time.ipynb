{
 "cells": [
  {
   "cell_type": "code",
   "execution_count": null,
   "id": "812da9db",
   "metadata": {},
   "outputs": [],
   "source": [
    "# Importing DateTime data\n",
    "\n",
    "# Import divorce.csv, parsing the appropriate columns as dates in the import\n",
    "divorce = pd.read_csv(\"divorce.csv\", parse_dates=[\"divorce_date\", \"dob_man\", \"dob_woman\", \"marriage_date\"])\n",
    "print(divorce.dtypes)"
   ]
  },
  {
   "cell_type": "code",
   "execution_count": null,
   "id": "1754632e",
   "metadata": {},
   "outputs": [],
   "source": [
    "# Updating data type to DateTime\n",
    "\n",
    "# Convert the marriage_date column to DateTime values\n",
    "divorce[\"marriage_date\"] = pd.to_datetime(divorce[\"marriage_date\"])"
   ]
  },
  {
   "cell_type": "code",
   "execution_count": null,
   "id": "06581536",
   "metadata": {},
   "outputs": [],
   "source": [
    "# Visualizing relationships over time\n",
    "\n",
    "# Define the marriage_year column\n",
    "divorce[\"marriage_year\"] = divorce[\"marriage_date\"].dt.year\n",
    "\n",
    "# Create a line plot showing the average number of kids by year\n",
    "sns.lineplot(data=divorce, x=\"marriage_year\", y=\"num_kids\")\n",
    "plt.show()"
   ]
  }
 ],
 "metadata": {
  "language_info": {
   "name": "python"
  }
 },
 "nbformat": 4,
 "nbformat_minor": 5
}
