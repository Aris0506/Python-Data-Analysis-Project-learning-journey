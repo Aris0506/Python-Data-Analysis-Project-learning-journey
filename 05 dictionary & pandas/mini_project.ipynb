{
 "cells": [
  {
   "cell_type": "markdown",
   "id": "270c2053",
   "metadata": {},
   "source": [
    "**Proyek: Analisis Data Mobil Bekas**\n",
    "\n",
    "***Skenario: Anda adalah seorang analis data junior di sebuah portal jual beli mobil. Anda diberikan sebagian kecil dari data mobil bekas yang ada di platform. Tugas Anda adalah memuat data ini ke dalam Pandas DataFrame dan melakukan beberapa analisis dasar dengan memilih data spesifik.***\n",
    "\n",
    "---- "
   ]
  },
  {
   "cell_type": "markdown",
   "id": "ba0d765c",
   "metadata": {},
   "source": [
    "**Tantangan:**\n",
    "\n",
    "1. Buat DataFrame\n",
    "- Dari dictionary data_mobil, buatlah sebuah DataFrame bernama df_mobil.\n",
    "\n",
    "2. Atur Indeks Kustom\n",
    "- Agar lebih mudah dibaca, atur indeks dari df_mobil menjadi daftar berikut: ['T01', 'H02', 'S03', 'D04', 'M05'].\n",
    "- Tampilkan keseluruhan DataFrame setelah indeksnya diubah.\n",
    "\n",
    "3. Lakukan Pemilihan Data\n",
    "- a. Pilih dan tampilkan hanya kolom 'harga_juta'.\n",
    "- b. Gunakan .loc untuk memilih dan menampilkan semua data mobil dengan kode 'S03' (Suzuki).\n",
    "- c. Gunakan .iloc untuk memilih dan menampilkan data mobil terakhir dalam DataFrame.\n",
    "- d. Gunakan slicing dengan kurung siku [] untuk memilih dan menampilkan mobil Honda dan Suzuki (baris di posisi 1 dan 2).\n",
    "\n",
    "---"
   ]
  },
  {
   "cell_type": "markdown",
   "id": "156c2a61",
   "metadata": {},
   "source": [
    "**Data Mobil Bekas**\n",
    "\n",
    "***Berikut adalah data yang Anda miliki, dalam bentuk dictionary Python:***"
   ]
  },
  {
   "cell_type": "code",
   "execution_count": 41,
   "id": "a6e4da53",
   "metadata": {},
   "outputs": [],
   "source": [
    "import pandas as pd\n",
    "\n",
    "data_mobil = {\n",
    "    'merek': ['Toyota', 'Honda', 'Suzuki', 'Daihatsu', 'Mitsubishi'],\n",
    "    'tahun': [2019, 2020, 2018, 2019, 2021],\n",
    "    'harga_juta': [250, 280, 180, 170, 300],\n",
    "    'transmisi': ['Automatic', 'Manual', 'Manual', 'Manual', 'Automatic']\n",
    "}\n"
   ]
  },
  {
   "cell_type": "markdown",
   "id": "1bcc6da2",
   "metadata": {},
   "source": [
    "---"
   ]
  },
  {
   "cell_type": "markdown",
   "id": "9ebbf795",
   "metadata": {},
   "source": [
    "**1. Buat DataFrame dari data_mobil**"
   ]
  },
  {
   "cell_type": "code",
   "execution_count": 42,
   "id": "86ca8968",
   "metadata": {},
   "outputs": [
    {
     "name": "stdout",
     "output_type": "stream",
     "text": [
      "DataFrame Mobil Bekas:\n",
      "        merek  tahun  harga_juta  transmisi\n",
      "0      Toyota   2019         250  Automatic\n",
      "1       Honda   2020         280     Manual\n",
      "2      Suzuki   2018         180     Manual\n",
      "3    Daihatsu   2019         170     Manual\n",
      "4  Mitsubishi   2021         300  Automatic\n"
     ]
    }
   ],
   "source": [
    "df_mobil = pd.DataFrame(data_mobil)\n",
    "print(\"DataFrame Mobil Bekas:\")\n",
    "print(df_mobil)"
   ]
  },
  {
   "cell_type": "markdown",
   "id": "2c16810e",
   "metadata": {},
   "source": [
    "---"
   ]
  },
  {
   "cell_type": "markdown",
   "id": "410294ee",
   "metadata": {},
   "source": [
    "**2. Atur Indeks Kustom**\n",
    "\n"
   ]
  },
  {
   "cell_type": "code",
   "execution_count": 43,
   "id": "47ae0ab9",
   "metadata": {},
   "outputs": [
    {
     "name": "stdout",
     "output_type": "stream",
     "text": [
      "\n",
      "DataFrame dengan Indeks Kustom:\n",
      "          merek  tahun  harga_juta  transmisi\n",
      "T01      Toyota   2019         250  Automatic\n",
      "H02       Honda   2020         280     Manual\n",
      "S03      Suzuki   2018         180     Manual\n",
      "D04    Daihatsu   2019         170     Manual\n",
      "M05  Mitsubishi   2021         300  Automatic\n"
     ]
    }
   ],
   "source": [
    "# Agar lebih mudah dibaca, atur indeks dari df_mobil menjadi daftar berikut: ['T01', 'H02', 'S03', 'D04', 'M05']\n",
    "df_mobil.index = ['T01', 'H02', 'S03', 'D04', 'M05']\n",
    "print(\"\\nDataFrame dengan Indeks Kustom:\")\n",
    "print(df_mobil)"
   ]
  },
  {
   "cell_type": "markdown",
   "id": "74735a2c",
   "metadata": {},
   "source": [
    "---"
   ]
  },
  {
   "cell_type": "markdown",
   "id": "0ff92171",
   "metadata": {},
   "source": [
    "**3. Lakukan Pemilihan Data**"
   ]
  },
  {
   "cell_type": "code",
   "execution_count": 44,
   "id": "67d5b5e2",
   "metadata": {},
   "outputs": [
    {
     "name": "stdout",
     "output_type": "stream",
     "text": [
      "\n",
      "Harga Mobil (dalam juta):\n",
      "T01    250\n",
      "H02    280\n",
      "S03    180\n",
      "D04    170\n",
      "M05    300\n",
      "Name: harga_juta, dtype: int64\n",
      "\n",
      "Data Mobil dengan Kode 'S03':\n",
      "merek         Suzuki\n",
      "tahun           2018\n",
      "harga_juta       180\n",
      "transmisi     Manual\n",
      "Name: S03, dtype: object\n",
      "\n",
      "Data Mobil Terakhir dalam DataFrame:\n",
      "merek         Mitsubishi\n",
      "tahun               2021\n",
      "harga_juta           300\n",
      "transmisi      Automatic\n",
      "Name: M05, dtype: object\n",
      "\n",
      "Data Mobil Honda dan Suzuki:\n",
      "      merek  tahun  harga_juta transmisi\n",
      "H02   Honda   2020         280    Manual\n",
      "S03  Suzuki   2018         180    Manual\n"
     ]
    }
   ],
   "source": [
    "#  Pilih dan tampilkan hanya kolom 'harga_juta'\n",
    "harga_mobil = df_mobil['harga_juta']\n",
    "print(\"\\nHarga Mobil (dalam juta):\")\n",
    "print(harga_mobil)\n",
    "\n",
    "\n",
    "# Gunakan .loc untuk memilih dan menampilkan semua data mobil dengan kode 'S03' (Suzuki).\n",
    "mobil_suzuki = df_mobil.loc['S03']\n",
    "print(\"\\nData Mobil dengan Kode 'S03':\")\n",
    "print(mobil_suzuki)\n",
    "\n",
    "\n",
    "# Gunakan .iloc untuk memilih dan menampilkan data mobil terakhir dalam DataFrame.\n",
    "mobil_terakhir = df_mobil.iloc[-1]\n",
    "print(\"\\nData Mobil Terakhir dalam DataFrame:\")\n",
    "print(mobil_terakhir)\n",
    "\n",
    "\n",
    "# Gunakan slicing dengan kurung siku [] untuk memilih dan menampilkan mobil Honda dan Suzuki (baris di posisi 1 dan 2).\n",
    "mobil_honda_suzuki = df_mobil[1:3]\n",
    "print(\"\\nData Mobil Honda dan Suzuki:\")\n",
    "print(mobil_honda_suzuki)\n",
    "# --- IGNORE ---\n"
   ]
  },
  {
   "cell_type": "markdown",
   "id": "ac984b0f",
   "metadata": {},
   "source": [
    "---"
   ]
  },
  {
   "cell_type": "markdown",
   "id": "5612a0fa",
   "metadata": {},
   "source": [
    "**Additional**"
   ]
  },
  {
   "cell_type": "code",
   "execution_count": 45,
   "id": "6a29fb59",
   "metadata": {},
   "outputs": [
    {
     "name": "stdout",
     "output_type": "stream",
     "text": [
      "\n",
      "Korelasi antara Tahun dan Harga (juta): 0.8536033670449905\n"
     ]
    },
    {
     "data": {
      "image/png": "[encoded data removed]",
      "text/plain": [
       "<Figure size 640x480 with 1 Axes>"
      ]
     },
     "metadata": {},
     "output_type": "display_data"
    }
   ],
   "source": [
    "# korelasi tahun dan harga_juta\n",
    "correlation = df_mobil['tahun'].corr(df_mobil['harga_juta'])\n",
    "print(\"\\nKorelasi antara Tahun dan Harga (juta):\", correlation)\n",
    "\n",
    "# visualisasi data\n",
    "import matplotlib.pyplot as plt\n",
    "plt.scatter(df_mobil['tahun'], df_mobil['harga_juta'])\n",
    "plt.title('Korelasi Tahun dan Harga Mobil Bekas')\n",
    "plt.xlabel('Tahun')\n",
    "plt.ylabel('Harga (juta)')\n",
    "plt.show()\n",
    "\n"
   ]
  },
  {
   "cell_type": "code",
   "execution_count": 46,
   "id": "80fb876b",
   "metadata": {},
   "outputs": [
    {
     "name": "stdout",
     "output_type": "stream",
     "text": [
      "\n",
      "DataFrame setelah Merubah Indeks:\n",
      "    id       merek  tahun  harga_juta  transmisi\n",
      "0  T01      Toyota   2019         250  Automatic\n",
      "1  H02       Honda   2020         280     Manual\n",
      "2  S03      Suzuki   2018         180     Manual\n",
      "3  D04    Daihatsu   2019         170     Manual\n",
      "4  M05  Mitsubishi   2021         300  Automatic\n"
     ]
    }
   ],
   "source": [
    "df_mobil.reset_index(inplace=True)  # Reset the custom index to default integer index\n",
    "df_mobil.rename(columns={'index': 'id'}, inplace=True)  # Rename the 'index' column to 'id'\n",
    "print(\"\\nDataFrame setelah Merubah Indeks:\")\n",
    "print(df_mobil)"
   ]
  }
 ],
 "metadata": {
  "kernelspec": {
   "display_name": "Python 3",
   "language": "python",
   "name": "python3"
  },
  "language_info": {
   "codemirror_mode": {
    "name": "ipython",
    "version": 3
   },
   "file_extension": ".py",
   "mimetype": "text/x-python",
   "name": "python",
   "nbconvert_exporter": "python",
   "pygments_lexer": "ipython3",
   "version": "3.12.4"
  }
 },
 "nbformat": 4,
 "nbformat_minor": 5
}
