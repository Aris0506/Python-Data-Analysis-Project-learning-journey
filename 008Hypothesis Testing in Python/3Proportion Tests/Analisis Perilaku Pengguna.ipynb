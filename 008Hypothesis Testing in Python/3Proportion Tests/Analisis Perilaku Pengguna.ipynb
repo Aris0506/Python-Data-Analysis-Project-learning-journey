{
 "cells": [
  {
   "cell_type": "markdown",
   "id": "f5205b97",
   "metadata": {},
   "source": [
    "**Proyek Mini: Analisis Perilaku Pengguna**\n",
    "\n",
    "**Konteks: Bayangkan Anda adalah seorang Data Analyst di sebuah perusahaan aplikasi mobile. Anda diberi dataset (Anda bisa membuat data tiruan sendiri) yang berisi informasi pengguna: user_id, age_category ('Di Bawah 25', 'Di Atas 25'), dan action_taken ('Membeli Produk', 'Tidak Membeli').**\n",
    "\n",
    "----"
   ]
  },
  {
   "cell_type": "code",
   "execution_count": 1,
   "id": "b236ab61",
   "metadata": {},
   "outputs": [
    {
     "data": {
      "application/vnd.microsoft.datawrangler.viewer.v0+json": {
       "columns": [
        {
         "name": "index",
         "rawType": "int64",
         "type": "integer"
        },
        {
         "name": "user_id",
         "rawType": "int64",
         "type": "integer"
        },
        {
         "name": "age_category",
         "rawType": "object",
         "type": "string"
        },
        {
         "name": "action_taken",
         "rawType": "object",
         "type": "string"
        }
       ],
       "ref": "bf696422-809c-45d7-a868-d363d80de076",
       "rows": [
        [
         "0",
         "1",
         "Di Atas 25",
         "Membeli Produk"
        ],
        [
         "1",
         "2",
         "Di Bawah 25",
         "Tidak Membeli"
        ],
        [
         "2",
         "3",
         "Di Atas 25",
         "Tidak Membeli"
        ],
        [
         "3",
         "4",
         "Di Atas 25",
         "Tidak Membeli"
        ],
        [
         "4",
         "5",
         "Di Bawah 25",
         "Membeli Produk"
        ]
       ],
       "shape": {
        "columns": 3,
        "rows": 5
       }
      },
      "text/html": [
       "<div>\n",
       "<style scoped>\n",
       "    .dataframe tbody tr th:only-of-type {\n",
       "        vertical-align: middle;\n",
       "    }\n",
       "\n",
       "    .dataframe tbody tr th {\n",
       "        vertical-align: top;\n",
       "    }\n",
       "\n",
       "    .dataframe thead th {\n",
       "        text-align: right;\n",
       "    }\n",
       "</style>\n",
       "<table border=\"1\" class=\"dataframe\">\n",
       "  <thead>\n",
       "    <tr style=\"text-align: right;\">\n",
       "      <th></th>\n",
       "      <th>user_id</th>\n",
       "      <th>age_category</th>\n",
       "      <th>action_taken</th>\n",
       "    </tr>\n",
       "  </thead>\n",
       "  <tbody>\n",
       "    <tr>\n",
       "      <th>0</th>\n",
       "      <td>1</td>\n",
       "      <td>Di Atas 25</td>\n",
       "      <td>Membeli Produk</td>\n",
       "    </tr>\n",
       "    <tr>\n",
       "      <th>1</th>\n",
       "      <td>2</td>\n",
       "      <td>Di Bawah 25</td>\n",
       "      <td>Tidak Membeli</td>\n",
       "    </tr>\n",
       "    <tr>\n",
       "      <th>2</th>\n",
       "      <td>3</td>\n",
       "      <td>Di Atas 25</td>\n",
       "      <td>Tidak Membeli</td>\n",
       "    </tr>\n",
       "    <tr>\n",
       "      <th>3</th>\n",
       "      <td>4</td>\n",
       "      <td>Di Atas 25</td>\n",
       "      <td>Tidak Membeli</td>\n",
       "    </tr>\n",
       "    <tr>\n",
       "      <th>4</th>\n",
       "      <td>5</td>\n",
       "      <td>Di Bawah 25</td>\n",
       "      <td>Membeli Produk</td>\n",
       "    </tr>\n",
       "  </tbody>\n",
       "</table>\n",
       "</div>"
      ],
      "text/plain": [
       "   user_id age_category    action_taken\n",
       "0        1   Di Atas 25  Membeli Produk\n",
       "1        2  Di Bawah 25   Tidak Membeli\n",
       "2        3   Di Atas 25   Tidak Membeli\n",
       "3        4   Di Atas 25   Tidak Membeli\n",
       "4        5  Di Bawah 25  Membeli Produk"
      ]
     },
     "execution_count": 1,
     "metadata": {},
     "output_type": "execute_result"
    }
   ],
   "source": [
    "import pandas as pd\n",
    "\n",
    "user_df = pd.read_csv('analisis_pengguna.csv')\n",
    "user_df.head()"
   ]
  },
  {
   "cell_type": "markdown",
   "id": "6a96e139",
   "metadata": {},
   "source": [
    "**TASK**\n",
    "\n",
    "1. Uji Proporsi 1 Sampel:\n",
    "- Hipotesis: Tim produk mengklaim bahwa 40% dari semua pengguna aplikasi berusia 'Di Bawah 25'. Ujilah klaim ini.\n",
    "- Langkah: Hitung proporsi sampel ($\\hat{p}$), tentukan proporsi hipotesis ($p_0=0.4$), dan hitung z-score serta p-value seperti pada materi."
   ]
  },
  {
   "cell_type": "markdown",
   "id": "bb134281",
   "metadata": {},
   "source": [
    "- "
   ]
  },
  {
   "cell_type": "code",
   "execution_count": 2,
   "id": "1addd49e",
   "metadata": {},
   "outputs": [
    {
     "name": "stdout",
     "output_type": "stream",
     "text": [
      "proporsi pengguna 0.5\n",
      "ukuran sample 30\n",
      "z-score: 1.1180339887498947\n",
      "p-value: 0.26355247728297293\n",
      "Gagal menolak H0: tidak ada bukti signifikan bahwa proporsi berbeda dari 0.4\n"
     ]
    }
   ],
   "source": [
    "# One-Sample Proportion merupakan Test yang bertujuan untuk menguji klaim mengenai proporsi populasi\n",
    "import numpy as np \n",
    "\n",
    "# proporsi sampel p_hat -> it's like dugaan hasil pengamatan sementara\n",
    "p_hat = (user_df['age_category'] == 'Di Bawah 25').mean()\n",
    "print('proporsi pengguna', p_hat)\n",
    "\n",
    "# proporsi hipotesis (p_0)\n",
    "p_0 = 0.4\n",
    "\n",
    "# Hitung ukuran sampel (n)\n",
    "n = len(user_df)\n",
    "print('ukuran sample', n)\n",
    "\n",
    "# hitung nila z-score\n",
    "numerator = p_hat - p_0 \n",
    "denominator = np.sqrt(p_0 * (1 - p_0) / n) \n",
    "z_score = numerator / denominator \n",
    "print('z-score:', z_score)\n",
    " \n",
    "from scipy.stats import norm\n",
    "# hitung p-value\n",
    "p_value = 2 * (1 - norm.cdf(abs(z_score)))  # dua sisi\n",
    "print(\"p-value:\", p_value)\n",
    "\n",
    "# taking decision\n",
    "alpha = 0.05\n",
    "\n",
    "if p_value < alpha:\n",
    "    print(\"Tolak H0: proporsi berbeda signifikan dari\", p_0)\n",
    "else:\n",
    "    print(\"Gagal menolak H0: tidak ada bukti signifikan bahwa proporsi berbeda dari\", p_0)"
   ]
  },
  {
   "cell_type": "markdown",
   "id": "d01d5603",
   "metadata": {},
   "source": [
    "---\n",
    "2. Uji Proporsi 2 Sampel:\n",
    "- Hipotesis: Selidiki apakah ada perbedaan signifikan dalam proporsi pembelian produk antara pengguna 'Di Bawah 25' dan 'Di Atas 25'.\n",
    "-  Langkah: Buat hipotesis nol ($H_0: p_{<25} - p_{\\ge25} = 0$). Gunakan fungsi proportions_ztest dari statsmodels untuk menghitung z-score dan p-value.\n",
    "\n",
    "    - Hipotesis nol (H₀): Tidak ada perbedaan proporsi pembelian antara dua kelompok umur H0​:p1​=p2\n",
    "    - Hipotesis alternatif (H₁): Ada perbedaan proporsi pembelian antara dua kelompok umur H1​:p1​ tidak sama dengan p2​ \n",
    "\n"
   ]
  },
  {
   "cell_type": "code",
   "execution_count": 25,
   "id": "e2ef9846",
   "metadata": {},
   "outputs": [
    {
     "name": "stdout",
     "output_type": "stream",
     "text": [
      "action_taken  Membeli Produk  Tidak Membeli\n",
      "age_category                               \n",
      "Di Atas 25                 7              8\n",
      "Di Bawah 25                5             10\n",
      "==================================================\n",
      "age_category  action_taken  \n",
      "Di Atas 25    Tidak Membeli     0.533333\n",
      "              Membeli Produk    0.466667\n",
      "Di Bawah 25   Tidak Membeli     0.666667\n",
      "              Membeli Produk    0.333333\n",
      "Name: proportion, dtype: float64\n",
      "==================================================\n",
      "p_hat_upper 25: 0.4666666666666667\n",
      "p_hat under 25: 0.3333333333333333\n",
      "==================================================\n",
      "Z-score: 0.74535599249993\n",
      "p-value: 0.4560565402502559\n",
      "==================================================\n",
      "++++++++++++++++++++++++++++++++++++++++++++++++++\n",
      "Z-stat: 0.74535599249993\n",
      "P-value: 0.4560565402502559\n",
      "==================================================\n",
      "Gagal menolak H0: tidak ada bukti signifikan bahwa proporsi berbeda antara kedua kelompok usia\n"
     ]
    }
   ],
   "source": [
    "# Hitung jumlah masing-masing kategori\n",
    "count_table = user_df.groupby([\"age_category\", \"action_taken\"]).size().unstack()\n",
    "print(count_table)\n",
    "print('=' * 50)\n",
    "\n",
    "# Hitung proporsi pembeli per kelompok usia\n",
    "p_hats = user_df.groupby(\"age_category\")['action_taken'].value_counts(normalize=True)\n",
    "print(p_hats)\n",
    "print('=' * 50)\n",
    "\n",
    "# Ambil proporsi 'Membeli Produk'\n",
    "p_hat_atas25 = p_hats[(\"Di Atas 25\", \"Membeli Produk\")]\n",
    "p_hat_bawah25 = p_hats[(\"Di Bawah 25\", \"Membeli Produk\")]\n",
    "print('p_hat_upper 25:', p_hat_atas25)\n",
    "print('p_hat under 25:', p_hat_bawah25)\n",
    "print('=' * 50)\n",
    "\n",
    "# Hitung jumlah observasi masing-masing grup\n",
    "n = user_df.groupby(\"age_category\")['action_taken'].count()\n",
    "n_atas25 = n[\"Di Atas 25\"]\n",
    "n_bawah25 = n[\"Di Bawah 25\"]\n",
    "\n",
    "\n",
    "# Pooled proportion (gabungan)\n",
    "p_hat = (n_atas25*p_hat_atas25 + n_bawah25*p_hat_bawah25) / (n_atas25 + n_bawah25)\n",
    "\n",
    "# Standard error\n",
    "std_error = np.sqrt(p_hat * (1 - p_hat) * (1/n_atas25 + 1/n_bawah25))\n",
    "\n",
    "# Z-score\n",
    "z_score = (p_hat_atas25 - p_hat_bawah25) / std_error\n",
    "print(\"Z-score:\", z_score)\n",
    "\n",
    "from scipy.stats import norm\n",
    "\n",
    "# Dua arah\n",
    "p_value = 2 * (1 - norm.cdf(abs(z_score)))\n",
    "print(\"p-value:\", p_value)\n",
    "\n",
    "\n",
    "print('=' * 50) \n",
    "print('+' * 50)\n",
    "#####################\n",
    "from statsmodels.stats.proportion import proportions_ztest\n",
    "\n",
    "# hitung jumlah \"Membeli Produk\" di masing-masing kategori usia\n",
    "count = user_df.groupby('age_category')['action_taken'].apply(lambda x: (x == 'Membeli Produk').sum())\n",
    "nobs = user_df['age_category'].value_counts()\n",
    "# print(\"Jumlah pembeli (count):\\n\", count)\n",
    "# print(\"Jumlah total (nobs):\\n\", nobs)\n",
    "\n",
    "# konversi ke urutan list agar sejalan\n",
    "count = count.values\n",
    "nobs = nobs.values\n",
    "\n",
    "\n",
    "# uji dua sisi\n",
    "z_stat, p_value = proportions_ztest(count, nobs, alternative='two-sided')\n",
    "\n",
    "print(\"Z-stat:\", z_stat)\n",
    "print(\"P-value:\", p_value)\n",
    "\n",
    "print('=' * 50)\n",
    "# decision\n",
    "alpha = 0.05\n",
    "if p_value < alpha:\n",
    "    print(\"Tolak H0: proporsi berbeda signifikan antara kedua kelompok usia\")\n",
    "else:\n",
    "    print(\"Gagal menolak H0: tidak ada bukti signifikan bahwa proporsi berbeda antara kedua kelompok usia\") \n",
    "    \n"
   ]
  },
  {
   "cell_type": "markdown",
   "id": "f010c187",
   "metadata": {},
   "source": [
    "---\n",
    "3. Uji Chi-Square Independensi (Opsional, jika ada data tambahan):\n",
    "\n",
    "- Hipotesis: Jika Anda memiliki data tambahan seperti satisfaction_level ('Puas', 'Netral', 'Tidak Puas'), ujilah apakah ada hubungan antara age_category dan satisfaction_level.\n",
    "- Langkah: Gunakan fungsi pingouin.chi2_independence untuk melakukan pengujian."
   ]
  },
  {
   "cell_type": "markdown",
   "id": "a0c5b524",
   "metadata": {},
   "source": []
  }
 ],
 "metadata": {
  "kernelspec": {
   "display_name": "Python 3",
   "language": "python",
   "name": "python3"
  },
  "language_info": {
   "codemirror_mode": {
    "name": "ipython",
    "version": 3
   },
   "file_extension": ".py",
   "mimetype": "text/x-python",
   "name": "python",
   "nbconvert_exporter": "python",
   "pygments_lexer": "ipython3",
   "version": "3.14.0"
  }
 },
 "nbformat": 4,
 "nbformat_minor": 5
}
