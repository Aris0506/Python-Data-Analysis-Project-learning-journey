{
 "cells": [
  {
   "cell_type": "code",
   "execution_count": null,
   "id": "eae99e02",
   "metadata": {},
   "outputs": [],
   "source": [
    "# Simulating sales deals\n",
    "\n",
    "# Import binom from scipy.stats\n",
    "from scipy.stats import binom\n",
    "\n",
    "# Set random seed to 10\n",
    "np.random.seed(10)\n",
    "\n",
    "# Simulate a single deal\n",
    "print(binom.rvs(1, 0.3, size=1))"
   ]
  },
  {
   "cell_type": "code",
   "execution_count": null,
   "id": "625e7ba6",
   "metadata": {},
   "outputs": [],
   "source": [
    "# Import binom from scipy.stats\n",
    "from scipy.stats import binom\n",
    "\n",
    "# Set random seed to 10\n",
    "np.random.seed(10)\n",
    "\n",
    "# Simulate 1 week of 3 deals\n",
    "print(binom.rvs(3, 0.3, size=1))"
   ]
  },
  {
   "cell_type": "code",
   "execution_count": null,
   "id": "a203aa3f",
   "metadata": {},
   "outputs": [],
   "source": [
    "# Simulating sales deals\n",
    "\n",
    "# Import binom from scipy.stats\n",
    "from scipy.stats import binom\n",
    "import numpy as np\n",
    "\n",
    "# Set random seed to 10\n",
    "np.random.seed(10)\n",
    "\n",
    "# Simulate 52 weeks of 3 deals\n",
    "deals = binom.rvs(3, 0.3, size=52)\n",
    "\n",
    "# Print mean deals won per week\n",
    "print(deals.mean())"
   ]
  },
  {
   "cell_type": "code",
   "execution_count": null,
   "id": "e1fffe3f",
   "metadata": {},
   "outputs": [],
   "source": [
    "# Calculating binomial probabilities\n",
    "\n",
    "# Probability of closing 3 out of 3 deals\n",
    "prob_3 = binom.pmf(3, 3, 0.3)\n",
    "print(prob_3)\n",
    "\n",
    "\n",
    "########################\n",
    "# Probability of closing <= 1 deal out of 3 deals\n",
    "prob_less_than_or_equal_1 = binom.cdf(1, 3, 0.3)\n",
    "print(prob_less_than_or_equal_1)\n",
    "\n",
    "\n",
    "############################\n",
    "# Probability of closing > 1 deal out of 3 deals\n",
    "prob_greater_than_1 = 1- binom.cdf(1, 3, 0.3)\n",
    "\n",
    "\n",
    "print(prob_greater_than_1)"
   ]
  },
  {
   "cell_type": "code",
   "execution_count": null,
   "id": "d6925e5d",
   "metadata": {},
   "outputs": [],
   "source": [
    "# How many sales will be won?\n",
    "\n",
    "# Expected number won with 30% win rate\n",
    "won_30pct = 3 * 0.3\n",
    "print(won_30pct)\n",
    "\n",
    "# Expected number won with 25% win rate\n",
    "won_25pct = 3 * 0.25\n",
    "print(won_25pct)\n",
    "\n",
    "# Expected number won with 35% win rate\n",
    "won_35pct = 3 * 0.35\n",
    "print(won_35pct)"
   ]
  }
 ],
 "metadata": {
  "language_info": {
   "name": "python"
  }
 },
 "nbformat": 4,
 "nbformat_minor": 5
}
