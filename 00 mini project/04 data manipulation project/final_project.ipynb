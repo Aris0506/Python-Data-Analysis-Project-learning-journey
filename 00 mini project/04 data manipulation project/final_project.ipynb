{
 "cells": [
  {
   "cell_type": "markdown",
   "id": "356b5d55",
   "metadata": {},
   "source": [
    "**Final Projek: Analisis Data Penjualan Supermarket**\n",
    "\n",
    "**Tujuan Proyek:**\n",
    "\n",
    "**Menganalisis dataset penjualan untuk mengidentifikasi produk terlaris, performa penjualan di setiap cabang, dan tren pembelian pelanggan untuk memberikan rekomendasi strategi bisnis.**\n",
    "\n",
    "---"
   ]
  },
  {
   "cell_type": "code",
   "execution_count": 154,
   "id": "da11fdd3",
   "metadata": {},
   "outputs": [],
   "source": [
    "import pandas as pd\n",
    "import numpy as np\n",
    "import matplotlib.pyplot as plt"
   ]
  },
  {
   "cell_type": "markdown",
   "id": "92be9905",
   "metadata": {},
   "source": [
    "---"
   ]
  },
  {
   "cell_type": "markdown",
   "id": "93981cf5",
   "metadata": {},
   "source": [
    "**Tugas-Tugas Analisis:**\n",
    "\n",
    "**Berikut adalah serangkaian tugas yang harus diselesaikan secara berurutan**"
   ]
  },
  {
   "cell_type": "markdown",
   "id": "65d674ac",
   "metadata": {},
   "source": [
    "**Tahap 1: Memuat dan Membersihkan Data**\n",
    "\n",
    "- Memuat Data: Buatlah sebuah DataFrame pandas dari data CSV di atas.\n",
    "- Inspeksi Awal: Tampilkan 5 baris pertama data untuk memahaminya. Gunakan (.info()) untuk melihat tipe data dan informasi non-null.\n",
    "- Menangani Data Hilang: Identifikasi kolom mana yang memiliki nilai yang hilang (missing values). Gantikan nilai yang hilang di kolom (rating_produk) dengan nilai rata-rata (mean) dari rating produk yang ada."
   ]
  },
  {
   "cell_type": "code",
   "execution_count": 155,
   "id": "f60f2130",
   "metadata": {},
   "outputs": [],
   "source": [
    "# load data\n",
    "df_penjualan = pd.read_csv(\"data_penjualan.csv\")"
   ]
  },
  {
   "cell_type": "code",
   "execution_count": 156,
   "id": "a0ea9120",
   "metadata": {},
   "outputs": [
    {
     "data": {
      "application/vnd.microsoft.datawrangler.viewer.v0+json": {
       "columns": [
        {
         "name": "index",
         "rawType": "int64",
         "type": "integer"
        },
        {
         "name": "id_transaksi",
         "rawType": "int64",
         "type": "integer"
        },
        {
         "name": "tanggal",
         "rawType": "object",
         "type": "string"
        },
        {
         "name": "cabang",
         "rawType": "object",
         "type": "string"
        },
        {
         "name": "tipe_produk",
         "rawType": "object",
         "type": "string"
        },
        {
         "name": "nama_produk",
         "rawType": "object",
         "type": "string"
        },
        {
         "name": "harga_satuan",
         "rawType": "int64",
         "type": "integer"
        },
        {
         "name": "jumlah_terjual",
         "rawType": "int64",
         "type": "integer"
        },
        {
         "name": "rating_produk",
         "rawType": "float64",
         "type": "float"
        }
       ],
       "ref": "b0f49b8e-dc10-46cc-b05a-62a6021fbec0",
       "rows": [
        [
         "0",
         "1001",
         "2025-06-01",
         "Jakarta",
         "Elektronik",
         "Blender",
         "500000",
         "2",
         "4.5"
        ],
        [
         "1",
         "1002",
         "2025-06-02",
         "Jakarta",
         "Makanan",
         "Roti Tawar",
         "15000",
         "5",
         "4.0"
        ],
        [
         "2",
         "1003",
         "2025-06-03",
         "Bandung",
         "Minuman",
         "Susu UHT",
         "20000",
         "10",
         "4.8"
        ],
        [
         "3",
         "1004",
         "2025-06-04",
         "Surabaya",
         "Elektronik",
         "Microwave",
         "1200000",
         "1",
         "4.2"
        ],
        [
         "4",
         "1005",
         "2025-06-05",
         "Jakarta",
         "Minuman",
         "Kopi Instan",
         "30000",
         "8",
         "4.6"
        ]
       ],
       "shape": {
        "columns": 8,
        "rows": 5
       }
      },
      "text/html": [
       "<div>\n",
       "<style scoped>\n",
       "    .dataframe tbody tr th:only-of-type {\n",
       "        vertical-align: middle;\n",
       "    }\n",
       "\n",
       "    .dataframe tbody tr th {\n",
       "        vertical-align: top;\n",
       "    }\n",
       "\n",
       "    .dataframe thead th {\n",
       "        text-align: right;\n",
       "    }\n",
       "</style>\n",
       "<table border=\"1\" class=\"dataframe\">\n",
       "  <thead>\n",
       "    <tr style=\"text-align: right;\">\n",
       "      <th></th>\n",
       "      <th>id_transaksi</th>\n",
       "      <th>tanggal</th>\n",
       "      <th>cabang</th>\n",
       "      <th>tipe_produk</th>\n",
       "      <th>nama_produk</th>\n",
       "      <th>harga_satuan</th>\n",
       "      <th>jumlah_terjual</th>\n",
       "      <th>rating_produk</th>\n",
       "    </tr>\n",
       "  </thead>\n",
       "  <tbody>\n",
       "    <tr>\n",
       "      <th>0</th>\n",
       "      <td>1001</td>\n",
       "      <td>2025-06-01</td>\n",
       "      <td>Jakarta</td>\n",
       "      <td>Elektronik</td>\n",
       "      <td>Blender</td>\n",
       "      <td>500000</td>\n",
       "      <td>2</td>\n",
       "      <td>4.5</td>\n",
       "    </tr>\n",
       "    <tr>\n",
       "      <th>1</th>\n",
       "      <td>1002</td>\n",
       "      <td>2025-06-02</td>\n",
       "      <td>Jakarta</td>\n",
       "      <td>Makanan</td>\n",
       "      <td>Roti Tawar</td>\n",
       "      <td>15000</td>\n",
       "      <td>5</td>\n",
       "      <td>4.0</td>\n",
       "    </tr>\n",
       "    <tr>\n",
       "      <th>2</th>\n",
       "      <td>1003</td>\n",
       "      <td>2025-06-03</td>\n",
       "      <td>Bandung</td>\n",
       "      <td>Minuman</td>\n",
       "      <td>Susu UHT</td>\n",
       "      <td>20000</td>\n",
       "      <td>10</td>\n",
       "      <td>4.8</td>\n",
       "    </tr>\n",
       "    <tr>\n",
       "      <th>3</th>\n",
       "      <td>1004</td>\n",
       "      <td>2025-06-04</td>\n",
       "      <td>Surabaya</td>\n",
       "      <td>Elektronik</td>\n",
       "      <td>Microwave</td>\n",
       "      <td>1200000</td>\n",
       "      <td>1</td>\n",
       "      <td>4.2</td>\n",
       "    </tr>\n",
       "    <tr>\n",
       "      <th>4</th>\n",
       "      <td>1005</td>\n",
       "      <td>2025-06-05</td>\n",
       "      <td>Jakarta</td>\n",
       "      <td>Minuman</td>\n",
       "      <td>Kopi Instan</td>\n",
       "      <td>30000</td>\n",
       "      <td>8</td>\n",
       "      <td>4.6</td>\n",
       "    </tr>\n",
       "  </tbody>\n",
       "</table>\n",
       "</div>"
      ],
      "text/plain": [
       "   id_transaksi     tanggal    cabang tipe_produk  nama_produk  harga_satuan  \\\n",
       "0          1001  2025-06-01   Jakarta  Elektronik      Blender        500000   \n",
       "1          1002  2025-06-02   Jakarta     Makanan   Roti Tawar         15000   \n",
       "2          1003  2025-06-03   Bandung     Minuman     Susu UHT         20000   \n",
       "3          1004  2025-06-04  Surabaya  Elektronik    Microwave       1200000   \n",
       "4          1005  2025-06-05   Jakarta     Minuman  Kopi Instan         30000   \n",
       "\n",
       "   jumlah_terjual  rating_produk  \n",
       "0               2            4.5  \n",
       "1               5            4.0  \n",
       "2              10            4.8  \n",
       "3               1            4.2  \n",
       "4               8            4.6  "
      ]
     },
     "execution_count": 156,
     "metadata": {},
     "output_type": "execute_result"
    }
   ],
   "source": [
    "# Initial Inspection -> display 5 rows\n",
    "\n",
    "df_penjualan.head()"
   ]
  },
  {
   "cell_type": "code",
   "execution_count": 157,
   "id": "33aecedf",
   "metadata": {},
   "outputs": [
    {
     "data": {
      "application/vnd.microsoft.datawrangler.viewer.v0+json": {
       "columns": [
        {
         "name": "index",
         "rawType": "int64",
         "type": "integer"
        },
        {
         "name": "id_transaksi",
         "rawType": "int64",
         "type": "integer"
        },
        {
         "name": "tanggal",
         "rawType": "object",
         "type": "string"
        },
        {
         "name": "cabang",
         "rawType": "object",
         "type": "string"
        },
        {
         "name": "tipe_produk",
         "rawType": "object",
         "type": "string"
        },
        {
         "name": "nama_produk",
         "rawType": "object",
         "type": "string"
        },
        {
         "name": "harga_satuan",
         "rawType": "int64",
         "type": "integer"
        },
        {
         "name": "jumlah_terjual",
         "rawType": "int64",
         "type": "integer"
        },
        {
         "name": "rating_produk",
         "rawType": "float64",
         "type": "float"
        }
       ],
       "ref": "227a6806-f403-4109-853c-238cd5cff14d",
       "rows": [
        [
         "0",
         "1001",
         "2025-06-01",
         "Jakarta",
         "Elektronik",
         "Blender",
         "500000",
         "2",
         "4.5"
        ],
        [
         "1",
         "1002",
         "2025-06-02",
         "Jakarta",
         "Makanan",
         "Roti Tawar",
         "15000",
         "5",
         "4.0"
        ],
        [
         "2",
         "1003",
         "2025-06-03",
         "Bandung",
         "Minuman",
         "Susu UHT",
         "20000",
         "10",
         "4.8"
        ],
        [
         "3",
         "1004",
         "2025-06-04",
         "Surabaya",
         "Elektronik",
         "Microwave",
         "1200000",
         "1",
         "4.2"
        ],
        [
         "4",
         "1005",
         "2025-06-05",
         "Jakarta",
         "Minuman",
         "Kopi Instan",
         "30000",
         "8",
         "4.6"
        ],
        [
         "5",
         "1006",
         "2025-07-06",
         "Bandung",
         "Makanan",
         "Mie Instan",
         "3000",
         "20",
         "4.7"
        ],
        [
         "6",
         "1007",
         "2025-07-07",
         "Surabaya",
         "Elektronik",
         "Blender",
         "500000",
         "1",
         "4.5"
        ],
        [
         "7",
         "1008",
         "2025-07-08",
         "Jakarta",
         "Makanan",
         "Beras",
         "60000",
         "3",
         "4.5"
        ],
        [
         "8",
         "1009",
         "2025-07-09",
         "Bandung",
         "Minuman",
         "Teh Celup",
         "12000",
         "15",
         "4.3"
        ],
        [
         "9",
         "1010",
         "2025-08-10",
         "Surabaya",
         "Makanan",
         "Minyak Goreng",
         "40000",
         "4",
         "4.9"
        ],
        [
         "10",
         "1011",
         "2025-08-11",
         "Jakarta",
         "Minuman",
         "Susu UHT",
         "21000",
         "12",
         "4.8"
        ],
        [
         "11",
         "1012",
         "2025-08-12",
         "Bandung",
         "Elektronik",
         "Setrika",
         "300000",
         "2",
         "4.1"
        ],
        [
         "12",
         "1013",
         "2025-08-13",
         "Surabaya",
         "Makanan",
         "Roti Tawar",
         "16000",
         "4",
         "4.0"
        ],
        [
         "13",
         "1014",
         "2025-08-14",
         "Jakarta",
         "Elektronik",
         "Blender",
         "510000",
         "1",
         "4.5"
        ],
        [
         "14",
         "1015",
         "2025-08-15",
         "Bandung",
         "Makanan",
         "Mie Instan",
         "3500",
         "30",
         "4.7"
        ]
       ],
       "shape": {
        "columns": 8,
        "rows": 15
       }
      },
      "text/html": [
       "<div>\n",
       "<style scoped>\n",
       "    .dataframe tbody tr th:only-of-type {\n",
       "        vertical-align: middle;\n",
       "    }\n",
       "\n",
       "    .dataframe tbody tr th {\n",
       "        vertical-align: top;\n",
       "    }\n",
       "\n",
       "    .dataframe thead th {\n",
       "        text-align: right;\n",
       "    }\n",
       "</style>\n",
       "<table border=\"1\" class=\"dataframe\">\n",
       "  <thead>\n",
       "    <tr style=\"text-align: right;\">\n",
       "      <th></th>\n",
       "      <th>id_transaksi</th>\n",
       "      <th>tanggal</th>\n",
       "      <th>cabang</th>\n",
       "      <th>tipe_produk</th>\n",
       "      <th>nama_produk</th>\n",
       "      <th>harga_satuan</th>\n",
       "      <th>jumlah_terjual</th>\n",
       "      <th>rating_produk</th>\n",
       "    </tr>\n",
       "  </thead>\n",
       "  <tbody>\n",
       "    <tr>\n",
       "      <th>0</th>\n",
       "      <td>1001</td>\n",
       "      <td>2025-06-01</td>\n",
       "      <td>Jakarta</td>\n",
       "      <td>Elektronik</td>\n",
       "      <td>Blender</td>\n",
       "      <td>500000</td>\n",
       "      <td>2</td>\n",
       "      <td>4.5</td>\n",
       "    </tr>\n",
       "    <tr>\n",
       "      <th>1</th>\n",
       "      <td>1002</td>\n",
       "      <td>2025-06-02</td>\n",
       "      <td>Jakarta</td>\n",
       "      <td>Makanan</td>\n",
       "      <td>Roti Tawar</td>\n",
       "      <td>15000</td>\n",
       "      <td>5</td>\n",
       "      <td>4.0</td>\n",
       "    </tr>\n",
       "    <tr>\n",
       "      <th>2</th>\n",
       "      <td>1003</td>\n",
       "      <td>2025-06-03</td>\n",
       "      <td>Bandung</td>\n",
       "      <td>Minuman</td>\n",
       "      <td>Susu UHT</td>\n",
       "      <td>20000</td>\n",
       "      <td>10</td>\n",
       "      <td>4.8</td>\n",
       "    </tr>\n",
       "    <tr>\n",
       "      <th>3</th>\n",
       "      <td>1004</td>\n",
       "      <td>2025-06-04</td>\n",
       "      <td>Surabaya</td>\n",
       "      <td>Elektronik</td>\n",
       "      <td>Microwave</td>\n",
       "      <td>1200000</td>\n",
       "      <td>1</td>\n",
       "      <td>4.2</td>\n",
       "    </tr>\n",
       "    <tr>\n",
       "      <th>4</th>\n",
       "      <td>1005</td>\n",
       "      <td>2025-06-05</td>\n",
       "      <td>Jakarta</td>\n",
       "      <td>Minuman</td>\n",
       "      <td>Kopi Instan</td>\n",
       "      <td>30000</td>\n",
       "      <td>8</td>\n",
       "      <td>4.6</td>\n",
       "    </tr>\n",
       "    <tr>\n",
       "      <th>5</th>\n",
       "      <td>1006</td>\n",
       "      <td>2025-07-06</td>\n",
       "      <td>Bandung</td>\n",
       "      <td>Makanan</td>\n",
       "      <td>Mie Instan</td>\n",
       "      <td>3000</td>\n",
       "      <td>20</td>\n",
       "      <td>4.7</td>\n",
       "    </tr>\n",
       "    <tr>\n",
       "      <th>6</th>\n",
       "      <td>1007</td>\n",
       "      <td>2025-07-07</td>\n",
       "      <td>Surabaya</td>\n",
       "      <td>Elektronik</td>\n",
       "      <td>Blender</td>\n",
       "      <td>500000</td>\n",
       "      <td>1</td>\n",
       "      <td>4.5</td>\n",
       "    </tr>\n",
       "    <tr>\n",
       "      <th>7</th>\n",
       "      <td>1008</td>\n",
       "      <td>2025-07-08</td>\n",
       "      <td>Jakarta</td>\n",
       "      <td>Makanan</td>\n",
       "      <td>Beras</td>\n",
       "      <td>60000</td>\n",
       "      <td>3</td>\n",
       "      <td>4.5</td>\n",
       "    </tr>\n",
       "    <tr>\n",
       "      <th>8</th>\n",
       "      <td>1009</td>\n",
       "      <td>2025-07-09</td>\n",
       "      <td>Bandung</td>\n",
       "      <td>Minuman</td>\n",
       "      <td>Teh Celup</td>\n",
       "      <td>12000</td>\n",
       "      <td>15</td>\n",
       "      <td>4.3</td>\n",
       "    </tr>\n",
       "    <tr>\n",
       "      <th>9</th>\n",
       "      <td>1010</td>\n",
       "      <td>2025-08-10</td>\n",
       "      <td>Surabaya</td>\n",
       "      <td>Makanan</td>\n",
       "      <td>Minyak Goreng</td>\n",
       "      <td>40000</td>\n",
       "      <td>4</td>\n",
       "      <td>4.9</td>\n",
       "    </tr>\n",
       "    <tr>\n",
       "      <th>10</th>\n",
       "      <td>1011</td>\n",
       "      <td>2025-08-11</td>\n",
       "      <td>Jakarta</td>\n",
       "      <td>Minuman</td>\n",
       "      <td>Susu UHT</td>\n",
       "      <td>21000</td>\n",
       "      <td>12</td>\n",
       "      <td>4.8</td>\n",
       "    </tr>\n",
       "    <tr>\n",
       "      <th>11</th>\n",
       "      <td>1012</td>\n",
       "      <td>2025-08-12</td>\n",
       "      <td>Bandung</td>\n",
       "      <td>Elektronik</td>\n",
       "      <td>Setrika</td>\n",
       "      <td>300000</td>\n",
       "      <td>2</td>\n",
       "      <td>4.1</td>\n",
       "    </tr>\n",
       "    <tr>\n",
       "      <th>12</th>\n",
       "      <td>1013</td>\n",
       "      <td>2025-08-13</td>\n",
       "      <td>Surabaya</td>\n",
       "      <td>Makanan</td>\n",
       "      <td>Roti Tawar</td>\n",
       "      <td>16000</td>\n",
       "      <td>4</td>\n",
       "      <td>4.0</td>\n",
       "    </tr>\n",
       "    <tr>\n",
       "      <th>13</th>\n",
       "      <td>1014</td>\n",
       "      <td>2025-08-14</td>\n",
       "      <td>Jakarta</td>\n",
       "      <td>Elektronik</td>\n",
       "      <td>Blender</td>\n",
       "      <td>510000</td>\n",
       "      <td>1</td>\n",
       "      <td>4.5</td>\n",
       "    </tr>\n",
       "    <tr>\n",
       "      <th>14</th>\n",
       "      <td>1015</td>\n",
       "      <td>2025-08-15</td>\n",
       "      <td>Bandung</td>\n",
       "      <td>Makanan</td>\n",
       "      <td>Mie Instan</td>\n",
       "      <td>3500</td>\n",
       "      <td>30</td>\n",
       "      <td>4.7</td>\n",
       "    </tr>\n",
       "  </tbody>\n",
       "</table>\n",
       "</div>"
      ],
      "text/plain": [
       "    id_transaksi     tanggal    cabang tipe_produk    nama_produk  \\\n",
       "0           1001  2025-06-01   Jakarta  Elektronik        Blender   \n",
       "1           1002  2025-06-02   Jakarta     Makanan     Roti Tawar   \n",
       "2           1003  2025-06-03   Bandung     Minuman       Susu UHT   \n",
       "3           1004  2025-06-04  Surabaya  Elektronik      Microwave   \n",
       "4           1005  2025-06-05   Jakarta     Minuman    Kopi Instan   \n",
       "5           1006  2025-07-06   Bandung     Makanan     Mie Instan   \n",
       "6           1007  2025-07-07  Surabaya  Elektronik        Blender   \n",
       "7           1008  2025-07-08   Jakarta     Makanan          Beras   \n",
       "8           1009  2025-07-09   Bandung     Minuman      Teh Celup   \n",
       "9           1010  2025-08-10  Surabaya     Makanan  Minyak Goreng   \n",
       "10          1011  2025-08-11   Jakarta     Minuman       Susu UHT   \n",
       "11          1012  2025-08-12   Bandung  Elektronik        Setrika   \n",
       "12          1013  2025-08-13  Surabaya     Makanan     Roti Tawar   \n",
       "13          1014  2025-08-14   Jakarta  Elektronik        Blender   \n",
       "14          1015  2025-08-15   Bandung     Makanan     Mie Instan   \n",
       "\n",
       "    harga_satuan  jumlah_terjual  rating_produk  \n",
       "0         500000               2            4.5  \n",
       "1          15000               5            4.0  \n",
       "2          20000              10            4.8  \n",
       "3        1200000               1            4.2  \n",
       "4          30000               8            4.6  \n",
       "5           3000              20            4.7  \n",
       "6         500000               1            4.5  \n",
       "7          60000               3            4.5  \n",
       "8          12000              15            4.3  \n",
       "9          40000               4            4.9  \n",
       "10         21000              12            4.8  \n",
       "11        300000               2            4.1  \n",
       "12         16000               4            4.0  \n",
       "13        510000               1            4.5  \n",
       "14          3500              30            4.7  "
      ]
     },
     "execution_count": 157,
     "metadata": {},
     "output_type": "execute_result"
    }
   ],
   "source": [
    "# handling missing values\n",
    "# df_penjualan.isna().sum().plot(kind=\"bar\") \n",
    "# plt.show() \n",
    "\n",
    "df_penjualan.isna().sum()\n",
    "\n",
    "df_penjualan['rating_produk'] = df_penjualan['rating_produk'].fillna(df_penjualan['rating_produk'].mean()).round(1)\n",
    "df_penjualan\n",
    "\n",
    "\n"
   ]
  },
  {
   "cell_type": "markdown",
   "id": "58ed90c7",
   "metadata": {},
   "source": [
    "---"
   ]
  },
  {
   "cell_type": "markdown",
   "id": "970c2f5c",
   "metadata": {},
   "source": [
    "**Tahap 2: Analisis dan Manipulasi Data**\n",
    "\n",
    "- Membuat Kolom Baru: Buat kolom baru bernama total_pendapatan yang merupakan hasil perkalian dari harga_satuan dan jumlah_terjual.\n",
    "- Analisis Deskriptif: Tampilkan ringkasan statistik (summary statistics) untuk kolom-kolom numerik seperti harga_satuan, jumlah_terjual, dan total_pendapatan.\n",
    "- Sorting: Urutkan DataFrame berdasarkan total_pendapatan dari yang terbesar hingga terkecil untuk melihat transaksi dengan pendapatan tertinggi.\n",
    "- Subset Data: Buat DataFrame baru yang hanya berisi penjualan dari cabang 'Jakarta' dengan total_pendapatan di atas Rp 200.000."
   ]
  },
  {
   "cell_type": "code",
   "execution_count": 158,
   "id": "6bccaab0",
   "metadata": {},
   "outputs": [
    {
     "data": {
      "application/vnd.microsoft.datawrangler.viewer.v0+json": {
       "columns": [
        {
         "name": "index",
         "rawType": "int64",
         "type": "integer"
        },
        {
         "name": "id_transaksi",
         "rawType": "int64",
         "type": "integer"
        },
        {
         "name": "tanggal",
         "rawType": "object",
         "type": "string"
        },
        {
         "name": "cabang",
         "rawType": "object",
         "type": "string"
        },
        {
         "name": "tipe_produk",
         "rawType": "object",
         "type": "string"
        },
        {
         "name": "nama_produk",
         "rawType": "object",
         "type": "string"
        },
        {
         "name": "harga_satuan",
         "rawType": "int64",
         "type": "integer"
        },
        {
         "name": "jumlah_terjual",
         "rawType": "int64",
         "type": "integer"
        },
        {
         "name": "rating_produk",
         "rawType": "float64",
         "type": "float"
        },
        {
         "name": "total_pendapatan",
         "rawType": "int64",
         "type": "integer"
        }
       ],
       "ref": "b3c5542d-7447-4c5c-9c03-2cee523e1d35",
       "rows": [
        [
         "0",
         "1001",
         "2025-06-01",
         "Jakarta",
         "Elektronik",
         "Blender",
         "500000",
         "2",
         "4.5",
         "1000000"
        ],
        [
         "1",
         "1002",
         "2025-06-02",
         "Jakarta",
         "Makanan",
         "Roti Tawar",
         "15000",
         "5",
         "4.0",
         "75000"
        ],
        [
         "2",
         "1003",
         "2025-06-03",
         "Bandung",
         "Minuman",
         "Susu UHT",
         "20000",
         "10",
         "4.8",
         "200000"
        ],
        [
         "3",
         "1004",
         "2025-06-04",
         "Surabaya",
         "Elektronik",
         "Microwave",
         "1200000",
         "1",
         "4.2",
         "1200000"
        ],
        [
         "4",
         "1005",
         "2025-06-05",
         "Jakarta",
         "Minuman",
         "Kopi Instan",
         "30000",
         "8",
         "4.6",
         "240000"
        ]
       ],
       "shape": {
        "columns": 9,
        "rows": 5
       }
      },
      "text/html": [
       "<div>\n",
       "<style scoped>\n",
       "    .dataframe tbody tr th:only-of-type {\n",
       "        vertical-align: middle;\n",
       "    }\n",
       "\n",
       "    .dataframe tbody tr th {\n",
       "        vertical-align: top;\n",
       "    }\n",
       "\n",
       "    .dataframe thead th {\n",
       "        text-align: right;\n",
       "    }\n",
       "</style>\n",
       "<table border=\"1\" class=\"dataframe\">\n",
       "  <thead>\n",
       "    <tr style=\"text-align: right;\">\n",
       "      <th></th>\n",
       "      <th>id_transaksi</th>\n",
       "      <th>tanggal</th>\n",
       "      <th>cabang</th>\n",
       "      <th>tipe_produk</th>\n",
       "      <th>nama_produk</th>\n",
       "      <th>harga_satuan</th>\n",
       "      <th>jumlah_terjual</th>\n",
       "      <th>rating_produk</th>\n",
       "      <th>total_pendapatan</th>\n",
       "    </tr>\n",
       "  </thead>\n",
       "  <tbody>\n",
       "    <tr>\n",
       "      <th>0</th>\n",
       "      <td>1001</td>\n",
       "      <td>2025-06-01</td>\n",
       "      <td>Jakarta</td>\n",
       "      <td>Elektronik</td>\n",
       "      <td>Blender</td>\n",
       "      <td>500000</td>\n",
       "      <td>2</td>\n",
       "      <td>4.5</td>\n",
       "      <td>1000000</td>\n",
       "    </tr>\n",
       "    <tr>\n",
       "      <th>1</th>\n",
       "      <td>1002</td>\n",
       "      <td>2025-06-02</td>\n",
       "      <td>Jakarta</td>\n",
       "      <td>Makanan</td>\n",
       "      <td>Roti Tawar</td>\n",
       "      <td>15000</td>\n",
       "      <td>5</td>\n",
       "      <td>4.0</td>\n",
       "      <td>75000</td>\n",
       "    </tr>\n",
       "    <tr>\n",
       "      <th>2</th>\n",
       "      <td>1003</td>\n",
       "      <td>2025-06-03</td>\n",
       "      <td>Bandung</td>\n",
       "      <td>Minuman</td>\n",
       "      <td>Susu UHT</td>\n",
       "      <td>20000</td>\n",
       "      <td>10</td>\n",
       "      <td>4.8</td>\n",
       "      <td>200000</td>\n",
       "    </tr>\n",
       "    <tr>\n",
       "      <th>3</th>\n",
       "      <td>1004</td>\n",
       "      <td>2025-06-04</td>\n",
       "      <td>Surabaya</td>\n",
       "      <td>Elektronik</td>\n",
       "      <td>Microwave</td>\n",
       "      <td>1200000</td>\n",
       "      <td>1</td>\n",
       "      <td>4.2</td>\n",
       "      <td>1200000</td>\n",
       "    </tr>\n",
       "    <tr>\n",
       "      <th>4</th>\n",
       "      <td>1005</td>\n",
       "      <td>2025-06-05</td>\n",
       "      <td>Jakarta</td>\n",
       "      <td>Minuman</td>\n",
       "      <td>Kopi Instan</td>\n",
       "      <td>30000</td>\n",
       "      <td>8</td>\n",
       "      <td>4.6</td>\n",
       "      <td>240000</td>\n",
       "    </tr>\n",
       "  </tbody>\n",
       "</table>\n",
       "</div>"
      ],
      "text/plain": [
       "   id_transaksi     tanggal    cabang tipe_produk  nama_produk  harga_satuan  \\\n",
       "0          1001  2025-06-01   Jakarta  Elektronik      Blender        500000   \n",
       "1          1002  2025-06-02   Jakarta     Makanan   Roti Tawar         15000   \n",
       "2          1003  2025-06-03   Bandung     Minuman     Susu UHT         20000   \n",
       "3          1004  2025-06-04  Surabaya  Elektronik    Microwave       1200000   \n",
       "4          1005  2025-06-05   Jakarta     Minuman  Kopi Instan         30000   \n",
       "\n",
       "   jumlah_terjual  rating_produk  total_pendapatan  \n",
       "0               2            4.5           1000000  \n",
       "1               5            4.0             75000  \n",
       "2              10            4.8            200000  \n",
       "3               1            4.2           1200000  \n",
       "4               8            4.6            240000  "
      ]
     },
     "execution_count": 158,
     "metadata": {},
     "output_type": "execute_result"
    }
   ],
   "source": [
    "# add new coloumn\n",
    "\n",
    "df_penjualan[\"total_pendapatan\"] = df_penjualan[\"harga_satuan\"] * df_penjualan[\"jumlah_terjual\"]\n",
    "df_penjualan.head()"
   ]
  },
  {
   "cell_type": "code",
   "execution_count": 159,
   "id": "320d3c78",
   "metadata": {},
   "outputs": [
    {
     "data": {
      "application/vnd.microsoft.datawrangler.viewer.v0+json": {
       "columns": [
        {
         "name": "index",
         "rawType": "object",
         "type": "string"
        },
        {
         "name": "harga_satuan",
         "rawType": "float64",
         "type": "float"
        },
        {
         "name": "jumlah_terjual",
         "rawType": "float64",
         "type": "float"
        },
        {
         "name": "total_pendapatan",
         "rawType": "float64",
         "type": "float"
        }
       ],
       "ref": "e9df2b71-130d-4814-a5ad-e4be3667824b",
       "rows": [
        [
         "count",
         "15.0",
         "15.0",
         "15.0"
        ],
        [
         "mean",
         "215366.66666666666",
         "7.866666666666666",
         "355066.6666666667"
        ],
        [
         "std",
         "338267.14224678924",
         "8.373996030797336",
         "347939.33516114694"
        ],
        [
         "min",
         "3000.0",
         "1.0",
         "60000.0"
        ],
        [
         "25%",
         "15500.0",
         "2.0",
         "132500.0"
        ],
        [
         "50%",
         "30000.0",
         "4.0",
         "200000.0"
        ],
        [
         "75%",
         "400000.0",
         "11.0",
         "505000.0"
        ],
        [
         "max",
         "1200000.0",
         "30.0",
         "1200000.0"
        ]
       ],
       "shape": {
        "columns": 3,
        "rows": 8
       }
      },
      "text/html": [
       "<div>\n",
       "<style scoped>\n",
       "    .dataframe tbody tr th:only-of-type {\n",
       "        vertical-align: middle;\n",
       "    }\n",
       "\n",
       "    .dataframe tbody tr th {\n",
       "        vertical-align: top;\n",
       "    }\n",
       "\n",
       "    .dataframe thead th {\n",
       "        text-align: right;\n",
       "    }\n",
       "</style>\n",
       "<table border=\"1\" class=\"dataframe\">\n",
       "  <thead>\n",
       "    <tr style=\"text-align: right;\">\n",
       "      <th></th>\n",
       "      <th>harga_satuan</th>\n",
       "      <th>jumlah_terjual</th>\n",
       "      <th>total_pendapatan</th>\n",
       "    </tr>\n",
       "  </thead>\n",
       "  <tbody>\n",
       "    <tr>\n",
       "      <th>count</th>\n",
       "      <td>1.500000e+01</td>\n",
       "      <td>15.000000</td>\n",
       "      <td>1.500000e+01</td>\n",
       "    </tr>\n",
       "    <tr>\n",
       "      <th>mean</th>\n",
       "      <td>2.153667e+05</td>\n",
       "      <td>7.866667</td>\n",
       "      <td>3.550667e+05</td>\n",
       "    </tr>\n",
       "    <tr>\n",
       "      <th>std</th>\n",
       "      <td>3.382671e+05</td>\n",
       "      <td>8.373996</td>\n",
       "      <td>3.479393e+05</td>\n",
       "    </tr>\n",
       "    <tr>\n",
       "      <th>min</th>\n",
       "      <td>3.000000e+03</td>\n",
       "      <td>1.000000</td>\n",
       "      <td>6.000000e+04</td>\n",
       "    </tr>\n",
       "    <tr>\n",
       "      <th>25%</th>\n",
       "      <td>1.550000e+04</td>\n",
       "      <td>2.000000</td>\n",
       "      <td>1.325000e+05</td>\n",
       "    </tr>\n",
       "    <tr>\n",
       "      <th>50%</th>\n",
       "      <td>3.000000e+04</td>\n",
       "      <td>4.000000</td>\n",
       "      <td>2.000000e+05</td>\n",
       "    </tr>\n",
       "    <tr>\n",
       "      <th>75%</th>\n",
       "      <td>4.000000e+05</td>\n",
       "      <td>11.000000</td>\n",
       "      <td>5.050000e+05</td>\n",
       "    </tr>\n",
       "    <tr>\n",
       "      <th>max</th>\n",
       "      <td>1.200000e+06</td>\n",
       "      <td>30.000000</td>\n",
       "      <td>1.200000e+06</td>\n",
       "    </tr>\n",
       "  </tbody>\n",
       "</table>\n",
       "</div>"
      ],
      "text/plain": [
       "       harga_satuan  jumlah_terjual  total_pendapatan\n",
       "count  1.500000e+01       15.000000      1.500000e+01\n",
       "mean   2.153667e+05        7.866667      3.550667e+05\n",
       "std    3.382671e+05        8.373996      3.479393e+05\n",
       "min    3.000000e+03        1.000000      6.000000e+04\n",
       "25%    1.550000e+04        2.000000      1.325000e+05\n",
       "50%    3.000000e+04        4.000000      2.000000e+05\n",
       "75%    4.000000e+05       11.000000      5.050000e+05\n",
       "max    1.200000e+06       30.000000      1.200000e+06"
      ]
     },
     "execution_count": 159,
     "metadata": {},
     "output_type": "execute_result"
    }
   ],
   "source": [
    "# descriptive analyst\n",
    "summary = df_penjualan[[\"harga_satuan\", \"jumlah_terjual\", \"total_pendapatan\"]].describe()\n",
    "summary"
   ]
  },
  {
   "cell_type": "code",
   "execution_count": 160,
   "id": "cb96e830",
   "metadata": {},
   "outputs": [
    {
     "data": {
      "application/vnd.microsoft.datawrangler.viewer.v0+json": {
       "columns": [
        {
         "name": "index",
         "rawType": "int64",
         "type": "integer"
        },
        {
         "name": "id_transaksi",
         "rawType": "int64",
         "type": "integer"
        },
        {
         "name": "tanggal",
         "rawType": "object",
         "type": "string"
        },
        {
         "name": "cabang",
         "rawType": "object",
         "type": "string"
        },
        {
         "name": "tipe_produk",
         "rawType": "object",
         "type": "string"
        },
        {
         "name": "nama_produk",
         "rawType": "object",
         "type": "string"
        },
        {
         "name": "harga_satuan",
         "rawType": "int64",
         "type": "integer"
        },
        {
         "name": "jumlah_terjual",
         "rawType": "int64",
         "type": "integer"
        },
        {
         "name": "rating_produk",
         "rawType": "float64",
         "type": "float"
        },
        {
         "name": "total_pendapatan",
         "rawType": "int64",
         "type": "integer"
        }
       ],
       "ref": "b6871fc8-63cf-48dd-b65d-bf8850b826f4",
       "rows": [
        [
         "3",
         "1004",
         "2025-06-04",
         "Surabaya",
         "Elektronik",
         "Microwave",
         "1200000",
         "1",
         "4.2",
         "1200000"
        ],
        [
         "0",
         "1001",
         "2025-06-01",
         "Jakarta",
         "Elektronik",
         "Blender",
         "500000",
         "2",
         "4.5",
         "1000000"
        ],
        [
         "11",
         "1012",
         "2025-08-12",
         "Bandung",
         "Elektronik",
         "Setrika",
         "300000",
         "2",
         "4.1",
         "600000"
        ],
        [
         "13",
         "1014",
         "2025-08-14",
         "Jakarta",
         "Elektronik",
         "Blender",
         "510000",
         "1",
         "4.5",
         "510000"
        ],
        [
         "6",
         "1007",
         "2025-07-07",
         "Surabaya",
         "Elektronik",
         "Blender",
         "500000",
         "1",
         "4.5",
         "500000"
        ],
        [
         "10",
         "1011",
         "2025-08-11",
         "Jakarta",
         "Minuman",
         "Susu UHT",
         "21000",
         "12",
         "4.8",
         "252000"
        ],
        [
         "4",
         "1005",
         "2025-06-05",
         "Jakarta",
         "Minuman",
         "Kopi Instan",
         "30000",
         "8",
         "4.6",
         "240000"
        ],
        [
         "2",
         "1003",
         "2025-06-03",
         "Bandung",
         "Minuman",
         "Susu UHT",
         "20000",
         "10",
         "4.8",
         "200000"
        ],
        [
         "7",
         "1008",
         "2025-07-08",
         "Jakarta",
         "Makanan",
         "Beras",
         "60000",
         "3",
         "4.5",
         "180000"
        ],
        [
         "8",
         "1009",
         "2025-07-09",
         "Bandung",
         "Minuman",
         "Teh Celup",
         "12000",
         "15",
         "4.3",
         "180000"
        ],
        [
         "9",
         "1010",
         "2025-08-10",
         "Surabaya",
         "Makanan",
         "Minyak Goreng",
         "40000",
         "4",
         "4.9",
         "160000"
        ],
        [
         "14",
         "1015",
         "2025-08-15",
         "Bandung",
         "Makanan",
         "Mie Instan",
         "3500",
         "30",
         "4.7",
         "105000"
        ],
        [
         "1",
         "1002",
         "2025-06-02",
         "Jakarta",
         "Makanan",
         "Roti Tawar",
         "15000",
         "5",
         "4.0",
         "75000"
        ],
        [
         "12",
         "1013",
         "2025-08-13",
         "Surabaya",
         "Makanan",
         "Roti Tawar",
         "16000",
         "4",
         "4.0",
         "64000"
        ],
        [
         "5",
         "1006",
         "2025-07-06",
         "Bandung",
         "Makanan",
         "Mie Instan",
         "3000",
         "20",
         "4.7",
         "60000"
        ]
       ],
       "shape": {
        "columns": 9,
        "rows": 15
       }
      },
      "text/html": [
       "<div>\n",
       "<style scoped>\n",
       "    .dataframe tbody tr th:only-of-type {\n",
       "        vertical-align: middle;\n",
       "    }\n",
       "\n",
       "    .dataframe tbody tr th {\n",
       "        vertical-align: top;\n",
       "    }\n",
       "\n",
       "    .dataframe thead th {\n",
       "        text-align: right;\n",
       "    }\n",
       "</style>\n",
       "<table border=\"1\" class=\"dataframe\">\n",
       "  <thead>\n",
       "    <tr style=\"text-align: right;\">\n",
       "      <th></th>\n",
       "      <th>id_transaksi</th>\n",
       "      <th>tanggal</th>\n",
       "      <th>cabang</th>\n",
       "      <th>tipe_produk</th>\n",
       "      <th>nama_produk</th>\n",
       "      <th>harga_satuan</th>\n",
       "      <th>jumlah_terjual</th>\n",
       "      <th>rating_produk</th>\n",
       "      <th>total_pendapatan</th>\n",
       "    </tr>\n",
       "  </thead>\n",
       "  <tbody>\n",
       "    <tr>\n",
       "      <th>3</th>\n",
       "      <td>1004</td>\n",
       "      <td>2025-06-04</td>\n",
       "      <td>Surabaya</td>\n",
       "      <td>Elektronik</td>\n",
       "      <td>Microwave</td>\n",
       "      <td>1200000</td>\n",
       "      <td>1</td>\n",
       "      <td>4.2</td>\n",
       "      <td>1200000</td>\n",
       "    </tr>\n",
       "    <tr>\n",
       "      <th>0</th>\n",
       "      <td>1001</td>\n",
       "      <td>2025-06-01</td>\n",
       "      <td>Jakarta</td>\n",
       "      <td>Elektronik</td>\n",
       "      <td>Blender</td>\n",
       "      <td>500000</td>\n",
       "      <td>2</td>\n",
       "      <td>4.5</td>\n",
       "      <td>1000000</td>\n",
       "    </tr>\n",
       "    <tr>\n",
       "      <th>11</th>\n",
       "      <td>1012</td>\n",
       "      <td>2025-08-12</td>\n",
       "      <td>Bandung</td>\n",
       "      <td>Elektronik</td>\n",
       "      <td>Setrika</td>\n",
       "      <td>300000</td>\n",
       "      <td>2</td>\n",
       "      <td>4.1</td>\n",
       "      <td>600000</td>\n",
       "    </tr>\n",
       "    <tr>\n",
       "      <th>13</th>\n",
       "      <td>1014</td>\n",
       "      <td>2025-08-14</td>\n",
       "      <td>Jakarta</td>\n",
       "      <td>Elektronik</td>\n",
       "      <td>Blender</td>\n",
       "      <td>510000</td>\n",
       "      <td>1</td>\n",
       "      <td>4.5</td>\n",
       "      <td>510000</td>\n",
       "    </tr>\n",
       "    <tr>\n",
       "      <th>6</th>\n",
       "      <td>1007</td>\n",
       "      <td>2025-07-07</td>\n",
       "      <td>Surabaya</td>\n",
       "      <td>Elektronik</td>\n",
       "      <td>Blender</td>\n",
       "      <td>500000</td>\n",
       "      <td>1</td>\n",
       "      <td>4.5</td>\n",
       "      <td>500000</td>\n",
       "    </tr>\n",
       "    <tr>\n",
       "      <th>10</th>\n",
       "      <td>1011</td>\n",
       "      <td>2025-08-11</td>\n",
       "      <td>Jakarta</td>\n",
       "      <td>Minuman</td>\n",
       "      <td>Susu UHT</td>\n",
       "      <td>21000</td>\n",
       "      <td>12</td>\n",
       "      <td>4.8</td>\n",
       "      <td>252000</td>\n",
       "    </tr>\n",
       "    <tr>\n",
       "      <th>4</th>\n",
       "      <td>1005</td>\n",
       "      <td>2025-06-05</td>\n",
       "      <td>Jakarta</td>\n",
       "      <td>Minuman</td>\n",
       "      <td>Kopi Instan</td>\n",
       "      <td>30000</td>\n",
       "      <td>8</td>\n",
       "      <td>4.6</td>\n",
       "      <td>240000</td>\n",
       "    </tr>\n",
       "    <tr>\n",
       "      <th>2</th>\n",
       "      <td>1003</td>\n",
       "      <td>2025-06-03</td>\n",
       "      <td>Bandung</td>\n",
       "      <td>Minuman</td>\n",
       "      <td>Susu UHT</td>\n",
       "      <td>20000</td>\n",
       "      <td>10</td>\n",
       "      <td>4.8</td>\n",
       "      <td>200000</td>\n",
       "    </tr>\n",
       "    <tr>\n",
       "      <th>7</th>\n",
       "      <td>1008</td>\n",
       "      <td>2025-07-08</td>\n",
       "      <td>Jakarta</td>\n",
       "      <td>Makanan</td>\n",
       "      <td>Beras</td>\n",
       "      <td>60000</td>\n",
       "      <td>3</td>\n",
       "      <td>4.5</td>\n",
       "      <td>180000</td>\n",
       "    </tr>\n",
       "    <tr>\n",
       "      <th>8</th>\n",
       "      <td>1009</td>\n",
       "      <td>2025-07-09</td>\n",
       "      <td>Bandung</td>\n",
       "      <td>Minuman</td>\n",
       "      <td>Teh Celup</td>\n",
       "      <td>12000</td>\n",
       "      <td>15</td>\n",
       "      <td>4.3</td>\n",
       "      <td>180000</td>\n",
       "    </tr>\n",
       "    <tr>\n",
       "      <th>9</th>\n",
       "      <td>1010</td>\n",
       "      <td>2025-08-10</td>\n",
       "      <td>Surabaya</td>\n",
       "      <td>Makanan</td>\n",
       "      <td>Minyak Goreng</td>\n",
       "      <td>40000</td>\n",
       "      <td>4</td>\n",
       "      <td>4.9</td>\n",
       "      <td>160000</td>\n",
       "    </tr>\n",
       "    <tr>\n",
       "      <th>14</th>\n",
       "      <td>1015</td>\n",
       "      <td>2025-08-15</td>\n",
       "      <td>Bandung</td>\n",
       "      <td>Makanan</td>\n",
       "      <td>Mie Instan</td>\n",
       "      <td>3500</td>\n",
       "      <td>30</td>\n",
       "      <td>4.7</td>\n",
       "      <td>105000</td>\n",
       "    </tr>\n",
       "    <tr>\n",
       "      <th>1</th>\n",
       "      <td>1002</td>\n",
       "      <td>2025-06-02</td>\n",
       "      <td>Jakarta</td>\n",
       "      <td>Makanan</td>\n",
       "      <td>Roti Tawar</td>\n",
       "      <td>15000</td>\n",
       "      <td>5</td>\n",
       "      <td>4.0</td>\n",
       "      <td>75000</td>\n",
       "    </tr>\n",
       "    <tr>\n",
       "      <th>12</th>\n",
       "      <td>1013</td>\n",
       "      <td>2025-08-13</td>\n",
       "      <td>Surabaya</td>\n",
       "      <td>Makanan</td>\n",
       "      <td>Roti Tawar</td>\n",
       "      <td>16000</td>\n",
       "      <td>4</td>\n",
       "      <td>4.0</td>\n",
       "      <td>64000</td>\n",
       "    </tr>\n",
       "    <tr>\n",
       "      <th>5</th>\n",
       "      <td>1006</td>\n",
       "      <td>2025-07-06</td>\n",
       "      <td>Bandung</td>\n",
       "      <td>Makanan</td>\n",
       "      <td>Mie Instan</td>\n",
       "      <td>3000</td>\n",
       "      <td>20</td>\n",
       "      <td>4.7</td>\n",
       "      <td>60000</td>\n",
       "    </tr>\n",
       "  </tbody>\n",
       "</table>\n",
       "</div>"
      ],
      "text/plain": [
       "    id_transaksi     tanggal    cabang tipe_produk    nama_produk  \\\n",
       "3           1004  2025-06-04  Surabaya  Elektronik      Microwave   \n",
       "0           1001  2025-06-01   Jakarta  Elektronik        Blender   \n",
       "11          1012  2025-08-12   Bandung  Elektronik        Setrika   \n",
       "13          1014  2025-08-14   Jakarta  Elektronik        Blender   \n",
       "6           1007  2025-07-07  Surabaya  Elektronik        Blender   \n",
       "10          1011  2025-08-11   Jakarta     Minuman       Susu UHT   \n",
       "4           1005  2025-06-05   Jakarta     Minuman    Kopi Instan   \n",
       "2           1003  2025-06-03   Bandung     Minuman       Susu UHT   \n",
       "7           1008  2025-07-08   Jakarta     Makanan          Beras   \n",
       "8           1009  2025-07-09   Bandung     Minuman      Teh Celup   \n",
       "9           1010  2025-08-10  Surabaya     Makanan  Minyak Goreng   \n",
       "14          1015  2025-08-15   Bandung     Makanan     Mie Instan   \n",
       "1           1002  2025-06-02   Jakarta     Makanan     Roti Tawar   \n",
       "12          1013  2025-08-13  Surabaya     Makanan     Roti Tawar   \n",
       "5           1006  2025-07-06   Bandung     Makanan     Mie Instan   \n",
       "\n",
       "    harga_satuan  jumlah_terjual  rating_produk  total_pendapatan  \n",
       "3        1200000               1            4.2           1200000  \n",
       "0         500000               2            4.5           1000000  \n",
       "11        300000               2            4.1            600000  \n",
       "13        510000               1            4.5            510000  \n",
       "6         500000               1            4.5            500000  \n",
       "10         21000              12            4.8            252000  \n",
       "4          30000               8            4.6            240000  \n",
       "2          20000              10            4.8            200000  \n",
       "7          60000               3            4.5            180000  \n",
       "8          12000              15            4.3            180000  \n",
       "9          40000               4            4.9            160000  \n",
       "14          3500              30            4.7            105000  \n",
       "1          15000               5            4.0             75000  \n",
       "12         16000               4            4.0             64000  \n",
       "5           3000              20            4.7             60000  "
      ]
     },
     "execution_count": 160,
     "metadata": {},
     "output_type": "execute_result"
    }
   ],
   "source": [
    "# sorting dataframe\n",
    "sort = df_penjualan.sort_values(\"total_pendapatan\", ascending=False) # you can add inplace=True without assigmen variable\n",
    "sort"
   ]
  },
  {
   "cell_type": "code",
   "execution_count": 161,
   "id": "107a8a0a",
   "metadata": {},
   "outputs": [
    {
     "data": {
      "application/vnd.microsoft.datawrangler.viewer.v0+json": {
       "columns": [
        {
         "name": "index",
         "rawType": "int64",
         "type": "integer"
        },
        {
         "name": "id_transaksi",
         "rawType": "int64",
         "type": "integer"
        },
        {
         "name": "tanggal",
         "rawType": "object",
         "type": "string"
        },
        {
         "name": "cabang",
         "rawType": "object",
         "type": "string"
        },
        {
         "name": "tipe_produk",
         "rawType": "object",
         "type": "string"
        },
        {
         "name": "nama_produk",
         "rawType": "object",
         "type": "string"
        },
        {
         "name": "harga_satuan",
         "rawType": "int64",
         "type": "integer"
        },
        {
         "name": "jumlah_terjual",
         "rawType": "int64",
         "type": "integer"
        },
        {
         "name": "rating_produk",
         "rawType": "float64",
         "type": "float"
        },
        {
         "name": "total_pendapatan",
         "rawType": "int64",
         "type": "integer"
        }
       ],
       "ref": "bab85721-341c-4577-b694-18063017a2b7",
       "rows": [
        [
         "0",
         "1001",
         "2025-06-01",
         "Jakarta",
         "Elektronik",
         "Blender",
         "500000",
         "2",
         "4.5",
         "1000000"
        ],
        [
         "4",
         "1005",
         "2025-06-05",
         "Jakarta",
         "Minuman",
         "Kopi Instan",
         "30000",
         "8",
         "4.6",
         "240000"
        ],
        [
         "10",
         "1011",
         "2025-08-11",
         "Jakarta",
         "Minuman",
         "Susu UHT",
         "21000",
         "12",
         "4.8",
         "252000"
        ],
        [
         "13",
         "1014",
         "2025-08-14",
         "Jakarta",
         "Elektronik",
         "Blender",
         "510000",
         "1",
         "4.5",
         "510000"
        ]
       ],
       "shape": {
        "columns": 9,
        "rows": 4
       }
      },
      "text/html": [
       "<div>\n",
       "<style scoped>\n",
       "    .dataframe tbody tr th:only-of-type {\n",
       "        vertical-align: middle;\n",
       "    }\n",
       "\n",
       "    .dataframe tbody tr th {\n",
       "        vertical-align: top;\n",
       "    }\n",
       "\n",
       "    .dataframe thead th {\n",
       "        text-align: right;\n",
       "    }\n",
       "</style>\n",
       "<table border=\"1\" class=\"dataframe\">\n",
       "  <thead>\n",
       "    <tr style=\"text-align: right;\">\n",
       "      <th></th>\n",
       "      <th>id_transaksi</th>\n",
       "      <th>tanggal</th>\n",
       "      <th>cabang</th>\n",
       "      <th>tipe_produk</th>\n",
       "      <th>nama_produk</th>\n",
       "      <th>harga_satuan</th>\n",
       "      <th>jumlah_terjual</th>\n",
       "      <th>rating_produk</th>\n",
       "      <th>total_pendapatan</th>\n",
       "    </tr>\n",
       "  </thead>\n",
       "  <tbody>\n",
       "    <tr>\n",
       "      <th>0</th>\n",
       "      <td>1001</td>\n",
       "      <td>2025-06-01</td>\n",
       "      <td>Jakarta</td>\n",
       "      <td>Elektronik</td>\n",
       "      <td>Blender</td>\n",
       "      <td>500000</td>\n",
       "      <td>2</td>\n",
       "      <td>4.5</td>\n",
       "      <td>1000000</td>\n",
       "    </tr>\n",
       "    <tr>\n",
       "      <th>4</th>\n",
       "      <td>1005</td>\n",
       "      <td>2025-06-05</td>\n",
       "      <td>Jakarta</td>\n",
       "      <td>Minuman</td>\n",
       "      <td>Kopi Instan</td>\n",
       "      <td>30000</td>\n",
       "      <td>8</td>\n",
       "      <td>4.6</td>\n",
       "      <td>240000</td>\n",
       "    </tr>\n",
       "    <tr>\n",
       "      <th>10</th>\n",
       "      <td>1011</td>\n",
       "      <td>2025-08-11</td>\n",
       "      <td>Jakarta</td>\n",
       "      <td>Minuman</td>\n",
       "      <td>Susu UHT</td>\n",
       "      <td>21000</td>\n",
       "      <td>12</td>\n",
       "      <td>4.8</td>\n",
       "      <td>252000</td>\n",
       "    </tr>\n",
       "    <tr>\n",
       "      <th>13</th>\n",
       "      <td>1014</td>\n",
       "      <td>2025-08-14</td>\n",
       "      <td>Jakarta</td>\n",
       "      <td>Elektronik</td>\n",
       "      <td>Blender</td>\n",
       "      <td>510000</td>\n",
       "      <td>1</td>\n",
       "      <td>4.5</td>\n",
       "      <td>510000</td>\n",
       "    </tr>\n",
       "  </tbody>\n",
       "</table>\n",
       "</div>"
      ],
      "text/plain": [
       "    id_transaksi     tanggal   cabang tipe_produk  nama_produk  harga_satuan  \\\n",
       "0           1001  2025-06-01  Jakarta  Elektronik      Blender        500000   \n",
       "4           1005  2025-06-05  Jakarta     Minuman  Kopi Instan         30000   \n",
       "10          1011  2025-08-11  Jakarta     Minuman     Susu UHT         21000   \n",
       "13          1014  2025-08-14  Jakarta  Elektronik      Blender        510000   \n",
       "\n",
       "    jumlah_terjual  rating_produk  total_pendapatan  \n",
       "0                2            4.5           1000000  \n",
       "4                8            4.6            240000  \n",
       "10              12            4.8            252000  \n",
       "13               1            4.5            510000  "
      ]
     },
     "execution_count": 161,
     "metadata": {},
     "output_type": "execute_result"
    }
   ],
   "source": [
    "# subset data yang berisi penjualan berasal dari cabang jakarta dengan total pendapatan di atas 200K\n",
    "\n",
    "jakarta_branch = df_penjualan[(df_penjualan[\"cabang\"] == \"Jakarta\") & (df_penjualan[\"total_pendapatan\"] > 200000)]\n",
    "jakarta_branch"
   ]
  },
  {
   "cell_type": "markdown",
   "id": "e8b5b1e1",
   "metadata": {},
   "source": [
    "---"
   ]
  },
  {
   "cell_type": "markdown",
   "id": "bf745c96",
   "metadata": {},
   "source": [
    "**Tahap 3: Grouping dan Agregasi**\n",
    "\n",
    "- Performa Cabang: Kelompokkan data berdasarkan cabang dan hitung total pendapatan untuk setiap cabang. Cabang mana yang memiliki pendapatan tertinggi? \n",
    "- Produk Terlaris: Gunakan groupby() untuk menemukan produk (nama_produk) yang paling banyak terjual secara keseluruhan (berdasarkan jumlah_terjual).\n",
    "- Pivot Table: Buat sebuah pivot table yang menunjukkan total pendapatan (total_pendapatan) untuk setiap tipe_produk di setiap cabang. Ini akan membantu manajemen melihat tipe produk apa yang laku di cabang mana."
   ]
  },
  {
   "cell_type": "code",
   "execution_count": 173,
   "id": "95679cdb",
   "metadata": {},
   "outputs": [
    {
     "name": "stdout",
     "output_type": "stream",
     "text": [
      "cabang dengan Pendapatan Tertinggi\n",
      "==============================\n",
      "     cabang  total_pendapatan\n",
      "0   Bandung           1145000\n",
      "1  Surabaya           1924000\n",
      "2   Jakarta           2257000\n",
      "==================================================\n",
      "Cabang dengan Pendapatan Tertinggi adalah: Jakarta dengan total pendapatan Rp2,257,000\n",
      "==================================================\n"
     ]
    }
   ],
   "source": [
    "# pendapatan  dari performa tiap cabang\n",
    "\n",
    "branch_perform = df_penjualan.groupby(\"cabang\")[\"total_pendapatan\"].sum().sort_values(ascending=True)\n",
    "b = branch_perform.reset_index()\n",
    "print(\"cabang dengan Pendapatan Tertinggi\")\n",
    "print(\"=\" * 30)\n",
    "print(b)\n",
    "\n",
    "print(\"=\" * 50)\n",
    "top_cabang = branch_perform.idxmax()        # nama cabang dengan pendapatan tertinggi\n",
    "top_pendapatan = branch_perform.max()       # nilai pendapatan tertinggi\n",
    "\n",
    "print(f\"Cabang dengan Pendapatan Tertinggi adalah: {top_cabang} dengan total pendapatan Rp{top_pendapatan:,}\")\n",
    "print(\"=\" * 50)\n",
    "\n",
    "\n"
   ]
  },
  {
   "cell_type": "code",
   "execution_count": 163,
   "id": "eab2f7c4",
   "metadata": {},
   "outputs": [
    {
     "name": "stdout",
     "output_type": "stream",
     "text": [
      "Produk dengan penjualan paling banyak secara keseluruhan adalah: Mie Instan dengan jumlah terjual 50\n"
     ]
    }
   ],
   "source": [
    "# Produk Terlaris\n",
    "\n",
    "best_selling_product = df_penjualan.groupby(\"nama_produk\")[\"jumlah_terjual\"].sum()\n",
    "total_terjual_per_produk_sorted = best_selling_product.sort_values(ascending=False)\n",
    "\n",
    "# Ambil produk dengan penjualan terbanyak (top 1)\n",
    "best_selling_product = total_terjual_per_produk_sorted.index[0] # take index\n",
    "best_selling_qty = total_terjual_per_produk_sorted.iloc[0] # take value iloc always value\n",
    "\n",
    "print(f\"Produk dengan penjualan paling banyak secara keseluruhan adalah: {best_selling_product} dengan jumlah terjual {best_selling_qty}\")"
   ]
  },
  {
   "cell_type": "code",
   "execution_count": null,
   "id": "ba1435f1",
   "metadata": {},
   "outputs": [
    {
     "name": "stdout",
     "output_type": "stream",
     "text": [
      "total pendapatan tipe produk setiap cabang\n",
      "==================================================\n"
     ]
    },
    {
     "data": {
      "application/vnd.microsoft.datawrangler.viewer.v0+json": {
       "columns": [
        {
         "name": "tipe_produk",
         "rawType": "object",
         "type": "string"
        },
        {
         "name": "Bandung",
         "rawType": "float64",
         "type": "float"
        },
        {
         "name": "Jakarta",
         "rawType": "float64",
         "type": "float"
        },
        {
         "name": "Surabaya",
         "rawType": "float64",
         "type": "float"
        }
       ],
       "ref": "a0251102-5c38-45bd-9e4c-6729bacf1aa0",
       "rows": [
        [
         "Elektronik",
         "600000.0",
         "1510000.0",
         "1700000.0"
        ],
        [
         "Makanan",
         "165000.0",
         "255000.0",
         "224000.0"
        ],
        [
         "Minuman",
         "380000.0",
         "492000.0",
         null
        ]
       ],
       "shape": {
        "columns": 3,
        "rows": 3
       }
      },
      "text/html": [
       "<div>\n",
       "<style scoped>\n",
       "    .dataframe tbody tr th:only-of-type {\n",
       "        vertical-align: middle;\n",
       "    }\n",
       "\n",
       "    .dataframe tbody tr th {\n",
       "        vertical-align: top;\n",
       "    }\n",
       "\n",
       "    .dataframe thead th {\n",
       "        text-align: right;\n",
       "    }\n",
       "</style>\n",
       "<table border=\"1\" class=\"dataframe\">\n",
       "  <thead>\n",
       "    <tr style=\"text-align: right;\">\n",
       "      <th>cabang</th>\n",
       "      <th>Bandung</th>\n",
       "      <th>Jakarta</th>\n",
       "      <th>Surabaya</th>\n",
       "    </tr>\n",
       "    <tr>\n",
       "      <th>tipe_produk</th>\n",
       "      <th></th>\n",
       "      <th></th>\n",
       "      <th></th>\n",
       "    </tr>\n",
       "  </thead>\n",
       "  <tbody>\n",
       "    <tr>\n",
       "      <th>Elektronik</th>\n",
       "      <td>600000.0</td>\n",
       "      <td>1510000.0</td>\n",
       "      <td>1700000.0</td>\n",
       "    </tr>\n",
       "    <tr>\n",
       "      <th>Makanan</th>\n",
       "      <td>165000.0</td>\n",
       "      <td>255000.0</td>\n",
       "      <td>224000.0</td>\n",
       "    </tr>\n",
       "    <tr>\n",
       "      <th>Minuman</th>\n",
       "      <td>380000.0</td>\n",
       "      <td>492000.0</td>\n",
       "      <td>NaN</td>\n",
       "    </tr>\n",
       "  </tbody>\n",
       "</table>\n",
       "</div>"
      ],
      "text/plain": [
       "cabang        Bandung    Jakarta   Surabaya\n",
       "tipe_produk                                \n",
       "Elektronik   600000.0  1510000.0  1700000.0\n",
       "Makanan      165000.0   255000.0   224000.0\n",
       "Minuman      380000.0   492000.0        NaN"
      ]
     },
     "execution_count": 169,
     "metadata": {},
     "output_type": "execute_result"
    }
   ],
   "source": [
    "# total pendapatan with pivot table yang menunjukan total pendapatan sebgai values untuk setiap baris tipe produk di setipa cabang\n",
    "\n",
    "total_pendapatan_tipe_produk_percabang = df_penjualan.pivot_table(values=\"total_pendapatan\", index=\"tipe_produk\", columns=\"cabang\", aggfunc=\"sum\")\n",
    "print(\"total pendapatan tipe produk setiap cabang\")\n",
    "print(\"=\" * 50)\n",
    "total_pendapatan_tipe_produk_percabang\n",
    "\n",
    "\n",
    "#index: Menjadi baris dari tabel baru Anda.\n",
    "#columns: Menjadi kolom dari tabel baru Anda.\n",
    "#values: Kolom yang datanya ingin Anda hitung atau agregasi."
   ]
  },
  {
   "cell_type": "markdown",
   "id": "6c5f8037",
   "metadata": {},
   "source": [
    "---"
   ]
  },
  {
   "cell_type": "markdown",
   "id": "457023bb",
   "metadata": {},
   "source": [
    "**Tahap 4: Visualisasi Sederhana**\n",
    "\n",
    "- Distribusi Harga: Buat histogram untuk kolom harga_satuan untuk melihat distribusi harga produk.\n",
    "- Pendapatan per Cabang: Buat bar plot (diagram batang) yang memvisualisasikan total pendapatan dari setiap cabang yang sudah Anda hitung di Tahap 3. Beri judul yang sesuai pada plot Anda, misalnya \"Total Pendapatan per Cabang\"."
   ]
  },
  {
   "cell_type": "code",
   "execution_count": 172,
   "id": "1581c49c",
   "metadata": {},
   "outputs": [
    {
     "data": {
      "image/png": "[encoded data removed]",
      "text/plain": [
       "<Figure size 640x480 with 1 Axes>"
      ]
     },
     "metadata": {},
     "output_type": "display_data"
    },
    {
     "data": {
      "text/plain": [
       "2.029512311810322"
      ]
     },
     "execution_count": 172,
     "metadata": {},
     "output_type": "execute_result"
    }
   ],
   "source": [
    "# Ditribusi harga\n",
    "\n",
    "# df_penjualan[\"harga_satuan\"].hist() \n",
    "# plt.show() \n",
    "\n",
    "import seaborn as sns\n",
    "sns.kdeplot(df_penjualan[\"harga_satuan\"], fill=False)\n",
    "plt.title(\"Distribusi Harga Produk Satuan (KDE)\")\n",
    "plt.show()\n",
    "\n",
    "df_penjualan[\"harga_satuan\"].skew()"
   ]
  },
  {
   "cell_type": "code",
   "execution_count": 188,
   "id": "e10270fc",
   "metadata": {},
   "outputs": [
    {
     "data": {
      "image/png": "[encoded data removed]",
      "text/plain": [
       "<Figure size 1600x800 with 1 Axes>"
      ]
     },
     "metadata": {},
     "output_type": "display_data"
    }
   ],
   "source": [
    "# pendapatan percabang\n",
    "b.plot(kind=\"bar\", x=\"cabang\", y=\"total_pendapatan\", figsize=(16, 8))\n",
    "plt.title(\"Performa cabang Berdasarkan Total Penjualan\")\n",
    "plt.xticks(rotation=360)\n",
    "plt.ylabel(\"Cabang\")\n",
    "plt.xlabel(\"Total Pendapatan\")\n",
    "\n",
    "plt.show()"
   ]
  },
  {
   "cell_type": "code",
   "execution_count": null,
   "id": "6c7dfbf1",
   "metadata": {},
   "outputs": [],
   "source": []
  }
 ],
 "metadata": {
  "kernelspec": {
   "display_name": "Python 3",
   "language": "python",
   "name": "python3"
  },
  "language_info": {
   "codemirror_mode": {
    "name": "ipython",
    "version": 3
   },
   "file_extension": ".py",
   "mimetype": "text/x-python",
   "name": "python",
   "nbconvert_exporter": "python",
   "pygments_lexer": "ipython3",
   "version": "3.12.4"
  }
 },
 "nbformat": 4,
 "nbformat_minor": 5
}
