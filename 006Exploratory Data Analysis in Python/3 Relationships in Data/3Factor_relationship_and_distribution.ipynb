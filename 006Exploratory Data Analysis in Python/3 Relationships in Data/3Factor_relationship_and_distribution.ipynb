{
 "cells": [
  {
   "cell_type": "code",
   "execution_count": null,
   "id": "ea5c3a7f",
   "metadata": {},
   "outputs": [],
   "source": [
    "# Categorical data in scatter plots\n",
    "\n",
    "# Create the scatter plot\n",
    "sns.scatterplot(data=divorce, x=\"woman_age_marriage\", y=\"income_woman\", hue=\"education_woman\")\n",
    "plt.show()"
   ]
  },
  {
   "cell_type": "code",
   "execution_count": null,
   "id": "5718d696",
   "metadata": {},
   "outputs": [],
   "source": [
    "# Exploring with KDE plots\n",
    "\n",
    "# Create the KDE plot\n",
    "sns.kdeplot(data=divorce, x=\"marriage_duration\", hue=\"num_kids\")\n",
    "\n",
    "plt.show()\n",
    "\n",
    "\n",
    "####################################\n",
    "\n",
    "# Update the KDE plot so that marriage duration can't be smoothed too far\n",
    "sns.kdeplot(data=divorce, x=\"marriage_duration\", hue=\"num_kids\", cut=0)\n",
    "plt.show()\n",
    "\n",
    "\n",
    "##################################\n",
    "\n",
    "# Update the KDE plot to show a cumulative distribution function\n",
    "sns.kdeplot(data=divorce, x=\"marriage_duration\", hue=\"num_kids\", cut=0, cumulative=True)\n",
    "plt.show()"
   ]
  }
 ],
 "metadata": {
  "language_info": {
   "name": "python"
  }
 },
 "nbformat": 4,
 "nbformat_minor": 5
}
