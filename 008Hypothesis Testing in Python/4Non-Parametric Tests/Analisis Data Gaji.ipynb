{
 "cells": [
  {
   "cell_type": "markdown",
   "id": "435088d1",
   "metadata": {},
   "source": [
    "\n",
    "**Proyek: Analisis Data Gaji (Parametrik vs. Non-Parametrik)**\n",
    "\n",
    "**Tujuan: Menganalisis dataset publik (misalnya, Survei Developer Stack Overflow seperti yang dirujuk dalam slide, atau dataset gaji lainnya) untuk membandingkan gaji (variabel numerik) berdasarkan kelompok yang berbeda (variabel kategori). Anda akan mempraktikkan pemeriksaan asumsi dan memutuskan antara tes parametrik dan non-parametrik**\n",
    "\n",
    "\n",
    "----"
   ]
  },
  {
   "cell_type": "markdown",
   "id": "2535935a",
   "metadata": {},
   "source": [
    "**Load Dataset**"
   ]
  },
  {
   "cell_type": "code",
   "execution_count": 1,
   "id": "01f8c4ee",
   "metadata": {},
   "outputs": [
    {
     "data": {
      "application/vnd.microsoft.datawrangler.viewer.v0+json": {
       "columns": [
        {
         "name": "index",
         "rawType": "int64",
         "type": "integer"
        },
        {
         "name": "salary",
         "rawType": "float64",
         "type": "float"
        },
        {
         "name": "coding_age_group",
         "rawType": "object",
         "type": "string"
        },
        {
         "name": "job_satisfaction",
         "rawType": "object",
         "type": "string"
        }
       ],
       "ref": "6f86ccfc-4695-4654-a523-a3f5596572a7",
       "rows": [
        [
         "0",
         "121157.0",
         "Adult",
         "Satisfied"
        ],
        [
         "1",
         "90454.0",
         "Child",
         "Very Satisfied"
        ],
        [
         "2",
         "125879.0",
         "Child",
         "Very Satisfied"
        ],
        [
         "3",
         "54012.0",
         "Adult",
         "Satisfied"
        ],
        [
         "4",
         "57768.0",
         "Adult",
         "Dissatisfied"
        ]
       ],
       "shape": {
        "columns": 3,
        "rows": 5
       }
      },
      "text/html": [
       "<div>\n",
       "<style scoped>\n",
       "    .dataframe tbody tr th:only-of-type {\n",
       "        vertical-align: middle;\n",
       "    }\n",
       "\n",
       "    .dataframe tbody tr th {\n",
       "        vertical-align: top;\n",
       "    }\n",
       "\n",
       "    .dataframe thead th {\n",
       "        text-align: right;\n",
       "    }\n",
       "</style>\n",
       "<table border=\"1\" class=\"dataframe\">\n",
       "  <thead>\n",
       "    <tr style=\"text-align: right;\">\n",
       "      <th></th>\n",
       "      <th>salary</th>\n",
       "      <th>coding_age_group</th>\n",
       "      <th>job_satisfaction</th>\n",
       "    </tr>\n",
       "  </thead>\n",
       "  <tbody>\n",
       "    <tr>\n",
       "      <th>0</th>\n",
       "      <td>121157.0</td>\n",
       "      <td>Adult</td>\n",
       "      <td>Satisfied</td>\n",
       "    </tr>\n",
       "    <tr>\n",
       "      <th>1</th>\n",
       "      <td>90454.0</td>\n",
       "      <td>Child</td>\n",
       "      <td>Very Satisfied</td>\n",
       "    </tr>\n",
       "    <tr>\n",
       "      <th>2</th>\n",
       "      <td>125879.0</td>\n",
       "      <td>Child</td>\n",
       "      <td>Very Satisfied</td>\n",
       "    </tr>\n",
       "    <tr>\n",
       "      <th>3</th>\n",
       "      <td>54012.0</td>\n",
       "      <td>Adult</td>\n",
       "      <td>Satisfied</td>\n",
       "    </tr>\n",
       "    <tr>\n",
       "      <th>4</th>\n",
       "      <td>57768.0</td>\n",
       "      <td>Adult</td>\n",
       "      <td>Dissatisfied</td>\n",
       "    </tr>\n",
       "  </tbody>\n",
       "</table>\n",
       "</div>"
      ],
      "text/plain": [
       "     salary coding_age_group job_satisfaction\n",
       "0  121157.0            Adult        Satisfied\n",
       "1   90454.0            Child   Very Satisfied\n",
       "2  125879.0            Child   Very Satisfied\n",
       "3   54012.0            Adult        Satisfied\n",
       "4   57768.0            Adult     Dissatisfied"
      ]
     },
     "execution_count": 1,
     "metadata": {},
     "output_type": "execute_result"
    }
   ],
   "source": [
    "import pandas as pd \n",
    "import matplotlib.pyplot as plt\n",
    "\n",
    "salary_df = pd.read_csv('synthetic_salary_dataset.csv')\n",
    "\n",
    "salary_df.head()"
   ]
  },
  {
   "cell_type": "markdown",
   "id": "85c0ba3c",
   "metadata": {},
   "source": [
    "---\n",
    "\n",
    "**2. Pilih Variabel**\n",
    "\n",
    "\n",
    "**a. Variabel Numerik**\n",
    "- **Gaji** → `salary`\n",
    "\n",
    "**b. Variabel Kategori (2 Grup)**\n",
    "- Pilih variabel dengan **dua kategori:**\n",
    "  - `coding_age_group` → dibagi menjadi *child* dan *adult* \n",
    "\n",
    "**c. Variabel Kategori (>2 Grup)**\n",
    "- Pilih variabel dengan **3–5 kategori**:\n",
    "  - `job_satisfaction` → *Tingkat Kepuasan Kerja*"
   ]
  },
  {
   "cell_type": "markdown",
   "id": "12831123",
   "metadata": {},
   "source": [
    "---\n",
    "\n",
    "**3. Bersihkan Data**\n",
    "- Hapus nilai yang hilang (`NaN`) dari variabel yang dipilih. \n"
   ]
  },
  {
   "cell_type": "code",
   "execution_count": 2,
   "id": "01e4d6cf",
   "metadata": {},
   "outputs": [
    {
     "name": "stdout",
     "output_type": "stream",
     "text": [
      "<class 'pandas.core.frame.DataFrame'>\n",
      "RangeIndex: 200 entries, 0 to 199\n",
      "Data columns (total 3 columns):\n",
      " #   Column            Non-Null Count  Dtype  \n",
      "---  ------            --------------  -----  \n",
      " 0   salary            200 non-null    float64\n",
      " 1   coding_age_group  200 non-null    object \n",
      " 2   job_satisfaction  200 non-null    object \n",
      "dtypes: float64(1), object(2)\n",
      "memory usage: 4.8+ KB\n",
      "None\n",
      "              salary\n",
      "count     200.000000\n",
      "mean    73490.080000\n",
      "std     42687.064801\n",
      "min     13229.000000\n",
      "25%     43318.500000\n",
      "50%     64091.500000\n",
      "75%     89815.750000\n",
      "max    254815.000000\n",
      "salary              0\n",
      "coding_age_group    0\n",
      "job_satisfaction    0\n",
      "dtype: int64\n"
     ]
    }
   ],
   "source": [
    "print(salary_df.info())\n",
    "print(salary_df.describe())\n",
    "print(salary_df.isna().sum())"
   ]
  },
  {
   "cell_type": "markdown",
   "id": "3fcad17e",
   "metadata": {},
   "source": [
    "---\n",
    "\n",
    "**4. Analisis 2 Grup**  \n",
    "**Gaji berdasarkan `child` vs `adult`***\n",
    "\n",
    "**a. Periksa Asumsi**\n",
    "- **Ukuran Sampel:**  \n",
    "  Berapa *n* untuk grup `child` dan `adult`? Apakah keduanya ≥ 30?\n",
    "- **Normalitas:**  \n",
    "  Buat histogram gaji untuk setiap grup.  \n",
    "  Apakah distribusinya terlihat normal? (Data gaji sering *right-skewed*.)"
   ]
  },
  {
   "cell_type": "code",
   "execution_count": 8,
   "id": "20682f90",
   "metadata": {},
   "outputs": [
    {
     "name": "stdout",
     "output_type": "stream",
     "text": [
      "Ukuran sampel child: 65\n",
      "Ukuran sampel adult: 135\n"
     ]
    },
    {
     "data": {
      "image/png": "[encoded data removed]",
      "text/plain": [
       "<Figure size 1200x600 with 2 Axes>"
      ]
     },
     "metadata": {},
     "output_type": "display_data"
    },
    {
     "name": "stdout",
     "output_type": "stream",
     "text": [
      "t manual: -4.949747468305833\n",
      "p-value manual: 0.0000015858\n",
      "Tolak H0: Ada perbedaan signifikan antara gaji child dan adult.\n"
     ]
    }
   ],
   "source": [
    "# cek asumsi apakah ukuran sampel sudah >=30\n",
    "n_child = len(salary_df[salary_df['coding_age_group'] == 'Child'])\n",
    "n_adult = len(salary_df[salary_df['coding_age_group'] == 'Adult'])\n",
    "\n",
    "print(\"Ukuran sampel child:\", n_child)\n",
    "print(\"Ukuran sampel adult:\", n_adult)\n",
    "\n",
    "\n",
    "# salary_df.groupby('coding_age_group').size()\n",
    "\n",
    "# buat histogram untuk setiap grup\n",
    "plt.figure(figsize=(12, 6))\n",
    "plt.subplot(1, 2, 1)\n",
    "plt.hist(salary_df[salary_df['coding_age_group'] == 'Child']['salary'], \n",
    "         bins=15, \n",
    "         color='blue', \n",
    "         alpha=0.7)\n",
    "plt.title('Histogram Gaji - Child')\n",
    "plt.xlabel('Gaji')\n",
    "plt.ylabel('Frekuensi')\n",
    "\n",
    "plt.subplot(1, 2, 2)\n",
    "plt.hist(salary_df[salary_df['coding_age_group'] == 'Adult']['salary'], \n",
    "         bins=15, \n",
    "         color='green', \n",
    "         alpha=0.7)\n",
    "plt.title('Histogram Gaji - Adult')\n",
    "plt.xlabel('Gaji')\n",
    "plt.ylabel('Frekuensi')\n",
    "\n",
    "\n",
    "plt.tight_layout()\n",
    "plt.show()\n",
    "\n",
    "\n",
    "\n",
    "# uji t-test karena ukuran sampel sudah >=30\n",
    "import numpy as np\n",
    "xbar_child = np.mean(n_child)\n",
    "xbar_adult = np.mean(n_adult)\n",
    "\n",
    "# manual t-statistic (sama seperti yg kamu punya)\n",
    "numerator = xbar_child - xbar_adult\n",
    "denominator = np.sqrt(n_child**2 / n_child + n_adult**2 / n_adult)\n",
    "t_manual = numerator / denominator\n",
    "print(\"t manual:\", t_manual)\n",
    "\n",
    "\n",
    "# Derajat kebebasan\n",
    "import scipy.stats as stats\n",
    "df = n_child + n_adult - 2\n",
    "# Hitung p-value dua sisi\n",
    "p_value = 2 * stats.t.sf(abs(t_manual), df)\n",
    "\n",
    "# print(\"p-value manual:\", p_value)\n",
    "print(\"p-value manual:\", format(p_value, \".10f\"))\n",
    "\n",
    "\n",
    "alpha = 0.05\n",
    "if p_value < alpha:\n",
    "    print(\"Tolak H0: Ada perbedaan signifikan antara gaji child dan adult.\")\n",
    "else:\n",
    "    print(\"Gagal tolak H0: Tidak ada perbedaan signifikan antara gaji child dan adult.\")"
   ]
  },
  {
   "cell_type": "markdown",
   "id": "0274d281",
   "metadata": {},
   "source": [
    "\n",
    "\n",
    "---\n",
    "\n",
    "### b. Lakukan Tes\n",
    "- **Parametrik:**  \n",
    "  Lakukan *unpaired t-test* (jika asumsi terpenuhi).\n",
    "- **Non-Parametrik:**  \n",
    "  Lakukan *Wilcoxon–Mann–Whitney test* (`pingouin.mwu`) — lihat slide 26.\n",
    "\n",
    "---\n",
    "\n",
    "## 5. Analisis >2 Grup  \n",
    "**Contoh:** Gaji berdasarkan `job_sat`\n",
    "\n",
    "### a. Periksa Asumsi\n",
    "- **Ukuran Sampel:**  \n",
    "  Berapa *n* untuk setiap kategori kepuasan kerja? Apakah semuanya ≥ 30?\n",
    "- **Normalitas:**  \n",
    "  Buat histogram gaji untuk setiap grup.\n",
    "\n",
    "### b. Lakukan Tes\n",
    "- **Parametrik:**  \n",
    "  Lakukan *ANOVA* (jika asumsi terpenuhi).\n",
    "- **Non-Parametrik:**  \n",
    "  Lakukan *Kruskal–Wallis test* (`pingouin.kruskal`) — lihat slide 27.\n",
    "\n",
    "---\n",
    "\n",
    "## 6. Tulis Kesimpulan\n",
    "- Laporkan temuan Anda:\n",
    "  - Apakah ada **perbedaan signifikan** dalam gaji antar kelompok?\n",
    "- Bandingkan **nilai-p** dari tes parametrik dan non-parametrik:\n",
    "  - Apakah kesimpulan Anda (*tolak atau gagal tolak H₀*) sama?\n",
    "- Diskusikan:\n",
    "  - Tes mana yang paling tepat untuk data Anda,  \n",
    "    dan **mengapa**, berdasarkan hasil pemeriksaan asumsi.\n",
    "\n",
    "---\n"
   ]
  }
 ],
 "metadata": {
  "kernelspec": {
   "display_name": "Python 3",
   "language": "python",
   "name": "python3"
  },
  "language_info": {
   "codemirror_mode": {
    "name": "ipython",
    "version": 3
   },
   "file_extension": ".py",
   "mimetype": "text/x-python",
   "name": "python",
   "nbconvert_exporter": "python",
   "pygments_lexer": "ipython3",
   "version": "3.14.0"
  }
 },
 "nbformat": 4,
 "nbformat_minor": 5
}
