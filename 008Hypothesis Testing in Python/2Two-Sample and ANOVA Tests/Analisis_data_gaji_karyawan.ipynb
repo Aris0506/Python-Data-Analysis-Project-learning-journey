{
 "cells": [
  {
   "cell_type": "markdown",
   "id": "016eaf54",
   "metadata": {},
   "source": [
    "**Proyek: Analisis Data Gaji Karyawan**\n",
    "\n",
    "**Skenario:**\n",
    "**Anda adalah seorang analis data di sebuah perusahaan teknologi. Departemen SDM ingin tahu apakah ada perbedaan signifikan dalam gaji tahunan rata-rata (annual_salary) di antara tiga departemen utama: 'Engineering', 'Marketing', dan 'Sales'. Mereka telah memberi Anda dataset berisi informasi karyawan.**\n",
    "\n",
    "**Tujuan:**\n",
    "**Gunakan pengetahuan Anda tentang pengujian hipotesis untuk menganalisis data dan memberikan jawaban berbasis bukti kepada departemen SDM.**\n",
    "\n",
    "---"
   ]
  },
  {
   "cell_type": "code",
   "execution_count": 1,
   "id": "cbf369ed",
   "metadata": {},
   "outputs": [
    {
     "data": {
      "application/vnd.microsoft.datawrangler.viewer.v0+json": {
       "columns": [
        {
         "name": "index",
         "rawType": "int64",
         "type": "integer"
        },
        {
         "name": "department",
         "rawType": "object",
         "type": "string"
        },
        {
         "name": "annual_salary",
         "rawType": "int64",
         "type": "integer"
        }
       ],
       "ref": "9d9a9db4-4428-421c-88d6-5d3d1d0e0f7b",
       "rows": [
        [
         "0",
         "Engineering",
         "115636"
        ],
        [
         "1",
         "Sales",
         "109883"
        ],
        [
         "2",
         "Marketing",
         "104891"
        ],
        [
         "3",
         "Engineering",
         "124376"
        ],
        [
         "4",
         "Marketing",
         "89569"
        ]
       ],
       "shape": {
        "columns": 2,
        "rows": 5
       }
      },
      "text/html": [
       "<div>\n",
       "<style scoped>\n",
       "    .dataframe tbody tr th:only-of-type {\n",
       "        vertical-align: middle;\n",
       "    }\n",
       "\n",
       "    .dataframe tbody tr th {\n",
       "        vertical-align: top;\n",
       "    }\n",
       "\n",
       "    .dataframe thead th {\n",
       "        text-align: right;\n",
       "    }\n",
       "</style>\n",
       "<table border=\"1\" class=\"dataframe\">\n",
       "  <thead>\n",
       "    <tr style=\"text-align: right;\">\n",
       "      <th></th>\n",
       "      <th>department</th>\n",
       "      <th>annual_salary</th>\n",
       "    </tr>\n",
       "  </thead>\n",
       "  <tbody>\n",
       "    <tr>\n",
       "      <th>0</th>\n",
       "      <td>Engineering</td>\n",
       "      <td>115636</td>\n",
       "    </tr>\n",
       "    <tr>\n",
       "      <th>1</th>\n",
       "      <td>Sales</td>\n",
       "      <td>109883</td>\n",
       "    </tr>\n",
       "    <tr>\n",
       "      <th>2</th>\n",
       "      <td>Marketing</td>\n",
       "      <td>104891</td>\n",
       "    </tr>\n",
       "    <tr>\n",
       "      <th>3</th>\n",
       "      <td>Engineering</td>\n",
       "      <td>124376</td>\n",
       "    </tr>\n",
       "    <tr>\n",
       "      <th>4</th>\n",
       "      <td>Marketing</td>\n",
       "      <td>89569</td>\n",
       "    </tr>\n",
       "  </tbody>\n",
       "</table>\n",
       "</div>"
      ],
      "text/plain": [
       "    department  annual_salary\n",
       "0  Engineering         115636\n",
       "1        Sales         109883\n",
       "2    Marketing         104891\n",
       "3  Engineering         124376\n",
       "4    Marketing          89569"
      ]
     },
     "execution_count": 1,
     "metadata": {},
     "output_type": "execute_result"
    }
   ],
   "source": [
    "import pandas as pd\n",
    "import numpy as np\n",
    "import pingouin as pg\n",
    "import matplotlib.pyplot as plt\n",
    "import seaborn as sns\n",
    "\n",
    "salary_df = pd.read_csv('gaji_karyawan.csv')\n",
    "salary_df.head()"
   ]
  },
  {
   "cell_type": "markdown",
   "id": "8afb4382",
   "metadata": {},
   "source": [
    "**TASK**\n",
    "\n",
    "\n",
    "**1. Eksplorasi Data Awal (EDA):**\n",
    "- Hitung statistik deskriptif (rata-rata, standar deviasi, jumlah) gaji untuk setiap departemen. Gunakan groupby() dan agg().\n",
    "- Buat visualisasi untuk membandingkan distribusi gaji di ketiga departemen. Box plot adalah pilihan yang sangat baik untuk ini."
   ]
  },
  {
   "cell_type": "code",
   "execution_count": 2,
   "id": "cd12569e",
   "metadata": {},
   "outputs": [
    {
     "name": "stdout",
     "output_type": "stream",
     "text": [
      "    department           mean           std  count\n",
      "0  Engineering  122024.700000  18369.982359     40\n",
      "1    Marketing  106007.285714  11042.173108     28\n",
      "2        Sales   99146.193548  20801.971694     31\n"
     ]
    },
    {
     "data": {
      "image/png": "[encoded data removed]",
      "text/plain": [
       "<Figure size 1600x600 with 1 Axes>"
      ]
     },
     "metadata": {},
     "output_type": "display_data"
    }
   ],
   "source": [
    "# Calculate descriptive statistics -> mean, std\n",
    "salary_stats_desc = salary_df.groupby('department')['annual_salary'].agg(['mean', 'std', 'count']).reset_index()\n",
    "print(salary_stats_desc)\n",
    "\n",
    "plt.figure(figsize=(16, 6))\n",
    "sns.boxplot(x='department', y='annual_salary', data=salary_df)\n",
    "plt.title('Distribusi Gaji Tahunan per Departemen')\n",
    "plt.show()"
   ]
  },
  {
   "cell_type": "markdown",
   "id": "76c0b8e0",
   "metadata": {},
   "source": [
    "**Pertanyaan adalah:**\n",
    "- Apakah rata-rata gaji di ketiga departemen tersebut sama atau berbeda secara signifikan?"
   ]
  },
  {
   "cell_type": "markdown",
   "id": "fabaf10b",
   "metadata": {},
   "source": [
    "----\n",
    "\n",
    "**2. Formulasikan Hipotesis:**\n",
    "- Hipotesis Nol (H₀): Tidak ada perbedaan rata-rata gaji antar departemen.\n",
    "- Hipotesis Alternatif (H₁): Ada setidaknya satu departemen yang memiliki rata-rata gaji berbeda secara signifikan."
   ]
  },
  {
   "cell_type": "markdown",
   "id": "bc14fc0c",
   "metadata": {},
   "source": [
    "---\n",
    "**3. Lakukan Uji Statistik yang Tepat:**\n",
    "- Berdasarkan jumlah grup yang Anda bandingkan, pilih uji statistik yang paling sesuai (Uji T atau ANOVA).\n",
    "- Gunakan library pingouin di Python untuk melakukan analisis. Jalankan pingouin.anova() pada data Anda."
   ]
  },
  {
   "cell_type": "code",
   "execution_count": 5,
   "id": "507a72b1",
   "metadata": {},
   "outputs": [
    {
     "name": "stdout",
     "output_type": "stream",
     "text": [
      "       Source  ddof1  ddof2          F         p-unc      np2\n",
      "0  department      2     96  16.097404  9.359192e-07  0.25114\n"
     ]
    }
   ],
   "source": [
    "alpha = 0.05\n",
    "\n",
    "anova = pg.anova(data=salary_df, \n",
    "         dv=\"annual_salary\", \n",
    "         between=\"department\")\n",
    "\n",
    "print(anova)"
   ]
  },
  {
   "cell_type": "markdown",
   "id": "ab2998c3",
   "metadata": {},
   "source": [
    "- e-07 geser koma ke kiri 7 kalo 0.00000093"
   ]
  },
  {
   "cell_type": "markdown",
   "id": "1ed4e6a9",
   "metadata": {},
   "source": [
    "---\n",
    "**4. Interpretasi Hasil:**\n",
    "\n",
    "- Berdasarkan hasil analisis ANOVA satu arah, diperoleh nilai F = 16.10 dan p-value = 9.36 × 10⁻⁷, yang lebih kecil dari tingkat signifikansi α = 0.05.\n",
    "Dengan demikian, hipotesis nol (H₀) ditolak, dan hipotesis alternatif (H₁) diterima.\n",
    "\n",
    "- Makna keputusan ini adalah: terdapat perbedaan yang signifikan secara statistik pada rata-rata gaji tahunan (annual_salary) di antara tiga departemen, yaitu Engineering, Marketing, dan Sales.\n",
    "Hal ini menunjukkan bahwa departemen tempat seseorang bekerja berpengaruh terhadap besarnya gaji tahunan yang diterima."
   ]
  },
  {
   "cell_type": "markdown",
   "id": "b0a73541",
   "metadata": {},
   "source": [
    "---\n",
    "\n",
    "**5. (Bonus) Lakukan Uji Lanjutan:**\n",
    "\n",
    "- Jika hasil ANOVA Anda signifikan, jalankan pingouin.pairwise_tests() untuk melihat departemen mana yang secara spesifik berbeda satu sama lain.\n",
    "- Gunakan padjust='bonf' untuk menerapkan koreksi Bonferroni dan interpretasikan p-value yang telah disesuaikan."
   ]
  },
  {
   "cell_type": "code",
   "execution_count": 12,
   "id": "c63d72ee",
   "metadata": {},
   "outputs": [
    {
     "name": "stdout",
     "output_type": "stream",
     "text": [
      "     Contrast            A          B  Paired  Parametric         T  \\\n",
      "0  department  Engineering  Marketing   False        True  4.478572   \n",
      "1  department  Engineering      Sales   False        True  4.834487   \n",
      "2  department    Marketing      Sales   False        True  1.603278   \n",
      "\n",
      "         dof alternative     p-unc    p-corr p-adjust      BF10    hedges  \n",
      "0  64.737988   two-sided  0.000031  0.000094     bonf   628.148  1.002907  \n",
      "1  60.282757   two-sided  0.000010  0.000029     bonf  2126.831  1.162560  \n",
      "2  46.598528   two-sided  0.115631  0.346893     bonf     0.769  0.400690  \n"
     ]
    }
   ],
   "source": [
    "posthoc = pg.pairwise_tests(\n",
    "    data=salary_df,\n",
    "    dv='annual_salary',\n",
    "    between='department',\n",
    "    padjust='bonf' # Bonferroni correction supaya lebih ketat\n",
    ")\n",
    "\n",
    "print(posthoc)"
   ]
  },
  {
   "cell_type": "markdown",
   "id": "84beecdf",
   "metadata": {},
   "source": [
    "- Berdasarkan hasil uji post-hoc dengan koreksi Bonferroni, ditemukan bahwa gaji rata-rata di departemen Engineering secara signifikan lebih tinggi dibandingkan dengan departemen Marketing dan Sales.\n",
    "Namun, tidak terdapat perbedaan signifikan antara departemen Marketing dan Sales.\n",
    "Nilai effect size yang besar (Hedges’ g > 1) menunjukkan bahwa perbedaan tersebut bermakna secara praktis."
   ]
  },
  {
   "cell_type": "markdown",
   "id": "11783b10",
   "metadata": {},
   "source": [
    "---\n",
    "**6. Kesimpulan:**\n",
    "\n",
    "**Hasil analisis menunjukkan adanya perbedaan signifikan pada rata-rata gaji antar departemen, di mana Engineering memiliki gaji lebih tinggi dibanding Marketing dan Sales. Disarankan bagi Departemen SDM untuk meninjau kembali struktur kompensasi guna menjaga keadilan dan motivasi antar divisi.**"
   ]
  },
  {
   "cell_type": "markdown",
   "id": "1c2b055e",
   "metadata": {},
   "source": [
    "---"
   ]
  }
 ],
 "metadata": {
  "kernelspec": {
   "display_name": "Python 3",
   "language": "python",
   "name": "python3"
  },
  "language_info": {
   "codemirror_mode": {
    "name": "ipython",
    "version": 3
   },
   "file_extension": ".py",
   "mimetype": "text/x-python",
   "name": "python",
   "nbconvert_exporter": "python",
   "pygments_lexer": "ipython3",
   "version": "3.14.0"
  }
 },
 "nbformat": 4,
 "nbformat_minor": 5
}
