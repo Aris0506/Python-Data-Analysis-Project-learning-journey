{
 "cells": [
  {
   "cell_type": "code",
   "execution_count": 4,
   "id": "c263fcdc",
   "metadata": {},
   "outputs": [
    {
     "name": "stdout",
     "output_type": "stream",
     "text": [
      "Ilustrasi analisis faktor eksternal strategis untuk sebuah perusahaan layanan digital transportasi\n",
      "=============================================================================================\n",
      "\n",
      "Matriks EFE:\n",
      "                                    Faktor Eksternal  Bobot  Peringkat  \\\n",
      "0  Peluang: Pertumbuhan pengguna smartphone & int...   0.10          4   \n",
      "1  Peluang: Dukungan pemerintah terhadap ekonomi ...   0.10          3   \n",
      "2  Peluang: Peningkatan tren cashless dan e-walle...   0.15          4   \n",
      "3  Peluang: Potensi ekspansi layanan ke kota keci...   0.10          3   \n",
      "4  Ancaman: Persaingan ketat antar platform sejen...   0.20          2   \n",
      "5  Ancaman: Perubahan regulasi transportasi onlin...   0.15          2   \n",
      "6  Ancaman: Ketergantungan pada mitra driver & me...   0.10          3   \n",
      "7  Ancaman: Sensitivitas pelanggan terhadap harga...   0.10          2   \n",
      "\n",
      "   Skor Terbobot  \n",
      "0            0.4  \n",
      "1            0.3  \n",
      "2            0.6  \n",
      "3            0.3  \n",
      "4            0.4  \n",
      "5            0.3  \n",
      "6            0.3  \n",
      "7            0.2  \n",
      "\n",
      "Total Skor Terbobot: 2.80\n",
      "\n",
      "Interpretasi: Perusahaan memiliki respons yang kuat terhadap faktor-faktor eksternal.\n"
     ]
    }
   ],
   "source": [
    "import pandas as pd\n",
    "\n",
    "print('Ilustrasi analisis faktor eksternal strategis untuk sebuah perusahaan layanan digital transportasi')\t\t\t\n",
    "print('=============================================================================================\\n')\n",
    "\n",
    "\n",
    "# Langkah-langkah untuk membuat Matriks Evaluasi Faktor Eksternal (EFE) \n",
    "\n",
    "# 1. Masukkan faktor-faktor eksternal ke dalam DataFrame\n",
    "data = {\n",
    "    'Faktor Eksternal': [\n",
    "        'Peluang: Pertumbuhan pengguna smartphone & internet di Indonesia / Growth of smartphone and internet users in Indonesia',\n",
    "        'Peluang: Dukungan pemerintah terhadap ekonomi digital / Government support for the digital economy',\n",
    "        'Peluang: Peningkatan tren cashless dan e-wallet / Increasing trend of cashless and e-wallet usage',\n",
    "        'Peluang: Potensi ekspansi layanan ke kota kecil / Potential service expansion to smaller cities',\n",
    "        'Ancaman: Persaingan ketat antar platform sejenis / Intense competition among similar platforms',\n",
    "        'Ancaman: Perubahan regulasi transportasi online / Changes in online transportation regulations',\n",
    "        'Ancaman: Ketergantungan pada mitra driver & merchant / Dependence on driver and merchant partners',\n",
    "        'Ancaman: Sensitivitas pelanggan terhadap harga & promo / Customer sensitivity to price and promotions'\n",
    "    ],\n",
    "    'Bobot': [0.1, 0.1, 0.15, 0.1, 0.2, 0.15, 0.1, 0.1],\n",
    "    'Peringkat': [4, 3, 4, 3, 2, 2, 3, 2] }\n",
    "\n",
    "df_efe = pd.DataFrame(data)\n",
    "\n",
    "# 2. Hitung skor terbobot untuk setiap faktor\n",
    "df_efe['Skor Terbobot'] = df_efe['Bobot'] * df_efe['Peringkat']\n",
    "\n",
    "# 3. Hitung total skor EFE\n",
    "total_skor = df_efe['Skor Terbobot'].sum()\n",
    "\n",
    "# 4. Tampilkan matriks EFE\n",
    "print(\"Matriks EFE:\")\n",
    "print(df_efe)\n",
    "\n",
    "print(f\"\\nTotal Skor Terbobot: {total_skor:.2f}\")\n",
    "\n",
    "# 5. Interpretasi hasil\n",
    "if total_skor > 2.5:\n",
    "    print(\"\\nInterpretasi: Perusahaan memiliki respons yang kuat terhadap faktor-faktor eksternal.\")\n",
    "else:\n",
    "    print(\"\\nInterpretasi: Perusahaan memiliki respons yang kurang efektif terhadap faktor-faktor eksternal.\")\n",
    "\n"
   ]
  }
 ],
 "metadata": {
  "kernelspec": {
   "display_name": "Python 3",
   "language": "python",
   "name": "python3"
  },
  "language_info": {
   "codemirror_mode": {
    "name": "ipython",
    "version": 3
   },
   "file_extension": ".py",
   "mimetype": "text/x-python",
   "name": "python",
   "nbconvert_exporter": "python",
   "pygments_lexer": "ipython3",
   "version": "3.14.0"
  }
 },
 "nbformat": 4,
 "nbformat_minor": 5
}
