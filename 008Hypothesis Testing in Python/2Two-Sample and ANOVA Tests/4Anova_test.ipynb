{
 "cells": [
  {
   "cell_type": "code",
   "execution_count": null,
   "id": "1d245417",
   "metadata": {},
   "outputs": [],
   "source": [
    "# Visualizing many categories\n",
    "\n",
    "# Calculate the mean pack_price for each shipment_mode\n",
    "xbar_pack_by_mode = late_shipments.groupby(\"shipment_mode\")['pack_price'].mean()\n",
    "\n",
    "# Calculate the standard deviation of the pack_price for each shipment_mode\n",
    "s_pack_by_mode = late_shipments.groupby(\"shipment_mode\")['pack_price'].std()\n",
    "\n",
    "# Boxplot of shipment_mode vs. pack_price\n",
    "sns.boxplot(x=\"pack_price\",\n",
    "            y=\"shipment_mode\",\n",
    "            data=late_shipments)\n",
    "plt.show()"
   ]
  },
  {
   "cell_type": "code",
   "execution_count": null,
   "id": "64387c46",
   "metadata": {},
   "outputs": [],
   "source": [
    "# Conducting an ANOVA test\n",
    "\n",
    "# Run an ANOVA for pack_price across shipment_mode\n",
    "anova_results = pingouin.anova(data=late_shipments,\n",
    "                               dv=\"pack_price\",\n",
    "                               between=\"shipment_mode\")\n",
    "\n",
    "\n",
    "\n",
    "# Print anova_results\n",
    "print(anova_results)"
   ]
  },
  {
   "cell_type": "code",
   "execution_count": null,
   "id": "cbb6433f",
   "metadata": {},
   "outputs": [],
   "source": [
    "# Pairwise t-tests \n",
    "\n",
    "# Perform a pairwise t-test on pack price, grouped by shipment mode\n",
    "pairwise_results = pingouin.pairwise_tests(data=late_shipments,\n",
    "                                          dv=\"pack_price\",\n",
    "                                          between=\"shipment_mode\",\n",
    "                                          padjust=\"none\")\n",
    "\n",
    "\n",
    "\n",
    "\n",
    "# Print pairwise_results\n",
    "print(pairwise_results)\n",
    "\n",
    "\n",
    "#########################\n",
    "\n",
    "# Modify the pairwise t-tests to use Bonferroni p-value adjustment\n",
    "pairwise_results = pingouin.pairwise_tests(data=late_shipments, \n",
    "                                           dv=\"pack_price\",\n",
    "                                           between=\"shipment_mode\",\n",
    "                                           padjust=\"bonf\") #modify to bonferroni\n",
    "\n",
    "# Print pairwise_results\n",
    "print(pairwise_results)"
   ]
  }
 ],
 "metadata": {
  "kernelspec": {
   "display_name": "Python 3",
   "language": "python",
   "name": "python3"
  },
  "language_info": {
   "codemirror_mode": {
    "name": "ipython",
    "version": 3
   },
   "file_extension": ".py",
   "mimetype": "text/x-python",
   "name": "python",
   "nbconvert_exporter": "python",
   "pygments_lexer": "ipython3",
   "version": "3.12.4"
  }
 },
 "nbformat": 4,
 "nbformat_minor": 5
}
