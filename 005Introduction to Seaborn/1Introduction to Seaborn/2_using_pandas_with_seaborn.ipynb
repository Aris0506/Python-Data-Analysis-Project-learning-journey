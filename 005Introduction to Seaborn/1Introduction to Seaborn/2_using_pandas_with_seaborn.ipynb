{
 "cells": [
  {
   "cell_type": "code",
   "execution_count": null,
   "id": "db1dbcd9",
   "metadata": {},
   "outputs": [],
   "source": [
    "# \"Tidy\" vs. \"untidy\" data\n",
    "\n",
    "# Import pandas\n",
    "import pandas as pd\n",
    "\n",
    "# Create a DataFrame from csv file\n",
    "df = pd.read_csv(csv_filepath)\n",
    "\n",
    "# Print the head of df\n",
    "print(df.head())"
   ]
  },
  {
   "cell_type": "code",
   "execution_count": null,
   "id": "3340b7e7",
   "metadata": {},
   "outputs": [],
   "source": [
    "# Making a count plot with a DataFrame\n",
    "\n",
    "# Import Matplotlib, pandas, and Seaborn\n",
    "import matplotlib.pyplot as plt \n",
    "import pandas as pd \n",
    "import seaborn as sns\n",
    "\n",
    "\n",
    "# Create a DataFrame from csv file\n",
    "df = pd.read_csv(csv_filepath)\n",
    "\n",
    "# Create a count plot with \"Spiders\" on the x-axis\n",
    "sns.countplot(x=\"Spiders\", data=df)\n",
    "\n",
    "# Display the plot\n",
    "plt.show()"
   ]
  }
 ],
 "metadata": {
  "language_info": {
   "name": "python"
  }
 },
 "nbformat": 4,
 "nbformat_minor": 5
}
