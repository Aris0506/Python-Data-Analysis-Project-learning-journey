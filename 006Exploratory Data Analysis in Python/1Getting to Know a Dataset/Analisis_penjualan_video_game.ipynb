{
 "cells": [
  {
   "cell_type": "markdown",
   "id": "aac26991",
   "metadata": {},
   "source": [
    "**Proyek: Analisis Data Penjualan Video Game 🎮**\n",
    "\n",
    "**melakukan analisis eksplorasi pada dataset penjualan video game global.**\n",
    "\n",
    "---"
   ]
  },
  {
   "cell_type": "markdown",
   "id": "961b3d33",
   "metadata": {},
   "source": [
    "**Menggunakan pengetahuan EDA untuk menjawab pertanyaan-pertanyaan analisis. Tulis kode Python (menggunakan pandas dan seaborn) untuk setiap langkah.**\n",
    "\n",
    "\n",
    "**1: Memuat dan Mengenal Data**\n",
    "\n",
    "- Muat dataset vgsales.csv ke dalam DataFrame pandas.\n",
    "- Tampilkan 5 baris pertama untuk memahami strukturnya.\n",
    "- Gunakan .info() untuk memeriksa tipe data dan nilai yang hilang. Apakah ada kolom yang tipe datanya perlu diubah?"
   ]
  },
  {
   "cell_type": "code",
   "execution_count": 49,
   "id": "9e9e83ad",
   "metadata": {},
   "outputs": [
    {
     "name": "stdout",
     "output_type": "stream",
     "text": [
      "Path to dataset files: C:\\Users\\USER\\.cache\\kagglehub\\datasets\\willianoliveiragibin\\video-game-sales-analyze\\versions\\1\n"
     ]
    }
   ],
   "source": [
    "import kagglehub\n",
    "\n",
    "# Download latest version\n",
    "path = kagglehub.dataset_download(\"willianoliveiragibin/video-game-sales-analyze\")\n",
    "\n",
    "print(\"Path to dataset files:\", path)"
   ]
  },
  {
   "cell_type": "code",
   "execution_count": 50,
   "id": "2582cfc7",
   "metadata": {},
   "outputs": [
    {
     "name": "stdout",
     "output_type": "stream",
     "text": [
      "File di dalam folder dataset:\n",
      "['vgsales new.csv']\n"
     ]
    }
   ],
   "source": [
    "import os\n",
    "\n",
    "# 'path' adalah variabel yang sama dari kode kagglehub Anda\n",
    "# Kode ini akan membuat daftar semua file yang ada di dalam FOLDER 'path'\n",
    "try:\n",
    "    file_list = os.listdir(path)\n",
    "    print(\"File di dalam folder dataset:\")\n",
    "    print(file_list)\n",
    "except Exception as e:\n",
    "    print(\"Terjadi error:\", e)\n",
    "    print(\"\\nPastikan variabel 'path' Anda sudah benar dari langkah sebelumnya.\")"
   ]
  },
  {
   "cell_type": "code",
   "execution_count": 51,
   "id": "a811a436",
   "metadata": {},
   "outputs": [
    {
     "name": "stdout",
     "output_type": "stream",
     "text": [
      "Selamat! Data berhasil dimuat. Ini 5 baris pertamanya:\n",
      "==================================================\n",
      "   Rank             Name Platform    Year     Genre   Publisher  NA_Sales  EU_Sales  JP_Sales  Other_Sales  Global_Sales\n",
      "0   259        Asteroids     2600  1980.0   Shooter       Atari      4.00      0.26       0.0         0.05          4.31\n",
      "1   545  Missile Command     2600  1980.0   Shooter       Atari      2.56      0.17       0.0         0.03          2.76\n",
      "2  1768          Kaboom!     2600  1980.0      Misc  Activision      1.07      0.07       0.0         0.01          1.15\n",
      "3  1971         Defender     2600  1980.0      Misc       Atari      0.99      0.05       0.0         0.01          1.05\n",
      "4  2671           Boxing     2600  1980.0  Fighting  Activision      0.72      0.04       0.0         0.01          0.77\n"
     ]
    }
   ],
   "source": [
    "import pandas as pd \n",
    "\n",
    "# --- Pengaturan Tampilan Pandas ---\n",
    "# Menjalankan ini sekali akan membuat semua output tabel lebih rapi\n",
    "# Perintah untuk menampilkan semua kolom (tidak ada yang disembunyikan dengan '...')\n",
    "pd.set_option('display.max_columns', None)\n",
    "# Perintah untuk memperlebar tampilan output agar tidak terpotong ke bawah\n",
    "pd.set_option('display.width', 1000)\n",
    "\n",
    "\n",
    "# Variabel 'path' adalah lokasi folder dari kode kagglehub\n",
    "# Kita gabungkan path folder dengan nama file untuk mendapatkan lokasi file yang lengkap\n",
    "file_path = os.path.join(path, 'vgsales new.csv')\n",
    "\n",
    "# Sekarang kita baca file CSV itu menggunakan Pandas\n",
    "try:\n",
    "    vg_store_df = pd.read_csv(file_path)\n",
    "    \n",
    "    # Mari kita tampilkan 5 baris pertama dari data kita untuk memastikan semuanya berhasil\n",
    "    print(\"Selamat! Data berhasil dimuat. Ini 5 baris pertamanya:\")\n",
    "    print('=' * 50)\n",
    "    print(vg_store_df.head())\n",
    "    \n",
    "except FileNotFoundError:\n",
    "    print(\"Error: File tidak ditemukan. Pastikan nama file  sudah benar.\")\n",
    "except Exception as e:\n",
    "    print(\"Terjadi error lain:\", e)\n",
    "\n"
   ]
  },
  {
   "cell_type": "markdown",
   "id": "ff4f3687",
   "metadata": {},
   "source": [
    "---\n",
    "\n",
    "**Dataset (Hipotetis):**\n",
    "\n",
    "- Rank: Peringkat penjualan keseluruhan.\n",
    "- Name: Nama game.\n",
    "- Platform: Konsol tempat game dirilis (misalnya, 'PS4', 'XOne', 'PC').\n",
    "- Year: Tahun rilis game.\n",
    "- Genre: Genre game (misalnya, 'Action', 'Sports', 'RPG').\n",
    "- Publisher: Perusahaan yang menerbitkan game.\n",
    "- Global_Sales: Total penjualan di seluruh dunia (dalam jutaan).\n",
    "\n",
    "---"
   ]
  },
  {
   "cell_type": "code",
   "execution_count": 52,
   "id": "e3bf8cbc",
   "metadata": {},
   "outputs": [
    {
     "name": "stdout",
     "output_type": "stream",
     "text": [
      "==================================================\n",
      "<class 'pandas.core.frame.DataFrame'>\n",
      "RangeIndex: 16598 entries, 0 to 16597\n",
      "Data columns (total 11 columns):\n",
      " #   Column        Non-Null Count  Dtype  \n",
      "---  ------        --------------  -----  \n",
      " 0   Rank          16598 non-null  int64  \n",
      " 1   Name          16598 non-null  object \n",
      " 2   Platform      16598 non-null  object \n",
      " 3   Year          16327 non-null  float64\n",
      " 4   Genre         16598 non-null  object \n",
      " 5   Publisher     16540 non-null  object \n",
      " 6   NA_Sales      16598 non-null  float64\n",
      " 7   EU_Sales      16598 non-null  float64\n",
      " 8   JP_Sales      16598 non-null  float64\n",
      " 9   Other_Sales   16598 non-null  float64\n",
      " 10  Global_Sales  16598 non-null  float64\n",
      "dtypes: float64(6), int64(1), object(4)\n",
      "memory usage: 1.4+ MB\n"
     ]
    }
   ],
   "source": [
    "#memahami struktur dataset\n",
    "print('=' * 50)\n",
    "vg_store_df.info()"
   ]
  },
  {
   "cell_type": "code",
   "execution_count": 53,
   "id": "2ef482f2",
   "metadata": {},
   "outputs": [
    {
     "data": {
      "application/vnd.microsoft.datawrangler.viewer.v0+json": {
       "columns": [
        {
         "name": "index",
         "rawType": "object",
         "type": "string"
        },
        {
         "name": "0",
         "rawType": "object",
         "type": "unknown"
        }
       ],
       "ref": "59ad5878-f2e0-4e78-a539-89cb5e9baed8",
       "rows": [
        [
         "Rank",
         "int64"
        ],
        [
         "Name",
         "object"
        ],
        [
         "Platform",
         "object"
        ],
        [
         "Year",
         "Int64"
        ],
        [
         "Genre",
         "object"
        ],
        [
         "Publisher",
         "object"
        ],
        [
         "NA_Sales",
         "float64"
        ],
        [
         "EU_Sales",
         "float64"
        ],
        [
         "JP_Sales",
         "float64"
        ],
        [
         "Other_Sales",
         "float64"
        ],
        [
         "Global_Sales",
         "float64"
        ]
       ],
       "shape": {
        "columns": 1,
        "rows": 11
       }
      },
      "text/plain": [
       "Rank              int64\n",
       "Name             object\n",
       "Platform         object\n",
       "Year              Int64\n",
       "Genre            object\n",
       "Publisher        object\n",
       "NA_Sales        float64\n",
       "EU_Sales        float64\n",
       "JP_Sales        float64\n",
       "Other_Sales     float64\n",
       "Global_Sales    float64\n",
       "dtype: object"
      ]
     },
     "execution_count": 53,
     "metadata": {},
     "output_type": "execute_result"
    }
   ],
   "source": [
    "# mengubah Dtype Year ke int\n",
    "vg_store_df['Year'] = vg_store_df['Year'].astype('Int64')\n",
    "vg_store_df.dtypes\n"
   ]
  },
  {
   "cell_type": "code",
   "execution_count": 54,
   "id": "e510323c",
   "metadata": {},
   "outputs": [
    {
     "data": {
      "application/vnd.microsoft.datawrangler.viewer.v0+json": {
       "columns": [
        {
         "name": "index",
         "rawType": "int64",
         "type": "integer"
        },
        {
         "name": "Rank",
         "rawType": "int64",
         "type": "integer"
        },
        {
         "name": "Name",
         "rawType": "object",
         "type": "string"
        },
        {
         "name": "Platform",
         "rawType": "object",
         "type": "string"
        },
        {
         "name": "Year",
         "rawType": "Int64",
         "type": "integer"
        },
        {
         "name": "Genre",
         "rawType": "object",
         "type": "string"
        },
        {
         "name": "Publisher",
         "rawType": "object",
         "type": "string"
        },
        {
         "name": "NA_Sales",
         "rawType": "float64",
         "type": "float"
        },
        {
         "name": "EU_Sales",
         "rawType": "float64",
         "type": "float"
        },
        {
         "name": "JP_Sales",
         "rawType": "float64",
         "type": "float"
        },
        {
         "name": "Other_Sales",
         "rawType": "float64",
         "type": "float"
        },
        {
         "name": "Global_Sales",
         "rawType": "float64",
         "type": "float"
        }
       ],
       "ref": "a84a7102-75e1-485e-858b-9fdfc5ee66a9",
       "rows": [
        [
         "0",
         "259",
         "Asteroids",
         "2600",
         "1980",
         "Shooter",
         "Atari",
         "4.0",
         "0.26",
         "0.0",
         "0.05",
         "4.31"
        ],
        [
         "1",
         "545",
         "Missile Command",
         "2600",
         "1980",
         "Shooter",
         "Atari",
         "2.56",
         "0.17",
         "0.0",
         "0.03",
         "2.76"
        ],
        [
         "2",
         "1768",
         "Kaboom!",
         "2600",
         "1980",
         "Misc",
         "Activision",
         "1.07",
         "0.07",
         "0.0",
         "0.01",
         "1.15"
        ],
        [
         "3",
         "1971",
         "Defender",
         "2600",
         "1980",
         "Misc",
         "Atari",
         "0.99",
         "0.05",
         "0.0",
         "0.01",
         "1.05"
        ],
        [
         "4",
         "2671",
         "Boxing",
         "2600",
         "1980",
         "Fighting",
         "Activision",
         "0.72",
         "0.04",
         "0.0",
         "0.01",
         "0.77"
        ]
       ],
       "shape": {
        "columns": 11,
        "rows": 5
       }
      },
      "text/html": [
       "<div>\n",
       "<style scoped>\n",
       "    .dataframe tbody tr th:only-of-type {\n",
       "        vertical-align: middle;\n",
       "    }\n",
       "\n",
       "    .dataframe tbody tr th {\n",
       "        vertical-align: top;\n",
       "    }\n",
       "\n",
       "    .dataframe thead th {\n",
       "        text-align: right;\n",
       "    }\n",
       "</style>\n",
       "<table border=\"1\" class=\"dataframe\">\n",
       "  <thead>\n",
       "    <tr style=\"text-align: right;\">\n",
       "      <th></th>\n",
       "      <th>Rank</th>\n",
       "      <th>Name</th>\n",
       "      <th>Platform</th>\n",
       "      <th>Year</th>\n",
       "      <th>Genre</th>\n",
       "      <th>Publisher</th>\n",
       "      <th>NA_Sales</th>\n",
       "      <th>EU_Sales</th>\n",
       "      <th>JP_Sales</th>\n",
       "      <th>Other_Sales</th>\n",
       "      <th>Global_Sales</th>\n",
       "    </tr>\n",
       "  </thead>\n",
       "  <tbody>\n",
       "    <tr>\n",
       "      <th>0</th>\n",
       "      <td>259</td>\n",
       "      <td>Asteroids</td>\n",
       "      <td>2600</td>\n",
       "      <td>1980</td>\n",
       "      <td>Shooter</td>\n",
       "      <td>Atari</td>\n",
       "      <td>4.00</td>\n",
       "      <td>0.26</td>\n",
       "      <td>0.0</td>\n",
       "      <td>0.05</td>\n",
       "      <td>4.31</td>\n",
       "    </tr>\n",
       "    <tr>\n",
       "      <th>1</th>\n",
       "      <td>545</td>\n",
       "      <td>Missile Command</td>\n",
       "      <td>2600</td>\n",
       "      <td>1980</td>\n",
       "      <td>Shooter</td>\n",
       "      <td>Atari</td>\n",
       "      <td>2.56</td>\n",
       "      <td>0.17</td>\n",
       "      <td>0.0</td>\n",
       "      <td>0.03</td>\n",
       "      <td>2.76</td>\n",
       "    </tr>\n",
       "    <tr>\n",
       "      <th>2</th>\n",
       "      <td>1768</td>\n",
       "      <td>Kaboom!</td>\n",
       "      <td>2600</td>\n",
       "      <td>1980</td>\n",
       "      <td>Misc</td>\n",
       "      <td>Activision</td>\n",
       "      <td>1.07</td>\n",
       "      <td>0.07</td>\n",
       "      <td>0.0</td>\n",
       "      <td>0.01</td>\n",
       "      <td>1.15</td>\n",
       "    </tr>\n",
       "    <tr>\n",
       "      <th>3</th>\n",
       "      <td>1971</td>\n",
       "      <td>Defender</td>\n",
       "      <td>2600</td>\n",
       "      <td>1980</td>\n",
       "      <td>Misc</td>\n",
       "      <td>Atari</td>\n",
       "      <td>0.99</td>\n",
       "      <td>0.05</td>\n",
       "      <td>0.0</td>\n",
       "      <td>0.01</td>\n",
       "      <td>1.05</td>\n",
       "    </tr>\n",
       "    <tr>\n",
       "      <th>4</th>\n",
       "      <td>2671</td>\n",
       "      <td>Boxing</td>\n",
       "      <td>2600</td>\n",
       "      <td>1980</td>\n",
       "      <td>Fighting</td>\n",
       "      <td>Activision</td>\n",
       "      <td>0.72</td>\n",
       "      <td>0.04</td>\n",
       "      <td>0.0</td>\n",
       "      <td>0.01</td>\n",
       "      <td>0.77</td>\n",
       "    </tr>\n",
       "  </tbody>\n",
       "</table>\n",
       "</div>"
      ],
      "text/plain": [
       "   Rank             Name Platform  Year     Genre   Publisher  NA_Sales  EU_Sales  JP_Sales  Other_Sales  Global_Sales\n",
       "0   259        Asteroids     2600  1980   Shooter       Atari      4.00      0.26       0.0         0.05          4.31\n",
       "1   545  Missile Command     2600  1980   Shooter       Atari      2.56      0.17       0.0         0.03          2.76\n",
       "2  1768          Kaboom!     2600  1980      Misc  Activision      1.07      0.07       0.0         0.01          1.15\n",
       "3  1971         Defender     2600  1980      Misc       Atari      0.99      0.05       0.0         0.01          1.05\n",
       "4  2671           Boxing     2600  1980  Fighting  Activision      0.72      0.04       0.0         0.01          0.77"
      ]
     },
     "execution_count": 54,
     "metadata": {},
     "output_type": "execute_result"
    }
   ],
   "source": [
    "vg_store_df.head()"
   ]
  },
  {
   "cell_type": "markdown",
   "id": "741ad776",
   "metadata": {},
   "source": [
    "----"
   ]
  },
  {
   "cell_type": "markdown",
   "id": "113d6123",
   "metadata": {},
   "source": [
    "**2: Validasi dan Pembersihan Data**\n",
    "\n",
    "- Periksa rentang tahun (Year). Apakah ada tahun yang tidak masuk akal?\n",
    "- Periksa kategori unik di kolom Genre dan Platform. Apakah ada nama yang tampaknya salah ketik atau tidak konsisten? (Untuk tantangan ini, asumsikan datanya bersih).\n",
    "- Apakah ada nilai yang hilang? Jika ada di kolom Year, putuskan strategi untuk menanganinya (misalnya, menghapus baris tersebut).\n"
   ]
  },
  {
   "cell_type": "code",
   "execution_count": 55,
   "id": "ad3f24fb",
   "metadata": {},
   "outputs": [
    {
     "name": "stdout",
     "output_type": "stream",
     "text": [
      "Tahun minimun: 1980\n",
      "Tahun Maksimum: 2020\n",
      "rentang Tahun Masuk akal\n",
      "==================================================\n",
      "Mengasumsikan data sudah bersih\n",
      "['Shooter' 'Misc' 'Fighting' 'Sports' 'Action' 'Platform' 'Puzzle'\n",
      " 'Racing' 'Simulation' 'Adventure' 'Role-Playing' 'Strategy']\n",
      "==================================================\n",
      "['2600' 'NES' 'PC' 'DS' 'GB' 'SNES' 'GEN' 'GG' 'SCD' 'NG' 'PS' 'SAT' '3DO'\n",
      " 'TG16' 'N64' 'PCFX' 'DC' 'WS' 'PS2' 'XB' 'GBA' 'GC' 'PSP' 'X360' 'Wii'\n",
      " 'PS3' '3DS' 'PSV' 'WiiU' 'PS4' 'XOne']\n",
      "==================================================\n",
      "==================================================\n"
     ]
    },
    {
     "data": {
      "application/vnd.microsoft.datawrangler.viewer.v0+json": {
       "columns": [
        {
         "name": "index",
         "rawType": "object",
         "type": "string"
        },
        {
         "name": "0",
         "rawType": "int64",
         "type": "integer"
        }
       ],
       "ref": "f3886d15-f227-4d5a-8639-961e02f2c2e8",
       "rows": [
        [
         "Rank",
         "0"
        ],
        [
         "Name",
         "0"
        ],
        [
         "Platform",
         "0"
        ],
        [
         "Year",
         "271"
        ],
        [
         "Genre",
         "0"
        ],
        [
         "Publisher",
         "58"
        ],
        [
         "NA_Sales",
         "0"
        ],
        [
         "EU_Sales",
         "0"
        ],
        [
         "JP_Sales",
         "0"
        ],
        [
         "Other_Sales",
         "0"
        ],
        [
         "Global_Sales",
         "0"
        ]
       ],
       "shape": {
        "columns": 1,
        "rows": 11
       }
      },
      "text/plain": [
       "Rank              0\n",
       "Name              0\n",
       "Platform          0\n",
       "Year            271\n",
       "Genre             0\n",
       "Publisher        58\n",
       "NA_Sales          0\n",
       "EU_Sales          0\n",
       "JP_Sales          0\n",
       "Other_Sales       0\n",
       "Global_Sales      0\n",
       "dtype: int64"
      ]
     },
     "execution_count": 55,
     "metadata": {},
     "output_type": "execute_result"
    }
   ],
   "source": [
    "#periksa rentang tahun (year)\n",
    "print(\"Tahun minimun:\", vg_store_df['Year'].min())\n",
    "print(\"Tahun Maksimum:\", vg_store_df['Year'].max())\n",
    "print(\"rentang Tahun Masuk akal\")\n",
    "\n",
    "print('=' * 50)\n",
    "\n",
    "#Periksa Kategori Unik di genre dan Platform mungkin ada kesalahan ketik atau tidak konsisten\n",
    "print('Mengasumsikan data sudah bersih')\n",
    "print(vg_store_df['Genre'].unique())\n",
    "#mengubah type data supaya hemat memory\n",
    "vg_store_df['Genre'] = vg_store_df['Genre'].astype('category')\n",
    "\n",
    "print('=' * 50)\n",
    "\n",
    "print(vg_store_df['Platform'].unique())\n",
    "vg_store_df['Platform'] = vg_store_df['Platform'].astype('category')\n",
    "print('=' * 50)\n",
    "vg_store_df.dtypes\n",
    "\n",
    "\n",
    "print('=' * 50)\n",
    "#memeriksa nilai yang hilang \n",
    "vg_store_df.isna().sum()\n",
    "\n"
   ]
  },
  {
   "cell_type": "code",
   "execution_count": 56,
   "id": "eab06b5a",
   "metadata": {},
   "outputs": [
    {
     "data": {
      "application/vnd.microsoft.datawrangler.viewer.v0+json": {
       "columns": [
        {
         "name": "index",
         "rawType": "object",
         "type": "string"
        },
        {
         "name": "0",
         "rawType": "int64",
         "type": "integer"
        }
       ],
       "ref": "8fba1205-b8b0-4622-bf58-2e4546170982",
       "rows": [
        [
         "Rank",
         "0"
        ],
        [
         "Name",
         "0"
        ],
        [
         "Platform",
         "0"
        ],
        [
         "Year",
         "0"
        ],
        [
         "Genre",
         "0"
        ],
        [
         "Publisher",
         "0"
        ],
        [
         "NA_Sales",
         "0"
        ],
        [
         "EU_Sales",
         "0"
        ],
        [
         "JP_Sales",
         "0"
        ],
        [
         "Other_Sales",
         "0"
        ],
        [
         "Global_Sales",
         "0"
        ]
       ],
       "shape": {
        "columns": 1,
        "rows": 11
       }
      },
      "text/plain": [
       "Rank            0\n",
       "Name            0\n",
       "Platform        0\n",
       "Year            0\n",
       "Genre           0\n",
       "Publisher       0\n",
       "NA_Sales        0\n",
       "EU_Sales        0\n",
       "JP_Sales        0\n",
       "Other_Sales     0\n",
       "Global_Sales    0\n",
       "dtype: int64"
      ]
     },
     "execution_count": 56,
     "metadata": {},
     "output_type": "execute_result"
    }
   ],
   "source": [
    "# menghapus kolom nan dari kedua kolom karna persentasenya sangat kecil jadi aman\n",
    "vg_store_df = vg_store_df.dropna(subset=['Year', 'Publisher'])\n",
    "vg_store_df.isna().sum()"
   ]
  },
  {
   "cell_type": "markdown",
   "id": "127525b1",
   "metadata": {},
   "source": [
    "**simpan ke format dataset baru hasil validate and cleaning**\n"
   ]
  },
  {
   "cell_type": "code",
   "execution_count": 62,
   "id": "acb4d94c",
   "metadata": {},
   "outputs": [
    {
     "data": {
      "application/vnd.microsoft.datawrangler.viewer.v0+json": {
       "columns": [
        {
         "name": "index",
         "rawType": "int64",
         "type": "integer"
        },
        {
         "name": "Rank",
         "rawType": "int64",
         "type": "integer"
        },
        {
         "name": "Name",
         "rawType": "object",
         "type": "string"
        },
        {
         "name": "Platform",
         "rawType": "object",
         "type": "string"
        },
        {
         "name": "Year",
         "rawType": "int64",
         "type": "integer"
        },
        {
         "name": "Genre",
         "rawType": "object",
         "type": "string"
        },
        {
         "name": "Publisher",
         "rawType": "object",
         "type": "string"
        },
        {
         "name": "NA_Sales",
         "rawType": "float64",
         "type": "float"
        },
        {
         "name": "EU_Sales",
         "rawType": "float64",
         "type": "float"
        },
        {
         "name": "JP_Sales",
         "rawType": "float64",
         "type": "float"
        },
        {
         "name": "Other_Sales",
         "rawType": "float64",
         "type": "float"
        },
        {
         "name": "Global_Sales",
         "rawType": "float64",
         "type": "float"
        }
       ],
       "ref": "63fb571b-9737-4a50-b9a6-b4e2df3d5258",
       "rows": [
        [
         "0",
         "259",
         "Asteroids",
         "2600",
         "1980",
         "Shooter",
         "Atari",
         "4.0",
         "0.26",
         "0.0",
         "0.05",
         "4.31"
        ],
        [
         "1",
         "545",
         "Missile Command",
         "2600",
         "1980",
         "Shooter",
         "Atari",
         "2.56",
         "0.17",
         "0.0",
         "0.03",
         "2.76"
        ],
        [
         "2",
         "1768",
         "Kaboom!",
         "2600",
         "1980",
         "Misc",
         "Activision",
         "1.07",
         "0.07",
         "0.0",
         "0.01",
         "1.15"
        ],
        [
         "3",
         "1971",
         "Defender",
         "2600",
         "1980",
         "Misc",
         "Atari",
         "0.99",
         "0.05",
         "0.0",
         "0.01",
         "1.05"
        ],
        [
         "4",
         "2671",
         "Boxing",
         "2600",
         "1980",
         "Fighting",
         "Activision",
         "0.72",
         "0.04",
         "0.0",
         "0.01",
         "0.77"
        ]
       ],
       "shape": {
        "columns": 11,
        "rows": 5
       }
      },
      "text/html": [
       "<div>\n",
       "<style scoped>\n",
       "    .dataframe tbody tr th:only-of-type {\n",
       "        vertical-align: middle;\n",
       "    }\n",
       "\n",
       "    .dataframe tbody tr th {\n",
       "        vertical-align: top;\n",
       "    }\n",
       "\n",
       "    .dataframe thead th {\n",
       "        text-align: right;\n",
       "    }\n",
       "</style>\n",
       "<table border=\"1\" class=\"dataframe\">\n",
       "  <thead>\n",
       "    <tr style=\"text-align: right;\">\n",
       "      <th></th>\n",
       "      <th>Rank</th>\n",
       "      <th>Name</th>\n",
       "      <th>Platform</th>\n",
       "      <th>Year</th>\n",
       "      <th>Genre</th>\n",
       "      <th>Publisher</th>\n",
       "      <th>NA_Sales</th>\n",
       "      <th>EU_Sales</th>\n",
       "      <th>JP_Sales</th>\n",
       "      <th>Other_Sales</th>\n",
       "      <th>Global_Sales</th>\n",
       "    </tr>\n",
       "  </thead>\n",
       "  <tbody>\n",
       "    <tr>\n",
       "      <th>0</th>\n",
       "      <td>259</td>\n",
       "      <td>Asteroids</td>\n",
       "      <td>2600</td>\n",
       "      <td>1980</td>\n",
       "      <td>Shooter</td>\n",
       "      <td>Atari</td>\n",
       "      <td>4.00</td>\n",
       "      <td>0.26</td>\n",
       "      <td>0.0</td>\n",
       "      <td>0.05</td>\n",
       "      <td>4.31</td>\n",
       "    </tr>\n",
       "    <tr>\n",
       "      <th>1</th>\n",
       "      <td>545</td>\n",
       "      <td>Missile Command</td>\n",
       "      <td>2600</td>\n",
       "      <td>1980</td>\n",
       "      <td>Shooter</td>\n",
       "      <td>Atari</td>\n",
       "      <td>2.56</td>\n",
       "      <td>0.17</td>\n",
       "      <td>0.0</td>\n",
       "      <td>0.03</td>\n",
       "      <td>2.76</td>\n",
       "    </tr>\n",
       "    <tr>\n",
       "      <th>2</th>\n",
       "      <td>1768</td>\n",
       "      <td>Kaboom!</td>\n",
       "      <td>2600</td>\n",
       "      <td>1980</td>\n",
       "      <td>Misc</td>\n",
       "      <td>Activision</td>\n",
       "      <td>1.07</td>\n",
       "      <td>0.07</td>\n",
       "      <td>0.0</td>\n",
       "      <td>0.01</td>\n",
       "      <td>1.15</td>\n",
       "    </tr>\n",
       "    <tr>\n",
       "      <th>3</th>\n",
       "      <td>1971</td>\n",
       "      <td>Defender</td>\n",
       "      <td>2600</td>\n",
       "      <td>1980</td>\n",
       "      <td>Misc</td>\n",
       "      <td>Atari</td>\n",
       "      <td>0.99</td>\n",
       "      <td>0.05</td>\n",
       "      <td>0.0</td>\n",
       "      <td>0.01</td>\n",
       "      <td>1.05</td>\n",
       "    </tr>\n",
       "    <tr>\n",
       "      <th>4</th>\n",
       "      <td>2671</td>\n",
       "      <td>Boxing</td>\n",
       "      <td>2600</td>\n",
       "      <td>1980</td>\n",
       "      <td>Fighting</td>\n",
       "      <td>Activision</td>\n",
       "      <td>0.72</td>\n",
       "      <td>0.04</td>\n",
       "      <td>0.0</td>\n",
       "      <td>0.01</td>\n",
       "      <td>0.77</td>\n",
       "    </tr>\n",
       "  </tbody>\n",
       "</table>\n",
       "</div>"
      ],
      "text/plain": [
       "   Rank             Name Platform  Year     Genre   Publisher  NA_Sales  EU_Sales  JP_Sales  Other_Sales  Global_Sales\n",
       "0   259        Asteroids     2600  1980   Shooter       Atari      4.00      0.26       0.0         0.05          4.31\n",
       "1   545  Missile Command     2600  1980   Shooter       Atari      2.56      0.17       0.0         0.03          2.76\n",
       "2  1768          Kaboom!     2600  1980      Misc  Activision      1.07      0.07       0.0         0.01          1.15\n",
       "3  1971         Defender     2600  1980      Misc       Atari      0.99      0.05       0.0         0.01          1.05\n",
       "4  2671           Boxing     2600  1980  Fighting  Activision      0.72      0.04       0.0         0.01          0.77"
      ]
     },
     "execution_count": 62,
     "metadata": {},
     "output_type": "execute_result"
    }
   ],
   "source": [
    "vg_store_df.to_csv('df_clean_vg_store.csv', index=False)\n",
    "\n",
    "# back to display csv\n",
    "df_clean = pd.read_csv('df_clean_vg_store.csv')\n",
    "df_clean.head()"
   ]
  },
  {
   "cell_type": "markdown",
   "id": "a7ef3d3a",
   "metadata": {},
   "source": [
    "---\n",
    "\n",
    "**3: Analisis Deskriptif dan Ringkasan**\n",
    "\n",
    "- Platform game mana yang paling banyak muncul di dataset?\n",
    "- Gunakan .describe() untuk mendapatkan ringkasan statistik dari Global_Sales dan Year. Apa rata-rata penjualan global?\n",
    "- Hitung total penjualan global untuk setiap Genre. Genre mana yang memiliki total penjualan tertinggi?\n",
    "- Buat ringkasan yang menunjukkan rata-rata penjualan (mean), median penjualan (median), dan jumlah game (count) untuk 5 publisher teratas (berdasarkan jumlah game yang dirilis)."
   ]
  },
  {
   "cell_type": "code",
   "execution_count": 153,
   "id": "a19703e0",
   "metadata": {},
   "outputs": [
    {
     "name": "stdout",
     "output_type": "stream",
     "text": [
      "Tiga Platform Game Terlaris Platform\n",
      "DS     2131\n",
      "PS2    2127\n",
      "PS3    1304\n",
      "Name: count, dtype: int64\n"
     ]
    }
   ],
   "source": [
    "# Platform game yang paling banyak muncul di dataset atau sering dibeli\n",
    "game_terlaris = df_clean['Platform'].value_counts().head(3)\n",
    "print(\"Tiga Platform Game Terlaris\", game_terlaris)"
   ]
  },
  {
   "cell_type": "code",
   "execution_count": 85,
   "id": "99ff10c5",
   "metadata": {},
   "outputs": [
    {
     "name": "stdout",
     "output_type": "stream",
     "text": [
      "summary statistic from GLobal Sales and Year\n",
      "       Global_Sales          Year\n",
      "count  16291.000000  16291.000000\n",
      "mean       0.540910   2006.405561\n",
      "std        1.567345      5.832412\n",
      "min        0.010000   1980.000000\n",
      "25%        0.060000   2003.000000\n",
      "50%        0.170000   2007.000000\n",
      "75%        0.480000   2010.000000\n",
      "max       82.740000   2020.000000\n"
     ]
    }
   ],
   "source": [
    "# summary statistic from GLobal Sales and Year\n",
    "print('summary statistic from GLobal Sales and Year')\n",
    "print(df_clean[['Global_Sales', 'Year']].describe())"
   ]
  },
  {
   "cell_type": "code",
   "execution_count": 86,
   "id": "f6c938ad",
   "metadata": {},
   "outputs": [
    {
     "name": "stdout",
     "output_type": "stream",
     "text": [
      "total penjualan secara global berdasarkan kriteria genre\n"
     ]
    },
    {
     "data": {
      "application/vnd.microsoft.datawrangler.viewer.v0+json": {
       "columns": [
        {
         "name": "Genre",
         "rawType": "object",
         "type": "string"
        },
        {
         "name": "Global_Sales",
         "rawType": "float64",
         "type": "float"
        }
       ],
       "ref": "9024ee36-4f68-4ff7-9604-22f9ac638371",
       "rows": [
        [
         "Action",
         "1722.84"
        ],
        [
         "Adventure",
         "234.59"
        ],
        [
         "Fighting",
         "444.05"
        ],
        [
         "Misc",
         "789.87"
        ],
        [
         "Platform",
         "829.13"
        ],
        [
         "Puzzle",
         "242.21"
        ],
        [
         "Racing",
         "726.76"
        ],
        [
         "Role-Playing",
         "923.83"
        ],
        [
         "Shooter",
         "1026.2"
        ],
        [
         "Simulation",
         "389.98"
        ],
        [
         "Sports",
         "1309.24"
        ],
        [
         "Strategy",
         "173.27"
        ]
       ],
       "shape": {
        "columns": 1,
        "rows": 12
       }
      },
      "text/plain": [
       "Genre\n",
       "Action          1722.84\n",
       "Adventure        234.59\n",
       "Fighting         444.05\n",
       "Misc             789.87\n",
       "Platform         829.13\n",
       "Puzzle           242.21\n",
       "Racing           726.76\n",
       "Role-Playing     923.83\n",
       "Shooter         1026.20\n",
       "Simulation       389.98\n",
       "Sports          1309.24\n",
       "Strategy         173.27\n",
       "Name: Global_Sales, dtype: float64"
      ]
     },
     "execution_count": 86,
     "metadata": {},
     "output_type": "execute_result"
    }
   ],
   "source": [
    "# Menghitung total penjualan secara global berdasarkan kriteria genre\n",
    "total_penjualan_berdasarkan_genre = df_clean.groupby('Genre')['Global_Sales'].sum()\n",
    "print('total penjualan secara global berdasarkan kriteria genre')\n",
    "total_penjualan_berdasarkan_genre"
   ]
  },
  {
   "cell_type": "code",
   "execution_count": 109,
   "id": "4e947415",
   "metadata": {},
   "outputs": [
    {
     "data": {
      "application/vnd.microsoft.datawrangler.viewer.v0+json": {
       "columns": [
        {
         "name": "index",
         "rawType": "int64",
         "type": "integer"
        },
        {
         "name": "Publisher",
         "rawType": "object",
         "type": "string"
        },
        {
         "name": "mean",
         "rawType": "float64",
         "type": "float"
        },
        {
         "name": "median",
         "rawType": "float64",
         "type": "float"
        },
        {
         "name": "count",
         "rawType": "int64",
         "type": "integer"
        }
       ],
       "ref": "a727c5c9-46c3-4f15-b310-9d508f08cf13",
       "rows": [
        [
         "0",
         "Activision",
         "0.75",
         "0.28",
         "966"
        ],
        [
         "1",
         "Electronic Arts",
         "0.82",
         "0.47",
         "1339"
        ],
        [
         "2",
         "Konami Digital Entertainment",
         "0.34",
         "0.15",
         "823"
        ],
        [
         "3",
         "Namco Bandai Games",
         "0.27",
         "0.12",
         "928"
        ],
        [
         "4",
         "Ubisoft",
         "0.52",
         "0.21",
         "918"
        ]
       ],
       "shape": {
        "columns": 4,
        "rows": 5
       }
      },
      "text/html": [
       "<div>\n",
       "<style scoped>\n",
       "    .dataframe tbody tr th:only-of-type {\n",
       "        vertical-align: middle;\n",
       "    }\n",
       "\n",
       "    .dataframe tbody tr th {\n",
       "        vertical-align: top;\n",
       "    }\n",
       "\n",
       "    .dataframe thead th {\n",
       "        text-align: right;\n",
       "    }\n",
       "</style>\n",
       "<table border=\"1\" class=\"dataframe\">\n",
       "  <thead>\n",
       "    <tr style=\"text-align: right;\">\n",
       "      <th></th>\n",
       "      <th>Publisher</th>\n",
       "      <th>mean</th>\n",
       "      <th>median</th>\n",
       "      <th>count</th>\n",
       "    </tr>\n",
       "  </thead>\n",
       "  <tbody>\n",
       "    <tr>\n",
       "      <th>0</th>\n",
       "      <td>Activision</td>\n",
       "      <td>0.75</td>\n",
       "      <td>0.28</td>\n",
       "      <td>966</td>\n",
       "    </tr>\n",
       "    <tr>\n",
       "      <th>1</th>\n",
       "      <td>Electronic Arts</td>\n",
       "      <td>0.82</td>\n",
       "      <td>0.47</td>\n",
       "      <td>1339</td>\n",
       "    </tr>\n",
       "    <tr>\n",
       "      <th>2</th>\n",
       "      <td>Konami Digital Entertainment</td>\n",
       "      <td>0.34</td>\n",
       "      <td>0.15</td>\n",
       "      <td>823</td>\n",
       "    </tr>\n",
       "    <tr>\n",
       "      <th>3</th>\n",
       "      <td>Namco Bandai Games</td>\n",
       "      <td>0.27</td>\n",
       "      <td>0.12</td>\n",
       "      <td>928</td>\n",
       "    </tr>\n",
       "    <tr>\n",
       "      <th>4</th>\n",
       "      <td>Ubisoft</td>\n",
       "      <td>0.52</td>\n",
       "      <td>0.21</td>\n",
       "      <td>918</td>\n",
       "    </tr>\n",
       "  </tbody>\n",
       "</table>\n",
       "</div>"
      ],
      "text/plain": [
       "                      Publisher  mean  median  count\n",
       "0                    Activision  0.75    0.28    966\n",
       "1               Electronic Arts  0.82    0.47   1339\n",
       "2  Konami Digital Entertainment  0.34    0.15    823\n",
       "3            Namco Bandai Games  0.27    0.12    928\n",
       "4                       Ubisoft  0.52    0.21    918"
      ]
     },
     "execution_count": 109,
     "metadata": {},
     "output_type": "execute_result"
    }
   ],
   "source": [
    "# membuat summary pusat data untuk 5 publisher teratas\n",
    "\n",
    "#Publisher dengan game paling banyak (jumlah terbanyak game yang dirilis)\n",
    "top5_publishers = df_clean['Publisher'].value_counts().head(5).index\n",
    "\n",
    "# filter untuk mengambil nilai yang hanya dari 5 pub tersebut\n",
    "df_top5 = df_clean[df_clean['Publisher'].isin(top5_publishers)]\n",
    "\n",
    "# display summary\n",
    "summary = df_top5.groupby('Publisher')['Global_Sales'].agg(['mean', 'median', 'count']).reset_index()\n",
    "summary.round(2)\n"
   ]
  },
  {
   "cell_type": "markdown",
   "id": "c434cc9a",
   "metadata": {},
   "source": [
    "\n",
    "---\n",
    "\n",
    "**4: Visualisasi Data**\n",
    "\n",
    "- Buat histogram untuk melihat distribusi Global_Sales. Apakah distribusinya normal?\n",
    "- Buat bar plot untuk menampilkan total penjualan global per Genre.\n",
    "- Buat box plot untuk membandingkan distribusi Global_Sales di antara 5 platform teratas. Platform mana yang tampaknya memiliki penjualan tertinggi secara median?"
   ]
  },
  {
   "cell_type": "code",
   "execution_count": 120,
   "id": "52b6e3c6",
   "metadata": {},
   "outputs": [
    {
     "data": {
      "image/png": "[encoded data removed]",
      "text/plain": [
       "<Figure size 1600x600 with 1 Axes>"
      ]
     },
     "metadata": {},
     "output_type": "display_data"
    }
   ],
   "source": [
    "import seaborn as sns\n",
    "import matplotlib.pyplot as plt\n",
    "\n",
    "plt.figure(figsize=(16, 6))\n",
    "# histogram distribusi Global Sales\n",
    "sns.histplot(data=df_clean, x='Global_Sales', binwidth=.1)\n",
    "plt.show()\n"
   ]
  },
  {
   "cell_type": "code",
   "execution_count": 155,
   "id": "bbdfbeb6",
   "metadata": {},
   "outputs": [
    {
     "data": {
      "image/png": "[encoded data removed]",
      "text/plain": [
       "<Figure size 1500x700 with 1 Axes>"
      ]
     },
     "metadata": {},
     "output_type": "display_data"
    }
   ],
   "source": [
    "penjualan_genre_sorted = total_penjualan_berdasarkan_genre.sort_values(ascending=False)\n",
    "\n",
    "plt.figure(figsize=(15, 7))\n",
    "sns.barplot(x=penjualan_genre_sorted.index, y=penjualan_genre_sorted.values)\n",
    "\n",
    "plt.title(\"Total Penjualan Global Berdasarkan Genre\")\n",
    "plt.xlabel(\"Genre\")\n",
    "plt.ylabel(\"Total Penjualan\")\n",
    "plt.xticks(rotation=45)\n",
    "plt.show()"
   ]
  },
  {
   "cell_type": "code",
   "execution_count": 141,
   "id": "95700c07",
   "metadata": {},
   "outputs": [
    {
     "data": {
      "image/png": "[encoded data removed]",
      "text/plain": [
       "<Figure size 1211.11x600 with 1 Axes>"
      ]
     },
     "metadata": {},
     "output_type": "display_data"
    }
   ],
   "source": [
    "# box plot membandingkan distribusi Global Sales berdasarkan Platform teratas\n",
    "top5_platforms = df_clean['Platform'].value_counts().head(5).index\n",
    "\n",
    "df_top5_platforms = df_clean[df_clean['Platform'].isin(top5_platforms)]\n",
    "\n",
    "import seaborn as sns\n",
    "import matplotlib.pyplot as plt\n",
    "\n",
    "plot = sns.catplot(kind='box', data=df_top5_platforms, x='Platform', y='Global_Sales', height=6, aspect=8/4 )\n",
    "\n",
    "plot.fig.suptitle('Distribusi Global Sales di 5 Platform Teratas', y=1.03)\n",
    "plot.set(xlabel=\"Platform\", ylabel=\"Global Sales\")\n",
    "plt.show()\n"
   ]
  },
  {
   "cell_type": "markdown",
   "id": "9f1837f3",
   "metadata": {},
   "source": [
    "**Bonus:**\n",
    "- Buat plot yang menunjukkan tren jumlah game yang dirilis dari tahun ke tahun.\n",
    "- Analisis apakah ada hubungan antara Publisher dan Genre yang paling sering mereka rilis."
   ]
  },
  {
   "cell_type": "code",
   "execution_count": 149,
   "id": "ee38ed59",
   "metadata": {},
   "outputs": [
    {
     "data": {
      "image/png": "[encoded data removed]",
      "text/plain": [
       "<Figure size 1600x600 with 1 Axes>"
      ]
     },
     "metadata": {},
     "output_type": "display_data"
    }
   ],
   "source": [
    "games_per_year = df_clean.groupby('Year')['Name'].count().reset_index()\n",
    "# games_per_year.rename(columns={'Name':'Game_Count'}, inplace=True)\n",
    "\n",
    "\n",
    "plt.figure(figsize=(16,6))\n",
    "plt.plot(games_per_year['Year'], games_per_year['Name'], marker='o')\n",
    "\n",
    "plt.title(\"Tren Jumlah Game yang Dirilis per Tahun\")\n",
    "plt.xlabel(\"Tahun Rilis\")\n",
    "plt.ylabel(\"Jumlah Game\")\n",
    "plt.grid(True)\n",
    "plt.show()\n"
   ]
  },
  {
   "cell_type": "code",
   "execution_count": 157,
   "id": "3970533d",
   "metadata": {},
   "outputs": [
    {
     "data": {
      "image/png": "[encoded data removed]",
      "text/plain": [
       "<Figure size 1000x600 with 2 Axes>"
      ]
     },
     "metadata": {},
     "output_type": "display_data"
    }
   ],
   "source": [
    "# buat pivot tabel\n",
    "publisher_genre = pd.crosstab(df_clean['Publisher'], df_clean['Genre'])\n",
    "publisher_genre.head()\n",
    "\n",
    "#Ambil top 5\n",
    "top5_publishers = df_clean['Publisher'].value_counts().head(5).index\n",
    "publisher_genre_top5 = pd.crosstab(\n",
    "    df_clean[df_clean['Publisher'].isin(top5_publishers)]['Publisher'],\n",
    "    df_clean['Genre']\n",
    ")\n",
    "\n",
    "\n",
    "plt.figure(figsize=(10,6))\n",
    "sns.heatmap(publisher_genre_top5, annot=True, fmt=\"d\", cmap=\"Blues\")\n",
    "\n",
    "plt.title(\"Kecenderungan Genre dari Top 5 Publisher\")\n",
    "plt.ylabel(\"Publisher\")\n",
    "plt.xlabel(\"Genre\")\n",
    "plt.show()\n"
   ]
  },
  {
   "cell_type": "markdown",
   "id": "9709d233",
   "metadata": {},
   "source": [
    "---\n",
    "\n",
    "**Kesimpulan Analisis**\n",
    "\n",
    "**Dari analisis data penjualan video game global, dapat ditarik beberapa kesimpulan utama:**\n",
    "\n",
    "- Puncak Industri Game: Tren menunjukkan bahwa industri video game mengalami pertumbuhan pesat dan mencapai puncaknya sekitar tahun 2008-2009 dalam hal jumlah game yang dirilis setiap tahun.\n",
    "\n",
    "- Dominasi Genre Tertentu: Genre Action dan Sports adalah dua genre dengan total penjualan global tertinggi, menunjukkan selera pasar yang besar untuk kategori ini.\n",
    "\n",
    "- Platform Legendaris: Konsol DS dan PS2 merupakan platform dengan jumlah rilis game terbanyak dalam sejarah, menandakan era keemasan mereka.\n",
    "\n",
    "- Penjualan Tidak Merata: Distribusi penjualan sangat condong ke kanan, artinya mayoritas game terjual dalam jumlah yang wajar, namun ada beberapa judul mega-hit yang penjualannya jauh melampaui yang lain.\n",
    "\n",
    "- Spesialisasi Publisher: Publisher besar cenderung memiliki spesialisasi. Contohnya, Electronic Arts sangat dominan di genre Sports, sementara Activision kuat di genre Action.\n",
    "\n",
    "\n",
    "---"
   ]
  }
 ],
 "metadata": {
  "kernelspec": {
   "display_name": "Python 3",
   "language": "python",
   "name": "python3"
  },
  "language_info": {
   "codemirror_mode": {
    "name": "ipython",
    "version": 3
   },
   "file_extension": ".py",
   "mimetype": "text/x-python",
   "name": "python",
   "nbconvert_exporter": "python",
   "pygments_lexer": "ipython3",
   "version": "3.12.4"
  }
 },
 "nbformat": 4,
 "nbformat_minor": 5
}
