{
 "cells": [
  {
   "cell_type": "markdown",
   "id": "aa108f2e",
   "metadata": {},
   "source": [
    "**📚 Proyek Mini: Analisis Data Penjualan Pustaka Digital**\n",
    "\n",
    "**Skenario**\n",
    "\n",
    "**Anda adalah seorang analis data yang baru bergabung dengan \"Pustaka Digital\". Anda diberikan beberapa file data terpisah: data pelanggan, data produk (buku), pesanan dari dua bulan yang berbeda, item dalam setiap pesanan, data karyawan, daftar buku yang sedang promo, data pesanan yang dikembalikan, dan ulasan produk.**\n",
    "\n",
    "**Tujuan utama Anda adalah menggabungkan beberapa sumber data yang terpisah ini untuk membuat satu dataset master yang komprehensif. Dataset ini akan digunakan untuk menjawab beberapa pertanyaan bisnis penting.** \n",
    "\n",
    "----"
   ]
  },
  {
   "cell_type": "markdown",
   "id": "85b22949",
   "metadata": {},
   "source": [
    "**1. Persiapan Data**"
   ]
  },
  {
   "cell_type": "code",
   "execution_count": 62,
   "id": "26a3a4e3",
   "metadata": {},
   "outputs": [
    {
     "name": "stdout",
     "output_type": "stream",
     "text": [
      "✅ Semua file CSV berhasil dimuat ke dalam DataFrame!\n",
      "\n",
      "Contoh data produk:\n"
     ]
    },
    {
     "data": {
      "application/vnd.microsoft.datawrangler.viewer.v0+json": {
       "columns": [
        {
         "name": "product_id",
         "rawType": "int64",
         "type": "integer"
        },
        {
         "name": "book_title",
         "rawType": "object",
         "type": "string"
        },
        {
         "name": "author",
         "rawType": "object",
         "type": "string"
        },
        {
         "name": "price",
         "rawType": "int64",
         "type": "integer"
        }
       ],
       "ref": "6ce132f7-dc75-44b0-942e-c2322ff3462b",
       "rows": [
        [
         "201",
         "Data Science 101",
         "Dr. Alpha",
         "150000"
        ],
        [
         "202",
         "Python for Beginners",
         "Dr. Beta",
         "120000"
        ],
        [
         "203",
         "Advanced SQL",
         "Dr. Gamma",
         "180000"
        ],
        [
         "204",
         "Machine Learning Zero to Hero",
         "Dr. Alpha",
         "250000"
        ],
        [
         "205",
         "Pandas Guidebook",
         "Dr. Delta",
         "175000"
        ]
       ],
       "shape": {
        "columns": 3,
        "rows": 5
       }
      },
      "text/html": [
       "<div>\n",
       "<style scoped>\n",
       "    .dataframe tbody tr th:only-of-type {\n",
       "        vertical-align: middle;\n",
       "    }\n",
       "\n",
       "    .dataframe tbody tr th {\n",
       "        vertical-align: top;\n",
       "    }\n",
       "\n",
       "    .dataframe thead th {\n",
       "        text-align: right;\n",
       "    }\n",
       "</style>\n",
       "<table border=\"1\" class=\"dataframe\">\n",
       "  <thead>\n",
       "    <tr style=\"text-align: right;\">\n",
       "      <th></th>\n",
       "      <th>book_title</th>\n",
       "      <th>author</th>\n",
       "      <th>price</th>\n",
       "    </tr>\n",
       "    <tr>\n",
       "      <th>product_id</th>\n",
       "      <th></th>\n",
       "      <th></th>\n",
       "      <th></th>\n",
       "    </tr>\n",
       "  </thead>\n",
       "  <tbody>\n",
       "    <tr>\n",
       "      <th>201</th>\n",
       "      <td>Data Science 101</td>\n",
       "      <td>Dr. Alpha</td>\n",
       "      <td>150000</td>\n",
       "    </tr>\n",
       "    <tr>\n",
       "      <th>202</th>\n",
       "      <td>Python for Beginners</td>\n",
       "      <td>Dr. Beta</td>\n",
       "      <td>120000</td>\n",
       "    </tr>\n",
       "    <tr>\n",
       "      <th>203</th>\n",
       "      <td>Advanced SQL</td>\n",
       "      <td>Dr. Gamma</td>\n",
       "      <td>180000</td>\n",
       "    </tr>\n",
       "    <tr>\n",
       "      <th>204</th>\n",
       "      <td>Machine Learning Zero to Hero</td>\n",
       "      <td>Dr. Alpha</td>\n",
       "      <td>250000</td>\n",
       "    </tr>\n",
       "    <tr>\n",
       "      <th>205</th>\n",
       "      <td>Pandas Guidebook</td>\n",
       "      <td>Dr. Delta</td>\n",
       "      <td>175000</td>\n",
       "    </tr>\n",
       "  </tbody>\n",
       "</table>\n",
       "</div>"
      ],
      "text/plain": [
       "                               book_title     author   price\n",
       "product_id                                                  \n",
       "201                      Data Science 101  Dr. Alpha  150000\n",
       "202                  Python for Beginners   Dr. Beta  120000\n",
       "203                          Advanced SQL  Dr. Gamma  180000\n",
       "204         Machine Learning Zero to Hero  Dr. Alpha  250000\n",
       "205                      Pandas Guidebook  Dr. Delta  175000"
      ]
     },
     "execution_count": 62,
     "metadata": {},
     "output_type": "execute_result"
    }
   ],
   "source": [
    "import pandas as pd\n",
    "\n",
    "# Memuat semua dataset dari file CSV\n",
    "customers = pd.read_csv('customers.csv')\n",
    "orders_jan = pd.read_csv('orders_jan.csv', parse_dates=['order_date'])\n",
    "orders_feb = pd.read_csv('orders_feb.csv', parse_dates=['order_date'])\n",
    "order_items = pd.read_csv('order_items.csv')\n",
    "employees = pd.read_csv('employees.csv')\n",
    "special_offers = pd.read_csv('special_offers.csv')\n",
    "returned_orders = pd.read_csv('returned_orders.csv')\n",
    "product_reviews = pd.read_csv('product_reviews.csv')\n",
    "\n",
    "# Penting: memuat products.csv dengan product_id sebagai index\n",
    "products = pd.read_csv('products.csv', index_col='product_id')\n",
    "\n",
    "print(\"✅ Semua file CSV berhasil dimuat ke dalam DataFrame!\")\n",
    "print(\"\\nContoh data produk:\")\n",
    "products.head()"
   ]
  },
  {
   "cell_type": "markdown",
   "id": "9d72b5f6",
   "metadata": {},
   "source": [
    "----\n",
    "\n",
    "**Tugas**"
   ]
  },
  {
   "cell_type": "markdown",
   "id": "59380647",
   "metadata": {},
   "source": [
    "**2. Menggabungkan Data Pesanan (Concatenation)**\n",
    "\n",
    "**Manajemen ingin melihat semua data pesanan dari bulan Januari dan Februari dalam satu tabel.**\n",
    "\n",
    "- Gunakan pd.concat() untuk menggabungkan orders_jan dan orders_feb secara vertikal.\n",
    "- Pastikan index dari DataFrame hasil gabungan menjadi unik dan berurutan dari 0.\n",
    "- Sebagai eksperimen, coba jalankan konkatenasi lagi tetapi dengan verify_integrity=True (tanpa mengatur ulang index). Amati apa yang terjadi dan pahami mengapa error itu muncul (mengacu pada materi verifikasi integritas).\n",
    "\n",
    "**Konsep yang Diterapkan:**\n",
    "\n",
    "- pd.concat()\n",
    "- Parameter ignore_index\n",
    "- Parameter verify_integrity"
   ]
  },
  {
   "cell_type": "code",
   "execution_count": 63,
   "id": "6efd7e11",
   "metadata": {},
   "outputs": [
    {
     "name": "stdout",
     "output_type": "stream",
     "text": [
      "Laporan Pesanan Januari - February\n",
      "==================================================\n"
     ]
    },
    {
     "data": {
      "application/vnd.microsoft.datawrangler.viewer.v0+json": {
       "columns": [
        {
         "name": "index",
         "rawType": "int64",
         "type": "integer"
        },
        {
         "name": "order_id",
         "rawType": "int64",
         "type": "integer"
        },
        {
         "name": "customer_id",
         "rawType": "int64",
         "type": "integer"
        },
        {
         "name": "order_date",
         "rawType": "datetime64[ns]",
         "type": "datetime"
        }
       ],
       "ref": "cc120c62-df75-4f7d-8d24-7b362bdb8c56",
       "rows": [
        [
         "0",
         "1",
         "101",
         "2025-01-15 00:00:00"
        ],
        [
         "1",
         "2",
         "102",
         "2025-01-17 00:00:00"
        ],
        [
         "2",
         "3",
         "101",
         "2025-01-20 00:00:00"
        ],
        [
         "3",
         "4",
         "103",
         "2025-01-22 00:00:00"
        ],
        [
         "4",
         "5",
         "104",
         "2025-02-05 00:00:00"
        ],
        [
         "5",
         "6",
         "102",
         "2025-02-10 00:00:00"
        ],
        [
         "6",
         "7",
         "105",
         "2025-02-12 00:00:00"
        ],
        [
         "7",
         "8",
         "103",
         "2025-02-15 00:00:00"
        ]
       ],
       "shape": {
        "columns": 3,
        "rows": 8
       }
      },
      "text/html": [
       "<div>\n",
       "<style scoped>\n",
       "    .dataframe tbody tr th:only-of-type {\n",
       "        vertical-align: middle;\n",
       "    }\n",
       "\n",
       "    .dataframe tbody tr th {\n",
       "        vertical-align: top;\n",
       "    }\n",
       "\n",
       "    .dataframe thead th {\n",
       "        text-align: right;\n",
       "    }\n",
       "</style>\n",
       "<table border=\"1\" class=\"dataframe\">\n",
       "  <thead>\n",
       "    <tr style=\"text-align: right;\">\n",
       "      <th></th>\n",
       "      <th>order_id</th>\n",
       "      <th>customer_id</th>\n",
       "      <th>order_date</th>\n",
       "    </tr>\n",
       "  </thead>\n",
       "  <tbody>\n",
       "    <tr>\n",
       "      <th>0</th>\n",
       "      <td>1</td>\n",
       "      <td>101</td>\n",
       "      <td>2025-01-15</td>\n",
       "    </tr>\n",
       "    <tr>\n",
       "      <th>1</th>\n",
       "      <td>2</td>\n",
       "      <td>102</td>\n",
       "      <td>2025-01-17</td>\n",
       "    </tr>\n",
       "    <tr>\n",
       "      <th>2</th>\n",
       "      <td>3</td>\n",
       "      <td>101</td>\n",
       "      <td>2025-01-20</td>\n",
       "    </tr>\n",
       "    <tr>\n",
       "      <th>3</th>\n",
       "      <td>4</td>\n",
       "      <td>103</td>\n",
       "      <td>2025-01-22</td>\n",
       "    </tr>\n",
       "    <tr>\n",
       "      <th>4</th>\n",
       "      <td>5</td>\n",
       "      <td>104</td>\n",
       "      <td>2025-02-05</td>\n",
       "    </tr>\n",
       "    <tr>\n",
       "      <th>5</th>\n",
       "      <td>6</td>\n",
       "      <td>102</td>\n",
       "      <td>2025-02-10</td>\n",
       "    </tr>\n",
       "    <tr>\n",
       "      <th>6</th>\n",
       "      <td>7</td>\n",
       "      <td>105</td>\n",
       "      <td>2025-02-12</td>\n",
       "    </tr>\n",
       "    <tr>\n",
       "      <th>7</th>\n",
       "      <td>8</td>\n",
       "      <td>103</td>\n",
       "      <td>2025-02-15</td>\n",
       "    </tr>\n",
       "  </tbody>\n",
       "</table>\n",
       "</div>"
      ],
      "text/plain": [
       "   order_id  customer_id order_date\n",
       "0         1          101 2025-01-15\n",
       "1         2          102 2025-01-17\n",
       "2         3          101 2025-01-20\n",
       "3         4          103 2025-01-22\n",
       "4         5          104 2025-02-05\n",
       "5         6          102 2025-02-10\n",
       "6         7          105 2025-02-12\n",
       "7         8          103 2025-02-15"
      ]
     },
     "execution_count": 63,
     "metadata": {},
     "output_type": "execute_result"
    }
   ],
   "source": [
    "all_orders = pd.concat([orders_jan, orders_feb], ignore_index=True) \n",
    "\n",
    "# wanna to experiment -> akan eror raise ValueError(f\"Indexes have overlapping values: {overlap}\") \n",
    "# data tumpang tindih karna tidak di atur ulang dengan ignore_index=True\n",
    "# all_orders = pd.concat([orders_jan, orders_feb],verify_integrity=True) \n",
    "\n",
    "print(\"Laporan Pesanan Januari - February\")\n",
    "print('=' * 50)\n",
    "all_orders"
   ]
  },
  {
   "cell_type": "markdown",
   "id": "9d690db8",
   "metadata": {},
   "source": [
    "----\n",
    "\n",
    "**3. Menggabungkan Pesanan dengan Pelanggan (Inner Join)**\n",
    "\n",
    "**Setelah memiliki daftar semua pesanan, sekarang saatnya menambahkan informasi pelanggan ke setiap pesanan.**\n",
    "\n",
    "- Gabungkan (merge) tabel pesanan gabungan dari Langkah 2 dengan tabel customers.\n",
    "- Gunakan kolom customer_id sebagai kunci.\n",
    "- Karena setiap pesanan pasti memiliki pelanggan, inner join adalah pilihan yang tepat.\n",
    "\n",
    "**Konsep yang Diterapkan:**\n",
    "\n",
    "- Inner Join (.merge())\n",
    "- Memahami hubungan one-to-many (satu pelanggan bisa punya banyak pesanan)"
   ]
  },
  {
   "cell_type": "code",
   "execution_count": 64,
   "id": "c6750e0a",
   "metadata": {},
   "outputs": [
    {
     "name": "stdout",
     "output_type": "stream",
     "text": [
      "Laporan informasi pelanggan\n",
      "==================================================\n"
     ]
    },
    {
     "data": {
      "application/vnd.microsoft.datawrangler.viewer.v0+json": {
       "columns": [
        {
         "name": "index",
         "rawType": "int64",
         "type": "integer"
        },
        {
         "name": "order_id",
         "rawType": "int64",
         "type": "integer"
        },
        {
         "name": "customer_id",
         "rawType": "int64",
         "type": "integer"
        },
        {
         "name": "order_date",
         "rawType": "datetime64[ns]",
         "type": "datetime"
        },
        {
         "name": "name",
         "rawType": "object",
         "type": "string"
        },
        {
         "name": "email",
         "rawType": "object",
         "type": "string"
        }
       ],
       "ref": "6c26fc25-ba93-4840-8eaa-c08569b12bfc",
       "rows": [
        [
         "0",
         "1",
         "101",
         "2025-01-15 00:00:00",
         "Andi",
         "andi@mail.com"
        ],
        [
         "1",
         "2",
         "102",
         "2025-01-17 00:00:00",
         "Budi",
         "budi@mail.com"
        ],
        [
         "2",
         "3",
         "101",
         "2025-01-20 00:00:00",
         "Andi",
         "andi@mail.com"
        ],
        [
         "3",
         "4",
         "103",
         "2025-01-22 00:00:00",
         "Citra",
         "citra@mail.com"
        ],
        [
         "4",
         "5",
         "104",
         "2025-02-05 00:00:00",
         "Dewi",
         "dewi@mail.com"
        ],
        [
         "5",
         "6",
         "102",
         "2025-02-10 00:00:00",
         "Budi",
         "budi@mail.com"
        ],
        [
         "6",
         "7",
         "105",
         "2025-02-12 00:00:00",
         "Eka",
         "eka@mail.com"
        ],
        [
         "7",
         "8",
         "103",
         "2025-02-15 00:00:00",
         "Citra",
         "citra@mail.com"
        ]
       ],
       "shape": {
        "columns": 5,
        "rows": 8
       }
      },
      "text/html": [
       "<div>\n",
       "<style scoped>\n",
       "    .dataframe tbody tr th:only-of-type {\n",
       "        vertical-align: middle;\n",
       "    }\n",
       "\n",
       "    .dataframe tbody tr th {\n",
       "        vertical-align: top;\n",
       "    }\n",
       "\n",
       "    .dataframe thead th {\n",
       "        text-align: right;\n",
       "    }\n",
       "</style>\n",
       "<table border=\"1\" class=\"dataframe\">\n",
       "  <thead>\n",
       "    <tr style=\"text-align: right;\">\n",
       "      <th></th>\n",
       "      <th>order_id</th>\n",
       "      <th>customer_id</th>\n",
       "      <th>order_date</th>\n",
       "      <th>name</th>\n",
       "      <th>email</th>\n",
       "    </tr>\n",
       "  </thead>\n",
       "  <tbody>\n",
       "    <tr>\n",
       "      <th>0</th>\n",
       "      <td>1</td>\n",
       "      <td>101</td>\n",
       "      <td>2025-01-15</td>\n",
       "      <td>Andi</td>\n",
       "      <td>andi@mail.com</td>\n",
       "    </tr>\n",
       "    <tr>\n",
       "      <th>1</th>\n",
       "      <td>2</td>\n",
       "      <td>102</td>\n",
       "      <td>2025-01-17</td>\n",
       "      <td>Budi</td>\n",
       "      <td>budi@mail.com</td>\n",
       "    </tr>\n",
       "    <tr>\n",
       "      <th>2</th>\n",
       "      <td>3</td>\n",
       "      <td>101</td>\n",
       "      <td>2025-01-20</td>\n",
       "      <td>Andi</td>\n",
       "      <td>andi@mail.com</td>\n",
       "    </tr>\n",
       "    <tr>\n",
       "      <th>3</th>\n",
       "      <td>4</td>\n",
       "      <td>103</td>\n",
       "      <td>2025-01-22</td>\n",
       "      <td>Citra</td>\n",
       "      <td>citra@mail.com</td>\n",
       "    </tr>\n",
       "    <tr>\n",
       "      <th>4</th>\n",
       "      <td>5</td>\n",
       "      <td>104</td>\n",
       "      <td>2025-02-05</td>\n",
       "      <td>Dewi</td>\n",
       "      <td>dewi@mail.com</td>\n",
       "    </tr>\n",
       "    <tr>\n",
       "      <th>5</th>\n",
       "      <td>6</td>\n",
       "      <td>102</td>\n",
       "      <td>2025-02-10</td>\n",
       "      <td>Budi</td>\n",
       "      <td>budi@mail.com</td>\n",
       "    </tr>\n",
       "    <tr>\n",
       "      <th>6</th>\n",
       "      <td>7</td>\n",
       "      <td>105</td>\n",
       "      <td>2025-02-12</td>\n",
       "      <td>Eka</td>\n",
       "      <td>eka@mail.com</td>\n",
       "    </tr>\n",
       "    <tr>\n",
       "      <th>7</th>\n",
       "      <td>8</td>\n",
       "      <td>103</td>\n",
       "      <td>2025-02-15</td>\n",
       "      <td>Citra</td>\n",
       "      <td>citra@mail.com</td>\n",
       "    </tr>\n",
       "  </tbody>\n",
       "</table>\n",
       "</div>"
      ],
      "text/plain": [
       "   order_id  customer_id order_date   name           email\n",
       "0         1          101 2025-01-15   Andi   andi@mail.com\n",
       "1         2          102 2025-01-17   Budi   budi@mail.com\n",
       "2         3          101 2025-01-20   Andi   andi@mail.com\n",
       "3         4          103 2025-01-22  Citra  citra@mail.com\n",
       "4         5          104 2025-02-05   Dewi   dewi@mail.com\n",
       "5         6          102 2025-02-10   Budi   budi@mail.com\n",
       "6         7          105 2025-02-12    Eka    eka@mail.com\n",
       "7         8          103 2025-02-15  Citra  citra@mail.com"
      ]
     },
     "execution_count": 64,
     "metadata": {},
     "output_type": "execute_result"
    }
   ],
   "source": [
    "customer_information =  all_orders.merge(customers, how='inner', on='customer_id', validate='many_to_one') #many_to_one atau sebaliknya\n",
    "\n",
    "print(\"Laporan informasi pelanggan\")\n",
    "print('=' * 50)\n",
    "customer_information"
   ]
  },
  {
   "cell_type": "markdown",
   "id": "2c8339fe",
   "metadata": {},
   "source": [
    "-----\n",
    "\n",
    "**4. Menambahkan Detail Produk (Merging on Index)**\n",
    "\n",
    "**Selanjutnya, kita perlu tahu buku apa saja yang ada di setiap pesanan.**\n",
    "\n",
    "- Gabungkan tabel order_items dengan tabel products.\n",
    "- Perhatikan bahwa kunci join (product_id) adalah kolom biasa di order_items tetapi merupakan index di products.\n",
    "- Anda perlu menggunakan parameter left_on dan right_index.\n",
    "\n",
    "**Konsep yang Diterapkan:**\n",
    "- Merging on an index (left_on, right_index)"
   ]
  },
  {
   "cell_type": "code",
   "execution_count": 65,
   "id": "0a42a8cf",
   "metadata": {},
   "outputs": [
    {
     "name": "stdout",
     "output_type": "stream",
     "text": [
      "Buku yang terdaftar dalam pesanan\n",
      "==================================================\n"
     ]
    },
    {
     "data": {
      "application/vnd.microsoft.datawrangler.viewer.v0+json": {
       "columns": [
        {
         "name": "index",
         "rawType": "int64",
         "type": "integer"
        },
        {
         "name": "order_id",
         "rawType": "int64",
         "type": "integer"
        },
        {
         "name": "product_id",
         "rawType": "int64",
         "type": "integer"
        },
        {
         "name": "quantity",
         "rawType": "int64",
         "type": "integer"
        },
        {
         "name": "book_title",
         "rawType": "object",
         "type": "string"
        },
        {
         "name": "author",
         "rawType": "object",
         "type": "string"
        },
        {
         "name": "price",
         "rawType": "int64",
         "type": "integer"
        }
       ],
       "ref": "856a03ea-d23a-4405-b53d-7a647cfbad33",
       "rows": [
        [
         "0",
         "1",
         "201",
         "1",
         "Data Science 101",
         "Dr. Alpha",
         "150000"
        ],
        [
         "1",
         "1",
         "202",
         "1",
         "Python for Beginners",
         "Dr. Beta",
         "120000"
        ],
        [
         "2",
         "2",
         "203",
         "1",
         "Advanced SQL",
         "Dr. Gamma",
         "180000"
        ],
        [
         "3",
         "3",
         "202",
         "2",
         "Python for Beginners",
         "Dr. Beta",
         "120000"
        ],
        [
         "4",
         "4",
         "204",
         "1",
         "Machine Learning Zero to Hero",
         "Dr. Alpha",
         "250000"
        ],
        [
         "5",
         "5",
         "205",
         "1",
         "Pandas Guidebook",
         "Dr. Delta",
         "175000"
        ],
        [
         "6",
         "6",
         "201",
         "1",
         "Data Science 101",
         "Dr. Alpha",
         "150000"
        ],
        [
         "7",
         "6",
         "203",
         "1",
         "Advanced SQL",
         "Dr. Gamma",
         "180000"
        ],
        [
         "8",
         "7",
         "206",
         "1",
         "Statistics for Dummies",
         "Dr. Epsilon",
         "135000"
        ],
        [
         "9",
         "8",
         "201",
         "1",
         "Data Science 101",
         "Dr. Alpha",
         "150000"
        ]
       ],
       "shape": {
        "columns": 6,
        "rows": 10
       }
      },
      "text/html": [
       "<div>\n",
       "<style scoped>\n",
       "    .dataframe tbody tr th:only-of-type {\n",
       "        vertical-align: middle;\n",
       "    }\n",
       "\n",
       "    .dataframe tbody tr th {\n",
       "        vertical-align: top;\n",
       "    }\n",
       "\n",
       "    .dataframe thead th {\n",
       "        text-align: right;\n",
       "    }\n",
       "</style>\n",
       "<table border=\"1\" class=\"dataframe\">\n",
       "  <thead>\n",
       "    <tr style=\"text-align: right;\">\n",
       "      <th></th>\n",
       "      <th>order_id</th>\n",
       "      <th>product_id</th>\n",
       "      <th>quantity</th>\n",
       "      <th>book_title</th>\n",
       "      <th>author</th>\n",
       "      <th>price</th>\n",
       "    </tr>\n",
       "  </thead>\n",
       "  <tbody>\n",
       "    <tr>\n",
       "      <th>0</th>\n",
       "      <td>1</td>\n",
       "      <td>201</td>\n",
       "      <td>1</td>\n",
       "      <td>Data Science 101</td>\n",
       "      <td>Dr. Alpha</td>\n",
       "      <td>150000</td>\n",
       "    </tr>\n",
       "    <tr>\n",
       "      <th>1</th>\n",
       "      <td>1</td>\n",
       "      <td>202</td>\n",
       "      <td>1</td>\n",
       "      <td>Python for Beginners</td>\n",
       "      <td>Dr. Beta</td>\n",
       "      <td>120000</td>\n",
       "    </tr>\n",
       "    <tr>\n",
       "      <th>2</th>\n",
       "      <td>2</td>\n",
       "      <td>203</td>\n",
       "      <td>1</td>\n",
       "      <td>Advanced SQL</td>\n",
       "      <td>Dr. Gamma</td>\n",
       "      <td>180000</td>\n",
       "    </tr>\n",
       "    <tr>\n",
       "      <th>3</th>\n",
       "      <td>3</td>\n",
       "      <td>202</td>\n",
       "      <td>2</td>\n",
       "      <td>Python for Beginners</td>\n",
       "      <td>Dr. Beta</td>\n",
       "      <td>120000</td>\n",
       "    </tr>\n",
       "    <tr>\n",
       "      <th>4</th>\n",
       "      <td>4</td>\n",
       "      <td>204</td>\n",
       "      <td>1</td>\n",
       "      <td>Machine Learning Zero to Hero</td>\n",
       "      <td>Dr. Alpha</td>\n",
       "      <td>250000</td>\n",
       "    </tr>\n",
       "    <tr>\n",
       "      <th>5</th>\n",
       "      <td>5</td>\n",
       "      <td>205</td>\n",
       "      <td>1</td>\n",
       "      <td>Pandas Guidebook</td>\n",
       "      <td>Dr. Delta</td>\n",
       "      <td>175000</td>\n",
       "    </tr>\n",
       "    <tr>\n",
       "      <th>6</th>\n",
       "      <td>6</td>\n",
       "      <td>201</td>\n",
       "      <td>1</td>\n",
       "      <td>Data Science 101</td>\n",
       "      <td>Dr. Alpha</td>\n",
       "      <td>150000</td>\n",
       "    </tr>\n",
       "    <tr>\n",
       "      <th>7</th>\n",
       "      <td>6</td>\n",
       "      <td>203</td>\n",
       "      <td>1</td>\n",
       "      <td>Advanced SQL</td>\n",
       "      <td>Dr. Gamma</td>\n",
       "      <td>180000</td>\n",
       "    </tr>\n",
       "    <tr>\n",
       "      <th>8</th>\n",
       "      <td>7</td>\n",
       "      <td>206</td>\n",
       "      <td>1</td>\n",
       "      <td>Statistics for Dummies</td>\n",
       "      <td>Dr. Epsilon</td>\n",
       "      <td>135000</td>\n",
       "    </tr>\n",
       "    <tr>\n",
       "      <th>9</th>\n",
       "      <td>8</td>\n",
       "      <td>201</td>\n",
       "      <td>1</td>\n",
       "      <td>Data Science 101</td>\n",
       "      <td>Dr. Alpha</td>\n",
       "      <td>150000</td>\n",
       "    </tr>\n",
       "  </tbody>\n",
       "</table>\n",
       "</div>"
      ],
      "text/plain": [
       "   order_id  product_id  quantity                     book_title       author  \\\n",
       "0         1         201         1               Data Science 101    Dr. Alpha   \n",
       "1         1         202         1           Python for Beginners     Dr. Beta   \n",
       "2         2         203         1                   Advanced SQL    Dr. Gamma   \n",
       "3         3         202         2           Python for Beginners     Dr. Beta   \n",
       "4         4         204         1  Machine Learning Zero to Hero    Dr. Alpha   \n",
       "5         5         205         1               Pandas Guidebook    Dr. Delta   \n",
       "6         6         201         1               Data Science 101    Dr. Alpha   \n",
       "7         6         203         1                   Advanced SQL    Dr. Gamma   \n",
       "8         7         206         1         Statistics for Dummies  Dr. Epsilon   \n",
       "9         8         201         1               Data Science 101    Dr. Alpha   \n",
       "\n",
       "    price  \n",
       "0  150000  \n",
       "1  120000  \n",
       "2  180000  \n",
       "3  120000  \n",
       "4  250000  \n",
       "5  175000  \n",
       "6  150000  \n",
       "7  180000  \n",
       "8  135000  \n",
       "9  150000  "
      ]
     },
     "execution_count": 65,
     "metadata": {},
     "output_type": "execute_result"
    }
   ],
   "source": [
    "order_with_products = order_items.merge(products, left_on='product_id', right_index=True) # default how='inner'\n",
    "print('Buku yang terdaftar dalam pesanan')\n",
    "print('=' * 50)\n",
    "order_with_products"
   ]
  },
  {
   "cell_type": "markdown",
   "id": "f13a6c3b",
   "metadata": {},
   "source": [
    "----\n",
    "\n",
    " **5. Membuat Laporan Penjualan Lengkap (Chaining Multiple Merges)**\n",
    "\n",
    " **Saatnya menyatukan semuanya untuk membuat satu laporan master!**\n",
    "\n",
    "- Gabungkan hasil dari Langkah 3 (pesanan + pelanggan) dengan hasil dari Langkah 4 (item pesanan + produk).\n",
    "- Gunakan order_id sebagai kunci untuk penggabungan ini.\n",
    "- Anda bisa melakukannya dengan chaining (menyambung) beberapa metode .merge(). Hasilnya harus berisi informasi pelanggan, pesanan, dan detail produk dalam satu baris untuk setiap item yang dibeli.\n",
    "\n",
    "**Konsep yang Diterapkan:**\n",
    "\n",
    "- Merging multiple DataFrames."
   ]
  },
  {
   "cell_type": "code",
   "execution_count": 66,
   "id": "cdeafd72",
   "metadata": {},
   "outputs": [
    {
     "name": "stdout",
     "output_type": "stream",
     "text": [
      "Index(['order_id', 'customer_id', 'order_date', 'name', 'email'], dtype='object')\n",
      "Index(['order_id', 'product_id', 'quantity', 'book_title', 'author', 'price'], dtype='object')\n"
     ]
    }
   ],
   "source": [
    "# cek apakah ada column order_id jika ada tidak perlu chaining sampai banyak\n",
    "print(customer_information.columns)\n",
    "print(order_with_products.columns)\n"
   ]
  },
  {
   "cell_type": "code",
   "execution_count": 67,
   "id": "842ff444",
   "metadata": {},
   "outputs": [
    {
     "name": "stdout",
     "output_type": "stream",
     "text": [
      "data yang sudah di gabung semua\n",
      "==================================================\n"
     ]
    },
    {
     "data": {
      "application/vnd.microsoft.datawrangler.viewer.v0+json": {
       "columns": [
        {
         "name": "index",
         "rawType": "int64",
         "type": "integer"
        },
        {
         "name": "order_id",
         "rawType": "int64",
         "type": "integer"
        },
        {
         "name": "customer_id",
         "rawType": "int64",
         "type": "integer"
        },
        {
         "name": "order_date",
         "rawType": "datetime64[ns]",
         "type": "datetime"
        },
        {
         "name": "name",
         "rawType": "object",
         "type": "string"
        },
        {
         "name": "email",
         "rawType": "object",
         "type": "string"
        },
        {
         "name": "product_id",
         "rawType": "int64",
         "type": "integer"
        },
        {
         "name": "quantity",
         "rawType": "int64",
         "type": "integer"
        },
        {
         "name": "book_title",
         "rawType": "object",
         "type": "string"
        },
        {
         "name": "author",
         "rawType": "object",
         "type": "string"
        },
        {
         "name": "price",
         "rawType": "int64",
         "type": "integer"
        }
       ],
       "ref": "41cc5302-c16b-46ec-8c8f-b3e8bf5c751f",
       "rows": [
        [
         "0",
         "1",
         "101",
         "2025-01-15 00:00:00",
         "Andi",
         "andi@mail.com",
         "201",
         "1",
         "Data Science 101",
         "Dr. Alpha",
         "150000"
        ],
        [
         "1",
         "1",
         "101",
         "2025-01-15 00:00:00",
         "Andi",
         "andi@mail.com",
         "202",
         "1",
         "Python for Beginners",
         "Dr. Beta",
         "120000"
        ],
        [
         "2",
         "2",
         "102",
         "2025-01-17 00:00:00",
         "Budi",
         "budi@mail.com",
         "203",
         "1",
         "Advanced SQL",
         "Dr. Gamma",
         "180000"
        ],
        [
         "3",
         "3",
         "101",
         "2025-01-20 00:00:00",
         "Andi",
         "andi@mail.com",
         "202",
         "2",
         "Python for Beginners",
         "Dr. Beta",
         "120000"
        ],
        [
         "4",
         "4",
         "103",
         "2025-01-22 00:00:00",
         "Citra",
         "citra@mail.com",
         "204",
         "1",
         "Machine Learning Zero to Hero",
         "Dr. Alpha",
         "250000"
        ],
        [
         "5",
         "5",
         "104",
         "2025-02-05 00:00:00",
         "Dewi",
         "dewi@mail.com",
         "205",
         "1",
         "Pandas Guidebook",
         "Dr. Delta",
         "175000"
        ],
        [
         "6",
         "6",
         "102",
         "2025-02-10 00:00:00",
         "Budi",
         "budi@mail.com",
         "201",
         "1",
         "Data Science 101",
         "Dr. Alpha",
         "150000"
        ],
        [
         "7",
         "6",
         "102",
         "2025-02-10 00:00:00",
         "Budi",
         "budi@mail.com",
         "203",
         "1",
         "Advanced SQL",
         "Dr. Gamma",
         "180000"
        ],
        [
         "8",
         "7",
         "105",
         "2025-02-12 00:00:00",
         "Eka",
         "eka@mail.com",
         "206",
         "1",
         "Statistics for Dummies",
         "Dr. Epsilon",
         "135000"
        ],
        [
         "9",
         "8",
         "103",
         "2025-02-15 00:00:00",
         "Citra",
         "citra@mail.com",
         "201",
         "1",
         "Data Science 101",
         "Dr. Alpha",
         "150000"
        ]
       ],
       "shape": {
        "columns": 10,
        "rows": 10
       }
      },
      "text/html": [
       "<div>\n",
       "<style scoped>\n",
       "    .dataframe tbody tr th:only-of-type {\n",
       "        vertical-align: middle;\n",
       "    }\n",
       "\n",
       "    .dataframe tbody tr th {\n",
       "        vertical-align: top;\n",
       "    }\n",
       "\n",
       "    .dataframe thead th {\n",
       "        text-align: right;\n",
       "    }\n",
       "</style>\n",
       "<table border=\"1\" class=\"dataframe\">\n",
       "  <thead>\n",
       "    <tr style=\"text-align: right;\">\n",
       "      <th></th>\n",
       "      <th>order_id</th>\n",
       "      <th>customer_id</th>\n",
       "      <th>order_date</th>\n",
       "      <th>name</th>\n",
       "      <th>email</th>\n",
       "      <th>product_id</th>\n",
       "      <th>quantity</th>\n",
       "      <th>book_title</th>\n",
       "      <th>author</th>\n",
       "      <th>price</th>\n",
       "    </tr>\n",
       "  </thead>\n",
       "  <tbody>\n",
       "    <tr>\n",
       "      <th>0</th>\n",
       "      <td>1</td>\n",
       "      <td>101</td>\n",
       "      <td>2025-01-15</td>\n",
       "      <td>Andi</td>\n",
       "      <td>andi@mail.com</td>\n",
       "      <td>201</td>\n",
       "      <td>1</td>\n",
       "      <td>Data Science 101</td>\n",
       "      <td>Dr. Alpha</td>\n",
       "      <td>150000</td>\n",
       "    </tr>\n",
       "    <tr>\n",
       "      <th>1</th>\n",
       "      <td>1</td>\n",
       "      <td>101</td>\n",
       "      <td>2025-01-15</td>\n",
       "      <td>Andi</td>\n",
       "      <td>andi@mail.com</td>\n",
       "      <td>202</td>\n",
       "      <td>1</td>\n",
       "      <td>Python for Beginners</td>\n",
       "      <td>Dr. Beta</td>\n",
       "      <td>120000</td>\n",
       "    </tr>\n",
       "    <tr>\n",
       "      <th>2</th>\n",
       "      <td>2</td>\n",
       "      <td>102</td>\n",
       "      <td>2025-01-17</td>\n",
       "      <td>Budi</td>\n",
       "      <td>budi@mail.com</td>\n",
       "      <td>203</td>\n",
       "      <td>1</td>\n",
       "      <td>Advanced SQL</td>\n",
       "      <td>Dr. Gamma</td>\n",
       "      <td>180000</td>\n",
       "    </tr>\n",
       "    <tr>\n",
       "      <th>3</th>\n",
       "      <td>3</td>\n",
       "      <td>101</td>\n",
       "      <td>2025-01-20</td>\n",
       "      <td>Andi</td>\n",
       "      <td>andi@mail.com</td>\n",
       "      <td>202</td>\n",
       "      <td>2</td>\n",
       "      <td>Python for Beginners</td>\n",
       "      <td>Dr. Beta</td>\n",
       "      <td>120000</td>\n",
       "    </tr>\n",
       "    <tr>\n",
       "      <th>4</th>\n",
       "      <td>4</td>\n",
       "      <td>103</td>\n",
       "      <td>2025-01-22</td>\n",
       "      <td>Citra</td>\n",
       "      <td>citra@mail.com</td>\n",
       "      <td>204</td>\n",
       "      <td>1</td>\n",
       "      <td>Machine Learning Zero to Hero</td>\n",
       "      <td>Dr. Alpha</td>\n",
       "      <td>250000</td>\n",
       "    </tr>\n",
       "    <tr>\n",
       "      <th>5</th>\n",
       "      <td>5</td>\n",
       "      <td>104</td>\n",
       "      <td>2025-02-05</td>\n",
       "      <td>Dewi</td>\n",
       "      <td>dewi@mail.com</td>\n",
       "      <td>205</td>\n",
       "      <td>1</td>\n",
       "      <td>Pandas Guidebook</td>\n",
       "      <td>Dr. Delta</td>\n",
       "      <td>175000</td>\n",
       "    </tr>\n",
       "    <tr>\n",
       "      <th>6</th>\n",
       "      <td>6</td>\n",
       "      <td>102</td>\n",
       "      <td>2025-02-10</td>\n",
       "      <td>Budi</td>\n",
       "      <td>budi@mail.com</td>\n",
       "      <td>201</td>\n",
       "      <td>1</td>\n",
       "      <td>Data Science 101</td>\n",
       "      <td>Dr. Alpha</td>\n",
       "      <td>150000</td>\n",
       "    </tr>\n",
       "    <tr>\n",
       "      <th>7</th>\n",
       "      <td>6</td>\n",
       "      <td>102</td>\n",
       "      <td>2025-02-10</td>\n",
       "      <td>Budi</td>\n",
       "      <td>budi@mail.com</td>\n",
       "      <td>203</td>\n",
       "      <td>1</td>\n",
       "      <td>Advanced SQL</td>\n",
       "      <td>Dr. Gamma</td>\n",
       "      <td>180000</td>\n",
       "    </tr>\n",
       "    <tr>\n",
       "      <th>8</th>\n",
       "      <td>7</td>\n",
       "      <td>105</td>\n",
       "      <td>2025-02-12</td>\n",
       "      <td>Eka</td>\n",
       "      <td>eka@mail.com</td>\n",
       "      <td>206</td>\n",
       "      <td>1</td>\n",
       "      <td>Statistics for Dummies</td>\n",
       "      <td>Dr. Epsilon</td>\n",
       "      <td>135000</td>\n",
       "    </tr>\n",
       "    <tr>\n",
       "      <th>9</th>\n",
       "      <td>8</td>\n",
       "      <td>103</td>\n",
       "      <td>2025-02-15</td>\n",
       "      <td>Citra</td>\n",
       "      <td>citra@mail.com</td>\n",
       "      <td>201</td>\n",
       "      <td>1</td>\n",
       "      <td>Data Science 101</td>\n",
       "      <td>Dr. Alpha</td>\n",
       "      <td>150000</td>\n",
       "    </tr>\n",
       "  </tbody>\n",
       "</table>\n",
       "</div>"
      ],
      "text/plain": [
       "   order_id  customer_id order_date   name           email  product_id  \\\n",
       "0         1          101 2025-01-15   Andi   andi@mail.com         201   \n",
       "1         1          101 2025-01-15   Andi   andi@mail.com         202   \n",
       "2         2          102 2025-01-17   Budi   budi@mail.com         203   \n",
       "3         3          101 2025-01-20   Andi   andi@mail.com         202   \n",
       "4         4          103 2025-01-22  Citra  citra@mail.com         204   \n",
       "5         5          104 2025-02-05   Dewi   dewi@mail.com         205   \n",
       "6         6          102 2025-02-10   Budi   budi@mail.com         201   \n",
       "7         6          102 2025-02-10   Budi   budi@mail.com         203   \n",
       "8         7          105 2025-02-12    Eka    eka@mail.com         206   \n",
       "9         8          103 2025-02-15  Citra  citra@mail.com         201   \n",
       "\n",
       "   quantity                     book_title       author   price  \n",
       "0         1               Data Science 101    Dr. Alpha  150000  \n",
       "1         1           Python for Beginners     Dr. Beta  120000  \n",
       "2         1                   Advanced SQL    Dr. Gamma  180000  \n",
       "3         2           Python for Beginners     Dr. Beta  120000  \n",
       "4         1  Machine Learning Zero to Hero    Dr. Alpha  250000  \n",
       "5         1               Pandas Guidebook    Dr. Delta  175000  \n",
       "6         1               Data Science 101    Dr. Alpha  150000  \n",
       "7         1                   Advanced SQL    Dr. Gamma  180000  \n",
       "8         1         Statistics for Dummies  Dr. Epsilon  135000  \n",
       "9         1               Data Science 101    Dr. Alpha  150000  "
      ]
     },
     "execution_count": 67,
     "metadata": {},
     "output_type": "execute_result"
    }
   ],
   "source": [
    "## additional\n",
    "# # Menggabungkan tiga DataFrame sekaligus dengan metode chaining\n",
    "# laporan_lengkap_chained = penjualan.merge(pelanggan, on='id_pelanggan').merge(produk, on='id_produk')\n",
    "# laporan_lengkap_chained\n",
    "\n",
    "putting_together = customer_information.merge(order_with_products, on='order_id')\n",
    "print(\"data yang sudah di gabung semua\")\n",
    "print('=' * 50)\n",
    "putting_together\n"
   ]
  },
  {
   "cell_type": "markdown",
   "id": "e7990979",
   "metadata": {},
   "source": [
    "----\n",
    "\n",
    "**6. Menganalisis Ulasan Produk (Left & Outer Join)**\n",
    "\n",
    "**Manajemen ingin melihat ulasan untuk setiap produk. Namun, tidak semua produk memiliki ulasan.**\n",
    "\n",
    "- Gabungkan tabel products (sebagai tabel kiri) dengan product_reviews. Anda harus memastikan semua produk tetap ada di hasil akhir, meskipun tidak ada ulasannya. Tipe join apa yang paling sesuai?\n",
    "- Setelah itu, coba gunakan outer join. Diskusikan perbedaan hasilnya dan skenario apa yang membuat outer join lebih berguna.\n",
    "\n",
    "**Konsep yang Diterapkan:**\n",
    "\n",
    "- Left Join (how='left')\n",
    "- Outer Join (how='outer')\n"
   ]
  },
  {
   "cell_type": "code",
   "execution_count": 68,
   "id": "14128bc3",
   "metadata": {},
   "outputs": [
    {
     "name": "stdout",
     "output_type": "stream",
     "text": [
      "looking for all reviews\n",
      "==================================================\n"
     ]
    },
    {
     "data": {
      "application/vnd.microsoft.datawrangler.viewer.v0+json": {
       "columns": [
        {
         "name": "index",
         "rawType": "int64",
         "type": "integer"
        },
        {
         "name": "product_id",
         "rawType": "int64",
         "type": "integer"
        },
        {
         "name": "book_title",
         "rawType": "object",
         "type": "string"
        },
        {
         "name": "author",
         "rawType": "object",
         "type": "string"
        },
        {
         "name": "price",
         "rawType": "int64",
         "type": "integer"
        },
        {
         "name": "rating",
         "rawType": "float64",
         "type": "float"
        },
        {
         "name": "review_text",
         "rawType": "object",
         "type": "unknown"
        }
       ],
       "ref": "64bb5d25-fbab-484a-a4c3-8b07dc7eabc8",
       "rows": [
        [
         "0",
         "201",
         "Data Science 101",
         "Dr. Alpha",
         "150000",
         "5.0",
         "Sangat membantu!"
        ],
        [
         "1",
         "201",
         "Data Science 101",
         "Dr. Alpha",
         "150000",
         "4.0",
         "Buku wajib untuk pemula."
        ],
        [
         "2",
         "202",
         "Python for Beginners",
         "Dr. Beta",
         "120000",
         null,
         null
        ],
        [
         "3",
         "203",
         "Advanced SQL",
         "Dr. Gamma",
         "180000",
         "4.0",
         "Cukup sulit dimengerti."
        ],
        [
         "4",
         "203",
         "Advanced SQL",
         "Dr. Gamma",
         "180000",
         "5.0",
         "Penjelasan mendalam."
        ],
        [
         "5",
         "204",
         "Machine Learning Zero to Hero",
         "Dr. Alpha",
         "250000",
         "5.0",
         "Luar biasa!"
        ],
        [
         "6",
         "205",
         "Pandas Guidebook",
         "Dr. Delta",
         "175000",
         null,
         null
        ],
        [
         "7",
         "206",
         "Statistics for Dummies",
         "Dr. Epsilon",
         "135000",
         null,
         null
        ]
       ],
       "shape": {
        "columns": 6,
        "rows": 8
       }
      },
      "text/html": [
       "<div>\n",
       "<style scoped>\n",
       "    .dataframe tbody tr th:only-of-type {\n",
       "        vertical-align: middle;\n",
       "    }\n",
       "\n",
       "    .dataframe tbody tr th {\n",
       "        vertical-align: top;\n",
       "    }\n",
       "\n",
       "    .dataframe thead th {\n",
       "        text-align: right;\n",
       "    }\n",
       "</style>\n",
       "<table border=\"1\" class=\"dataframe\">\n",
       "  <thead>\n",
       "    <tr style=\"text-align: right;\">\n",
       "      <th></th>\n",
       "      <th>product_id</th>\n",
       "      <th>book_title</th>\n",
       "      <th>author</th>\n",
       "      <th>price</th>\n",
       "      <th>rating</th>\n",
       "      <th>review_text</th>\n",
       "    </tr>\n",
       "  </thead>\n",
       "  <tbody>\n",
       "    <tr>\n",
       "      <th>0</th>\n",
       "      <td>201</td>\n",
       "      <td>Data Science 101</td>\n",
       "      <td>Dr. Alpha</td>\n",
       "      <td>150000</td>\n",
       "      <td>5.0</td>\n",
       "      <td>Sangat membantu!</td>\n",
       "    </tr>\n",
       "    <tr>\n",
       "      <th>1</th>\n",
       "      <td>201</td>\n",
       "      <td>Data Science 101</td>\n",
       "      <td>Dr. Alpha</td>\n",
       "      <td>150000</td>\n",
       "      <td>4.0</td>\n",
       "      <td>Buku wajib untuk pemula.</td>\n",
       "    </tr>\n",
       "    <tr>\n",
       "      <th>2</th>\n",
       "      <td>202</td>\n",
       "      <td>Python for Beginners</td>\n",
       "      <td>Dr. Beta</td>\n",
       "      <td>120000</td>\n",
       "      <td>NaN</td>\n",
       "      <td>NaN</td>\n",
       "    </tr>\n",
       "    <tr>\n",
       "      <th>3</th>\n",
       "      <td>203</td>\n",
       "      <td>Advanced SQL</td>\n",
       "      <td>Dr. Gamma</td>\n",
       "      <td>180000</td>\n",
       "      <td>4.0</td>\n",
       "      <td>Cukup sulit dimengerti.</td>\n",
       "    </tr>\n",
       "    <tr>\n",
       "      <th>4</th>\n",
       "      <td>203</td>\n",
       "      <td>Advanced SQL</td>\n",
       "      <td>Dr. Gamma</td>\n",
       "      <td>180000</td>\n",
       "      <td>5.0</td>\n",
       "      <td>Penjelasan mendalam.</td>\n",
       "    </tr>\n",
       "    <tr>\n",
       "      <th>5</th>\n",
       "      <td>204</td>\n",
       "      <td>Machine Learning Zero to Hero</td>\n",
       "      <td>Dr. Alpha</td>\n",
       "      <td>250000</td>\n",
       "      <td>5.0</td>\n",
       "      <td>Luar biasa!</td>\n",
       "    </tr>\n",
       "    <tr>\n",
       "      <th>6</th>\n",
       "      <td>205</td>\n",
       "      <td>Pandas Guidebook</td>\n",
       "      <td>Dr. Delta</td>\n",
       "      <td>175000</td>\n",
       "      <td>NaN</td>\n",
       "      <td>NaN</td>\n",
       "    </tr>\n",
       "    <tr>\n",
       "      <th>7</th>\n",
       "      <td>206</td>\n",
       "      <td>Statistics for Dummies</td>\n",
       "      <td>Dr. Epsilon</td>\n",
       "      <td>135000</td>\n",
       "      <td>NaN</td>\n",
       "      <td>NaN</td>\n",
       "    </tr>\n",
       "  </tbody>\n",
       "</table>\n",
       "</div>"
      ],
      "text/plain": [
       "   product_id                     book_title       author   price  rating  \\\n",
       "0         201               Data Science 101    Dr. Alpha  150000     5.0   \n",
       "1         201               Data Science 101    Dr. Alpha  150000     4.0   \n",
       "2         202           Python for Beginners     Dr. Beta  120000     NaN   \n",
       "3         203                   Advanced SQL    Dr. Gamma  180000     4.0   \n",
       "4         203                   Advanced SQL    Dr. Gamma  180000     5.0   \n",
       "5         204  Machine Learning Zero to Hero    Dr. Alpha  250000     5.0   \n",
       "6         205               Pandas Guidebook    Dr. Delta  175000     NaN   \n",
       "7         206         Statistics for Dummies  Dr. Epsilon  135000     NaN   \n",
       "\n",
       "                review_text  \n",
       "0          Sangat membantu!  \n",
       "1  Buku wajib untuk pemula.  \n",
       "2                       NaN  \n",
       "3   Cukup sulit dimengerti.  \n",
       "4      Penjelasan mendalam.  \n",
       "5               Luar biasa!  \n",
       "6                       NaN  \n",
       "7                       NaN  "
      ]
     },
     "execution_count": 68,
     "metadata": {},
     "output_type": "execute_result"
    }
   ],
   "source": [
    "\n",
    "# Left Join (how='left') adalah jawaban yang paling tepat untuk permintaan awal: \"memastikan semua produk tetap ada\".\n",
    "# look_at_reviews = products.merge(product_reviews, on='product_id', how='left')\n",
    "# look_at_reviews\n",
    "\n",
    "look_at_reviews = products.merge(product_reviews, on='product_id', how='outer')\n",
    "print(\"looking for all reviews\")\n",
    "print('=' * 50)\n",
    "look_at_reviews\n",
    "\n",
    "\n",
    "# Outer Join (how='outer') akan berguna jika ada kemungkinan product_reviews memiliki ulasan\n",
    "#  untuk produk yang sudah tidak ada di tabel products. Outer join akan menampilkan semua produk DAN semua ulasan, \n",
    "# meskipun salah satunya tidak memiliki pasangan."
   ]
  },
  {
   "cell_type": "markdown",
   "id": "ce7f086c",
   "metadata": {},
   "source": [
    "---\n",
    "\n",
    "**7. Mengidentifikasi Pesanan dengan Penawaran Spesial (Semi Join)**\n",
    "\n",
    "**Tim marketing ingin mengetahui pesanan mana saja yang mengandung buku-buku yang sedang dalam penawaran spesial. Mereka hanya butuh daftar pesanan yang relevan, tanpa perlu detail dari tabel penawaran.**\n",
    "\n",
    "- Lakukan semi join.\n",
    "- Filter DataFrame laporan penjualan lengkap (dari Langkah 5) untuk hanya menampilkan baris di mana product_id-nya ada di dalam DataFrame special_offers.\n",
    "- Gunakan metode .isin() seperti yang ditunjukkan dalam materi.\n",
    "\n",
    "**Konsep yang Diterapkan:**\n",
    "\n",
    "- Semi Join"
   ]
  },
  {
   "cell_type": "code",
   "execution_count": 69,
   "id": "7b0b1eba",
   "metadata": {},
   "outputs": [
    {
     "name": "stdout",
     "output_type": "stream",
     "text": [
      "Orders buku yaang sedang dalam penawaran spesial\n",
      "==================================================\n"
     ]
    },
    {
     "data": {
      "application/vnd.microsoft.datawrangler.viewer.v0+json": {
       "columns": [
        {
         "name": "index",
         "rawType": "int64",
         "type": "integer"
        },
        {
         "name": "order_id",
         "rawType": "int64",
         "type": "integer"
        },
        {
         "name": "customer_id",
         "rawType": "int64",
         "type": "integer"
        },
        {
         "name": "order_date",
         "rawType": "datetime64[ns]",
         "type": "datetime"
        },
        {
         "name": "name",
         "rawType": "object",
         "type": "string"
        },
        {
         "name": "email",
         "rawType": "object",
         "type": "string"
        },
        {
         "name": "product_id",
         "rawType": "int64",
         "type": "integer"
        },
        {
         "name": "quantity",
         "rawType": "int64",
         "type": "integer"
        },
        {
         "name": "book_title",
         "rawType": "object",
         "type": "string"
        },
        {
         "name": "author",
         "rawType": "object",
         "type": "string"
        },
        {
         "name": "price",
         "rawType": "int64",
         "type": "integer"
        }
       ],
       "ref": "38b1e9f0-ebd2-404e-b88c-6c279fc1d04f",
       "rows": [
        [
         "1",
         "1",
         "101",
         "2025-01-15 00:00:00",
         "Andi",
         "andi@mail.com",
         "202",
         "1",
         "Python for Beginners",
         "Dr. Beta",
         "120000"
        ],
        [
         "3",
         "3",
         "101",
         "2025-01-20 00:00:00",
         "Andi",
         "andi@mail.com",
         "202",
         "2",
         "Python for Beginners",
         "Dr. Beta",
         "120000"
        ],
        [
         "5",
         "5",
         "104",
         "2025-02-05 00:00:00",
         "Dewi",
         "dewi@mail.com",
         "205",
         "1",
         "Pandas Guidebook",
         "Dr. Delta",
         "175000"
        ]
       ],
       "shape": {
        "columns": 10,
        "rows": 3
       }
      },
      "text/html": [
       "<div>\n",
       "<style scoped>\n",
       "    .dataframe tbody tr th:only-of-type {\n",
       "        vertical-align: middle;\n",
       "    }\n",
       "\n",
       "    .dataframe tbody tr th {\n",
       "        vertical-align: top;\n",
       "    }\n",
       "\n",
       "    .dataframe thead th {\n",
       "        text-align: right;\n",
       "    }\n",
       "</style>\n",
       "<table border=\"1\" class=\"dataframe\">\n",
       "  <thead>\n",
       "    <tr style=\"text-align: right;\">\n",
       "      <th></th>\n",
       "      <th>order_id</th>\n",
       "      <th>customer_id</th>\n",
       "      <th>order_date</th>\n",
       "      <th>name</th>\n",
       "      <th>email</th>\n",
       "      <th>product_id</th>\n",
       "      <th>quantity</th>\n",
       "      <th>book_title</th>\n",
       "      <th>author</th>\n",
       "      <th>price</th>\n",
       "    </tr>\n",
       "  </thead>\n",
       "  <tbody>\n",
       "    <tr>\n",
       "      <th>1</th>\n",
       "      <td>1</td>\n",
       "      <td>101</td>\n",
       "      <td>2025-01-15</td>\n",
       "      <td>Andi</td>\n",
       "      <td>andi@mail.com</td>\n",
       "      <td>202</td>\n",
       "      <td>1</td>\n",
       "      <td>Python for Beginners</td>\n",
       "      <td>Dr. Beta</td>\n",
       "      <td>120000</td>\n",
       "    </tr>\n",
       "    <tr>\n",
       "      <th>3</th>\n",
       "      <td>3</td>\n",
       "      <td>101</td>\n",
       "      <td>2025-01-20</td>\n",
       "      <td>Andi</td>\n",
       "      <td>andi@mail.com</td>\n",
       "      <td>202</td>\n",
       "      <td>2</td>\n",
       "      <td>Python for Beginners</td>\n",
       "      <td>Dr. Beta</td>\n",
       "      <td>120000</td>\n",
       "    </tr>\n",
       "    <tr>\n",
       "      <th>5</th>\n",
       "      <td>5</td>\n",
       "      <td>104</td>\n",
       "      <td>2025-02-05</td>\n",
       "      <td>Dewi</td>\n",
       "      <td>dewi@mail.com</td>\n",
       "      <td>205</td>\n",
       "      <td>1</td>\n",
       "      <td>Pandas Guidebook</td>\n",
       "      <td>Dr. Delta</td>\n",
       "      <td>175000</td>\n",
       "    </tr>\n",
       "  </tbody>\n",
       "</table>\n",
       "</div>"
      ],
      "text/plain": [
       "   order_id  customer_id order_date  name          email  product_id  \\\n",
       "1         1          101 2025-01-15  Andi  andi@mail.com         202   \n",
       "3         3          101 2025-01-20  Andi  andi@mail.com         202   \n",
       "5         5          104 2025-02-05  Dewi  dewi@mail.com         205   \n",
       "\n",
       "   quantity            book_title     author   price  \n",
       "1         1  Python for Beginners   Dr. Beta  120000  \n",
       "3         2  Python for Beginners   Dr. Beta  120000  \n",
       "5         1      Pandas Guidebook  Dr. Delta  175000  "
      ]
     },
     "execution_count": 69,
     "metadata": {},
     "output_type": "execute_result"
    }
   ],
   "source": [
    "books_order_on_special_promo = putting_together[putting_together['product_id'].isin(special_offers['product_id'])] \n",
    "\n",
    "print(\"Orders buku yaang sedang dalam penawaran spesial\")\n",
    "print('=' * 50)\n",
    "books_order_on_special_promo"
   ]
  },
  {
   "cell_type": "markdown",
   "id": "a0d24a6d",
   "metadata": {},
   "source": [
    "---\n",
    "\n",
    "**8. Mencari Pesanan yang Tidak Dikembalikan (Anti Join)**\n",
    "\n",
    "**Bagian keuangan perlu data semua transaksi penjualan yang berhasil dan tidak dikembalikan oleh pelanggan.**\n",
    "\n",
    "- Lakukan anti join.\n",
    "- Filter DataFrame laporan penjualan lengkap untuk menampilkan semua pesanan yang order_id-nya tidak ada di dalam DataFrame returned_orders.\n",
    "- Gunakan metode yang diajarkan: merge dengan how='left' dan indicator=True, lalu filter hasilnya.\n",
    "\n",
    "**Konsep yang Diterapkan:**\n",
    "\n",
    "- Anti Join"
   ]
  },
  {
   "cell_type": "code",
   "execution_count": 70,
   "id": "2e831489",
   "metadata": {},
   "outputs": [
    {
     "name": "stdout",
     "output_type": "stream",
     "text": [
      "Laporan Transaksi sukses tanpa return\n",
      "==================================================\n"
     ]
    },
    {
     "data": {
      "application/vnd.microsoft.datawrangler.viewer.v0+json": {
       "columns": [
        {
         "name": "index",
         "rawType": "int64",
         "type": "integer"
        },
        {
         "name": "order_id",
         "rawType": "int64",
         "type": "integer"
        },
        {
         "name": "customer_id",
         "rawType": "int64",
         "type": "integer"
        },
        {
         "name": "order_date",
         "rawType": "datetime64[ns]",
         "type": "datetime"
        },
        {
         "name": "name",
         "rawType": "object",
         "type": "string"
        },
        {
         "name": "email",
         "rawType": "object",
         "type": "string"
        },
        {
         "name": "product_id",
         "rawType": "int64",
         "type": "integer"
        },
        {
         "name": "quantity",
         "rawType": "int64",
         "type": "integer"
        },
        {
         "name": "book_title",
         "rawType": "object",
         "type": "string"
        },
        {
         "name": "author",
         "rawType": "object",
         "type": "string"
        },
        {
         "name": "price",
         "rawType": "int64",
         "type": "integer"
        }
       ],
       "ref": "ec2f240e-a892-4ed2-9733-0efb6a395dcc",
       "rows": [
        [
         "0",
         "1",
         "101",
         "2025-01-15 00:00:00",
         "Andi",
         "andi@mail.com",
         "201",
         "1",
         "Data Science 101",
         "Dr. Alpha",
         "150000"
        ],
        [
         "1",
         "1",
         "101",
         "2025-01-15 00:00:00",
         "Andi",
         "andi@mail.com",
         "202",
         "1",
         "Python for Beginners",
         "Dr. Beta",
         "120000"
        ],
        [
         "2",
         "2",
         "102",
         "2025-01-17 00:00:00",
         "Budi",
         "budi@mail.com",
         "203",
         "1",
         "Advanced SQL",
         "Dr. Gamma",
         "180000"
        ],
        [
         "4",
         "4",
         "103",
         "2025-01-22 00:00:00",
         "Citra",
         "citra@mail.com",
         "204",
         "1",
         "Machine Learning Zero to Hero",
         "Dr. Alpha",
         "250000"
        ],
        [
         "5",
         "5",
         "104",
         "2025-02-05 00:00:00",
         "Dewi",
         "dewi@mail.com",
         "205",
         "1",
         "Pandas Guidebook",
         "Dr. Delta",
         "175000"
        ],
        [
         "6",
         "6",
         "102",
         "2025-02-10 00:00:00",
         "Budi",
         "budi@mail.com",
         "201",
         "1",
         "Data Science 101",
         "Dr. Alpha",
         "150000"
        ],
        [
         "7",
         "6",
         "102",
         "2025-02-10 00:00:00",
         "Budi",
         "budi@mail.com",
         "203",
         "1",
         "Advanced SQL",
         "Dr. Gamma",
         "180000"
        ],
        [
         "9",
         "8",
         "103",
         "2025-02-15 00:00:00",
         "Citra",
         "citra@mail.com",
         "201",
         "1",
         "Data Science 101",
         "Dr. Alpha",
         "150000"
        ]
       ],
       "shape": {
        "columns": 10,
        "rows": 8
       }
      },
      "text/html": [
       "<div>\n",
       "<style scoped>\n",
       "    .dataframe tbody tr th:only-of-type {\n",
       "        vertical-align: middle;\n",
       "    }\n",
       "\n",
       "    .dataframe tbody tr th {\n",
       "        vertical-align: top;\n",
       "    }\n",
       "\n",
       "    .dataframe thead th {\n",
       "        text-align: right;\n",
       "    }\n",
       "</style>\n",
       "<table border=\"1\" class=\"dataframe\">\n",
       "  <thead>\n",
       "    <tr style=\"text-align: right;\">\n",
       "      <th></th>\n",
       "      <th>order_id</th>\n",
       "      <th>customer_id</th>\n",
       "      <th>order_date</th>\n",
       "      <th>name</th>\n",
       "      <th>email</th>\n",
       "      <th>product_id</th>\n",
       "      <th>quantity</th>\n",
       "      <th>book_title</th>\n",
       "      <th>author</th>\n",
       "      <th>price</th>\n",
       "    </tr>\n",
       "  </thead>\n",
       "  <tbody>\n",
       "    <tr>\n",
       "      <th>0</th>\n",
       "      <td>1</td>\n",
       "      <td>101</td>\n",
       "      <td>2025-01-15</td>\n",
       "      <td>Andi</td>\n",
       "      <td>andi@mail.com</td>\n",
       "      <td>201</td>\n",
       "      <td>1</td>\n",
       "      <td>Data Science 101</td>\n",
       "      <td>Dr. Alpha</td>\n",
       "      <td>150000</td>\n",
       "    </tr>\n",
       "    <tr>\n",
       "      <th>1</th>\n",
       "      <td>1</td>\n",
       "      <td>101</td>\n",
       "      <td>2025-01-15</td>\n",
       "      <td>Andi</td>\n",
       "      <td>andi@mail.com</td>\n",
       "      <td>202</td>\n",
       "      <td>1</td>\n",
       "      <td>Python for Beginners</td>\n",
       "      <td>Dr. Beta</td>\n",
       "      <td>120000</td>\n",
       "    </tr>\n",
       "    <tr>\n",
       "      <th>2</th>\n",
       "      <td>2</td>\n",
       "      <td>102</td>\n",
       "      <td>2025-01-17</td>\n",
       "      <td>Budi</td>\n",
       "      <td>budi@mail.com</td>\n",
       "      <td>203</td>\n",
       "      <td>1</td>\n",
       "      <td>Advanced SQL</td>\n",
       "      <td>Dr. Gamma</td>\n",
       "      <td>180000</td>\n",
       "    </tr>\n",
       "    <tr>\n",
       "      <th>4</th>\n",
       "      <td>4</td>\n",
       "      <td>103</td>\n",
       "      <td>2025-01-22</td>\n",
       "      <td>Citra</td>\n",
       "      <td>citra@mail.com</td>\n",
       "      <td>204</td>\n",
       "      <td>1</td>\n",
       "      <td>Machine Learning Zero to Hero</td>\n",
       "      <td>Dr. Alpha</td>\n",
       "      <td>250000</td>\n",
       "    </tr>\n",
       "    <tr>\n",
       "      <th>5</th>\n",
       "      <td>5</td>\n",
       "      <td>104</td>\n",
       "      <td>2025-02-05</td>\n",
       "      <td>Dewi</td>\n",
       "      <td>dewi@mail.com</td>\n",
       "      <td>205</td>\n",
       "      <td>1</td>\n",
       "      <td>Pandas Guidebook</td>\n",
       "      <td>Dr. Delta</td>\n",
       "      <td>175000</td>\n",
       "    </tr>\n",
       "    <tr>\n",
       "      <th>6</th>\n",
       "      <td>6</td>\n",
       "      <td>102</td>\n",
       "      <td>2025-02-10</td>\n",
       "      <td>Budi</td>\n",
       "      <td>budi@mail.com</td>\n",
       "      <td>201</td>\n",
       "      <td>1</td>\n",
       "      <td>Data Science 101</td>\n",
       "      <td>Dr. Alpha</td>\n",
       "      <td>150000</td>\n",
       "    </tr>\n",
       "    <tr>\n",
       "      <th>7</th>\n",
       "      <td>6</td>\n",
       "      <td>102</td>\n",
       "      <td>2025-02-10</td>\n",
       "      <td>Budi</td>\n",
       "      <td>budi@mail.com</td>\n",
       "      <td>203</td>\n",
       "      <td>1</td>\n",
       "      <td>Advanced SQL</td>\n",
       "      <td>Dr. Gamma</td>\n",
       "      <td>180000</td>\n",
       "    </tr>\n",
       "    <tr>\n",
       "      <th>9</th>\n",
       "      <td>8</td>\n",
       "      <td>103</td>\n",
       "      <td>2025-02-15</td>\n",
       "      <td>Citra</td>\n",
       "      <td>citra@mail.com</td>\n",
       "      <td>201</td>\n",
       "      <td>1</td>\n",
       "      <td>Data Science 101</td>\n",
       "      <td>Dr. Alpha</td>\n",
       "      <td>150000</td>\n",
       "    </tr>\n",
       "  </tbody>\n",
       "</table>\n",
       "</div>"
      ],
      "text/plain": [
       "   order_id  customer_id order_date   name           email  product_id  \\\n",
       "0         1          101 2025-01-15   Andi   andi@mail.com         201   \n",
       "1         1          101 2025-01-15   Andi   andi@mail.com         202   \n",
       "2         2          102 2025-01-17   Budi   budi@mail.com         203   \n",
       "4         4          103 2025-01-22  Citra  citra@mail.com         204   \n",
       "5         5          104 2025-02-05   Dewi   dewi@mail.com         205   \n",
       "6         6          102 2025-02-10   Budi   budi@mail.com         201   \n",
       "7         6          102 2025-02-10   Budi   budi@mail.com         203   \n",
       "9         8          103 2025-02-15  Citra  citra@mail.com         201   \n",
       "\n",
       "   quantity                     book_title     author   price  \n",
       "0         1               Data Science 101  Dr. Alpha  150000  \n",
       "1         1           Python for Beginners   Dr. Beta  120000  \n",
       "2         1                   Advanced SQL  Dr. Gamma  180000  \n",
       "4         1  Machine Learning Zero to Hero  Dr. Alpha  250000  \n",
       "5         1               Pandas Guidebook  Dr. Delta  175000  \n",
       "6         1               Data Science 101  Dr. Alpha  150000  \n",
       "7         1                   Advanced SQL  Dr. Gamma  180000  \n",
       "9         1               Data Science 101  Dr. Alpha  150000  "
      ]
     },
     "execution_count": 70,
     "metadata": {},
     "output_type": "execute_result"
    }
   ],
   "source": [
    "pesanan_not_return = putting_together[~putting_together['order_id'].isin(returned_orders['order_id'])] \n",
    "print(\"Laporan Transaksi sukses tanpa return\")\n",
    "print('=' * 50)\n",
    "pesanan_not_return"
   ]
  },
  {
   "cell_type": "markdown",
   "id": "c7b3ec10",
   "metadata": {},
   "source": [
    "---\n",
    "\n",
    "**9. Memetakan Hierarki Karyawan (Self Join)**\n",
    "\n",
    "**HR ingin membuat daftar semua karyawan beserta nama manajer mereka dalam satu baris untuk keperluan evaluasi kinerja.**\n",
    "\n",
    "- Lakukan self-join pada DataFrame employees.\n",
    "\n",
    "- Gabungkan employees dengan dirinya sendiri. Gunakan left_on='manager_id' dan right_on='employee_id'.\n",
    "\n",
    "- Gunakan parameter suffixes untuk membedakan kolom nama karyawan (_emp) dan nama manajer (_mgr).\n",
    "\n",
    "**Konsep yang Diterapkan:*\n",
    "\n",
    "- Self Join\n",
    "- Parameter suffixes"
   ]
  },
  {
   "cell_type": "code",
   "execution_count": 71,
   "id": "a44c2e93",
   "metadata": {},
   "outputs": [
    {
     "name": "stdout",
     "output_type": "stream",
     "text": [
      "Laporan Daftar Karyawn Beserta Manajer\n",
      "==================================================\n"
     ]
    },
    {
     "data": {
      "application/vnd.microsoft.datawrangler.viewer.v0+json": {
       "columns": [
        {
         "name": "index",
         "rawType": "int64",
         "type": "integer"
        },
        {
         "name": "employee_id_emp",
         "rawType": "int64",
         "type": "integer"
        },
        {
         "name": "name_emp",
         "rawType": "object",
         "type": "string"
        },
        {
         "name": "manager_id_emp",
         "rawType": "float64",
         "type": "float"
        },
        {
         "name": "employee_id_mgr",
         "rawType": "int64",
         "type": "integer"
        },
        {
         "name": "name_mgr",
         "rawType": "object",
         "type": "string"
        },
        {
         "name": "manager_id_mgr",
         "rawType": "float64",
         "type": "float"
        }
       ],
       "ref": "5affe6fb-84b9-4114-8bf5-ebee64e4f222",
       "rows": [
        [
         "0",
         "1",
         "Farhan",
         "3.0",
         "3",
         "Hadi",
         null
        ],
        [
         "1",
         "2",
         "Gina",
         "3.0",
         "3",
         "Hadi",
         null
        ],
        [
         "2",
         "4",
         "Indah",
         "1.0",
         "1",
         "Farhan",
         "3.0"
        ],
        [
         "3",
         "5",
         "Joko",
         "1.0",
         "1",
         "Farhan",
         "3.0"
        ]
       ],
       "shape": {
        "columns": 6,
        "rows": 4
       }
      },
      "text/html": [
       "<div>\n",
       "<style scoped>\n",
       "    .dataframe tbody tr th:only-of-type {\n",
       "        vertical-align: middle;\n",
       "    }\n",
       "\n",
       "    .dataframe tbody tr th {\n",
       "        vertical-align: top;\n",
       "    }\n",
       "\n",
       "    .dataframe thead th {\n",
       "        text-align: right;\n",
       "    }\n",
       "</style>\n",
       "<table border=\"1\" class=\"dataframe\">\n",
       "  <thead>\n",
       "    <tr style=\"text-align: right;\">\n",
       "      <th></th>\n",
       "      <th>employee_id_emp</th>\n",
       "      <th>name_emp</th>\n",
       "      <th>manager_id_emp</th>\n",
       "      <th>employee_id_mgr</th>\n",
       "      <th>name_mgr</th>\n",
       "      <th>manager_id_mgr</th>\n",
       "    </tr>\n",
       "  </thead>\n",
       "  <tbody>\n",
       "    <tr>\n",
       "      <th>0</th>\n",
       "      <td>1</td>\n",
       "      <td>Farhan</td>\n",
       "      <td>3.0</td>\n",
       "      <td>3</td>\n",
       "      <td>Hadi</td>\n",
       "      <td>NaN</td>\n",
       "    </tr>\n",
       "    <tr>\n",
       "      <th>1</th>\n",
       "      <td>2</td>\n",
       "      <td>Gina</td>\n",
       "      <td>3.0</td>\n",
       "      <td>3</td>\n",
       "      <td>Hadi</td>\n",
       "      <td>NaN</td>\n",
       "    </tr>\n",
       "    <tr>\n",
       "      <th>2</th>\n",
       "      <td>4</td>\n",
       "      <td>Indah</td>\n",
       "      <td>1.0</td>\n",
       "      <td>1</td>\n",
       "      <td>Farhan</td>\n",
       "      <td>3.0</td>\n",
       "    </tr>\n",
       "    <tr>\n",
       "      <th>3</th>\n",
       "      <td>5</td>\n",
       "      <td>Joko</td>\n",
       "      <td>1.0</td>\n",
       "      <td>1</td>\n",
       "      <td>Farhan</td>\n",
       "      <td>3.0</td>\n",
       "    </tr>\n",
       "  </tbody>\n",
       "</table>\n",
       "</div>"
      ],
      "text/plain": [
       "   employee_id_emp name_emp  manager_id_emp  employee_id_mgr name_mgr  \\\n",
       "0                1   Farhan             3.0                3     Hadi   \n",
       "1                2     Gina             3.0                3     Hadi   \n",
       "2                4    Indah             1.0                1   Farhan   \n",
       "3                5     Joko             1.0                1   Farhan   \n",
       "\n",
       "   manager_id_mgr  \n",
       "0             NaN  \n",
       "1             NaN  \n",
       "2             3.0  \n",
       "3             3.0  "
      ]
     },
     "execution_count": 71,
     "metadata": {},
     "output_type": "execute_result"
    }
   ],
   "source": [
    "hirarcy = employees.merge(employees, left_on='manager_id', right_on='employee_id', suffixes=('_emp', '_mgr'))\n",
    "print('Laporan Daftar Karyawn Beserta Manajer')\n",
    "print('=' * 50)\n",
    "hirarcy\n",
    "\n"
   ]
  },
  {
   "cell_type": "markdown",
   "id": "17035c3e",
   "metadata": {},
   "source": [
    "---\n",
    "\n",
    "**10. Validasi Integritas (Validation)**\n",
    "\n",
    "**Sebelum menyerahkan laporan, Anda harus yakin bahwa hubungan data sudah benar.**\n",
    "\n",
    "- Ulangi penggabungan antara tabel pesanan gabungan (dari Langkah 2, yang sudah direset index-nya) dengan customers.\n",
    "- Kali ini, tambahkan parameter validate='many_to_one'. Logikanya adalah, banyak baris pesanan (many) terhubung ke satu baris pelanggan (one).\n",
    "- Jika tidak ada error, berarti asumsi hubungan data Anda benar.\n",
    "\n",
    "**Konsep yang Diterapkan:**\n",
    "\n",
    "- merge(validate=...)"
   ]
  },
  {
   "cell_type": "code",
   "execution_count": 72,
   "id": "5e4520d1",
   "metadata": {},
   "outputs": [],
   "source": [
    "customer_information_validation =  all_orders.merge(customers, how='inner', on='customer_id', validate='many_to_one') #many_to_one atau sebaliknya\n",
    "\n",
    "# customer_information_validation\n"
   ]
  },
  {
   "cell_type": "markdown",
   "id": "27ec8075",
   "metadata": {},
   "source": [
    "---\n",
    "\n",
    "**🏆 Tantangan Bonus**\n",
    "\n",
    "- menghitung total pendapatan (harga x kuantitas) untuk setiap pelanggan?"
   ]
  },
  {
   "cell_type": "code",
   "execution_count": 73,
   "id": "6fb78a99",
   "metadata": {},
   "outputs": [
    {
     "data": {
      "application/vnd.microsoft.datawrangler.viewer.v0+json": {
       "columns": [
        {
         "name": "index",
         "rawType": "int64",
         "type": "integer"
        },
        {
         "name": "order_id",
         "rawType": "int64",
         "type": "integer"
        },
        {
         "name": "customer_id",
         "rawType": "int64",
         "type": "integer"
        },
        {
         "name": "order_date",
         "rawType": "datetime64[ns]",
         "type": "datetime"
        },
        {
         "name": "name",
         "rawType": "object",
         "type": "string"
        },
        {
         "name": "email",
         "rawType": "object",
         "type": "string"
        },
        {
         "name": "product_id",
         "rawType": "int64",
         "type": "integer"
        },
        {
         "name": "quantity",
         "rawType": "int64",
         "type": "integer"
        },
        {
         "name": "book_title",
         "rawType": "object",
         "type": "string"
        },
        {
         "name": "author",
         "rawType": "object",
         "type": "string"
        },
        {
         "name": "price",
         "rawType": "int64",
         "type": "integer"
        },
        {
         "name": "total_pendapatan",
         "rawType": "int64",
         "type": "integer"
        }
       ],
       "ref": "561e4c3a-8117-491d-996c-1a7c5901a4e4",
       "rows": [
        [
         "0",
         "1",
         "101",
         "2025-01-15 00:00:00",
         "Andi",
         "andi@mail.com",
         "201",
         "1",
         "Data Science 101",
         "Dr. Alpha",
         "150000",
         "150000"
        ],
        [
         "1",
         "1",
         "101",
         "2025-01-15 00:00:00",
         "Andi",
         "andi@mail.com",
         "202",
         "1",
         "Python for Beginners",
         "Dr. Beta",
         "120000",
         "120000"
        ],
        [
         "2",
         "2",
         "102",
         "2025-01-17 00:00:00",
         "Budi",
         "budi@mail.com",
         "203",
         "1",
         "Advanced SQL",
         "Dr. Gamma",
         "180000",
         "180000"
        ],
        [
         "3",
         "3",
         "101",
         "2025-01-20 00:00:00",
         "Andi",
         "andi@mail.com",
         "202",
         "2",
         "Python for Beginners",
         "Dr. Beta",
         "120000",
         "240000"
        ],
        [
         "4",
         "4",
         "103",
         "2025-01-22 00:00:00",
         "Citra",
         "citra@mail.com",
         "204",
         "1",
         "Machine Learning Zero to Hero",
         "Dr. Alpha",
         "250000",
         "250000"
        ],
        [
         "5",
         "5",
         "104",
         "2025-02-05 00:00:00",
         "Dewi",
         "dewi@mail.com",
         "205",
         "1",
         "Pandas Guidebook",
         "Dr. Delta",
         "175000",
         "175000"
        ],
        [
         "6",
         "6",
         "102",
         "2025-02-10 00:00:00",
         "Budi",
         "budi@mail.com",
         "201",
         "1",
         "Data Science 101",
         "Dr. Alpha",
         "150000",
         "150000"
        ],
        [
         "7",
         "6",
         "102",
         "2025-02-10 00:00:00",
         "Budi",
         "budi@mail.com",
         "203",
         "1",
         "Advanced SQL",
         "Dr. Gamma",
         "180000",
         "180000"
        ],
        [
         "8",
         "7",
         "105",
         "2025-02-12 00:00:00",
         "Eka",
         "eka@mail.com",
         "206",
         "1",
         "Statistics for Dummies",
         "Dr. Epsilon",
         "135000",
         "135000"
        ],
        [
         "9",
         "8",
         "103",
         "2025-02-15 00:00:00",
         "Citra",
         "citra@mail.com",
         "201",
         "1",
         "Data Science 101",
         "Dr. Alpha",
         "150000",
         "150000"
        ]
       ],
       "shape": {
        "columns": 11,
        "rows": 10
       }
      },
      "text/html": [
       "<div>\n",
       "<style scoped>\n",
       "    .dataframe tbody tr th:only-of-type {\n",
       "        vertical-align: middle;\n",
       "    }\n",
       "\n",
       "    .dataframe tbody tr th {\n",
       "        vertical-align: top;\n",
       "    }\n",
       "\n",
       "    .dataframe thead th {\n",
       "        text-align: right;\n",
       "    }\n",
       "</style>\n",
       "<table border=\"1\" class=\"dataframe\">\n",
       "  <thead>\n",
       "    <tr style=\"text-align: right;\">\n",
       "      <th></th>\n",
       "      <th>order_id</th>\n",
       "      <th>customer_id</th>\n",
       "      <th>order_date</th>\n",
       "      <th>name</th>\n",
       "      <th>email</th>\n",
       "      <th>product_id</th>\n",
       "      <th>quantity</th>\n",
       "      <th>book_title</th>\n",
       "      <th>author</th>\n",
       "      <th>price</th>\n",
       "      <th>total_pendapatan</th>\n",
       "    </tr>\n",
       "  </thead>\n",
       "  <tbody>\n",
       "    <tr>\n",
       "      <th>0</th>\n",
       "      <td>1</td>\n",
       "      <td>101</td>\n",
       "      <td>2025-01-15</td>\n",
       "      <td>Andi</td>\n",
       "      <td>andi@mail.com</td>\n",
       "      <td>201</td>\n",
       "      <td>1</td>\n",
       "      <td>Data Science 101</td>\n",
       "      <td>Dr. Alpha</td>\n",
       "      <td>150000</td>\n",
       "      <td>150000</td>\n",
       "    </tr>\n",
       "    <tr>\n",
       "      <th>1</th>\n",
       "      <td>1</td>\n",
       "      <td>101</td>\n",
       "      <td>2025-01-15</td>\n",
       "      <td>Andi</td>\n",
       "      <td>andi@mail.com</td>\n",
       "      <td>202</td>\n",
       "      <td>1</td>\n",
       "      <td>Python for Beginners</td>\n",
       "      <td>Dr. Beta</td>\n",
       "      <td>120000</td>\n",
       "      <td>120000</td>\n",
       "    </tr>\n",
       "    <tr>\n",
       "      <th>2</th>\n",
       "      <td>2</td>\n",
       "      <td>102</td>\n",
       "      <td>2025-01-17</td>\n",
       "      <td>Budi</td>\n",
       "      <td>budi@mail.com</td>\n",
       "      <td>203</td>\n",
       "      <td>1</td>\n",
       "      <td>Advanced SQL</td>\n",
       "      <td>Dr. Gamma</td>\n",
       "      <td>180000</td>\n",
       "      <td>180000</td>\n",
       "    </tr>\n",
       "    <tr>\n",
       "      <th>3</th>\n",
       "      <td>3</td>\n",
       "      <td>101</td>\n",
       "      <td>2025-01-20</td>\n",
       "      <td>Andi</td>\n",
       "      <td>andi@mail.com</td>\n",
       "      <td>202</td>\n",
       "      <td>2</td>\n",
       "      <td>Python for Beginners</td>\n",
       "      <td>Dr. Beta</td>\n",
       "      <td>120000</td>\n",
       "      <td>240000</td>\n",
       "    </tr>\n",
       "    <tr>\n",
       "      <th>4</th>\n",
       "      <td>4</td>\n",
       "      <td>103</td>\n",
       "      <td>2025-01-22</td>\n",
       "      <td>Citra</td>\n",
       "      <td>citra@mail.com</td>\n",
       "      <td>204</td>\n",
       "      <td>1</td>\n",
       "      <td>Machine Learning Zero to Hero</td>\n",
       "      <td>Dr. Alpha</td>\n",
       "      <td>250000</td>\n",
       "      <td>250000</td>\n",
       "    </tr>\n",
       "    <tr>\n",
       "      <th>5</th>\n",
       "      <td>5</td>\n",
       "      <td>104</td>\n",
       "      <td>2025-02-05</td>\n",
       "      <td>Dewi</td>\n",
       "      <td>dewi@mail.com</td>\n",
       "      <td>205</td>\n",
       "      <td>1</td>\n",
       "      <td>Pandas Guidebook</td>\n",
       "      <td>Dr. Delta</td>\n",
       "      <td>175000</td>\n",
       "      <td>175000</td>\n",
       "    </tr>\n",
       "    <tr>\n",
       "      <th>6</th>\n",
       "      <td>6</td>\n",
       "      <td>102</td>\n",
       "      <td>2025-02-10</td>\n",
       "      <td>Budi</td>\n",
       "      <td>budi@mail.com</td>\n",
       "      <td>201</td>\n",
       "      <td>1</td>\n",
       "      <td>Data Science 101</td>\n",
       "      <td>Dr. Alpha</td>\n",
       "      <td>150000</td>\n",
       "      <td>150000</td>\n",
       "    </tr>\n",
       "    <tr>\n",
       "      <th>7</th>\n",
       "      <td>6</td>\n",
       "      <td>102</td>\n",
       "      <td>2025-02-10</td>\n",
       "      <td>Budi</td>\n",
       "      <td>budi@mail.com</td>\n",
       "      <td>203</td>\n",
       "      <td>1</td>\n",
       "      <td>Advanced SQL</td>\n",
       "      <td>Dr. Gamma</td>\n",
       "      <td>180000</td>\n",
       "      <td>180000</td>\n",
       "    </tr>\n",
       "    <tr>\n",
       "      <th>8</th>\n",
       "      <td>7</td>\n",
       "      <td>105</td>\n",
       "      <td>2025-02-12</td>\n",
       "      <td>Eka</td>\n",
       "      <td>eka@mail.com</td>\n",
       "      <td>206</td>\n",
       "      <td>1</td>\n",
       "      <td>Statistics for Dummies</td>\n",
       "      <td>Dr. Epsilon</td>\n",
       "      <td>135000</td>\n",
       "      <td>135000</td>\n",
       "    </tr>\n",
       "    <tr>\n",
       "      <th>9</th>\n",
       "      <td>8</td>\n",
       "      <td>103</td>\n",
       "      <td>2025-02-15</td>\n",
       "      <td>Citra</td>\n",
       "      <td>citra@mail.com</td>\n",
       "      <td>201</td>\n",
       "      <td>1</td>\n",
       "      <td>Data Science 101</td>\n",
       "      <td>Dr. Alpha</td>\n",
       "      <td>150000</td>\n",
       "      <td>150000</td>\n",
       "    </tr>\n",
       "  </tbody>\n",
       "</table>\n",
       "</div>"
      ],
      "text/plain": [
       "   order_id  customer_id order_date   name           email  product_id  \\\n",
       "0         1          101 2025-01-15   Andi   andi@mail.com         201   \n",
       "1         1          101 2025-01-15   Andi   andi@mail.com         202   \n",
       "2         2          102 2025-01-17   Budi   budi@mail.com         203   \n",
       "3         3          101 2025-01-20   Andi   andi@mail.com         202   \n",
       "4         4          103 2025-01-22  Citra  citra@mail.com         204   \n",
       "5         5          104 2025-02-05   Dewi   dewi@mail.com         205   \n",
       "6         6          102 2025-02-10   Budi   budi@mail.com         201   \n",
       "7         6          102 2025-02-10   Budi   budi@mail.com         203   \n",
       "8         7          105 2025-02-12    Eka    eka@mail.com         206   \n",
       "9         8          103 2025-02-15  Citra  citra@mail.com         201   \n",
       "\n",
       "   quantity                     book_title       author   price  \\\n",
       "0         1               Data Science 101    Dr. Alpha  150000   \n",
       "1         1           Python for Beginners     Dr. Beta  120000   \n",
       "2         1                   Advanced SQL    Dr. Gamma  180000   \n",
       "3         2           Python for Beginners     Dr. Beta  120000   \n",
       "4         1  Machine Learning Zero to Hero    Dr. Alpha  250000   \n",
       "5         1               Pandas Guidebook    Dr. Delta  175000   \n",
       "6         1               Data Science 101    Dr. Alpha  150000   \n",
       "7         1                   Advanced SQL    Dr. Gamma  180000   \n",
       "8         1         Statistics for Dummies  Dr. Epsilon  135000   \n",
       "9         1               Data Science 101    Dr. Alpha  150000   \n",
       "\n",
       "   total_pendapatan  \n",
       "0            150000  \n",
       "1            120000  \n",
       "2            180000  \n",
       "3            240000  \n",
       "4            250000  \n",
       "5            175000  \n",
       "6            150000  \n",
       "7            180000  \n",
       "8            135000  \n",
       "9            150000  "
      ]
     },
     "execution_count": 73,
     "metadata": {},
     "output_type": "execute_result"
    }
   ],
   "source": [
    "\n",
    "# ini bisa tapi membingungkan mari kita ke step bawah\n",
    "# total_pendapatan = putting_together['price'] * putting_together['quantity']\n",
    "# total_pendapatan\n",
    "\n",
    "putting_together['total_pendapatan'] = putting_together['price'] * putting_together['quantity']\n",
    "putting_together\n"
   ]
  },
  {
   "cell_type": "code",
   "execution_count": 74,
   "id": "768d0102",
   "metadata": {},
   "outputs": [
    {
     "data": {
      "image/png": "[encoded data removed]",
      "text/plain": [
       "<Figure size 640x480 with 1 Axes>"
      ]
     },
     "metadata": {},
     "output_type": "display_data"
    }
   ],
   "source": [
    "\n",
    "#additional\n",
    "total_pendapatan = putting_together.groupby('book_title')['total_pendapatan'].sum()\n",
    "\n",
    "import matplotlib.pyplot as plt\n",
    "\n",
    "total_pendapatan.plot(kind='barh', x='book_title', y='total_pendapatan')\n",
    "plt.ylabel(\"book title\")\n",
    "plt.title(\"Total pendapatan perbuku\")\n",
    "plt.show()\n"
   ]
  },
  {
   "cell_type": "markdown",
   "id": "3773ee62",
   "metadata": {},
   "source": [
    "----"
   ]
  }
 ],
 "metadata": {
  "kernelspec": {
   "display_name": "Python 3",
   "language": "python",
   "name": "python3"
  },
  "language_info": {
   "codemirror_mode": {
    "name": "ipython",
    "version": 3
   },
   "file_extension": ".py",
   "mimetype": "text/x-python",
   "name": "python",
   "nbconvert_exporter": "python",
   "pygments_lexer": "ipython3",
   "version": "3.12.4"
  }
 },
 "nbformat": 4,
 "nbformat_minor": 5
}
