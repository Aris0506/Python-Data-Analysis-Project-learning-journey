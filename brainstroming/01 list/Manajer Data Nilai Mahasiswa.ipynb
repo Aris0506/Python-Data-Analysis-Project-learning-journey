{
 "cells": [
  {
   "cell_type": "markdown",
   "id": "7d772611",
   "metadata": {},
   "source": [
    "## list with dictionary"
   ]
  },
  {
   "cell_type": "markdown",
   "id": "7bdad33b",
   "metadata": {},
   "source": [
    "**Anda memiliki data nilai mahasiswa yang disimpan dalam sebuah List, di mana setiap elemen dari list tersebut adalah sebuah Dictionary yang berisi data satu mahasiswa.**\n",
    "\n",
    "**Tugas Anda adalah memproses data ini untuk membuat laporan kelulusan.**\n",
    "\n",
    "---"
   ]
  },
  {
   "cell_type": "code",
   "execution_count": 5,
   "id": "4985ff49",
   "metadata": {},
   "outputs": [
    {
     "data": {
      "text/plain": [
       "[{'id': 'M001', 'nama': 'Budi', 'nilai_uts': 85, 'nilai_uas': 90},\n",
       " {'id': 'M002', 'nama': 'Ani', 'nilai_uts': 70, 'nilai_uas': 85},\n",
       " {'id': 'M003', 'nama': 'Candra', 'nilai_uts': 90, 'nilai_uas': 'BELUM_UJIAN'},\n",
       " {'id': 'M004', 'nama': 'Dewi', 'nilai_uts': 50, 'nilai_uas': 65}]"
      ]
     },
     "execution_count": 5,
     "metadata": {},
     "output_type": "execute_result"
    }
   ],
   "source": [
    "# Data Awal Anda\n",
    "data_mahasiswa = [\n",
    "    {'id': 'M001', 'nama': 'Budi', 'nilai_uts': 85, 'nilai_uas': 90},\n",
    "    {'id': 'M002', 'nama': 'Ani', 'nilai_uts': 70, 'nilai_uas': 85},\n",
    "    {'id': 'M003', 'nama': 'Candra', 'nilai_uts': 90, 'nilai_uas': 'BELUM_UJIAN'},\n",
    "    {'id': 'M004', 'nama': 'Dewi', 'nilai_uts': 50, 'nilai_uas': 65}\n",
    "]\n",
    "\n",
    "data_mahasiswa"
   ]
  },
  {
   "cell_type": "markdown",
   "id": "93753903",
   "metadata": {},
   "source": [
    "---\n",
    "\n",
    "**Tantangan (Kerjakan Berurutan):**\n",
    "\n",
    "**1. Menghitung Nilai Akhir (Processing & Updating Data) Dosen Anda menetapkan bahwa `nilai_akhir` dihitung dengan rumus: 40% Nilai UTS + 60% Nilai UAS.**\n",
    "\n",
    "**Tugas: Loop (ulangi) setiap dictionary mahasiswa di dalam list `data_mahasiswa`**\n",
    "\n",
    "**Proses:**\n",
    "- Periksa apakah `nilai_uts` dan `nilai_uas` keduanya adalah angka (integer).\n",
    "- Jika salah satu saja bukan angka (seperti 'BELUM_UJIAN'), tambahkan key baru `'nilai_akhir'` dengan value `\"Data Tidak Lengkap\"`.\n",
    "- Jika kedua nilai valid (angka), hitung `nilai_akhir` sesuai rumus, dan tambahkan hasil perhitungan itu sebagai key baru `'nilai_akhir'` ke dalam dictionary mahasiswa tersebut.\n",
    "- Hasil yang Diharapkan: data_mahasiswa Anda akan ter-update. Contoh untuk Budi, dictionary-nya akan menjadi: `{'id': 'M001', 'nama': 'Budi', 'nilai_uts': 85, 'nilai_uas': 90, 'nilai_akhir': 88.0}`.\n",
    "\n"
   ]
  },
  {
   "cell_type": "code",
   "execution_count": 6,
   "id": "7f9c8334",
   "metadata": {},
   "outputs": [
    {
     "name": "stdout",
     "output_type": "stream",
     "text": [
      "--- Hasil Tantangan 1 ---\n",
      "{'id': 'M001', 'nama': 'Budi', 'nilai_uts': 85, 'nilai_uas': 90, 'nilai_akhir': 88.0}\n",
      "{'id': 'M002', 'nama': 'Ani', 'nilai_uts': 70, 'nilai_uas': 85, 'nilai_akhir': 79.0}\n",
      "{'id': 'M003', 'nama': 'Candra', 'nilai_uts': 90, 'nilai_uas': 'BELUM_UJIAN', 'nilai_akhir': 'Data Tidak Lengkap'}\n",
      "{'id': 'M004', 'nama': 'Dewi', 'nilai_uts': 50, 'nilai_uas': 65, 'nilai_akhir': 59.0}\n"
     ]
    }
   ],
   "source": [
    "for mhs in data_mahasiswa:\n",
    "    uts = mhs['nilai_uts']\n",
    "    uas = mhs['nilai_uas']\n",
    "\n",
    "    # Periksa apakah keduanya bertipe angka (int atau float)\n",
    "    if isinstance(uts, (int, float)) and isinstance(uas, (int, float)):\n",
    "        # Jika KEDUANYA angka, HITUNG nilai akhir\n",
    "        nilai_akhir = (uts * 0.4) + (uas * 0.6)\n",
    "        mhs['nilai_akhir'] = nilai_akhir\n",
    "    else:\n",
    "        # Jika SALAH SATU atau KEDUANYA bukan angka\n",
    "        mhs['nilai_akhir'] = \"Data Tidak Lengkap\"\n",
    "    \n",
    "\n",
    "# Cetak hasil akhir\n",
    "print(\"--- Hasil Tantangan 1 ---\")\n",
    "for mhs in data_mahasiswa:\n",
    "    print(mhs)"
   ]
  },
  {
   "cell_type": "markdown",
   "id": "a1500bbe",
   "metadata": {},
   "source": [
    "----\n",
    "\n",
    "**2. Membuat Laporan Kelulusan (Filtering Data) Setelah semua `nilai_akhir` dihitung, dosen ingin tahu siapa saja yang lulus. Syarat lulus adalah `nilai_akhir di atas 70`.**\n",
    "\n",
    "**Tugas: Buatlah sebuah list baru bernama `mahasiswa_lulus`.**\n",
    "\n",
    "**Proses:**\n",
    "- Loop (ulangi) lagi `data_mahasiswa` yang sudah ter-update.\n",
    "- Periksa key `'nilai_akhir'.`\n",
    "- Jika nilainya adalah angka (bukan \"Data Tidak Lengkap\") DAN nilainya lebih besar dari 70, masukkan nama mahasiswa tersebut ke dalam list `mahasiswa_lulus.`\n",
    "- Hasil yang Diharapkan: `mahasiswa_lulus` akan berisi ['Budi', 'Ani']."
   ]
  },
  {
   "cell_type": "code",
   "execution_count": null,
   "id": "cb144999",
   "metadata": {},
   "outputs": [
    {
     "name": "stdout",
     "output_type": "stream",
     "text": [
      "\n",
      "--- Hasil Tantangan 2 ---\n",
      "{'id': 'M001', 'nama': 'Budi', 'nilai_uts': 85, 'nilai_uas': 90, 'nilai_akhir': 88.0}\n",
      "{'id': 'M002', 'nama': 'Ani', 'nilai_uts': 70, 'nilai_uas': 85, 'nilai_akhir': 79.0}\n"
     ]
    }
   ],
   "source": [
    "# buat list baru mahasiswa lulus\n",
    "mahasiswa_lulus = []\n",
    "\n",
    "for pass_mhs in data_mahasiswa:\n",
    "    nilai_akhir = pass_mhs['nilai_akhir']\n",
    "    \n",
    "    # Periksa apakah nilai_akhir adalah angka int or float dan > 70\n",
    "    if isinstance(nilai_akhir, (int, float)) and nilai_akhir > 70:\n",
    "        # fill pass_ mhs to to list mahasiswa_lulus\n",
    "        mahasiswa_lulus.append(pass_mhs)\n",
    "        # Versi jika hanya ingin namanya\n",
    "        # mahasiswa_lulus.append(pass_mhs['nama'])\n",
    "    else:\n",
    "        continue\n",
    "\n",
    "print(\"\\n--- Hasil Tantangan 2 ---\")\n",
    "for lulus in mahasiswa_lulus:\n",
    "    print(lulus)\n",
    "\n",
    "# print(mahasiswa_lulus)"
   ]
  },
  {
   "cell_type": "markdown",
   "id": "f7d73d32",
   "metadata": {},
   "source": [
    "---\n",
    "\n",
    "**3. Mencari Data Spesifik (Data Lookup) Tiba-tiba, dosen Anda bertanya, \"Berapa nilai akhir si Dewi?\"**\n",
    "\n",
    "**Tugas: Tanpa melihat manual, tuliskan kode untuk mencari dan mencetak (print) `nilai_akhir` milik mahasiswa yang bernama \"Dewi\".**\n",
    "- Petunjuk: Anda perlu me-loop data_mahasiswa dan menggunakan if untuk memeriksa key 'nama'."
   ]
  },
  {
   "cell_type": "code",
   "execution_count": 8,
   "id": "db44a3a7",
   "metadata": {},
   "outputs": [
    {
     "name": "stdout",
     "output_type": "stream",
     "text": [
      "\n",
      "--- Hasil Tantangan 3 ---\n",
      "Nilai Akhir Dewi: 59.0\n"
     ]
    }
   ],
   "source": [
    "for spesifik_mhs in data_mahasiswa:\n",
    "    if spesifik_mhs['nama'] == 'Dewi':\n",
    "        print(\"\\n--- Hasil Tantangan 3 ---\")\n",
    "        print(f\"Nilai Akhir Dewi: {spesifik_mhs['nilai_akhir']}\")"
   ]
  }
 ],
 "metadata": {
  "kernelspec": {
   "display_name": "Python 3",
   "language": "python",
   "name": "python3"
  },
  "language_info": {
   "codemirror_mode": {
    "name": "ipython",
    "version": 3
   },
   "file_extension": ".py",
   "mimetype": "text/x-python",
   "name": "python",
   "nbconvert_exporter": "python",
   "pygments_lexer": "ipython3",
   "version": "3.14.0"
  }
 },
 "nbformat": 4,
 "nbformat_minor": 5
}
