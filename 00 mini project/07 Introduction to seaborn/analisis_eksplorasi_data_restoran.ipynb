{
 "cells": [
  {
   "cell_type": "markdown",
   "id": "6b943f56",
   "metadata": {},
   "source": [
    "**Proyek mini: Analisis Eksplorasi Data Restoran \"Tips\"**\n",
    "\n",
    "**menerapkan library seaborn yang telah dipelajari!**\n",
    "\n",
    "**Latar Belakang:** \n",
    "\n",
    "**Anda adalah seorang analis data di sebuah restoran. Manajemen ingin memahami perilaku pelanggan: Apa saja faktor yang memengaruhi besarnya tip? Kapan waktu paling ramai? Adakah perbedaan antara perokok dan bukan perokok?**\n",
    "\n",
    "---"
   ]
  },
  {
   "cell_type": "markdown",
   "id": "3287eccb",
   "metadata": {},
   "source": [
    "**Dataset: Gunakan dataset tips yang sudah ada di Seaborn.**\n"
   ]
  },
  {
   "cell_type": "code",
   "execution_count": 1,
   "id": "899b37c6",
   "metadata": {},
   "outputs": [
    {
     "data": {
      "application/vnd.microsoft.datawrangler.viewer.v0+json": {
       "columns": [
        {
         "name": "index",
         "rawType": "int64",
         "type": "integer"
        },
        {
         "name": "total_bill",
         "rawType": "float64",
         "type": "float"
        },
        {
         "name": "tip",
         "rawType": "float64",
         "type": "float"
        },
        {
         "name": "sex",
         "rawType": "category",
         "type": "unknown"
        },
        {
         "name": "smoker",
         "rawType": "category",
         "type": "unknown"
        },
        {
         "name": "day",
         "rawType": "category",
         "type": "unknown"
        },
        {
         "name": "time",
         "rawType": "category",
         "type": "unknown"
        },
        {
         "name": "size",
         "rawType": "int64",
         "type": "integer"
        }
       ],
       "ref": "dd1a8c8f-7fbe-417a-91f5-2fcb1f82ac71",
       "rows": [
        [
         "0",
         "16.99",
         "1.01",
         "Female",
         "No",
         "Sun",
         "Dinner",
         "2"
        ],
        [
         "1",
         "10.34",
         "1.66",
         "Male",
         "No",
         "Sun",
         "Dinner",
         "3"
        ],
        [
         "2",
         "21.01",
         "3.5",
         "Male",
         "No",
         "Sun",
         "Dinner",
         "3"
        ],
        [
         "3",
         "23.68",
         "3.31",
         "Male",
         "No",
         "Sun",
         "Dinner",
         "2"
        ],
        [
         "4",
         "24.59",
         "3.61",
         "Female",
         "No",
         "Sun",
         "Dinner",
         "4"
        ]
       ],
       "shape": {
        "columns": 7,
        "rows": 5
       }
      },
      "text/html": [
       "<div>\n",
       "<style scoped>\n",
       "    .dataframe tbody tr th:only-of-type {\n",
       "        vertical-align: middle;\n",
       "    }\n",
       "\n",
       "    .dataframe tbody tr th {\n",
       "        vertical-align: top;\n",
       "    }\n",
       "\n",
       "    .dataframe thead th {\n",
       "        text-align: right;\n",
       "    }\n",
       "</style>\n",
       "<table border=\"1\" class=\"dataframe\">\n",
       "  <thead>\n",
       "    <tr style=\"text-align: right;\">\n",
       "      <th></th>\n",
       "      <th>total_bill</th>\n",
       "      <th>tip</th>\n",
       "      <th>sex</th>\n",
       "      <th>smoker</th>\n",
       "      <th>day</th>\n",
       "      <th>time</th>\n",
       "      <th>size</th>\n",
       "    </tr>\n",
       "  </thead>\n",
       "  <tbody>\n",
       "    <tr>\n",
       "      <th>0</th>\n",
       "      <td>16.99</td>\n",
       "      <td>1.01</td>\n",
       "      <td>Female</td>\n",
       "      <td>No</td>\n",
       "      <td>Sun</td>\n",
       "      <td>Dinner</td>\n",
       "      <td>2</td>\n",
       "    </tr>\n",
       "    <tr>\n",
       "      <th>1</th>\n",
       "      <td>10.34</td>\n",
       "      <td>1.66</td>\n",
       "      <td>Male</td>\n",
       "      <td>No</td>\n",
       "      <td>Sun</td>\n",
       "      <td>Dinner</td>\n",
       "      <td>3</td>\n",
       "    </tr>\n",
       "    <tr>\n",
       "      <th>2</th>\n",
       "      <td>21.01</td>\n",
       "      <td>3.50</td>\n",
       "      <td>Male</td>\n",
       "      <td>No</td>\n",
       "      <td>Sun</td>\n",
       "      <td>Dinner</td>\n",
       "      <td>3</td>\n",
       "    </tr>\n",
       "    <tr>\n",
       "      <th>3</th>\n",
       "      <td>23.68</td>\n",
       "      <td>3.31</td>\n",
       "      <td>Male</td>\n",
       "      <td>No</td>\n",
       "      <td>Sun</td>\n",
       "      <td>Dinner</td>\n",
       "      <td>2</td>\n",
       "    </tr>\n",
       "    <tr>\n",
       "      <th>4</th>\n",
       "      <td>24.59</td>\n",
       "      <td>3.61</td>\n",
       "      <td>Female</td>\n",
       "      <td>No</td>\n",
       "      <td>Sun</td>\n",
       "      <td>Dinner</td>\n",
       "      <td>4</td>\n",
       "    </tr>\n",
       "  </tbody>\n",
       "</table>\n",
       "</div>"
      ],
      "text/plain": [
       "   total_bill   tip     sex smoker  day    time  size\n",
       "0       16.99  1.01  Female     No  Sun  Dinner     2\n",
       "1       10.34  1.66    Male     No  Sun  Dinner     3\n",
       "2       21.01  3.50    Male     No  Sun  Dinner     3\n",
       "3       23.68  3.31    Male     No  Sun  Dinner     2\n",
       "4       24.59  3.61  Female     No  Sun  Dinner     4"
      ]
     },
     "execution_count": 1,
     "metadata": {},
     "output_type": "execute_result"
    }
   ],
   "source": [
    "import matplotlib.pyplot as plt\n",
    "import seaborn as sns\n",
    "\n",
    "#load dataset\n",
    "tips = sns.load_dataset('tips')\n",
    "tips.head()"
   ]
  },
  {
   "cell_type": "markdown",
   "id": "a4aa27a8",
   "metadata": {},
   "source": [
    "Tahap 1: Eksplorasi Awal\n",
    "Distribusi Pelanggan:\n",
    "\n",
    "Buat countplot untuk melihat perbandingan jumlah pelanggan berdasarkan hari (day).\n",
    "\n",
    "Gunakan hue pada plot di atas untuk melihat juga perbandingan jenis kelamin (sex) di setiap harinya."
   ]
  },
  {
   "cell_type": "markdown",
   "id": "fff20540",
   "metadata": {},
   "source": [
    "---\n",
    "\n",
    "Tahap 2: Menganalisis Hubungan Antar Variabel\n",
    "Hubungan Total Tagihan dengan Tip:\n",
    "\n",
    "Buat sebuah scatterplot (relplot dengan kind=\"scatter\") untuk melihat hubungan antara total_bill (sumbu x) dan tip (sumbu y).\n",
    "\n",
    "Pada plot yang sama, gunakan hue untuk membedakan antara perokok (smoker) dan bukan perokok.\n",
    "\n",
    "Selanjutnya, gunakan style untuk membedakan waktu makan (time, yaitu Lunch atau Dinner).\n",
    "\n",
    "Analisis: Dari plot gabungan ini, kelompok pelanggan mana (misalnya: perokok saat makan malam) yang tampaknya memberikan tip lebih tinggi seiring kenaikan total tagihan?"
   ]
  },
  {
   "cell_type": "markdown",
   "id": "34589f45",
   "metadata": {},
   "source": [
    "----\n",
    "\n",
    "Tahap 3: Membandingkan Performa Antar Kategori\n",
    "Distribusi Tagihan per Hari:\n",
    "\n",
    "Buat box plot (catplot dengan kind=\"box\") untuk membandingkan distribusi total_bill di setiap hari (day).\n",
    "\n",
    "Analisis: Hari apa yang memiliki median tagihan tertinggi? Hari apa yang memiliki rentang tagihan (variasi) paling lebar?"
   ]
  },
  {
   "cell_type": "markdown",
   "id": "50701ab7",
   "metadata": {},
   "source": []
  }
 ],
 "metadata": {
  "kernelspec": {
   "display_name": "Python 3",
   "language": "python",
   "name": "python3"
  },
  "language_info": {
   "codemirror_mode": {
    "name": "ipython",
    "version": 3
   },
   "file_extension": ".py",
   "mimetype": "text/x-python",
   "name": "python",
   "nbconvert_exporter": "python",
   "pygments_lexer": "ipython3",
   "version": "3.12.4"
  }
 },
 "nbformat": 4,
 "nbformat_minor": 5
}
