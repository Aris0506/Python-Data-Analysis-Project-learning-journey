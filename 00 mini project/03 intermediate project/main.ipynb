{
 "cells": [
  {
   "cell_type": "markdown",
   "id": "ba43dcf2",
   "metadata": {},
   "source": [
    "## Proyek Akhir: Analisis Data Superstore Sederhana\n",
    "\n",
    "**Skenario: Anda adalah seorang analis data di sebuah perusahaan ritel. Anda diberikan data penjualan dari beberapa produk selama satu bulan. Tugas Anda adalah melakukan analisis dari awal hingga akhir: memuat data, membersihkannya, menganalisisnya, dan akhirnya memvisualisasikan temuan Anda untuk dilaporkan kepada manajer.**\n",
    "\n",
    "-------"
   ]
  },
  {
   "cell_type": "markdown",
   "id": "ed5dfc3f",
   "metadata": {},
   "source": [
    "**1: Persiapan Data (Dictionaries & Pandas)**"
   ]
  },
  {
   "cell_type": "code",
   "execution_count": 67,
   "id": "f667c5cd",
   "metadata": {},
   "outputs": [
    {
     "data": {
      "application/vnd.microsoft.datawrangler.viewer.v0+json": {
       "columns": [
        {
         "name": "index",
         "rawType": "int64",
         "type": "integer"
        },
        {
         "name": "Tanggal",
         "rawType": "object",
         "type": "string"
        },
        {
         "name": "Produk",
         "rawType": "object",
         "type": "string"
        },
        {
         "name": "Kategori",
         "rawType": "object",
         "type": "string"
        },
        {
         "name": "Harga Satuan",
         "rawType": "int64",
         "type": "integer"
        },
        {
         "name": "Jumlah Terjual",
         "rawType": "int64",
         "type": "integer"
        }
       ],
       "ref": "e05cfb80-42fd-448f-9370-c9e488790f3a",
       "rows": [
        [
         "0",
         "2024-07-01",
         "Laptop",
         "Elektronik",
         "15000000",
         "5"
        ],
        [
         "1",
         "2024-07-01",
         "Mouse",
         "Aksesoris",
         "150000",
         "10"
        ],
        [
         "2",
         "2024-07-02",
         "Laptop",
         "Elektronik",
         "15500000",
         "3"
        ],
        [
         "3",
         "2024-07-03",
         "Monitor",
         "Elektronik",
         "3500000",
         "7"
        ],
        [
         "4",
         "2024-07-03",
         "Keyboard",
         "Aksesoris",
         "750000",
         "8"
        ]
       ],
       "shape": {
        "columns": 5,
        "rows": 5
       }
      },
      "text/html": [
       "<div>\n",
       "<style scoped>\n",
       "    .dataframe tbody tr th:only-of-type {\n",
       "        vertical-align: middle;\n",
       "    }\n",
       "\n",
       "    .dataframe tbody tr th {\n",
       "        vertical-align: top;\n",
       "    }\n",
       "\n",
       "    .dataframe thead th {\n",
       "        text-align: right;\n",
       "    }\n",
       "</style>\n",
       "<table border=\"1\" class=\"dataframe\">\n",
       "  <thead>\n",
       "    <tr style=\"text-align: right;\">\n",
       "      <th></th>\n",
       "      <th>Tanggal</th>\n",
       "      <th>Produk</th>\n",
       "      <th>Kategori</th>\n",
       "      <th>Harga Satuan</th>\n",
       "      <th>Jumlah Terjual</th>\n",
       "    </tr>\n",
       "  </thead>\n",
       "  <tbody>\n",
       "    <tr>\n",
       "      <th>0</th>\n",
       "      <td>2024-07-01</td>\n",
       "      <td>Laptop</td>\n",
       "      <td>Elektronik</td>\n",
       "      <td>15000000</td>\n",
       "      <td>5</td>\n",
       "    </tr>\n",
       "    <tr>\n",
       "      <th>1</th>\n",
       "      <td>2024-07-01</td>\n",
       "      <td>Mouse</td>\n",
       "      <td>Aksesoris</td>\n",
       "      <td>150000</td>\n",
       "      <td>10</td>\n",
       "    </tr>\n",
       "    <tr>\n",
       "      <th>2</th>\n",
       "      <td>2024-07-02</td>\n",
       "      <td>Laptop</td>\n",
       "      <td>Elektronik</td>\n",
       "      <td>15500000</td>\n",
       "      <td>3</td>\n",
       "    </tr>\n",
       "    <tr>\n",
       "      <th>3</th>\n",
       "      <td>2024-07-03</td>\n",
       "      <td>Monitor</td>\n",
       "      <td>Elektronik</td>\n",
       "      <td>3500000</td>\n",
       "      <td>7</td>\n",
       "    </tr>\n",
       "    <tr>\n",
       "      <th>4</th>\n",
       "      <td>2024-07-03</td>\n",
       "      <td>Keyboard</td>\n",
       "      <td>Aksesoris</td>\n",
       "      <td>750000</td>\n",
       "      <td>8</td>\n",
       "    </tr>\n",
       "  </tbody>\n",
       "</table>\n",
       "</div>"
      ],
      "text/plain": [
       "      Tanggal    Produk    Kategori  Harga Satuan  Jumlah Terjual\n",
       "0  2024-07-01    Laptop  Elektronik      15000000               5\n",
       "1  2024-07-01     Mouse   Aksesoris        150000              10\n",
       "2  2024-07-02    Laptop  Elektronik      15500000               3\n",
       "3  2024-07-03   Monitor  Elektronik       3500000               7\n",
       "4  2024-07-03  Keyboard   Aksesoris        750000               8"
      ]
     },
     "execution_count": 67,
     "metadata": {},
     "output_type": "execute_result"
    }
   ],
   "source": [
    "import pandas as pd\n",
    "\n",
    "data_penjualan = {\n",
    "    'Tanggal' : ['2024-07-01', '2024-07-01', '2024-07-02', '2024-07-03', '2024-07-03', '2024-07-04'],\n",
    "    'Produk' : ['Laptop', 'Mouse', 'Laptop', 'Monitor', 'Keyboard', 'Mouse'],\n",
    "    'Kategori': ['Elektronik', 'Aksesoris', 'Elektronik', 'Elektronik', 'Aksesoris', 'Aksesoris'],\n",
    "    'Harga Satuan': [15000000, 150000, 15500000, 3500000, 750000, 160000],\n",
    "    'Jumlah Terjual': [5, 10, 3, 7, 8, 12]\n",
    "}\n",
    "\n",
    "df_penjualan = pd.DataFrame(data_penjualan)\n",
    "df_penjualan.head()"
   ]
  },
  {
   "cell_type": "markdown",
   "id": "5f729041",
   "metadata": {},
   "source": [
    "----"
   ]
  },
  {
   "cell_type": "markdown",
   "id": "526af1ea",
   "metadata": {},
   "source": [
    "**2: Menambah Kolom Baru (NumPy & Looping)**\n",
    "\n",
    "***Manajer ingin tahu total pendapatan untuk setiap transaksi.***\n",
    "- Buat kolom baru bernama 'Total Pendapatan'.\n",
    "- Isi kolom ini dengan hasil perkalian dari 'Harga Satuan' dan 'Jumlah Terjual'. Gunakan operasi vektorisasi NumPy untuk melakukannya tanpa perulangan."
   ]
  },
  {
   "cell_type": "code",
   "execution_count": 68,
   "id": "4b4946f0",
   "metadata": {},
   "outputs": [
    {
     "data": {
      "application/vnd.microsoft.datawrangler.viewer.v0+json": {
       "columns": [
        {
         "name": "index",
         "rawType": "int64",
         "type": "integer"
        },
        {
         "name": "Tanggal",
         "rawType": "object",
         "type": "string"
        },
        {
         "name": "Produk",
         "rawType": "object",
         "type": "string"
        },
        {
         "name": "Kategori",
         "rawType": "object",
         "type": "string"
        },
        {
         "name": "Harga Satuan",
         "rawType": "int64",
         "type": "integer"
        },
        {
         "name": "Jumlah Terjual",
         "rawType": "int64",
         "type": "integer"
        },
        {
         "name": "Total Pendapatan",
         "rawType": "int64",
         "type": "integer"
        }
       ],
       "ref": "f8b6c01e-d4eb-4282-a7af-daca7306f951",
       "rows": [
        [
         "0",
         "2024-07-01",
         "Laptop",
         "Elektronik",
         "15000000",
         "5",
         "75000000"
        ],
        [
         "2",
         "2024-07-02",
         "Laptop",
         "Elektronik",
         "15500000",
         "3",
         "46500000"
        ],
        [
         "3",
         "2024-07-03",
         "Monitor",
         "Elektronik",
         "3500000",
         "7",
         "24500000"
        ],
        [
         "4",
         "2024-07-03",
         "Keyboard",
         "Aksesoris",
         "750000",
         "8",
         "6000000"
        ],
        [
         "5",
         "2024-07-04",
         "Mouse",
         "Aksesoris",
         "160000",
         "12",
         "1920000"
        ],
        [
         "1",
         "2024-07-01",
         "Mouse",
         "Aksesoris",
         "150000",
         "10",
         "1500000"
        ]
       ],
       "shape": {
        "columns": 6,
        "rows": 6
       }
      },
      "text/html": [
       "<div>\n",
       "<style scoped>\n",
       "    .dataframe tbody tr th:only-of-type {\n",
       "        vertical-align: middle;\n",
       "    }\n",
       "\n",
       "    .dataframe tbody tr th {\n",
       "        vertical-align: top;\n",
       "    }\n",
       "\n",
       "    .dataframe thead th {\n",
       "        text-align: right;\n",
       "    }\n",
       "</style>\n",
       "<table border=\"1\" class=\"dataframe\">\n",
       "  <thead>\n",
       "    <tr style=\"text-align: right;\">\n",
       "      <th></th>\n",
       "      <th>Tanggal</th>\n",
       "      <th>Produk</th>\n",
       "      <th>Kategori</th>\n",
       "      <th>Harga Satuan</th>\n",
       "      <th>Jumlah Terjual</th>\n",
       "      <th>Total Pendapatan</th>\n",
       "    </tr>\n",
       "  </thead>\n",
       "  <tbody>\n",
       "    <tr>\n",
       "      <th>0</th>\n",
       "      <td>2024-07-01</td>\n",
       "      <td>Laptop</td>\n",
       "      <td>Elektronik</td>\n",
       "      <td>15000000</td>\n",
       "      <td>5</td>\n",
       "      <td>75000000</td>\n",
       "    </tr>\n",
       "    <tr>\n",
       "      <th>2</th>\n",
       "      <td>2024-07-02</td>\n",
       "      <td>Laptop</td>\n",
       "      <td>Elektronik</td>\n",
       "      <td>15500000</td>\n",
       "      <td>3</td>\n",
       "      <td>46500000</td>\n",
       "    </tr>\n",
       "    <tr>\n",
       "      <th>3</th>\n",
       "      <td>2024-07-03</td>\n",
       "      <td>Monitor</td>\n",
       "      <td>Elektronik</td>\n",
       "      <td>3500000</td>\n",
       "      <td>7</td>\n",
       "      <td>24500000</td>\n",
       "    </tr>\n",
       "    <tr>\n",
       "      <th>4</th>\n",
       "      <td>2024-07-03</td>\n",
       "      <td>Keyboard</td>\n",
       "      <td>Aksesoris</td>\n",
       "      <td>750000</td>\n",
       "      <td>8</td>\n",
       "      <td>6000000</td>\n",
       "    </tr>\n",
       "    <tr>\n",
       "      <th>5</th>\n",
       "      <td>2024-07-04</td>\n",
       "      <td>Mouse</td>\n",
       "      <td>Aksesoris</td>\n",
       "      <td>160000</td>\n",
       "      <td>12</td>\n",
       "      <td>1920000</td>\n",
       "    </tr>\n",
       "    <tr>\n",
       "      <th>1</th>\n",
       "      <td>2024-07-01</td>\n",
       "      <td>Mouse</td>\n",
       "      <td>Aksesoris</td>\n",
       "      <td>150000</td>\n",
       "      <td>10</td>\n",
       "      <td>1500000</td>\n",
       "    </tr>\n",
       "  </tbody>\n",
       "</table>\n",
       "</div>"
      ],
      "text/plain": [
       "      Tanggal    Produk    Kategori  Harga Satuan  Jumlah Terjual  \\\n",
       "0  2024-07-01    Laptop  Elektronik      15000000               5   \n",
       "2  2024-07-02    Laptop  Elektronik      15500000               3   \n",
       "3  2024-07-03   Monitor  Elektronik       3500000               7   \n",
       "4  2024-07-03  Keyboard   Aksesoris        750000               8   \n",
       "5  2024-07-04     Mouse   Aksesoris        160000              12   \n",
       "1  2024-07-01     Mouse   Aksesoris        150000              10   \n",
       "\n",
       "   Total Pendapatan  \n",
       "0          75000000  \n",
       "2          46500000  \n",
       "3          24500000  \n",
       "4           6000000  \n",
       "5           1920000  \n",
       "1           1500000  "
      ]
     },
     "execution_count": 68,
     "metadata": {},
     "output_type": "execute_result"
    }
   ],
   "source": [
    "import numpy as np\n",
    "\n",
    "                                   # honestly, di projek nyata np.array itu jarang dipakai, karena pandas sudah sangat powerful \n",
    "                                   # atau pandas sendiri sudah dibangun di atas numpy (tujuan edukasi aja kali ya)                                  \n",
    "df_penjualan['Total Pendapatan'] = np.array(df_penjualan['Harga Satuan']) * np.array(df_penjualan['Jumlah Terjual'])\n",
    "                                                                # inplace=True melakukan perubahan pada df_penjualan langsung atau dataframe aslinya\n",
    "df_penjualan.sort_values(by='Total Pendapatan', ascending=False, inplace=True)\n",
    "df_penjualan\n",
    "\n",
    "\n",
    "#another way hanya lebih lambat\n",
    "# total_pendapatan = []\n",
    "\n",
    "# for i in range(len(df_penjualan)):\n",
    "#     harga = df_penjualan.loc[i, 'Harga Satuan']\n",
    "#     jumlah = df_penjualan.loc[i, 'Jumlah Terjual']\n",
    "#     total = harga * jumlah\n",
    "#     total_pendapatan.append(total)\n",
    "\n",
    "# df_penjualan['Total Pendapatan'] = total_pendapatan\n",
    "# df_penjualan.sort_values(by='Total Pendapatan', ascending=False, inplace=True)\n",
    "\n"
   ]
  },
  {
   "cell_type": "markdown",
   "id": "cc7a04db",
   "metadata": {},
   "source": [
    "---"
   ]
  },
  {
   "cell_type": "markdown",
   "id": "d915f75b",
   "metadata": {},
   "source": [
    "**3: Analisis Data (Filtering & Logika)**\n",
    "\n",
    "***Manajer ingin mengetahui beberapa hal spesifik:***\n",
    "- Transaksi \"Besar\": Tampilkan semua transaksi di mana 'Total Pendapatan' lebih dari Rp 20.000.000.\n",
    "- Penjualan Aksesoris Laris: Tampilkan semua transaksi dari kategori 'Aksesoris' DAN 'Jumlah Terjual' lebih dari 9 unit."
   ]
  },
  {
   "cell_type": "code",
   "execution_count": 69,
   "id": "67c53922",
   "metadata": {},
   "outputs": [
    {
     "name": "stdout",
     "output_type": "stream",
     "text": [
      "\n",
      "Tabel beberapa produk dengan transaksi Terbesar\n"
     ]
    },
    {
     "data": {
      "application/vnd.microsoft.datawrangler.viewer.v0+json": {
       "columns": [
        {
         "name": "index",
         "rawType": "int64",
         "type": "integer"
        },
        {
         "name": "Tanggal",
         "rawType": "object",
         "type": "string"
        },
        {
         "name": "Produk",
         "rawType": "object",
         "type": "string"
        },
        {
         "name": "Kategori",
         "rawType": "object",
         "type": "string"
        },
        {
         "name": "Harga Satuan",
         "rawType": "int64",
         "type": "integer"
        },
        {
         "name": "Jumlah Terjual",
         "rawType": "int64",
         "type": "integer"
        },
        {
         "name": "Total Pendapatan",
         "rawType": "int64",
         "type": "integer"
        }
       ],
       "ref": "e7beaf46-be7c-45c8-95ca-eb6dbc2e1a84",
       "rows": [
        [
         "0",
         "2024-07-01",
         "Laptop",
         "Elektronik",
         "15000000",
         "5",
         "75000000"
        ],
        [
         "2",
         "2024-07-02",
         "Laptop",
         "Elektronik",
         "15500000",
         "3",
         "46500000"
        ],
        [
         "3",
         "2024-07-03",
         "Monitor",
         "Elektronik",
         "3500000",
         "7",
         "24500000"
        ]
       ],
       "shape": {
        "columns": 6,
        "rows": 3
       }
      },
      "text/html": [
       "<div>\n",
       "<style scoped>\n",
       "    .dataframe tbody tr th:only-of-type {\n",
       "        vertical-align: middle;\n",
       "    }\n",
       "\n",
       "    .dataframe tbody tr th {\n",
       "        vertical-align: top;\n",
       "    }\n",
       "\n",
       "    .dataframe thead th {\n",
       "        text-align: right;\n",
       "    }\n",
       "</style>\n",
       "<table border=\"1\" class=\"dataframe\">\n",
       "  <thead>\n",
       "    <tr style=\"text-align: right;\">\n",
       "      <th></th>\n",
       "      <th>Tanggal</th>\n",
       "      <th>Produk</th>\n",
       "      <th>Kategori</th>\n",
       "      <th>Harga Satuan</th>\n",
       "      <th>Jumlah Terjual</th>\n",
       "      <th>Total Pendapatan</th>\n",
       "    </tr>\n",
       "  </thead>\n",
       "  <tbody>\n",
       "    <tr>\n",
       "      <th>0</th>\n",
       "      <td>2024-07-01</td>\n",
       "      <td>Laptop</td>\n",
       "      <td>Elektronik</td>\n",
       "      <td>15000000</td>\n",
       "      <td>5</td>\n",
       "      <td>75000000</td>\n",
       "    </tr>\n",
       "    <tr>\n",
       "      <th>2</th>\n",
       "      <td>2024-07-02</td>\n",
       "      <td>Laptop</td>\n",
       "      <td>Elektronik</td>\n",
       "      <td>15500000</td>\n",
       "      <td>3</td>\n",
       "      <td>46500000</td>\n",
       "    </tr>\n",
       "    <tr>\n",
       "      <th>3</th>\n",
       "      <td>2024-07-03</td>\n",
       "      <td>Monitor</td>\n",
       "      <td>Elektronik</td>\n",
       "      <td>3500000</td>\n",
       "      <td>7</td>\n",
       "      <td>24500000</td>\n",
       "    </tr>\n",
       "  </tbody>\n",
       "</table>\n",
       "</div>"
      ],
      "text/plain": [
       "      Tanggal   Produk    Kategori  Harga Satuan  Jumlah Terjual  \\\n",
       "0  2024-07-01   Laptop  Elektronik      15000000               5   \n",
       "2  2024-07-02   Laptop  Elektronik      15500000               3   \n",
       "3  2024-07-03  Monitor  Elektronik       3500000               7   \n",
       "\n",
       "   Total Pendapatan  \n",
       "0          75000000  \n",
       "2          46500000  \n",
       "3          24500000  "
      ]
     },
     "execution_count": 69,
     "metadata": {},
     "output_type": "execute_result"
    }
   ],
   "source": [
    "# 1. Transaksi \"Besar\": Tampilkan semua transaksi di mana 'Total Pendapatan' lebih dari Rp 20.000.000.\n",
    "Transaksi_besar = df_penjualan[df_penjualan['Total Pendapatan'] > 20000000]\n",
    "print(\"\\nTabel beberapa produk dengan transaksi Terbesar\")\n",
    "Transaksi_besar"
   ]
  },
  {
   "cell_type": "code",
   "execution_count": 70,
   "id": "e29ac0bb",
   "metadata": {},
   "outputs": [
    {
     "name": "stdout",
     "output_type": "stream",
     "text": [
      "\n",
      "Tabel beberapa produk Aksesoris yang terjual lebih dari 9 unit\n"
     ]
    },
    {
     "data": {
      "application/vnd.microsoft.datawrangler.viewer.v0+json": {
       "columns": [
        {
         "name": "index",
         "rawType": "int64",
         "type": "integer"
        },
        {
         "name": "Tanggal",
         "rawType": "object",
         "type": "string"
        },
        {
         "name": "Produk",
         "rawType": "object",
         "type": "string"
        },
        {
         "name": "Kategori",
         "rawType": "object",
         "type": "string"
        },
        {
         "name": "Harga Satuan",
         "rawType": "int64",
         "type": "integer"
        },
        {
         "name": "Jumlah Terjual",
         "rawType": "int64",
         "type": "integer"
        },
        {
         "name": "Total Pendapatan",
         "rawType": "int64",
         "type": "integer"
        }
       ],
       "ref": "d646c954-8e90-4e65-a270-9aac0c76eec6",
       "rows": [
        [
         "5",
         "2024-07-04",
         "Mouse",
         "Aksesoris",
         "160000",
         "12",
         "1920000"
        ],
        [
         "1",
         "2024-07-01",
         "Mouse",
         "Aksesoris",
         "150000",
         "10",
         "1500000"
        ]
       ],
       "shape": {
        "columns": 6,
        "rows": 2
       }
      },
      "text/html": [
       "<div>\n",
       "<style scoped>\n",
       "    .dataframe tbody tr th:only-of-type {\n",
       "        vertical-align: middle;\n",
       "    }\n",
       "\n",
       "    .dataframe tbody tr th {\n",
       "        vertical-align: top;\n",
       "    }\n",
       "\n",
       "    .dataframe thead th {\n",
       "        text-align: right;\n",
       "    }\n",
       "</style>\n",
       "<table border=\"1\" class=\"dataframe\">\n",
       "  <thead>\n",
       "    <tr style=\"text-align: right;\">\n",
       "      <th></th>\n",
       "      <th>Tanggal</th>\n",
       "      <th>Produk</th>\n",
       "      <th>Kategori</th>\n",
       "      <th>Harga Satuan</th>\n",
       "      <th>Jumlah Terjual</th>\n",
       "      <th>Total Pendapatan</th>\n",
       "    </tr>\n",
       "  </thead>\n",
       "  <tbody>\n",
       "    <tr>\n",
       "      <th>5</th>\n",
       "      <td>2024-07-04</td>\n",
       "      <td>Mouse</td>\n",
       "      <td>Aksesoris</td>\n",
       "      <td>160000</td>\n",
       "      <td>12</td>\n",
       "      <td>1920000</td>\n",
       "    </tr>\n",
       "    <tr>\n",
       "      <th>1</th>\n",
       "      <td>2024-07-01</td>\n",
       "      <td>Mouse</td>\n",
       "      <td>Aksesoris</td>\n",
       "      <td>150000</td>\n",
       "      <td>10</td>\n",
       "      <td>1500000</td>\n",
       "    </tr>\n",
       "  </tbody>\n",
       "</table>\n",
       "</div>"
      ],
      "text/plain": [
       "      Tanggal Produk   Kategori  Harga Satuan  Jumlah Terjual  \\\n",
       "5  2024-07-04  Mouse  Aksesoris        160000              12   \n",
       "1  2024-07-01  Mouse  Aksesoris        150000              10   \n",
       "\n",
       "   Total Pendapatan  \n",
       "5           1920000  \n",
       "1           1500000  "
      ]
     },
     "execution_count": 70,
     "metadata": {},
     "output_type": "execute_result"
    }
   ],
   "source": [
    "# 2. Penjualan Aksesoris Laris: Tampilkan semua transaksi dari kategori 'Aksesoris' DAN 'Jumlah Terjual' lebih dari 9 unit.\n",
    "aksesori_laris = df_penjualan[(df_penjualan['Kategori'] == 'Aksesoris') & (df_penjualan['Jumlah Terjual'] > 9)]\n",
    "print(\"\\nTabel beberapa produk Aksesoris yang terjual lebih dari 9 unit\")\n",
    "aksesori_laris\n"
   ]
  },
  {
   "cell_type": "markdown",
   "id": "0af02e3d",
   "metadata": {},
   "source": [
    "-----"
   ]
  },
  {
   "cell_type": "markdown",
   "id": "2ac51343",
   "metadata": {},
   "source": [
    "**Langkah 4: Visualisasi Data (Matplotlib)**\n",
    "\n",
    "***Buat dua visualisasi sederhana untuk laporan:***\n",
    "- Pendapatan per Kategori: Buat sebuah Bar Chart yang menunjukkan total pendapatan untuk setiap kategori ('Elektronik' vs 'Aksesoris').\n",
    "    - Petunjuk: Anda mungkin perlu menggunakan metode .groupby('Kategori')['Total Pendapatan'].sum() untuk mendapatkan datanya terlebih dahulu.\n",
    "\n",
    "- Hubungan Harga dan Jumlah Terjual: Buat sebuah Scatter Plot untuk melihat apakah ada hubungan antara 'Harga Satuan' (sumbu x) dan 'Jumlah Terjual' (sumbu y). Beri judul dan label yang sesuai pada plot Anda."
   ]
  },
  {
   "cell_type": "code",
   "execution_count": 71,
   "id": "eb3aa49b",
   "metadata": {},
   "outputs": [
    {
     "name": "stdout",
     "output_type": "stream",
     "text": [
      "total pendapatan tiap kategori\n",
      "      Kategori  Total Pendapatan\n",
      "0   Aksesoris           9420000\n",
      "1  Elektronik         146000000\n"
     ]
    },
    {
     "data": {
      "image/png": "[encoded data removed]",
      "text/plain": [
       "<Figure size 640x480 with 1 Axes>"
      ]
     },
     "metadata": {},
     "output_type": "display_data"
    }
   ],
   "source": [
    "import matplotlib.pyplot as plt\n",
    "\n",
    "# 1. pendapatan_per_kategori\n",
    "total_pendapata_per_kategori = df_penjualan.groupby('Kategori')['Total Pendapatan'].sum().reset_index()\n",
    "print(\"total pendapatan tiap kategori\\n\",total_pendapata_per_kategori)\n",
    "\n",
    "total_pendapata_per_kategori.plot(kind='bar', x='Kategori', y='Total Pendapatan')\n",
    "plt.title(' Grafik Total Pendapatan Perkategori')\n",
    "plt.xlabel('Kategori')\n",
    "plt.xticks(rotation=0)\n",
    "plt.ylabel('Total Pendapatan')\n",
    "plt.show()"
   ]
  },
  {
   "cell_type": "code",
   "execution_count": 72,
   "id": "1df477bc",
   "metadata": {},
   "outputs": [
    {
     "data": {
      "image/png": "[encoded data removed]",
      "text/plain": [
       "<Figure size 640x480 with 1 Axes>"
      ]
     },
     "metadata": {},
     "output_type": "display_data"
    },
    {
     "name": "stdout",
     "output_type": "stream",
     "text": [
      "Korelasi antara Harga Satuan dan Jumlah Terjual: -0.89\n"
     ]
    }
   ],
   "source": [
    "# 2. Hubungan Harga dan Jumlah Terjual\n",
    "\n",
    "plt.scatter(df_penjualan['Harga Satuan'], df_penjualan['Jumlah Terjual'])\n",
    "plt.xlabel(\"Harga Satuan\")\n",
    "plt.ylabel(\"jumlah Terjual\")\n",
    "plt.title(\"Scatter Plot Harga Satuan vs Jumlah Terjual\")\n",
    "plt.show()\n",
    "\n",
    "\n",
    "#hitung korelasi suhu dan curah hujan\n",
    "korelasi = np.corrcoef(df_penjualan['Harga Satuan'], df_penjualan['Jumlah Terjual'],)[0, 1]\n",
    "print(f\"Korelasi antara Harga Satuan dan Jumlah Terjual: {korelasi:.2f}\")"
   ]
  },
  {
   "cell_type": "markdown",
   "id": "6f3ddeb0",
   "metadata": {},
   "source": [
    "semakin mahal harga suatu barang, semakin sedikit jumlah yang terjual. Ini adalah wawasan bisnis yang sangat penting."
   ]
  }
 ],
 "metadata": {
  "kernelspec": {
   "display_name": "Python 3",
   "language": "python",
   "name": "python3"
  },
  "language_info": {
   "codemirror_mode": {
    "name": "ipython",
    "version": 3
   },
   "file_extension": ".py",
   "mimetype": "text/x-python",
   "name": "python",
   "nbconvert_exporter": "python",
   "pygments_lexer": "ipython3",
   "version": "3.12.4"
  }
 },
 "nbformat": 4,
 "nbformat_minor": 5
}
