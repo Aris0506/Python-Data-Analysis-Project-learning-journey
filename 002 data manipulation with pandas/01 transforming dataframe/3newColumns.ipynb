{
 "cells": [
  {
   "cell_type": "code",
   "execution_count": null,
   "id": "405394de",
   "metadata": {},
   "outputs": [],
   "source": [
    "# Adding new columns\n",
    "\n",
    "# Add total col as sum of individuals and family_members\n",
    "homelessness[\"total\"] = homelessness[\"individuals\"] + homelessness[\"family_members\"]\n",
    "\n",
    "# Add p_homeless col as proportion of total homeless population to the state population\n",
    "homelessness[\"p_homeless\"] = homelessness[\"total\"] / homelessness[\"state_pop\"]\n",
    "\n",
    "# See the result\n",
    "print(homelessness)\n",
    "\n",
    "\n",
    "\n"
   ]
  }
 ],
 "metadata": {
  "language_info": {
   "name": "python"
  }
 },
 "nbformat": 4,
 "nbformat_minor": 5
}
