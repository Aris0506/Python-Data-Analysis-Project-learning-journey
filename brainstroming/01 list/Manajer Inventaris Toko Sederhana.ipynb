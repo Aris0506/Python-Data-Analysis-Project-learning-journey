{
 "cells": [
  {
   "cell_type": "markdown",
   "id": "a87ad35a",
   "metadata": {},
   "source": [
    "**Anda adalah seorang analis data junior di sebuah toko ritel kecil. Bos Anda memberi Anda beberapa data penjualan harian dalam format yang sedikit berantakan. Tugas Anda adalah `membersihkan dan menganalisisnya hanya menggunakan List dan Fungsi List Bawaan (seperti .append(), .remove(), .sort(), len(), sum(), dll)`**\n",
    "\n",
    "---"
   ]
  },
  {
   "cell_type": "markdown",
   "id": "fcc0a4e8",
   "metadata": {},
   "source": [
    "**Skenario & Data Awal:**\n",
    "- Anda memiliki data transaksi hari ini dalam sebuah list bernama `transaksi_kotor.` Setiap elemen adalah jumlah uang yang dibayarkan pelanggan. Sayangnya, ada beberapa kesalahan"
   ]
  },
  {
   "cell_type": "code",
   "execution_count": 12,
   "id": "a78590db",
   "metadata": {},
   "outputs": [
    {
     "name": "stdout",
     "output_type": "stream",
     "text": [
      "[150000, '250000', 50000, 300000, 'DATA_RUSAK', 125000, 75000, -50000, '100000']\n"
     ]
    }
   ],
   "source": [
    "# Data Awal Anda\n",
    "transaksi_kotor = [150000, \"250000\", 50000, 300000, \"DATA_RUSAK\", 125000, 75000, -50000, \"100000\"]\n",
    "\n",
    "print(transaksi_kotor)"
   ]
  },
  {
   "cell_type": "markdown",
   "id": "be5577a1",
   "metadata": {},
   "source": [
    "----\n",
    "\n",
    "**Pembersihan Data (Data Cleaning) Bos Anda ingin tahu berapa total penjualan hari ini, tapi data di atas tidak bisa langsung dijumlahkan.**"
   ]
  },
  {
   "cell_type": "code",
   "execution_count": 13,
   "id": "ac2d8e41",
   "metadata": {},
   "outputs": [
    {
     "name": "stdout",
     "output_type": "stream",
     "text": [
      "[150000, 250000, 50000, 300000, 125000, 75000, 100000]\n"
     ]
    }
   ],
   "source": [
    "transaksi_bersih = []\n",
    "\n",
    "for item in transaksi_kotor:\n",
    "    try:\n",
    "        # ubah ke integer\n",
    "        nilai = int(item)\n",
    "        # hanya ambil nilai positif\n",
    "        if nilai > 0:\n",
    "            transaksi_bersih.append(nilai)\n",
    "    except (ValueError, TypeError):\n",
    "        # kalau data rusak, lewati\n",
    "        continue\n",
    "\n",
    "print(transaksi_bersih)"
   ]
  },
  {
   "cell_type": "markdown",
   "id": "06951277",
   "metadata": {},
   "source": [
    "---\n",
    "\n",
    "**Analisis Statistik Sederhana Setelah data bersih, bos Anda ingin beberapa statistik dasar.**"
   ]
  },
  {
   "cell_type": "code",
   "execution_count": 14,
   "id": "e11af48e",
   "metadata": {},
   "outputs": [
    {
     "name": "stdout",
     "output_type": "stream",
     "text": [
      "total transaksi/ banyaknya transaksi: 7\n",
      "total penjualan: 1050000\n",
      "Avg Sales: 150000.0\n"
     ]
    }
   ],
   "source": [
    "# hitung jumlah transaksi\n",
    "print(\"total transaksi/ banyaknya transaksi:\", len(transaksi_bersih))\n",
    "\n",
    "# hitung total penjualan\n",
    "print(\"total penjualan:\", sum(transaksi_bersih))\n",
    "\n",
    "# rata-rata penjualan\n",
    "import numpy as np\n",
    "print(\"Avg Sales:\", np.mean(transaksi_bersih))"
   ]
  },
  {
   "cell_type": "markdown",
   "id": "14957c85",
   "metadata": {},
   "source": [
    "---\n",
    "**Menemukan Wawasan (Insight) Bos Anda ingin tahu nilai transaksi tertinggi dan terendah yang terjadi hari ini**"
   ]
  },
  {
   "cell_type": "code",
   "execution_count": 18,
   "id": "4f59be7b",
   "metadata": {},
   "outputs": [
    {
     "name": "stdout",
     "output_type": "stream",
     "text": [
      "hasil diurutkan [50000, 75000, 100000, 125000, 150000, 250000, 300000]\n",
      "Transaksi tertinggi: 300000\n",
      "Transaksi terendah: 50000\n"
     ]
    }
   ],
   "source": [
    "# urutkan data ascending\n",
    "urutkan_data = sorted(transaksi_bersih)\n",
    "print(\"hasil diurutkan\", urutkan_data)\n",
    "\n",
    "# max transaksi\n",
    "print(\"Transaksi tertinggi:\", max(transaksi_bersih))\n",
    "# min transaksi\n",
    "print(\"Transaksi terendah:\", min(transaksi_bersih))"
   ]
  },
  {
   "cell_type": "code",
   "execution_count": 20,
   "id": "4732fd49",
   "metadata": {},
   "outputs": [
    {
     "name": "stdout",
     "output_type": "stream",
     "text": [
      "150000.0\n",
      "[50000, 75000, 100000, 125000, 150000, 250000, 300000]\n"
     ]
    }
   ],
   "source": [
    "rata = sum(transaksi_bersih) / len(transaksi_bersih)\n",
    "print(rata)\n",
    "\n",
    "transaksi_bersih.sort()\n",
    "print(transaksi_bersih)\n"
   ]
  },
  {
   "cell_type": "markdown",
   "id": "8ac9652d",
   "metadata": {},
   "source": [
    "-----"
   ]
  }
 ],
 "metadata": {
  "kernelspec": {
   "display_name": "Python 3",
   "language": "python",
   "name": "python3"
  },
  "language_info": {
   "codemirror_mode": {
    "name": "ipython",
    "version": 3
   },
   "file_extension": ".py",
   "mimetype": "text/x-python",
   "name": "python",
   "nbconvert_exporter": "python",
   "pygments_lexer": "ipython3",
   "version": "3.14.0"
  }
 },
 "nbformat": 4,
 "nbformat_minor": 5
}
