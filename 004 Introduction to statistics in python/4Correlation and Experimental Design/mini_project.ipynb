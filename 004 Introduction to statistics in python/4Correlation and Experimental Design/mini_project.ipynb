{
 "cells": [
  {
   "cell_type": "markdown",
   "id": "544d0719",
   "metadata": {},
   "source": [
    "**Proyek: Analisis Korelasi Data Dunia Nyata**\n",
    "\n",
    "**Tujuan:**\n",
    "\n",
    "**Menggunakan Python dengan library seperti pandas, seaborn, dan matplotlib untuk menganalisis hubungan antara dua variabel atau lebih dalam sebuah dataset.**\n",
    "\n",
    "---"
   ]
  },
  {
   "cell_type": "code",
   "execution_count": 2,
   "id": "d0b7dd2a",
   "metadata": {},
   "outputs": [
    {
     "name": "stdout",
     "output_type": "stream",
     "text": [
      "Warning: Looks like you're using an outdated `kagglehub` version (installed: 0.3.12), please consider upgrading to the latest version (0.3.13).\n",
      "Downloading from https://www.kaggle.com/api/v1/datasets/download/rishidamarla/bollywood-movies-dataset?dataset_version_number=1...\n"
     ]
    },
    {
     "name": "stderr",
     "output_type": "stream",
     "text": [
      "100%|██████████| 56.9k/56.9k [00:00<00:00, 102kB/s]"
     ]
    },
    {
     "name": "stdout",
     "output_type": "stream",
     "text": [
      "Extracting files...\n",
      "Path to dataset files: C:\\Users\\USER\\.cache\\kagglehub\\datasets\\rishidamarla\\bollywood-movies-dataset\\versions\\1\n"
     ]
    },
    {
     "name": "stderr",
     "output_type": "stream",
     "text": [
      "\n"
     ]
    }
   ],
   "source": [
    "import kagglehub\n",
    "\n",
    "# Download latest version\n",
    "path = kagglehub.dataset_download(\"rishidamarla/bollywood-movies-dataset\")\n",
    "\n",
    "print(\"Path to dataset files:\", path)\n"
   ]
  },
  {
   "cell_type": "code",
   "execution_count": 3,
   "id": "438d3e1e",
   "metadata": {},
   "outputs": [
    {
     "name": "stdout",
     "output_type": "stream",
     "text": [
      "File di dalam folder dataset:\n",
      "['Data for repository.csv']\n"
     ]
    }
   ],
   "source": [
    "import os\n",
    "\n",
    "# 'path' adalah variabel yang sama dari kode kagglehub Anda\n",
    "# Kode ini akan membuat daftar semua file yang ada di dalam FOLDER 'path'\n",
    "try:\n",
    "    file_list = os.listdir(path)\n",
    "    print(\"File di dalam folder dataset:\")\n",
    "    print(file_list)\n",
    "except Exception as e:\n",
    "    print(\"Terjadi error:\", e)\n",
    "    print(\"\\nPastikan variabel 'path' Anda sudah benar dari langkah sebelumnya.\")"
   ]
  },
  {
   "cell_type": "code",
   "execution_count": 5,
   "id": "e12c35a8",
   "metadata": {},
   "outputs": [
    {
     "name": "stdout",
     "output_type": "stream",
     "text": [
      "Selamat! Data berhasil dimuat. Ini 5 baris pertamanya:\n",
      "         Movie Name Release Period Whether Remake Whether Franchise     Genre New Actor New Director New Music Director         Lead Star         Director   Music Director  Number of Screens  Revenue(INR)  Budget(INR)\n",
      "0       Golden Boys         Normal             No                No  suspense       Yes           No                 No      Jeet Goswami       Ravi Varma    Baba Jagirdar                  5       5000000        85000\n",
      "1     Kaccha Limboo        Holiday             No                No     drama       Yes           No                Yes  Karan Bhanushali    Sagar Ballary  Amardeep Nijjer                 75      15000000       825000\n",
      "2  Not A Love Story        Holiday             No                No  thriller        No           No                 No        Mahie Gill  Ram Gopal Verma   Sandeep Chowta                525      75000000     56700000\n",
      "3        Qaidi Band        Holiday             No                No     drama       Yes           No                 No        Aadar Jain     Habib Faisal     Amit Trivedi                800     210000000      4500000\n",
      "4         Chaatwali        Holiday             No                No     adult       Yes          Yes                Yes        Aadil Khan       Aadil Khan     Babloo Ustad                  1       1000000      1075000\n"
     ]
    }
   ],
   "source": [
    "import pandas as pd\n",
    "import os\n",
    "\n",
    "\n",
    "# --- Pengaturan Tampilan Pandas ---\n",
    "# Menjalankan ini sekali akan membuat semua output tabel lebih rapi\n",
    "\n",
    "# Perintah untuk menampilkan semua kolom (tidak ada yang disembunyikan dengan '...')\n",
    "pd.set_option('display.max_columns', None)\n",
    "\n",
    "# Perintah untuk memperlebar tampilan output agar tidak terpotong ke bawah\n",
    "pd.set_option('display.width', 1000)\n",
    "\n",
    "############################\n",
    "\n",
    "# Variabel 'path' adalah lokasi folder dari kode kagglehub\n",
    "# Kita gabungkan path folder dengan nama file untuk mendapatkan lokasi file yang lengkap\n",
    "file_path = os.path.join(path, 'Data for repository.csv')\n",
    "\n",
    "# Sekarang kita baca file CSV itu menggunakan Pandas\n",
    "try:\n",
    "    df = pd.read_csv(file_path)\n",
    "    \n",
    "    # Mari kita tampilkan 5 baris pertama dari data kita untuk memastikan semuanya berhasil\n",
    "    print(\"Selamat! Data berhasil dimuat. Ini 5 baris pertamanya:\")\n",
    "    print(df.head())\n",
    "    \n",
    "except FileNotFoundError:\n",
    "    print(\"Error: File tidak ditemukan. Pastikan nama file 'spotify_tracks.csv' sudah benar.\")\n",
    "except Exception as e:\n",
    "    print(\"Terjadi error lain:\", e)"
   ]
  },
  {
   "cell_type": "code",
   "execution_count": 9,
   "id": "81ff6998",
   "metadata": {},
   "outputs": [
    {
     "data": {
      "application/vnd.microsoft.datawrangler.viewer.v0+json": {
       "columns": [
        {
         "name": "index",
         "rawType": "object",
         "type": "string"
        },
        {
         "name": "0",
         "rawType": "int64",
         "type": "integer"
        }
       ],
       "ref": "d185b8d6-f7f0-46d8-93de-d9411e768dea",
       "rows": [
        [
         "Movie Name",
         "0"
        ],
        [
         "Release Period",
         "0"
        ],
        [
         "Whether Remake",
         "0"
        ],
        [
         "Whether Franchise",
         "0"
        ],
        [
         "Genre",
         "0"
        ],
        [
         "New Actor",
         "0"
        ],
        [
         "New Director",
         "0"
        ],
        [
         "New Music Director",
         "0"
        ],
        [
         "Lead Star",
         "0"
        ],
        [
         "Director",
         "0"
        ],
        [
         "Music Director",
         "0"
        ],
        [
         "Number of Screens",
         "0"
        ],
        [
         "Revenue(INR)",
         "0"
        ],
        [
         "Budget(INR)",
         "0"
        ]
       ],
       "shape": {
        "columns": 1,
        "rows": 14
       }
      },
      "text/plain": [
       "Movie Name            0\n",
       "Release Period        0\n",
       "Whether Remake        0\n",
       "Whether Franchise     0\n",
       "Genre                 0\n",
       "New Actor             0\n",
       "New Director          0\n",
       "New Music Director    0\n",
       "Lead Star             0\n",
       "Director              0\n",
       "Music Director        0\n",
       "Number of Screens     0\n",
       "Revenue(INR)          0\n",
       "Budget(INR)           0\n",
       "dtype: int64"
      ]
     },
     "execution_count": 9,
     "metadata": {},
     "output_type": "execute_result"
    }
   ],
   "source": [
    "df.isna().sum()"
   ]
  },
  {
   "cell_type": "markdown",
   "id": "bfba71a1",
   "metadata": {},
   "source": []
  }
 ],
 "metadata": {
  "kernelspec": {
   "display_name": "Python 3",
   "language": "python",
   "name": "python3"
  },
  "language_info": {
   "codemirror_mode": {
    "name": "ipython",
    "version": 3
   },
   "file_extension": ".py",
   "mimetype": "text/x-python",
   "name": "python",
   "nbconvert_exporter": "python",
   "pygments_lexer": "ipython3",
   "version": "3.12.4"
  }
 },
 "nbformat": 4,
 "nbformat_minor": 5
}
