{
 "cells": [
  {
   "cell_type": "code",
   "execution_count": null,
   "id": "d4192bb2",
   "metadata": {},
   "outputs": [],
   "source": [
    "#  Calculating a confidence interval\n",
    "\n",
    "# Calculate 95% confidence interval using quantile method\n",
    "lower = np.quantile(late_shipments_boot_distn, 0.025)\n",
    "upper = np.quantile(late_shipments_boot_distn, 0.975)\n",
    "\n",
    "# Print the confidence interval\n",
    "print((lower, upper))"
   ]
  }
 ],
 "metadata": {
  "language_info": {
   "name": "python"
  }
 },
 "nbformat": 4,
 "nbformat_minor": 5
}
