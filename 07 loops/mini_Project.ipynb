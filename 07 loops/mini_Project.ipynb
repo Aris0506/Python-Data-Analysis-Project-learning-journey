{
 "cells": [
  {
   "cell_type": "markdown",
   "id": "040fb8f6",
   "metadata": {},
   "source": [
    "**Proyek Akhir: Mengkategorikan Data Mobil**\n",
    "\n",
    "***Skenario: Manajer Anda sangat puas dengan analisis sebelumnya. Sekarang, ia ingin Anda menambahkan sebuah kolom baru ke dalam data mobil untuk mengkategorikan setiap mobil berdasarkan harganya. Ini akan membantu tim penjualan untuk dengan cepat merekomendasikan mobil sesuai budget pelanggan.***\n",
    "\n",
    "---"
   ]
  },
  {
   "cell_type": "markdown",
   "id": "86971ef0",
   "metadata": {},
   "source": [
    "**Tantangan**\n",
    "\n",
    "1. Buat Loop untuk Kategorisasi Harga\n",
    "- Buat sebuah list kosong bernama kategori_harga.\n",
    "- Gunakan for loop dengan .iterrows() untuk melakukan iterasi pada setiap baris di df_mobil_lengkap.\n",
    "- Di dalam loop, gunakan struktur if-elif-else untuk memeriksa kolom harga_juta pada setiap baris (baris['harga_juta']):\n",
    "- Jika harganya di atas 280 juta, tambahkan string 'Premium' ke dalam list kategori_harga.\n",
    "- Jika tidak, periksa apakah harganya di atas 200 juta. Jika ya, tambahkan string 'Menengah' ke list kategori_harga.\n",
    "- Jika tidak keduanya, tambahkan string 'Ekonomis' ke list kategori_harga.\n",
    "\n",
    "2. Tambahkan Kolom Baru ke DataFrame\n",
    "\n",
    "- Setelah loop selesai, tambahkan kategori_harga sebagai kolom baru bernama 'kategori' ke dalam df_mobil_lengkap.\n",
    "- Cetak keseluruhan df_mobil_lengkap untuk melihat hasilnya.\n",
    "\n",
    "3. (Tantangan Ekstra) Hitung Jumlah Mobil per Kategori\n",
    "- Setelah kolom baru ditambahkan, gunakan metode .value_counts() pada kolom 'kategori' untuk menghitung ada berapa banyak mobil di setiap kategori harga.\n",
    "   - Contoh: df_mobil_lengkap['kategori'].value_counts()\n",
    "\n",
    "---"
   ]
  },
  {
   "cell_type": "markdown",
   "id": "4a1e30a0",
   "metadata": {},
   "source": [
    "**Data yang Digunakan**"
   ]
  },
  {
   "cell_type": "code",
   "execution_count": 26,
   "id": "ebf98e4f",
   "metadata": {},
   "outputs": [
    {
     "data": {
      "application/vnd.microsoft.datawrangler.viewer.v0+json": {
       "columns": [
        {
         "name": "index",
         "rawType": "int64",
         "type": "integer"
        },
        {
         "name": "merek",
         "rawType": "object",
         "type": "string"
        },
        {
         "name": "tahun",
         "rawType": "int64",
         "type": "integer"
        },
        {
         "name": "harga_juta",
         "rawType": "int64",
         "type": "integer"
        },
        {
         "name": "transmisi",
         "rawType": "object",
         "type": "string"
        },
        {
         "name": "jarak_tempuh_km",
         "rawType": "int64",
         "type": "integer"
        }
       ],
       "ref": "4829a592-84d4-46f1-b2e8-aecb2851ae2c",
       "rows": [
        [
         "0",
         "Toyota",
         "2019",
         "250",
         "Automatic",
         "40000"
        ],
        [
         "1",
         "Honda",
         "2020",
         "280",
         "Manual",
         "30000"
        ],
        [
         "2",
         "Suzuki",
         "2018",
         "180",
         "Manual",
         "60000"
        ],
        [
         "3",
         "Daihatsu",
         "2019",
         "170",
         "Manual",
         "50000"
        ],
        [
         "4",
         "Mitsubishi",
         "2021",
         "300",
         "Automatic",
         "15000"
        ]
       ],
       "shape": {
        "columns": 5,
        "rows": 5
       }
      },
      "text/html": [
       "<div>\n",
       "<style scoped>\n",
       "    .dataframe tbody tr th:only-of-type {\n",
       "        vertical-align: middle;\n",
       "    }\n",
       "\n",
       "    .dataframe tbody tr th {\n",
       "        vertical-align: top;\n",
       "    }\n",
       "\n",
       "    .dataframe thead th {\n",
       "        text-align: right;\n",
       "    }\n",
       "</style>\n",
       "<table border=\"1\" class=\"dataframe\">\n",
       "  <thead>\n",
       "    <tr style=\"text-align: right;\">\n",
       "      <th></th>\n",
       "      <th>merek</th>\n",
       "      <th>tahun</th>\n",
       "      <th>harga_juta</th>\n",
       "      <th>transmisi</th>\n",
       "      <th>jarak_tempuh_km</th>\n",
       "    </tr>\n",
       "  </thead>\n",
       "  <tbody>\n",
       "    <tr>\n",
       "      <th>0</th>\n",
       "      <td>Toyota</td>\n",
       "      <td>2019</td>\n",
       "      <td>250</td>\n",
       "      <td>Automatic</td>\n",
       "      <td>40000</td>\n",
       "    </tr>\n",
       "    <tr>\n",
       "      <th>1</th>\n",
       "      <td>Honda</td>\n",
       "      <td>2020</td>\n",
       "      <td>280</td>\n",
       "      <td>Manual</td>\n",
       "      <td>30000</td>\n",
       "    </tr>\n",
       "    <tr>\n",
       "      <th>2</th>\n",
       "      <td>Suzuki</td>\n",
       "      <td>2018</td>\n",
       "      <td>180</td>\n",
       "      <td>Manual</td>\n",
       "      <td>60000</td>\n",
       "    </tr>\n",
       "    <tr>\n",
       "      <th>3</th>\n",
       "      <td>Daihatsu</td>\n",
       "      <td>2019</td>\n",
       "      <td>170</td>\n",
       "      <td>Manual</td>\n",
       "      <td>50000</td>\n",
       "    </tr>\n",
       "    <tr>\n",
       "      <th>4</th>\n",
       "      <td>Mitsubishi</td>\n",
       "      <td>2021</td>\n",
       "      <td>300</td>\n",
       "      <td>Automatic</td>\n",
       "      <td>15000</td>\n",
       "    </tr>\n",
       "  </tbody>\n",
       "</table>\n",
       "</div>"
      ],
      "text/plain": [
       "        merek  tahun  harga_juta  transmisi  jarak_tempuh_km\n",
       "0      Toyota   2019         250  Automatic            40000\n",
       "1       Honda   2020         280     Manual            30000\n",
       "2      Suzuki   2018         180     Manual            60000\n",
       "3    Daihatsu   2019         170     Manual            50000\n",
       "4  Mitsubishi   2021         300  Automatic            15000"
      ]
     },
     "execution_count": 26,
     "metadata": {},
     "output_type": "execute_result"
    }
   ],
   "source": [
    "import pandas as pd\n",
    "\n",
    "data_mobil_lengkap = {\n",
    "    'merek': ['Toyota', 'Honda', 'Suzuki', 'Daihatsu', 'Mitsubishi', 'Nissan', 'Mazda'],\n",
    "    'tahun': [2019, 2020, 2018, 2019, 2021, 2017, 2020],\n",
    "    'harga_juta': [250, 280, 180, 170, 300, 190, 290],\n",
    "    'transmisi': ['Automatic', 'Manual', 'Manual', 'Manual', 'Automatic', 'Automatic', 'Automatic'],\n",
    "    'jarak_tempuh_km': [40000, 30000, 60000, 50000, 15000, 70000, 25000]\n",
    "}\n",
    "\n",
    "df_mobil_lengkap = pd.DataFrame(data_mobil_lengkap)\n",
    "df_mobil_lengkap.head()\n"
   ]
  },
  {
   "cell_type": "markdown",
   "id": "0a4edb59",
   "metadata": {},
   "source": [
    "-------"
   ]
  },
  {
   "cell_type": "markdown",
   "id": "34b89d0a",
   "metadata": {},
   "source": [
    "**1. Buat Loop untuk Kategorisasi Harga (mengkategorisasikan harga)** "
   ]
  },
  {
   "cell_type": "code",
   "execution_count": 27,
   "id": "17c3557b",
   "metadata": {},
   "outputs": [],
   "source": [
    "kategori_harga = []\n",
    "\n",
    "for _, baris in df_mobil_lengkap.iterrows():\n",
    "    if baris['harga_juta'] > 280:\n",
    "        kategori_harga.append('Premium')\n",
    "    elif baris['harga_juta'] > 200:\n",
    "        kategori_harga.append('Menengah')\n",
    "    else:\n",
    "        kategori_harga.append('Ekonomis')\n"
   ]
  },
  {
   "cell_type": "markdown",
   "id": "e6a0d615",
   "metadata": {},
   "source": [
    "---"
   ]
  },
  {
   "cell_type": "markdown",
   "id": "c0127e45",
   "metadata": {},
   "source": [
    "**2. Tambahkan Kolom Baru ke DataFrame**"
   ]
  },
  {
   "cell_type": "code",
   "execution_count": 28,
   "id": "c588fbf2",
   "metadata": {},
   "outputs": [
    {
     "data": {
      "application/vnd.microsoft.datawrangler.viewer.v0+json": {
       "columns": [
        {
         "name": "index",
         "rawType": "int64",
         "type": "integer"
        },
        {
         "name": "merek",
         "rawType": "object",
         "type": "string"
        },
        {
         "name": "tahun",
         "rawType": "int64",
         "type": "integer"
        },
        {
         "name": "harga_juta",
         "rawType": "int64",
         "type": "integer"
        },
        {
         "name": "transmisi",
         "rawType": "object",
         "type": "string"
        },
        {
         "name": "jarak_tempuh_km",
         "rawType": "int64",
         "type": "integer"
        },
        {
         "name": "kategori_harga",
         "rawType": "object",
         "type": "string"
        }
       ],
       "ref": "1db0fe9a-99cb-45ab-885c-ef78fa054009",
       "rows": [
        [
         "4",
         "Mitsubishi",
         "2021",
         "300",
         "Automatic",
         "15000",
         "Premium"
        ],
        [
         "6",
         "Mazda",
         "2020",
         "290",
         "Automatic",
         "25000",
         "Premium"
        ],
        [
         "0",
         "Toyota",
         "2019",
         "250",
         "Automatic",
         "40000",
         "Menengah"
        ],
        [
         "1",
         "Honda",
         "2020",
         "280",
         "Manual",
         "30000",
         "Menengah"
        ],
        [
         "2",
         "Suzuki",
         "2018",
         "180",
         "Manual",
         "60000",
         "Ekonomis"
        ],
        [
         "3",
         "Daihatsu",
         "2019",
         "170",
         "Manual",
         "50000",
         "Ekonomis"
        ],
        [
         "5",
         "Nissan",
         "2017",
         "190",
         "Automatic",
         "70000",
         "Ekonomis"
        ]
       ],
       "shape": {
        "columns": 6,
        "rows": 7
       }
      },
      "text/html": [
       "<div>\n",
       "<style scoped>\n",
       "    .dataframe tbody tr th:only-of-type {\n",
       "        vertical-align: middle;\n",
       "    }\n",
       "\n",
       "    .dataframe tbody tr th {\n",
       "        vertical-align: top;\n",
       "    }\n",
       "\n",
       "    .dataframe thead th {\n",
       "        text-align: right;\n",
       "    }\n",
       "</style>\n",
       "<table border=\"1\" class=\"dataframe\">\n",
       "  <thead>\n",
       "    <tr style=\"text-align: right;\">\n",
       "      <th></th>\n",
       "      <th>merek</th>\n",
       "      <th>tahun</th>\n",
       "      <th>harga_juta</th>\n",
       "      <th>transmisi</th>\n",
       "      <th>jarak_tempuh_km</th>\n",
       "      <th>kategori_harga</th>\n",
       "    </tr>\n",
       "  </thead>\n",
       "  <tbody>\n",
       "    <tr>\n",
       "      <th>4</th>\n",
       "      <td>Mitsubishi</td>\n",
       "      <td>2021</td>\n",
       "      <td>300</td>\n",
       "      <td>Automatic</td>\n",
       "      <td>15000</td>\n",
       "      <td>Premium</td>\n",
       "    </tr>\n",
       "    <tr>\n",
       "      <th>6</th>\n",
       "      <td>Mazda</td>\n",
       "      <td>2020</td>\n",
       "      <td>290</td>\n",
       "      <td>Automatic</td>\n",
       "      <td>25000</td>\n",
       "      <td>Premium</td>\n",
       "    </tr>\n",
       "    <tr>\n",
       "      <th>0</th>\n",
       "      <td>Toyota</td>\n",
       "      <td>2019</td>\n",
       "      <td>250</td>\n",
       "      <td>Automatic</td>\n",
       "      <td>40000</td>\n",
       "      <td>Menengah</td>\n",
       "    </tr>\n",
       "    <tr>\n",
       "      <th>1</th>\n",
       "      <td>Honda</td>\n",
       "      <td>2020</td>\n",
       "      <td>280</td>\n",
       "      <td>Manual</td>\n",
       "      <td>30000</td>\n",
       "      <td>Menengah</td>\n",
       "    </tr>\n",
       "    <tr>\n",
       "      <th>2</th>\n",
       "      <td>Suzuki</td>\n",
       "      <td>2018</td>\n",
       "      <td>180</td>\n",
       "      <td>Manual</td>\n",
       "      <td>60000</td>\n",
       "      <td>Ekonomis</td>\n",
       "    </tr>\n",
       "    <tr>\n",
       "      <th>3</th>\n",
       "      <td>Daihatsu</td>\n",
       "      <td>2019</td>\n",
       "      <td>170</td>\n",
       "      <td>Manual</td>\n",
       "      <td>50000</td>\n",
       "      <td>Ekonomis</td>\n",
       "    </tr>\n",
       "    <tr>\n",
       "      <th>5</th>\n",
       "      <td>Nissan</td>\n",
       "      <td>2017</td>\n",
       "      <td>190</td>\n",
       "      <td>Automatic</td>\n",
       "      <td>70000</td>\n",
       "      <td>Ekonomis</td>\n",
       "    </tr>\n",
       "  </tbody>\n",
       "</table>\n",
       "</div>"
      ],
      "text/plain": [
       "        merek  tahun  harga_juta  transmisi  jarak_tempuh_km kategori_harga\n",
       "4  Mitsubishi   2021         300  Automatic            15000        Premium\n",
       "6       Mazda   2020         290  Automatic            25000        Premium\n",
       "0      Toyota   2019         250  Automatic            40000       Menengah\n",
       "1       Honda   2020         280     Manual            30000       Menengah\n",
       "2      Suzuki   2018         180     Manual            60000       Ekonomis\n",
       "3    Daihatsu   2019         170     Manual            50000       Ekonomis\n",
       "5      Nissan   2017         190  Automatic            70000       Ekonomis"
      ]
     },
     "execution_count": 28,
     "metadata": {},
     "output_type": "execute_result"
    }
   ],
   "source": [
    "df_mobil_lengkap['kategori_harga'] = kategori_harga\n",
    "df_mobil_lengkap.sort_values(by='kategori_harga', ascending=False)\n"
   ]
  },
  {
   "cell_type": "markdown",
   "id": "d7a5bc63",
   "metadata": {},
   "source": [
    "---"
   ]
  },
  {
   "cell_type": "markdown",
   "id": "38121095",
   "metadata": {},
   "source": [
    "**3. (Tantangan Ekstra) Hitung Jumlah Mobil per Kategori**"
   ]
  },
  {
   "cell_type": "code",
   "execution_count": 29,
   "id": "00dd2ac3",
   "metadata": {},
   "outputs": [
    {
     "data": {
      "application/vnd.microsoft.datawrangler.viewer.v0+json": {
       "columns": [
        {
         "name": "kategori_harga",
         "rawType": "object",
         "type": "string"
        },
        {
         "name": "count",
         "rawType": "int64",
         "type": "integer"
        }
       ],
       "ref": "b10782f1-56ad-49b0-975b-e1659bce4977",
       "rows": [
        [
         "Ekonomis",
         "3"
        ],
        [
         "Menengah",
         "2"
        ],
        [
         "Premium",
         "2"
        ]
       ],
       "shape": {
        "columns": 1,
        "rows": 3
       }
      },
      "text/plain": [
       "kategori_harga\n",
       "Ekonomis    3\n",
       "Menengah    2\n",
       "Premium     2\n",
       "Name: count, dtype: int64"
      ]
     },
     "execution_count": 29,
     "metadata": {},
     "output_type": "execute_result"
    }
   ],
   "source": [
    "df_mobil_lengkap['kategori_harga'].value_counts().sort_values(ascending=False)"
   ]
  },
  {
   "cell_type": "markdown",
   "id": "39dcea5e",
   "metadata": {},
   "source": [
    "----"
   ]
  },
  {
   "cell_type": "markdown",
   "id": "f4830ea5",
   "metadata": {},
   "source": [
    "# additonal"
   ]
  },
  {
   "cell_type": "code",
   "execution_count": 30,
   "id": "e883ad43",
   "metadata": {},
   "outputs": [
    {
     "data": {
      "application/vnd.microsoft.datawrangler.viewer.v0+json": {
       "columns": [
        {
         "name": "index",
         "rawType": "int64",
         "type": "integer"
        },
        {
         "name": "merek",
         "rawType": "object",
         "type": "string"
        }
       ],
       "ref": "17a190f2-988c-42e0-abf8-45d1b9f781da",
       "rows": [
        [
         "4",
         "Mitsubishi"
        ],
        [
         "6",
         "Mazda"
        ]
       ],
       "shape": {
        "columns": 1,
        "rows": 2
       }
      },
      "text/plain": [
       "4    Mitsubishi\n",
       "6         Mazda\n",
       "Name: merek, dtype: object"
      ]
     },
     "execution_count": 30,
     "metadata": {},
     "output_type": "execute_result"
    }
   ],
   "source": [
    "\n",
    "\n",
    "# melihat merk mobil yang termasuk kategori premium\n",
    "df_mobil_lengkap[df_mobil_lengkap['kategori_harga'] == 'Premium']['merek']\n"
   ]
  },
  {
   "cell_type": "code",
   "execution_count": 31,
   "id": "aaed23ae",
   "metadata": {},
   "outputs": [
    {
     "data": {
      "application/vnd.microsoft.datawrangler.viewer.v0+json": {
       "columns": [
        {
         "name": "index",
         "rawType": "int64",
         "type": "integer"
        },
        {
         "name": "merek",
         "rawType": "object",
         "type": "string"
        }
       ],
       "ref": "6b924413-2004-4556-b431-726f1c3fbad8",
       "rows": [
        [
         "0",
         "Toyota"
        ],
        [
         "1",
         "Honda"
        ]
       ],
       "shape": {
        "columns": 1,
        "rows": 2
       }
      },
      "text/plain": [
       "0    Toyota\n",
       "1     Honda\n",
       "Name: merek, dtype: object"
      ]
     },
     "execution_count": 31,
     "metadata": {},
     "output_type": "execute_result"
    }
   ],
   "source": [
    "# melihat merk mobil yang termasuk kategori menengah\n",
    "df_mobil_lengkap[df_mobil_lengkap['kategori_harga'] == 'Menengah']['merek']"
   ]
  },
  {
   "cell_type": "code",
   "execution_count": 32,
   "id": "ea49341d",
   "metadata": {},
   "outputs": [
    {
     "data": {
      "application/vnd.microsoft.datawrangler.viewer.v0+json": {
       "columns": [
        {
         "name": "index",
         "rawType": "int64",
         "type": "integer"
        },
        {
         "name": "merek",
         "rawType": "object",
         "type": "string"
        }
       ],
       "ref": "9474e74f-94f2-4e5b-9792-89f35ca851ef",
       "rows": [
        [
         "2",
         "Suzuki"
        ],
        [
         "3",
         "Daihatsu"
        ],
        [
         "5",
         "Nissan"
        ]
       ],
       "shape": {
        "columns": 1,
        "rows": 3
       }
      },
      "text/plain": [
       "2      Suzuki\n",
       "3    Daihatsu\n",
       "5      Nissan\n",
       "Name: merek, dtype: object"
      ]
     },
     "execution_count": 32,
     "metadata": {},
     "output_type": "execute_result"
    }
   ],
   "source": [
    "# melihat merk mobil yang termasuk kategori ekonomis\n",
    "df_mobil_lengkap[df_mobil_lengkap['kategori_harga'] == 'Ekonomis']['merek']"
   ]
  },
  {
   "cell_type": "code",
   "execution_count": 33,
   "id": "88576e1f",
   "metadata": {},
   "outputs": [
    {
     "name": "stdout",
     "output_type": "stream",
     "text": [
      "Mobil dengan harga tertinggi adalah: Mitsubishi\n",
      "Mobil dengan harga terendah adalah: Daihatsu\n"
     ]
    }
   ],
   "source": [
    "# melihat merk mobil dengan harga tertinggi\n",
    "mobil_harga_tinggi = df_mobil_lengkap[df_mobil_lengkap['harga_juta'] == df_mobil_lengkap['harga_juta'].max()]['merek']\n",
    "print(f'Mobil dengan harga tertinggi adalah: {mobil_harga_tinggi.values[0]}')\n",
    "\n",
    "\n",
    "# melihat merk mobil dengan harga terendah\n",
    "mobil_harga_rendah = df_mobil_lengkap[df_mobil_lengkap['harga_juta'] == df_mobil_lengkap['harga_juta'].min()]['merek']\n",
    "print(f'Mobil dengan harga terendah adalah: {mobil_harga_rendah.values[0]}')"
   ]
  },
  {
   "cell_type": "code",
   "execution_count": null,
   "id": "79b01af9",
   "metadata": {},
   "outputs": [],
   "source": []
  }
 ],
 "metadata": {
  "kernelspec": {
   "display_name": "Python 3",
   "language": "python",
   "name": "python3"
  },
  "language_info": {
   "codemirror_mode": {
    "name": "ipython",
    "version": 3
   },
   "file_extension": ".py",
   "mimetype": "text/x-python",
   "name": "python",
   "nbconvert_exporter": "python",
   "pygments_lexer": "ipython3",
   "version": "3.12.4"
  }
 },
 "nbformat": 4,
 "nbformat_minor": 5
}
