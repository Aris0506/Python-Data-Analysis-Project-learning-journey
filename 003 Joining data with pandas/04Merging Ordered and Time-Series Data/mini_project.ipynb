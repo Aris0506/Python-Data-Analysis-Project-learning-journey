{
 "cells": [
  {
   "cell_type": "markdown",
   "id": "2236a7ba",
   "metadata": {},
   "source": [
    "**Tantangan Proyek: Analisis Data Sensor Cuaca**\n",
    "\n",
    "**Bayangkan Anda memiliki data dari dua stasiun cuaca yang berbeda. Data ini perlu digabungkan dan dianalisis.**\n",
    "\n",
    "---"
   ]
  },
  {
   "cell_type": "markdown",
   "id": "e9a00bb9",
   "metadata": {},
   "source": [
    "**Dataset:**"
   ]
  },
  {
   "cell_type": "markdown",
   "id": "80c5f02a",
   "metadata": {},
   "source": [
    "**stasiun_A.csv:**\n",
    "\n",
    "- timestamp: Stempel waktu setiap 1 jam (misalnya, 09:00, 10:00, 11:00).\n",
    "- temperature_A: Suhu yang tercatat di stasiun A.\n",
    "- humidity_A: Kelembapan yang tercatat di stasiun A.\n",
    "\n",
    "**stasiun_B_events.csv:**\n",
    "- event_time: Stempel waktu ketika peristiwa cuaca signifikan terjadi (misalnya, 09:13, 10:47). Waktunya tidak beraturan.\n",
    "- event_type: Jenis peristiwa (misalnya, 'Hujan Ringan', 'Angin Kencang', 'Cerah')"
   ]
  },
  {
   "cell_type": "code",
   "execution_count": 116,
   "id": "9a5a9f6a",
   "metadata": {},
   "outputs": [
    {
     "name": "stdout",
     "output_type": "stream",
     "text": [
      "--- Stasiun A ---\n"
     ]
    },
    {
     "data": {
      "application/vnd.microsoft.datawrangler.viewer.v0+json": {
       "columns": [
        {
         "name": "index",
         "rawType": "int64",
         "type": "integer"
        },
        {
         "name": "timestamp",
         "rawType": "datetime64[ns]",
         "type": "datetime"
        },
        {
         "name": "temperature_A",
         "rawType": "float64",
         "type": "float"
        },
        {
         "name": "humidity_A",
         "rawType": "float64",
         "type": "float"
        }
       ],
       "ref": "e1ae06e0-446e-49b9-8b86-8b771ffc4175",
       "rows": [
        [
         "0",
         "2023-10-27 08:00:00",
         "28.5",
         "85.0"
        ],
        [
         "1",
         "2023-10-27 09:00:00",
         "29.1",
         "82.0"
        ],
        [
         "2",
         "2023-10-27 10:00:00",
         "30.2",
         "78.0"
        ],
        [
         "3",
         "2023-10-27 11:00:00",
         "31.5",
         "75.0"
        ],
        [
         "4",
         "2023-10-27 12:00:00",
         null,
         null
        ],
        [
         "5",
         "2023-10-27 13:00:00",
         "32.0",
         "71.0"
        ],
        [
         "6",
         "2023-10-27 14:00:00",
         "32.5",
         "68.0"
        ],
        [
         "7",
         "2023-10-27 15:00:00",
         "31.8",
         "72.0"
        ],
        [
         "8",
         "2023-10-27 16:00:00",
         "30.5",
         "77.0"
        ]
       ],
       "shape": {
        "columns": 3,
        "rows": 9
       }
      },
      "text/html": [
       "<div>\n",
       "<style scoped>\n",
       "    .dataframe tbody tr th:only-of-type {\n",
       "        vertical-align: middle;\n",
       "    }\n",
       "\n",
       "    .dataframe tbody tr th {\n",
       "        vertical-align: top;\n",
       "    }\n",
       "\n",
       "    .dataframe thead th {\n",
       "        text-align: right;\n",
       "    }\n",
       "</style>\n",
       "<table border=\"1\" class=\"dataframe\">\n",
       "  <thead>\n",
       "    <tr style=\"text-align: right;\">\n",
       "      <th></th>\n",
       "      <th>timestamp</th>\n",
       "      <th>temperature_A</th>\n",
       "      <th>humidity_A</th>\n",
       "    </tr>\n",
       "  </thead>\n",
       "  <tbody>\n",
       "    <tr>\n",
       "      <th>0</th>\n",
       "      <td>2023-10-27 08:00:00</td>\n",
       "      <td>28.5</td>\n",
       "      <td>85.0</td>\n",
       "    </tr>\n",
       "    <tr>\n",
       "      <th>1</th>\n",
       "      <td>2023-10-27 09:00:00</td>\n",
       "      <td>29.1</td>\n",
       "      <td>82.0</td>\n",
       "    </tr>\n",
       "    <tr>\n",
       "      <th>2</th>\n",
       "      <td>2023-10-27 10:00:00</td>\n",
       "      <td>30.2</td>\n",
       "      <td>78.0</td>\n",
       "    </tr>\n",
       "    <tr>\n",
       "      <th>3</th>\n",
       "      <td>2023-10-27 11:00:00</td>\n",
       "      <td>31.5</td>\n",
       "      <td>75.0</td>\n",
       "    </tr>\n",
       "    <tr>\n",
       "      <th>4</th>\n",
       "      <td>2023-10-27 12:00:00</td>\n",
       "      <td>NaN</td>\n",
       "      <td>NaN</td>\n",
       "    </tr>\n",
       "    <tr>\n",
       "      <th>5</th>\n",
       "      <td>2023-10-27 13:00:00</td>\n",
       "      <td>32.0</td>\n",
       "      <td>71.0</td>\n",
       "    </tr>\n",
       "    <tr>\n",
       "      <th>6</th>\n",
       "      <td>2023-10-27 14:00:00</td>\n",
       "      <td>32.5</td>\n",
       "      <td>68.0</td>\n",
       "    </tr>\n",
       "    <tr>\n",
       "      <th>7</th>\n",
       "      <td>2023-10-27 15:00:00</td>\n",
       "      <td>31.8</td>\n",
       "      <td>72.0</td>\n",
       "    </tr>\n",
       "    <tr>\n",
       "      <th>8</th>\n",
       "      <td>2023-10-27 16:00:00</td>\n",
       "      <td>30.5</td>\n",
       "      <td>77.0</td>\n",
       "    </tr>\n",
       "  </tbody>\n",
       "</table>\n",
       "</div>"
      ],
      "text/plain": [
       "            timestamp  temperature_A  humidity_A\n",
       "0 2023-10-27 08:00:00           28.5        85.0\n",
       "1 2023-10-27 09:00:00           29.1        82.0\n",
       "2 2023-10-27 10:00:00           30.2        78.0\n",
       "3 2023-10-27 11:00:00           31.5        75.0\n",
       "4 2023-10-27 12:00:00            NaN         NaN\n",
       "5 2023-10-27 13:00:00           32.0        71.0\n",
       "6 2023-10-27 14:00:00           32.5        68.0\n",
       "7 2023-10-27 15:00:00           31.8        72.0\n",
       "8 2023-10-27 16:00:00           30.5        77.0"
      ]
     },
     "execution_count": 116,
     "metadata": {},
     "output_type": "execute_result"
    }
   ],
   "source": [
    "import pandas as pd\n",
    "# from io import StringIO\n",
    "\n",
    "\n",
    "stasiun_a = pd.read_csv('stasiun_A.csv')\n",
    "stasiun_b = pd.read_csv('stasiun_B_events.csv')\n",
    "\n",
    "# Penting: Ubah kolom waktu menjadi tipe data datetime\n",
    "stasiun_a['timestamp'] = pd.to_datetime(stasiun_a['timestamp'])\n",
    "stasiun_b['event_time'] = pd.to_datetime(stasiun_b['event_time'])\n",
    "\n",
    "# Tampilkan DataFrame untuk memeriksa\n",
    "print(\"--- Stasiun A ---\")\n",
    "stasiun_a\n",
    "\n"
   ]
  },
  {
   "cell_type": "code",
   "execution_count": 117,
   "id": "6891d3f7",
   "metadata": {},
   "outputs": [
    {
     "name": "stdout",
     "output_type": "stream",
     "text": [
      "\n",
      "--- Stasiun B ---\n"
     ]
    },
    {
     "data": {
      "application/vnd.microsoft.datawrangler.viewer.v0+json": {
       "columns": [
        {
         "name": "index",
         "rawType": "int64",
         "type": "integer"
        },
        {
         "name": "event_time",
         "rawType": "datetime64[ns]",
         "type": "datetime"
        },
        {
         "name": "event_type",
         "rawType": "object",
         "type": "string"
        }
       ],
       "ref": "c34f5a19-7b58-47d6-8a47-7d90fdd492b9",
       "rows": [
        [
         "0",
         "2023-10-27 09:13:00",
         "Cerah"
        ],
        [
         "1",
         "2023-10-27 10:47:00",
         "Angin Kencang"
        ],
        [
         "2",
         "2023-10-27 13:05:00",
         "Hujan Ringan"
        ],
        [
         "3",
         "2023-10-27 14:15:00",
         "Hujan Ringan"
        ],
        [
         "4",
         "2023-10-27 15:50:00",
         "Angin Kencang"
        ]
       ],
       "shape": {
        "columns": 2,
        "rows": 5
       }
      },
      "text/html": [
       "<div>\n",
       "<style scoped>\n",
       "    .dataframe tbody tr th:only-of-type {\n",
       "        vertical-align: middle;\n",
       "    }\n",
       "\n",
       "    .dataframe tbody tr th {\n",
       "        vertical-align: top;\n",
       "    }\n",
       "\n",
       "    .dataframe thead th {\n",
       "        text-align: right;\n",
       "    }\n",
       "</style>\n",
       "<table border=\"1\" class=\"dataframe\">\n",
       "  <thead>\n",
       "    <tr style=\"text-align: right;\">\n",
       "      <th></th>\n",
       "      <th>event_time</th>\n",
       "      <th>event_type</th>\n",
       "    </tr>\n",
       "  </thead>\n",
       "  <tbody>\n",
       "    <tr>\n",
       "      <th>0</th>\n",
       "      <td>2023-10-27 09:13:00</td>\n",
       "      <td>Cerah</td>\n",
       "    </tr>\n",
       "    <tr>\n",
       "      <th>1</th>\n",
       "      <td>2023-10-27 10:47:00</td>\n",
       "      <td>Angin Kencang</td>\n",
       "    </tr>\n",
       "    <tr>\n",
       "      <th>2</th>\n",
       "      <td>2023-10-27 13:05:00</td>\n",
       "      <td>Hujan Ringan</td>\n",
       "    </tr>\n",
       "    <tr>\n",
       "      <th>3</th>\n",
       "      <td>2023-10-27 14:15:00</td>\n",
       "      <td>Hujan Ringan</td>\n",
       "    </tr>\n",
       "    <tr>\n",
       "      <th>4</th>\n",
       "      <td>2023-10-27 15:50:00</td>\n",
       "      <td>Angin Kencang</td>\n",
       "    </tr>\n",
       "  </tbody>\n",
       "</table>\n",
       "</div>"
      ],
      "text/plain": [
       "           event_time     event_type\n",
       "0 2023-10-27 09:13:00          Cerah\n",
       "1 2023-10-27 10:47:00  Angin Kencang\n",
       "2 2023-10-27 13:05:00   Hujan Ringan\n",
       "3 2023-10-27 14:15:00   Hujan Ringan\n",
       "4 2023-10-27 15:50:00  Angin Kencang"
      ]
     },
     "execution_count": 117,
     "metadata": {},
     "output_type": "execute_result"
    }
   ],
   "source": [
    "print(\"\\n--- Stasiun B ---\")\n",
    "stasiun_b"
   ]
  },
  {
   "cell_type": "markdown",
   "id": "9292e042",
   "metadata": {},
   "source": [
    "----\n",
    "\n",
    "**Task**"
   ]
  },
  {
   "cell_type": "markdown",
   "id": "778ebb33",
   "metadata": {},
   "source": [
    "**1. Gabungkan Data:** \n",
    "- Gabungkan data dari kedua stasiun. Untuk setiap peristiwa di stasiun_B_events, Anda perlu mengetahui kondisi cuaca (suhu dan kelembapan) di stasiun_A pada waktu terdekat *sebelum* peristiwa itu terjadi.\n",
    "- Petunjuk: Gunakan pd.merge_asof() untuk tugas ini. Pastikan kedua DataFrame diurutkan berdasarkan kolom waktu."
   ]
  },
  {
   "cell_type": "code",
   "execution_count": 118,
   "id": "21333fee",
   "metadata": {},
   "outputs": [
    {
     "name": "stdout",
     "output_type": "stream",
     "text": [
      "--- Data Setelah Digabung dengan Benar ---\n"
     ]
    },
    {
     "data": {
      "application/vnd.microsoft.datawrangler.viewer.v0+json": {
       "columns": [
        {
         "name": "index",
         "rawType": "int64",
         "type": "integer"
        },
        {
         "name": "event_time",
         "rawType": "datetime64[ns]",
         "type": "datetime"
        },
        {
         "name": "event_type",
         "rawType": "object",
         "type": "string"
        },
        {
         "name": "timestamp",
         "rawType": "datetime64[ns]",
         "type": "datetime"
        },
        {
         "name": "temperature_A",
         "rawType": "float64",
         "type": "float"
        },
        {
         "name": "humidity_A",
         "rawType": "float64",
         "type": "float"
        }
       ],
       "ref": "541edfe1-0a63-43fc-9de6-4ead5287fed0",
       "rows": [
        [
         "0",
         "2023-10-27 09:13:00",
         "Cerah",
         "2023-10-27 09:00:00",
         "29.1",
         "82.0"
        ],
        [
         "1",
         "2023-10-27 10:47:00",
         "Angin Kencang",
         "2023-10-27 10:00:00",
         "30.2",
         "78.0"
        ],
        [
         "2",
         "2023-10-27 13:05:00",
         "Hujan Ringan",
         "2023-10-27 13:00:00",
         "32.0",
         "71.0"
        ],
        [
         "3",
         "2023-10-27 14:15:00",
         "Hujan Ringan",
         "2023-10-27 14:00:00",
         "32.5",
         "68.0"
        ],
        [
         "4",
         "2023-10-27 15:50:00",
         "Angin Kencang",
         "2023-10-27 15:00:00",
         "31.8",
         "72.0"
        ]
       ],
       "shape": {
        "columns": 5,
        "rows": 5
       }
      },
      "text/html": [
       "<div>\n",
       "<style scoped>\n",
       "    .dataframe tbody tr th:only-of-type {\n",
       "        vertical-align: middle;\n",
       "    }\n",
       "\n",
       "    .dataframe tbody tr th {\n",
       "        vertical-align: top;\n",
       "    }\n",
       "\n",
       "    .dataframe thead th {\n",
       "        text-align: right;\n",
       "    }\n",
       "</style>\n",
       "<table border=\"1\" class=\"dataframe\">\n",
       "  <thead>\n",
       "    <tr style=\"text-align: right;\">\n",
       "      <th></th>\n",
       "      <th>event_time</th>\n",
       "      <th>event_type</th>\n",
       "      <th>timestamp</th>\n",
       "      <th>temperature_A</th>\n",
       "      <th>humidity_A</th>\n",
       "    </tr>\n",
       "  </thead>\n",
       "  <tbody>\n",
       "    <tr>\n",
       "      <th>0</th>\n",
       "      <td>2023-10-27 09:13:00</td>\n",
       "      <td>Cerah</td>\n",
       "      <td>2023-10-27 09:00:00</td>\n",
       "      <td>29.1</td>\n",
       "      <td>82.0</td>\n",
       "    </tr>\n",
       "    <tr>\n",
       "      <th>1</th>\n",
       "      <td>2023-10-27 10:47:00</td>\n",
       "      <td>Angin Kencang</td>\n",
       "      <td>2023-10-27 10:00:00</td>\n",
       "      <td>30.2</td>\n",
       "      <td>78.0</td>\n",
       "    </tr>\n",
       "    <tr>\n",
       "      <th>2</th>\n",
       "      <td>2023-10-27 13:05:00</td>\n",
       "      <td>Hujan Ringan</td>\n",
       "      <td>2023-10-27 13:00:00</td>\n",
       "      <td>32.0</td>\n",
       "      <td>71.0</td>\n",
       "    </tr>\n",
       "    <tr>\n",
       "      <th>3</th>\n",
       "      <td>2023-10-27 14:15:00</td>\n",
       "      <td>Hujan Ringan</td>\n",
       "      <td>2023-10-27 14:00:00</td>\n",
       "      <td>32.5</td>\n",
       "      <td>68.0</td>\n",
       "    </tr>\n",
       "    <tr>\n",
       "      <th>4</th>\n",
       "      <td>2023-10-27 15:50:00</td>\n",
       "      <td>Angin Kencang</td>\n",
       "      <td>2023-10-27 15:00:00</td>\n",
       "      <td>31.8</td>\n",
       "      <td>72.0</td>\n",
       "    </tr>\n",
       "  </tbody>\n",
       "</table>\n",
       "</div>"
      ],
      "text/plain": [
       "           event_time     event_type           timestamp  temperature_A  \\\n",
       "0 2023-10-27 09:13:00          Cerah 2023-10-27 09:00:00           29.1   \n",
       "1 2023-10-27 10:47:00  Angin Kencang 2023-10-27 10:00:00           30.2   \n",
       "2 2023-10-27 13:05:00   Hujan Ringan 2023-10-27 13:00:00           32.0   \n",
       "3 2023-10-27 14:15:00   Hujan Ringan 2023-10-27 14:00:00           32.5   \n",
       "4 2023-10-27 15:50:00  Angin Kencang 2023-10-27 15:00:00           31.8   \n",
       "\n",
       "   humidity_A  \n",
       "0        82.0  \n",
       "1        78.0  \n",
       "2        71.0  \n",
       "3        68.0  \n",
       "4        72.0  "
      ]
     },
     "execution_count": 118,
     "metadata": {},
     "output_type": "execute_result"
    }
   ],
   "source": [
    "# # Perform the merge\n",
    "\n",
    "# Pastikan data sudah diurutkan berdasarkan waktu sebelum digabung\n",
    "stasiun_a = stasiun_a.sort_values('timestamp')\n",
    "stasiun_b = stasiun_b.sort_values('event_time')\n",
    "\n",
    "# Gabungkan data\n",
    "data_gabungan = pd.merge_asof(\n",
    "    stasiun_b, \n",
    "    stasiun_a, \n",
    "    left_on='event_time', \n",
    "    right_on='timestamp', \n",
    "    direction='backward'\n",
    ")\n",
    "\n",
    "print(\"--- Data Setelah Digabung dengan Benar ---\")\n",
    "data_gabungan"
   ]
  },
  {
   "cell_type": "markdown",
   "id": "7af56254",
   "metadata": {},
   "source": [
    "---\n",
    "\n",
    "**2. Isi Data yang Hilang:** \n",
    "- Setelah digabungkan, mungkin ada beberapa data cuaca dari Stasiun A yang hilang. Lakukan forward fill untuk mengisi data suhu dan kelembapan yang hilang.\n",
    "- Petunjuk: Anda bisa menggunakan pd.merge_ordered() dengan fill_method='ffill' atau metode .fillna(method='ffill') setelah penggabungan."
   ]
  },
  {
   "cell_type": "code",
   "execution_count": 119,
   "id": "c4802ae4",
   "metadata": {},
   "outputs": [
    {
     "name": "stdout",
     "output_type": "stream",
     "text": [
      "\n",
      "--- Stasiun A Setelah diisi (ffill)---\n"
     ]
    },
    {
     "data": {
      "application/vnd.microsoft.datawrangler.viewer.v0+json": {
       "columns": [
        {
         "name": "index",
         "rawType": "int64",
         "type": "integer"
        },
        {
         "name": "timestamp",
         "rawType": "datetime64[ns]",
         "type": "datetime"
        },
        {
         "name": "temperature_A",
         "rawType": "float64",
         "type": "float"
        },
        {
         "name": "humidity_A",
         "rawType": "float64",
         "type": "float"
        }
       ],
       "ref": "c6824753-a3f5-4549-ac41-5b4c9b5898a7",
       "rows": [
        [
         "0",
         "2023-10-27 08:00:00",
         "28.5",
         "85.0"
        ],
        [
         "1",
         "2023-10-27 09:00:00",
         "29.1",
         "82.0"
        ],
        [
         "2",
         "2023-10-27 10:00:00",
         "30.2",
         "78.0"
        ],
        [
         "3",
         "2023-10-27 11:00:00",
         "31.5",
         "75.0"
        ],
        [
         "4",
         "2023-10-27 12:00:00",
         "31.5",
         "75.0"
        ],
        [
         "5",
         "2023-10-27 13:00:00",
         "32.0",
         "71.0"
        ],
        [
         "6",
         "2023-10-27 14:00:00",
         "32.5",
         "68.0"
        ],
        [
         "7",
         "2023-10-27 15:00:00",
         "31.8",
         "72.0"
        ],
        [
         "8",
         "2023-10-27 16:00:00",
         "30.5",
         "77.0"
        ]
       ],
       "shape": {
        "columns": 3,
        "rows": 9
       }
      },
      "text/html": [
       "<div>\n",
       "<style scoped>\n",
       "    .dataframe tbody tr th:only-of-type {\n",
       "        vertical-align: middle;\n",
       "    }\n",
       "\n",
       "    .dataframe tbody tr th {\n",
       "        vertical-align: top;\n",
       "    }\n",
       "\n",
       "    .dataframe thead th {\n",
       "        text-align: right;\n",
       "    }\n",
       "</style>\n",
       "<table border=\"1\" class=\"dataframe\">\n",
       "  <thead>\n",
       "    <tr style=\"text-align: right;\">\n",
       "      <th></th>\n",
       "      <th>timestamp</th>\n",
       "      <th>temperature_A</th>\n",
       "      <th>humidity_A</th>\n",
       "    </tr>\n",
       "  </thead>\n",
       "  <tbody>\n",
       "    <tr>\n",
       "      <th>0</th>\n",
       "      <td>2023-10-27 08:00:00</td>\n",
       "      <td>28.5</td>\n",
       "      <td>85.0</td>\n",
       "    </tr>\n",
       "    <tr>\n",
       "      <th>1</th>\n",
       "      <td>2023-10-27 09:00:00</td>\n",
       "      <td>29.1</td>\n",
       "      <td>82.0</td>\n",
       "    </tr>\n",
       "    <tr>\n",
       "      <th>2</th>\n",
       "      <td>2023-10-27 10:00:00</td>\n",
       "      <td>30.2</td>\n",
       "      <td>78.0</td>\n",
       "    </tr>\n",
       "    <tr>\n",
       "      <th>3</th>\n",
       "      <td>2023-10-27 11:00:00</td>\n",
       "      <td>31.5</td>\n",
       "      <td>75.0</td>\n",
       "    </tr>\n",
       "    <tr>\n",
       "      <th>4</th>\n",
       "      <td>2023-10-27 12:00:00</td>\n",
       "      <td>31.5</td>\n",
       "      <td>75.0</td>\n",
       "    </tr>\n",
       "    <tr>\n",
       "      <th>5</th>\n",
       "      <td>2023-10-27 13:00:00</td>\n",
       "      <td>32.0</td>\n",
       "      <td>71.0</td>\n",
       "    </tr>\n",
       "    <tr>\n",
       "      <th>6</th>\n",
       "      <td>2023-10-27 14:00:00</td>\n",
       "      <td>32.5</td>\n",
       "      <td>68.0</td>\n",
       "    </tr>\n",
       "    <tr>\n",
       "      <th>7</th>\n",
       "      <td>2023-10-27 15:00:00</td>\n",
       "      <td>31.8</td>\n",
       "      <td>72.0</td>\n",
       "    </tr>\n",
       "    <tr>\n",
       "      <th>8</th>\n",
       "      <td>2023-10-27 16:00:00</td>\n",
       "      <td>30.5</td>\n",
       "      <td>77.0</td>\n",
       "    </tr>\n",
       "  </tbody>\n",
       "</table>\n",
       "</div>"
      ],
      "text/plain": [
       "            timestamp  temperature_A  humidity_A\n",
       "0 2023-10-27 08:00:00           28.5        85.0\n",
       "1 2023-10-27 09:00:00           29.1        82.0\n",
       "2 2023-10-27 10:00:00           30.2        78.0\n",
       "3 2023-10-27 11:00:00           31.5        75.0\n",
       "4 2023-10-27 12:00:00           31.5        75.0\n",
       "5 2023-10-27 13:00:00           32.0        71.0\n",
       "6 2023-10-27 14:00:00           32.5        68.0\n",
       "7 2023-10-27 15:00:00           31.8        72.0\n",
       "8 2023-10-27 16:00:00           30.5        77.0"
      ]
     },
     "execution_count": 119,
     "metadata": {},
     "output_type": "execute_result"
    }
   ],
   "source": [
    "stasiun_a.ffill(inplace=True) # inplace=True agar perubahannya langsung tersimpan di stasiun_a\n",
    "\n",
    "print(\"\\n--- Stasiun A Setelah diisi (ffill)---\")\n",
    "stasiun_a"
   ]
  },
  {
   "cell_type": "markdown",
   "id": "c7521f5f",
   "metadata": {},
   "source": [
    "---\n",
    "\n",
    "**3. Bentuk Ulang Data (Reshape):**\n",
    "- Ubah DataFrame gabungan Anda ke format 'panjang' (long format) di mana ada satu kolom untuk 'metrik' (misalnya, 'temperature_A', 'humidity_A') dan satu kolom untuk 'nilai'.\n",
    "\n",
    "- Petunjuk: Gunakan metode .melt(). Jadikan timestamp dan event_type sebagai id_vars."
   ]
  },
  {
   "cell_type": "code",
   "execution_count": 120,
   "id": "2f69529b",
   "metadata": {},
   "outputs": [
    {
     "name": "stdout",
     "output_type": "stream",
     "text": [
      "--- Data Setelah di-Reshape (Format Panjang) ---\n"
     ]
    },
    {
     "data": {
      "application/vnd.microsoft.datawrangler.viewer.v0+json": {
       "columns": [
        {
         "name": "index",
         "rawType": "int64",
         "type": "integer"
        },
        {
         "name": "event_time",
         "rawType": "datetime64[ns]",
         "type": "datetime"
        },
        {
         "name": "event_type",
         "rawType": "object",
         "type": "string"
        },
        {
         "name": "metrik",
         "rawType": "object",
         "type": "string"
        },
        {
         "name": "nilai",
         "rawType": "float64",
         "type": "float"
        }
       ],
       "ref": "c2e1a89a-6872-4e3a-9b79-7d87fbcd153f",
       "rows": [
        [
         "0",
         "2023-10-27 09:13:00",
         "Cerah",
         "temperature_A",
         "29.1"
        ],
        [
         "1",
         "2023-10-27 10:47:00",
         "Angin Kencang",
         "temperature_A",
         "30.2"
        ],
        [
         "2",
         "2023-10-27 13:05:00",
         "Hujan Ringan",
         "temperature_A",
         "32.0"
        ],
        [
         "3",
         "2023-10-27 14:15:00",
         "Hujan Ringan",
         "temperature_A",
         "32.5"
        ],
        [
         "4",
         "2023-10-27 15:50:00",
         "Angin Kencang",
         "temperature_A",
         "31.8"
        ],
        [
         "5",
         "2023-10-27 09:13:00",
         "Cerah",
         "humidity_A",
         "82.0"
        ],
        [
         "6",
         "2023-10-27 10:47:00",
         "Angin Kencang",
         "humidity_A",
         "78.0"
        ],
        [
         "7",
         "2023-10-27 13:05:00",
         "Hujan Ringan",
         "humidity_A",
         "71.0"
        ],
        [
         "8",
         "2023-10-27 14:15:00",
         "Hujan Ringan",
         "humidity_A",
         "68.0"
        ],
        [
         "9",
         "2023-10-27 15:50:00",
         "Angin Kencang",
         "humidity_A",
         "72.0"
        ]
       ],
       "shape": {
        "columns": 4,
        "rows": 10
       }
      },
      "text/html": [
       "<div>\n",
       "<style scoped>\n",
       "    .dataframe tbody tr th:only-of-type {\n",
       "        vertical-align: middle;\n",
       "    }\n",
       "\n",
       "    .dataframe tbody tr th {\n",
       "        vertical-align: top;\n",
       "    }\n",
       "\n",
       "    .dataframe thead th {\n",
       "        text-align: right;\n",
       "    }\n",
       "</style>\n",
       "<table border=\"1\" class=\"dataframe\">\n",
       "  <thead>\n",
       "    <tr style=\"text-align: right;\">\n",
       "      <th></th>\n",
       "      <th>event_time</th>\n",
       "      <th>event_type</th>\n",
       "      <th>metrik</th>\n",
       "      <th>nilai</th>\n",
       "    </tr>\n",
       "  </thead>\n",
       "  <tbody>\n",
       "    <tr>\n",
       "      <th>0</th>\n",
       "      <td>2023-10-27 09:13:00</td>\n",
       "      <td>Cerah</td>\n",
       "      <td>temperature_A</td>\n",
       "      <td>29.1</td>\n",
       "    </tr>\n",
       "    <tr>\n",
       "      <th>1</th>\n",
       "      <td>2023-10-27 10:47:00</td>\n",
       "      <td>Angin Kencang</td>\n",
       "      <td>temperature_A</td>\n",
       "      <td>30.2</td>\n",
       "    </tr>\n",
       "    <tr>\n",
       "      <th>2</th>\n",
       "      <td>2023-10-27 13:05:00</td>\n",
       "      <td>Hujan Ringan</td>\n",
       "      <td>temperature_A</td>\n",
       "      <td>32.0</td>\n",
       "    </tr>\n",
       "    <tr>\n",
       "      <th>3</th>\n",
       "      <td>2023-10-27 14:15:00</td>\n",
       "      <td>Hujan Ringan</td>\n",
       "      <td>temperature_A</td>\n",
       "      <td>32.5</td>\n",
       "    </tr>\n",
       "    <tr>\n",
       "      <th>4</th>\n",
       "      <td>2023-10-27 15:50:00</td>\n",
       "      <td>Angin Kencang</td>\n",
       "      <td>temperature_A</td>\n",
       "      <td>31.8</td>\n",
       "    </tr>\n",
       "    <tr>\n",
       "      <th>5</th>\n",
       "      <td>2023-10-27 09:13:00</td>\n",
       "      <td>Cerah</td>\n",
       "      <td>humidity_A</td>\n",
       "      <td>82.0</td>\n",
       "    </tr>\n",
       "    <tr>\n",
       "      <th>6</th>\n",
       "      <td>2023-10-27 10:47:00</td>\n",
       "      <td>Angin Kencang</td>\n",
       "      <td>humidity_A</td>\n",
       "      <td>78.0</td>\n",
       "    </tr>\n",
       "    <tr>\n",
       "      <th>7</th>\n",
       "      <td>2023-10-27 13:05:00</td>\n",
       "      <td>Hujan Ringan</td>\n",
       "      <td>humidity_A</td>\n",
       "      <td>71.0</td>\n",
       "    </tr>\n",
       "    <tr>\n",
       "      <th>8</th>\n",
       "      <td>2023-10-27 14:15:00</td>\n",
       "      <td>Hujan Ringan</td>\n",
       "      <td>humidity_A</td>\n",
       "      <td>68.0</td>\n",
       "    </tr>\n",
       "    <tr>\n",
       "      <th>9</th>\n",
       "      <td>2023-10-27 15:50:00</td>\n",
       "      <td>Angin Kencang</td>\n",
       "      <td>humidity_A</td>\n",
       "      <td>72.0</td>\n",
       "    </tr>\n",
       "  </tbody>\n",
       "</table>\n",
       "</div>"
      ],
      "text/plain": [
       "           event_time     event_type         metrik  nilai\n",
       "0 2023-10-27 09:13:00          Cerah  temperature_A   29.1\n",
       "1 2023-10-27 10:47:00  Angin Kencang  temperature_A   30.2\n",
       "2 2023-10-27 13:05:00   Hujan Ringan  temperature_A   32.0\n",
       "3 2023-10-27 14:15:00   Hujan Ringan  temperature_A   32.5\n",
       "4 2023-10-27 15:50:00  Angin Kencang  temperature_A   31.8\n",
       "5 2023-10-27 09:13:00          Cerah     humidity_A   82.0\n",
       "6 2023-10-27 10:47:00  Angin Kencang     humidity_A   78.0\n",
       "7 2023-10-27 13:05:00   Hujan Ringan     humidity_A   71.0\n",
       "8 2023-10-27 14:15:00   Hujan Ringan     humidity_A   68.0\n",
       "9 2023-10-27 15:50:00  Angin Kencang     humidity_A   72.0"
      ]
     },
     "execution_count": 120,
     "metadata": {},
     "output_type": "execute_result"
    }
   ],
   "source": [
    "reshape = data_gabungan.melt(\n",
    "    id_vars=['event_time', 'event_type'], \n",
    "    value_vars=['temperature_A', 'humidity_A'],\n",
    "    var_name='metrik',\n",
    "    value_name='nilai'\n",
    ")\n",
    "\n",
    "print(\"--- Data Setelah di-Reshape (Format Panjang) ---\")\n",
    "reshape"
   ]
  },
  {
   "cell_type": "markdown",
   "id": "db47bbff",
   "metadata": {},
   "source": [
    "---\n",
    "**4. Analisis Sederhana:**\n",
    "\n",
    "- Gunakan .query() untuk menjawab pertanyaan-pertanyaan berikut dari DataFrame yang telah Anda proses:\n",
    "- Berapa suhu rata-rata di Stasiun A saat terjadi peristiwa 'Angin Kencang'?\n",
    "- Tampilkan semua data peristiwa ketika suhu di Stasiun A di atas 30 derajat."
   ]
  },
  {
   "cell_type": "code",
   "execution_count": 121,
   "id": "238287af",
   "metadata": {},
   "outputs": [
    {
     "name": "stdout",
     "output_type": "stream",
     "text": [
      "Suhu rata-rata saat Angin Kencang: 31.00 derajat\n",
      "\n",
      "--- Peristiwa saat suhu di atas 30 derajat ---\n"
     ]
    },
    {
     "data": {
      "application/vnd.microsoft.datawrangler.viewer.v0+json": {
       "columns": [
        {
         "name": "index",
         "rawType": "int64",
         "type": "integer"
        },
        {
         "name": "event_time",
         "rawType": "datetime64[ns]",
         "type": "datetime"
        },
        {
         "name": "event_type",
         "rawType": "object",
         "type": "string"
        },
        {
         "name": "timestamp",
         "rawType": "datetime64[ns]",
         "type": "datetime"
        },
        {
         "name": "temperature_A",
         "rawType": "float64",
         "type": "float"
        },
        {
         "name": "humidity_A",
         "rawType": "float64",
         "type": "float"
        }
       ],
       "ref": "1d1f44da-f5e3-49d0-b61c-537eb7d9a907",
       "rows": [
        [
         "1",
         "2023-10-27 10:47:00",
         "Angin Kencang",
         "2023-10-27 10:00:00",
         "30.2",
         "78.0"
        ],
        [
         "2",
         "2023-10-27 13:05:00",
         "Hujan Ringan",
         "2023-10-27 13:00:00",
         "32.0",
         "71.0"
        ],
        [
         "3",
         "2023-10-27 14:15:00",
         "Hujan Ringan",
         "2023-10-27 14:00:00",
         "32.5",
         "68.0"
        ],
        [
         "4",
         "2023-10-27 15:50:00",
         "Angin Kencang",
         "2023-10-27 15:00:00",
         "31.8",
         "72.0"
        ]
       ],
       "shape": {
        "columns": 5,
        "rows": 4
       }
      },
      "text/html": [
       "<div>\n",
       "<style scoped>\n",
       "    .dataframe tbody tr th:only-of-type {\n",
       "        vertical-align: middle;\n",
       "    }\n",
       "\n",
       "    .dataframe tbody tr th {\n",
       "        vertical-align: top;\n",
       "    }\n",
       "\n",
       "    .dataframe thead th {\n",
       "        text-align: right;\n",
       "    }\n",
       "</style>\n",
       "<table border=\"1\" class=\"dataframe\">\n",
       "  <thead>\n",
       "    <tr style=\"text-align: right;\">\n",
       "      <th></th>\n",
       "      <th>event_time</th>\n",
       "      <th>event_type</th>\n",
       "      <th>timestamp</th>\n",
       "      <th>temperature_A</th>\n",
       "      <th>humidity_A</th>\n",
       "    </tr>\n",
       "  </thead>\n",
       "  <tbody>\n",
       "    <tr>\n",
       "      <th>1</th>\n",
       "      <td>2023-10-27 10:47:00</td>\n",
       "      <td>Angin Kencang</td>\n",
       "      <td>2023-10-27 10:00:00</td>\n",
       "      <td>30.2</td>\n",
       "      <td>78.0</td>\n",
       "    </tr>\n",
       "    <tr>\n",
       "      <th>2</th>\n",
       "      <td>2023-10-27 13:05:00</td>\n",
       "      <td>Hujan Ringan</td>\n",
       "      <td>2023-10-27 13:00:00</td>\n",
       "      <td>32.0</td>\n",
       "      <td>71.0</td>\n",
       "    </tr>\n",
       "    <tr>\n",
       "      <th>3</th>\n",
       "      <td>2023-10-27 14:15:00</td>\n",
       "      <td>Hujan Ringan</td>\n",
       "      <td>2023-10-27 14:00:00</td>\n",
       "      <td>32.5</td>\n",
       "      <td>68.0</td>\n",
       "    </tr>\n",
       "    <tr>\n",
       "      <th>4</th>\n",
       "      <td>2023-10-27 15:50:00</td>\n",
       "      <td>Angin Kencang</td>\n",
       "      <td>2023-10-27 15:00:00</td>\n",
       "      <td>31.8</td>\n",
       "      <td>72.0</td>\n",
       "    </tr>\n",
       "  </tbody>\n",
       "</table>\n",
       "</div>"
      ],
      "text/plain": [
       "           event_time     event_type           timestamp  temperature_A  \\\n",
       "1 2023-10-27 10:47:00  Angin Kencang 2023-10-27 10:00:00           30.2   \n",
       "2 2023-10-27 13:05:00   Hujan Ringan 2023-10-27 13:00:00           32.0   \n",
       "3 2023-10-27 14:15:00   Hujan Ringan 2023-10-27 14:00:00           32.5   \n",
       "4 2023-10-27 15:50:00  Angin Kencang 2023-10-27 15:00:00           31.8   \n",
       "\n",
       "   humidity_A  \n",
       "1        78.0  \n",
       "2        71.0  \n",
       "3        68.0  \n",
       "4        72.0  "
      ]
     },
     "execution_count": 121,
     "metadata": {},
     "output_type": "execute_result"
    }
   ],
   "source": [
    "avg_temp = data_gabungan.query(\"event_type == 'Angin Kencang'\")['temperature_A'].mean()\n",
    "print(f\"Suhu rata-rata saat Angin Kencang: {avg_temp:.2f} derajat\")\n",
    "\n",
    "# Filter events where temperature_A is greater than 30\n",
    "print(\"\\n--- Peristiwa saat suhu di atas 30 derajat ---\")\n",
    "count_event = data_gabungan.query(\"temperature_A > 30\")\n",
    "count_event\n"
   ]
  },
  {
   "cell_type": "markdown",
   "id": "0a366ecb",
   "metadata": {},
   "source": [
    "----"
   ]
  }
 ],
 "metadata": {
  "kernelspec": {
   "display_name": "Python 3",
   "language": "python",
   "name": "python3"
  },
  "language_info": {
   "codemirror_mode": {
    "name": "ipython",
    "version": 3
   },
   "file_extension": ".py",
   "mimetype": "text/x-python",
   "name": "python",
   "nbconvert_exporter": "python",
   "pygments_lexer": "ipython3",
   "version": "3.12.4"
  }
 },
 "nbformat": 4,
 "nbformat_minor": 5
}
