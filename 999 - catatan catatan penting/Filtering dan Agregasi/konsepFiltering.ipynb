{
 "cells": [
  {
   "cell_type": "markdown",
   "id": "8e954b65",
   "metadata": {},
   "source": [
    "### Catatan Belajar: Menguasai Filtering Data di Pandas\n",
    "\n",
    "#### Tanggal: 11 Agustus 2025\n",
    "\n",
    "💡 Ide Utama\n",
    "Filtering data di pandas pada intinya adalah tentang mengajukan pertanyaan yang tepat kepada data kita. Proses ini selalu mengikuti logika yang sama, yaitu mengubah pertanyaan kita menjadi sebuah \"kondisi\" yang bisa dipahami oleh komputer.\n",
    "\n",
    "🔑 Kunci #1: Logika Dasar Filtering (3 Langkah Utama)\n",
    "Setiap kali kita memfilter, ada 3 langkah yang terjadi:\n",
    "\n",
    "Pilih Kolom Target: Tentukan kolom mana yang akan menjadi dasar pertanyaan kita (misalnya, df['harga']).\n",
    "\n",
    "Buat Kondisi (True/False): Buat sebuah perbandingan yang akan menghasilkan daftar jawaban True (jika sesuai) atau False (jika tidak sesuai) untuk setiap baris.\n",
    "\n",
    "Terapkan Filter: Masukkan daftar True/False tersebut ke dalam DataFrame utama (df[...]) untuk menampilkan hanya baris yang bernilai True.\n",
    "\n",
    "🔑 Kunci #2: Perbedaan Mendasar: Statis vs. Dinamis\n",
    "Ini adalah konsep paling penting yang kita bahas. Cara kita menulis filter bergantung pada apakah nilai pembandingnya statis atau dinamis.\n",
    "\n"
   ]
  },
  {
   "cell_type": "markdown",
   "id": "8d2fa209",
   "metadata": {},
   "source": [
    "Nilai Statis (Sudah Pasti & Diketik Langsung)\n",
    "Kita membandingkan kolom dengan nilai yang sudah kita ketahui. Polanya sederhana.\n",
    "Contoh: \"Cari harga di bawah 100.000.\""
   ]
  },
  {
   "cell_type": "code",
   "execution_count": null,
   "id": "57e8fbe7",
   "metadata": {},
   "outputs": [],
   "source": [
    "df[df['harga'] < 100000]"
   ]
  },
  {
   "cell_type": "markdown",
   "id": "0c2543ab",
   "metadata": {},
   "source": [
    "Nilai Dinamis (Harus Dihitung Dulu)\n",
    "Kita membandingkan kolom dengan nilai yang harus dihitung dulu oleh fungsi seperti .max(), .mean(), dll. Di sinilah \"pola pengulangan\" muncul.\n",
    "Contoh: \"Cari produk dengan harga termahal.\""
   ]
  },
  {
   "cell_type": "code",
   "execution_count": null,
   "id": "9db8e1c3",
   "metadata": {},
   "outputs": [],
   "source": [
    "# Langkah 1 (implisit): Hitung df['harga'].max() -> misal hasilnya 500000\n",
    "# Langkah 2: Lakukan perbandingan df['harga'] == 500000\n",
    "df[df['harga'] == df['harga'].max()]"
   ]
  },
  {
   "cell_type": "markdown",
   "id": "6bedd054",
   "metadata": {},
   "source": [
    "🏆 Pola Emas untuk Nilai Dinamis\n",
    "Pola ini berlaku untuk semua fungsi agregasi (.max(), .mean(), .min(), .median(), .mode(), dll).\n",
    "\n",
    "Pola: df[df['kolom_dicek'] (operator) df['kolom_dihitung'].fungsi()]"
   ]
  },
  {
   "cell_type": "code",
   "execution_count": null,
   "id": "594d6658",
   "metadata": {},
   "outputs": [],
   "source": [
    "# Mencari nilai di atas rata-rata:\n",
    "\n",
    "df[df['nilai'] > df['nilai'].mean()]\n",
    "\n",
    "\n",
    "#mencarinilai sama dengan yang paling sering muncul:\n",
    "\n",
    "df[df['warna'] == df['warna'].mode()[0]]"
   ]
  },
  {
   "cell_type": "markdown",
   "id": "9271c9ac",
   "metadata": {},
   "source": [
    "📋 Resep Filtering Umum Lainnya (Cheatsheet)"
   ]
  },
  {
   "cell_type": "code",
   "execution_count": null,
   "id": "1999cd83",
   "metadata": {},
   "outputs": [],
   "source": [
    "# Dua Kondisi atau Lebih: Gunakan & (dan), | (atau), dan selalu bungkus setiap kondisi dengan ().\n",
    "\n",
    "df[(df['harga'] < 100000) & (df['stok'] > 0)]\n",
    "\n",
    "\n",
    "# Filter dengan Daftar: Gunakan .isin() untuk mencocokkan dengan beberapa nilai sekaligus.\n",
    "\n",
    "df[df['kategori'].isin(['Elektronik', 'Buku'])]\n",
    "\n",
    "\n",
    "# Filter Teks: Gunakan .str.contains() untuk mencari kata kunci.\n",
    "\n",
    "df[df['nama_produk'].str.contains('Kopi')]\n",
    "\n"
   ]
  }
 ],
 "metadata": {
  "kernelspec": {
   "display_name": "Python 3",
   "language": "python",
   "name": "python3"
  },
  "language_info": {
   "name": "python",
   "version": "3.12.4"
  }
 },
 "nbformat": 4,
 "nbformat_minor": 5
}
