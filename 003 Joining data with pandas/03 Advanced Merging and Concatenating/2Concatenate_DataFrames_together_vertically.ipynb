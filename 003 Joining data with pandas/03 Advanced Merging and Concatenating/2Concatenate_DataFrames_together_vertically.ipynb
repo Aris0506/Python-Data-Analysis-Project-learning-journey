{
 "cells": [
  {
   "cell_type": "code",
   "execution_count": null,
   "id": "30fae860",
   "metadata": {},
   "outputs": [],
   "source": [
    "# Concatenation basics\n",
    "\n",
    "# Concatenate the tracks\n",
    "tracks_from_albums = pd.concat([tracks_master, tracks_ride, tracks_st],\n",
    "                               sort=True)\n",
    "print(tracks_from_albums)\n",
    "\n",
    "\n",
    "# Concatenate the tracks so the index goes from 0 to n-1\n",
    "tracks_from_albums = pd.concat([tracks_master, tracks_ride, tracks_st],\n",
    "                               ignore_index=True,\n",
    "                               sort=True)\n",
    "print(tracks_from_albums)\n",
    "\n",
    "\n",
    "\n",
    "# Concatenate the tracks, show only columns names that are in all tables\n",
    "tracks_from_albums = pd.concat([tracks_master, tracks_ride, tracks_st],\n",
    "                               join=\"inner\",\n",
    "                               sort=True)\n",
    "print(tracks_from_albums)"
   ]
  },
  {
   "cell_type": "code",
   "execution_count": null,
   "id": "2f651884",
   "metadata": {},
   "outputs": [],
   "source": [
    "# Concatenating with keys\n",
    "\n",
    "# Concatenate the tables and add keys\n",
    "inv_jul_thr_sep = pd.concat([inv_jul, inv_aug, inv_sep], \n",
    "                            keys=[\"7Jul\", \"8Aug\", \"9Sep\"])\n",
    "\n",
    "# Group the invoices by the index keys and find avg of the total column\n",
    "avg_inv_by_month = inv_jul_thr_sep.groupby(level=0).agg({'total':'mean'})\n",
    "\n",
    "# Bar plot of avg_inv_by_month\n",
    "avg_inv_by_month.plot(kind=\"bar\")\n",
    "plt.show()"
   ]
  }
 ],
 "metadata": {
  "language_info": {
   "name": "python"
  }
 },
 "nbformat": 4,
 "nbformat_minor": 5
}
