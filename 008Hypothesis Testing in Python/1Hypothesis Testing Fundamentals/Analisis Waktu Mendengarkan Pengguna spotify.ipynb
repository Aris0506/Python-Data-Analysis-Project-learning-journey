{
 "cells": [
  {
   "cell_type": "markdown",
   "id": "f1509f9b",
   "metadata": {},
   "source": [
    "**Proyek yang Disesuaikan: Analisis Waktu Mendengarkan harian Pengguna Spotify 🎵**\n",
    "\n",
    "**Latar Belakang: Sebuah platform streaming musik ingin memahami apakah fitur baru mereka (seperti podcast dan playlist yang dipersonalisasi) telah berhasil meningkatkan waktu dengar harian pengguna. Laporan industri dari beberapa tahun lalu menunjukkan bahwa rata-rata pengguna mendengarkan musik selama 30 menit per hari.**\n",
    "\n",
    "**Tujuan: Tentukan apakah rata-rata waktu dengar harian pengguna saat ini secara statistik lebih tinggi dari angka historis 30 menit.**\n",
    "\n",
    "---"
   ]
  },
  {
   "cell_type": "markdown",
   "id": "f8771d64",
   "metadata": {},
   "source": [
    "**Langkah-langkah Proyek:**\n",
    "\n",
    "**1. Tetapkan Hipotesis:**\n",
    "- Hipotesis Nol (H0): Rata-rata waktu dengar harian pengguna (listening_time) adalah 30 menit atau kurang. (μ ≤ 30)\n",
    "- Hipotesis Alternatif (HA): Rata-rata waktu dengar harian pengguna (listening_time) lebih dari 30 menit. (μ > 30)"
   ]
  },
  {
   "cell_type": "markdown",
   "id": "9a4ce27e",
   "metadata": {},
   "source": [
    "---\n",
    "**2. Persiapan Data:**\n",
    "- Muat dataset Anda yang berisi data pengguna, termasuk kolom listening_time.\n",
    "- Ambil sampel acak dari data Anda (misalnya, 500 pengguna) untuk dianalisis."
   ]
  },
  {
   "cell_type": "code",
   "execution_count": 16,
   "id": "06bbfda3",
   "metadata": {},
   "outputs": [
    {
     "name": "stdout",
     "output_type": "stream",
     "text": [
      "Path to dataset files: C:\\Users\\USER\\.cache\\kagglehub\\datasets\\nabihazahid\\spotify-dataset-for-churn-analysis\\versions\\2\n",
      "['spotify_churn_dataset.csv']\n"
     ]
    }
   ],
   "source": [
    "import kagglehub\n",
    "import os\n",
    "# Download latest version\n",
    "path = kagglehub.dataset_download(\"nabihazahid/spotify-dataset-for-churn-analysis\")\n",
    "\n",
    "print(\"Path to dataset files:\", path)\n",
    "\n",
    "print(os.listdir(path))"
   ]
  },
  {
   "cell_type": "code",
   "execution_count": 17,
   "id": "bb7fdc9c",
   "metadata": {},
   "outputs": [
    {
     "data": {
      "application/vnd.microsoft.datawrangler.viewer.v0+json": {
       "columns": [
        {
         "name": "index",
         "rawType": "int64",
         "type": "integer"
        },
        {
         "name": "user_id",
         "rawType": "int64",
         "type": "integer"
        },
        {
         "name": "gender",
         "rawType": "object",
         "type": "string"
        },
        {
         "name": "age",
         "rawType": "int64",
         "type": "integer"
        },
        {
         "name": "country",
         "rawType": "object",
         "type": "string"
        },
        {
         "name": "subscription_type",
         "rawType": "object",
         "type": "string"
        },
        {
         "name": "listening_time",
         "rawType": "int64",
         "type": "integer"
        },
        {
         "name": "songs_played_per_day",
         "rawType": "int64",
         "type": "integer"
        },
        {
         "name": "skip_rate",
         "rawType": "float64",
         "type": "float"
        },
        {
         "name": "device_type",
         "rawType": "object",
         "type": "string"
        },
        {
         "name": "ads_listened_per_week",
         "rawType": "int64",
         "type": "integer"
        },
        {
         "name": "offline_listening",
         "rawType": "int64",
         "type": "integer"
        },
        {
         "name": "is_churned",
         "rawType": "int64",
         "type": "integer"
        }
       ],
       "ref": "443a304f-5e77-46ba-ab8c-e376c060ebcf",
       "rows": [
        [
         "0",
         "1",
         "Female",
         "54",
         "CA",
         "Free",
         "26",
         "23",
         "0.2",
         "Desktop",
         "31",
         "0",
         "1"
        ],
        [
         "1",
         "2",
         "Other",
         "33",
         "DE",
         "Family",
         "141",
         "62",
         "0.34",
         "Web",
         "0",
         "1",
         "0"
        ],
        [
         "2",
         "3",
         "Male",
         "38",
         "AU",
         "Premium",
         "199",
         "38",
         "0.04",
         "Mobile",
         "0",
         "1",
         "1"
        ],
        [
         "3",
         "4",
         "Female",
         "22",
         "CA",
         "Student",
         "36",
         "2",
         "0.31",
         "Mobile",
         "0",
         "1",
         "0"
        ],
        [
         "4",
         "5",
         "Other",
         "29",
         "US",
         "Family",
         "250",
         "57",
         "0.36",
         "Mobile",
         "0",
         "1",
         "1"
        ]
       ],
       "shape": {
        "columns": 12,
        "rows": 5
       }
      },
      "text/html": [
       "<div>\n",
       "<style scoped>\n",
       "    .dataframe tbody tr th:only-of-type {\n",
       "        vertical-align: middle;\n",
       "    }\n",
       "\n",
       "    .dataframe tbody tr th {\n",
       "        vertical-align: top;\n",
       "    }\n",
       "\n",
       "    .dataframe thead th {\n",
       "        text-align: right;\n",
       "    }\n",
       "</style>\n",
       "<table border=\"1\" class=\"dataframe\">\n",
       "  <thead>\n",
       "    <tr style=\"text-align: right;\">\n",
       "      <th></th>\n",
       "      <th>user_id</th>\n",
       "      <th>gender</th>\n",
       "      <th>age</th>\n",
       "      <th>country</th>\n",
       "      <th>subscription_type</th>\n",
       "      <th>listening_time</th>\n",
       "      <th>songs_played_per_day</th>\n",
       "      <th>skip_rate</th>\n",
       "      <th>device_type</th>\n",
       "      <th>ads_listened_per_week</th>\n",
       "      <th>offline_listening</th>\n",
       "      <th>is_churned</th>\n",
       "    </tr>\n",
       "  </thead>\n",
       "  <tbody>\n",
       "    <tr>\n",
       "      <th>0</th>\n",
       "      <td>1</td>\n",
       "      <td>Female</td>\n",
       "      <td>54</td>\n",
       "      <td>CA</td>\n",
       "      <td>Free</td>\n",
       "      <td>26</td>\n",
       "      <td>23</td>\n",
       "      <td>0.20</td>\n",
       "      <td>Desktop</td>\n",
       "      <td>31</td>\n",
       "      <td>0</td>\n",
       "      <td>1</td>\n",
       "    </tr>\n",
       "    <tr>\n",
       "      <th>1</th>\n",
       "      <td>2</td>\n",
       "      <td>Other</td>\n",
       "      <td>33</td>\n",
       "      <td>DE</td>\n",
       "      <td>Family</td>\n",
       "      <td>141</td>\n",
       "      <td>62</td>\n",
       "      <td>0.34</td>\n",
       "      <td>Web</td>\n",
       "      <td>0</td>\n",
       "      <td>1</td>\n",
       "      <td>0</td>\n",
       "    </tr>\n",
       "    <tr>\n",
       "      <th>2</th>\n",
       "      <td>3</td>\n",
       "      <td>Male</td>\n",
       "      <td>38</td>\n",
       "      <td>AU</td>\n",
       "      <td>Premium</td>\n",
       "      <td>199</td>\n",
       "      <td>38</td>\n",
       "      <td>0.04</td>\n",
       "      <td>Mobile</td>\n",
       "      <td>0</td>\n",
       "      <td>1</td>\n",
       "      <td>1</td>\n",
       "    </tr>\n",
       "    <tr>\n",
       "      <th>3</th>\n",
       "      <td>4</td>\n",
       "      <td>Female</td>\n",
       "      <td>22</td>\n",
       "      <td>CA</td>\n",
       "      <td>Student</td>\n",
       "      <td>36</td>\n",
       "      <td>2</td>\n",
       "      <td>0.31</td>\n",
       "      <td>Mobile</td>\n",
       "      <td>0</td>\n",
       "      <td>1</td>\n",
       "      <td>0</td>\n",
       "    </tr>\n",
       "    <tr>\n",
       "      <th>4</th>\n",
       "      <td>5</td>\n",
       "      <td>Other</td>\n",
       "      <td>29</td>\n",
       "      <td>US</td>\n",
       "      <td>Family</td>\n",
       "      <td>250</td>\n",
       "      <td>57</td>\n",
       "      <td>0.36</td>\n",
       "      <td>Mobile</td>\n",
       "      <td>0</td>\n",
       "      <td>1</td>\n",
       "      <td>1</td>\n",
       "    </tr>\n",
       "  </tbody>\n",
       "</table>\n",
       "</div>"
      ],
      "text/plain": [
       "   user_id  gender  age country subscription_type  listening_time  \\\n",
       "0        1  Female   54      CA              Free              26   \n",
       "1        2   Other   33      DE            Family             141   \n",
       "2        3    Male   38      AU           Premium             199   \n",
       "3        4  Female   22      CA           Student              36   \n",
       "4        5   Other   29      US            Family             250   \n",
       "\n",
       "   songs_played_per_day  skip_rate device_type  ads_listened_per_week  \\\n",
       "0                    23       0.20     Desktop                     31   \n",
       "1                    62       0.34         Web                      0   \n",
       "2                    38       0.04      Mobile                      0   \n",
       "3                     2       0.31      Mobile                      0   \n",
       "4                    57       0.36      Mobile                      0   \n",
       "\n",
       "   offline_listening  is_churned  \n",
       "0                  0           1  \n",
       "1                  1           0  \n",
       "2                  1           1  \n",
       "3                  1           0  \n",
       "4                  1           1  "
      ]
     },
     "execution_count": 17,
     "metadata": {},
     "output_type": "execute_result"
    }
   ],
   "source": [
    "file_path = os.path.join(path, 'spotify_churn_dataset.csv')\n",
    "\n",
    "import pandas as pd\n",
    "\n",
    "spotify_df = pd.read_csv(file_path)\n",
    "spotify_df.head()\n"
   ]
  },
  {
   "cell_type": "code",
   "execution_count": 18,
   "id": "c80d1cff",
   "metadata": {},
   "outputs": [
    {
     "name": "stdout",
     "output_type": "stream",
     "text": [
      "<class 'pandas.core.series.Series'>\n",
      "RangeIndex: 8000 entries, 0 to 7999\n",
      "Series name: listening_time\n",
      "Non-Null Count  Dtype\n",
      "--------------  -----\n",
      "8000 non-null   int64\n",
      "dtypes: int64(1)\n",
      "memory usage: 62.6 KB\n"
     ]
    }
   ],
   "source": [
    "spotify_df['listening_time'].info()"
   ]
  },
  {
   "cell_type": "code",
   "execution_count": 25,
   "id": "059b4772",
   "metadata": {},
   "outputs": [
    {
     "data": {
      "application/vnd.microsoft.datawrangler.viewer.v0+json": {
       "columns": [
        {
         "name": "index",
         "rawType": "int64",
         "type": "integer"
        },
        {
         "name": "user_id",
         "rawType": "int64",
         "type": "integer"
        },
        {
         "name": "gender",
         "rawType": "object",
         "type": "string"
        },
        {
         "name": "age",
         "rawType": "int64",
         "type": "integer"
        },
        {
         "name": "country",
         "rawType": "object",
         "type": "string"
        },
        {
         "name": "subscription_type",
         "rawType": "object",
         "type": "string"
        },
        {
         "name": "listening_time",
         "rawType": "int64",
         "type": "integer"
        },
        {
         "name": "songs_played_per_day",
         "rawType": "int64",
         "type": "integer"
        },
        {
         "name": "skip_rate",
         "rawType": "float64",
         "type": "float"
        },
        {
         "name": "device_type",
         "rawType": "object",
         "type": "string"
        },
        {
         "name": "ads_listened_per_week",
         "rawType": "int64",
         "type": "integer"
        },
        {
         "name": "offline_listening",
         "rawType": "int64",
         "type": "integer"
        },
        {
         "name": "is_churned",
         "rawType": "int64",
         "type": "integer"
        },
        {
         "name": "daily_listening_time",
         "rawType": "float64",
         "type": "float"
        }
       ],
       "ref": "1f6e5527-25f8-4ba4-8120-924a93015579",
       "rows": [
        [
         "2215",
         "2216",
         "Female",
         "21",
         "CA",
         "Premium",
         "184",
         "22",
         "0.4",
         "Mobile",
         "0",
         "1",
         "0",
         "26.285714285714285"
        ],
        [
         "2582",
         "2583",
         "Other",
         "23",
         "US",
         "Premium",
         "234",
         "10",
         "0.38",
         "Desktop",
         "0",
         "1",
         "0",
         "33.42857142857143"
        ],
        [
         "1662",
         "1663",
         "Other",
         "55",
         "US",
         "Student",
         "33",
         "93",
         "0.09",
         "Mobile",
         "0",
         "1",
         "0",
         "4.714285714285714"
        ],
        [
         "3027",
         "3028",
         "Other",
         "39",
         "PK",
         "Family",
         "207",
         "98",
         "0.6",
         "Mobile",
         "0",
         "1",
         "1",
         "29.571428571428573"
        ],
        [
         "4343",
         "4344",
         "Female",
         "16",
         "UK",
         "Premium",
         "117",
         "56",
         "0.0",
         "Web",
         "0",
         "1",
         "1",
         "16.714285714285715"
        ]
       ],
       "shape": {
        "columns": 13,
        "rows": 5
       }
      },
      "text/html": [
       "<div>\n",
       "<style scoped>\n",
       "    .dataframe tbody tr th:only-of-type {\n",
       "        vertical-align: middle;\n",
       "    }\n",
       "\n",
       "    .dataframe tbody tr th {\n",
       "        vertical-align: top;\n",
       "    }\n",
       "\n",
       "    .dataframe thead th {\n",
       "        text-align: right;\n",
       "    }\n",
       "</style>\n",
       "<table border=\"1\" class=\"dataframe\">\n",
       "  <thead>\n",
       "    <tr style=\"text-align: right;\">\n",
       "      <th></th>\n",
       "      <th>user_id</th>\n",
       "      <th>gender</th>\n",
       "      <th>age</th>\n",
       "      <th>country</th>\n",
       "      <th>subscription_type</th>\n",
       "      <th>listening_time</th>\n",
       "      <th>songs_played_per_day</th>\n",
       "      <th>skip_rate</th>\n",
       "      <th>device_type</th>\n",
       "      <th>ads_listened_per_week</th>\n",
       "      <th>offline_listening</th>\n",
       "      <th>is_churned</th>\n",
       "      <th>daily_listening_time</th>\n",
       "    </tr>\n",
       "  </thead>\n",
       "  <tbody>\n",
       "    <tr>\n",
       "      <th>2215</th>\n",
       "      <td>2216</td>\n",
       "      <td>Female</td>\n",
       "      <td>21</td>\n",
       "      <td>CA</td>\n",
       "      <td>Premium</td>\n",
       "      <td>184</td>\n",
       "      <td>22</td>\n",
       "      <td>0.40</td>\n",
       "      <td>Mobile</td>\n",
       "      <td>0</td>\n",
       "      <td>1</td>\n",
       "      <td>0</td>\n",
       "      <td>26.285714</td>\n",
       "    </tr>\n",
       "    <tr>\n",
       "      <th>2582</th>\n",
       "      <td>2583</td>\n",
       "      <td>Other</td>\n",
       "      <td>23</td>\n",
       "      <td>US</td>\n",
       "      <td>Premium</td>\n",
       "      <td>234</td>\n",
       "      <td>10</td>\n",
       "      <td>0.38</td>\n",
       "      <td>Desktop</td>\n",
       "      <td>0</td>\n",
       "      <td>1</td>\n",
       "      <td>0</td>\n",
       "      <td>33.428571</td>\n",
       "    </tr>\n",
       "    <tr>\n",
       "      <th>1662</th>\n",
       "      <td>1663</td>\n",
       "      <td>Other</td>\n",
       "      <td>55</td>\n",
       "      <td>US</td>\n",
       "      <td>Student</td>\n",
       "      <td>33</td>\n",
       "      <td>93</td>\n",
       "      <td>0.09</td>\n",
       "      <td>Mobile</td>\n",
       "      <td>0</td>\n",
       "      <td>1</td>\n",
       "      <td>0</td>\n",
       "      <td>4.714286</td>\n",
       "    </tr>\n",
       "    <tr>\n",
       "      <th>3027</th>\n",
       "      <td>3028</td>\n",
       "      <td>Other</td>\n",
       "      <td>39</td>\n",
       "      <td>PK</td>\n",
       "      <td>Family</td>\n",
       "      <td>207</td>\n",
       "      <td>98</td>\n",
       "      <td>0.60</td>\n",
       "      <td>Mobile</td>\n",
       "      <td>0</td>\n",
       "      <td>1</td>\n",
       "      <td>1</td>\n",
       "      <td>29.571429</td>\n",
       "    </tr>\n",
       "    <tr>\n",
       "      <th>4343</th>\n",
       "      <td>4344</td>\n",
       "      <td>Female</td>\n",
       "      <td>16</td>\n",
       "      <td>UK</td>\n",
       "      <td>Premium</td>\n",
       "      <td>117</td>\n",
       "      <td>56</td>\n",
       "      <td>0.00</td>\n",
       "      <td>Web</td>\n",
       "      <td>0</td>\n",
       "      <td>1</td>\n",
       "      <td>1</td>\n",
       "      <td>16.714286</td>\n",
       "    </tr>\n",
       "  </tbody>\n",
       "</table>\n",
       "</div>"
      ],
      "text/plain": [
       "      user_id  gender  age country subscription_type  listening_time  \\\n",
       "2215     2216  Female   21      CA           Premium             184   \n",
       "2582     2583   Other   23      US           Premium             234   \n",
       "1662     1663   Other   55      US           Student              33   \n",
       "3027     3028   Other   39      PK            Family             207   \n",
       "4343     4344  Female   16      UK           Premium             117   \n",
       "\n",
       "      songs_played_per_day  skip_rate device_type  ads_listened_per_week  \\\n",
       "2215                    22       0.40      Mobile                      0   \n",
       "2582                    10       0.38     Desktop                      0   \n",
       "1662                    93       0.09      Mobile                      0   \n",
       "3027                    98       0.60      Mobile                      0   \n",
       "4343                    56       0.00         Web                      0   \n",
       "\n",
       "      offline_listening  is_churned  daily_listening_time  \n",
       "2215                  1           0             26.285714  \n",
       "2582                  1           0             33.428571  \n",
       "1662                  1           0              4.714286  \n",
       "3027                  1           1             29.571429  \n",
       "4343                  1           1             16.714286  "
      ]
     },
     "execution_count": 25,
     "metadata": {},
     "output_type": "execute_result"
    }
   ],
   "source": [
    "# buat kolom daily_listening_time\n",
    "sample_df = spotify_df['daily_listening_time'] = spotify_df['listening_time'] / 7\n",
    "# ambil sample acaks sebanyak 500 sample\n",
    "sample_df = spotify_df.sample(n=500, random_state=42)\n",
    "# Di dalam cell persiapan data Anda\n",
    "\n",
    "sample_df.head()"
   ]
  },
  {
   "cell_type": "code",
   "execution_count": 27,
   "id": "6c85e0a6",
   "metadata": {},
   "outputs": [
    {
     "data": {
      "image/png": "[encoded data removed]",
      "text/plain": [
       "<Figure size 1600x600 with 1 Axes>"
      ]
     },
     "metadata": {},
     "output_type": "display_data"
    }
   ],
   "source": [
    "import matplotlib.pyplot as plt\n",
    "import seaborn as sns\n",
    "\n",
    "plt.figure(figsize=(16,6))\n",
    "sns.histplot(sample_df['daily_listening_time'], bins=30, kde=True)\n",
    "plt.title('distribution of Listening Time')\n",
    "plt.show()"
   ]
  },
  {
   "cell_type": "markdown",
   "id": "4c0ff69d",
   "metadata": {},
   "source": [
    "---\n",
    "\n",
    "**4. Lakukan Uji Hipotesis:**\n",
    "\n",
    "- Hitung Statistik Sampel: Hitung rata-rata listening_time dari sampel Anda. Sebut ini mean_listening_samp.\n",
    "- Buat Distribusi Bootstrap: Lakukan resampling pada sampel listening_time Anda (dengan penggantian) sebanyak 5.000 kali. Di setiap iterasi, hitung rata-ratanya dan simpan hasilnya.\n",
    "- Hitung Standard Error: Hitung standar deviasi dari distribusi bootstrap yang Anda buat\n",
    "- Hitung Z-score: Gunakan rumus z-score dengan statistik sampel Anda, nilai hipotesis (30), dan standard error yang telah dihitung.\n",
    "    - z_score = (mean_listening_samp - 30) / std_error\n",
    "- Hitung P-value: Karena HA adalah 'lebih dari', ini adalah tes sisi kanan (right-tailed test). Untuk menghitung p-value, gunakan:\n",
    "    - p_value = 1 - norm.cdf(z_score) "
   ]
  },
  {
   "cell_type": "code",
   "execution_count": 29,
   "id": "8869ef22",
   "metadata": {},
   "outputs": [
    {
     "name": "stdout",
     "output_type": "stream",
     "text": [
      "Rata-rata waktu mendengarkan music pada sample dalam menit: 22.186571428571426\n",
      "Standard error: 0.544676423698175\n",
      "z-score: -14.34508311995211\n",
      "p-value: 1.0\n"
     ]
    }
   ],
   "source": [
    "mean_listening_time = sample_df['daily_listening_time'].mean()\n",
    "print('Rata-rata waktu mendengarkan music pada sample dalam menit:', mean_listening_time)\n",
    "\n",
    "# bootstrap distribution\n",
    "import numpy as np \n",
    "\n",
    " # Step 3. Repeat steps 1 & 2 many times, appending to a list \n",
    "spotify_boot_distn = [] \n",
    "\n",
    "for i in range(5000):   \n",
    "    spotify_boot_distn.append(     \n",
    " # # Step 2. Calculate point estimate    \n",
    "        np.mean(           \n",
    " # Step 1. Resample         \n",
    "        sample_df.sample(frac=1, replace=True)['daily_listening_time']) \n",
    "    ) \n",
    "\n",
    "std_error = np.std(spotify_boot_distn, ddof=1)\n",
    "print('Standard error:', std_error)\n",
    "\n",
    "# z-score\n",
    "z_score = (mean_listening_time - 30) / std_error\n",
    "print('z-score:', z_score)\n",
    "\n",
    "# p-value Ha : mean > 30\n",
    "from scipy.stats import norm \n",
    "\n",
    "p_value = 1 - norm.cdf(z_score, loc=0, scale=1)\n",
    "print('p-value:', p_value)"
   ]
  },
  {
   "cell_type": "code",
   "execution_count": 22,
   "id": "ed47cb6f",
   "metadata": {},
   "outputs": [
    {
     "data": {
      "image/png": "[encoded data removed]",
      "text/plain": [
       "<Figure size 1600x600 with 1 Axes>"
      ]
     },
     "metadata": {},
     "output_type": "display_data"
    }
   ],
   "source": [
    "plt.figure(figsize=(16,6))\n",
    "sns.histplot(spotify_boot_distn, bins=30, kde=True)\n",
    "plt.title('Bootstrap distribution of the mean Listening Score (500 samples)')\n",
    "plt.show()"
   ]
  },
  {
   "cell_type": "markdown",
   "id": "4141c50a",
   "metadata": {},
   "source": [
    "---\n",
    "**4. Tarik Kesimpulan:**\n",
    "\n",
    "- mencari H1 alternatif untuk membuktikan rata-rata waktu harian mendengarkan lebih besar dari 30 menit\n",
    "- tingkat signifikansi, misalnya α=0.05.\n",
    "- hasil p-value > α atau 0.0 < 0.5\n",
    "- Jika p-value ≤ α, Anda dapat menolak hipotesis nol. \n",
    "\n",
    "**Berdasarkan hasil uji hipotesis terhadap rata-rata waktu mendengarkan musik, Dengan tingkat signifikansi 5%, hasil uji menunjukkan nilai rata-rata sampel (22,19 menit) lebih kecil dari klaim populasi (30 menit) dengan nilai Z = -14,35 dan p-value = 1,0 untuk uji satu sisi (right-tailed). Oleh karena itu, keputusan uji adalah gagal menolak H0. Dengan demikian, tidak terbukti bahwa rata-rata waktu mendengarkan musik lebih besar dari 30 menit.**\n",
    "\n"
   ]
  },
  {
   "cell_type": "markdown",
   "id": "ee45979b",
   "metadata": {},
   "source": [
    "----"
   ]
  }
 ],
 "metadata": {
  "kernelspec": {
   "display_name": "Python 3",
   "language": "python",
   "name": "python3"
  },
  "language_info": {
   "codemirror_mode": {
    "name": "ipython",
    "version": 3
   },
   "file_extension": ".py",
   "mimetype": "text/x-python",
   "name": "python",
   "nbconvert_exporter": "python",
   "pygments_lexer": "ipython3",
   "version": "3.12.4"
  }
 },
 "nbformat": 4,
 "nbformat_minor": 5
}
