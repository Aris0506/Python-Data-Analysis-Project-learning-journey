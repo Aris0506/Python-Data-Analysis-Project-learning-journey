{
 "cells": [
  {
   "cell_type": "code",
   "execution_count": null,
   "id": "bc0ad277",
   "metadata": {},
   "outputs": [],
   "source": [
    "# Visualizing variable relationships\n",
    "\n",
    "# Create the scatterplot\n",
    "sns.scatterplot(data=divorce, x=\"marriage_duration\", y=\"num_kids\")\n",
    "plt.show()"
   ]
  },
  {
   "cell_type": "code",
   "execution_count": null,
   "id": "4caa6fc3",
   "metadata": {},
   "outputs": [],
   "source": [
    "# Visualizing multiple variable relationships\n",
    "\n",
    "# Create a pairplot for income_woman and marriage_duration\n",
    "sns.pairplot(data=divorce, vars=[\"income_woman\", \"marriage_duration\"])\n",
    "plt.show()"
   ]
  }
 ],
 "metadata": {
  "language_info": {
   "name": "python"
  }
 },
 "nbformat": 4,
 "nbformat_minor": 5
}
