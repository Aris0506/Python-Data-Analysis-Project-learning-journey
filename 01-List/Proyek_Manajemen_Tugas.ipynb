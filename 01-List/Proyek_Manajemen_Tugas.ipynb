# Langkah 1: Membuat daftar tugas awal
# Konsep yang diterapkan: Membuat list dan list di dalam list
# Deskripsi: Membuat daftar tugas harian yang berisi nama tugas dan durasi dalam menit.
# Tugas-tugas ini akan digunakan untuk simulasi pengelolaan data dinamis.  
# Contoh tugas: Balas email penting, Menyiapkan laporan mingguan, Membaca buku, Olahraga.
# Setiap tugas diwakili sebagai list yang berisi nama tugas dan durasi dalam menit.
# Daftar tugas akan disimpan dalam list utama yang berisi semua tugas.      
# Contoh kode:         
tugas1 = ["Balas email penting", 30]
tugas2 = ["Menyiapkan laporan mingguan", 90]
tugas3 = ["Membaca buku", 45]
tugas4 = ["Olahraga", 60]

daftar_tugas = [tugas1, tugas2, tugas3, tugas4]
print("Daftar Tugas Awal:")
print(daftar_tugas)

#########################################################################

# Langkah 2: Mengakses detail tugas
# Konsep yang diterapkan: Mengakses elemen dalam list
tugas_kedua = daftar_tugas[1]
print("\nDetail tugas kedua:", tugas_kedua)

# mengakses estimasi waktu tugas terakhir
# Konsep yang diterapkan: Mengakses elemen terakhir dalam list
waktu_tugas_terakhir = daftar_tugas[-1][1]
print("Estimasi waktu tugas terakhir:", waktu_tugas_terakhir, "menit")

################################################################################


# Langkah 3: Memperbarui waktu tugas
# Konsep yang diterapkan: Memodifikasi elemen dalam list
# Deskripsi: Mengubah durasi tugas ketiga menjadi 30 menit.
daftar_tugas[2][1] = 30 
print("\nDaftar setelah pembaruan waktu:", daftar_tugas)

##################################################################

# Menambah tugas baru
# Konsep yang diterapkan: Menambahkan elemen ke dalam list
# Deskripsi: Menambahkan tugas baru ke dalam daftar tugas.
tugas_tambahan = [["Meeting tim", 45], ["Beli makan siang", 15]]
daftar_tugas = daftar_tugas + tugas_tambahan
print("Daftar setelah ada tugas baru:", daftar_tugas)

#################################################################

# Langkah 4: Menghapus tugas yang selesai
# Konsep yang diterapkan: Menghapus elemen dari list
# Deskripsi: Menghapus tugas pertama dari daftar tugas yang sudah selesai.
# Ini mensimulasikan pengelolaan tugas harian yang dinamis.
# Menghapus tugas pertama dari daftar tugas yang sudah selesai.
# Contoh kode:
del(daftar_tugas[0])
print("\nDaftar setelah tugas pertama selesai:", daftar_tugas)

#####################################################################


# Langkah 5: Membuat daftar prioritas
# Konsep yang diterapkan: Mengakses elemen dalam list   
# Deskripsi: Membuat daftar prioritas dari 2 tugas teratas.
# Ini mensimulasikan pengelolaan tugas harian yang dinamis. 
# Mengakses 2 tugas teratas dari daftar tugas.
# Contoh kode:

# Membuat daftar prioritas dari 2 tugas teratas
tugas_prioritas = daftar_tugas[:2]
print("Daftar Tugas Prioritas:", tugas_prioritas)



############################################################

### Hasil akhir:

# setelah menjalankan kode ini, Anda akan melihat daftar tugas awal, detail tugas kedua, estimasi waktu tugas terakhir, 
# daftar setelah pembaruan waktu, daftar setelah ada tugas baru, daftar setelah tugas pertama selesai, dan daftar tugas prioritas.
# Ini memberikan gambaran tentang bagaimana mengelola data dinamis menggunakan list di Python.  

