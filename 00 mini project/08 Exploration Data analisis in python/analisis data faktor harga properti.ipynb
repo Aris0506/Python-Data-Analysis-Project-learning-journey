{
 "cells": [
  {
   "cell_type": "markdown",
   "id": "9e2c68a5",
   "metadata": {},
   "source": [
    "**Proyek: Analisis Eksplorasi Data (EDA) pada Dataset Penjualan Real Estate**\n",
    "\n",
    "\n",
    "**Tujuan:**\n",
    "Anda adalah seorang analis data di sebuah perusahaan properti. Anda diberi dataset penjualan rumah dan diminta untuk melakukan analisis eksplorasi untuk memahami faktor-faktor apa saja yang memengaruhi harga properti dan menemukan pola penjualan yang menarik.\n",
    "\n",
    "---"
   ]
  },
  {
   "cell_type": "markdown",
   "id": "5b385eb5",
   "metadata": {},
   "source": [
    "**Load Dataset**\n",
    "\n",
    "**1: Pemuatan dan Eksplorasi Awal**\n",
    "\n",
    "- Muat dataset ke dalam DataFrame pandas.\n",
    "- Gunakan .head(), .info(), dan .describe() untuk mendapatkan gambaran umum data. Identifikasi kolom mana yang memiliki tipe data yang salah atau data yang hilang."
   ]
  },
  {
   "cell_type": "code",
   "execution_count": 202,
   "id": "7a15f3b4",
   "metadata": {},
   "outputs": [
    {
     "name": "stdout",
     "output_type": "stream",
     "text": [
      "Path to dataset files: C:\\Users\\USER\\.cache\\kagglehub\\datasets\\subhiarjaria09\\real-estate-property-transactions-dataset\\versions\\1\n",
      "['V3.csv']\n"
     ]
    }
   ],
   "source": [
    "import kagglehub\n",
    "import os\n",
    "\n",
    "# Download latest version\n",
    "path = kagglehub.dataset_download(\"subhiarjaria09/real-estate-property-transactions-dataset\")\n",
    "\n",
    "print(\"Path to dataset files:\", path)\n",
    "\n",
    "\n",
    "# Cek file apa saja yang ada di folder dataset\n",
    "print(os.listdir(path))\n"
   ]
  },
  {
   "cell_type": "code",
   "execution_count": 203,
   "id": "0fb7392c",
   "metadata": {},
   "outputs": [],
   "source": [
    "file_path = os.path.join(path, \"V3.csv\")"
   ]
  },
  {
   "cell_type": "code",
   "execution_count": 204,
   "id": "8ae042cb",
   "metadata": {},
   "outputs": [],
   "source": [
    "import pandas as pd\n",
    "import matplotlib.pyplot as plt\n",
    "import seaborn as sns\n",
    "\n",
    "real_estate_trans_df = pd.read_csv(file_path)"
   ]
  },
  {
   "cell_type": "markdown",
   "id": "bee43aee",
   "metadata": {},
   "source": [
    "***muat dataset ke dataframe***"
   ]
  },
  {
   "cell_type": "code",
   "execution_count": 205,
   "id": "2f465dab",
   "metadata": {},
   "outputs": [
    {
     "name": "stdout",
     "output_type": "stream",
     "text": [
      "Dataset_penjualan Real estate\n"
     ]
    },
    {
     "data": {
      "application/vnd.microsoft.datawrangler.viewer.v0+json": {
       "columns": [
        {
         "name": "index",
         "rawType": "int64",
         "type": "integer"
        },
        {
         "name": "Date",
         "rawType": "object",
         "type": "string"
        },
        {
         "name": "Year",
         "rawType": "int64",
         "type": "integer"
        },
        {
         "name": "Locality",
         "rawType": "object",
         "type": "unknown"
        },
        {
         "name": "Estimated Value",
         "rawType": "float64",
         "type": "float"
        },
        {
         "name": "Sale Price",
         "rawType": "float64",
         "type": "float"
        },
        {
         "name": "Property",
         "rawType": "object",
         "type": "string"
        },
        {
         "name": "Residential",
         "rawType": "object",
         "type": "string"
        },
        {
         "name": "num_rooms",
         "rawType": "int64",
         "type": "integer"
        },
        {
         "name": "num_bathrooms",
         "rawType": "int64",
         "type": "integer"
        },
        {
         "name": "carpet_area",
         "rawType": "float64",
         "type": "float"
        },
        {
         "name": "property_tax_rate",
         "rawType": "float64",
         "type": "float"
        },
        {
         "name": "Face",
         "rawType": "object",
         "type": "string"
        }
       ],
       "ref": "9a72d910-bd8f-4a3c-9353-60a54ac2f067",
       "rows": [
        [
         "0",
         "2009-01-02",
         "2009",
         "Waterbury",
         "111440.0",
         "185000.0",
         "Single Family",
         "Detached House",
         "3",
         "3",
         "996.0",
         "1.025953",
         "South"
        ],
        [
         "1",
         "2009-01-02",
         "2009",
         null,
         "73080.0",
         "152000.0",
         "Single Family",
         "Detached House",
         "3",
         "1",
         "935.0",
         "1.025953",
         "North"
        ],
        [
         "2",
         "2009-01-02",
         "2009",
         "Waterbury",
         "50540.0",
         "105000.0",
         "Single Family",
         "Detached House",
         "3",
         "1",
         "951.0",
         "1.025953",
         "East"
        ],
        [
         "3",
         "2009-01-02",
         "2009",
         "Norwalk",
         "571060.0",
         "1000000.0",
         "Single Family",
         "Detached House",
         "3",
         "2",
         null,
         "1.025953",
         "South"
        ],
        [
         "4",
         "2009-01-02",
         "2009",
         "Bridgeport",
         "4775276.0",
         "272900.0",
         "Single Family",
         "Detached House",
         "3",
         "1",
         "971.0",
         "1.025953",
         "East"
        ]
       ],
       "shape": {
        "columns": 12,
        "rows": 5
       }
      },
      "text/html": [
       "<div>\n",
       "<style scoped>\n",
       "    .dataframe tbody tr th:only-of-type {\n",
       "        vertical-align: middle;\n",
       "    }\n",
       "\n",
       "    .dataframe tbody tr th {\n",
       "        vertical-align: top;\n",
       "    }\n",
       "\n",
       "    .dataframe thead th {\n",
       "        text-align: right;\n",
       "    }\n",
       "</style>\n",
       "<table border=\"1\" class=\"dataframe\">\n",
       "  <thead>\n",
       "    <tr style=\"text-align: right;\">\n",
       "      <th></th>\n",
       "      <th>Date</th>\n",
       "      <th>Year</th>\n",
       "      <th>Locality</th>\n",
       "      <th>Estimated Value</th>\n",
       "      <th>Sale Price</th>\n",
       "      <th>Property</th>\n",
       "      <th>Residential</th>\n",
       "      <th>num_rooms</th>\n",
       "      <th>num_bathrooms</th>\n",
       "      <th>carpet_area</th>\n",
       "      <th>property_tax_rate</th>\n",
       "      <th>Face</th>\n",
       "    </tr>\n",
       "  </thead>\n",
       "  <tbody>\n",
       "    <tr>\n",
       "      <th>0</th>\n",
       "      <td>2009-01-02</td>\n",
       "      <td>2009</td>\n",
       "      <td>Waterbury</td>\n",
       "      <td>111440.0</td>\n",
       "      <td>185000.0</td>\n",
       "      <td>Single Family</td>\n",
       "      <td>Detached House</td>\n",
       "      <td>3</td>\n",
       "      <td>3</td>\n",
       "      <td>996.0</td>\n",
       "      <td>1.025953</td>\n",
       "      <td>South</td>\n",
       "    </tr>\n",
       "    <tr>\n",
       "      <th>1</th>\n",
       "      <td>2009-01-02</td>\n",
       "      <td>2009</td>\n",
       "      <td>NaN</td>\n",
       "      <td>73080.0</td>\n",
       "      <td>152000.0</td>\n",
       "      <td>Single Family</td>\n",
       "      <td>Detached House</td>\n",
       "      <td>3</td>\n",
       "      <td>1</td>\n",
       "      <td>935.0</td>\n",
       "      <td>1.025953</td>\n",
       "      <td>North</td>\n",
       "    </tr>\n",
       "    <tr>\n",
       "      <th>2</th>\n",
       "      <td>2009-01-02</td>\n",
       "      <td>2009</td>\n",
       "      <td>Waterbury</td>\n",
       "      <td>50540.0</td>\n",
       "      <td>105000.0</td>\n",
       "      <td>Single Family</td>\n",
       "      <td>Detached House</td>\n",
       "      <td>3</td>\n",
       "      <td>1</td>\n",
       "      <td>951.0</td>\n",
       "      <td>1.025953</td>\n",
       "      <td>East</td>\n",
       "    </tr>\n",
       "    <tr>\n",
       "      <th>3</th>\n",
       "      <td>2009-01-02</td>\n",
       "      <td>2009</td>\n",
       "      <td>Norwalk</td>\n",
       "      <td>571060.0</td>\n",
       "      <td>1000000.0</td>\n",
       "      <td>Single Family</td>\n",
       "      <td>Detached House</td>\n",
       "      <td>3</td>\n",
       "      <td>2</td>\n",
       "      <td>NaN</td>\n",
       "      <td>1.025953</td>\n",
       "      <td>South</td>\n",
       "    </tr>\n",
       "    <tr>\n",
       "      <th>4</th>\n",
       "      <td>2009-01-02</td>\n",
       "      <td>2009</td>\n",
       "      <td>Bridgeport</td>\n",
       "      <td>4775276.0</td>\n",
       "      <td>272900.0</td>\n",
       "      <td>Single Family</td>\n",
       "      <td>Detached House</td>\n",
       "      <td>3</td>\n",
       "      <td>1</td>\n",
       "      <td>971.0</td>\n",
       "      <td>1.025953</td>\n",
       "      <td>East</td>\n",
       "    </tr>\n",
       "  </tbody>\n",
       "</table>\n",
       "</div>"
      ],
      "text/plain": [
       "         Date  Year    Locality  Estimated Value  Sale Price       Property  \\\n",
       "0  2009-01-02  2009   Waterbury         111440.0    185000.0  Single Family   \n",
       "1  2009-01-02  2009         NaN          73080.0    152000.0  Single Family   \n",
       "2  2009-01-02  2009   Waterbury          50540.0    105000.0  Single Family   \n",
       "3  2009-01-02  2009     Norwalk         571060.0   1000000.0  Single Family   \n",
       "4  2009-01-02  2009  Bridgeport        4775276.0    272900.0  Single Family   \n",
       "\n",
       "      Residential  num_rooms  num_bathrooms  carpet_area  property_tax_rate  \\\n",
       "0  Detached House          3              3        996.0           1.025953   \n",
       "1  Detached House          3              1        935.0           1.025953   \n",
       "2  Detached House          3              1        951.0           1.025953   \n",
       "3  Detached House          3              2          NaN           1.025953   \n",
       "4  Detached House          3              1        971.0           1.025953   \n",
       "\n",
       "    Face  \n",
       "0  South  \n",
       "1  North  \n",
       "2   East  \n",
       "3  South  \n",
       "4   East  "
      ]
     },
     "execution_count": 205,
     "metadata": {},
     "output_type": "execute_result"
    }
   ],
   "source": [
    "print('Dataset_penjualan Real estate')\n",
    "real_estate_trans_df.head()"
   ]
  },
  {
   "cell_type": "markdown",
   "id": "aa7da47b",
   "metadata": {},
   "source": [
    "***get an overview***"
   ]
  },
  {
   "cell_type": "code",
   "execution_count": 206,
   "id": "7cae134a",
   "metadata": {},
   "outputs": [
    {
     "name": "stdout",
     "output_type": "stream",
     "text": [
      "<class 'pandas.core.frame.DataFrame'>\n",
      "RangeIndex: 10000 entries, 0 to 9999\n",
      "Data columns (total 12 columns):\n",
      " #   Column             Non-Null Count  Dtype  \n",
      "---  ------             --------------  -----  \n",
      " 0   Date               10000 non-null  object \n",
      " 1   Year               10000 non-null  int64  \n",
      " 2   Locality           8745 non-null   object \n",
      " 3   Estimated Value    8771 non-null   float64\n",
      " 4   Sale Price         10000 non-null  float64\n",
      " 5   Property           10000 non-null  object \n",
      " 6   Residential        10000 non-null  object \n",
      " 7   num_rooms          10000 non-null  int64  \n",
      " 8   num_bathrooms      10000 non-null  int64  \n",
      " 9   carpet_area        8718 non-null   float64\n",
      " 10  property_tax_rate  10000 non-null  float64\n",
      " 11  Face               10000 non-null  object \n",
      "dtypes: float64(4), int64(3), object(5)\n",
      "memory usage: 937.6+ KB\n"
     ]
    }
   ],
   "source": [
    "real_estate_trans_df.info()"
   ]
  },
  {
   "cell_type": "code",
   "execution_count": 207,
   "id": "16a086df",
   "metadata": {},
   "outputs": [
    {
     "data": {
      "application/vnd.microsoft.datawrangler.viewer.v0+json": {
       "columns": [
        {
         "name": "index",
         "rawType": "object",
         "type": "string"
        },
        {
         "name": "Year",
         "rawType": "float64",
         "type": "float"
        },
        {
         "name": "Estimated Value",
         "rawType": "float64",
         "type": "float"
        },
        {
         "name": "Sale Price",
         "rawType": "float64",
         "type": "float"
        },
        {
         "name": "num_rooms",
         "rawType": "float64",
         "type": "float"
        },
        {
         "name": "num_bathrooms",
         "rawType": "float64",
         "type": "float"
        },
        {
         "name": "carpet_area",
         "rawType": "float64",
         "type": "float"
        },
        {
         "name": "property_tax_rate",
         "rawType": "float64",
         "type": "float"
        }
       ],
       "ref": "9cb9fe1b-72e9-4c5c-abd1-9ef5465f56e3",
       "rows": [
        [
         "count",
         "10000.0",
         "8771.0",
         "10000.0",
         "10000.0",
         "10000.0",
         "8718.0",
         "10000.0"
        ],
        [
         "mean",
         "2015.8801",
         "444584.20704594685",
         "622474.8346",
         "3.3296",
         "2.334",
         "1111.6589814177564",
         "1.1435168593999998"
        ],
        [
         "std",
         "4.088030722673077",
         "751356.4590500176",
         "1029709.441727534",
         "0.8851226944432178",
         "1.209293280814833",
         "305.0584549064621",
         "0.1667620780888612"
        ],
        [
         "min",
         "2009.0",
         "0.0",
         "2000.0",
         "3.0",
         "1.0",
         "900.0",
         "1.003979"
        ],
        [
         "25%",
         "2012.0",
         "130525.0",
         "160000.0",
         "3.0",
         "1.0",
         "960.0",
         "1.0234955"
        ],
        [
         "50%",
         "2016.0",
         "243180.0",
         "340000.0",
         "3.0",
         "2.0",
         "1021.0",
         "1.0258995"
        ],
        [
         "75%",
         "2019.0",
         "441830.0",
         "630000.0",
         "3.0",
         "3.0",
         "1082.0",
         "1.348259"
        ],
        [
         "max",
         "2022.0",
         "21119910.0",
         "25750000.0",
         "8.0",
         "8.0",
         "2989.0",
         "1.422308"
        ]
       ],
       "shape": {
        "columns": 7,
        "rows": 8
       }
      },
      "text/html": [
       "<div>\n",
       "<style scoped>\n",
       "    .dataframe tbody tr th:only-of-type {\n",
       "        vertical-align: middle;\n",
       "    }\n",
       "\n",
       "    .dataframe tbody tr th {\n",
       "        vertical-align: top;\n",
       "    }\n",
       "\n",
       "    .dataframe thead th {\n",
       "        text-align: right;\n",
       "    }\n",
       "</style>\n",
       "<table border=\"1\" class=\"dataframe\">\n",
       "  <thead>\n",
       "    <tr style=\"text-align: right;\">\n",
       "      <th></th>\n",
       "      <th>Year</th>\n",
       "      <th>Estimated Value</th>\n",
       "      <th>Sale Price</th>\n",
       "      <th>num_rooms</th>\n",
       "      <th>num_bathrooms</th>\n",
       "      <th>carpet_area</th>\n",
       "      <th>property_tax_rate</th>\n",
       "    </tr>\n",
       "  </thead>\n",
       "  <tbody>\n",
       "    <tr>\n",
       "      <th>count</th>\n",
       "      <td>10000.000000</td>\n",
       "      <td>8.771000e+03</td>\n",
       "      <td>1.000000e+04</td>\n",
       "      <td>10000.000000</td>\n",
       "      <td>10000.000000</td>\n",
       "      <td>8718.000000</td>\n",
       "      <td>10000.000000</td>\n",
       "    </tr>\n",
       "    <tr>\n",
       "      <th>mean</th>\n",
       "      <td>2015.880100</td>\n",
       "      <td>4.445842e+05</td>\n",
       "      <td>6.224748e+05</td>\n",
       "      <td>3.329600</td>\n",
       "      <td>2.334000</td>\n",
       "      <td>1111.658981</td>\n",
       "      <td>1.143517</td>\n",
       "    </tr>\n",
       "    <tr>\n",
       "      <th>std</th>\n",
       "      <td>4.088031</td>\n",
       "      <td>7.513565e+05</td>\n",
       "      <td>1.029709e+06</td>\n",
       "      <td>0.885123</td>\n",
       "      <td>1.209293</td>\n",
       "      <td>305.058455</td>\n",
       "      <td>0.166762</td>\n",
       "    </tr>\n",
       "    <tr>\n",
       "      <th>min</th>\n",
       "      <td>2009.000000</td>\n",
       "      <td>0.000000e+00</td>\n",
       "      <td>2.000000e+03</td>\n",
       "      <td>3.000000</td>\n",
       "      <td>1.000000</td>\n",
       "      <td>900.000000</td>\n",
       "      <td>1.003979</td>\n",
       "    </tr>\n",
       "    <tr>\n",
       "      <th>25%</th>\n",
       "      <td>2012.000000</td>\n",
       "      <td>1.305250e+05</td>\n",
       "      <td>1.600000e+05</td>\n",
       "      <td>3.000000</td>\n",
       "      <td>1.000000</td>\n",
       "      <td>960.000000</td>\n",
       "      <td>1.023495</td>\n",
       "    </tr>\n",
       "    <tr>\n",
       "      <th>50%</th>\n",
       "      <td>2016.000000</td>\n",
       "      <td>2.431800e+05</td>\n",
       "      <td>3.400000e+05</td>\n",
       "      <td>3.000000</td>\n",
       "      <td>2.000000</td>\n",
       "      <td>1021.000000</td>\n",
       "      <td>1.025899</td>\n",
       "    </tr>\n",
       "    <tr>\n",
       "      <th>75%</th>\n",
       "      <td>2019.000000</td>\n",
       "      <td>4.418300e+05</td>\n",
       "      <td>6.300000e+05</td>\n",
       "      <td>3.000000</td>\n",
       "      <td>3.000000</td>\n",
       "      <td>1082.000000</td>\n",
       "      <td>1.348259</td>\n",
       "    </tr>\n",
       "    <tr>\n",
       "      <th>max</th>\n",
       "      <td>2022.000000</td>\n",
       "      <td>2.111991e+07</td>\n",
       "      <td>2.575000e+07</td>\n",
       "      <td>8.000000</td>\n",
       "      <td>8.000000</td>\n",
       "      <td>2989.000000</td>\n",
       "      <td>1.422308</td>\n",
       "    </tr>\n",
       "  </tbody>\n",
       "</table>\n",
       "</div>"
      ],
      "text/plain": [
       "               Year  Estimated Value    Sale Price     num_rooms  \\\n",
       "count  10000.000000     8.771000e+03  1.000000e+04  10000.000000   \n",
       "mean    2015.880100     4.445842e+05  6.224748e+05      3.329600   \n",
       "std        4.088031     7.513565e+05  1.029709e+06      0.885123   \n",
       "min     2009.000000     0.000000e+00  2.000000e+03      3.000000   \n",
       "25%     2012.000000     1.305250e+05  1.600000e+05      3.000000   \n",
       "50%     2016.000000     2.431800e+05  3.400000e+05      3.000000   \n",
       "75%     2019.000000     4.418300e+05  6.300000e+05      3.000000   \n",
       "max     2022.000000     2.111991e+07  2.575000e+07      8.000000   \n",
       "\n",
       "       num_bathrooms  carpet_area  property_tax_rate  \n",
       "count   10000.000000  8718.000000       10000.000000  \n",
       "mean        2.334000  1111.658981           1.143517  \n",
       "std         1.209293   305.058455           0.166762  \n",
       "min         1.000000   900.000000           1.003979  \n",
       "25%         1.000000   960.000000           1.023495  \n",
       "50%         2.000000  1021.000000           1.025899  \n",
       "75%         3.000000  1082.000000           1.348259  \n",
       "max         8.000000  2989.000000           1.422308  "
      ]
     },
     "execution_count": 207,
     "metadata": {},
     "output_type": "execute_result"
    }
   ],
   "source": [
    "real_estate_trans_df.describe()"
   ]
  },
  {
   "cell_type": "markdown",
   "id": "3a2394e3",
   "metadata": {},
   "source": [
    "---\n",
    "\n",
    "**2: Pembersihan dan Validasi Data**\n",
    "\n",
    "- Tangani Data Hilang: Lakukan imputasi untuk kolom Jumlah Kamar Tidur yang hilang. Pilihlah antara median atau modus dan berikan alasan Anda.\n",
    "- Konversi Tipe Data: Ubah kolom Tanggal Penjualan dari object menjadi datetime. Ubah Jumlah Kamar Tidur menjadi int.\n",
    "- Identifikasi Outlier: Gunakan box plot untuk memeriksa outlier pada kolom Harga (USD) dan Luas Bangunan (m2). Analisis outlier tersebut, apakah perlu dihapus atau dipertahankan? Jelaskan keputusan Anda."
   ]
  },
  {
   "cell_type": "markdown",
   "id": "56cb07dd",
   "metadata": {},
   "source": [
    "***tangani data yang hilang***"
   ]
  },
  {
   "cell_type": "code",
   "execution_count": 208,
   "id": "2627d46b",
   "metadata": {},
   "outputs": [
    {
     "data": {
      "application/vnd.microsoft.datawrangler.viewer.v0+json": {
       "columns": [
        {
         "name": "index",
         "rawType": "int64",
         "type": "integer"
        },
        {
         "name": "Date",
         "rawType": "object",
         "type": "string"
        },
        {
         "name": "Year",
         "rawType": "int64",
         "type": "integer"
        },
        {
         "name": "Locality",
         "rawType": "object",
         "type": "unknown"
        },
        {
         "name": "Estimated Value",
         "rawType": "float64",
         "type": "float"
        },
        {
         "name": "Sale Price",
         "rawType": "float64",
         "type": "float"
        },
        {
         "name": "Property",
         "rawType": "object",
         "type": "string"
        },
        {
         "name": "Residential",
         "rawType": "object",
         "type": "string"
        },
        {
         "name": "num_rooms",
         "rawType": "int64",
         "type": "integer"
        },
        {
         "name": "num_bathrooms",
         "rawType": "int64",
         "type": "integer"
        },
        {
         "name": "carpet_area",
         "rawType": "float64",
         "type": "float"
        },
        {
         "name": "property_tax_rate",
         "rawType": "float64",
         "type": "float"
        },
        {
         "name": "Face",
         "rawType": "object",
         "type": "string"
        },
        {
         "name": "num_bedrooms",
         "rawType": "int64",
         "type": "integer"
        }
       ],
       "ref": "c0f5ace2-67a0-46fe-bb3e-a27de556a443",
       "rows": [
        [
         "0",
         "2009-01-02",
         "2009",
         "Waterbury",
         "111440.0",
         "185000.0",
         "Single Family",
         "Detached House",
         "3",
         "3",
         "996.0",
         "1.025953",
         "South",
         "0"
        ],
        [
         "1",
         "2009-01-02",
         "2009",
         null,
         "73080.0",
         "152000.0",
         "Single Family",
         "Detached House",
         "3",
         "1",
         "935.0",
         "1.025953",
         "North",
         "2"
        ],
        [
         "2",
         "2009-01-02",
         "2009",
         "Waterbury",
         "50540.0",
         "105000.0",
         "Single Family",
         "Detached House",
         "3",
         "1",
         "951.0",
         "1.025953",
         "East",
         "2"
        ],
        [
         "3",
         "2009-01-02",
         "2009",
         "Norwalk",
         "571060.0",
         "1000000.0",
         "Single Family",
         "Detached House",
         "3",
         "2",
         null,
         "1.025953",
         "South",
         "1"
        ],
        [
         "4",
         "2009-01-02",
         "2009",
         "Bridgeport",
         "4775276.0",
         "272900.0",
         "Single Family",
         "Detached House",
         "3",
         "1",
         "971.0",
         "1.025953",
         "East",
         "2"
        ]
       ],
       "shape": {
        "columns": 13,
        "rows": 5
       }
      },
      "text/html": [
       "<div>\n",
       "<style scoped>\n",
       "    .dataframe tbody tr th:only-of-type {\n",
       "        vertical-align: middle;\n",
       "    }\n",
       "\n",
       "    .dataframe tbody tr th {\n",
       "        vertical-align: top;\n",
       "    }\n",
       "\n",
       "    .dataframe thead th {\n",
       "        text-align: right;\n",
       "    }\n",
       "</style>\n",
       "<table border=\"1\" class=\"dataframe\">\n",
       "  <thead>\n",
       "    <tr style=\"text-align: right;\">\n",
       "      <th></th>\n",
       "      <th>Date</th>\n",
       "      <th>Year</th>\n",
       "      <th>Locality</th>\n",
       "      <th>Estimated Value</th>\n",
       "      <th>Sale Price</th>\n",
       "      <th>Property</th>\n",
       "      <th>Residential</th>\n",
       "      <th>num_rooms</th>\n",
       "      <th>num_bathrooms</th>\n",
       "      <th>carpet_area</th>\n",
       "      <th>property_tax_rate</th>\n",
       "      <th>Face</th>\n",
       "      <th>num_bedrooms</th>\n",
       "    </tr>\n",
       "  </thead>\n",
       "  <tbody>\n",
       "    <tr>\n",
       "      <th>0</th>\n",
       "      <td>2009-01-02</td>\n",
       "      <td>2009</td>\n",
       "      <td>Waterbury</td>\n",
       "      <td>111440.0</td>\n",
       "      <td>185000.0</td>\n",
       "      <td>Single Family</td>\n",
       "      <td>Detached House</td>\n",
       "      <td>3</td>\n",
       "      <td>3</td>\n",
       "      <td>996.0</td>\n",
       "      <td>1.025953</td>\n",
       "      <td>South</td>\n",
       "      <td>0</td>\n",
       "    </tr>\n",
       "    <tr>\n",
       "      <th>1</th>\n",
       "      <td>2009-01-02</td>\n",
       "      <td>2009</td>\n",
       "      <td>NaN</td>\n",
       "      <td>73080.0</td>\n",
       "      <td>152000.0</td>\n",
       "      <td>Single Family</td>\n",
       "      <td>Detached House</td>\n",
       "      <td>3</td>\n",
       "      <td>1</td>\n",
       "      <td>935.0</td>\n",
       "      <td>1.025953</td>\n",
       "      <td>North</td>\n",
       "      <td>2</td>\n",
       "    </tr>\n",
       "    <tr>\n",
       "      <th>2</th>\n",
       "      <td>2009-01-02</td>\n",
       "      <td>2009</td>\n",
       "      <td>Waterbury</td>\n",
       "      <td>50540.0</td>\n",
       "      <td>105000.0</td>\n",
       "      <td>Single Family</td>\n",
       "      <td>Detached House</td>\n",
       "      <td>3</td>\n",
       "      <td>1</td>\n",
       "      <td>951.0</td>\n",
       "      <td>1.025953</td>\n",
       "      <td>East</td>\n",
       "      <td>2</td>\n",
       "    </tr>\n",
       "    <tr>\n",
       "      <th>3</th>\n",
       "      <td>2009-01-02</td>\n",
       "      <td>2009</td>\n",
       "      <td>Norwalk</td>\n",
       "      <td>571060.0</td>\n",
       "      <td>1000000.0</td>\n",
       "      <td>Single Family</td>\n",
       "      <td>Detached House</td>\n",
       "      <td>3</td>\n",
       "      <td>2</td>\n",
       "      <td>NaN</td>\n",
       "      <td>1.025953</td>\n",
       "      <td>South</td>\n",
       "      <td>1</td>\n",
       "    </tr>\n",
       "    <tr>\n",
       "      <th>4</th>\n",
       "      <td>2009-01-02</td>\n",
       "      <td>2009</td>\n",
       "      <td>Bridgeport</td>\n",
       "      <td>4775276.0</td>\n",
       "      <td>272900.0</td>\n",
       "      <td>Single Family</td>\n",
       "      <td>Detached House</td>\n",
       "      <td>3</td>\n",
       "      <td>1</td>\n",
       "      <td>971.0</td>\n",
       "      <td>1.025953</td>\n",
       "      <td>East</td>\n",
       "      <td>2</td>\n",
       "    </tr>\n",
       "  </tbody>\n",
       "</table>\n",
       "</div>"
      ],
      "text/plain": [
       "         Date  Year    Locality  Estimated Value  Sale Price       Property  \\\n",
       "0  2009-01-02  2009   Waterbury         111440.0    185000.0  Single Family   \n",
       "1  2009-01-02  2009         NaN          73080.0    152000.0  Single Family   \n",
       "2  2009-01-02  2009   Waterbury          50540.0    105000.0  Single Family   \n",
       "3  2009-01-02  2009     Norwalk         571060.0   1000000.0  Single Family   \n",
       "4  2009-01-02  2009  Bridgeport        4775276.0    272900.0  Single Family   \n",
       "\n",
       "      Residential  num_rooms  num_bathrooms  carpet_area  property_tax_rate  \\\n",
       "0  Detached House          3              3        996.0           1.025953   \n",
       "1  Detached House          3              1        935.0           1.025953   \n",
       "2  Detached House          3              1        951.0           1.025953   \n",
       "3  Detached House          3              2          NaN           1.025953   \n",
       "4  Detached House          3              1        971.0           1.025953   \n",
       "\n",
       "    Face  num_bedrooms  \n",
       "0  South             0  \n",
       "1  North             2  \n",
       "2   East             2  \n",
       "3  South             1  \n",
       "4   East             2  "
      ]
     },
     "execution_count": 208,
     "metadata": {},
     "output_type": "execute_result"
    }
   ],
   "source": [
    "# buat kolom kamar tidur anggap  pengurangan ruangan dan kamar mandi menghasilkan kamar tidur\n",
    "# jika ada nilai yang 0 anggap itu missing value\n",
    "real_estate_trans_df['num_bedrooms'] = real_estate_trans_df['num_rooms'] - real_estate_trans_df['num_bathrooms']\n",
    "\n",
    "real_estate_trans_df.head()"
   ]
  },
  {
   "cell_type": "code",
   "execution_count": 209,
   "id": "2a606c8b",
   "metadata": {},
   "outputs": [
    {
     "name": "stdout",
     "output_type": "stream",
     "text": [
      "\n",
      "Outlier num_bedrooms yang terdeteksi dengan IQR:\n",
      "0       0\n",
      "1       2\n",
      "2       2\n",
      "3       1\n",
      "4       2\n",
      "       ..\n",
      "9995    1\n",
      "9996    0\n",
      "9997    2\n",
      "9998    1\n",
      "9999    2\n",
      "Name: num_bedrooms, Length: 10000, dtype: int64\n"
     ]
    }
   ],
   "source": [
    "# cek outlier dengan IQR\n",
    "Q1 = real_estate_trans_df['num_bedrooms'].quantile(0.25)\n",
    "Q3 = real_estate_trans_df['num_bedrooms'].quantile(0.75)\n",
    "\n",
    "IQR = Q3 -  Q1\n",
    "\n",
    "lower_bound = Q1 - 1.5 * IQR\n",
    "upper_bound = Q3 - 1.5 * IQR\n",
    "\n",
    "outlier = real_estate_trans_df[(real_estate_trans_df['num_bedrooms'] < lower_bound) | (real_estate_trans_df['num_bedrooms'] > upper_bound)]\n",
    "\n",
    "print('\\nOutlier num_bedrooms yang terdeteksi dengan IQR:')\n",
    "print(outlier['num_bedrooms'])"
   ]
  },
  {
   "cell_type": "code",
   "execution_count": 210,
   "id": "75baaa2f",
   "metadata": {},
   "outputs": [
    {
     "data": {
      "image/png": "[encoded data removed]",
      "text/plain": [
       "<Figure size 1600x600 with 1 Axes>"
      ]
     },
     "metadata": {},
     "output_type": "display_data"
    }
   ],
   "source": [
    "# lihat dengan boxplot agar lebih enak\n",
    "\n",
    "plt.figure(figsize=(16, 6))\n",
    "sns.boxplot(data=real_estate_trans_df, y='num_bedrooms')\n",
    "plt.title('Box Plot of Number of Bedrooms with outlier')\n",
    "plt.show()"
   ]
  },
  {
   "cell_type": "code",
   "execution_count": 211,
   "id": "acfab8c7",
   "metadata": {},
   "outputs": [
    {
     "name": "stdout",
     "output_type": "stream",
     "text": [
      "0.9956\n"
     ]
    }
   ],
   "source": [
    "print(real_estate_trans_df['num_bedrooms'].mean())"
   ]
  },
  {
   "cell_type": "markdown",
   "id": "50e761af",
   "metadata": {},
   "source": [
    "- tidak terdeteksi outlier nilai cenderung antara 0 sampai 2 oleh karena itu kita bisa menggunakan nilai mean untuk mengisi\n",
    "missing value ini sangat aman tetapi pada saat di hitung meannya ada di kisaran 0.9956 yang menyebabkan missing values akan terisi\n",
    "dengan 0 kembali jadi saya akan mengisi dengan mode saja."
   ]
  },
  {
   "cell_type": "code",
   "execution_count": 212,
   "id": "9aa91963",
   "metadata": {},
   "outputs": [],
   "source": [
    "# imputation missing value dengan mode\n",
    "mode_bedrooms = real_estate_trans_df[real_estate_trans_df['num_bedrooms'] != 0]['num_bedrooms'].mode()[0]\n",
    "real_estate_trans_df['num_bedrooms'] = real_estate_trans_df['num_bedrooms'].replace(0, mode_bedrooms)\n",
    "\n",
    "# pastikan integer\n",
    "real_estate_trans_df['num_bedrooms'] = real_estate_trans_df['num_bedrooms'].astype(int)\n"
   ]
  },
  {
   "cell_type": "code",
   "execution_count": 213,
   "id": "74d9721d",
   "metadata": {},
   "outputs": [
    {
     "name": "stdout",
     "output_type": "stream",
     "text": [
      "Date                  object\n",
      "Year                   int64\n",
      "Locality              object\n",
      "Estimated Value      float64\n",
      "Sale Price           float64\n",
      "Property              object\n",
      "Residential           object\n",
      "num_rooms              int64\n",
      "num_bathrooms          int64\n",
      "carpet_area          float64\n",
      "property_tax_rate    float64\n",
      "Face                  object\n",
      "num_bedrooms           int32\n",
      "dtype: object\n"
     ]
    }
   ],
   "source": [
    "print(real_estate_trans_df.dtypes)"
   ]
  },
  {
   "cell_type": "code",
   "execution_count": 214,
   "id": "becbcde5",
   "metadata": {},
   "outputs": [
    {
     "name": "stdout",
     "output_type": "stream",
     "text": [
      "         Date  Year    Locality  Estimated Value  Sale Price       Property  \\\n",
      "0  2009-01-02  2009   Waterbury         111440.0    185000.0  Single Family   \n",
      "1  2009-01-02  2009         NaN          73080.0    152000.0  Single Family   \n",
      "2  2009-01-02  2009   Waterbury          50540.0    105000.0  Single Family   \n",
      "3  2009-01-02  2009     Norwalk         571060.0   1000000.0  Single Family   \n",
      "4  2009-01-02  2009  Bridgeport        4775276.0    272900.0  Single Family   \n",
      "\n",
      "      Residential  num_rooms  num_bathrooms  carpet_area  property_tax_rate  \\\n",
      "0  Detached House          3              3        996.0           1.025953   \n",
      "1  Detached House          3              1        935.0           1.025953   \n",
      "2  Detached House          3              1        951.0           1.025953   \n",
      "3  Detached House          3              2          NaN           1.025953   \n",
      "4  Detached House          3              1        971.0           1.025953   \n",
      "\n",
      "    Face  num_bedrooms  \n",
      "0  South             2  \n",
      "1  North             2  \n",
      "2   East             2  \n",
      "3  South             1  \n",
      "4   East             2  \n"
     ]
    }
   ],
   "source": [
    "print(real_estate_trans_df.head())"
   ]
  },
  {
   "cell_type": "markdown",
   "id": "a96d6d98",
   "metadata": {},
   "source": [
    "***additional mengisi seluruh missing value dari semua kolom yang mempunya missing value agar lebih clean***"
   ]
  },
  {
   "cell_type": "code",
   "execution_count": 215,
   "id": "881994e9",
   "metadata": {},
   "outputs": [
    {
     "data": {
      "application/vnd.microsoft.datawrangler.viewer.v0+json": {
       "columns": [
        {
         "name": "index",
         "rawType": "object",
         "type": "string"
        },
        {
         "name": "0",
         "rawType": "int64",
         "type": "integer"
        }
       ],
       "ref": "74d8d05d-50fa-4870-915d-ad2dba39983f",
       "rows": [
        [
         "Date",
         "0"
        ],
        [
         "Year",
         "0"
        ],
        [
         "Locality",
         "1255"
        ],
        [
         "Estimated Value",
         "1229"
        ],
        [
         "Sale Price",
         "0"
        ],
        [
         "Property",
         "0"
        ],
        [
         "Residential",
         "0"
        ],
        [
         "num_rooms",
         "0"
        ],
        [
         "num_bathrooms",
         "0"
        ],
        [
         "carpet_area",
         "1282"
        ],
        [
         "property_tax_rate",
         "0"
        ],
        [
         "Face",
         "0"
        ],
        [
         "num_bedrooms",
         "0"
        ]
       ],
       "shape": {
        "columns": 1,
        "rows": 13
       }
      },
      "text/plain": [
       "Date                    0\n",
       "Year                    0\n",
       "Locality             1255\n",
       "Estimated Value      1229\n",
       "Sale Price              0\n",
       "Property                0\n",
       "Residential             0\n",
       "num_rooms               0\n",
       "num_bathrooms           0\n",
       "carpet_area          1282\n",
       "property_tax_rate       0\n",
       "Face                    0\n",
       "num_bedrooms            0\n",
       "dtype: int64"
      ]
     },
     "execution_count": 215,
     "metadata": {},
     "output_type": "execute_result"
    }
   ],
   "source": [
    "real_estate_trans_df.isna().sum()"
   ]
  },
  {
   "cell_type": "code",
   "execution_count": 216,
   "id": "04c16b61",
   "metadata": {},
   "outputs": [
    {
     "name": "stdout",
     "output_type": "stream",
     "text": [
      "Date                   0.0%\n",
      "Year                   0.0%\n",
      "Locality             12.55%\n",
      "Estimated Value      12.29%\n",
      "Sale Price             0.0%\n",
      "Property               0.0%\n",
      "Residential            0.0%\n",
      "num_rooms              0.0%\n",
      "num_bathrooms          0.0%\n",
      "carpet_area          12.82%\n",
      "property_tax_rate      0.0%\n",
      "Face                   0.0%\n",
      "num_bedrooms           0.0%\n",
      "dtype: object\n"
     ]
    }
   ],
   "source": [
    "# take look at percentage of missing values\n",
    "missing_pct = real_estate_trans_df.isnull().mean() * 100\n",
    "print(missing_pct.round(2).astype(str) + '%')"
   ]
  },
  {
   "cell_type": "code",
   "execution_count": 217,
   "id": "8047b6d6",
   "metadata": {},
   "outputs": [
    {
     "data": {
      "text/plain": [
       "array(['Waterbury', nan, 'Norwalk', 'Bridgeport', 'Greenwich',\n",
       "       'Fairfield', 'West Hartford', 'Stamford'], dtype=object)"
      ]
     },
     "execution_count": 217,
     "metadata": {},
     "output_type": "execute_result"
    }
   ],
   "source": [
    "real_estate_trans_df['Locality'].unique()"
   ]
  },
  {
   "cell_type": "code",
   "execution_count": 218,
   "id": "925afdd6",
   "metadata": {},
   "outputs": [
    {
     "name": "stdout",
     "output_type": "stream",
     "text": [
      "\n",
      "Missing Locality setelah imputasi: 0\n"
     ]
    }
   ],
   "source": [
    "# isi nilai Locality dengan mode\n",
    "import numpy as np\n",
    "\n",
    "mode_value = real_estate_trans_df['Locality'].replace('', np.nan).mode()[0]\n",
    "real_estate_trans_df['Locality'] = real_estate_trans_df['Locality'].fillna(mode_value)\n",
    "\n",
    "print(\"\\nMissing Locality setelah imputasi:\", real_estate_trans_df['Locality'].isnull().sum())\n",
    "\n"
   ]
  },
  {
   "cell_type": "code",
   "execution_count": 219,
   "id": "9edccf97",
   "metadata": {},
   "outputs": [
    {
     "data": {
      "image/png": "[encoded data removed]",
      "text/plain": [
       "<Figure size 1000x600 with 1 Axes>"
      ]
     },
     "metadata": {},
     "output_type": "display_data"
    }
   ],
   "source": [
    "plt.figure(figsize=(10, 6))\n",
    "sns.boxplot(data=real_estate_trans_df, y='Estimated Value')\n",
    "plt.title('Box Plot of Estimated Value with outlier')\n",
    "plt.show()"
   ]
  },
  {
   "cell_type": "markdown",
   "id": "112273d5",
   "metadata": {},
   "source": [
    "-terdapat outlier median lebih baik"
   ]
  },
  {
   "cell_type": "code",
   "execution_count": 220,
   "id": "2fee3fa7",
   "metadata": {},
   "outputs": [
    {
     "name": "stdout",
     "output_type": "stream",
     "text": [
      "\n",
      "Missing Estimated Value setelah imputasi: 0\n"
     ]
    }
   ],
   "source": [
    "median_est_val = real_estate_trans_df['Estimated Value'].median()\n",
    "real_estate_trans_df['Estimated Value'] = real_estate_trans_df['Estimated Value'].fillna(median_est_val)\n",
    "\n",
    "print(\"\\nMissing Estimated Value setelah imputasi:\", real_estate_trans_df['Estimated Value'].isnull().sum())\n"
   ]
  },
  {
   "cell_type": "code",
   "execution_count": 221,
   "id": "0ca63332",
   "metadata": {},
   "outputs": [
    {
     "data": {
      "image/png": "[encoded data removed]",
      "text/plain": [
       "<Figure size 1000x600 with 1 Axes>"
      ]
     },
     "metadata": {},
     "output_type": "display_data"
    }
   ],
   "source": [
    "# boxplot carpet area\n",
    "plt.figure(figsize=(10, 6))\n",
    "sns.boxplot(data=real_estate_trans_df, y='carpet_area')\n",
    "plt.title('Box Plot of Carpet Area with outlier')\n",
    "plt.show()\n"
   ]
  },
  {
   "cell_type": "code",
   "execution_count": 222,
   "id": "13f7abd2",
   "metadata": {},
   "outputs": [
    {
     "name": "stdout",
     "output_type": "stream",
     "text": [
      "\n",
      "Missing carpet_area setelah imputasi: 0\n"
     ]
    }
   ],
   "source": [
    "# imputation carpet area with median \n",
    "median_carpet = real_estate_trans_df['carpet_area'].median()\n",
    "real_estate_trans_df['carpet_area'] = real_estate_trans_df['carpet_area'].fillna(median_carpet)\n",
    "\n",
    "print(\"\\nMissing carpet_area setelah imputasi:\", real_estate_trans_df['carpet_area'].isnull().sum())\n"
   ]
  },
  {
   "cell_type": "code",
   "execution_count": 223,
   "id": "3d0a70c5",
   "metadata": {},
   "outputs": [
    {
     "data": {
      "application/vnd.microsoft.datawrangler.viewer.v0+json": {
       "columns": [
        {
         "name": "index",
         "rawType": "object",
         "type": "string"
        },
        {
         "name": "0",
         "rawType": "int64",
         "type": "integer"
        }
       ],
       "ref": "ad59a88f-e356-4173-b9f9-fa50dfd20751",
       "rows": [
        [
         "Date",
         "0"
        ],
        [
         "Year",
         "0"
        ],
        [
         "Locality",
         "0"
        ],
        [
         "Estimated Value",
         "0"
        ],
        [
         "Sale Price",
         "0"
        ],
        [
         "Property",
         "0"
        ],
        [
         "Residential",
         "0"
        ],
        [
         "num_rooms",
         "0"
        ],
        [
         "num_bathrooms",
         "0"
        ],
        [
         "carpet_area",
         "0"
        ],
        [
         "property_tax_rate",
         "0"
        ],
        [
         "Face",
         "0"
        ],
        [
         "num_bedrooms",
         "0"
        ]
       ],
       "shape": {
        "columns": 1,
        "rows": 13
       }
      },
      "text/plain": [
       "Date                 0\n",
       "Year                 0\n",
       "Locality             0\n",
       "Estimated Value      0\n",
       "Sale Price           0\n",
       "Property             0\n",
       "Residential          0\n",
       "num_rooms            0\n",
       "num_bathrooms        0\n",
       "carpet_area          0\n",
       "property_tax_rate    0\n",
       "Face                 0\n",
       "num_bedrooms         0\n",
       "dtype: int64"
      ]
     },
     "execution_count": 223,
     "metadata": {},
     "output_type": "execute_result"
    }
   ],
   "source": [
    "real_estate_trans_df.isna().sum()"
   ]
  },
  {
   "cell_type": "code",
   "execution_count": 224,
   "id": "85650e1c",
   "metadata": {},
   "outputs": [
    {
     "name": "stdout",
     "output_type": "stream",
     "text": [
      "['Single Family' '?' 'Two Family' 'Three Family' 'Four Family']\n"
     ]
    }
   ],
   "source": [
    "# cek nilai unik di kolom Property\n",
    "print(real_estate_trans_df['Property'].unique())\n"
   ]
  },
  {
   "cell_type": "code",
   "execution_count": 225,
   "id": "1cf15b39",
   "metadata": {},
   "outputs": [
    {
     "name": "stdout",
     "output_type": "stream",
     "text": [
      "Unique: ['Single Family' nan 'Two Family' 'Three Family' 'Four Family']\n",
      "Missing Property: 1788\n"
     ]
    }
   ],
   "source": [
    "import numpy as np\n",
    "\n",
    "# Ganti tanda \"?\" jadi NaN khusus di kolom Property\n",
    "real_estate_trans_df['Property'] = real_estate_trans_df['Property'].replace('?', np.nan)\n",
    "\n",
    "# Cek lagi hasilnya\n",
    "print(\"Unique:\", real_estate_trans_df['Property'].unique())\n",
    "print(\"Missing Property:\", real_estate_trans_df['Property'].isnull().sum())\n"
   ]
  },
  {
   "cell_type": "code",
   "execution_count": 226,
   "id": "1c1c8035",
   "metadata": {},
   "outputs": [
    {
     "name": "stdout",
     "output_type": "stream",
     "text": [
      "Missing Property: 0\n"
     ]
    }
   ],
   "source": [
    "mode_property = real_estate_trans_df['Property'].mode().iloc[0]\n",
    "real_estate_trans_df['Property'] = real_estate_trans_df['Property'].fillna(mode_property)\n",
    "\n",
    "print(\"Missing Property:\", real_estate_trans_df['Property'].isnull().sum())\n"
   ]
  },
  {
   "cell_type": "code",
   "execution_count": 227,
   "id": "0aa9694a",
   "metadata": {},
   "outputs": [
    {
     "data": {
      "application/vnd.microsoft.datawrangler.viewer.v0+json": {
       "columns": [
        {
         "name": "index",
         "rawType": "int64",
         "type": "integer"
        },
        {
         "name": "Date",
         "rawType": "object",
         "type": "string"
        },
        {
         "name": "Year",
         "rawType": "int64",
         "type": "integer"
        },
        {
         "name": "Locality",
         "rawType": "object",
         "type": "string"
        },
        {
         "name": "Estimated Value",
         "rawType": "float64",
         "type": "float"
        },
        {
         "name": "Sale Price",
         "rawType": "float64",
         "type": "float"
        },
        {
         "name": "Property",
         "rawType": "object",
         "type": "string"
        },
        {
         "name": "Residential",
         "rawType": "object",
         "type": "string"
        },
        {
         "name": "num_rooms",
         "rawType": "int64",
         "type": "integer"
        },
        {
         "name": "num_bathrooms",
         "rawType": "int64",
         "type": "integer"
        },
        {
         "name": "carpet_area",
         "rawType": "float64",
         "type": "float"
        },
        {
         "name": "property_tax_rate",
         "rawType": "float64",
         "type": "float"
        },
        {
         "name": "Face",
         "rawType": "object",
         "type": "string"
        },
        {
         "name": "num_bedrooms",
         "rawType": "int32",
         "type": "integer"
        }
       ],
       "ref": "46bcecd8-0ebc-4ef3-81b5-8386de03356d",
       "rows": [
        [
         "0",
         "2009-01-02",
         "2009",
         "Waterbury",
         "111440.0",
         "185000.0",
         "Single Family",
         "Detached House",
         "3",
         "3",
         "996.0",
         "1.025953",
         "South",
         "2"
        ],
        [
         "1",
         "2009-01-02",
         "2009",
         "Bridgeport",
         "73080.0",
         "152000.0",
         "Single Family",
         "Detached House",
         "3",
         "1",
         "935.0",
         "1.025953",
         "North",
         "2"
        ],
        [
         "2",
         "2009-01-02",
         "2009",
         "Waterbury",
         "50540.0",
         "105000.0",
         "Single Family",
         "Detached House",
         "3",
         "1",
         "951.0",
         "1.025953",
         "East",
         "2"
        ],
        [
         "3",
         "2009-01-02",
         "2009",
         "Norwalk",
         "571060.0",
         "1000000.0",
         "Single Family",
         "Detached House",
         "3",
         "2",
         "1021.0",
         "1.025953",
         "South",
         "1"
        ],
        [
         "4",
         "2009-01-02",
         "2009",
         "Bridgeport",
         "4775276.0",
         "272900.0",
         "Single Family",
         "Detached House",
         "3",
         "1",
         "971.0",
         "1.025953",
         "East",
         "2"
        ],
        [
         "5",
         "2009-01-02",
         "2009",
         "Greenwich",
         "243180.0",
         "5187000.0",
         "Single Family",
         "Detached House",
         "3",
         "2",
         "1026.0",
         "1.025953",
         "South",
         "1"
        ],
        [
         "6",
         "2009-01-03",
         "2009",
         "Norwalk",
         "243180.0",
         "1340000.0",
         "Single Family",
         "Detached House",
         "3",
         "1",
         "936.0",
         "1.025953",
         "North",
         "2"
        ],
        [
         "7",
         "2009-01-03",
         "2009",
         "Norwalk",
         "172620.0",
         "409000.0",
         "Single Family",
         "Detached House",
         "3",
         "3",
         "1004.0",
         "1.025953",
         "South",
         "2"
        ],
        [
         "8",
         "2009-01-04",
         "2009",
         "Bridgeport",
         "243180.0",
         "410000.0",
         "Two Family",
         "Duplex",
         "4",
         "3",
         "1498.0",
         "1.025953",
         "West",
         "1"
        ],
        [
         "9",
         "2009-01-04",
         "2009",
         "Waterbury",
         "243180.0",
         "176000.0",
         "Single Family",
         "Detached House",
         "3",
         "1",
         "1008.0",
         "1.025953",
         "North",
         "2"
        ],
        [
         "10",
         "2009-01-04",
         "2009",
         "Norwalk",
         "208880.0",
         "370000.0",
         "Single Family",
         "Detached House",
         "3",
         "2",
         "1063.0",
         "1.025953",
         "South",
         "1"
        ],
        [
         "11",
         "2009-01-04",
         "2009",
         "Waterbury",
         "83300.0",
         "220000.0",
         "Two Family",
         "Duplex",
         "4",
         "4",
         "1471.0",
         "1.025953",
         "South",
         "2"
        ],
        [
         "12",
         "2009-01-05",
         "2009",
         "Bridgeport",
         "243180.0",
         "284280.0",
         "Single Family",
         "Detached House",
         "3",
         "3",
         "1015.0",
         "1.025953",
         "South",
         "2"
        ],
        [
         "13",
         "2009-01-05",
         "2009",
         "Bridgeport",
         "73990.0",
         "195000.0",
         "Single Family",
         "Detached House",
         "3",
         "1",
         "960.0",
         "1.025953",
         "North",
         "2"
        ],
        [
         "14",
         "2009-01-05",
         "2009",
         "Greenwich",
         "2095100.0",
         "2860000.0",
         "Single Family",
         "Detached House",
         "3",
         "1",
         "963.0",
         "1.025953",
         "East",
         "2"
        ],
        [
         "15",
         "2009-01-05",
         "2009",
         "Norwalk",
         "186410.0",
         "340000.0",
         "Single Family",
         "Detached House",
         "3",
         "2",
         "933.0",
         "1.025953",
         "East",
         "1"
        ],
        [
         "16",
         "2009-01-05",
         "2009",
         "Greenwich",
         "1162140.0",
         "1990000.0",
         "Single Family",
         "Detached House",
         "3",
         "1",
         "1021.0",
         "1.025953",
         "North",
         "2"
        ],
        [
         "17",
         "2009-01-05",
         "2009",
         "Bridgeport",
         "71960.0",
         "219000.0",
         "Single Family",
         "Triplex",
         "6",
         "4",
         "1021.0",
         "1.025953",
         "South",
         "2"
        ],
        [
         "18",
         "2009-01-08",
         "2009",
         "Greenwich",
         "243180.0",
         "3235000.0",
         "Single Family",
         "Detached House",
         "3",
         "1",
         "1026.0",
         "1.025953",
         "West",
         "2"
        ],
        [
         "19",
         "2009-01-08",
         "2009",
         "Waterbury",
         "56070.0",
         "75000.0",
         "Two Family",
         "Duplex",
         "4",
         "2",
         "1373.0",
         "1.025953",
         "West",
         "2"
        ]
       ],
       "shape": {
        "columns": 13,
        "rows": 20
       }
      },
      "text/html": [
       "<div>\n",
       "<style scoped>\n",
       "    .dataframe tbody tr th:only-of-type {\n",
       "        vertical-align: middle;\n",
       "    }\n",
       "\n",
       "    .dataframe tbody tr th {\n",
       "        vertical-align: top;\n",
       "    }\n",
       "\n",
       "    .dataframe thead th {\n",
       "        text-align: right;\n",
       "    }\n",
       "</style>\n",
       "<table border=\"1\" class=\"dataframe\">\n",
       "  <thead>\n",
       "    <tr style=\"text-align: right;\">\n",
       "      <th></th>\n",
       "      <th>Date</th>\n",
       "      <th>Year</th>\n",
       "      <th>Locality</th>\n",
       "      <th>Estimated Value</th>\n",
       "      <th>Sale Price</th>\n",
       "      <th>Property</th>\n",
       "      <th>Residential</th>\n",
       "      <th>num_rooms</th>\n",
       "      <th>num_bathrooms</th>\n",
       "      <th>carpet_area</th>\n",
       "      <th>property_tax_rate</th>\n",
       "      <th>Face</th>\n",
       "      <th>num_bedrooms</th>\n",
       "    </tr>\n",
       "  </thead>\n",
       "  <tbody>\n",
       "    <tr>\n",
       "      <th>0</th>\n",
       "      <td>2009-01-02</td>\n",
       "      <td>2009</td>\n",
       "      <td>Waterbury</td>\n",
       "      <td>111440.0</td>\n",
       "      <td>185000.0</td>\n",
       "      <td>Single Family</td>\n",
       "      <td>Detached House</td>\n",
       "      <td>3</td>\n",
       "      <td>3</td>\n",
       "      <td>996.0</td>\n",
       "      <td>1.025953</td>\n",
       "      <td>South</td>\n",
       "      <td>2</td>\n",
       "    </tr>\n",
       "    <tr>\n",
       "      <th>1</th>\n",
       "      <td>2009-01-02</td>\n",
       "      <td>2009</td>\n",
       "      <td>Bridgeport</td>\n",
       "      <td>73080.0</td>\n",
       "      <td>152000.0</td>\n",
       "      <td>Single Family</td>\n",
       "      <td>Detached House</td>\n",
       "      <td>3</td>\n",
       "      <td>1</td>\n",
       "      <td>935.0</td>\n",
       "      <td>1.025953</td>\n",
       "      <td>North</td>\n",
       "      <td>2</td>\n",
       "    </tr>\n",
       "    <tr>\n",
       "      <th>2</th>\n",
       "      <td>2009-01-02</td>\n",
       "      <td>2009</td>\n",
       "      <td>Waterbury</td>\n",
       "      <td>50540.0</td>\n",
       "      <td>105000.0</td>\n",
       "      <td>Single Family</td>\n",
       "      <td>Detached House</td>\n",
       "      <td>3</td>\n",
       "      <td>1</td>\n",
       "      <td>951.0</td>\n",
       "      <td>1.025953</td>\n",
       "      <td>East</td>\n",
       "      <td>2</td>\n",
       "    </tr>\n",
       "    <tr>\n",
       "      <th>3</th>\n",
       "      <td>2009-01-02</td>\n",
       "      <td>2009</td>\n",
       "      <td>Norwalk</td>\n",
       "      <td>571060.0</td>\n",
       "      <td>1000000.0</td>\n",
       "      <td>Single Family</td>\n",
       "      <td>Detached House</td>\n",
       "      <td>3</td>\n",
       "      <td>2</td>\n",
       "      <td>1021.0</td>\n",
       "      <td>1.025953</td>\n",
       "      <td>South</td>\n",
       "      <td>1</td>\n",
       "    </tr>\n",
       "    <tr>\n",
       "      <th>4</th>\n",
       "      <td>2009-01-02</td>\n",
       "      <td>2009</td>\n",
       "      <td>Bridgeport</td>\n",
       "      <td>4775276.0</td>\n",
       "      <td>272900.0</td>\n",
       "      <td>Single Family</td>\n",
       "      <td>Detached House</td>\n",
       "      <td>3</td>\n",
       "      <td>1</td>\n",
       "      <td>971.0</td>\n",
       "      <td>1.025953</td>\n",
       "      <td>East</td>\n",
       "      <td>2</td>\n",
       "    </tr>\n",
       "    <tr>\n",
       "      <th>5</th>\n",
       "      <td>2009-01-02</td>\n",
       "      <td>2009</td>\n",
       "      <td>Greenwich</td>\n",
       "      <td>243180.0</td>\n",
       "      <td>5187000.0</td>\n",
       "      <td>Single Family</td>\n",
       "      <td>Detached House</td>\n",
       "      <td>3</td>\n",
       "      <td>2</td>\n",
       "      <td>1026.0</td>\n",
       "      <td>1.025953</td>\n",
       "      <td>South</td>\n",
       "      <td>1</td>\n",
       "    </tr>\n",
       "    <tr>\n",
       "      <th>6</th>\n",
       "      <td>2009-01-03</td>\n",
       "      <td>2009</td>\n",
       "      <td>Norwalk</td>\n",
       "      <td>243180.0</td>\n",
       "      <td>1340000.0</td>\n",
       "      <td>Single Family</td>\n",
       "      <td>Detached House</td>\n",
       "      <td>3</td>\n",
       "      <td>1</td>\n",
       "      <td>936.0</td>\n",
       "      <td>1.025953</td>\n",
       "      <td>North</td>\n",
       "      <td>2</td>\n",
       "    </tr>\n",
       "    <tr>\n",
       "      <th>7</th>\n",
       "      <td>2009-01-03</td>\n",
       "      <td>2009</td>\n",
       "      <td>Norwalk</td>\n",
       "      <td>172620.0</td>\n",
       "      <td>409000.0</td>\n",
       "      <td>Single Family</td>\n",
       "      <td>Detached House</td>\n",
       "      <td>3</td>\n",
       "      <td>3</td>\n",
       "      <td>1004.0</td>\n",
       "      <td>1.025953</td>\n",
       "      <td>South</td>\n",
       "      <td>2</td>\n",
       "    </tr>\n",
       "    <tr>\n",
       "      <th>8</th>\n",
       "      <td>2009-01-04</td>\n",
       "      <td>2009</td>\n",
       "      <td>Bridgeport</td>\n",
       "      <td>243180.0</td>\n",
       "      <td>410000.0</td>\n",
       "      <td>Two Family</td>\n",
       "      <td>Duplex</td>\n",
       "      <td>4</td>\n",
       "      <td>3</td>\n",
       "      <td>1498.0</td>\n",
       "      <td>1.025953</td>\n",
       "      <td>West</td>\n",
       "      <td>1</td>\n",
       "    </tr>\n",
       "    <tr>\n",
       "      <th>9</th>\n",
       "      <td>2009-01-04</td>\n",
       "      <td>2009</td>\n",
       "      <td>Waterbury</td>\n",
       "      <td>243180.0</td>\n",
       "      <td>176000.0</td>\n",
       "      <td>Single Family</td>\n",
       "      <td>Detached House</td>\n",
       "      <td>3</td>\n",
       "      <td>1</td>\n",
       "      <td>1008.0</td>\n",
       "      <td>1.025953</td>\n",
       "      <td>North</td>\n",
       "      <td>2</td>\n",
       "    </tr>\n",
       "    <tr>\n",
       "      <th>10</th>\n",
       "      <td>2009-01-04</td>\n",
       "      <td>2009</td>\n",
       "      <td>Norwalk</td>\n",
       "      <td>208880.0</td>\n",
       "      <td>370000.0</td>\n",
       "      <td>Single Family</td>\n",
       "      <td>Detached House</td>\n",
       "      <td>3</td>\n",
       "      <td>2</td>\n",
       "      <td>1063.0</td>\n",
       "      <td>1.025953</td>\n",
       "      <td>South</td>\n",
       "      <td>1</td>\n",
       "    </tr>\n",
       "    <tr>\n",
       "      <th>11</th>\n",
       "      <td>2009-01-04</td>\n",
       "      <td>2009</td>\n",
       "      <td>Waterbury</td>\n",
       "      <td>83300.0</td>\n",
       "      <td>220000.0</td>\n",
       "      <td>Two Family</td>\n",
       "      <td>Duplex</td>\n",
       "      <td>4</td>\n",
       "      <td>4</td>\n",
       "      <td>1471.0</td>\n",
       "      <td>1.025953</td>\n",
       "      <td>South</td>\n",
       "      <td>2</td>\n",
       "    </tr>\n",
       "    <tr>\n",
       "      <th>12</th>\n",
       "      <td>2009-01-05</td>\n",
       "      <td>2009</td>\n",
       "      <td>Bridgeport</td>\n",
       "      <td>243180.0</td>\n",
       "      <td>284280.0</td>\n",
       "      <td>Single Family</td>\n",
       "      <td>Detached House</td>\n",
       "      <td>3</td>\n",
       "      <td>3</td>\n",
       "      <td>1015.0</td>\n",
       "      <td>1.025953</td>\n",
       "      <td>South</td>\n",
       "      <td>2</td>\n",
       "    </tr>\n",
       "    <tr>\n",
       "      <th>13</th>\n",
       "      <td>2009-01-05</td>\n",
       "      <td>2009</td>\n",
       "      <td>Bridgeport</td>\n",
       "      <td>73990.0</td>\n",
       "      <td>195000.0</td>\n",
       "      <td>Single Family</td>\n",
       "      <td>Detached House</td>\n",
       "      <td>3</td>\n",
       "      <td>1</td>\n",
       "      <td>960.0</td>\n",
       "      <td>1.025953</td>\n",
       "      <td>North</td>\n",
       "      <td>2</td>\n",
       "    </tr>\n",
       "    <tr>\n",
       "      <th>14</th>\n",
       "      <td>2009-01-05</td>\n",
       "      <td>2009</td>\n",
       "      <td>Greenwich</td>\n",
       "      <td>2095100.0</td>\n",
       "      <td>2860000.0</td>\n",
       "      <td>Single Family</td>\n",
       "      <td>Detached House</td>\n",
       "      <td>3</td>\n",
       "      <td>1</td>\n",
       "      <td>963.0</td>\n",
       "      <td>1.025953</td>\n",
       "      <td>East</td>\n",
       "      <td>2</td>\n",
       "    </tr>\n",
       "    <tr>\n",
       "      <th>15</th>\n",
       "      <td>2009-01-05</td>\n",
       "      <td>2009</td>\n",
       "      <td>Norwalk</td>\n",
       "      <td>186410.0</td>\n",
       "      <td>340000.0</td>\n",
       "      <td>Single Family</td>\n",
       "      <td>Detached House</td>\n",
       "      <td>3</td>\n",
       "      <td>2</td>\n",
       "      <td>933.0</td>\n",
       "      <td>1.025953</td>\n",
       "      <td>East</td>\n",
       "      <td>1</td>\n",
       "    </tr>\n",
       "    <tr>\n",
       "      <th>16</th>\n",
       "      <td>2009-01-05</td>\n",
       "      <td>2009</td>\n",
       "      <td>Greenwich</td>\n",
       "      <td>1162140.0</td>\n",
       "      <td>1990000.0</td>\n",
       "      <td>Single Family</td>\n",
       "      <td>Detached House</td>\n",
       "      <td>3</td>\n",
       "      <td>1</td>\n",
       "      <td>1021.0</td>\n",
       "      <td>1.025953</td>\n",
       "      <td>North</td>\n",
       "      <td>2</td>\n",
       "    </tr>\n",
       "    <tr>\n",
       "      <th>17</th>\n",
       "      <td>2009-01-05</td>\n",
       "      <td>2009</td>\n",
       "      <td>Bridgeport</td>\n",
       "      <td>71960.0</td>\n",
       "      <td>219000.0</td>\n",
       "      <td>Single Family</td>\n",
       "      <td>Triplex</td>\n",
       "      <td>6</td>\n",
       "      <td>4</td>\n",
       "      <td>1021.0</td>\n",
       "      <td>1.025953</td>\n",
       "      <td>South</td>\n",
       "      <td>2</td>\n",
       "    </tr>\n",
       "    <tr>\n",
       "      <th>18</th>\n",
       "      <td>2009-01-08</td>\n",
       "      <td>2009</td>\n",
       "      <td>Greenwich</td>\n",
       "      <td>243180.0</td>\n",
       "      <td>3235000.0</td>\n",
       "      <td>Single Family</td>\n",
       "      <td>Detached House</td>\n",
       "      <td>3</td>\n",
       "      <td>1</td>\n",
       "      <td>1026.0</td>\n",
       "      <td>1.025953</td>\n",
       "      <td>West</td>\n",
       "      <td>2</td>\n",
       "    </tr>\n",
       "    <tr>\n",
       "      <th>19</th>\n",
       "      <td>2009-01-08</td>\n",
       "      <td>2009</td>\n",
       "      <td>Waterbury</td>\n",
       "      <td>56070.0</td>\n",
       "      <td>75000.0</td>\n",
       "      <td>Two Family</td>\n",
       "      <td>Duplex</td>\n",
       "      <td>4</td>\n",
       "      <td>2</td>\n",
       "      <td>1373.0</td>\n",
       "      <td>1.025953</td>\n",
       "      <td>West</td>\n",
       "      <td>2</td>\n",
       "    </tr>\n",
       "  </tbody>\n",
       "</table>\n",
       "</div>"
      ],
      "text/plain": [
       "          Date  Year    Locality  Estimated Value  Sale Price       Property  \\\n",
       "0   2009-01-02  2009   Waterbury         111440.0    185000.0  Single Family   \n",
       "1   2009-01-02  2009  Bridgeport          73080.0    152000.0  Single Family   \n",
       "2   2009-01-02  2009   Waterbury          50540.0    105000.0  Single Family   \n",
       "3   2009-01-02  2009     Norwalk         571060.0   1000000.0  Single Family   \n",
       "4   2009-01-02  2009  Bridgeport        4775276.0    272900.0  Single Family   \n",
       "5   2009-01-02  2009   Greenwich         243180.0   5187000.0  Single Family   \n",
       "6   2009-01-03  2009     Norwalk         243180.0   1340000.0  Single Family   \n",
       "7   2009-01-03  2009     Norwalk         172620.0    409000.0  Single Family   \n",
       "8   2009-01-04  2009  Bridgeport         243180.0    410000.0     Two Family   \n",
       "9   2009-01-04  2009   Waterbury         243180.0    176000.0  Single Family   \n",
       "10  2009-01-04  2009     Norwalk         208880.0    370000.0  Single Family   \n",
       "11  2009-01-04  2009   Waterbury          83300.0    220000.0     Two Family   \n",
       "12  2009-01-05  2009  Bridgeport         243180.0    284280.0  Single Family   \n",
       "13  2009-01-05  2009  Bridgeport          73990.0    195000.0  Single Family   \n",
       "14  2009-01-05  2009   Greenwich        2095100.0   2860000.0  Single Family   \n",
       "15  2009-01-05  2009     Norwalk         186410.0    340000.0  Single Family   \n",
       "16  2009-01-05  2009   Greenwich        1162140.0   1990000.0  Single Family   \n",
       "17  2009-01-05  2009  Bridgeport          71960.0    219000.0  Single Family   \n",
       "18  2009-01-08  2009   Greenwich         243180.0   3235000.0  Single Family   \n",
       "19  2009-01-08  2009   Waterbury          56070.0     75000.0     Two Family   \n",
       "\n",
       "       Residential  num_rooms  num_bathrooms  carpet_area  property_tax_rate  \\\n",
       "0   Detached House          3              3        996.0           1.025953   \n",
       "1   Detached House          3              1        935.0           1.025953   \n",
       "2   Detached House          3              1        951.0           1.025953   \n",
       "3   Detached House          3              2       1021.0           1.025953   \n",
       "4   Detached House          3              1        971.0           1.025953   \n",
       "5   Detached House          3              2       1026.0           1.025953   \n",
       "6   Detached House          3              1        936.0           1.025953   \n",
       "7   Detached House          3              3       1004.0           1.025953   \n",
       "8           Duplex          4              3       1498.0           1.025953   \n",
       "9   Detached House          3              1       1008.0           1.025953   \n",
       "10  Detached House          3              2       1063.0           1.025953   \n",
       "11          Duplex          4              4       1471.0           1.025953   \n",
       "12  Detached House          3              3       1015.0           1.025953   \n",
       "13  Detached House          3              1        960.0           1.025953   \n",
       "14  Detached House          3              1        963.0           1.025953   \n",
       "15  Detached House          3              2        933.0           1.025953   \n",
       "16  Detached House          3              1       1021.0           1.025953   \n",
       "17         Triplex          6              4       1021.0           1.025953   \n",
       "18  Detached House          3              1       1026.0           1.025953   \n",
       "19          Duplex          4              2       1373.0           1.025953   \n",
       "\n",
       "     Face  num_bedrooms  \n",
       "0   South             2  \n",
       "1   North             2  \n",
       "2    East             2  \n",
       "3   South             1  \n",
       "4    East             2  \n",
       "5   South             1  \n",
       "6   North             2  \n",
       "7   South             2  \n",
       "8    West             1  \n",
       "9   North             2  \n",
       "10  South             1  \n",
       "11  South             2  \n",
       "12  South             2  \n",
       "13  North             2  \n",
       "14   East             2  \n",
       "15   East             1  \n",
       "16  North             2  \n",
       "17  South             2  \n",
       "18   West             2  \n",
       "19   West             2  "
      ]
     },
     "execution_count": 227,
     "metadata": {},
     "output_type": "execute_result"
    }
   ],
   "source": [
    "real_estate_trans_df.head(20)"
   ]
  },
  {
   "cell_type": "markdown",
   "id": "998a1b74",
   "metadata": {},
   "source": [
    "***Konversi Tipe Data: Ubah kolom Tanggal Penjualan dari object menjadi datetime. Ubah Jumlah Kamar Tidur menjadi int.\n",
    "dan kolom lainnya yang memungkinkan***"
   ]
  },
  {
   "cell_type": "code",
   "execution_count": 228,
   "id": "5c4c31e5",
   "metadata": {},
   "outputs": [
    {
     "name": "stdout",
     "output_type": "stream",
     "text": [
      "Date                  object\n",
      "Year                   int64\n",
      "Locality              object\n",
      "Estimated Value      float64\n",
      "Sale Price           float64\n",
      "Property              object\n",
      "Residential           object\n",
      "num_rooms              int64\n",
      "num_bathrooms          int64\n",
      "carpet_area          float64\n",
      "property_tax_rate    float64\n",
      "Face                  object\n",
      "num_bedrooms           int32\n",
      "dtype: object\n"
     ]
    }
   ],
   "source": [
    "print(real_estate_trans_df.dtypes)"
   ]
  },
  {
   "cell_type": "code",
   "execution_count": 229,
   "id": "dffab587",
   "metadata": {},
   "outputs": [
    {
     "name": "stdout",
     "output_type": "stream",
     "text": [
      "Date                 datetime64[ns]\n",
      "Year                          int64\n",
      "Locality                   category\n",
      "Estimated Value             float64\n",
      "Sale Price                  float64\n",
      "Property                   category\n",
      "Residential                category\n",
      "num_rooms                     int32\n",
      "num_bathrooms                 int32\n",
      "carpet_area                 float64\n",
      "property_tax_rate           float64\n",
      "Face                       category\n",
      "num_bedrooms                  int32\n",
      "dtype: object\n"
     ]
    }
   ],
   "source": [
    "#ubah data type\n",
    "real_estate_trans_df['Date'] =  real_estate_trans_df['Date'].astype('datetime64[ns]')\n",
    "real_estate_trans_df['Locality'] =  real_estate_trans_df['Locality'].astype('category')\n",
    "real_estate_trans_df['Property'] =  real_estate_trans_df['Property'].astype('category')  \n",
    "real_estate_trans_df['Residential'] = real_estate_trans_df['Residential'].astype('category')\n",
    "real_estate_trans_df['Face'] =  real_estate_trans_df['Face'].astype('category')\n",
    "real_estate_trans_df['num_rooms'] =  real_estate_trans_df['num_rooms'].astype('int32')\n",
    "real_estate_trans_df['num_bathrooms'] =  real_estate_trans_df['num_bathrooms'].astype('int32')\n",
    "\n",
    "print(real_estate_trans_df.dtypes)"
   ]
  },
  {
   "cell_type": "code",
   "execution_count": 230,
   "id": "6ea4b489",
   "metadata": {},
   "outputs": [
    {
     "data": {
      "application/vnd.microsoft.datawrangler.viewer.v0+json": {
       "columns": [
        {
         "name": "index",
         "rawType": "int64",
         "type": "integer"
        },
        {
         "name": "Date",
         "rawType": "datetime64[ns]",
         "type": "datetime"
        },
        {
         "name": "Year",
         "rawType": "int64",
         "type": "integer"
        },
        {
         "name": "Locality",
         "rawType": "category",
         "type": "unknown"
        },
        {
         "name": "Estimated Value",
         "rawType": "float64",
         "type": "float"
        },
        {
         "name": "Sale Price",
         "rawType": "float64",
         "type": "float"
        },
        {
         "name": "Property",
         "rawType": "category",
         "type": "unknown"
        },
        {
         "name": "Residential",
         "rawType": "category",
         "type": "unknown"
        },
        {
         "name": "num_rooms",
         "rawType": "int32",
         "type": "integer"
        },
        {
         "name": "num_bathrooms",
         "rawType": "int32",
         "type": "integer"
        },
        {
         "name": "carpet_area",
         "rawType": "float64",
         "type": "float"
        },
        {
         "name": "property_tax_rate",
         "rawType": "float64",
         "type": "float"
        },
        {
         "name": "Face",
         "rawType": "category",
         "type": "unknown"
        },
        {
         "name": "num_bedrooms",
         "rawType": "int32",
         "type": "integer"
        }
       ],
       "ref": "63dbd3d1-4e22-45a8-8f76-21d5d741453e",
       "rows": [
        [
         "0",
         "2009-01-02 00:00:00",
         "2009",
         "Waterbury",
         "111440.0",
         "185000.0",
         "Single Family",
         "Detached House",
         "3",
         "3",
         "996.0",
         "1.025953",
         "South",
         "2"
        ],
        [
         "1",
         "2009-01-02 00:00:00",
         "2009",
         "Bridgeport",
         "73080.0",
         "152000.0",
         "Single Family",
         "Detached House",
         "3",
         "1",
         "935.0",
         "1.025953",
         "North",
         "2"
        ],
        [
         "2",
         "2009-01-02 00:00:00",
         "2009",
         "Waterbury",
         "50540.0",
         "105000.0",
         "Single Family",
         "Detached House",
         "3",
         "1",
         "951.0",
         "1.025953",
         "East",
         "2"
        ],
        [
         "3",
         "2009-01-02 00:00:00",
         "2009",
         "Norwalk",
         "571060.0",
         "1000000.0",
         "Single Family",
         "Detached House",
         "3",
         "2",
         "1021.0",
         "1.025953",
         "South",
         "1"
        ],
        [
         "4",
         "2009-01-02 00:00:00",
         "2009",
         "Bridgeport",
         "4775276.0",
         "272900.0",
         "Single Family",
         "Detached House",
         "3",
         "1",
         "971.0",
         "1.025953",
         "East",
         "2"
        ]
       ],
       "shape": {
        "columns": 13,
        "rows": 5
       }
      },
      "text/html": [
       "<div>\n",
       "<style scoped>\n",
       "    .dataframe tbody tr th:only-of-type {\n",
       "        vertical-align: middle;\n",
       "    }\n",
       "\n",
       "    .dataframe tbody tr th {\n",
       "        vertical-align: top;\n",
       "    }\n",
       "\n",
       "    .dataframe thead th {\n",
       "        text-align: right;\n",
       "    }\n",
       "</style>\n",
       "<table border=\"1\" class=\"dataframe\">\n",
       "  <thead>\n",
       "    <tr style=\"text-align: right;\">\n",
       "      <th></th>\n",
       "      <th>Date</th>\n",
       "      <th>Year</th>\n",
       "      <th>Locality</th>\n",
       "      <th>Estimated Value</th>\n",
       "      <th>Sale Price</th>\n",
       "      <th>Property</th>\n",
       "      <th>Residential</th>\n",
       "      <th>num_rooms</th>\n",
       "      <th>num_bathrooms</th>\n",
       "      <th>carpet_area</th>\n",
       "      <th>property_tax_rate</th>\n",
       "      <th>Face</th>\n",
       "      <th>num_bedrooms</th>\n",
       "    </tr>\n",
       "  </thead>\n",
       "  <tbody>\n",
       "    <tr>\n",
       "      <th>0</th>\n",
       "      <td>2009-01-02</td>\n",
       "      <td>2009</td>\n",
       "      <td>Waterbury</td>\n",
       "      <td>111440.0</td>\n",
       "      <td>185000.0</td>\n",
       "      <td>Single Family</td>\n",
       "      <td>Detached House</td>\n",
       "      <td>3</td>\n",
       "      <td>3</td>\n",
       "      <td>996.0</td>\n",
       "      <td>1.025953</td>\n",
       "      <td>South</td>\n",
       "      <td>2</td>\n",
       "    </tr>\n",
       "    <tr>\n",
       "      <th>1</th>\n",
       "      <td>2009-01-02</td>\n",
       "      <td>2009</td>\n",
       "      <td>Bridgeport</td>\n",
       "      <td>73080.0</td>\n",
       "      <td>152000.0</td>\n",
       "      <td>Single Family</td>\n",
       "      <td>Detached House</td>\n",
       "      <td>3</td>\n",
       "      <td>1</td>\n",
       "      <td>935.0</td>\n",
       "      <td>1.025953</td>\n",
       "      <td>North</td>\n",
       "      <td>2</td>\n",
       "    </tr>\n",
       "    <tr>\n",
       "      <th>2</th>\n",
       "      <td>2009-01-02</td>\n",
       "      <td>2009</td>\n",
       "      <td>Waterbury</td>\n",
       "      <td>50540.0</td>\n",
       "      <td>105000.0</td>\n",
       "      <td>Single Family</td>\n",
       "      <td>Detached House</td>\n",
       "      <td>3</td>\n",
       "      <td>1</td>\n",
       "      <td>951.0</td>\n",
       "      <td>1.025953</td>\n",
       "      <td>East</td>\n",
       "      <td>2</td>\n",
       "    </tr>\n",
       "    <tr>\n",
       "      <th>3</th>\n",
       "      <td>2009-01-02</td>\n",
       "      <td>2009</td>\n",
       "      <td>Norwalk</td>\n",
       "      <td>571060.0</td>\n",
       "      <td>1000000.0</td>\n",
       "      <td>Single Family</td>\n",
       "      <td>Detached House</td>\n",
       "      <td>3</td>\n",
       "      <td>2</td>\n",
       "      <td>1021.0</td>\n",
       "      <td>1.025953</td>\n",
       "      <td>South</td>\n",
       "      <td>1</td>\n",
       "    </tr>\n",
       "    <tr>\n",
       "      <th>4</th>\n",
       "      <td>2009-01-02</td>\n",
       "      <td>2009</td>\n",
       "      <td>Bridgeport</td>\n",
       "      <td>4775276.0</td>\n",
       "      <td>272900.0</td>\n",
       "      <td>Single Family</td>\n",
       "      <td>Detached House</td>\n",
       "      <td>3</td>\n",
       "      <td>1</td>\n",
       "      <td>971.0</td>\n",
       "      <td>1.025953</td>\n",
       "      <td>East</td>\n",
       "      <td>2</td>\n",
       "    </tr>\n",
       "  </tbody>\n",
       "</table>\n",
       "</div>"
      ],
      "text/plain": [
       "        Date  Year    Locality  Estimated Value  Sale Price       Property  \\\n",
       "0 2009-01-02  2009   Waterbury         111440.0    185000.0  Single Family   \n",
       "1 2009-01-02  2009  Bridgeport          73080.0    152000.0  Single Family   \n",
       "2 2009-01-02  2009   Waterbury          50540.0    105000.0  Single Family   \n",
       "3 2009-01-02  2009     Norwalk         571060.0   1000000.0  Single Family   \n",
       "4 2009-01-02  2009  Bridgeport        4775276.0    272900.0  Single Family   \n",
       "\n",
       "      Residential  num_rooms  num_bathrooms  carpet_area  property_tax_rate  \\\n",
       "0  Detached House          3              3        996.0           1.025953   \n",
       "1  Detached House          3              1        935.0           1.025953   \n",
       "2  Detached House          3              1        951.0           1.025953   \n",
       "3  Detached House          3              2       1021.0           1.025953   \n",
       "4  Detached House          3              1        971.0           1.025953   \n",
       "\n",
       "    Face  num_bedrooms  \n",
       "0  South             2  \n",
       "1  North             2  \n",
       "2   East             2  \n",
       "3  South             1  \n",
       "4   East             2  "
      ]
     },
     "execution_count": 230,
     "metadata": {},
     "output_type": "execute_result"
    }
   ],
   "source": [
    "real_estate_trans_df.head()"
   ]
  },
  {
   "cell_type": "markdown",
   "id": "36d50595",
   "metadata": {},
   "source": [
    "***Identifikasi Outlier: Gunakan box plot untuk memeriksa outlier pada kolom Harga (USD) dan Luas Bangunan (m2). Analisis outlier tersebut, apakah perlu dihapus atau dipertahankan? Jelaskan keputusan Anda. karna tidak ada kolom luas bangunan maka kita akan membuat kolom tambahan dari carpet_area * 1.5 (asumsi 15% tambahan)***"
   ]
  },
  {
   "cell_type": "code",
   "execution_count": 231,
   "id": "ce46ae0c",
   "metadata": {},
   "outputs": [
    {
     "data": {
      "image/png": "[encoded data removed]",
      "text/plain": [
       "<Figure size 1600x600 with 1 Axes>"
      ]
     },
     "metadata": {},
     "output_type": "display_data"
    }
   ],
   "source": [
    "# adding new column Building_Area\n",
    "real_estate_trans_df['Building_Area'] = real_estate_trans_df['carpet_area'] * 1.5 # asumsi 15% tambahan\n",
    "\n",
    "\n",
    "plt.figure(figsize=(16, 6))\n",
    "sns.boxplot(data=real_estate_trans_df, y='Building_Area')\n",
    "plt.title('Box Plot of Building Area with outlier')\n",
    "plt.show()\n"
   ]
  },
  {
   "cell_type": "markdown",
   "id": "d98df399",
   "metadata": {},
   "source": [
    "- terdapat outliers kita akan gunakan log transform untuk mengurangi efek outliers atu dengan winsorizing"
   ]
  },
  {
   "cell_type": "code",
   "execution_count": 232,
   "id": "61639c49",
   "metadata": {},
   "outputs": [
    {
     "data": {
      "image/png": "[encoded data removed]",
      "text/plain": [
       "<Figure size 1600x600 with 1 Axes>"
      ]
     },
     "metadata": {},
     "output_type": "display_data"
    }
   ],
   "source": [
    "real_estate_trans_df['Building_Area'] = np.log1p(real_estate_trans_df['Building_Area'])\n",
    "\n",
    "plt.figure(figsize=(16, 6))\n",
    "sns.boxplot(data=real_estate_trans_df, y='Building_Area')\n",
    "plt.title('Box Plot of Building Area without outlier')\n",
    "plt.show()"
   ]
  },
  {
   "cell_type": "code",
   "execution_count": 233,
   "id": "79e72125",
   "metadata": {},
   "outputs": [
    {
     "data": {
      "image/png": "[encoded data removed]",
      "text/plain": [
       "<Figure size 1600x600 with 1 Axes>"
      ]
     },
     "metadata": {},
     "output_type": "display_data"
    }
   ],
   "source": [
    "# Winsorizing \n",
    "# Batasi outlier ke batas tertentu (misal 1%–99% percentile) → tetap pakai data tapi tidak ekstrem:\n",
    "lower = real_estate_trans_df['Building_Area'].quantile(0.01)\n",
    "upper = real_estate_trans_df['Building_Area'].quantile(0.99)\n",
    "real_estate_trans_df['Building_Area'] = real_estate_trans_df['Building_Area'].clip(lower, upper)\n",
    "\n",
    "\n",
    "plt.figure(figsize=(16, 6))\n",
    "sns.boxplot(data=real_estate_trans_df, y='Building_Area')\n",
    "plt.title('Box Plot of Building Area without outlier')\n",
    "plt.show()"
   ]
  },
  {
   "cell_type": "markdown",
   "id": "290e6485",
   "metadata": {},
   "source": [
    "- tidak menghapus ouliers karena luas rumah yang besar dan kecil itu sangat wajar untuk saat ini dibiarkan dulu lebih baik\n",
    "outliers akan di hapus apabila kita akan melakukan agregasi atau perhitungan pusat data agar nilai yang lebih tinggi tidak mempengaruhi nilai dari kebanyakan yang ada (prinsipnya: outlier dipertahankan, tapi pengaruhnya bisa dikendalikan saat analisis statistik.)"
   ]
  },
  {
   "cell_type": "markdown",
   "id": "b4227301",
   "metadata": {},
   "source": [
    "---\n",
    "**3: Rekayasa Fitur**\n",
    "\n",
    "- Buat kolom baru Bulan Penjualan dan Tahun Penjualan dari kolom Tanggal Penjualan.\n",
    "- Buat kolom baru Harga per Meter Persegi dengan membagi Harga (USD) dengan Luas Bangunan (m2).\n",
    "- Gunakan pd.cut() pada kolom Harga (USD) untuk membuat kolom kategorikal baru Kategori Harga dengan label: \"Murah\", \"Menengah\", dan \"Mahal\" berdasarkan kuartil."
   ]
  },
  {
   "cell_type": "code",
   "execution_count": 234,
   "id": "5ad245c5",
   "metadata": {},
   "outputs": [],
   "source": [
    "# ***Buat kolom baru Bulan Penjualan dan Tahun Penjualan dari kolom Tanggal Penjualan.***\n",
    "# kolom year sudah ada cukup ekstaks moth\n",
    "\n",
    "real_estate_trans_df['month'] = real_estate_trans_df['Date'].dt.month\n",
    "\n",
    "# print(real_estate_trans_df[['Date', 'month', 'Year']])\n",
    "# print(real_estate_trans_df[['Date', 'month', 'Year']].dtypes)\n",
    "\n",
    "\n",
    "# Buat kolom baru Harga per Meter Persegi dengan membagi Harga (USD) dengan Luas Bangunan (m2)\n",
    "real_estate_trans_df['price_per_square_meter'] = real_estate_trans_df['Sale Price'] / real_estate_trans_df['Building_Area']\n",
    "\n",
    "\n",
    "# Gunakan pd.cut() pada kolom Harga (USD) untuk membuat kolom kategorikal baru \n",
    "# Kategori Harga dengan label: \"Murah\", \"Menengah\", dan \"Mahal\" berdasarkan kuartil.\n",
    "\n",
    "Q1 = real_estate_trans_df['Sale Price'].quantile(1/3)\n",
    "Q2 = real_estate_trans_df['Sale Price'].quantile(2/3)\n",
    "\n",
    "real_estate_trans_df['Price_Category'] = pd.cut(real_estate_trans_df['Sale Price'],\n",
    "                                                bins=[-float('inf'), Q1, Q2, float('inf')],\n",
    "                                                labels=['Cheap', 'Middle', 'Exspensive'])\n",
    "\n",
    "# print(real_estate_trans_df[['Sale Price', 'Price_Category']].head(10))\n",
    "\n"
   ]
  },
  {
   "cell_type": "code",
   "execution_count": 235,
   "id": "11b4c7a0",
   "metadata": {},
   "outputs": [
    {
     "data": {
      "application/vnd.microsoft.datawrangler.viewer.v0+json": {
       "columns": [
        {
         "name": "index",
         "rawType": "int64",
         "type": "integer"
        },
        {
         "name": "Date",
         "rawType": "datetime64[ns]",
         "type": "datetime"
        },
        {
         "name": "Year",
         "rawType": "int64",
         "type": "integer"
        },
        {
         "name": "Locality",
         "rawType": "category",
         "type": "unknown"
        },
        {
         "name": "Estimated Value",
         "rawType": "float64",
         "type": "float"
        },
        {
         "name": "Sale Price",
         "rawType": "float64",
         "type": "float"
        },
        {
         "name": "Property",
         "rawType": "category",
         "type": "unknown"
        },
        {
         "name": "Residential",
         "rawType": "category",
         "type": "unknown"
        },
        {
         "name": "num_rooms",
         "rawType": "int32",
         "type": "integer"
        },
        {
         "name": "num_bathrooms",
         "rawType": "int32",
         "type": "integer"
        },
        {
         "name": "carpet_area",
         "rawType": "float64",
         "type": "float"
        },
        {
         "name": "property_tax_rate",
         "rawType": "float64",
         "type": "float"
        },
        {
         "name": "Face",
         "rawType": "category",
         "type": "unknown"
        },
        {
         "name": "num_bedrooms",
         "rawType": "int32",
         "type": "integer"
        },
        {
         "name": "Building_Area",
         "rawType": "float64",
         "type": "float"
        },
        {
         "name": "month",
         "rawType": "int32",
         "type": "integer"
        },
        {
         "name": "price_per_square_meter",
         "rawType": "float64",
         "type": "float"
        },
        {
         "name": "Price_Category",
         "rawType": "category",
         "type": "unknown"
        }
       ],
       "ref": "f045d781-b89f-4173-8df6-ebc7dcdbf201",
       "rows": [
        [
         "0",
         "2009-01-02 00:00:00",
         "2009",
         "Waterbury",
         "111440.0",
         "185000.0",
         "Single Family",
         "Detached House",
         "3",
         "3",
         "996.0",
         "1.025953",
         "South",
         "2",
         "7.3098814858247865",
         "1",
         "25308.20784970991",
         "Cheap"
        ],
        [
         "1",
         "2009-01-02 00:00:00",
         "2009",
         "Bridgeport",
         "73080.0",
         "152000.0",
         "Single Family",
         "Detached House",
         "3",
         "1",
         "935.0",
         "1.025953",
         "North",
         "2",
         "7.246724395801937",
         "1",
         "20974.993900424077",
         "Cheap"
        ],
        [
         "2",
         "2009-01-02 00:00:00",
         "2009",
         "Waterbury",
         "50540.0",
         "105000.0",
         "Single Family",
         "Detached House",
         "3",
         "1",
         "951.0",
         "1.025953",
         "East",
         "2",
         "7.263679941530166",
         "1",
         "14455.482736740836",
         "Cheap"
        ],
        [
         "3",
         "2009-01-02 00:00:00",
         "2009",
         "Norwalk",
         "571060.0",
         "1000000.0",
         "Single Family",
         "Detached House",
         "3",
         "2",
         "1021.0",
         "1.025953",
         "South",
         "1",
         "7.334655667810367",
         "1",
         "136339.0519324178",
         "Exspensive"
        ],
        [
         "4",
         "2009-01-02 00:00:00",
         "2009",
         "Bridgeport",
         "4775276.0",
         "272900.0",
         "Single Family",
         "Detached House",
         "3",
         "1",
         "971.0",
         "1.025953",
         "East",
         "2",
         "7.284477918224647",
         "1",
         "37463.220159847835",
         "Middle"
        ]
       ],
       "shape": {
        "columns": 17,
        "rows": 5
       }
      },
      "text/html": [
       "<div>\n",
       "<style scoped>\n",
       "    .dataframe tbody tr th:only-of-type {\n",
       "        vertical-align: middle;\n",
       "    }\n",
       "\n",
       "    .dataframe tbody tr th {\n",
       "        vertical-align: top;\n",
       "    }\n",
       "\n",
       "    .dataframe thead th {\n",
       "        text-align: right;\n",
       "    }\n",
       "</style>\n",
       "<table border=\"1\" class=\"dataframe\">\n",
       "  <thead>\n",
       "    <tr style=\"text-align: right;\">\n",
       "      <th></th>\n",
       "      <th>Date</th>\n",
       "      <th>Year</th>\n",
       "      <th>Locality</th>\n",
       "      <th>Estimated Value</th>\n",
       "      <th>Sale Price</th>\n",
       "      <th>Property</th>\n",
       "      <th>Residential</th>\n",
       "      <th>num_rooms</th>\n",
       "      <th>num_bathrooms</th>\n",
       "      <th>carpet_area</th>\n",
       "      <th>property_tax_rate</th>\n",
       "      <th>Face</th>\n",
       "      <th>num_bedrooms</th>\n",
       "      <th>Building_Area</th>\n",
       "      <th>month</th>\n",
       "      <th>price_per_square_meter</th>\n",
       "      <th>Price_Category</th>\n",
       "    </tr>\n",
       "  </thead>\n",
       "  <tbody>\n",
       "    <tr>\n",
       "      <th>0</th>\n",
       "      <td>2009-01-02</td>\n",
       "      <td>2009</td>\n",
       "      <td>Waterbury</td>\n",
       "      <td>111440.0</td>\n",
       "      <td>185000.0</td>\n",
       "      <td>Single Family</td>\n",
       "      <td>Detached House</td>\n",
       "      <td>3</td>\n",
       "      <td>3</td>\n",
       "      <td>996.0</td>\n",
       "      <td>1.025953</td>\n",
       "      <td>South</td>\n",
       "      <td>2</td>\n",
       "      <td>7.309881</td>\n",
       "      <td>1</td>\n",
       "      <td>25308.207850</td>\n",
       "      <td>Cheap</td>\n",
       "    </tr>\n",
       "    <tr>\n",
       "      <th>1</th>\n",
       "      <td>2009-01-02</td>\n",
       "      <td>2009</td>\n",
       "      <td>Bridgeport</td>\n",
       "      <td>73080.0</td>\n",
       "      <td>152000.0</td>\n",
       "      <td>Single Family</td>\n",
       "      <td>Detached House</td>\n",
       "      <td>3</td>\n",
       "      <td>1</td>\n",
       "      <td>935.0</td>\n",
       "      <td>1.025953</td>\n",
       "      <td>North</td>\n",
       "      <td>2</td>\n",
       "      <td>7.246724</td>\n",
       "      <td>1</td>\n",
       "      <td>20974.993900</td>\n",
       "      <td>Cheap</td>\n",
       "    </tr>\n",
       "    <tr>\n",
       "      <th>2</th>\n",
       "      <td>2009-01-02</td>\n",
       "      <td>2009</td>\n",
       "      <td>Waterbury</td>\n",
       "      <td>50540.0</td>\n",
       "      <td>105000.0</td>\n",
       "      <td>Single Family</td>\n",
       "      <td>Detached House</td>\n",
       "      <td>3</td>\n",
       "      <td>1</td>\n",
       "      <td>951.0</td>\n",
       "      <td>1.025953</td>\n",
       "      <td>East</td>\n",
       "      <td>2</td>\n",
       "      <td>7.263680</td>\n",
       "      <td>1</td>\n",
       "      <td>14455.482737</td>\n",
       "      <td>Cheap</td>\n",
       "    </tr>\n",
       "    <tr>\n",
       "      <th>3</th>\n",
       "      <td>2009-01-02</td>\n",
       "      <td>2009</td>\n",
       "      <td>Norwalk</td>\n",
       "      <td>571060.0</td>\n",
       "      <td>1000000.0</td>\n",
       "      <td>Single Family</td>\n",
       "      <td>Detached House</td>\n",
       "      <td>3</td>\n",
       "      <td>2</td>\n",
       "      <td>1021.0</td>\n",
       "      <td>1.025953</td>\n",
       "      <td>South</td>\n",
       "      <td>1</td>\n",
       "      <td>7.334656</td>\n",
       "      <td>1</td>\n",
       "      <td>136339.051932</td>\n",
       "      <td>Exspensive</td>\n",
       "    </tr>\n",
       "    <tr>\n",
       "      <th>4</th>\n",
       "      <td>2009-01-02</td>\n",
       "      <td>2009</td>\n",
       "      <td>Bridgeport</td>\n",
       "      <td>4775276.0</td>\n",
       "      <td>272900.0</td>\n",
       "      <td>Single Family</td>\n",
       "      <td>Detached House</td>\n",
       "      <td>3</td>\n",
       "      <td>1</td>\n",
       "      <td>971.0</td>\n",
       "      <td>1.025953</td>\n",
       "      <td>East</td>\n",
       "      <td>2</td>\n",
       "      <td>7.284478</td>\n",
       "      <td>1</td>\n",
       "      <td>37463.220160</td>\n",
       "      <td>Middle</td>\n",
       "    </tr>\n",
       "  </tbody>\n",
       "</table>\n",
       "</div>"
      ],
      "text/plain": [
       "        Date  Year    Locality  Estimated Value  Sale Price       Property  \\\n",
       "0 2009-01-02  2009   Waterbury         111440.0    185000.0  Single Family   \n",
       "1 2009-01-02  2009  Bridgeport          73080.0    152000.0  Single Family   \n",
       "2 2009-01-02  2009   Waterbury          50540.0    105000.0  Single Family   \n",
       "3 2009-01-02  2009     Norwalk         571060.0   1000000.0  Single Family   \n",
       "4 2009-01-02  2009  Bridgeport        4775276.0    272900.0  Single Family   \n",
       "\n",
       "      Residential  num_rooms  num_bathrooms  carpet_area  property_tax_rate  \\\n",
       "0  Detached House          3              3        996.0           1.025953   \n",
       "1  Detached House          3              1        935.0           1.025953   \n",
       "2  Detached House          3              1        951.0           1.025953   \n",
       "3  Detached House          3              2       1021.0           1.025953   \n",
       "4  Detached House          3              1        971.0           1.025953   \n",
       "\n",
       "    Face  num_bedrooms  Building_Area  month  price_per_square_meter  \\\n",
       "0  South             2       7.309881      1            25308.207850   \n",
       "1  North             2       7.246724      1            20974.993900   \n",
       "2   East             2       7.263680      1            14455.482737   \n",
       "3  South             1       7.334656      1           136339.051932   \n",
       "4   East             2       7.284478      1            37463.220160   \n",
       "\n",
       "  Price_Category  \n",
       "0          Cheap  \n",
       "1          Cheap  \n",
       "2          Cheap  \n",
       "3     Exspensive  \n",
       "4         Middle  "
      ]
     },
     "execution_count": 235,
     "metadata": {},
     "output_type": "execute_result"
    }
   ],
   "source": [
    "real_estate_trans_df.head()"
   ]
  },
  {
   "cell_type": "code",
   "execution_count": 236,
   "id": "e498aed4",
   "metadata": {},
   "outputs": [
    {
     "name": "stdout",
     "output_type": "stream",
     "text": [
      "Date                      0\n",
      "Year                      0\n",
      "Locality                  0\n",
      "Estimated Value           0\n",
      "Sale Price                0\n",
      "Property                  0\n",
      "Residential               0\n",
      "num_rooms                 0\n",
      "num_bathrooms             0\n",
      "carpet_area               0\n",
      "property_tax_rate         0\n",
      "Face                      0\n",
      "num_bedrooms              0\n",
      "Building_Area             0\n",
      "month                     0\n",
      "price_per_square_meter    0\n",
      "Price_Category            0\n",
      "dtype: int64\n"
     ]
    }
   ],
   "source": [
    "print(real_estate_trans_df.isna().sum())"
   ]
  },
  {
   "cell_type": "markdown",
   "id": "33b7d3f4",
   "metadata": {},
   "source": [
    "\n",
    "----\n",
    "\n",
    "**4: Analisis dan Visualisasi**\n",
    "\n",
    "- Distribusi: Visualisasikan distribusi Harga (USD) menggunakan histogram. Apakah distribusinya normal?\n",
    "- Hubungan:\n",
    "    - Gunakan scatter plot untuk melihat hubungan antara Luas Bangunan (m2) dan Harga (USD). Beri warna (hue) berdasarkan Tipe Properti.\n",
    "    - Gunakan bar plot untuk membandingkan Harga (USD) rata-rata di setiap Lokasi.\n",
    "    - Gunakan box plot untuk membandingkan distribusi Harga (USD) antara properti yang Status Renovasi-nya \"pernah direnovasi\" dan \"tidak pernah\".\n",
    "- Korelasi: Buat heatmap korelasi untuk semua fitur numerik. Fitur apa yang paling berkorelasi positif dengan Harga (USD)?\n",
    "\n",
    "- Tren Waktu: Gunakan line plot untuk menunjukkan tren rata-rata Harga (USD) dari tahun ke tahun."
   ]
  },
  {
   "cell_type": "code",
   "execution_count": 237,
   "id": "96679e89",
   "metadata": {},
   "outputs": [
    {
     "data": {
      "image/png": "[encoded data removed]",
      "text/plain": [
       "<Figure size 1600x600 with 1 Axes>"
      ]
     },
     "metadata": {},
     "output_type": "display_data"
    }
   ],
   "source": [
    "# --- Distribusi harga property --\n",
    "plt.figure(figsize=(16, 6))\n",
    "sns.histplot(real_estate_trans_df['Sale Price'], bins=40, kde=True)\n",
    "plt.title('Distribusi Harga Property')\n",
    "plt.xlabel('Harga')\n",
    "plt.ylabel('Frekuensi')\n",
    "plt.show()"
   ]
  },
  {
   "cell_type": "markdown",
   "id": "0ba9fe57",
   "metadata": {},
   "source": [
    "- right skewed"
   ]
  },
  {
   "cell_type": "code",
   "execution_count": 238,
   "id": "9b5fdd91",
   "metadata": {},
   "outputs": [
    {
     "data": {
      "image/png": "[encoded data removed]",
      "text/plain": [
       "<Figure size 1600x400 with 1 Axes>"
      ]
     },
     "metadata": {},
     "output_type": "display_data"
    },
    {
     "name": "stdout",
     "output_type": "stream",
     "text": [
      "Koefisien korelasi antara x dan y berdasarkan z adalah: -0.13870043499861573\n"
     ]
    }
   ],
   "source": [
    "# Hubungan Luas bangunan dan harga berdasarkan Property\n",
    "plt.figure(figsize=(16, 4))\n",
    "sns.scatterplot(x='Building_Area', \n",
    "                y='Sale Price',\n",
    "                hue='Property', \n",
    "                data=real_estate_trans_df)\n",
    "plt.title('Hubungan Luas bangunan dan harga berdasarkan Property')\n",
    "plt.show()\n",
    "\n",
    "\n",
    "corr = real_estate_trans_df['Building_Area'].corr(real_estate_trans_df['Sale Price'])\n",
    "print(f\"Koefisien korelasi antara x dan y berdasarkan z adalah: {corr}\")"
   ]
  },
  {
   "cell_type": "markdown",
   "id": "4dd45d1f",
   "metadata": {},
   "source": [
    "- tidak ada korelasi sangat lemah mendekati 0"
   ]
  },
  {
   "cell_type": "code",
   "execution_count": 239,
   "id": "210dcd3d",
   "metadata": {},
   "outputs": [
    {
     "data": {
      "image/png": "[encoded data removed]",
      "text/plain": [
       "<Figure size 1600x600 with 1 Axes>"
      ]
     },
     "metadata": {},
     "output_type": "display_data"
    }
   ],
   "source": [
    "# Gunakan box plot untuk membandingkan distribusi Harga (USD) antara properti yang Status Renovasi-nya \n",
    "# \"pernah direnovasi\" dan \"tidak pernah\".\n",
    "\n",
    "# karna data tidak ada kolom renovasi kita rekayasa sendiri\n",
    "real_estate_trans_df['property_age'] = real_estate_trans_df['Year'].max() - real_estate_trans_df['Year']\n",
    "\n",
    "# bikin kategori Renovated / Not Renovated -> diatas 20 tahun anggap sudah direnovasi\n",
    "real_estate_trans_df['renovation_status'] = np.where(real_estate_trans_df['property_age'] > 10, \"Sudah\", \"Belum\")\n",
    "real_estate_trans_df['renovation_status'] =  real_estate_trans_df['renovation_status'].astype('category')\n",
    "\n",
    "# print(real_estate_trans_df['renovation_status'].dtypes)\n",
    "# print(real_estate_trans_df['renovation_status'].head())\n",
    "# print(real_estate_trans_df['renovation_status'].value_counts())\n",
    "\n",
    "\n",
    "# boxplot distribusi harga property berdasarkan renovasi\n",
    "plt.figure(figsize=(16, 6))\n",
    "sns.boxplot(data=real_estate_trans_df,  \n",
    "            x='Property', \n",
    "            y='Sale Price', \n",
    "            hue='renovation_status')\n",
    "plt.title('Boxplot Sale Price by Property Type and Renovation Status')\n",
    "plt.yscale('log')  # opsional: log scale biar outlier harga keliatan jelas\n",
    "plt.show()\n",
    "\n"
   ]
  },
  {
   "cell_type": "code",
   "execution_count": 243,
   "id": "378291dc",
   "metadata": {},
   "outputs": [
    {
     "data": {
      "image/png": "[encoded data removed]",
      "text/plain": [
       "<Figure size 1600x600 with 2 Axes>"
      ]
     },
     "metadata": {},
     "output_type": "display_data"
    },
    {
     "name": "stdout",
     "output_type": "stream",
     "text": [
      "\n",
      "Korelasi dengan Sale Price:\n",
      "Sale Price                1.000000\n",
      "price_per_square_meter    0.999934\n",
      "Estimated Value           0.853559\n",
      "property_age              0.017016\n",
      "month                    -0.001731\n",
      "num_bedrooms             -0.010014\n",
      "property_tax_rate        -0.013147\n",
      "Year                     -0.017016\n",
      "num_bathrooms            -0.104441\n",
      "carpet_area              -0.131050\n",
      "Building_Area            -0.138700\n",
      "num_rooms                -0.146197\n",
      "Name: Sale Price, dtype: float64\n"
     ]
    }
   ],
   "source": [
    "# pilih hanya kolom numerik\n",
    "numeric_df = real_estate_trans_df.select_dtypes(include=['int32','int64','float64'])\n",
    "# hitung korelasi\n",
    "corr = numeric_df.corr()\n",
    "\n",
    "\n",
    "\n",
    "plt.figure(figsize=(16,6))\n",
    "sns.heatmap(corr, annot=True, fmt=\".2f\", cmap=\"coolwarm\", cbar=True)\n",
    "plt.title(\"Heatmap Korelasi Fitur Numerik\", fontsize=14)\n",
    "plt.show()\n",
    "\n",
    "# cetak korelasi khusus dengan Sale Price, urutkan\n",
    "print(\"\\nKorelasi dengan Sale Price:\")\n",
    "print(corr['Sale Price'].sort_values(ascending=False))"
   ]
  },
  {
   "cell_type": "code",
   "execution_count": 246,
   "id": "bc91a30a",
   "metadata": {},
   "outputs": [
    {
     "data": {
      "image/png": "[encoded data removed]",
      "text/plain": [
       "<Figure size 1600x600 with 1 Axes>"
      ]
     },
     "metadata": {},
     "output_type": "display_data"
    }
   ],
   "source": [
    "# ambil korelasi khusus dengan Sale Price, urutkan\n",
    "sale_corr = corr['Sale Price'].drop('Sale Price').sort_values(ascending=False)\n",
    "\n",
    "# plot barplot\n",
    "plt.figure(figsize=(16,6))\n",
    "sns.barplot(x=sale_corr.values, hue=sale_corr.index, palette=\"coolwarm\")\n",
    "\n",
    "plt.title(\"Korelasi Fitur Numerik dengan Sale Price\", fontsize=14)\n",
    "plt.xlabel(\"Correlation Coefficient\")\n",
    "plt.ylabel(\"Fitur\")\n",
    "plt.show()"
   ]
  },
  {
   "cell_type": "code",
   "execution_count": 253,
   "id": "a234e8cb",
   "metadata": {},
   "outputs": [
    {
     "data": {
      "image/png": "[encoded data removed]",
      "text/plain": [
       "<Figure size 1600x600 with 1 Axes>"
      ]
     },
     "metadata": {},
     "output_type": "display_data"
    }
   ],
   "source": [
    "# Tren Waktu: Gunakan line plot untuk menunjukkan tren rata-rata Harga (USD) dari tahun ke tahun.\n",
    "\n",
    "prop_per_year = real_estate_trans_df.groupby('Year')['Sale Price'].mean().reset_index()\n",
    "\n",
    "\n",
    "\n",
    "plt.figure(figsize=(16,6))\n",
    "plt.plot(prop_per_year['Year'], prop_per_year['Sale Price'], marker='o')\n",
    "\n",
    "plt.title(\"Tren Penjualan Property per Tahun\")\n",
    "plt.xlabel(\"Tahun Penjualan\")\n",
    "plt.ylabel(\"Jumlah Penjualan Rata-rata (USD)\")\n",
    "plt.grid(True)\n",
    "plt.show()\n"
   ]
  },
  {
   "cell_type": "code",
   "execution_count": 274,
   "id": "b6e676b7",
   "metadata": {},
   "outputs": [
    {
     "name": "stderr",
     "output_type": "stream",
     "text": [
      "C:\\Users\\USER\\AppData\\Local\\Temp\\ipykernel_19448\\954856474.py:6: FutureWarning:\n",
      "\n",
      "\n",
      "\n",
      "Passing `palette` without assigning `hue` is deprecated and will be removed in v0.14.0. Assign the `x` variable to `hue` and set `legend=False` for the same effect.\n",
      "\n",
      "\n"
     ]
    },
    {
     "data": {
      "image/png": "[encoded data removed]",
      "text/plain": [
       "<Figure size 1600x600 with 1 Axes>"
      ]
     },
     "metadata": {},
     "output_type": "display_data"
    }
   ],
   "source": [
    "avg_price_per_per_face = real_estate_trans_df.groupby('Face', observed=True)['Sale Price'].mean().reset_index()\n",
    "\n",
    "# --- KODE PERBAIKAN 1: Hapus Skala Log ---\n",
    "\n",
    "plt.figure(figsize=(16, 6))\n",
    "sns.barplot(data=avg_price_per_per_face, x='Face', y='Sale Price', palette='viridis')\n",
    "\n",
    "plt.title('Rata-rata Harga Properti berdasarkan Arah Hadap')\n",
    "plt.xlabel('Arah Hadap')\n",
    "plt.ylabel('Rata-rata Harga (USD)')\n",
    "plt.grid(True, axis='y', linestyle='--') # Tambahan grid agar lebih mudah dibaca\n",
    "plt.show()"
   ]
  },
  {
   "cell_type": "code",
   "execution_count": 279,
   "id": "fe3d38a7",
   "metadata": {},
   "outputs": [
    {
     "data": {
      "application/vnd.plotly.v1+json": {
       "config": {
        "plotlyServerURL": "https://plot.ly"
       },
       "data": [
        {
         "alignmentgroup": "True",
         "hovertemplate": "Arah Hadap=%{x}<br>Rata-rata Harga (USD)=%{y}<extra></extra>",
         "legendgroup": "East",
         "marker": {
          "color": "#636efa",
          "pattern": {
           "shape": ""
          }
         },
         "name": "East",
         "offsetgroup": "East",
         "orientation": "v",
         "showlegend": true,
         "textposition": "auto",
         "texttemplate": "%{y}",
         "type": "bar",
         "x": [
          "East"
         ],
         "xaxis": "x",
         "y": [
          628264.5564836913
         ],
         "yaxis": "y"
        },
        {
         "alignmentgroup": "True",
         "hovertemplate": "Arah Hadap=%{x}<br>Rata-rata Harga (USD)=%{y}<extra></extra>",
         "legendgroup": "North",
         "marker": {
          "color": "#EF553B",
          "pattern": {
           "shape": ""
          }
         },
         "name": "North",
         "offsetgroup": "North",
         "orientation": "v",
         "showlegend": true,
         "textposition": "auto",
         "texttemplate": "%{y}",
         "type": "bar",
         "x": [
          "North"
         ],
         "xaxis": "x",
         "y": [
          617206.8134122288
         ],
         "yaxis": "y"
        },
        {
         "alignmentgroup": "True",
         "hovertemplate": "Arah Hadap=%{x}<br>Rata-rata Harga (USD)=%{y}<extra></extra>",
         "legendgroup": "South",
         "marker": {
          "color": "#00cc96",
          "pattern": {
           "shape": ""
          }
         },
         "name": "South",
         "offsetgroup": "South",
         "orientation": "v",
         "showlegend": true,
         "textposition": "auto",
         "texttemplate": "%{y}",
         "type": "bar",
         "x": [
          "South"
         ],
         "xaxis": "x",
         "y": [
          627998.1281741234
         ],
         "yaxis": "y"
        },
        {
         "alignmentgroup": "True",
         "hovertemplate": "Arah Hadap=%{x}<br>Rata-rata Harga (USD)=%{y}<extra></extra>",
         "legendgroup": "West",
         "marker": {
          "color": "#ab63fa",
          "pattern": {
           "shape": ""
          }
         },
         "name": "West",
         "offsetgroup": "West",
         "orientation": "v",
         "showlegend": true,
         "textposition": "auto",
         "texttemplate": "%{y}",
         "type": "bar",
         "x": [
          "West"
         ],
         "xaxis": "x",
         "y": [
          616440.7380566802
         ],
         "yaxis": "y"
        }
       ],
       "layout": {
        "barmode": "relative",
        "legend": {
         "title": {
          "text": "Arah Hadap"
         },
         "tracegroupgap": 0
        },
        "template": {
         "data": {
          "bar": [
           {
            "error_x": {
             "color": "#2a3f5f"
            },
            "error_y": {
             "color": "#2a3f5f"
            },
            "marker": {
             "line": {
              "color": "#E5ECF6",
              "width": 0.5
             },
             "pattern": {
              "fillmode": "overlay",
              "size": 10,
              "solidity": 0.2
             }
            },
            "type": "bar"
           }
          ],
          "barpolar": [
           {
            "marker": {
             "line": {
              "color": "#E5ECF6",
              "width": 0.5
             },
             "pattern": {
              "fillmode": "overlay",
              "size": 10,
              "solidity": 0.2
             }
            },
            "type": "barpolar"
           }
          ],
          "carpet": [
           {
            "aaxis": {
             "endlinecolor": "#2a3f5f",
             "gridcolor": "white",
             "linecolor": "white",
             "minorgridcolor": "white",
             "startlinecolor": "#2a3f5f"
            },
            "baxis": {
             "endlinecolor": "#2a3f5f",
             "gridcolor": "white",
             "linecolor": "white",
             "minorgridcolor": "white",
             "startlinecolor": "#2a3f5f"
            },
            "type": "carpet"
           }
          ],
          "choropleth": [
           {
            "colorbar": {
             "outlinewidth": 0,
             "ticks": ""
            },
            "type": "choropleth"
           }
          ],
          "contour": [
           {
            "colorbar": {
             "outlinewidth": 0,
             "ticks": ""
            },
            "colorscale": [
             [
              0,
              "#0d0887"
             ],
             [
              0.1111111111111111,
              "#46039f"
             ],
             [
              0.2222222222222222,
              "#7201a8"
             ],
             [
              0.3333333333333333,
              "#9c179e"
             ],
             [
              0.4444444444444444,
              "#bd3786"
             ],
             [
              0.5555555555555556,
              "#d8576b"
             ],
             [
              0.6666666666666666,
              "#ed7953"
             ],
             [
              0.7777777777777778,
              "#fb9f3a"
             ],
             [
              0.8888888888888888,
              "#fdca26"
             ],
             [
              1,
              "#f0f921"
             ]
            ],
            "type": "contour"
           }
          ],
          "contourcarpet": [
           {
            "colorbar": {
             "outlinewidth": 0,
             "ticks": ""
            },
            "type": "contourcarpet"
           }
          ],
          "heatmap": [
           {
            "colorbar": {
             "outlinewidth": 0,
             "ticks": ""
            },
            "colorscale": [
             [
              0,
              "#0d0887"
             ],
             [
              0.1111111111111111,
              "#46039f"
             ],
             [
              0.2222222222222222,
              "#7201a8"
             ],
             [
              0.3333333333333333,
              "#9c179e"
             ],
             [
              0.4444444444444444,
              "#bd3786"
             ],
             [
              0.5555555555555556,
              "#d8576b"
             ],
             [
              0.6666666666666666,
              "#ed7953"
             ],
             [
              0.7777777777777778,
              "#fb9f3a"
             ],
             [
              0.8888888888888888,
              "#fdca26"
             ],
             [
              1,
              "#f0f921"
             ]
            ],
            "type": "heatmap"
           }
          ],
          "heatmapgl": [
           {
            "colorbar": {
             "outlinewidth": 0,
             "ticks": ""
            },
            "colorscale": [
             [
              0,
              "#0d0887"
             ],
             [
              0.1111111111111111,
              "#46039f"
             ],
             [
              0.2222222222222222,
              "#7201a8"
             ],
             [
              0.3333333333333333,
              "#9c179e"
             ],
             [
              0.4444444444444444,
              "#bd3786"
             ],
             [
              0.5555555555555556,
              "#d8576b"
             ],
             [
              0.6666666666666666,
              "#ed7953"
             ],
             [
              0.7777777777777778,
              "#fb9f3a"
             ],
             [
              0.8888888888888888,
              "#fdca26"
             ],
             [
              1,
              "#f0f921"
             ]
            ],
            "type": "heatmapgl"
           }
          ],
          "histogram": [
           {
            "marker": {
             "pattern": {
              "fillmode": "overlay",
              "size": 10,
              "solidity": 0.2
             }
            },
            "type": "histogram"
           }
          ],
          "histogram2d": [
           {
            "colorbar": {
             "outlinewidth": 0,
             "ticks": ""
            },
            "colorscale": [
             [
              0,
              "#0d0887"
             ],
             [
              0.1111111111111111,
              "#46039f"
             ],
             [
              0.2222222222222222,
              "#7201a8"
             ],
             [
              0.3333333333333333,
              "#9c179e"
             ],
             [
              0.4444444444444444,
              "#bd3786"
             ],
             [
              0.5555555555555556,
              "#d8576b"
             ],
             [
              0.6666666666666666,
              "#ed7953"
             ],
             [
              0.7777777777777778,
              "#fb9f3a"
             ],
             [
              0.8888888888888888,
              "#fdca26"
             ],
             [
              1,
              "#f0f921"
             ]
            ],
            "type": "histogram2d"
           }
          ],
          "histogram2dcontour": [
           {
            "colorbar": {
             "outlinewidth": 0,
             "ticks": ""
            },
            "colorscale": [
             [
              0,
              "#0d0887"
             ],
             [
              0.1111111111111111,
              "#46039f"
             ],
             [
              0.2222222222222222,
              "#7201a8"
             ],
             [
              0.3333333333333333,
              "#9c179e"
             ],
             [
              0.4444444444444444,
              "#bd3786"
             ],
             [
              0.5555555555555556,
              "#d8576b"
             ],
             [
              0.6666666666666666,
              "#ed7953"
             ],
             [
              0.7777777777777778,
              "#fb9f3a"
             ],
             [
              0.8888888888888888,
              "#fdca26"
             ],
             [
              1,
              "#f0f921"
             ]
            ],
            "type": "histogram2dcontour"
           }
          ],
          "mesh3d": [
           {
            "colorbar": {
             "outlinewidth": 0,
             "ticks": ""
            },
            "type": "mesh3d"
           }
          ],
          "parcoords": [
           {
            "line": {
             "colorbar": {
              "outlinewidth": 0,
              "ticks": ""
             }
            },
            "type": "parcoords"
           }
          ],
          "pie": [
           {
            "automargin": true,
            "type": "pie"
           }
          ],
          "scatter": [
           {
            "fillpattern": {
             "fillmode": "overlay",
             "size": 10,
             "solidity": 0.2
            },
            "type": "scatter"
           }
          ],
          "scatter3d": [
           {
            "line": {
             "colorbar": {
              "outlinewidth": 0,
              "ticks": ""
             }
            },
            "marker": {
             "colorbar": {
              "outlinewidth": 0,
              "ticks": ""
             }
            },
            "type": "scatter3d"
           }
          ],
          "scattercarpet": [
           {
            "marker": {
             "colorbar": {
              "outlinewidth": 0,
              "ticks": ""
             }
            },
            "type": "scattercarpet"
           }
          ],
          "scattergeo": [
           {
            "marker": {
             "colorbar": {
              "outlinewidth": 0,
              "ticks": ""
             }
            },
            "type": "scattergeo"
           }
          ],
          "scattergl": [
           {
            "marker": {
             "colorbar": {
              "outlinewidth": 0,
              "ticks": ""
             }
            },
            "type": "scattergl"
           }
          ],
          "scattermapbox": [
           {
            "marker": {
             "colorbar": {
              "outlinewidth": 0,
              "ticks": ""
             }
            },
            "type": "scattermapbox"
           }
          ],
          "scatterpolar": [
           {
            "marker": {
             "colorbar": {
              "outlinewidth": 0,
              "ticks": ""
             }
            },
            "type": "scatterpolar"
           }
          ],
          "scatterpolargl": [
           {
            "marker": {
             "colorbar": {
              "outlinewidth": 0,
              "ticks": ""
             }
            },
            "type": "scatterpolargl"
           }
          ],
          "scatterternary": [
           {
            "marker": {
             "colorbar": {
              "outlinewidth": 0,
              "ticks": ""
             }
            },
            "type": "scatterternary"
           }
          ],
          "surface": [
           {
            "colorbar": {
             "outlinewidth": 0,
             "ticks": ""
            },
            "colorscale": [
             [
              0,
              "#0d0887"
             ],
             [
              0.1111111111111111,
              "#46039f"
             ],
             [
              0.2222222222222222,
              "#7201a8"
             ],
             [
              0.3333333333333333,
              "#9c179e"
             ],
             [
              0.4444444444444444,
              "#bd3786"
             ],
             [
              0.5555555555555556,
              "#d8576b"
             ],
             [
              0.6666666666666666,
              "#ed7953"
             ],
             [
              0.7777777777777778,
              "#fb9f3a"
             ],
             [
              0.8888888888888888,
              "#fdca26"
             ],
             [
              1,
              "#f0f921"
             ]
            ],
            "type": "surface"
           }
          ],
          "table": [
           {
            "cells": {
             "fill": {
              "color": "#EBF0F8"
             },
             "line": {
              "color": "white"
             }
            },
            "header": {
             "fill": {
              "color": "#C8D4E3"
             },
             "line": {
              "color": "white"
             }
            },
            "type": "table"
           }
          ]
         },
         "layout": {
          "annotationdefaults": {
           "arrowcolor": "#2a3f5f",
           "arrowhead": 0,
           "arrowwidth": 1
          },
          "autotypenumbers": "strict",
          "coloraxis": {
           "colorbar": {
            "outlinewidth": 0,
            "ticks": ""
           }
          },
          "colorscale": {
           "diverging": [
            [
             0,
             "#8e0152"
            ],
            [
             0.1,
             "#c51b7d"
            ],
            [
             0.2,
             "#de77ae"
            ],
            [
             0.3,
             "#f1b6da"
            ],
            [
             0.4,
             "#fde0ef"
            ],
            [
             0.5,
             "#f7f7f7"
            ],
            [
             0.6,
             "#e6f5d0"
            ],
            [
             0.7,
             "#b8e186"
            ],
            [
             0.8,
             "#7fbc41"
            ],
            [
             0.9,
             "#4d9221"
            ],
            [
             1,
             "#276419"
            ]
           ],
           "sequential": [
            [
             0,
             "#0d0887"
            ],
            [
             0.1111111111111111,
             "#46039f"
            ],
            [
             0.2222222222222222,
             "#7201a8"
            ],
            [
             0.3333333333333333,
             "#9c179e"
            ],
            [
             0.4444444444444444,
             "#bd3786"
            ],
            [
             0.5555555555555556,
             "#d8576b"
            ],
            [
             0.6666666666666666,
             "#ed7953"
            ],
            [
             0.7777777777777778,
             "#fb9f3a"
            ],
            [
             0.8888888888888888,
             "#fdca26"
            ],
            [
             1,
             "#f0f921"
            ]
           ],
           "sequentialminus": [
            [
             0,
             "#0d0887"
            ],
            [
             0.1111111111111111,
             "#46039f"
            ],
            [
             0.2222222222222222,
             "#7201a8"
            ],
            [
             0.3333333333333333,
             "#9c179e"
            ],
            [
             0.4444444444444444,
             "#bd3786"
            ],
            [
             0.5555555555555556,
             "#d8576b"
            ],
            [
             0.6666666666666666,
             "#ed7953"
            ],
            [
             0.7777777777777778,
             "#fb9f3a"
            ],
            [
             0.8888888888888888,
             "#fdca26"
            ],
            [
             1,
             "#f0f921"
            ]
           ]
          },
          "colorway": [
           "#636efa",
           "#EF553B",
           "#00cc96",
           "#ab63fa",
           "#FFA15A",
           "#19d3f3",
           "#FF6692",
           "#B6E880",
           "#FF97FF",
           "#FECB52"
          ],
          "font": {
           "color": "#2a3f5f"
          },
          "geo": {
           "bgcolor": "white",
           "lakecolor": "white",
           "landcolor": "#E5ECF6",
           "showlakes": true,
           "showland": true,
           "subunitcolor": "white"
          },
          "hoverlabel": {
           "align": "left"
          },
          "hovermode": "closest",
          "mapbox": {
           "style": "light"
          },
          "paper_bgcolor": "white",
          "plot_bgcolor": "#E5ECF6",
          "polar": {
           "angularaxis": {
            "gridcolor": "white",
            "linecolor": "white",
            "ticks": ""
           },
           "bgcolor": "#E5ECF6",
           "radialaxis": {
            "gridcolor": "white",
            "linecolor": "white",
            "ticks": ""
           }
          },
          "scene": {
           "xaxis": {
            "backgroundcolor": "#E5ECF6",
            "gridcolor": "white",
            "gridwidth": 2,
            "linecolor": "white",
            "showbackground": true,
            "ticks": "",
            "zerolinecolor": "white"
           },
           "yaxis": {
            "backgroundcolor": "#E5ECF6",
            "gridcolor": "white",
            "gridwidth": 2,
            "linecolor": "white",
            "showbackground": true,
            "ticks": "",
            "zerolinecolor": "white"
           },
           "zaxis": {
            "backgroundcolor": "#E5ECF6",
            "gridcolor": "white",
            "gridwidth": 2,
            "linecolor": "white",
            "showbackground": true,
            "ticks": "",
            "zerolinecolor": "white"
           }
          },
          "shapedefaults": {
           "line": {
            "color": "#2a3f5f"
           }
          },
          "ternary": {
           "aaxis": {
            "gridcolor": "white",
            "linecolor": "white",
            "ticks": ""
           },
           "baxis": {
            "gridcolor": "white",
            "linecolor": "white",
            "ticks": ""
           },
           "bgcolor": "#E5ECF6",
           "caxis": {
            "gridcolor": "white",
            "linecolor": "white",
            "ticks": ""
           }
          },
          "title": {
           "x": 0.05
          },
          "xaxis": {
           "automargin": true,
           "gridcolor": "white",
           "linecolor": "white",
           "ticks": "",
           "title": {
            "standoff": 15
           },
           "zerolinecolor": "white",
           "zerolinewidth": 2
          },
          "yaxis": {
           "automargin": true,
           "gridcolor": "white",
           "linecolor": "white",
           "ticks": "",
           "title": {
            "standoff": 15
           },
           "zerolinecolor": "white",
           "zerolinewidth": 2
          }
         }
        },
        "title": {
         "text": "Rata-rata Harga Properti berdasarkan Arah Hadap (Interaktif)"
        },
        "xaxis": {
         "anchor": "y",
         "categoryarray": [
          "East",
          "North",
          "South",
          "West"
         ],
         "categoryorder": "array",
         "domain": [
          0,
          1
         ],
         "title": {
          "text": "Arah Hadap"
         }
        },
        "yaxis": {
         "anchor": "x",
         "domain": [
          0,
          1
         ],
         "title": {
          "text": "Rata-rata Harga (USD)"
         }
        }
       }
      }
     },
     "metadata": {},
     "output_type": "display_data"
    }
   ],
   "source": [
    "#Menggunakan Plotly Express ---\n",
    "import plotly.express as px\n",
    "\n",
    "fig = px.bar(avg_price_per_per_face,\n",
    "             x='Face',\n",
    "             y='Sale Price',\n",
    "             color='Face', # Memberi warna berbeda untuk setiap bar\n",
    "             title='Rata-rata Harga Properti berdasarkan Arah Hadap (Interaktif)',\n",
    "             labels={'Sale Price': 'Rata-rata Harga (USD)', 'Face': 'Arah Hadap'},\n",
    "             text_auto=True) # Otomatis menambahkan label\n",
    "\n",
    "fig.show()"
   ]
  },
  {
   "cell_type": "markdown",
   "id": "1ebba508",
   "metadata": {},
   "source": [
    "---\n",
    "\n",
    "**5: Pembentukan Hipotesis dan Ringkasan**\n",
    "\n",
    "1. Hipotesis dari Box Plot Status Renovasi:\n",
    "- Temuan: Dari box plot, terlihat bahwa properti yang \"Sudah\" direnovasi (diasumsikan berusia > 10 tahun) secara konsisten memiliki median harga jual yang lebih tinggi di berbagai tipe properti.\n",
    "- Hipotesis 1: \"Status renovasi properti berpengaruh signifikan terhadap harga jual. Properti yang telah direnovasi cenderung memiliki valuasi harga yang lebih tinggi dibandingkan dengan properti yang belum direnovasi.\"\n",
    "\n",
    "2. Hipotesis dari Heatmap Korelasi:\n",
    "- Temuan: Heatmap menunjukkan korelasi positif yang sangat kuat (0.85) antara Estimated Value dan Sale Price.\n",
    "- Hipotesis 2: \"Terdapat hubungan linear positif yang kuat antara nilai estimasi (Estimated Value) dan harga jual aktual (Sale Price), menjadikannya prediktor harga jual yang paling potensial di antara fitur lainnya.\"\n",
    "\n",
    "\n",
    "3. Hipotesis dari Bar Plot Arah Hadap:\n",
    "- Temuan: Plot batang yang baru menunjukkan bahwa bar untuk Timur (East) sedikit lebih tinggi daripada Selatan (South).\n",
    "\n",
    "- Hipotesis 3: \"Arah hadap properti merupakan salah satu faktor yang memengaruhi harga jual. Properti yang menghadap ke Timur (East) memiliki harga jual rata-rata tertinggi, meskipun perbedaannya sangat tipis dengan yang menghadap ke Selatan.\"\n"
   ]
  },
  {
   "cell_type": "markdown",
   "id": "c3610020",
   "metadata": {},
   "source": [
    "Ringkasan Singkat Temuan Kunci (Untuk Manajemen)\n",
    "\n",
    "- Kepada: Manajemen Perusahaan Properti\n",
    "- Dari: ''''', Analis Data\n",
    "- Subjek: Ringkasan Analisis Eksplorasi Faktor Harga Properti\n",
    "\n",
    "Berikut adalah ringkasan temuan kunci dari analisis data penjualan properti yang telah dilakukan:\n",
    "\n",
    "1. Prediktor Harga Utama: Analisis menunjukkan bahwa Nilai Estimasi (Estimated Value) memiliki korelasi positif yang sangat kuat (0.85) dengan harga jual akhir. Hal ini mengindikasikan bahwa model valuasi internal kita sudah cukup akurat dalam memprediksi harga pasar. Sebagian besar properti yang terjual berada di rentang harga bawah hingga menengah, dengan beberapa properti bernilai sangat tinggi yang mendongkrak harga rata-rata.\n",
    "\n",
    "2. Faktor Peningkat Nilai: Dua faktor non-ukuran yang terlihat berpengaruh signifikan adalah status renovasi dan arah hadap properti. Properti yang telah direnovasi (diasumsikan berusia lebih dari 10 tahun) secara konsisten menunjukkan harga jual median yang lebih tinggi. Selain itu, properti yang menghadap ke Timur (East) memiliki harga jual rata-rata tertinggi, diikuti sangat tipis oleh arah Selatan (South). Keduanya secara signifikan lebih bernilai dibandingkan arah Utara dan Barat. Temuan ini bisa menjadi informasi penting untuk menonjolkan kelebihan properti dalam strategi pemasaran.\n",
    "\n",
    "3. Tren Pasar: Data historis menunjukkan adanya tren kenaikan harga jual properti dari tahun ke tahun, dengan puncak yang terlihat jelas sekitar tahun 2021. Ini mengindikasikan apresiasi nilai pasar secara umum dan prospek investasi yang positif.\n",
    "\n",
    "Analisis ini dapat menjadi dasar yang kuat untuk strategi penentuan harga, fokus pemasaran, dan keputusan investasi properti di masa mendatang."
   ]
  }
 ],
 "metadata": {
  "kernelspec": {
   "display_name": "Python 3",
   "language": "python",
   "name": "python3"
  },
  "language_info": {
   "codemirror_mode": {
    "name": "ipython",
    "version": 3
   },
   "file_extension": ".py",
   "mimetype": "text/x-python",
   "name": "python",
   "nbconvert_exporter": "python",
   "pygments_lexer": "ipython3",
   "version": "3.12.4"
  }
 },
 "nbformat": 4,
 "nbformat_minor": 5
}
