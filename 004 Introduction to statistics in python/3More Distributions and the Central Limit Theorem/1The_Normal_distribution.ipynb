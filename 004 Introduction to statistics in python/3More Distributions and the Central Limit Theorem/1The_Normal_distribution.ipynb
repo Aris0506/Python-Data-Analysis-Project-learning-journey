{
 "cells": [
  {
   "cell_type": "code",
   "execution_count": null,
   "id": "c02968c2",
   "metadata": {},
   "outputs": [],
   "source": [
    "# Distribution of Amir's sales\n",
    "\n",
    "# Histogram of amount column of amir_deals with 10 bins and show plot\n",
    "amir_deals['amount'].hist(bins=10)\n",
    "plt.show()"
   ]
  },
  {
   "cell_type": "code",
   "execution_count": null,
   "id": "82e79aab",
   "metadata": {},
   "outputs": [],
   "source": [
    "# Probabilities from the normal distribution\n",
    "\n",
    "# Probability of deal < 7500\n",
    "prob_less_7500 = norm.cdf(7500, 5000, 2000)\n",
    "\n",
    "print(prob_less_7500)\n",
    "\n",
    "\n",
    "####################################\n",
    "\n",
    "# Probability of deal > 1000\n",
    "prob_over_1000 = 1 - norm.cdf(1000, 5000, 2000)\n",
    "\n",
    "print(prob_over_1000)\n",
    "\n",
    "#######################################\n",
    "\n",
    "# Probability of deal between 3000 and 7000\n",
    "prob_3000_to_7000 = norm.cdf(7000, 5000, 2000) - norm.cdf(3000, 5000, 2000)\n",
    "\n",
    "print(prob_3000_to_7000)\n",
    "\n",
    "#####################\n",
    "\n",
    "\n",
    "# Calculate amount that 25% of deals will be less than\n",
    "pct_25 = norm.ppf(0.25, 5000, 2000)\n",
    "\n",
    "print(pct_25)"
   ]
  },
  {
   "cell_type": "code",
   "execution_count": null,
   "id": "e5378ba5",
   "metadata": {},
   "outputs": [],
   "source": [
    "# Simulating sales under new market conditions\n",
    "\n",
    "# Calculate new average amount\n",
    "new_mean = 5000 * 1.2\n",
    "\n",
    "# Calculate new standard deviation\n",
    "new_sd = 2000 * 1.3\n",
    "\n",
    "# Simulate 36 new sales\n",
    "new_sales = norm.rvs(new_mean, new_sd, size=36)\n",
    "\n",
    "# Create histogram and show\n",
    "plt.hist(new_sales)\n",
    "plt.show()"
   ]
  },
  {
   "cell_type": "code",
   "execution_count": 2,
   "id": "c0525ccb",
   "metadata": {},
   "outputs": [
    {
     "name": "stdout",
     "output_type": "stream",
     "text": [
      "Mean (Rata-rata): 5400.0\n",
      "Standard Deviation: 1053.0379332620876\n",
      "--------------------\n",
      "Probabilitas deal di bawah $7500: 0.9769\n"
     ]
    }
   ],
   "source": [
    "# kode yang sebenarnya untuk sampai pada tahap ini\n",
    "\n",
    "import pandas as pd\n",
    "from scipy.stats import norm\n",
    "\n",
    "# 1. SIAPKAN DATA\n",
    "# (Di dunia nyata, ini bisa dibaca dari file CSV. Kita buat contohnya di sini)\n",
    "data = {'deal_amount': [5500, 4800, 6200, 3500, 7100, 4500, 5200, 4900, 5800, 6500]}\n",
    "sales_df = pd.DataFrame(data)\n",
    "\n",
    "\n",
    "# 2. LAKUKAN \"PEMERIKSAAN KESEHATAN\" DATA\n",
    "# Hitung rata-rata (mean) dan standar deviasi (std) dari data\n",
    "mean_deals = sales_df['deal_amount'].mean()\n",
    "std_deals = sales_df['deal_amount'].std()\n",
    "\n",
    "# Tampilkan hasilnya agar kita tahu nilainya (seharusnya sekitar 5000 dan 2000)\n",
    "print(f\"Mean (Rata-rata): {mean_deals}\")\n",
    "print(f\"Standard Deviation: {std_deals}\")\n",
    "print(\"-\" * 20)\n",
    "\n",
    "\n",
    "# 3. LAKUKAN ANALISIS PROBABILITAS\n",
    "# Sekarang kita gunakan hasil perhitungan di atas untuk menjawab pertanyaan\n",
    "\n",
    "# Probability of deal < 7500\n",
    "prob_less_7500 = norm.cdf(7500, mean_deals, std_deals)\n",
    "\n",
    "# print(f\"Probabilitas deal di bawah $7500: {prob_less_ seventy-five hundred:.4f}\")\n",
    "print(f\"Probabilitas deal di bawah $7500: {prob_less_7500:.4f}\")"
   ]
  },
  {
   "cell_type": "code",
   "execution_count": null,
   "id": "f8b3e2cb",
   "metadata": {},
   "outputs": [],
   "source": []
  }
 ],
 "metadata": {
  "kernelspec": {
   "display_name": "Python 3",
   "language": "python",
   "name": "python3"
  },
  "language_info": {
   "codemirror_mode": {
    "name": "ipython",
    "version": 3
   },
   "file_extension": ".py",
   "mimetype": "text/x-python",
   "name": "python",
   "nbconvert_exporter": "python",
   "pygments_lexer": "ipython3",
   "version": "3.12.4"
  }
 },
 "nbformat": 4,
 "nbformat_minor": 5
}
