{
 "cells": [
  {
   "cell_type": "code",
   "execution_count": null,
   "id": "d6452f45",
   "metadata": {},
   "outputs": [],
   "source": [
    "# Your first inner join\n",
    "\n",
    "# Merge the taxi_owners and taxi_veh tables\n",
    "taxi_own_veh = taxi_owners.merge(taxi_veh, on=\"vid\")\n",
    "\n",
    "# Print the column names of the taxi_own_veh\n",
    "print(taxi_own_veh.columns)"
   ]
  },
  {
   "cell_type": "code",
   "execution_count": null,
   "id": "cc5301ef",
   "metadata": {},
   "outputs": [],
   "source": [
    "# Merge the taxi_owners and taxi_veh tables setting a suffix\n",
    "taxi_own_veh = taxi_owners.merge(taxi_veh, on='vid', suffixes=(\"_own\", \"_veh\"))\n",
    "\n",
    "# Print the column names of taxi_own_veh\n",
    "print(taxi_own_veh.columns)"
   ]
  },
  {
   "cell_type": "code",
   "execution_count": null,
   "id": "93cdabb9",
   "metadata": {},
   "outputs": [],
   "source": [
    "# Merge the taxi_owners and taxi_veh tables setting a suffix\n",
    "taxi_own_veh = taxi_owners.merge(taxi_veh, on='vid', suffixes=('_own','_veh'))\n",
    "\n",
    "# Print the value_counts to find the most popular fuel_type\n",
    "print(taxi_own_veh['fuel_type'].value_counts())"
   ]
  },
  {
   "cell_type": "markdown",
   "id": "576c9234",
   "metadata": {},
   "source": []
  },
  {
   "cell_type": "code",
   "execution_count": null,
   "id": "3df5f607",
   "metadata": {},
   "outputs": [],
   "source": [
    "# Inner joins and number of rows returned\n",
    "\n",
    "# Merge the wards and census tables on the ward column\n",
    "wards_census = wards.merge(census, on=\"ward\")\n",
    "\n",
    "# Print the shape of wards_census\n",
    "print('wards_census table shape:', wards_census.shape)"
   ]
  },
  {
   "cell_type": "code",
   "execution_count": null,
   "id": "2a1ff997",
   "metadata": {},
   "outputs": [],
   "source": [
    "# Print the first few rows of the wards_altered table to view the change \n",
    "print(wards_altered[['ward']].head())\n",
    "\n",
    "# Merge the wards_altered and census tables on the ward column\n",
    "wards_altered_census = wards_altered.merge(census, on=\"ward\")\n",
    "\n",
    "# Print the shape of wards_altered_census\n",
    "print('wards_altered_census table shape:', wards_altered_census.shape)"
   ]
  },
  {
   "cell_type": "code",
   "execution_count": null,
   "id": "317f97ed",
   "metadata": {},
   "outputs": [],
   "source": [
    "# Print the first few rows of the census_altered table to view the change \n",
    "print(census_altered[['ward']].head())\n",
    "\n",
    "# Merge the wards and census_altered tables on the ward column\n",
    "wards_census_altered = wards.merge(census_altered, on=\"ward\")\n",
    "\n",
    "# Print the shape of wards_census_altered\n",
    "print('wards_census_altered table shape:', wards_census_altered.shape)"
   ]
  },
  {
   "cell_type": "code",
   "execution_count": 1,
   "id": "038bb007",
   "metadata": {},
   "outputs": [
    {
     "data": {
      "application/vnd.microsoft.datawrangler.viewer.v0+json": {
       "columns": [
        {
         "name": "index",
         "rawType": "int64",
         "type": "integer"
        },
        {
         "name": "id_karyawan",
         "rawType": "object",
         "type": "string"
        },
        {
         "name": "nama",
         "rawType": "object",
         "type": "string"
        },
        {
         "name": "id_dept",
         "rawType": "object",
         "type": "string"
        },
        {
         "name": "nama_dept",
         "rawType": "object",
         "type": "string"
        }
       ],
       "ref": "5ced6315-17f3-403b-8463-e88570d23114",
       "rows": [
        [
         "0",
         "K01",
         "Adi",
         "D01",
         "Sales"
        ],
        [
         "1",
         "K02",
         "Budi",
         "D02",
         "Marketing"
        ],
        [
         "2",
         "K03",
         "Cici",
         "D01",
         "Sales"
        ]
       ],
       "shape": {
        "columns": 4,
        "rows": 3
       }
      },
      "text/html": [
       "<div>\n",
       "<style scoped>\n",
       "    .dataframe tbody tr th:only-of-type {\n",
       "        vertical-align: middle;\n",
       "    }\n",
       "\n",
       "    .dataframe tbody tr th {\n",
       "        vertical-align: top;\n",
       "    }\n",
       "\n",
       "    .dataframe thead th {\n",
       "        text-align: right;\n",
       "    }\n",
       "</style>\n",
       "<table border=\"1\" class=\"dataframe\">\n",
       "  <thead>\n",
       "    <tr style=\"text-align: right;\">\n",
       "      <th></th>\n",
       "      <th>id_karyawan</th>\n",
       "      <th>nama</th>\n",
       "      <th>id_dept</th>\n",
       "      <th>nama_dept</th>\n",
       "    </tr>\n",
       "  </thead>\n",
       "  <tbody>\n",
       "    <tr>\n",
       "      <th>0</th>\n",
       "      <td>K01</td>\n",
       "      <td>Adi</td>\n",
       "      <td>D01</td>\n",
       "      <td>Sales</td>\n",
       "    </tr>\n",
       "    <tr>\n",
       "      <th>1</th>\n",
       "      <td>K02</td>\n",
       "      <td>Budi</td>\n",
       "      <td>D02</td>\n",
       "      <td>Marketing</td>\n",
       "    </tr>\n",
       "    <tr>\n",
       "      <th>2</th>\n",
       "      <td>K03</td>\n",
       "      <td>Cici</td>\n",
       "      <td>D01</td>\n",
       "      <td>Sales</td>\n",
       "    </tr>\n",
       "  </tbody>\n",
       "</table>\n",
       "</div>"
      ],
      "text/plain": [
       "  id_karyawan  nama id_dept  nama_dept\n",
       "0         K01   Adi     D01      Sales\n",
       "1         K02  Budi     D02  Marketing\n",
       "2         K03  Cici     D01      Sales"
      ]
     },
     "execution_count": 1,
     "metadata": {},
     "output_type": "execute_result"
    }
   ],
   "source": [
    "import pandas as pd\n",
    "\n",
    "df_karyawan = pd.DataFrame({\n",
    "    'id_karyawan': ['K01', 'K02', 'K03', 'K04'],\n",
    "    'nama': ['Adi', 'Budi', 'Cici', 'Dedi'],\n",
    "    'id_dept': ['D01', 'D02', 'D01', 'D03']\n",
    "})\n",
    "\n",
    "df_departemen = pd.DataFrame({\n",
    "    'id_dept': ['D01', 'D02'],\n",
    "    'nama_dept': ['Sales', 'Marketing']\n",
    "})\n",
    "\n",
    "\n",
    "inner_join = df_karyawan.merge(df_departemen, on='id_dept')\n",
    "inner_join\n",
    "\n",
    "\n",
    "\n"
   ]
  }
 ],
 "metadata": {
  "kernelspec": {
   "display_name": "Python 3",
   "language": "python",
   "name": "python3"
  },
  "language_info": {
   "codemirror_mode": {
    "name": "ipython",
    "version": 3
   },
   "file_extension": ".py",
   "mimetype": "text/x-python",
   "name": "python",
   "nbconvert_exporter": "python",
   "pygments_lexer": "ipython3",
   "version": "3.12.4"
  }
 },
 "nbformat": 4,
 "nbformat_minor": 5
}
