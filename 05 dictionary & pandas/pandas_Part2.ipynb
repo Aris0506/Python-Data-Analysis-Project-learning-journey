{
 "cells": [
  {
   "cell_type": "code",
   "execution_count": null,
   "id": "1a59cde5",
   "metadata": {},
   "outputs": [],
   "source": [
    "# Square bracket 1\n",
    "\n",
    "\n",
    "# Use single square brackets to print out the country column of cars as a Pandas Series.\n",
    "# Use double square brackets to print out the country column of cars as a Pandas DataFrame.\n",
    "# Use double square brackets to print out a DataFrame with both the country and drives_right columns of cars, in this order.\n",
    "\n",
    "\n",
    "# Import cars data\n",
    "import pandas as pd\n",
    "cars = pd.read_csv('cars.csv', index_col = 0)\n",
    "\n",
    "# Print out country column as Pandas Series\n",
    "print(cars['country'])\n",
    "\n",
    "# Print out country column as Pandas DataFrame\n",
    "print(cars[['country']])\n",
    "\n",
    "# Print out DataFrame with country and drives_right columns\n",
    "print(cars[['country', 'drives_right']])"
   ]
  },
  {
   "cell_type": "code",
   "execution_count": null,
   "id": "dcd66342",
   "metadata": {},
   "outputs": [],
   "source": [
    "#  Square Brackets (2)\n",
    "\n",
    "# Select the first 3 observations from cars and print them out.\n",
    "# Select the fourth, fifth and sixth observation, corresponding to row indexes 3, 4 and 5, and print them out.\n",
    "\n",
    "\n",
    "# Import cars data\n",
    "import pandas as pd\n",
    "cars = pd.read_csv('cars.csv', index_col = 0)\n",
    "\n",
    "# Print out first 3 observations\n",
    "print(cars[:3])\n",
    "\n",
    "# Print out fourth, fifth and sixth observation\n",
    "print(cars[3:6])"
   ]
  },
  {
   "cell_type": "code",
   "execution_count": null,
   "id": "6f8ed58b",
   "metadata": {},
   "outputs": [],
   "source": [
    "# loc and iloc (1)\n",
    "# \n",
    "#  Use loc or iloc to select the observation corresponding to Japan as a Series. The label of this row is JPN, the index is 2. \n",
    "# Make sure to print the resulting Series.\n",
    "\n",
    "# Use loc or iloc to select the observations for Australia and Egypt as a DataFrame. \n",
    "# You can find out about the labels/indexes of these rows by inspecting cars. Make sure to print the resulting DataFrame.\n",
    "\n",
    "# Import cars data\n",
    "import pandas as pd\n",
    "cars = pd.read_csv('cars.csv', index_col = 0)\n",
    "print(cars)\n",
    "\n",
    "# Print out observation for Japan\n",
    "print(cars.loc['JPN'])\n",
    "\n",
    "# Print out observations for Australia and Egypt\n",
    "print(cars.iloc[['1', 6]])"
   ]
  },
  {
   "cell_type": "code",
   "execution_count": null,
   "id": "12480cb2",
   "metadata": {},
   "outputs": [],
   "source": [
    "# loc and iloc (2)\n",
    "\n",
    "# Print out the drives_right value of the row corresponding to Morocco (its row label is MOR)\n",
    "# Print out a sub-DataFrame, containing the observations for Russia and Morocco and the columns country and drives_right.\n",
    "\n",
    "# Import cars data\n",
    "import pandas as pd\n",
    "cars = pd.read_csv('cars.csv', index_col = 0)\n",
    "print(cars)\n",
    "# Print out drives_right value of Morocco\n",
    "print(cars.iloc[5,2])\n",
    "\n",
    "# Print sub-DataFrame\n",
    "print(cars.loc[['RU','MOR'], ['country', 'drives_right']])"
   ]
  },
  {
   "cell_type": "code",
   "execution_count": null,
   "id": "3912f5d7",
   "metadata": {},
   "outputs": [],
   "source": [
    "# loc and iloc (3)\n",
    "\n",
    "#Print out the drives_right column as a Series using loc or iloc.\n",
    "#Print out the drives_right column as a DataFrame using loc or iloc.\n",
    "#Print out both the cars_per_cap and drives_right column as a DataFrame using loc or iloc.\n",
    "\n",
    "# Import cars data\n",
    "import pandas as pd\n",
    "cars = pd.read_csv('cars.csv', index_col = 0)\n",
    "\n",
    "print(cars)\n",
    "\n",
    "# Print out drives_right column as Series\n",
    "print(cars.loc[:, 'drives_right'])\n",
    "\n",
    "# Print out drives_right column as DataFrame\n",
    "print(cars.iloc[:, [2]])\n",
    "\n",
    "# Print out cars_per_cap and drives_right as DataFrame\n",
    "print(cars.loc[:, ['cars_per_cap', 'drives_right']])\n"
   ]
  }
 ],
 "metadata": {
  "language_info": {
   "name": "python"
  }
 },
 "nbformat": 4,
 "nbformat_minor": 5
}
