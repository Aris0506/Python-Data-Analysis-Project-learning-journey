{
 "cells": [
  {
   "cell_type": "markdown",
   "id": "3cb90687",
   "metadata": {},
   "source": [
    "**🚀 Proyek: Analisis Statistik Perilaku Pelanggan E-commerce**\n",
    "\n",
    "**Tugas Anda adalah menganalisis dataset pelanggan untuk memahami perilaku mereka dan memberikan wawasan berbasis data kepada tim marketing.**\n",
    "\n",
    "**🎯 Tujuan Proyek**\n",
    "\n",
    "**Mengaplikasikan konsep statistik deskriptif, korelasi, distribusi probabilitas, dan Teorema Limit Pusat (CLT) untuk menganalisis dan menginterpretasikan data pelanggan.**\n",
    "\n",
    "---"
   ]
  },
  {
   "cell_type": "markdown",
   "id": "a50e90bb",
   "metadata": {},
   "source": [
    "**Import library**\n",
    "\n",
    "----"
   ]
  },
  {
   "cell_type": "code",
   "execution_count": 93,
   "id": "11ae1793",
   "metadata": {},
   "outputs": [],
   "source": [
    "import pandas as pd\n",
    "import numpy as np\n",
    "import matplotlib.pyplot as plt\n",
    "import seaborn as sns\n",
    "\n"
   ]
  },
  {
   "cell_type": "markdown",
   "id": "6cb63089",
   "metadata": {},
   "source": [
    "**LOAD DATASET**"
   ]
  },
  {
   "cell_type": "code",
   "execution_count": 94,
   "id": "e9bb2dff",
   "metadata": {},
   "outputs": [
    {
     "data": {
      "application/vnd.microsoft.datawrangler.viewer.v0+json": {
       "columns": [
        {
         "name": "index",
         "rawType": "int64",
         "type": "integer"
        },
        {
         "name": "customer_id",
         "rawType": "int64",
         "type": "integer"
        },
        {
         "name": "age",
         "rawType": "int64",
         "type": "integer"
        },
        {
         "name": "gender",
         "rawType": "object",
         "type": "string"
        },
        {
         "name": "annual_income",
         "rawType": "int64",
         "type": "integer"
        },
        {
         "name": "time_on_site_minutes",
         "rawType": "int64",
         "type": "integer"
        },
        {
         "name": "items_purchased_monthly",
         "rawType": "int64",
         "type": "integer"
        },
        {
         "name": "has_subscribed",
         "rawType": "int64",
         "type": "integer"
        }
       ],
       "ref": "caabe904-98ec-45a8-8164-2b065cbc39d8",
       "rows": [
        [
         "0",
         "1",
         "56",
         "Wanita",
         "157",
         "85",
         "3",
         "1"
        ],
        [
         "1",
         "2",
         "46",
         "Pria",
         "47",
         "151",
         "5",
         "0"
        ],
        [
         "2",
         "3",
         "32",
         "Pria",
         "252",
         "145",
         "2",
         "1"
        ],
        [
         "3",
         "4",
         "60",
         "Wanita",
         "83",
         "30",
         "4",
         "0"
        ],
        [
         "4",
         "5",
         "25",
         "Pria",
         "87",
         "30",
         "2",
         "0"
        ]
       ],
       "shape": {
        "columns": 7,
        "rows": 5
       }
      },
      "text/html": [
       "<div>\n",
       "<style scoped>\n",
       "    .dataframe tbody tr th:only-of-type {\n",
       "        vertical-align: middle;\n",
       "    }\n",
       "\n",
       "    .dataframe tbody tr th {\n",
       "        vertical-align: top;\n",
       "    }\n",
       "\n",
       "    .dataframe thead th {\n",
       "        text-align: right;\n",
       "    }\n",
       "</style>\n",
       "<table border=\"1\" class=\"dataframe\">\n",
       "  <thead>\n",
       "    <tr style=\"text-align: right;\">\n",
       "      <th></th>\n",
       "      <th>customer_id</th>\n",
       "      <th>age</th>\n",
       "      <th>gender</th>\n",
       "      <th>annual_income</th>\n",
       "      <th>time_on_site_minutes</th>\n",
       "      <th>items_purchased_monthly</th>\n",
       "      <th>has_subscribed</th>\n",
       "    </tr>\n",
       "  </thead>\n",
       "  <tbody>\n",
       "    <tr>\n",
       "      <th>0</th>\n",
       "      <td>1</td>\n",
       "      <td>56</td>\n",
       "      <td>Wanita</td>\n",
       "      <td>157</td>\n",
       "      <td>85</td>\n",
       "      <td>3</td>\n",
       "      <td>1</td>\n",
       "    </tr>\n",
       "    <tr>\n",
       "      <th>1</th>\n",
       "      <td>2</td>\n",
       "      <td>46</td>\n",
       "      <td>Pria</td>\n",
       "      <td>47</td>\n",
       "      <td>151</td>\n",
       "      <td>5</td>\n",
       "      <td>0</td>\n",
       "    </tr>\n",
       "    <tr>\n",
       "      <th>2</th>\n",
       "      <td>3</td>\n",
       "      <td>32</td>\n",
       "      <td>Pria</td>\n",
       "      <td>252</td>\n",
       "      <td>145</td>\n",
       "      <td>2</td>\n",
       "      <td>1</td>\n",
       "    </tr>\n",
       "    <tr>\n",
       "      <th>3</th>\n",
       "      <td>4</td>\n",
       "      <td>60</td>\n",
       "      <td>Wanita</td>\n",
       "      <td>83</td>\n",
       "      <td>30</td>\n",
       "      <td>4</td>\n",
       "      <td>0</td>\n",
       "    </tr>\n",
       "    <tr>\n",
       "      <th>4</th>\n",
       "      <td>5</td>\n",
       "      <td>25</td>\n",
       "      <td>Pria</td>\n",
       "      <td>87</td>\n",
       "      <td>30</td>\n",
       "      <td>2</td>\n",
       "      <td>0</td>\n",
       "    </tr>\n",
       "  </tbody>\n",
       "</table>\n",
       "</div>"
      ],
      "text/plain": [
       "   customer_id  age  gender  annual_income  time_on_site_minutes  \\\n",
       "0            1   56  Wanita            157                    85   \n",
       "1            2   46    Pria             47                   151   \n",
       "2            3   32    Pria            252                   145   \n",
       "3            4   60  Wanita             83                    30   \n",
       "4            5   25    Pria             87                    30   \n",
       "\n",
       "   items_purchased_monthly  has_subscribed  \n",
       "0                        3               1  \n",
       "1                        5               0  \n",
       "2                        2               1  \n",
       "3                        4               0  \n",
       "4                        2               0  "
      ]
     },
     "execution_count": 94,
     "metadata": {},
     "output_type": "execute_result"
    }
   ],
   "source": [
    "e_commerce_customer_data = pd.read_csv('synthetic_customers.csv')\n",
    "e_commerce_customer_data.head()"
   ]
  },
  {
   "cell_type": "markdown",
   "id": "372f1185",
   "metadata": {},
   "source": [
    "---\n",
    "\n",
    "## 1: Statistik Deskriptif & Eksplorasi Data (Mengacu pada pdf1.pdf)\n",
    "\n",
    "**Tujuan tahap ini adalah memahami karakteristik dasar dari dataset menggunakan statistik deskriptif.**\n",
    "\n",
    "**Gunakan kolom Age dan annual_income**\n",
    "\n",
    "\n",
    "\n",
    "\n"
   ]
  },
  {
   "cell_type": "markdown",
   "id": "14b6585a",
   "metadata": {},
   "source": [
    "---\n",
    "\n",
    "\n",
    "**A. Ukuran Pemusatan Data:**\n",
    "- Hitung mean, median, dan modus untuk kolom age dan annual_income.\n",
    "- Apakah ada perbedaan signifikan antara mean dan median pada annual_income? Jika ya, apa artinya bagi distribusi data tersebut? (Lihat materi tentang skewness).\n"
   ]
  },
  {
   "cell_type": "code",
   "execution_count": 95,
   "id": "22e5d4f5",
   "metadata": {},
   "outputs": [
    {
     "name": "stdout",
     "output_type": "stream",
     "text": [
      "==================================================\n",
      "Age Mean : 40.87\n",
      "Age Median : 41.0\n",
      "Age Mode : 41\n",
      "==================================================\n",
      "Annual Income Mean : 166.09\n",
      "Annual Income Median : 164.5\n",
      "Annual Income Mode : 87\n"
     ]
    }
   ],
   "source": [
    "# Menghitung Ukuran pemusatan data\n",
    "from scipy import stats as st\n",
    "import statistics \n",
    "# menghitung nilai mean, median, modus untuk age dan annual_income\n",
    "ages = e_commerce_customer_data[\"age\"].values\n",
    "income = e_commerce_customer_data[\"annual_income\"].values\n",
    "\n",
    "# age statistics\n",
    "print(\"=\" * 50)\n",
    "print(\"Age Mean :\", np.mean(ages).round(2))\n",
    "print(\"Age Median :\", np.median(ages).round(2))\n",
    "print(\"Age Mode :\", st.mode(ages, keepdims=True).mode[0])\n",
    "\n",
    "print(\"=\" * 50)\n",
    "# annual_income statistics\n",
    "print(\"Annual Income Mean :\", np.mean(income).round(2))\n",
    "print(\"Annual Income Median :\", np.median(income).round(2))\n",
    "print(\"Annual Income Mode :\", statistics.mode(e_commerce_customer_data['annual_income']))\n",
    "\n"
   ]
  },
  {
   "cell_type": "markdown",
   "id": "423a8462",
   "metadata": {},
   "source": [
    "**Perbedaan keduanya sangat signifikan tentu saja ini hal yang wajar mungkin anak aneh apabila kita di minta membandingkan usia dan pendapatan tahunan tentu\n",
    "saja pendapatan akan selalu lebih besar daripada usia**\n",
    "\n",
    "**berikut adalah gambaran umum dari keduanya:**\n",
    "- Age -> dalam hal ini baik mean median dan mode nilainya hampir sama ini berarti distribuai usia relatif normal atau simetris(tidak skew)\n",
    "- Annual_income -> sementara untuk bagian ini yang mana mean lebih besar dari median dan mode. ini artinya distribusi miring ke kanan(right skewed).\n",
    "bisa terjadi kemungkinan ada sebagian kecil pelanggan memiliki pendapatan lebih tinggi dari mayoritas, berakibat terjadinya outlier di sisi kanan yang\n",
    "menarik mean/rata-rata jadi lebih besar, serta perbadingan angka mayoritas mode lebih kcil daripada rata-rata.\n",
    "\n",
    "**Kesimpulan**\n",
    "- Age -> distribusi seimbang\n",
    "- annula_income = distribusi miring ke kanan (right skew)\n",
    "\n",
    "---"
   ]
  },
  {
   "cell_type": "markdown",
   "id": "14f26893",
   "metadata": {},
   "source": [
    "\n",
    "**B. Ukuran Sebaran Data:**\n",
    "- Hitung variance, standard deviation, dan Interquartile Range (IQR) untuk kolom annual_income.\n",
    "- Manakah ukuran yang lebih baik untuk mendeskripsikan sebaran data pendapatan yang mungkin skewed? Jelaskan mengapa.\n"
   ]
  },
  {
   "cell_type": "code",
   "execution_count": 96,
   "id": "f0ede1b4",
   "metadata": {},
   "outputs": [
    {
     "name": "stdout",
     "output_type": "stream",
     "text": [
      "Annual Income variance 5809.64\n",
      "Annual Income Standar Deviation 76.22\n",
      "IQR Annual Income 116.75\n"
     ]
    }
   ],
   "source": [
    "# mwenghitung varaince dan standar deviation untuk menghitung sebaran data DAN IQR untuk mengukur 50% sebaran data tengah\n",
    "\n",
    "print(\"Annual Income variance\", np.var(e_commerce_customer_data['annual_income'], ddof=1).round(2))\n",
    "print(\"Annual Income Standar Deviation\", np.std(e_commerce_customer_data['annual_income'], ddof=1).round(2))\n",
    "\n",
    "#IQR\n",
    "print(\"IQR Annual Income\", np.quantile(e_commerce_customer_data['annual_income'], 0.75) - np.quantile(e_commerce_customer_data['annual_income'], 0.25))\n",
    "\n",
    "#"
   ]
  },
  {
   "cell_type": "markdown",
   "id": "4d7deb51",
   "metadata": {},
   "source": [
    "---\n",
    "\n",
    "**Kesimpulan**\n",
    "\n",
    "**distribusi Annual Income cenderung skewed (miring), maka IQR lebih tepat digunakan untuk mendeskripsikan sebaran data karena:**\n",
    "- Tidak terpengaruh outlier,\n",
    "- Lebih mewakili kondisi mayoritas data.\n",
    "\n",
    "**Namun, standar deviasi/varian tetap berguna bila analisis yang dilakukan membutuhkan dasar perhitungan matematis (misalnya uji statistik atau model regresi). dari kasus ini kita hanya mendeskripsikan sebaran data yang mungkin skewed maka IQR lebih cocok untuk ini**"
   ]
  },
  {
   "cell_type": "markdown",
   "id": "ee721374",
   "metadata": {},
   "source": [
    "---\n",
    "\n",
    "**C. Visualisasi & Outlier:**\n",
    "- Buat histogram untuk age dan annual_income. Amati bentuk distribusinya (simetris, left-skewed, atau right-skewed).\n",
    "- Buat boxplot untuk annual_income untuk mengidentifikasi adanya outlier. Hitung batas atas dan bawah menggunakan metode Q3+1.5×IQR dan Q1−1.5×IQR.\n",
    "\n"
   ]
  },
  {
   "cell_type": "code",
   "execution_count": 97,
   "id": "16b5f971",
   "metadata": {},
   "outputs": [
    {
     "data": {
      "image/png": "[encoded data removed]",
      "text/plain": [
       "<Figure size 1600x600 with 3 Axes>"
      ]
     },
     "metadata": {},
     "output_type": "display_data"
    },
    {
     "name": "stdout",
     "output_type": "stream",
     "text": [
      "Empty DataFrame\n",
      "Columns: [customer_id, age, gender, annual_income, time_on_site_minutes, items_purchased_monthly, has_subscribed]\n",
      "Index: []\n"
     ]
    }
   ],
   "source": [
    "# histogram age dan annual_income\n",
    "fig, ax = plt.subplots(1, 3, figsize=(16, 6))\n",
    "\n",
    "# Age\n",
    "ax[0].hist(e_commerce_customer_data['age'])\n",
    "ax[0].set_title(\"Distribusi Age\")\n",
    "\n",
    "# Annual_income\n",
    "ax[1].hist(e_commerce_customer_data['annual_income'])\n",
    "ax[1].set_title(\"Distribusi Annual Income\")\n",
    "\n",
    "\n",
    "ax[2].boxplot(e_commerce_customer_data['annual_income'])\n",
    "ax[2].set_title(\"Annual Income box-plot\")\n",
    "\n",
    "plt.tight_layout()\n",
    "plt.show()\n",
    "\n",
    "\n",
    "#finding outlier\n",
    "from scipy.stats import iqr \n",
    "iqr = iqr(e_commerce_customer_data['annual_income'])\n",
    "\n",
    "lower_threshold = np.quantile(e_commerce_customer_data['annual_income'], 0.25) - 1.5 * iqr \n",
    "upper_threshold = np.quantile(e_commerce_customer_data['annual_income'], 0.75) + 1.5 * iqr \n",
    "print(e_commerce_customer_data[(e_commerce_customer_data['annual_income'] < lower_threshold) | (e_commerce_customer_data['annual_income'] > upper_threshold)])"
   ]
  },
  {
   "cell_type": "markdown",
   "id": "ba67371e",
   "metadata": {},
   "source": [
    "- distribusi age cenderung normal di tengah lebih tinggi\n",
    "- distribusi annual_income lebih tinggi sebagian kiri artinya right skewed disebabkan karena mode < median < mean dalam perhitungan sebelumnya\n",
    "- tidak di temukan outliers\n",
    "\n",
    "---"
   ]
  },
  {
   "cell_type": "markdown",
   "id": "13d19656",
   "metadata": {},
   "source": [
    "## 2: Analisis Hubungan & Korelasi (Mengacu pada pdf4.pdf)\n",
    "**mencari tahu lebih dalam hubungan antar variabel**"
   ]
  },
  {
   "cell_type": "markdown",
   "id": "1f700cee",
   "metadata": {},
   "source": [
    "---\n",
    "\n",
    "**A. Visualisasi Hubungan:**\n",
    "- Buat scatterplot untuk melihat hubungan antara time_on_site_minutes dan items_purchased_monthly. Apakah Anda melihat adanya tren?\n",
    "- Buat scatterplot lain untuk annual_income dan items_purchased_monthly."
   ]
  },
  {
   "cell_type": "code",
   "execution_count": 98,
   "id": "052e5426",
   "metadata": {},
   "outputs": [
    {
     "data": {
      "image/png": "[encoded data removed]",
      "text/plain": [
       "<Figure size 1400x500 with 2 Axes>"
      ]
     },
     "metadata": {},
     "output_type": "display_data"
    }
   ],
   "source": [
    "fig, ax = plt.subplots(1, 2, figsize=(14, 5))\n",
    "\n",
    "# korelasi time on site minutes vs items purcashed mothly\n",
    "sns.scatterplot(data=e_commerce_customer_data,\n",
    "                x='time_on_site_minutes', y='items_purchased_monthly', alpha=0.7, ax=ax[0])\n",
    "ax[0].set_title('lama waktu dihabiskan VS Jumlah Items yang di beli per bulan')\n",
    "\n",
    "\n",
    "# korelasi pendapatan vs jumlah items yang dibeli\n",
    "sns.scatterplot(data=e_commerce_customer_data, x='annual_income', y='items_purchased_monthly', alpha=0.7, ax=ax[1])\n",
    "ax[1].set_title('Pendapatan tahunan VS Jumlah Items yang di beli per bulan')\n",
    "\n",
    "plt.tight_layout()  # supaya judul & label nggak saling menempel\n",
    "plt.show()"
   ]
  },
  {
   "cell_type": "markdown",
   "id": "1249ad60",
   "metadata": {},
   "source": [
    "**Keduanya negatif tidak ada tren dan hampir tidak ada sangat lemah**\n",
    "\n",
    "---"
   ]
  },
  {
   "cell_type": "markdown",
   "id": "f958ede6",
   "metadata": {},
   "source": [
    "**B. Mengukur Kekuatan Hubungan:**\n",
    "\n",
    "**Hitung** \n",
    "\n",
    "- koefisien korelasi Pearson (r) antara annual_income dan items_purchased_monthly. \n",
    "- Interpretasikan hasilnya. Seberapa kuat hubungannya dan ke arah mana (positif atau negatif)? "
   ]
  },
  {
   "cell_type": "code",
   "execution_count": 99,
   "id": "69160a7d",
   "metadata": {},
   "outputs": [
    {
     "name": "stdout",
     "output_type": "stream",
     "text": [
      "Total nilai korelasi -0.10494\n",
      "Total nilai korelasi -0.04202\n"
     ]
    }
   ],
   "source": [
    "# 1\n",
    "print(\"Total nilai korelasi\",e_commerce_customer_data['time_on_site_minutes'].corr(e_commerce_customer_data['items_purchased_monthly']).round(5))\n",
    "\n",
    "#2\n",
    "print(\"Total nilai korelasi\", e_commerce_customer_data['annual_income'].corr(e_commerce_customer_data['items_purchased_monthly']).round(5))"
   ]
  },
  {
   "cell_type": "markdown",
   "id": "f00ddae4",
   "metadata": {},
   "source": [
    "**negatif mendekati nol hampir tidak ada**"
   ]
  },
  {
   "cell_type": "markdown",
   "id": "f383e6a2",
   "metadata": {},
   "source": [
    "---\n",
    "**C. Korelasi Bukan Kausalitas:**\n",
    "- Jika Anda menemukan korelasi yang kuat antara pendapatan dan jumlah item yang dibeli, apakah ini berarti pendapatan yang lebih tinggi menyebabkan orang membeli lebih banyak? -Jelaskan jawabanmu dan sebutkan satu kemungkinan variabel perancu (confounding variable). \n",
    "\n",
    "**tentu tidak dalam korelasi tidak selalu berarti sebab akibat bisa jadi ada variabel perancu, bisa jadi usia menjadi variable perancu dimana orang dewasa muda mungkin saja punya pendapatan lebih tinggi dan juga lebih aktif berbelanja**"
   ]
  },
  {
   "cell_type": "markdown",
   "id": "8af770a3",
   "metadata": {},
   "source": [
    "---\n",
    "\n",
    "**D. Transformasi Data:**\n",
    "- Karena annual_income kemungkinan besar right-skewed, lakukan transformasi log pada kolom ini dan buat kembali scatterplot dengan items_purchased_monthly. Apakah hubungannya terlihat lebih linear? "
   ]
  },
  {
   "cell_type": "code",
   "execution_count": 107,
   "id": "73b544c2",
   "metadata": {},
   "outputs": [
    {
     "data": {
      "image/png": "[encoded data removed]",
      "text/plain": [
       "<Figure size 500x500 with 1 Axes>"
      ]
     },
     "metadata": {},
     "output_type": "display_data"
    },
    {
     "name": "stdout",
     "output_type": "stream",
     "text": [
      "nilai Korelasi -0.057707926424962266\n"
     ]
    }
   ],
   "source": [
    "# Log Transformation mengurangi skewness / membuat distribusi lebih normal.\n",
    "a = e_commerce_customer_data['log_annual_income'] = np.log(e_commerce_customer_data['annual_income'])\n",
    "\n",
    "# a.hist()\n",
    "# plt.show()\n",
    "\n",
    "sns.lmplot(x='log_annual_income',            \n",
    "           y='items_purchased_monthly',            \n",
    "           data=e_commerce_customer_data,            \n",
    "           ci=None) \n",
    "\n",
    "plt.show() \n",
    "\n",
    "\n",
    "print(\"nilai Korelasi\", e_commerce_customer_data['log_annual_income'].corr(e_commerce_customer_data['items_purchased_monthly']))"
   ]
  },
  {
   "cell_type": "markdown",
   "id": "17421f51",
   "metadata": {},
   "source": [
    "**tetap negatif dibagian korelasi adapun distibusinya menjadi left-skewed, ini dipengaruhi dari dataset kemungkinan**"
   ]
  },
  {
   "cell_type": "markdown",
   "id": "bb32b342",
   "metadata": {},
   "source": [
    "---\n",
    "\n",
    "## 3: Menerapkan Distribusi Probabilitas (Mengacu pada pdf2.pdf & pdf3.pdf)\n",
    "\n",
    "**menggunakan pengetahuan yang sudah dipelajari tentang distribusi probabilitas untuk memodelkan dan menjawab pertanyaan bisnis.**"
   ]
  },
  {
   "cell_type": "markdown",
   "id": "21deaa1e",
   "metadata": {},
   "source": [
    "---\n",
    "\n",
    "**A. Distribusi Normal:**\n",
    "- Asumsikan time_on_site_minutes terdistribusi normal dengan mean 35 menit dan standar deviasi 5 menit.\n",
    "- Berapa probabilitas seorang pelanggan menghabiskan waktu kurang dari 30 menit di situs? (Gunakan norm.cdf). \n",
    "- Berapa probabilitas seorang pelanggan menghabiskan waktu lebih dari 42 menit? (Gunakan 1 - norm.cdf). "
   ]
  },
  {
   "cell_type": "code",
   "execution_count": null,
   "id": "5e8256bb",
   "metadata": {},
   "outputs": [],
   "source": []
  },
  {
   "cell_type": "markdown",
   "id": "584e40b6",
   "metadata": {},
   "source": [
    "---\n",
    "**B. Distribusi Binomial:**\n",
    "- Tim marketing melaporkan bahwa probabilitas seorang pengunjung baru untuk berlangganan newsletter (has_subscribed) adalah 20% (p=0.2).\n",
    "- Jika ada 50 pengunjung baru hari ini (n=50), berapa probabilitas tepat 10 orang akan berlangganan? (Gunakan binom.pmf). \n",
    "- Berapa probabilitas paling banyak 5 orang akan berlangganan? (Gunakan binom.cdf)."
   ]
  },
  {
   "cell_type": "markdown",
   "id": "456d5427",
   "metadata": {},
   "source": [
    "---\n",
    "\n",
    "**C. Distribusi Poisson:**\n",
    "- Data historis menunjukkan bahwa rata-rata item yang dibeli per pelanggan per bulan (items_purchased_monthly) adalah 8 item (λ=8).\n",
    "- Berapa probabilitas seorang pelanggan membeli tepat 5 item bulan depan? (Gunakan poisson.pmf). \n",
    "- Berapa probabilitas seorang pelanggan membeli lebih dari 12 item? (Gunakan 1 - poisson.cdf)."
   ]
  },
  {
   "cell_type": "markdown",
   "id": "bc777552",
   "metadata": {},
   "source": [
    "---\n",
    "## 4: Demonstrasi Teorema Limit Pusat (CLT) (Mengacu pada pdf3.pdf)\n",
    "\n",
    "**Buktikan salah satu teorema paling penting dalam statistik menggunakan data Anda**"
   ]
  },
  {
   "cell_type": "markdown",
   "id": "41da740a",
   "metadata": {},
   "source": [
    "----\n",
    "\n",
    "**A. Pilih Distribusi Asli:** \n",
    "- Gunakan data annual_income yang distribusinya tidak normal (skewed)."
   ]
  },
  {
   "cell_type": "markdown",
   "id": "d17717d8",
   "metadata": {},
   "source": [
    "---\n",
    "\n",
    "**B. Lakukan Sampling:**\n",
    "\n",
    "- Ambil 1000 sampel acak dari kolom annual_income, di mana setiap sampel berukuran 50 (n=50).\n",
    "- Hitung rata-rata (mean) dari setiap sampel tersebut.\n",
    "- Simpan 1000 nilai rata-rata sampel ini dalam sebuah list."
   ]
  },
  {
   "cell_type": "markdown",
   "id": "bfd583fa",
   "metadata": {},
   "source": [
    "---\n",
    "\n",
    "**C. Visualisasikan Hasil:**\n",
    "\n",
    "- Buat histogram dari 1000 rata-rata sampel yang telah Anda kumpulkan.\n",
    "- Amati bentuk distribusinya. Apakah sekarang terlihat seperti distribusi normal? Fenomena inilah yang dijelaskan oleh Central Limit Theorem. \n",
    "\n"
   ]
  },
  {
   "cell_type": "markdown",
   "id": "a10c7efe",
   "metadata": {},
   "source": [
    "----\n",
    "\n",
    "## 🏆 Bonus: Rancangan Eksperimen\n",
    "\n",
    "**Tim marketing ingin menguji apakah skema diskon baru dapat meningkatkan jumlah item yang dibeli.**"
   ]
  },
  {
   "cell_type": "markdown",
   "id": "85f88944",
   "metadata": {},
   "source": [
    "1. Jelaskan secara singkat bagaimana Anda akan merancang eksperimen terkontrol acak (randomized controlled trial) atau A/B test untuk menguji hipotesis ini."
   ]
  },
  {
   "cell_type": "markdown",
   "id": "2e7f536a",
   "metadata": {},
   "source": [
    "2. Sebutkan apa yang akan menjadi grup perlakuan (treatment group) dan grup kontrol (control group) Anda. "
   ]
  },
  {
   "cell_type": "markdown",
   "id": "164e8e53",
   "metadata": {},
   "source": [
    "3. Mengapa randomisasi penting dalam eksperimen ini? "
   ]
  }
 ],
 "metadata": {
  "kernelspec": {
   "display_name": "Python 3",
   "language": "python",
   "name": "python3"
  },
  "language_info": {
   "codemirror_mode": {
    "name": "ipython",
    "version": 3
   },
   "file_extension": ".py",
   "mimetype": "text/x-python",
   "name": "python",
   "nbconvert_exporter": "python",
   "pygments_lexer": "ipython3",
   "version": "3.12.4"
  }
 },
 "nbformat": 4,
 "nbformat_minor": 5
}
