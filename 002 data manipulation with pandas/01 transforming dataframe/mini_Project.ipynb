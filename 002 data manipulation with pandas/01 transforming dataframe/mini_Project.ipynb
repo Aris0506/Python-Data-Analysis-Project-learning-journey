{
 "cells": [
  {
   "cell_type": "markdown",
   "id": "89a02618",
   "metadata": {},
   "source": [
    "**Proyek Akhir Bab: Analisis Lanjutan Data Penjualan**\n",
    "\n",
    "***Skenario: Anda telah berhasil membuat kolom \"Total Pendapatan\". Sekarang, manajer penjualan ingin Anda melakukan analisis lebih dalam untuk menemukan produk mana yang menjadi \"pahlawan tanpa tanda jasa\" dan mana yang merupakan \"produk mewah\". Selain itu, ia ingin melihat ringkasan performa penjualan.***\n",
    "\n",
    "----"
   ]
  },
  {
   "cell_type": "markdown",
   "id": "616cb9a1",
   "metadata": {},
   "source": [
    "**Tantangan**\n",
    "\n",
    "**1. Temukan \"Pahlawan Tanpa Tanda Jasa\"**\n",
    "- Pelanggan sering membeli barang ini dalam jumlah banyak meskipun harganya murah. Manajer mendefinisikannya sebagai produk dengan Jumlah Terjual di atas 9 unit DAN Harga Satuan di bawah Rp 1.000.000.\n",
    "- Lakukan subsetting (pemilihan data) untuk menemukan produk yang memenuhi kriteria ini.\n",
    "\n",
    "**2. Identifikasi \"Produk Mewah\"**\n",
    "\n",
    "- Ini adalah produk mahal yang tidak perlu terjual banyak untuk memberikan pendapatan besar. Definisinya adalah produk dengan Total Pendapatan lebih dari Rp 40.000.000.\n",
    "- Lakukan subsetting untuk menemukan produk yang memenuhi kriteria ini.\n",
    "\n",
    "**3. Buat Kolom Status Performa**\n",
    "\n",
    "- Manajer ingin label yang jelas. Buat kolom baru bernama 'Status Performa'.\n",
    "\n",
    "- Gunakan perulangan (for loop dengan .iterrows()) dan logika kondisional (if/elif/else) untuk mengisi kolom ini:\n",
    "\n",
    "    - Jika 'Total Pendapatan' > 25.000.000, isi dengan \"Bintang 5\".\n",
    "\n",
    "    - Jika tidak, periksa apakah 'Jumlah Terjual' > 10. Jika ya, isi dengan \"Volume Tinggi\".\n",
    "\n",
    "    - Jika tidak keduanya, isi dengan \"Standar\".\n",
    "\n",
    "**4. (Tantangan Ekstra) Urutkan & Tampilkan Hasil Akhir**\n",
    "\n",
    "- Urutkan keseluruhan DataFrame berdasarkan 'Total Pendapatan' dari yang terbesar ke terkecil.\n",
    "- Tampilkan hanya kolom 'Produk', 'Total Pendapatan', dan 'Status Performa' dari DataFrame yang sudah diurutkan.\n",
    "[Gambar dari DataFrame Pandas yang telah difilter dan diurutkan]\n",
    "\n",
    "______"
   ]
  },
  {
   "cell_type": "code",
   "execution_count": 61,
   "id": "d2e4784c",
   "metadata": {},
   "outputs": [
    {
     "data": {
      "application/vnd.microsoft.datawrangler.viewer.v0+json": {
       "columns": [
        {
         "name": "index",
         "rawType": "int64",
         "type": "integer"
        },
        {
         "name": "Tanggal",
         "rawType": "object",
         "type": "string"
        },
        {
         "name": "Produk",
         "rawType": "object",
         "type": "string"
        },
        {
         "name": "Kategori",
         "rawType": "object",
         "type": "string"
        },
        {
         "name": "Harga Satuan",
         "rawType": "int64",
         "type": "integer"
        },
        {
         "name": "Jumlah Terjual",
         "rawType": "int64",
         "type": "integer"
        },
        {
         "name": "Total Pendapatan",
         "rawType": "int64",
         "type": "integer"
        }
       ],
       "ref": "3eced2cd-05d0-475e-9e08-ee2856c38559",
       "rows": [
        [
         "0",
         "2024-07-01",
         "Laptop",
         "Elektronik",
         "15000000",
         "5",
         "75000000"
        ],
        [
         "1",
         "2024-07-01",
         "Mouse",
         "Aksesoris",
         "150000",
         "10",
         "1500000"
        ],
        [
         "2",
         "2024-07-02",
         "Laptop",
         "Elektronik",
         "15500000",
         "3",
         "46500000"
        ],
        [
         "3",
         "2024-07-03",
         "Monitor",
         "Elektronik",
         "3500000",
         "7",
         "24500000"
        ],
        [
         "4",
         "2024-07-03",
         "Keyboard",
         "Aksesoris",
         "750000",
         "8",
         "6000000"
        ],
        [
         "5",
         "2024-07-04",
         "Mouse",
         "Aksesoris",
         "160000",
         "12",
         "1920000"
        ]
       ],
       "shape": {
        "columns": 6,
        "rows": 6
       }
      },
      "text/html": [
       "<div>\n",
       "<style scoped>\n",
       "    .dataframe tbody tr th:only-of-type {\n",
       "        vertical-align: middle;\n",
       "    }\n",
       "\n",
       "    .dataframe tbody tr th {\n",
       "        vertical-align: top;\n",
       "    }\n",
       "\n",
       "    .dataframe thead th {\n",
       "        text-align: right;\n",
       "    }\n",
       "</style>\n",
       "<table border=\"1\" class=\"dataframe\">\n",
       "  <thead>\n",
       "    <tr style=\"text-align: right;\">\n",
       "      <th></th>\n",
       "      <th>Tanggal</th>\n",
       "      <th>Produk</th>\n",
       "      <th>Kategori</th>\n",
       "      <th>Harga Satuan</th>\n",
       "      <th>Jumlah Terjual</th>\n",
       "      <th>Total Pendapatan</th>\n",
       "    </tr>\n",
       "  </thead>\n",
       "  <tbody>\n",
       "    <tr>\n",
       "      <th>0</th>\n",
       "      <td>2024-07-01</td>\n",
       "      <td>Laptop</td>\n",
       "      <td>Elektronik</td>\n",
       "      <td>15000000</td>\n",
       "      <td>5</td>\n",
       "      <td>75000000</td>\n",
       "    </tr>\n",
       "    <tr>\n",
       "      <th>1</th>\n",
       "      <td>2024-07-01</td>\n",
       "      <td>Mouse</td>\n",
       "      <td>Aksesoris</td>\n",
       "      <td>150000</td>\n",
       "      <td>10</td>\n",
       "      <td>1500000</td>\n",
       "    </tr>\n",
       "    <tr>\n",
       "      <th>2</th>\n",
       "      <td>2024-07-02</td>\n",
       "      <td>Laptop</td>\n",
       "      <td>Elektronik</td>\n",
       "      <td>15500000</td>\n",
       "      <td>3</td>\n",
       "      <td>46500000</td>\n",
       "    </tr>\n",
       "    <tr>\n",
       "      <th>3</th>\n",
       "      <td>2024-07-03</td>\n",
       "      <td>Monitor</td>\n",
       "      <td>Elektronik</td>\n",
       "      <td>3500000</td>\n",
       "      <td>7</td>\n",
       "      <td>24500000</td>\n",
       "    </tr>\n",
       "    <tr>\n",
       "      <th>4</th>\n",
       "      <td>2024-07-03</td>\n",
       "      <td>Keyboard</td>\n",
       "      <td>Aksesoris</td>\n",
       "      <td>750000</td>\n",
       "      <td>8</td>\n",
       "      <td>6000000</td>\n",
       "    </tr>\n",
       "    <tr>\n",
       "      <th>5</th>\n",
       "      <td>2024-07-04</td>\n",
       "      <td>Mouse</td>\n",
       "      <td>Aksesoris</td>\n",
       "      <td>160000</td>\n",
       "      <td>12</td>\n",
       "      <td>1920000</td>\n",
       "    </tr>\n",
       "  </tbody>\n",
       "</table>\n",
       "</div>"
      ],
      "text/plain": [
       "      Tanggal    Produk    Kategori  Harga Satuan  Jumlah Terjual  \\\n",
       "0  2024-07-01    Laptop  Elektronik      15000000               5   \n",
       "1  2024-07-01     Mouse   Aksesoris        150000              10   \n",
       "2  2024-07-02    Laptop  Elektronik      15500000               3   \n",
       "3  2024-07-03   Monitor  Elektronik       3500000               7   \n",
       "4  2024-07-03  Keyboard   Aksesoris        750000               8   \n",
       "5  2024-07-04     Mouse   Aksesoris        160000              12   \n",
       "\n",
       "   Total Pendapatan  \n",
       "0          75000000  \n",
       "1           1500000  \n",
       "2          46500000  \n",
       "3          24500000  \n",
       "4           6000000  \n",
       "5           1920000  "
      ]
     },
     "execution_count": 61,
     "metadata": {},
     "output_type": "execute_result"
    }
   ],
   "source": [
    "import pandas as pd\n",
    "import numpy as np\n",
    "\n",
    "data_penjualan = {\n",
    "    'Tanggal' : ['2024-07-01', '2024-07-01', '2024-07-02', '2024-07-03', '2024-07-03', '2024-07-04'],\n",
    "    'Produk' : ['Laptop', 'Mouse', 'Laptop', 'Monitor', 'Keyboard', 'Mouse'],\n",
    "    'Kategori': ['Elektronik', 'Aksesoris', 'Elektronik', 'Elektronik', 'Aksesoris', 'Aksesoris'],\n",
    "    'Harga Satuan': [15000000, 150000, 15500000, 3500000, 750000, 160000],\n",
    "    'Jumlah Terjual': [5, 10, 3, 7, 8, 12]\n",
    "}\n",
    "df_penjualan = pd.DataFrame(data_penjualan)\n",
    "df_penjualan['Total Pendapatan'] = np.array(df_penjualan['Harga Satuan']) * np.array(df_penjualan['Jumlah Terjual'])\n",
    "df_penjualan "
   ]
  },
  {
   "cell_type": "markdown",
   "id": "dd92f60f",
   "metadata": {},
   "source": [
    "-----"
   ]
  },
  {
   "cell_type": "markdown",
   "id": "7d4cf471",
   "metadata": {},
   "source": [
    "**1. Temukan \"Pahlawan Tanpa Tanda Jasa\"**"
   ]
  },
  {
   "cell_type": "code",
   "execution_count": 62,
   "id": "dd559ba6",
   "metadata": {},
   "outputs": [
    {
     "name": "stdout",
     "output_type": "stream",
     "text": [
      "pahlawannya adalah: Mouse\n"
     ]
    }
   ],
   "source": [
    "\n",
    "                                  # berdasarkan soal ini yang di minta--------------------------------------stop\n",
    "pahlawan_penjualan = df_penjualan[(df_penjualan['Jumlah Terjual'] > 9) & (df_penjualan['Harga Satuan'] < 1000000).sum()]['Produk']\n",
    "print(\"pahlawannya adalah:\", pahlawan_penjualan.values[0])\n",
    "\n",
    "# ada dua penjualan dari produk yang sama jadi di  ambil dari penjualan tertinggi sama saja\n"
   ]
  },
  {
   "cell_type": "markdown",
   "id": "1e5de8ba",
   "metadata": {},
   "source": [
    "---"
   ]
  },
  {
   "cell_type": "markdown",
   "id": "38d1b6f6",
   "metadata": {},
   "source": [
    "**2. Identifikasi \"Produk Mewah\"**"
   ]
  },
  {
   "cell_type": "code",
   "execution_count": 63,
   "id": "c1842ca9",
   "metadata": {},
   "outputs": [
    {
     "name": "stdout",
     "output_type": "stream",
     "text": [
      "Produk mewahnya adalah: Laptop\n"
     ]
    }
   ],
   "source": [
    "                            # ini yang diminta soal---------------------------stop\n",
    "produk_mewah = df_penjualan[df_penjualan['Total Pendapatan'] > 40000000]['Produk']\n",
    "print(\"Produk mewahnya adalah:\", produk_mewah.values[0])\n"
   ]
  },
  {
   "cell_type": "markdown",
   "id": "21f7260b",
   "metadata": {},
   "source": [
    "---"
   ]
  },
  {
   "cell_type": "markdown",
   "id": "9add9703",
   "metadata": {},
   "source": [
    "**3. Buat Kolom Status Performa**\n"
   ]
  },
  {
   "cell_type": "code",
   "execution_count": 64,
   "id": "6bd42c70",
   "metadata": {},
   "outputs": [
    {
     "data": {
      "application/vnd.microsoft.datawrangler.viewer.v0+json": {
       "columns": [
        {
         "name": "index",
         "rawType": "int64",
         "type": "integer"
        },
        {
         "name": "Tanggal",
         "rawType": "object",
         "type": "string"
        },
        {
         "name": "Produk",
         "rawType": "object",
         "type": "string"
        },
        {
         "name": "Kategori",
         "rawType": "object",
         "type": "string"
        },
        {
         "name": "Harga Satuan",
         "rawType": "int64",
         "type": "integer"
        },
        {
         "name": "Jumlah Terjual",
         "rawType": "int64",
         "type": "integer"
        },
        {
         "name": "Total Pendapatan",
         "rawType": "int64",
         "type": "integer"
        },
        {
         "name": "Status Performa",
         "rawType": "object",
         "type": "string"
        }
       ],
       "ref": "8b1e532d-5289-41d4-a91e-d1f5aa056aa6",
       "rows": [
        [
         "0",
         "2024-07-01",
         "Laptop",
         "Elektronik",
         "15000000",
         "5",
         "75000000",
         "Bintang 5"
        ],
        [
         "1",
         "2024-07-01",
         "Mouse",
         "Aksesoris",
         "150000",
         "10",
         "1500000",
         "Standar"
        ],
        [
         "2",
         "2024-07-02",
         "Laptop",
         "Elektronik",
         "15500000",
         "3",
         "46500000",
         "Bintang 5"
        ],
        [
         "3",
         "2024-07-03",
         "Monitor",
         "Elektronik",
         "3500000",
         "7",
         "24500000",
         "Standar"
        ],
        [
         "4",
         "2024-07-03",
         "Keyboard",
         "Aksesoris",
         "750000",
         "8",
         "6000000",
         "Standar"
        ],
        [
         "5",
         "2024-07-04",
         "Mouse",
         "Aksesoris",
         "160000",
         "12",
         "1920000",
         "Volume Tinggi"
        ]
       ],
       "shape": {
        "columns": 7,
        "rows": 6
       }
      },
      "text/html": [
       "<div>\n",
       "<style scoped>\n",
       "    .dataframe tbody tr th:only-of-type {\n",
       "        vertical-align: middle;\n",
       "    }\n",
       "\n",
       "    .dataframe tbody tr th {\n",
       "        vertical-align: top;\n",
       "    }\n",
       "\n",
       "    .dataframe thead th {\n",
       "        text-align: right;\n",
       "    }\n",
       "</style>\n",
       "<table border=\"1\" class=\"dataframe\">\n",
       "  <thead>\n",
       "    <tr style=\"text-align: right;\">\n",
       "      <th></th>\n",
       "      <th>Tanggal</th>\n",
       "      <th>Produk</th>\n",
       "      <th>Kategori</th>\n",
       "      <th>Harga Satuan</th>\n",
       "      <th>Jumlah Terjual</th>\n",
       "      <th>Total Pendapatan</th>\n",
       "      <th>Status Performa</th>\n",
       "    </tr>\n",
       "  </thead>\n",
       "  <tbody>\n",
       "    <tr>\n",
       "      <th>0</th>\n",
       "      <td>2024-07-01</td>\n",
       "      <td>Laptop</td>\n",
       "      <td>Elektronik</td>\n",
       "      <td>15000000</td>\n",
       "      <td>5</td>\n",
       "      <td>75000000</td>\n",
       "      <td>Bintang 5</td>\n",
       "    </tr>\n",
       "    <tr>\n",
       "      <th>1</th>\n",
       "      <td>2024-07-01</td>\n",
       "      <td>Mouse</td>\n",
       "      <td>Aksesoris</td>\n",
       "      <td>150000</td>\n",
       "      <td>10</td>\n",
       "      <td>1500000</td>\n",
       "      <td>Standar</td>\n",
       "    </tr>\n",
       "    <tr>\n",
       "      <th>2</th>\n",
       "      <td>2024-07-02</td>\n",
       "      <td>Laptop</td>\n",
       "      <td>Elektronik</td>\n",
       "      <td>15500000</td>\n",
       "      <td>3</td>\n",
       "      <td>46500000</td>\n",
       "      <td>Bintang 5</td>\n",
       "    </tr>\n",
       "    <tr>\n",
       "      <th>3</th>\n",
       "      <td>2024-07-03</td>\n",
       "      <td>Monitor</td>\n",
       "      <td>Elektronik</td>\n",
       "      <td>3500000</td>\n",
       "      <td>7</td>\n",
       "      <td>24500000</td>\n",
       "      <td>Standar</td>\n",
       "    </tr>\n",
       "    <tr>\n",
       "      <th>4</th>\n",
       "      <td>2024-07-03</td>\n",
       "      <td>Keyboard</td>\n",
       "      <td>Aksesoris</td>\n",
       "      <td>750000</td>\n",
       "      <td>8</td>\n",
       "      <td>6000000</td>\n",
       "      <td>Standar</td>\n",
       "    </tr>\n",
       "    <tr>\n",
       "      <th>5</th>\n",
       "      <td>2024-07-04</td>\n",
       "      <td>Mouse</td>\n",
       "      <td>Aksesoris</td>\n",
       "      <td>160000</td>\n",
       "      <td>12</td>\n",
       "      <td>1920000</td>\n",
       "      <td>Volume Tinggi</td>\n",
       "    </tr>\n",
       "  </tbody>\n",
       "</table>\n",
       "</div>"
      ],
      "text/plain": [
       "      Tanggal    Produk    Kategori  Harga Satuan  Jumlah Terjual  \\\n",
       "0  2024-07-01    Laptop  Elektronik      15000000               5   \n",
       "1  2024-07-01     Mouse   Aksesoris        150000              10   \n",
       "2  2024-07-02    Laptop  Elektronik      15500000               3   \n",
       "3  2024-07-03   Monitor  Elektronik       3500000               7   \n",
       "4  2024-07-03  Keyboard   Aksesoris        750000               8   \n",
       "5  2024-07-04     Mouse   Aksesoris        160000              12   \n",
       "\n",
       "   Total Pendapatan Status Performa  \n",
       "0          75000000       Bintang 5  \n",
       "1           1500000         Standar  \n",
       "2          46500000       Bintang 5  \n",
       "3          24500000         Standar  \n",
       "4           6000000         Standar  \n",
       "5           1920000   Volume Tinggi  "
      ]
     },
     "execution_count": 64,
     "metadata": {},
     "output_type": "execute_result"
    }
   ],
   "source": [
    "Status_Performa = []\n",
    "\n",
    "for index, baris in df_penjualan.iterrows():\n",
    "    if baris['Total Pendapatan'] > 25000000:\n",
    "        Status_Performa.append('Bintang 5')\n",
    "    elif baris['Jumlah Terjual'] > 10:\n",
    "        Status_Performa.append('Volume Tinggi')\n",
    "    else:\n",
    "        Status_Performa.append('Standar')\n",
    "\n",
    "df_penjualan['Status Performa'] = Status_Performa\n",
    "# df_penjualan.sort_values(ascending=False)\n",
    "df_penjualan\n",
    "\n",
    "\n",
    "\n",
    "\n",
    "\n"
   ]
  },
  {
   "cell_type": "markdown",
   "id": "a76b5695",
   "metadata": {},
   "source": [
    "----"
   ]
  },
  {
   "cell_type": "markdown",
   "id": "a200b85e",
   "metadata": {},
   "source": [
    "**4. (Tantangan Ekstra) Urutkan & Tampilkan Hasil Akhir**"
   ]
  },
  {
   "cell_type": "code",
   "execution_count": 65,
   "id": "283f9eb2",
   "metadata": {},
   "outputs": [
    {
     "data": {
      "application/vnd.microsoft.datawrangler.viewer.v0+json": {
       "columns": [
        {
         "name": "index",
         "rawType": "int64",
         "type": "integer"
        },
        {
         "name": "Produk",
         "rawType": "object",
         "type": "string"
        },
        {
         "name": "Total Pendapatan",
         "rawType": "int64",
         "type": "integer"
        },
        {
         "name": "Status Performa",
         "rawType": "object",
         "type": "string"
        }
       ],
       "ref": "acdb3064-0712-46f8-b6e7-a66014aa9f7a",
       "rows": [
        [
         "0",
         "Laptop",
         "75000000",
         "Bintang 5"
        ],
        [
         "1",
         "Laptop",
         "46500000",
         "Bintang 5"
        ],
        [
         "2",
         "Monitor",
         "24500000",
         "Standar"
        ],
        [
         "3",
         "Keyboard",
         "6000000",
         "Standar"
        ],
        [
         "4",
         "Mouse",
         "1920000",
         "Volume Tinggi"
        ],
        [
         "5",
         "Mouse",
         "1500000",
         "Standar"
        ]
       ],
       "shape": {
        "columns": 3,
        "rows": 6
       }
      },
      "text/html": [
       "<div>\n",
       "<style scoped>\n",
       "    .dataframe tbody tr th:only-of-type {\n",
       "        vertical-align: middle;\n",
       "    }\n",
       "\n",
       "    .dataframe tbody tr th {\n",
       "        vertical-align: top;\n",
       "    }\n",
       "\n",
       "    .dataframe thead th {\n",
       "        text-align: right;\n",
       "    }\n",
       "</style>\n",
       "<table border=\"1\" class=\"dataframe\">\n",
       "  <thead>\n",
       "    <tr style=\"text-align: right;\">\n",
       "      <th></th>\n",
       "      <th>Produk</th>\n",
       "      <th>Total Pendapatan</th>\n",
       "      <th>Status Performa</th>\n",
       "    </tr>\n",
       "  </thead>\n",
       "  <tbody>\n",
       "    <tr>\n",
       "      <th>0</th>\n",
       "      <td>Laptop</td>\n",
       "      <td>75000000</td>\n",
       "      <td>Bintang 5</td>\n",
       "    </tr>\n",
       "    <tr>\n",
       "      <th>1</th>\n",
       "      <td>Laptop</td>\n",
       "      <td>46500000</td>\n",
       "      <td>Bintang 5</td>\n",
       "    </tr>\n",
       "    <tr>\n",
       "      <th>2</th>\n",
       "      <td>Monitor</td>\n",
       "      <td>24500000</td>\n",
       "      <td>Standar</td>\n",
       "    </tr>\n",
       "    <tr>\n",
       "      <th>3</th>\n",
       "      <td>Keyboard</td>\n",
       "      <td>6000000</td>\n",
       "      <td>Standar</td>\n",
       "    </tr>\n",
       "    <tr>\n",
       "      <th>4</th>\n",
       "      <td>Mouse</td>\n",
       "      <td>1920000</td>\n",
       "      <td>Volume Tinggi</td>\n",
       "    </tr>\n",
       "    <tr>\n",
       "      <th>5</th>\n",
       "      <td>Mouse</td>\n",
       "      <td>1500000</td>\n",
       "      <td>Standar</td>\n",
       "    </tr>\n",
       "  </tbody>\n",
       "</table>\n",
       "</div>"
      ],
      "text/plain": [
       "     Produk  Total Pendapatan Status Performa\n",
       "0    Laptop          75000000       Bintang 5\n",
       "1    Laptop          46500000       Bintang 5\n",
       "2   Monitor          24500000         Standar\n",
       "3  Keyboard           6000000         Standar\n",
       "4     Mouse           1920000   Volume Tinggi\n",
       "5     Mouse           1500000         Standar"
      ]
     },
     "execution_count": 65,
     "metadata": {},
     "output_type": "execute_result"
    }
   ],
   "source": [
    "hasil_akhir = df_penjualan.sort_values('Total Pendapatan', ascending=False).reset_index(drop=True)\n",
    "hasil_akhir[['Produk', 'Total Pendapatan', 'Status Performa']]\n"
   ]
  },
  {
   "cell_type": "code",
   "execution_count": 66,
   "id": "6d990d77",
   "metadata": {},
   "outputs": [
    {
     "data": {
      "image/png": "[encoded data removed]",
      "text/plain": [
       "<Figure size 1600x600 with 1 Axes>"
      ]
     },
     "metadata": {},
     "output_type": "display_data"
    }
   ],
   "source": [
    "#additional context\n",
    "\n",
    "import matplotlib.pyplot as plt\n",
    "\n",
    "perbandinga_status_Performa = hasil_akhir.groupby('Status Performa')['Jumlah Terjual'].sum()\n",
    "\n",
    "plt.figure(figsize=(16,6))\n",
    "perbandinga_status_Performa.plot(kind='bar', color=['blue', 'orange', 'green'])\n",
    "plt.title('Total Terjual Produk Terjual berdasarkan Status Performa')\n",
    "plt.xticks(rotation=0)\n",
    "plt.xlabel('Status Performa')\n",
    "plt.ylabel('Jumlah Terjual')\n",
    "\n",
    "plt.show()\n"
   ]
  },
  {
   "cell_type": "code",
   "execution_count": null,
   "id": "734aeccc",
   "metadata": {},
   "outputs": [],
   "source": []
  }
 ],
 "metadata": {
  "kernelspec": {
   "display_name": "Python 3",
   "language": "python",
   "name": "python3"
  },
  "language_info": {
   "codemirror_mode": {
    "name": "ipython",
    "version": 3
   },
   "file_extension": ".py",
   "mimetype": "text/x-python",
   "name": "python",
   "nbconvert_exporter": "python",
   "pygments_lexer": "ipython3",
   "version": "3.12.4"
  }
 },
 "nbformat": 4,
 "nbformat_minor": 5
}
