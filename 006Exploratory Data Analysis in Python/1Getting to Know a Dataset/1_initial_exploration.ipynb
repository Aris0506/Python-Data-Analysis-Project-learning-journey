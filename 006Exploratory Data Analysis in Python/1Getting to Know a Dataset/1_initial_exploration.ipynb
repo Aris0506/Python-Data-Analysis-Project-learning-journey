{
 "cells": [
  {
   "cell_type": "code",
   "execution_count": null,
   "id": "8e1ea56f",
   "metadata": {},
   "outputs": [],
   "source": [
    "# Functions for initial exploration\n",
    "\n",
    "# Print the first five rows of unemployment\n",
    "print(unemployment.head())\n",
    "\n",
    "##########################################\n",
    "\n",
    "# Print a summary of non-missing values and data types in the unemployment DataFrame\n",
    "print(unemployment.info())\n",
    "\n",
    "############################################\n",
    "\n",
    "# Print summary statistics for numerical columns in unemployment\n",
    "print(unemployment.describe())\n"
   ]
  },
  {
   "cell_type": "code",
   "execution_count": null,
   "id": "28d79729",
   "metadata": {},
   "outputs": [],
   "source": [
    "# Counting categorical values\n",
    "\n",
    "# Count the values associated with each continent in unemployment\n",
    "print(unemployment.value_counts(\"continent\").reset_index())"
   ]
  },
  {
   "cell_type": "code",
   "execution_count": null,
   "id": "91ed10f0",
   "metadata": {},
   "outputs": [],
   "source": [
    "# Global unemployment in 2021\n",
    "\n",
    "# Import the required visualization libraries\n",
    "import seaborn as sns\n",
    "import matplotlib.pyplot as plt\n",
    "\n",
    "# Create a histogram of 2021 unemployment; show a full percent in each bin\n",
    "sns.histplot(data=unemployment, x=\"2021\", binwidth=1)\n",
    "plt.show()"
   ]
  }
 ],
 "metadata": {
  "language_info": {
   "name": "python"
  }
 },
 "nbformat": 4,
 "nbformat_minor": 5
}
