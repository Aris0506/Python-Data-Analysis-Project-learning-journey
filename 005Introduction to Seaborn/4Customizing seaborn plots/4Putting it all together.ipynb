{
 "cells": [
  {
   "cell_type": "code",
   "execution_count": null,
   "id": "594048d0",
   "metadata": {},
   "outputs": [],
   "source": [
    "# supBox plot with subgroups\n",
    "\n",
    "# Set palette to \"Blues\"\n",
    "sns.set_palette(\"Blues\")\n",
    "\n",
    "# Adjust to add subgroups based on \"Interested in Pets\"\n",
    "g = sns.catplot(x=\"Gender\",\n",
    "                y=\"Age\", data=survey_data, \n",
    "                kind=\"box\", hue=\"Interested in Pets\")\n",
    "\n",
    "# Set title to \"Age of Those Interested in Pets vs. Not\"\n",
    "g.fig.suptitle(\"Age of Those Interested in Pets vs. Not\")\n",
    "\n",
    "# Show plot\n",
    "plt.show()\n",
    "\n",
    "\n",
    "#################################\n",
    "\n",
    "# Bar plot with subgroups and subplots\n",
    "\n",
    "# Set the figure style to \"dark\"\n",
    "sns.set_style(\"dark\")\n",
    "\n",
    "# Adjust to add subplots per gender\n",
    "g = sns.catplot(x=\"Village - town\", y=\"Likes Techno\", \n",
    "                data=survey_data, kind=\"bar\",\n",
    "                col=\"Gender\")\n",
    "\n",
    "# Add title and axis labels\n",
    "g.fig.suptitle(\"Percentage of Young People Who Like Techno\", y=1.02)\n",
    "g.set(xlabel=\"Location of Residence\", \n",
    "       ylabel=\"% Who Like Techno\")\n",
    "\n",
    "# Show plot\n",
    "plt.show()\n",
    "\n",
    "\n"
   ]
  }
 ],
 "metadata": {
  "language_info": {
   "name": "python"
  }
 },
 "nbformat": 4,
 "nbformat_minor": 5
}
