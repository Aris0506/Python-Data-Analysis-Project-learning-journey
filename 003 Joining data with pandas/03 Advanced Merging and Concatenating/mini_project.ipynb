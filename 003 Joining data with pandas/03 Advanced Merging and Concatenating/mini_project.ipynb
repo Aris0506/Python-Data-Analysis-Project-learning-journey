{
 "cells": [
  {
   "cell_type": "markdown",
   "id": "50d9bc4e",
   "metadata": {},
   "source": [
    "**Tantangan Proyek: Analisis Data Penjualan Musik 🎵**\n",
    "\n",
    "\n",
    "**Skenario:**\n",
    "\n",
    "**Anda adalah seorang analis data di sebuah toko musik online. Anda diberi beberapa set data:**\n",
    "\n",
    "1. tracks.csv: Berisi informasi tentang semua lagu yang tersedia (kolom: track_id, name, album_id, genre_id).\n",
    "\n",
    "2. genres.csv: Daftar semua genre musik (kolom: genre_id, genre_name).\n",
    "\n",
    "3. invoices_2022.csv: Data penjualan dari tahun 2022 (kolom: invoice_id, track_id, quantity).\n",
    "\n",
    "4. invoices_2023.csv: Data penjualan dari tahun 2023 (kolom: invoice_id, track_id, quantity).\n",
    "\n",
    "5. unpopular_genres.csv: Daftar genre yang penjualannya sedang menurun (kolom: genre_id, genre_name).\n",
    "\n",
    "---"
   ]
  },
  {
   "cell_type": "markdown",
   "id": "8be9d0ee",
   "metadata": {},
   "source": [
    "**Load Dataset**"
   ]
  },
  {
   "cell_type": "code",
   "execution_count": 19,
   "id": "d5e81a75",
   "metadata": {},
   "outputs": [],
   "source": [
    "import pandas as pd"
   ]
  },
  {
   "cell_type": "code",
   "execution_count": 20,
   "id": "9425d10a",
   "metadata": {},
   "outputs": [
    {
     "data": {
      "application/vnd.microsoft.datawrangler.viewer.v0+json": {
       "columns": [
        {
         "name": "index",
         "rawType": "int64",
         "type": "integer"
        },
        {
         "name": "track_id",
         "rawType": "int64",
         "type": "integer"
        },
        {
         "name": "name",
         "rawType": "object",
         "type": "string"
        },
        {
         "name": "album_id",
         "rawType": "int64",
         "type": "integer"
        },
        {
         "name": "genre_id",
         "rawType": "int64",
         "type": "integer"
        }
       ],
       "ref": "d88b13a6-5758-4436-a17d-16146e2d9f70",
       "rows": [
        [
         "0",
         "101",
         "Bohemian Rhapsody",
         "1",
         "1"
        ],
        [
         "1",
         "102",
         "Stairway to Heaven",
         "2",
         "1"
        ],
        [
         "2",
         "103",
         "Take Five",
         "3",
         "2"
        ],
        [
         "3",
         "104",
         "Enter Sandman",
         "4",
         "3"
        ],
        [
         "4",
         "105",
         "Billie Jean",
         "5",
         "4"
        ],
        [
         "5",
         "106",
         "Für Elise",
         "6",
         "5"
        ],
        [
         "6",
         "107",
         "Another One Bites the Dust",
         "1",
         "1"
        ],
        [
         "7",
         "108",
         "Unforgiven",
         "4",
         "3"
        ],
        [
         "8",
         "109",
         "Moonlight Sonata",
         "6",
         "5"
        ],
        [
         "9",
         "110",
         "Smooth Criminal",
         "5",
         "4"
        ]
       ],
       "shape": {
        "columns": 4,
        "rows": 10
       }
      },
      "text/html": [
       "<div>\n",
       "<style scoped>\n",
       "    .dataframe tbody tr th:only-of-type {\n",
       "        vertical-align: middle;\n",
       "    }\n",
       "\n",
       "    .dataframe tbody tr th {\n",
       "        vertical-align: top;\n",
       "    }\n",
       "\n",
       "    .dataframe thead th {\n",
       "        text-align: right;\n",
       "    }\n",
       "</style>\n",
       "<table border=\"1\" class=\"dataframe\">\n",
       "  <thead>\n",
       "    <tr style=\"text-align: right;\">\n",
       "      <th></th>\n",
       "      <th>track_id</th>\n",
       "      <th>name</th>\n",
       "      <th>album_id</th>\n",
       "      <th>genre_id</th>\n",
       "    </tr>\n",
       "  </thead>\n",
       "  <tbody>\n",
       "    <tr>\n",
       "      <th>0</th>\n",
       "      <td>101</td>\n",
       "      <td>Bohemian Rhapsody</td>\n",
       "      <td>1</td>\n",
       "      <td>1</td>\n",
       "    </tr>\n",
       "    <tr>\n",
       "      <th>1</th>\n",
       "      <td>102</td>\n",
       "      <td>Stairway to Heaven</td>\n",
       "      <td>2</td>\n",
       "      <td>1</td>\n",
       "    </tr>\n",
       "    <tr>\n",
       "      <th>2</th>\n",
       "      <td>103</td>\n",
       "      <td>Take Five</td>\n",
       "      <td>3</td>\n",
       "      <td>2</td>\n",
       "    </tr>\n",
       "    <tr>\n",
       "      <th>3</th>\n",
       "      <td>104</td>\n",
       "      <td>Enter Sandman</td>\n",
       "      <td>4</td>\n",
       "      <td>3</td>\n",
       "    </tr>\n",
       "    <tr>\n",
       "      <th>4</th>\n",
       "      <td>105</td>\n",
       "      <td>Billie Jean</td>\n",
       "      <td>5</td>\n",
       "      <td>4</td>\n",
       "    </tr>\n",
       "    <tr>\n",
       "      <th>5</th>\n",
       "      <td>106</td>\n",
       "      <td>Für Elise</td>\n",
       "      <td>6</td>\n",
       "      <td>5</td>\n",
       "    </tr>\n",
       "    <tr>\n",
       "      <th>6</th>\n",
       "      <td>107</td>\n",
       "      <td>Another One Bites the Dust</td>\n",
       "      <td>1</td>\n",
       "      <td>1</td>\n",
       "    </tr>\n",
       "    <tr>\n",
       "      <th>7</th>\n",
       "      <td>108</td>\n",
       "      <td>Unforgiven</td>\n",
       "      <td>4</td>\n",
       "      <td>3</td>\n",
       "    </tr>\n",
       "    <tr>\n",
       "      <th>8</th>\n",
       "      <td>109</td>\n",
       "      <td>Moonlight Sonata</td>\n",
       "      <td>6</td>\n",
       "      <td>5</td>\n",
       "    </tr>\n",
       "    <tr>\n",
       "      <th>9</th>\n",
       "      <td>110</td>\n",
       "      <td>Smooth Criminal</td>\n",
       "      <td>5</td>\n",
       "      <td>4</td>\n",
       "    </tr>\n",
       "  </tbody>\n",
       "</table>\n",
       "</div>"
      ],
      "text/plain": [
       "   track_id                        name  album_id  genre_id\n",
       "0       101           Bohemian Rhapsody         1         1\n",
       "1       102          Stairway to Heaven         2         1\n",
       "2       103                   Take Five         3         2\n",
       "3       104               Enter Sandman         4         3\n",
       "4       105                 Billie Jean         5         4\n",
       "5       106                   Für Elise         6         5\n",
       "6       107  Another One Bites the Dust         1         1\n",
       "7       108                  Unforgiven         4         3\n",
       "8       109            Moonlight Sonata         6         5\n",
       "9       110             Smooth Criminal         5         4"
      ]
     },
     "execution_count": 20,
     "metadata": {},
     "output_type": "execute_result"
    }
   ],
   "source": [
    "df_tracks = pd.read_csv('tracks.csv')\n",
    "df_tracks"
   ]
  },
  {
   "cell_type": "code",
   "execution_count": 21,
   "id": "fb1c0655",
   "metadata": {},
   "outputs": [
    {
     "data": {
      "application/vnd.microsoft.datawrangler.viewer.v0+json": {
       "columns": [
        {
         "name": "index",
         "rawType": "int64",
         "type": "integer"
        },
        {
         "name": "genre_id",
         "rawType": "int64",
         "type": "integer"
        },
        {
         "name": "genre_name",
         "rawType": "object",
         "type": "string"
        }
       ],
       "ref": "fa652554-7afd-47e3-8113-b21829449d31",
       "rows": [
        [
         "0",
         "1",
         "Rock"
        ],
        [
         "1",
         "2",
         "Jazz"
        ],
        [
         "2",
         "3",
         "Metal"
        ],
        [
         "3",
         "4",
         "Pop"
        ],
        [
         "4",
         "5",
         "Classical"
        ]
       ],
       "shape": {
        "columns": 2,
        "rows": 5
       }
      },
      "text/html": [
       "<div>\n",
       "<style scoped>\n",
       "    .dataframe tbody tr th:only-of-type {\n",
       "        vertical-align: middle;\n",
       "    }\n",
       "\n",
       "    .dataframe tbody tr th {\n",
       "        vertical-align: top;\n",
       "    }\n",
       "\n",
       "    .dataframe thead th {\n",
       "        text-align: right;\n",
       "    }\n",
       "</style>\n",
       "<table border=\"1\" class=\"dataframe\">\n",
       "  <thead>\n",
       "    <tr style=\"text-align: right;\">\n",
       "      <th></th>\n",
       "      <th>genre_id</th>\n",
       "      <th>genre_name</th>\n",
       "    </tr>\n",
       "  </thead>\n",
       "  <tbody>\n",
       "    <tr>\n",
       "      <th>0</th>\n",
       "      <td>1</td>\n",
       "      <td>Rock</td>\n",
       "    </tr>\n",
       "    <tr>\n",
       "      <th>1</th>\n",
       "      <td>2</td>\n",
       "      <td>Jazz</td>\n",
       "    </tr>\n",
       "    <tr>\n",
       "      <th>2</th>\n",
       "      <td>3</td>\n",
       "      <td>Metal</td>\n",
       "    </tr>\n",
       "    <tr>\n",
       "      <th>3</th>\n",
       "      <td>4</td>\n",
       "      <td>Pop</td>\n",
       "    </tr>\n",
       "    <tr>\n",
       "      <th>4</th>\n",
       "      <td>5</td>\n",
       "      <td>Classical</td>\n",
       "    </tr>\n",
       "  </tbody>\n",
       "</table>\n",
       "</div>"
      ],
      "text/plain": [
       "   genre_id genre_name\n",
       "0         1       Rock\n",
       "1         2       Jazz\n",
       "2         3      Metal\n",
       "3         4        Pop\n",
       "4         5  Classical"
      ]
     },
     "execution_count": 21,
     "metadata": {},
     "output_type": "execute_result"
    }
   ],
   "source": [
    "df_genres = pd.read_csv('genres.csv')\n",
    "df_genres"
   ]
  },
  {
   "cell_type": "code",
   "execution_count": 22,
   "id": "ae59e28a",
   "metadata": {},
   "outputs": [
    {
     "data": {
      "application/vnd.microsoft.datawrangler.viewer.v0+json": {
       "columns": [
        {
         "name": "index",
         "rawType": "int64",
         "type": "integer"
        },
        {
         "name": "invoice_id",
         "rawType": "int64",
         "type": "integer"
        },
        {
         "name": "track_id",
         "rawType": "int64",
         "type": "integer"
        },
        {
         "name": "quantity",
         "rawType": "int64",
         "type": "integer"
        }
       ],
       "ref": "3c188049-c48b-4b20-93af-426eb27775cb",
       "rows": [
        [
         "0",
         "1",
         "101",
         "2"
        ],
        [
         "1",
         "2",
         "103",
         "1"
        ],
        [
         "2",
         "3",
         "104",
         "5"
        ],
        [
         "3",
         "4",
         "107",
         "1"
        ],
        [
         "4",
         "5",
         "105",
         "3"
        ]
       ],
       "shape": {
        "columns": 3,
        "rows": 5
       }
      },
      "text/html": [
       "<div>\n",
       "<style scoped>\n",
       "    .dataframe tbody tr th:only-of-type {\n",
       "        vertical-align: middle;\n",
       "    }\n",
       "\n",
       "    .dataframe tbody tr th {\n",
       "        vertical-align: top;\n",
       "    }\n",
       "\n",
       "    .dataframe thead th {\n",
       "        text-align: right;\n",
       "    }\n",
       "</style>\n",
       "<table border=\"1\" class=\"dataframe\">\n",
       "  <thead>\n",
       "    <tr style=\"text-align: right;\">\n",
       "      <th></th>\n",
       "      <th>invoice_id</th>\n",
       "      <th>track_id</th>\n",
       "      <th>quantity</th>\n",
       "    </tr>\n",
       "  </thead>\n",
       "  <tbody>\n",
       "    <tr>\n",
       "      <th>0</th>\n",
       "      <td>1</td>\n",
       "      <td>101</td>\n",
       "      <td>2</td>\n",
       "    </tr>\n",
       "    <tr>\n",
       "      <th>1</th>\n",
       "      <td>2</td>\n",
       "      <td>103</td>\n",
       "      <td>1</td>\n",
       "    </tr>\n",
       "    <tr>\n",
       "      <th>2</th>\n",
       "      <td>3</td>\n",
       "      <td>104</td>\n",
       "      <td>5</td>\n",
       "    </tr>\n",
       "    <tr>\n",
       "      <th>3</th>\n",
       "      <td>4</td>\n",
       "      <td>107</td>\n",
       "      <td>1</td>\n",
       "    </tr>\n",
       "    <tr>\n",
       "      <th>4</th>\n",
       "      <td>5</td>\n",
       "      <td>105</td>\n",
       "      <td>3</td>\n",
       "    </tr>\n",
       "  </tbody>\n",
       "</table>\n",
       "</div>"
      ],
      "text/plain": [
       "   invoice_id  track_id  quantity\n",
       "0           1       101         2\n",
       "1           2       103         1\n",
       "2           3       104         5\n",
       "3           4       107         1\n",
       "4           5       105         3"
      ]
     },
     "execution_count": 22,
     "metadata": {},
     "output_type": "execute_result"
    }
   ],
   "source": [
    "df_invoice_2022 = pd.read_csv('invoices_2022.csv')\n",
    "df_invoice_2022"
   ]
  },
  {
   "cell_type": "code",
   "execution_count": 23,
   "id": "3554f20b",
   "metadata": {},
   "outputs": [
    {
     "data": {
      "application/vnd.microsoft.datawrangler.viewer.v0+json": {
       "columns": [
        {
         "name": "index",
         "rawType": "int64",
         "type": "integer"
        },
        {
         "name": "invoice_id",
         "rawType": "int64",
         "type": "integer"
        },
        {
         "name": "track_id",
         "rawType": "int64",
         "type": "integer"
        },
        {
         "name": "quantity",
         "rawType": "int64",
         "type": "integer"
        }
       ],
       "ref": "7a3258db-3872-4632-8148-ba09412448bc",
       "rows": [
        [
         "0",
         "6",
         "101",
         "1"
        ],
        [
         "1",
         "7",
         "102",
         "2"
        ],
        [
         "2",
         "8",
         "104",
         "1"
        ],
        [
         "3",
         "9",
         "110",
         "4"
        ],
        [
         "4",
         "10",
         "108",
         "2"
        ]
       ],
       "shape": {
        "columns": 3,
        "rows": 5
       }
      },
      "text/html": [
       "<div>\n",
       "<style scoped>\n",
       "    .dataframe tbody tr th:only-of-type {\n",
       "        vertical-align: middle;\n",
       "    }\n",
       "\n",
       "    .dataframe tbody tr th {\n",
       "        vertical-align: top;\n",
       "    }\n",
       "\n",
       "    .dataframe thead th {\n",
       "        text-align: right;\n",
       "    }\n",
       "</style>\n",
       "<table border=\"1\" class=\"dataframe\">\n",
       "  <thead>\n",
       "    <tr style=\"text-align: right;\">\n",
       "      <th></th>\n",
       "      <th>invoice_id</th>\n",
       "      <th>track_id</th>\n",
       "      <th>quantity</th>\n",
       "    </tr>\n",
       "  </thead>\n",
       "  <tbody>\n",
       "    <tr>\n",
       "      <th>0</th>\n",
       "      <td>6</td>\n",
       "      <td>101</td>\n",
       "      <td>1</td>\n",
       "    </tr>\n",
       "    <tr>\n",
       "      <th>1</th>\n",
       "      <td>7</td>\n",
       "      <td>102</td>\n",
       "      <td>2</td>\n",
       "    </tr>\n",
       "    <tr>\n",
       "      <th>2</th>\n",
       "      <td>8</td>\n",
       "      <td>104</td>\n",
       "      <td>1</td>\n",
       "    </tr>\n",
       "    <tr>\n",
       "      <th>3</th>\n",
       "      <td>9</td>\n",
       "      <td>110</td>\n",
       "      <td>4</td>\n",
       "    </tr>\n",
       "    <tr>\n",
       "      <th>4</th>\n",
       "      <td>10</td>\n",
       "      <td>108</td>\n",
       "      <td>2</td>\n",
       "    </tr>\n",
       "  </tbody>\n",
       "</table>\n",
       "</div>"
      ],
      "text/plain": [
       "   invoice_id  track_id  quantity\n",
       "0           6       101         1\n",
       "1           7       102         2\n",
       "2           8       104         1\n",
       "3           9       110         4\n",
       "4          10       108         2"
      ]
     },
     "execution_count": 23,
     "metadata": {},
     "output_type": "execute_result"
    }
   ],
   "source": [
    "df_invoice_2023 = pd.read_csv('invoices_2023.csv')\n",
    "df_invoice_2023"
   ]
  },
  {
   "cell_type": "code",
   "execution_count": 24,
   "id": "c9ca1059",
   "metadata": {},
   "outputs": [
    {
     "data": {
      "application/vnd.microsoft.datawrangler.viewer.v0+json": {
       "columns": [
        {
         "name": "index",
         "rawType": "int64",
         "type": "integer"
        },
        {
         "name": "genre_id",
         "rawType": "int64",
         "type": "integer"
        },
        {
         "name": "genre_name",
         "rawType": "object",
         "type": "string"
        }
       ],
       "ref": "3030ed7a-2eab-4595-8499-2891929647a4",
       "rows": [
        [
         "0",
         "2",
         "Jazz"
        ],
        [
         "1",
         "5",
         "Classical"
        ]
       ],
       "shape": {
        "columns": 2,
        "rows": 2
       }
      },
      "text/html": [
       "<div>\n",
       "<style scoped>\n",
       "    .dataframe tbody tr th:only-of-type {\n",
       "        vertical-align: middle;\n",
       "    }\n",
       "\n",
       "    .dataframe tbody tr th {\n",
       "        vertical-align: top;\n",
       "    }\n",
       "\n",
       "    .dataframe thead th {\n",
       "        text-align: right;\n",
       "    }\n",
       "</style>\n",
       "<table border=\"1\" class=\"dataframe\">\n",
       "  <thead>\n",
       "    <tr style=\"text-align: right;\">\n",
       "      <th></th>\n",
       "      <th>genre_id</th>\n",
       "      <th>genre_name</th>\n",
       "    </tr>\n",
       "  </thead>\n",
       "  <tbody>\n",
       "    <tr>\n",
       "      <th>0</th>\n",
       "      <td>2</td>\n",
       "      <td>Jazz</td>\n",
       "    </tr>\n",
       "    <tr>\n",
       "      <th>1</th>\n",
       "      <td>5</td>\n",
       "      <td>Classical</td>\n",
       "    </tr>\n",
       "  </tbody>\n",
       "</table>\n",
       "</div>"
      ],
      "text/plain": [
       "   genre_id genre_name\n",
       "0         2       Jazz\n",
       "1         5  Classical"
      ]
     },
     "execution_count": 24,
     "metadata": {},
     "output_type": "execute_result"
    }
   ],
   "source": [
    "df_unpopular_genres = pd.read_csv('unpopular_genres.csv')\n",
    "df_unpopular_genres"
   ]
  },
  {
   "cell_type": "markdown",
   "id": "7b7b3305",
   "metadata": {},
   "source": [
    "----"
   ]
  },
  {
   "cell_type": "markdown",
   "id": "215f1b47",
   "metadata": {},
   "source": [
    "**1. Gabungkan Data Penjualan:**\n",
    "\n",
    "- Satukan invoices_2022.csv dan invoices_2023.csv menjadi satu DataFrame tunggal bernama all_invoices.\n",
    "- Pastikan indeksnya berurutan dan tidak ada duplikasi."
   ]
  },
  {
   "cell_type": "code",
   "execution_count": 28,
   "id": "9f8c5a9b",
   "metadata": {},
   "outputs": [
    {
     "data": {
      "application/vnd.microsoft.datawrangler.viewer.v0+json": {
       "columns": [
        {
         "name": "index",
         "rawType": "int64",
         "type": "integer"
        },
        {
         "name": "invoice_id",
         "rawType": "int64",
         "type": "integer"
        },
        {
         "name": "track_id",
         "rawType": "int64",
         "type": "integer"
        },
        {
         "name": "quantity",
         "rawType": "int64",
         "type": "integer"
        }
       ],
       "ref": "845f63b9-fbb0-402b-b91a-666dde607d68",
       "rows": [
        [
         "0",
         "1",
         "101",
         "2"
        ],
        [
         "1",
         "2",
         "103",
         "1"
        ],
        [
         "2",
         "3",
         "104",
         "5"
        ],
        [
         "3",
         "4",
         "107",
         "1"
        ],
        [
         "4",
         "5",
         "105",
         "3"
        ],
        [
         "5",
         "6",
         "101",
         "1"
        ],
        [
         "6",
         "7",
         "102",
         "2"
        ],
        [
         "7",
         "8",
         "104",
         "1"
        ],
        [
         "8",
         "9",
         "110",
         "4"
        ],
        [
         "9",
         "10",
         "108",
         "2"
        ]
       ],
       "shape": {
        "columns": 3,
        "rows": 10
       }
      },
      "text/html": [
       "<div>\n",
       "<style scoped>\n",
       "    .dataframe tbody tr th:only-of-type {\n",
       "        vertical-align: middle;\n",
       "    }\n",
       "\n",
       "    .dataframe tbody tr th {\n",
       "        vertical-align: top;\n",
       "    }\n",
       "\n",
       "    .dataframe thead th {\n",
       "        text-align: right;\n",
       "    }\n",
       "</style>\n",
       "<table border=\"1\" class=\"dataframe\">\n",
       "  <thead>\n",
       "    <tr style=\"text-align: right;\">\n",
       "      <th></th>\n",
       "      <th>invoice_id</th>\n",
       "      <th>track_id</th>\n",
       "      <th>quantity</th>\n",
       "    </tr>\n",
       "  </thead>\n",
       "  <tbody>\n",
       "    <tr>\n",
       "      <th>0</th>\n",
       "      <td>1</td>\n",
       "      <td>101</td>\n",
       "      <td>2</td>\n",
       "    </tr>\n",
       "    <tr>\n",
       "      <th>1</th>\n",
       "      <td>2</td>\n",
       "      <td>103</td>\n",
       "      <td>1</td>\n",
       "    </tr>\n",
       "    <tr>\n",
       "      <th>2</th>\n",
       "      <td>3</td>\n",
       "      <td>104</td>\n",
       "      <td>5</td>\n",
       "    </tr>\n",
       "    <tr>\n",
       "      <th>3</th>\n",
       "      <td>4</td>\n",
       "      <td>107</td>\n",
       "      <td>1</td>\n",
       "    </tr>\n",
       "    <tr>\n",
       "      <th>4</th>\n",
       "      <td>5</td>\n",
       "      <td>105</td>\n",
       "      <td>3</td>\n",
       "    </tr>\n",
       "    <tr>\n",
       "      <th>5</th>\n",
       "      <td>6</td>\n",
       "      <td>101</td>\n",
       "      <td>1</td>\n",
       "    </tr>\n",
       "    <tr>\n",
       "      <th>6</th>\n",
       "      <td>7</td>\n",
       "      <td>102</td>\n",
       "      <td>2</td>\n",
       "    </tr>\n",
       "    <tr>\n",
       "      <th>7</th>\n",
       "      <td>8</td>\n",
       "      <td>104</td>\n",
       "      <td>1</td>\n",
       "    </tr>\n",
       "    <tr>\n",
       "      <th>8</th>\n",
       "      <td>9</td>\n",
       "      <td>110</td>\n",
       "      <td>4</td>\n",
       "    </tr>\n",
       "    <tr>\n",
       "      <th>9</th>\n",
       "      <td>10</td>\n",
       "      <td>108</td>\n",
       "      <td>2</td>\n",
       "    </tr>\n",
       "  </tbody>\n",
       "</table>\n",
       "</div>"
      ],
      "text/plain": [
       "   invoice_id  track_id  quantity\n",
       "0           1       101         2\n",
       "1           2       103         1\n",
       "2           3       104         5\n",
       "3           4       107         1\n",
       "4           5       105         3\n",
       "5           6       101         1\n",
       "6           7       102         2\n",
       "7           8       104         1\n",
       "8           9       110         4\n",
       "9          10       108         2"
      ]
     },
     "execution_count": 28,
     "metadata": {},
     "output_type": "execute_result"
    }
   ],
   "source": [
    "#concat -> menggabungkan datset dengan metode ignore_index=True agar berurutan dan tidak ada duplikasi\n",
    "all_invoice  = pd.concat([df_invoice_2022, df_invoice_2023], ignore_index=True)\n",
    "all_invoice"
   ]
  },
  {
   "cell_type": "markdown",
   "id": "a3a01eb0",
   "metadata": {},
   "source": [
    "---"
   ]
  },
  {
   "cell_type": "markdown",
   "id": "5e467346",
   "metadata": {},
   "source": [
    "**2. Temukan Lagu yang Tidak Pernah Terjual:**\n",
    "\n",
    "- Gunakan all_invoices untuk menemukan lagu-lagu dalam tracks.csv yang tidak pernah terjual sama sekali.\n",
    "- Simpan hasilnya dalam DataFrame unsold_tracks. (Petunjuk: Operasi apa yang mengembalikan baris yang tidak cocok?)"
   ]
  },
  {
   "cell_type": "code",
   "execution_count": 30,
   "id": "619f324e",
   "metadata": {},
   "outputs": [
    {
     "data": {
      "application/vnd.microsoft.datawrangler.viewer.v0+json": {
       "columns": [
        {
         "name": "index",
         "rawType": "int64",
         "type": "integer"
        },
        {
         "name": "track_id",
         "rawType": "int64",
         "type": "integer"
        },
        {
         "name": "name",
         "rawType": "object",
         "type": "string"
        },
        {
         "name": "album_id",
         "rawType": "int64",
         "type": "integer"
        },
        {
         "name": "genre_id",
         "rawType": "int64",
         "type": "integer"
        }
       ],
       "ref": "3f7db512-78bf-4054-a81f-bc89f8aad144",
       "rows": [
        [
         "5",
         "106",
         "Für Elise",
         "6",
         "5"
        ],
        [
         "8",
         "109",
         "Moonlight Sonata",
         "6",
         "5"
        ]
       ],
       "shape": {
        "columns": 4,
        "rows": 2
       }
      },
      "text/html": [
       "<div>\n",
       "<style scoped>\n",
       "    .dataframe tbody tr th:only-of-type {\n",
       "        vertical-align: middle;\n",
       "    }\n",
       "\n",
       "    .dataframe tbody tr th {\n",
       "        vertical-align: top;\n",
       "    }\n",
       "\n",
       "    .dataframe thead th {\n",
       "        text-align: right;\n",
       "    }\n",
       "</style>\n",
       "<table border=\"1\" class=\"dataframe\">\n",
       "  <thead>\n",
       "    <tr style=\"text-align: right;\">\n",
       "      <th></th>\n",
       "      <th>track_id</th>\n",
       "      <th>name</th>\n",
       "      <th>album_id</th>\n",
       "      <th>genre_id</th>\n",
       "    </tr>\n",
       "  </thead>\n",
       "  <tbody>\n",
       "    <tr>\n",
       "      <th>5</th>\n",
       "      <td>106</td>\n",
       "      <td>Für Elise</td>\n",
       "      <td>6</td>\n",
       "      <td>5</td>\n",
       "    </tr>\n",
       "    <tr>\n",
       "      <th>8</th>\n",
       "      <td>109</td>\n",
       "      <td>Moonlight Sonata</td>\n",
       "      <td>6</td>\n",
       "      <td>5</td>\n",
       "    </tr>\n",
       "  </tbody>\n",
       "</table>\n",
       "</div>"
      ],
      "text/plain": [
       "   track_id              name  album_id  genre_id\n",
       "5       106         Für Elise         6         5\n",
       "8       109  Moonlight Sonata         6         5"
      ]
     },
     "execution_count": 30,
     "metadata": {},
     "output_type": "execute_result"
    }
   ],
   "source": [
    "# Anti Join -> menggabungkan dataset dengan mengembalikan baris yang tidak cocok atau tidak ada pasangannya\n",
    "sold_track_ids = all_invoice['track_id'].unique()\n",
    "unsold_tracks = df_tracks[~df_tracks['track_id'].isin(sold_track_ids)]\n",
    "unsold_tracks \n",
    "\n"
   ]
  },
  {
   "cell_type": "markdown",
   "id": "86e80bb2",
   "metadata": {},
   "source": [
    "---"
   ]
  },
  {
   "cell_type": "markdown",
   "id": "60688083",
   "metadata": {},
   "source": [
    "**3. Analisis Genre Populer: (terjual)**\n",
    "\n",
    "- Pertama, filter DataFrame tracks untuk hanya menyertakan lagu yang pernah terjual. Gunakan DataFrame all_invoices sebagai filter.\n",
    "- Simpan hasilnya sebagai sold_tracks. (Petunjuk: Operasi apa yang menyaring baris berdasarkan kecocokan tanpa menambah kolom?)\n",
    "- Gabungkan sold_tracks dengan genres.csv untuk mendapatkan nama genre untuk setiap lagu yang terjual."
   ]
  },
  {
   "cell_type": "code",
   "execution_count": 31,
   "id": "7f89a12c",
   "metadata": {},
   "outputs": [
    {
     "data": {
      "application/vnd.microsoft.datawrangler.viewer.v0+json": {
       "columns": [
        {
         "name": "index",
         "rawType": "int64",
         "type": "integer"
        },
        {
         "name": "track_id",
         "rawType": "int64",
         "type": "integer"
        },
        {
         "name": "name",
         "rawType": "object",
         "type": "string"
        },
        {
         "name": "album_id",
         "rawType": "int64",
         "type": "integer"
        },
        {
         "name": "genre_id",
         "rawType": "int64",
         "type": "integer"
        },
        {
         "name": "genre_name",
         "rawType": "object",
         "type": "string"
        }
       ],
       "ref": "94c11cfd-7733-41d8-9297-800a63013746",
       "rows": [
        [
         "0",
         "101",
         "Bohemian Rhapsody",
         "1",
         "1",
         "Rock"
        ],
        [
         "1",
         "102",
         "Stairway to Heaven",
         "2",
         "1",
         "Rock"
        ],
        [
         "2",
         "103",
         "Take Five",
         "3",
         "2",
         "Jazz"
        ],
        [
         "3",
         "104",
         "Enter Sandman",
         "4",
         "3",
         "Metal"
        ],
        [
         "4",
         "105",
         "Billie Jean",
         "5",
         "4",
         "Pop"
        ],
        [
         "5",
         "107",
         "Another One Bites the Dust",
         "1",
         "1",
         "Rock"
        ],
        [
         "6",
         "108",
         "Unforgiven",
         "4",
         "3",
         "Metal"
        ],
        [
         "7",
         "110",
         "Smooth Criminal",
         "5",
         "4",
         "Pop"
        ]
       ],
       "shape": {
        "columns": 5,
        "rows": 8
       }
      },
      "text/html": [
       "<div>\n",
       "<style scoped>\n",
       "    .dataframe tbody tr th:only-of-type {\n",
       "        vertical-align: middle;\n",
       "    }\n",
       "\n",
       "    .dataframe tbody tr th {\n",
       "        vertical-align: top;\n",
       "    }\n",
       "\n",
       "    .dataframe thead th {\n",
       "        text-align: right;\n",
       "    }\n",
       "</style>\n",
       "<table border=\"1\" class=\"dataframe\">\n",
       "  <thead>\n",
       "    <tr style=\"text-align: right;\">\n",
       "      <th></th>\n",
       "      <th>track_id</th>\n",
       "      <th>name</th>\n",
       "      <th>album_id</th>\n",
       "      <th>genre_id</th>\n",
       "      <th>genre_name</th>\n",
       "    </tr>\n",
       "  </thead>\n",
       "  <tbody>\n",
       "    <tr>\n",
       "      <th>0</th>\n",
       "      <td>101</td>\n",
       "      <td>Bohemian Rhapsody</td>\n",
       "      <td>1</td>\n",
       "      <td>1</td>\n",
       "      <td>Rock</td>\n",
       "    </tr>\n",
       "    <tr>\n",
       "      <th>1</th>\n",
       "      <td>102</td>\n",
       "      <td>Stairway to Heaven</td>\n",
       "      <td>2</td>\n",
       "      <td>1</td>\n",
       "      <td>Rock</td>\n",
       "    </tr>\n",
       "    <tr>\n",
       "      <th>2</th>\n",
       "      <td>103</td>\n",
       "      <td>Take Five</td>\n",
       "      <td>3</td>\n",
       "      <td>2</td>\n",
       "      <td>Jazz</td>\n",
       "    </tr>\n",
       "    <tr>\n",
       "      <th>3</th>\n",
       "      <td>104</td>\n",
       "      <td>Enter Sandman</td>\n",
       "      <td>4</td>\n",
       "      <td>3</td>\n",
       "      <td>Metal</td>\n",
       "    </tr>\n",
       "    <tr>\n",
       "      <th>4</th>\n",
       "      <td>105</td>\n",
       "      <td>Billie Jean</td>\n",
       "      <td>5</td>\n",
       "      <td>4</td>\n",
       "      <td>Pop</td>\n",
       "    </tr>\n",
       "    <tr>\n",
       "      <th>5</th>\n",
       "      <td>107</td>\n",
       "      <td>Another One Bites the Dust</td>\n",
       "      <td>1</td>\n",
       "      <td>1</td>\n",
       "      <td>Rock</td>\n",
       "    </tr>\n",
       "    <tr>\n",
       "      <th>6</th>\n",
       "      <td>108</td>\n",
       "      <td>Unforgiven</td>\n",
       "      <td>4</td>\n",
       "      <td>3</td>\n",
       "      <td>Metal</td>\n",
       "    </tr>\n",
       "    <tr>\n",
       "      <th>7</th>\n",
       "      <td>110</td>\n",
       "      <td>Smooth Criminal</td>\n",
       "      <td>5</td>\n",
       "      <td>4</td>\n",
       "      <td>Pop</td>\n",
       "    </tr>\n",
       "  </tbody>\n",
       "</table>\n",
       "</div>"
      ],
      "text/plain": [
       "   track_id                        name  album_id  genre_id genre_name\n",
       "0       101           Bohemian Rhapsody         1         1       Rock\n",
       "1       102          Stairway to Heaven         2         1       Rock\n",
       "2       103                   Take Five         3         2       Jazz\n",
       "3       104               Enter Sandman         4         3      Metal\n",
       "4       105                 Billie Jean         5         4        Pop\n",
       "5       107  Another One Bites the Dust         1         1       Rock\n",
       "6       108                  Unforgiven         4         3      Metal\n",
       "7       110             Smooth Criminal         5         4        Pop"
      ]
     },
     "execution_count": 31,
     "metadata": {},
     "output_type": "execute_result"
    }
   ],
   "source": [
    "# semi join -> menggabungkan dataset dengan mengembalikan baris yang  cocok tanpa menambahkan kolom apapun(apa adanya)\n",
    "\n",
    "sold_track_ids_2 = all_invoice['track_id'].unique()\n",
    "sold_tracks = df_tracks[df_tracks['track_id'].isin(sold_track_ids_2)]\n",
    "\n",
    "sold_track_with_genres = sold_tracks.merge(df_genres, on='genre_id')\n",
    "\n",
    "sold_track_with_genres"
   ]
  },
  {
   "cell_type": "markdown",
   "id": "88f63caf",
   "metadata": {},
   "source": [
    "---"
   ]
  },
  {
   "cell_type": "markdown",
   "id": "50b4bd87",
   "metadata": {},
   "source": [
    "**4. Verifikasi Integritas Data:**\n",
    "\n",
    "- Saat menggabungkan sold_tracks dengan genres.csv, gunakan parameter validate untuk memastikan hubungan datanya benar (setiap lagu hanya memiliki satu genre). Asumsikan track_id unik di sold_tracks dan genre_id unik di genres.csv. Hubungan apa yang seharusnya Anda validasi?"
   ]
  },
  {
   "cell_type": "code",
   "execution_count": 38,
   "id": "4dffa0a1",
   "metadata": {},
   "outputs": [
    {
     "data": {
      "application/vnd.microsoft.datawrangler.viewer.v0+json": {
       "columns": [
        {
         "name": "index",
         "rawType": "int64",
         "type": "integer"
        },
        {
         "name": "track_id",
         "rawType": "int64",
         "type": "integer"
        },
        {
         "name": "name",
         "rawType": "object",
         "type": "string"
        },
        {
         "name": "album_id",
         "rawType": "int64",
         "type": "integer"
        },
        {
         "name": "genre_id",
         "rawType": "int64",
         "type": "integer"
        },
        {
         "name": "genre_name",
         "rawType": "object",
         "type": "string"
        }
       ],
       "ref": "e94c3fca-0f82-4f6c-9075-2001aa20f98c",
       "rows": [
        [
         "0",
         "101",
         "Bohemian Rhapsody",
         "1",
         "1",
         "Rock"
        ],
        [
         "1",
         "102",
         "Stairway to Heaven",
         "2",
         "1",
         "Rock"
        ],
        [
         "2",
         "103",
         "Take Five",
         "3",
         "2",
         "Jazz"
        ],
        [
         "3",
         "104",
         "Enter Sandman",
         "4",
         "3",
         "Metal"
        ],
        [
         "4",
         "105",
         "Billie Jean",
         "5",
         "4",
         "Pop"
        ],
        [
         "5",
         "107",
         "Another One Bites the Dust",
         "1",
         "1",
         "Rock"
        ],
        [
         "6",
         "108",
         "Unforgiven",
         "4",
         "3",
         "Metal"
        ],
        [
         "7",
         "110",
         "Smooth Criminal",
         "5",
         "4",
         "Pop"
        ]
       ],
       "shape": {
        "columns": 5,
        "rows": 8
       }
      },
      "text/html": [
       "<div>\n",
       "<style scoped>\n",
       "    .dataframe tbody tr th:only-of-type {\n",
       "        vertical-align: middle;\n",
       "    }\n",
       "\n",
       "    .dataframe tbody tr th {\n",
       "        vertical-align: top;\n",
       "    }\n",
       "\n",
       "    .dataframe thead th {\n",
       "        text-align: right;\n",
       "    }\n",
       "</style>\n",
       "<table border=\"1\" class=\"dataframe\">\n",
       "  <thead>\n",
       "    <tr style=\"text-align: right;\">\n",
       "      <th></th>\n",
       "      <th>track_id</th>\n",
       "      <th>name</th>\n",
       "      <th>album_id</th>\n",
       "      <th>genre_id</th>\n",
       "      <th>genre_name</th>\n",
       "    </tr>\n",
       "  </thead>\n",
       "  <tbody>\n",
       "    <tr>\n",
       "      <th>0</th>\n",
       "      <td>101</td>\n",
       "      <td>Bohemian Rhapsody</td>\n",
       "      <td>1</td>\n",
       "      <td>1</td>\n",
       "      <td>Rock</td>\n",
       "    </tr>\n",
       "    <tr>\n",
       "      <th>1</th>\n",
       "      <td>102</td>\n",
       "      <td>Stairway to Heaven</td>\n",
       "      <td>2</td>\n",
       "      <td>1</td>\n",
       "      <td>Rock</td>\n",
       "    </tr>\n",
       "    <tr>\n",
       "      <th>2</th>\n",
       "      <td>103</td>\n",
       "      <td>Take Five</td>\n",
       "      <td>3</td>\n",
       "      <td>2</td>\n",
       "      <td>Jazz</td>\n",
       "    </tr>\n",
       "    <tr>\n",
       "      <th>3</th>\n",
       "      <td>104</td>\n",
       "      <td>Enter Sandman</td>\n",
       "      <td>4</td>\n",
       "      <td>3</td>\n",
       "      <td>Metal</td>\n",
       "    </tr>\n",
       "    <tr>\n",
       "      <th>4</th>\n",
       "      <td>105</td>\n",
       "      <td>Billie Jean</td>\n",
       "      <td>5</td>\n",
       "      <td>4</td>\n",
       "      <td>Pop</td>\n",
       "    </tr>\n",
       "    <tr>\n",
       "      <th>5</th>\n",
       "      <td>107</td>\n",
       "      <td>Another One Bites the Dust</td>\n",
       "      <td>1</td>\n",
       "      <td>1</td>\n",
       "      <td>Rock</td>\n",
       "    </tr>\n",
       "    <tr>\n",
       "      <th>6</th>\n",
       "      <td>108</td>\n",
       "      <td>Unforgiven</td>\n",
       "      <td>4</td>\n",
       "      <td>3</td>\n",
       "      <td>Metal</td>\n",
       "    </tr>\n",
       "    <tr>\n",
       "      <th>7</th>\n",
       "      <td>110</td>\n",
       "      <td>Smooth Criminal</td>\n",
       "      <td>5</td>\n",
       "      <td>4</td>\n",
       "      <td>Pop</td>\n",
       "    </tr>\n",
       "  </tbody>\n",
       "</table>\n",
       "</div>"
      ],
      "text/plain": [
       "   track_id                        name  album_id  genre_id genre_name\n",
       "0       101           Bohemian Rhapsody         1         1       Rock\n",
       "1       102          Stairway to Heaven         2         1       Rock\n",
       "2       103                   Take Five         3         2       Jazz\n",
       "3       104               Enter Sandman         4         3      Metal\n",
       "4       105                 Billie Jean         5         4        Pop\n",
       "5       107  Another One Bites the Dust         1         1       Rock\n",
       "6       108                  Unforgiven         4         3      Metal\n",
       "7       110             Smooth Criminal         5         4        Pop"
      ]
     },
     "execution_count": 38,
     "metadata": {},
     "output_type": "execute_result"
    }
   ],
   "source": [
    "\n",
    "sold_tracks_with_genres = sold_tracks.merge(\n",
    "    df_genres,\n",
    "    on='genre_id',\n",
    "    validate='many_to_one' # Validasi hubungan many-to-one\n",
    ")\n",
    "\n",
    "sold_track_with_genres"
   ]
  },
  {
   "cell_type": "markdown",
   "id": "22463053",
   "metadata": {},
   "source": [
    "---"
   ]
  },
  {
   "cell_type": "markdown",
   "id": "69d1706a",
   "metadata": {},
   "source": [
    "\n",
    "**5. Bonus - Genre yang Perlu Perhatian:**\n",
    "\n",
    "- Gunakan hasil dari langkah 3 dan DataFrame unpopular_genres.csv untuk membuat daftar lagu-lagu terjual yang termasuk dalam kategori genre tidak populer."
   ]
  },
  {
   "cell_type": "code",
   "execution_count": 41,
   "id": "e5469ff9",
   "metadata": {},
   "outputs": [
    {
     "data": {
      "application/vnd.microsoft.datawrangler.viewer.v0+json": {
       "columns": [
        {
         "name": "index",
         "rawType": "int64",
         "type": "integer"
        },
        {
         "name": "track_id",
         "rawType": "int64",
         "type": "integer"
        },
        {
         "name": "name",
         "rawType": "object",
         "type": "string"
        },
        {
         "name": "album_id",
         "rawType": "int64",
         "type": "integer"
        },
        {
         "name": "genre_id_original",
         "rawType": "int64",
         "type": "integer"
        },
        {
         "name": "genre_name",
         "rawType": "object",
         "type": "string"
        },
        {
         "name": "genre_id_unpopular",
         "rawType": "int64",
         "type": "integer"
        }
       ],
       "ref": "805d968a-56f2-49ef-bf95-20129c467a0b",
       "rows": [
        [
         "0",
         "103",
         "Take Five",
         "3",
         "2",
         "Jazz",
         "2"
        ]
       ],
       "shape": {
        "columns": 6,
        "rows": 1
       }
      },
      "text/html": [
       "<div>\n",
       "<style scoped>\n",
       "    .dataframe tbody tr th:only-of-type {\n",
       "        vertical-align: middle;\n",
       "    }\n",
       "\n",
       "    .dataframe tbody tr th {\n",
       "        vertical-align: top;\n",
       "    }\n",
       "\n",
       "    .dataframe thead th {\n",
       "        text-align: right;\n",
       "    }\n",
       "</style>\n",
       "<table border=\"1\" class=\"dataframe\">\n",
       "  <thead>\n",
       "    <tr style=\"text-align: right;\">\n",
       "      <th></th>\n",
       "      <th>track_id</th>\n",
       "      <th>name</th>\n",
       "      <th>album_id</th>\n",
       "      <th>genre_id_original</th>\n",
       "      <th>genre_name</th>\n",
       "      <th>genre_id_unpopular</th>\n",
       "    </tr>\n",
       "  </thead>\n",
       "  <tbody>\n",
       "    <tr>\n",
       "      <th>0</th>\n",
       "      <td>103</td>\n",
       "      <td>Take Five</td>\n",
       "      <td>3</td>\n",
       "      <td>2</td>\n",
       "      <td>Jazz</td>\n",
       "      <td>2</td>\n",
       "    </tr>\n",
       "  </tbody>\n",
       "</table>\n",
       "</div>"
      ],
      "text/plain": [
       "   track_id       name  album_id  genre_id_original genre_name  \\\n",
       "0       103  Take Five         3                  2       Jazz   \n",
       "\n",
       "   genre_id_unpopular  \n",
       "0                   2  "
      ]
     },
     "execution_count": 41,
     "metadata": {},
     "output_type": "execute_result"
    }
   ],
   "source": [
    "# mencari lagu yang terjual tetapi masuk dalam kategori tidak populer dengan intersection/irisan\n",
    "unpopuler_sold_track = sold_track_with_genres.merge(df_unpopular_genres, on='genre_name', suffixes=('_original', '_unpopular'))\n",
    "unpopuler_sold_track"
   ]
  },
  {
   "cell_type": "markdown",
   "id": "41f5d85b",
   "metadata": {},
   "source": [
    "----"
   ]
  }
 ],
 "metadata": {
  "kernelspec": {
   "display_name": "Python 3",
   "language": "python",
   "name": "python3"
  },
  "language_info": {
   "codemirror_mode": {
    "name": "ipython",
    "version": 3
   },
   "file_extension": ".py",
   "mimetype": "text/x-python",
   "name": "python",
   "nbconvert_exporter": "python",
   "pygments_lexer": "ipython3",
   "version": "3.12.4"
  }
 },
 "nbformat": 4,
 "nbformat_minor": 5
}
