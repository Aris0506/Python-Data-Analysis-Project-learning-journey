{
 "cells": [
  {
   "cell_type": "code",
   "execution_count": null,
   "id": "80a89ca5",
   "metadata": {},
   "outputs": [],
   "source": [
    "# Variance and standard deviation\n",
    "\n",
    "# Print variance and sd of co2_emission for each food_category\n",
    "print(food_consumption.groupby('food_category')['co2_emission'].agg([np.var, np.std]))\n",
    "\n",
    "# Create histogram of co2_emission for food_category 'beef'\n",
    "food_consumption[food_consumption['food_category'] == 'beef']['co2_emission'].hist()\n",
    "plt.show()\n",
    "\n",
    "# Create histogram of co2_emission for food_category 'eggs'\n",
    "plt.figure()\n",
    "food_consumption[food_consumption['food_category'] == 'eggs']['co2_emission'].hist()\n",
    "plt.show()"
   ]
  },
  {
   "cell_type": "code",
   "execution_count": null,
   "id": "e53526a6",
   "metadata": {},
   "outputs": [],
   "source": [
    "# Quartiles, quantiles, and quintiles\n",
    "\n",
    "# Calculate the quartiles of co2_emission\n",
    "print(np.quantile(food_consumption[\"co2_emission\"], 0.5))"
   ]
  }
 ],
 "metadata": {
  "language_info": {
   "name": "python"
  }
 },
 "nbformat": 4,
 "nbformat_minor": 5
}
