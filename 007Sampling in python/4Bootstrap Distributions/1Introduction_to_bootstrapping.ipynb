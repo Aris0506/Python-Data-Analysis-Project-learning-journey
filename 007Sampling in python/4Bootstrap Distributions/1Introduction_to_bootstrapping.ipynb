{
 "cells": [
  {
   "cell_type": "code",
   "execution_count": null,
   "id": "25d17369",
   "metadata": {},
   "outputs": [],
   "source": [
    "# Generating a bootstrap distribution\n",
    "\n",
    "# Generate 1 bootstrap resample\n",
    "spotify_1_resample = spotify_sample.sample(frac=1, replace=True)\n",
    "\n",
    "# Print the resample\n",
    "print(spotify_1_resample)\n",
    "\n",
    "\n",
    "#################################\n",
    "\n",
    "# Generate 1 bootstrap resample\n",
    "spotify_1_resample = spotify_sample.sample(frac=1, replace=True)\n",
    "\n",
    "# Calculate of the danceability column of spotify_1_resample\n",
    "mean_danceability_1 = np.mean(spotify_1_resample['danceability'])\n",
    "\n",
    "# Print the result\n",
    "print(mean_danceability_1)\n",
    "\n",
    "\n",
    "################################\n",
    "\n",
    "# Replicate this 1000 times\n",
    "mean_danceability_1000 = []\n",
    "for i in range(1000):\n",
    "\tmean_danceability_1000.append(\n",
    "        np.mean(spotify_sample.sample(frac=1, replace=True)['danceability'])\n",
    "\t)\n",
    "\n",
    "# Draw a histogram of the resample means\n",
    "plt.hist(mean_danceability_1000)\n",
    "plt.show()\n"
   ]
  }
 ],
 "metadata": {
  "language_info": {
   "name": "python"
  }
 },
 "nbformat": 4,
 "nbformat_minor": 5
}
