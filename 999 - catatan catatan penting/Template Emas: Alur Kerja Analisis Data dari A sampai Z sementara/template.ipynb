{
 "cells": [
  {
   "cell_type": "markdown",
   "id": "80638f09",
   "metadata": {},
   "source": [
    "# Template Emas v2.0: Alur Kerja Analisis Data dari A sampai Z\n",
    "\n",
    "*Ini adalah Prosedur Standar Operasional (SOP) untuk setiap proyek analisis data baru.*\n",
    "\n",
    "---\n",
    "\n",
    "### Fase 1: Tiba di TKP (Inspeksi & Perkenalan Data)\n",
    "*Tujuan: Mendapatkan gambaran umum secepat mungkin.*\n",
    "\n",
    "**1. Lihat 5 Baris Pertama:**\n",
    "```python\n",
    "df.head()"
   ]
  },
  {
   "cell_type": "markdown",
   "id": "f8700ae4",
   "metadata": {},
   "source": [
    "**2. Dapatkan Laporan Awal (Tipe Data & Non-Null):**\n",
    "\n",
    "```python\n",
    "df.info()"
   ]
  },
  {
   "cell_type": "markdown",
   "id": "7f217d11",
   "metadata": {},
   "source": [
    "---"
   ]
  },
  {
   "cell_type": "markdown",
   "id": "7ee3c11b",
   "metadata": {},
   "source": [
    "### Fase 2: Forensik Awal (Validasi & Pembersihan Data)\n",
    "*Tujuan: Memastikan semua data valid, akurat, dan lengkap.*"
   ]
  },
  {
   "cell_type": "markdown",
   "id": "33299b1d",
   "metadata": {},
   "source": [
    "**3. Cek Data Hilang:**\n",
    "\n",
    "```python\n",
    "df.isna().sum()\n",
    "\n",
    "**Jika ada, tangani dengan .dropna() atau .fillna()**"
   ]
  },
  {
   "cell_type": "markdown",
   "id": "9df8bab4",
   "metadata": {},
   "source": [
    "**4. Cek Data Duplikat:**\n",
    "\n",
    "```python\n",
    "df.duplicated().sum()\n",
    "\n",
    "**jika ada, tangani dengan .drop_duplicates()**"
   ]
  },
  {
   "cell_type": "markdown",
   "id": "e7211cba",
   "metadata": {},
   "source": [
    "**5.Validasi Tipe Data:**\n",
    "\n",
    "\n",
    "**Contoh: Mengubah object ke datetime**\n",
    "```python\n",
    "pd.to_datetime(df['kolom_tanggal'])\n",
    "\n",
    "**Contoh: Mengubah object ke angka**\n",
    "```python\n",
    "df['kolom_angka'] = df['kolom_angka'].str.replace(\",\", \"\").astype(float)"
   ]
  },
  {
   "cell_type": "markdown",
   "id": "ae33fc10",
   "metadata": {},
   "source": [
    "**6. Cek Nilai Aneh (Outlier) pada Kolom Angka:**\n",
    "\n",
    "```python\n",
    "import seaborn as sns\n",
    "sns.boxplot(x=df['nama_kolom_angka'])"
   ]
  },
  {
   "cell_type": "markdown",
   "id": "e3041a78",
   "metadata": {},
   "source": [
    "---"
   ]
  },
  {
   "cell_type": "markdown",
   "id": "43c5c391",
   "metadata": {},
   "source": [
    "### Fase 3: Membuat \"Alat Bantu\" Baru (Rekayasa Fitur)\n",
    "*Tujuan: Membuat kolom baru yang lebih informatif dari data yang sudah ada.*\n"
   ]
  },
  {
   "cell_type": "markdown",
   "id": "5b549dab",
   "metadata": {},
   "source": [
    "***7. Ekstrak Info dari Tanggal:***\n",
    "\n",
    "```python\n",
    "df['bulan'] = df['kolom_tanggal'].dt.month"
   ]
  },
  {
   "cell_type": "markdown",
   "id": "9dec28fb",
   "metadata": {},
   "source": [
    "\n",
    "***8. Mengelompokkan Angka menjadi Kategori:***\n",
    "\n",
    "```python\n",
    "pd.cut(df['kolom_angka'], bins=[...], labels=[...])"
   ]
  },
  {
   "cell_type": "markdown",
   "id": "e52594a2",
   "metadata": {},
   "source": [
    "**9. Mengelompokkan Teks menjadi Kategori (berdasarkan kata kunci):**\n",
    "\n",
    "```python\n",
    "import numpy as np\n",
    "conditions = [df['kolom_teks'].str.contains(\"Data Scientist\"), ...]\n",
    "choices = [\"Data Science\", ...]\n",
    "df['Job_Category'] = np.select(conditions, choices, default=\"Other\")"
   ]
  },
  {
   "cell_type": "markdown",
   "id": "d1c3313b",
   "metadata": {},
   "source": [
    "---"
   ]
  },
  {
   "cell_type": "markdown",
   "id": "3824b3d9",
   "metadata": {},
   "source": [
    "### Fase 4: Interogasi & Analisis Mendalam\n",
    "*Tujuan: Menemukan wawasan dan cerita dari data yang sudah bersih.*\n",
    "\n"
   ]
  },
  {
   "cell_type": "markdown",
   "id": "aafe6321",
   "metadata": {},
   "source": [
    "***10. Analisis Satu Variabel (Univariat):***\n",
    "\n",
    "*Kategori:*\n",
    "\n",
    "```python\n",
    "df['kolom_kategori'].value_counts()\n",
    "sns.countplot(y='kolom_kategori', data=df)"
   ]
  },
  {
   "cell_type": "markdown",
   "id": "51e0ada2",
   "metadata": {},
   "source": [
    "*Angka:*\n",
    "\n",
    "```python\n",
    "df['kolom_angka'].describe()\n",
    "sns.histplot(x='kolom_angka', data=df, kde=True)"
   ]
  },
  {
   "cell_type": "markdown",
   "id": "e08018af",
   "metadata": {},
   "source": [
    "***11. Analisis Hubungan (Bivariat):***\n",
    "\n",
    "*Angka vs Kategori:*\n",
    "\n",
    "```python\n",
    "sns.barplot(x='kolom_kategori', y='kolom_angka', data=df)"
   ]
  },
  {
   "cell_type": "markdown",
   "id": "f77604c7",
   "metadata": {},
   "source": [
    "*Angka vs Angka:*\n",
    "\n",
    "```python\n",
    "sns.scatterplot(x='kolom_angka_1', y='kolom_angka_2', data=df)\n",
    "sns.heatmap(df.corr(numeric_only=True), annot=True)"
   ]
  },
  {
   "cell_type": "markdown",
   "id": "7691f51c",
   "metadata": {},
   "source": [
    "*Kategori vs Kategori:*\n",
    "\n",
    "```python\n",
    "pd.crosstab(index=df['kategori_1'], columns=df['kategori_2'])"
   ]
  },
  {
   "cell_type": "markdown",
   "id": "4a75dc16",
   "metadata": {},
   "source": [
    "***12. Analisis Kelompok (Agregasi):***\n",
    "\n",
    "*Selalu reset index setelahnya jika ingin di-plotting*\n",
    "```python\n",
    "hasil_grup = df.groupby('kolom_kategori')['kolom_angka'].mean().reset_index()"
   ]
  },
  {
   "cell_type": "markdown",
   "id": "4efeb12c",
   "metadata": {},
   "source": [
    "----"
   ]
  },
  {
   "cell_type": "markdown",
   "id": "d5f7b601",
   "metadata": {},
   "source": [
    "***Bayangkan Anda seorang petualang yang dikirim ke sebuah pulau misterius (dataset baru) untuk mencari harta karun (wawasan/insight). Setiap pulau bentuknya berbeda-beda (setiap dataset punya masalah uniknya sendiri).***\n",
    "\n",
    "***Template Emas itu bukanlah rute pasti menuju harta karun.***\n",
    "\n",
    "***Paling tidak, template itu adalah peta dasar Anda yang berisi:***\n",
    "\n",
    "1. Legenda: Penjelasan simbol-simbol di peta (df.info()).\n",
    "2. Kompas: Arah mata angin yang jelas (Fase 1, Fase 2, dst.).\n",
    "3. Prosedur Standar: \"Saat tiba di lokasi baru, pertama-tama, periksa dulu kondisi tanah (df.isna().sum()), lihat vegetasi di sekitarnya (df.value_counts()), dan cari sumber air (df.describe()).\"\n",
    "\n",
    "\n",
    "***Anda tidak akan mengikuti peta itu secara buta. Jika di tengah jalan Anda menemukan sebuah gua (kolom data yang menarik), tentu Anda akan keluar dari jalur untuk memeriksanya.***\n",
    "\n",
    "\n",
    "***Tapi, saat Anda bingung harus mulai dari mana di pulau antah berantah itu, paling tidak Anda punya prosedur standar dan peta dasar untuk memulai investigasi Anda dengan percaya diri.***"
   ]
  }
 ],
 "metadata": {
  "language_info": {
   "name": "python"
  }
 },
 "nbformat": 4,
 "nbformat_minor": 5
}
