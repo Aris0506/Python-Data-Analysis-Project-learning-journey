{
 "cells": [
  {
   "cell_type": "code",
   "execution_count": null,
   "id": "9db6dd4e",
   "metadata": {},
   "outputs": [],
   "source": [
    "# Are findings from the sample generalizable?\n",
    "\n",
    "# Visualize the distribution of acousticness with a histogram\n",
    "spotify_population[\"acousticness\"].hist(bins=np.arange(0, 1.01, 0.01))\n",
    "plt.show()\n",
    "\n",
    "\n",
    "\n",
    "##########################\n",
    "\n",
    "# Update the histogram to use spotify_mysterious_sample\n",
    "spotify_mysterious_sample['acousticness'].hist(bins=np.arange(0, 1.01, 0.01))\n",
    "plt.show()"
   ]
  },
  {
   "cell_type": "code",
   "execution_count": null,
   "id": "6ad5edcc",
   "metadata": {},
   "outputs": [],
   "source": [
    "# Are these findings generalizable?\n",
    "\n",
    "# Visualize the distribution of duration_minutes as a histogram\n",
    "spotify_population['duration_minutes'].hist(bins=np.arange(0, 15.5, 0.5))\n",
    "plt.show()\n",
    "\n",
    "\n",
    "\n",
    "########################################\n",
    "\n",
    "\n",
    "# Update the histogram to use spotify_mysterious_sample2\n",
    "spotify_mysterious_sample2['duration_minutes'].hist(bins=np.arange(0, 15.5, 0.5))\n",
    "plt.show()\n",
    "\n",
    "\n",
    "################################\n",
    "\n"
   ]
  }
 ],
 "metadata": {
  "language_info": {
   "name": "python"
  }
 },
 "nbformat": 4,
 "nbformat_minor": 5
}
