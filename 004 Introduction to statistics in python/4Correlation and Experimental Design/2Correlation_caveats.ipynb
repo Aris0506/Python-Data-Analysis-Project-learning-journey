{
 "cells": [
  {
   "cell_type": "code",
   "execution_count": null,
   "id": "5b975b10",
   "metadata": {},
   "outputs": [],
   "source": [
    "#    What can't correlation measure?\n",
    "\n",
    "# Scatterplot of gdp_per_cap and life_exp\n",
    "sns.scatterplot(x='gdp_per_cap', y='life_exp', data=world_happiness)\n",
    "\n",
    "# Show plot\n",
    "plt.show()\n",
    "  \n",
    "# Correlation between gdp_per_cap and life_exp\n",
    "cor = world_happiness[\"gdp_per_cap\"].corr(world_happiness[\"life_exp\"])\n",
    "\n",
    "print(cor)"
   ]
  },
  {
   "cell_type": "code",
   "execution_count": null,
   "id": "288af05d",
   "metadata": {},
   "outputs": [],
   "source": [
    "# Transforming variables\n",
    "\n",
    "# Create log_gdp_per_cap column\n",
    "world_happiness['log_gdp_per_cap'] =  np.log(world_happiness[\"gdp_per_cap\"])\n",
    "\n",
    "# Scatterplot of happiness_score vs. log_gdp_per_cap\n",
    "\n",
    "sns.scatterplot(x=\"log_gdp_per_cap\", y=\"happiness_score\", data=world_happiness)\n",
    "plt.show()\n",
    "\n",
    "\n",
    "# Calculate correlation\n",
    "cor = world_happiness[\"log_gdp_per_cap\"].corr(world_happiness[\"happiness_score\"])\n",
    "print(cor)"
   ]
  },
  {
   "cell_type": "code",
   "execution_count": null,
   "id": "872b7e7a",
   "metadata": {},
   "outputs": [],
   "source": [
    "# Does sugar improve happiness?\n",
    "\n",
    "# Scatterplot of grams_sugar_per_day and happiness_score\n",
    "sns.scatterplot(x=\"grams_sugar_per_day\", y=\"happiness_score\", data=world_happiness)\n",
    "plt.show()\n",
    "\n",
    "# Correlation between grams_sugar_per_day and happiness_score\n",
    "cor = world_happiness[\"grams_sugar_per_day\"].corr(world_happiness[\"happiness_score\"])\n",
    "print(cor)"
   ]
  }
 ],
 "metadata": {
  "language_info": {
   "name": "python"
  }
 },
 "nbformat": 4,
 "nbformat_minor": 5
}
