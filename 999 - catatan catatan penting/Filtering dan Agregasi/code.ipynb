{
 "cells": [
  {
   "cell_type": "markdown",
   "id": "357d2eee",
   "metadata": {},
   "source": [
    "### Hari ini saya belajar 2 konsep sekaligus yaitu filtering yang sekaligus membuat kolom barunya dan agregasi yang juga sama-sama membuatkan kolom baru sekaligus lalu didalam agregasi kita juga menggunakan fungsi groupby() untuk mengumpulkan/atau mengelompokan kolom decade lalu menghitung rata-rata nya menggunakan fungsi .mean() berdasarkan catatan tersebut berikut penjelasan ringkasnya: "
   ]
  },
  {
   "cell_type": "markdown",
   "id": "c1ced16b",
   "metadata": {},
   "source": [
    "1. Konsep #1: Filtering Kondisional & Membuat Kolom Baru\n",
    "- Tujuan: Membuat kolom baru yang isinya adalah label True/False berdasarkan suatu kondisi. Ini adalah langkah awal dari proses filtering, di mana kita tidak memilih baris, tapi mengevaluasi setiap baris.\n"
   ]
  },
  {
   "cell_type": "code",
   "execution_count": null,
   "id": "c529d825",
   "metadata": {},
   "outputs": [],
   "source": [
    "#Contoh Kode:\n",
    "### Membuat kolom 'usa_born_winner' yang isinya True/False.\n",
    "### Isinya True jika 'birth_country' adalah 'United States of America', selain itu False.\n",
    "nobel['usa_born_winner'] = nobel['birth_country'] == 'United States of America'\n"
   ]
  },
  {
   "cell_type": "markdown",
   "id": "dda31a6f",
   "metadata": {},
   "source": [
    "2. Konsep #2: Agregasi per Kelompok\n",
    "- Tujuan: Mengelompokkan data berdasarkan suatu kriteria (seperti dekade), lalu menghitung statistik (seperti proporsi/rata-rata) untuk setiap kelompok."
   ]
  },
  {
   "cell_type": "code",
   "execution_count": null,
   "id": "7941a884",
   "metadata": {},
   "outputs": [],
   "source": [
    "import numpy as np\n",
    "\n",
    "### --- Langkah A: Membuat kolom grup 'decade' ---\n",
    "### Mengubah tahun (misal: 1986) menjadi dekade (1980)\n",
    "nobel['decade'] = (np.floor(nobel['year'] / 10) * 10).astype(int)\n",
    "\n",
    "### --- Langkah B: Menghitung rata-rata (proporsi) per grup ---\n",
    "### Mengelompokkan berdasarkan 'decade' dan menghitung proporsi pemenang dari AS\n",
    "prop_usa_winners = nobel.groupby('decade')['usa_born_winner'].mean()\n",
    "\n",
    "### Menampilkan hasilnya\n",
    "print(prop_usa_winners)"
   ]
  }
 ],
 "metadata": {
  "language_info": {
   "name": "python"
  }
 },
 "nbformat": 4,
 "nbformat_minor": 5
}
