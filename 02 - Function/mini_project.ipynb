{
 "cells": [
  {
   "cell_type": "markdown",
   "id": "763c3b7a",
   "metadata": {},
   "source": [
    "## Proyek Mini: Penganalisis Teks Sederhana 📝\n",
    "Tujuan Proyek:\n",
    "Membuat sebuah program yang menerima satu kalimat (sebuah string), lalu menghitung dan menampilkan statistik sederhana tentang kalimat tersebut, seperti jumlah karakter, jumlah kata, dan frekuensi kata tertentu.\n",
    "\n",
    "Konsep yang Dipakai:\n",
    "\n",
    "- Variabel untuk menyimpan data.\n",
    "\n",
    "- Tipe data string.\n",
    "\n",
    "- Metode string seperti .lower(), .split(), dan .count().\n",
    "\n",
    "-  Fungsi bawaan len().\n",
    "\n",
    "- Mencetak hasil ke layar dengan print()."
   ]
  },
  {
   "cell_type": "code",
   "execution_count": 15,
   "id": "801b069a",
   "metadata": {},
   "outputs": [
    {
     "name": "stdout",
     "output_type": "stream",
     "text": [
      "Jumlah kata: 13\n",
      "Jumlah karakter: 83\n",
      "Jumlah kalimat: 2\n",
      "---------------------------\n",
      "Jumlah kata 'python' muncul: 1 kali\n",
      "Jumlah kata 'bahasa' muncul: 2 kali\n",
      "---------------------------\n"
     ]
    }
   ],
   "source": [
    "# Langkah 1: Siapkan Kalimatnya\n",
    "\n",
    "#teks yang akan di analisa\n",
    "kalimat = \"Saya suka belajar bahasa pemrograman Python. Bahasa Python banyak digunakan untuk data science.\"\n",
    "\n",
    "\n",
    "# Langkah 2: Standarisasi Teks (Case-Insensitive)\n",
    "\n",
    "# Agar penghitungan kata tidak membedakan huruf besar dan kecil (misalnya, \"Python\" dan \"python\" dianggap sama), \n",
    "# ubah seluruh kalimat menjadi huruf kecil menggunakan metode .lower().\n",
    "\n",
    "# Standarisasi teks menjadi huruf kecil\n",
    "kalimat_lower = kalimat.lower()\n",
    "\n",
    "\n",
    "# Langkah 3: Pecah Teks Menjadi Kata-kata\n",
    "\n",
    "# Gunakan metode .split() untuk memecah string menjadi sebuah list yang berisi kata-kata supaya dapat dihitung.\n",
    "daftar_kata = kalimat_lower.split()\n",
    "\n",
    "\n",
    "# Langkah 4: Hitung Statistiknya\n",
    "\n",
    "def hitung_statistik_kata(daftar_kata):\n",
    "    \"\"\"\n",
    "    Fungsi untuk menghitung jumlah kata, jumlah karakter, dan jumlah kalimat dalam sebuah daftar kata.\n",
    "    \n",
    "    Args:\n",
    "    daftar_kata (list): Daftar kata yang akan dihitung statistiknya.\n",
    "    \n",
    "    Returns:\n",
    "    tuple: Jumlah kata, jumlah karakter, dan jumlah kalimat.\n",
    "    \"\"\"\n",
    "    jumlah_kata = len(daftar_kata)\n",
    "    jumlah_karakter = sum(len(kata) for kata in daftar_kata)\n",
    "    jumlah_kalimat = kalimat.count('.') + kalimat.count('!') + kalimat.count('?')\n",
    "    frekuensi_python = daftar_kata.count(\"python\")\n",
    "    frekuensi_bahasa = daftar_kata.count(\"bahasa\")\n",
    "    \n",
    "    return jumlah_kata, jumlah_karakter, jumlah_kalimat, frekuensi_python, frekuensi_bahasa\n",
    "\n",
    "\n",
    "# Langkah 5: Tampilkan Hasilnya\n",
    "jumlah_kata, jumlah_karakter, jumlah_kalimat, frekuensi_python, frekuensi_bahasa = hitung_statistik_kata(daftar_kata)\n",
    "print(f\"Jumlah kata: {jumlah_kata}\")    \n",
    "print(f\"Jumlah karakter: {jumlah_karakter}\")\n",
    "print(f\"Jumlah kalimat: {jumlah_kalimat}\")\n",
    "print(\"---------------------------\")\n",
    "print(f\"Jumlah kata 'python' muncul: {frekuensi_python} kali\")\n",
    "print(f\"Jumlah kata 'bahasa' muncul: {frekuensi_bahasa} kali\")\n",
    "print(\"---------------------------\")  "
   ]
  },
  {
   "cell_type": "code",
   "execution_count": null,
   "id": "49d8b972",
   "metadata": {},
   "outputs": [],
   "source": []
  },
  {
   "cell_type": "code",
   "execution_count": 10,
   "id": "7ef45967",
   "metadata": {},
   "outputs": [
    {
     "name": "stdout",
     "output_type": "stream",
     "text": [
      "--- Hasil Analisis Teks ---\n",
      "Teks Asli: 'Python adalah bahasa pemrograman yang populer dan mudah dipelajari. Bahasa Python banyak digunakan untuk data science.'\n",
      "---------------------------\n",
      "Total Karakter: 118\n",
      "Total Kata: 16\n",
      "Jumlah kata 'python' muncul: 2 kali\n",
      "Jumlah kata 'bahasa' muncul: 2 kali\n",
      "---------------------------\n"
     ]
    }
   ],
   "source": [
    "# --- Proyek Mini: Penganalisis Teks Sederhana ---\n",
    "\n",
    "# 1. Teks yang akan dianalisis\n",
    "kalimat = \"Python adalah bahasa pemrograman yang populer dan mudah dipelajari. Bahasa Python banyak digunakan untuk data science.\"\n",
    "\n",
    "# 2. Standarisasi teks menjadi huruf kecil\n",
    "kalimat_lower = kalimat.lower()\n",
    "\n",
    "# 3. Pecah string menjadi list kata\n",
    "daftar_kata = kalimat_lower.split()\n",
    "\n",
    "# 4. Lakukan semua perhitungan\n",
    "jumlah_karakter = len(kalimat)\n",
    "jumlah_kata = len(daftar_kata)\n",
    "frekuensi_python = daftar_kata.count(\"python\")\n",
    "frekuensi_bahasa = daftar_kata.count(\"bahasa\")\n",
    "\n",
    "# 5. Tampilkan semua hasil dengan rapi\n",
    "print(\"--- Hasil Analisis Teks ---\")\n",
    "print(f\"Teks Asli: '{kalimat}'\")\n",
    "print(\"---------------------------\")\n",
    "print(f\"Total Karakter: {jumlah_karakter}\")\n",
    "print(f\"Total Kata: {jumlah_kata}\")\n",
    "print(f\"Jumlah kata 'python' muncul: {frekuensi_python} kali\")\n",
    "print(f\"Jumlah kata 'bahasa' muncul: {frekuensi_bahasa} kali\")\n",
    "print(\"---------------------------\")"
   ]
  },
  {
   "cell_type": "code",
   "execution_count": 13,
   "id": "f0e9b9cb",
   "metadata": {},
   "outputs": [
    {
     "name": "stdout",
     "output_type": "stream",
     "text": [
      "saya suka belajar bahasa pemrograman python. bahasa python banyak digunakan untuk data science.\n"
     ]
    }
   ],
   "source": [
    "print(kalimat_lower)"
   ]
  },
  {
   "cell_type": "code",
   "execution_count": null,
   "id": "b12798b9",
   "metadata": {},
   "outputs": [],
   "source": []
  }
 ],
 "metadata": {
  "kernelspec": {
   "display_name": "Python 3",
   "language": "python",
   "name": "python3"
  },
  "language_info": {
   "codemirror_mode": {
    "name": "ipython",
    "version": 3
   },
   "file_extension": ".py",
   "mimetype": "text/x-python",
   "name": "python",
   "nbconvert_exporter": "python",
   "pygments_lexer": "ipython3",
   "version": "3.12.4"
  }
 },
 "nbformat": 4,
 "nbformat_minor": 5
}
