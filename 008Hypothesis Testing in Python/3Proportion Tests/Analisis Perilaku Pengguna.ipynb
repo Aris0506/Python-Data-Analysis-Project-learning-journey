{
 "cells": [
  {
   "cell_type": "markdown",
   "id": "f5205b97",
   "metadata": {},
   "source": [
    "**Proyek Mini: Analisis Perilaku Pengguna**\n",
    "\n",
    "**Konteks: Bayangkan Anda adalah seorang Data Analyst di sebuah perusahaan aplikasi mobile. Anda diberi dataset (Anda bisa membuat data tiruan sendiri) yang berisi informasi pengguna: user_id, age_category ('Di Bawah 25', 'Di Atas 25'), dan action_taken ('Membeli Produk', 'Tidak Membeli').**\n",
    "\n",
    "----"
   ]
  },
  {
   "cell_type": "code",
   "execution_count": 2,
   "id": "b236ab61",
   "metadata": {},
   "outputs": [
    {
     "data": {
      "application/vnd.microsoft.datawrangler.viewer.v0+json": {
       "columns": [
        {
         "name": "index",
         "rawType": "int64",
         "type": "integer"
        },
        {
         "name": "user_id",
         "rawType": "int64",
         "type": "integer"
        },
        {
         "name": "age_category",
         "rawType": "object",
         "type": "string"
        },
        {
         "name": "action_taken",
         "rawType": "object",
         "type": "string"
        }
       ],
       "ref": "43dc9e65-e69e-4ead-aecc-f14e31b03e58",
       "rows": [
        [
         "0",
         "1",
         "Di Atas 25",
         "Membeli Produk"
        ],
        [
         "1",
         "2",
         "Di Bawah 25",
         "Tidak Membeli"
        ],
        [
         "2",
         "3",
         "Di Atas 25",
         "Tidak Membeli"
        ],
        [
         "3",
         "4",
         "Di Atas 25",
         "Tidak Membeli"
        ],
        [
         "4",
         "5",
         "Di Bawah 25",
         "Membeli Produk"
        ]
       ],
       "shape": {
        "columns": 3,
        "rows": 5
       }
      },
      "text/html": [
       "<div>\n",
       "<style scoped>\n",
       "    .dataframe tbody tr th:only-of-type {\n",
       "        vertical-align: middle;\n",
       "    }\n",
       "\n",
       "    .dataframe tbody tr th {\n",
       "        vertical-align: top;\n",
       "    }\n",
       "\n",
       "    .dataframe thead th {\n",
       "        text-align: right;\n",
       "    }\n",
       "</style>\n",
       "<table border=\"1\" class=\"dataframe\">\n",
       "  <thead>\n",
       "    <tr style=\"text-align: right;\">\n",
       "      <th></th>\n",
       "      <th>user_id</th>\n",
       "      <th>age_category</th>\n",
       "      <th>action_taken</th>\n",
       "    </tr>\n",
       "  </thead>\n",
       "  <tbody>\n",
       "    <tr>\n",
       "      <th>0</th>\n",
       "      <td>1</td>\n",
       "      <td>Di Atas 25</td>\n",
       "      <td>Membeli Produk</td>\n",
       "    </tr>\n",
       "    <tr>\n",
       "      <th>1</th>\n",
       "      <td>2</td>\n",
       "      <td>Di Bawah 25</td>\n",
       "      <td>Tidak Membeli</td>\n",
       "    </tr>\n",
       "    <tr>\n",
       "      <th>2</th>\n",
       "      <td>3</td>\n",
       "      <td>Di Atas 25</td>\n",
       "      <td>Tidak Membeli</td>\n",
       "    </tr>\n",
       "    <tr>\n",
       "      <th>3</th>\n",
       "      <td>4</td>\n",
       "      <td>Di Atas 25</td>\n",
       "      <td>Tidak Membeli</td>\n",
       "    </tr>\n",
       "    <tr>\n",
       "      <th>4</th>\n",
       "      <td>5</td>\n",
       "      <td>Di Bawah 25</td>\n",
       "      <td>Membeli Produk</td>\n",
       "    </tr>\n",
       "  </tbody>\n",
       "</table>\n",
       "</div>"
      ],
      "text/plain": [
       "   user_id age_category    action_taken\n",
       "0        1   Di Atas 25  Membeli Produk\n",
       "1        2  Di Bawah 25   Tidak Membeli\n",
       "2        3   Di Atas 25   Tidak Membeli\n",
       "3        4   Di Atas 25   Tidak Membeli\n",
       "4        5  Di Bawah 25  Membeli Produk"
      ]
     },
     "execution_count": 2,
     "metadata": {},
     "output_type": "execute_result"
    }
   ],
   "source": [
    "import pandas as pd\n",
    "\n",
    "user_df = pd.read_csv('analisis_pengguna.csv')\n",
    "user_df.head()"
   ]
  },
  {
   "cell_type": "markdown",
   "id": "6a96e139",
   "metadata": {},
   "source": [
    "**TASK**\n",
    "\n",
    "1. Uji Proporsi 1 Sampel:\n",
    "- Hipotesis: Tim produk mengklaim bahwa 40% dari semua pengguna aplikasi berusia 'Di Bawah 25'. Ujilah klaim ini.\n",
    "- Langkah: Hitung proporsi sampel ($\\hat{p}$), tentukan proporsi hipotesis ($p_0=0.4$), dan hitung z-score serta p-value seperti pada materi."
   ]
  },
  {
   "cell_type": "code",
   "execution_count": 6,
   "id": "1addd49e",
   "metadata": {},
   "outputs": [
    {
     "name": "stdout",
     "output_type": "stream",
     "text": [
      "proporsi pengguna 0.5\n",
      "ukuran sample 30\n",
      "z-score: 1.1180339887498947\n"
     ]
    }
   ],
   "source": [
    "# One-Sample Proportion merupakan Test yang bertujuan untuk menguji klaim mengenai proporsi populasi\n",
    "import numpy as np \n",
    "\n",
    "# proporsi sampel p_hat\n",
    "p_hat = (user_df['age_category'] == 'Di Bawah 25').mean()\n",
    "print('proporsi pengguna', p_hat)\n",
    "\n",
    "# proporsi hipotesis (p_0)\n",
    "p_0 = 0.4\n",
    "\n",
    "# Hitung ukuran sampel (n)\n",
    "n = len(user_df)\n",
    "print('ukuran sample', n)\n",
    "\n",
    "# hitung nila z-score\n",
    "\n",
    "numerator = p_hat - p_0 \n",
    "denominator = np.sqrt(p_0 * (1 - p_0) / n) \n",
    "z_score = numerator / denominator \n",
    "print('z-score:', z_score)"
   ]
  },
  {
   "cell_type": "markdown",
   "id": "d01d5603",
   "metadata": {},
   "source": [
    "---\n",
    "2. Uji Proporsi 2 Sampel:\n",
    "- Hipotesis: Selidiki apakah ada perbedaan signifikan dalam proporsi pembelian produk antara pengguna 'Di Bawah 25' dan 'Di Atas 25'.\n",
    "-  Langkah: Buat hipotesis nol ($H_0: p_{<25} - p_{\\ge25} = 0$). Gunakan fungsi proportions_ztest dari statsmodels untuk menghitung z-score dan p-value."
   ]
  },
  {
   "cell_type": "markdown",
   "id": "f010c187",
   "metadata": {},
   "source": [
    "---\n",
    "3. Uji Chi-Square Independensi (Opsional, jika ada data tambahan):\n",
    "\n",
    "- Hipotesis: Jika Anda memiliki data tambahan seperti satisfaction_level ('Puas', 'Netral', 'Tidak Puas'), ujilah apakah ada hubungan antara age_category dan satisfaction_level.\n",
    "- Langkah: Gunakan fungsi pingouin.chi2_independence untuk melakukan pengujian."
   ]
  },
  {
   "cell_type": "markdown",
   "id": "a0c5b524",
   "metadata": {},
   "source": []
  }
 ],
 "metadata": {
  "kernelspec": {
   "display_name": "Python 3",
   "language": "python",
   "name": "python3"
  },
  "language_info": {
   "codemirror_mode": {
    "name": "ipython",
    "version": 3
   },
   "file_extension": ".py",
   "mimetype": "text/x-python",
   "name": "python",
   "nbconvert_exporter": "python",
   "pygments_lexer": "ipython3",
   "version": "3.14.0"
  }
 },
 "nbformat": 4,
 "nbformat_minor": 5
}
