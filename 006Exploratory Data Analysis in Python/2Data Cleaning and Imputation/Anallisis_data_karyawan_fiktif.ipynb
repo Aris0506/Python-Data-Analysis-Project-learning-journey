{
 "cells": [
  {
   "cell_type": "markdown",
   "id": "bd838af1",
   "metadata": {},
   "source": [
    "**Proyek: Analisis Data Karyawan Fiktif 🧑‍💻 (penerapan data Cleaning and imputation)**\n",
    "\n",
    "\n",
    "**Skenario:**\n",
    "\n",
    "**diberikan dataset fiktif employee_data.csv. Dataset ini kacau: ada data yang hilang, tipe data yang salah, dan beberapa outlier. Tugas Anda adalah membersihkan dan menganalisis dataset ini untuk memberikan wawasan kepada departemen SDM.**"
   ]
  },
  {
   "cell_type": "markdown",
   "id": "54f9999d",
   "metadata": {},
   "source": [
    "---\n",
    "\n",
    "**Tugas:**\n",
    "\n",
    "**1.Muat dan Inspeksi Data:**\n",
    "- Muat data ke dalam DataFrame pandas.\n",
    "- Gunakan .info() dan .isna().sum() untuk mengidentifikasi masalah awal (nilai hilang, tipe data yang salah)."
   ]
  },
  {
   "cell_type": "code",
   "execution_count": 6,
   "id": "92006fff",
   "metadata": {},
   "outputs": [
    {
     "name": "stdout",
     "output_type": "stream",
     "text": [
      "   Employee_ID   Department  Years_At_Company  Satisfaction_Score  \\\n",
      "0          101        Sales               5.0                 4.5   \n",
      "1          102  Engineering               3.0                 3.8   \n",
      "2          103    Marketing               7.0                 NaN   \n",
      "3          104        Sales              15.0                 2.1   \n",
      "4          105  Engineering               NaN                 4.2   \n",
      "\n",
      "  Last_Salary_USD  \n",
      "0          85,000  \n",
      "1          92,000  \n",
      "2             NaN  \n",
      "3         150,000  \n",
      "4          98,000  \n",
      "<class 'pandas.core.frame.DataFrame'>\n",
      "RangeIndex: 10 entries, 0 to 9\n",
      "Data columns (total 5 columns):\n",
      " #   Column              Non-Null Count  Dtype  \n",
      "---  ------              --------------  -----  \n",
      " 0   Employee_ID         10 non-null     int64  \n",
      " 1   Department          10 non-null     object \n",
      " 2   Years_At_Company    9 non-null      float64\n",
      " 3   Satisfaction_Score  8 non-null      float64\n",
      " 4   Last_Salary_USD     8 non-null      object \n",
      "dtypes: float64(2), int64(1), object(2)\n",
      "memory usage: 532.0+ bytes\n",
      "None\n",
      "Employee_ID           0\n",
      "Department            0\n",
      "Years_At_Company      1\n",
      "Satisfaction_Score    2\n",
      "Last_Salary_USD       2\n",
      "dtype: int64\n"
     ]
    }
   ],
   "source": [
    "import pandas as pd\n",
    "\n",
    "df_employ = pd.read_csv('employee_data.csv')\n",
    "print(df_employ.head())\n",
    "\n",
    "print(df_employ.info())\n",
    "print(df_employ.isna().sum())"
   ]
  },
  {
   "cell_type": "markdown",
   "id": "68bbc6a5",
   "metadata": {},
   "source": [
    "---\n",
    "\n",
    "**2.Pembersihan Data:**\n",
    "\n",
    "- Tangani Data Hilang:\n",
    "\n",
    "    - Untuk Years_At_Company, imputasi nilai yang hilang dengan median dari kolom tersebut.\n",
    "    - Untuk Satisfaction_Score, imputasi nilai yang hilang dengan rata-rata (mean) dari kolom tersebut.\n",
    "    - Untuk Last_Salary_USD, karena ini adalah data penting, hapus baris di mana gaji hilang.\n",
    "\n",
    "- Perbaiki Tipe Data:\n",
    "\n",
    "    - Kolom Last_Salary_USD saat ini bertipe object karena ada koma. Hapus koma dan konversikan kolom ini menjadi tipe data numerik (misalnya, float atau int)."
   ]
  },
  {
   "cell_type": "code",
   "execution_count": null,
   "id": "86c53d65",
   "metadata": {},
   "outputs": [],
   "source": []
  },
  {
   "cell_type": "markdown",
   "id": "2ca63f9e",
   "metadata": {},
   "source": [
    "---\n",
    "**3.Analisis dan Rekayasa Fitur:**\n",
    "\n",
    "- Identifikasi Outlier: Gunakan metode Interquartile Range (IQR) pada kolom Last_Salary_USD untuk mengidentifikasi apakah ada gaji yang dianggap sebagai outlier. Cetak baris data yang merupakan outlier.\n",
    "\n",
    "- Buat Kolom Baru: Buat kolom baru bernama Employee_Tenure berdasarkan Years_At_Company dengan kategori berikut:\n",
    "    - \"New\" (0-3 tahun)\n",
    "    - \"Mid\" (4-8 tahun)\n",
    "    - \"Senior\" (>8 tahun)"
   ]
  },
  {
   "cell_type": "code",
   "execution_count": null,
   "id": "5b8d943f",
   "metadata": {},
   "outputs": [],
   "source": []
  },
  {
   "cell_type": "markdown",
   "id": "185581af",
   "metadata": {},
   "source": [
    "**4.Sajikan Wawasan:**\n",
    "- Hitung gaji rata-rata untuk setiap Department. Departemen mana yang memiliki gaji rata-rata tertinggi?\n",
    "- Hitung skor kepuasan rata-rata untuk setiap kategori Employee_Tenure. Apakah karyawan yang lebih lama cenderung lebih puas?"
   ]
  },
  {
   "cell_type": "code",
   "execution_count": null,
   "id": "413ccb0c",
   "metadata": {},
   "outputs": [],
   "source": []
  }
 ],
 "metadata": {
  "kernelspec": {
   "display_name": "Python 3",
   "language": "python",
   "name": "python3"
  },
  "language_info": {
   "codemirror_mode": {
    "name": "ipython",
    "version": 3
   },
   "file_extension": ".py",
   "mimetype": "text/x-python",
   "name": "python",
   "nbconvert_exporter": "python",
   "pygments_lexer": "ipython3",
   "version": "3.12.4"
  }
 },
 "nbformat": 4,
 "nbformat_minor": 5
}
