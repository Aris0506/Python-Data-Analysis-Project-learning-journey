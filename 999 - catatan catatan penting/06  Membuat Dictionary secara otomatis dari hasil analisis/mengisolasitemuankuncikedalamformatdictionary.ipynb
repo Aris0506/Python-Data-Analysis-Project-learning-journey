{
 "cells": [
  {
   "cell_type": "markdown",
   "id": "8e954b65",
   "metadata": {},
   "source": [
    "###  Catatan: belajar cara mengisolasi dan menyimpan temuan kunci dari sebuah analisis ke dalam format dictionary.\n",
    "\n",
    "Membuat Dictionary secara otomatis dari hasil analisis. \n",
    "\n",
    "#### Tanggal: 15 Agustus 2025\n",
    "\n",
    "Tujuan:\n",
    "Untuk mengambil informasi paling penting (misalnya, dekade dan kategori juara) dari sebuah tabel hasil analisis dan menyimpannya dalam sebuah variabel yang ringkas dan mudah dibaca.\n"
   ]
  },
  {
   "cell_type": "markdown",
   "id": "29b941b9",
   "metadata": {},
   "source": [
    "Analogi: Membuat \"Label Harga\" 🏷️\n",
    "Proses ini seperti membuat label harga mini yang hanya berisi informasi paling krusial: \"Nama Barang\" (sebagai Kunci/Key) dan \"Harganya\" (sebagai Nilai/Value)."
   ]
  },
  {
   "cell_type": "code",
   "execution_count": null,
   "id": "57e8fbe7",
   "metadata": {},
   "outputs": [],
   "source": [
    "# Contoh Kode:\n",
    "\n",
    "# 1. ANALISIS KELOMPOK: Hitung proporsi untuk setiap grup\n",
    "prop_female_winners = nobel.groupby(['decade', 'category'], as_index=False)['female_winner'].mean()\n",
    "\n",
    "# 2. FILTERING: Temukan baris \"juara\" dengan nilai tertinggi\n",
    "max_proportion = prop_female_winners['female_winner'].max()\n",
    "max_female_decade_category = prop_female_winners[prop_female_winners['female_winner'] == max_proportion]\n",
    "\n",
    "# 3. MEMBUAT DICTIONARY: Simpan informasi kunci dari \"juara\"\n",
    "max_female_dict = {\n",
    "    max_female_decade_category['decade'].values[0]:   # here the code\n",
    "    max_female_decade_category['category'].values[0]\n",
    "}\n",
    "\n",
    "# Hasilnya adalah \"headline\" yang ringkas, contoh: {1980: 'Fisika'}\n",
    "print(max_female_dict)"
   ]
  }
 ],
 "metadata": {
  "kernelspec": {
   "display_name": "Python 3",
   "language": "python",
   "name": "python3"
  },
  "language_info": {
   "codemirror_mode": {
    "name": "ipython",
    "version": 3
   },
   "file_extension": ".py",
   "mimetype": "text/x-python",
   "name": "python",
   "nbconvert_exporter": "python",
   "pygments_lexer": "ipython3",
   "version": "3.12.4"
  }
 },
 "nbformat": 4,
 "nbformat_minor": 5
}
