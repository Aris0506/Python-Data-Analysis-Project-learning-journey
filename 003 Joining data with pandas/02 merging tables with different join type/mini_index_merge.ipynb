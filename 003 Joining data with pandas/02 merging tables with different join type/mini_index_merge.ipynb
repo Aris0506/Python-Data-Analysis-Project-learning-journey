{
 "cells": [
  {
   "cell_type": "code",
   "execution_count": 4,
   "id": "a7a8b42f",
   "metadata": {},
   "outputs": [
    {
     "name": "stdout",
     "output_type": "stream",
     "text": [
      "--- Data Karyawan dengan Indeks ---\n",
      "              nama  id_departemen\n",
      "id_karyawan                      \n",
      "101           Andi            1.0\n",
      "102           Budi            1.0\n",
      "103          Citra            2.0\n",
      "104           Dina            3.0\n",
      "105            Eka            NaN\n"
     ]
    }
   ],
   "source": [
    "import pandas as pd\n",
    "\n",
    "# Data karyawan dari project sebelumnya\n",
    "karyawan = {\n",
    "    'id_karyawan': [101, 102, 103, 104, 105],\n",
    "    'nama': ['Andi', 'Budi', 'Citra', 'Dina', 'Eka'],\n",
    "    'id_departemen': [1, 1, 2, 3, None]\n",
    "}\n",
    "data_karyawan = pd.DataFrame(karyawan)\n",
    "\n",
    "# Atur 'id_karyawan' sebagai indeks\n",
    "data_karyawan_indexed = data_karyawan.set_index('id_karyawan')\n",
    "\n",
    "print(\"--- Data Karyawan dengan Indeks ---\")\n",
    "print(data_karyawan_indexed)"
   ]
  },
  {
   "cell_type": "code",
   "execution_count": 5,
   "id": "2083e9d2",
   "metadata": {},
   "outputs": [
    {
     "name": "stdout",
     "output_type": "stream",
     "text": [
      "\n",
      "--- Data Gaji ---\n",
      "   id_karyawan_gaji      gaji\n",
      "0               101  10000000\n",
      "1               102   9500000\n",
      "2               103  12000000\n",
      "3               104   9000000\n"
     ]
    }
   ],
   "source": [
    "# Data Gaji\n",
    "gaji_data = {\n",
    "    'id_karyawan_gaji': [101, 102, 103, 104],\n",
    "    'gaji': [10000000, 9500000, 12000000, 9000000]\n",
    "}\n",
    "data_gaji = pd.DataFrame(gaji_data)\n",
    "\n",
    "print(\"\\n--- Data Gaji ---\")\n",
    "print(data_gaji)"
   ]
  },
  {
   "cell_type": "code",
   "execution_count": 7,
   "id": "66240860",
   "metadata": {},
   "outputs": [
    {
     "name": "stdout",
     "output_type": "stream",
     "text": [
      "\n",
      "--- Laporan Lengkap Karyawan dan Gaji ---\n",
      "      nama  id_departemen  id_karyawan_gaji        gaji\n",
      "0.0   Andi            1.0               101  10000000.0\n",
      "1.0   Budi            1.0               102   9500000.0\n",
      "2.0  Citra            2.0               103  12000000.0\n",
      "3.0   Dina            3.0               104   9000000.0\n",
      "NaN    Eka            NaN               105         NaN\n"
     ]
    }
   ],
   "source": [
    "# Merge dengan left_index=True dan right_on='kolom'\n",
    "laporan_lengkap = data_karyawan_indexed.merge(\n",
    "    data_gaji,\n",
    "    how='left',\n",
    "    left_index=True,           # Gunakan indeks dari tabel kiri\n",
    "    right_on='id_karyawan_gaji'  # Cocokkan dengan kolom 'id_karyawan_gaji' dari tabel kanan\n",
    ")\n",
    "\n",
    "print(\"\\n--- Laporan Lengkap Karyawan dan Gaji ---\")\n",
    "print(laporan_lengkap)"
   ]
  }
 ],
 "metadata": {
  "kernelspec": {
   "display_name": "Python 3",
   "language": "python",
   "name": "python3"
  },
  "language_info": {
   "codemirror_mode": {
    "name": "ipython",
    "version": 3
   },
   "file_extension": ".py",
   "mimetype": "text/x-python",
   "name": "python",
   "nbconvert_exporter": "python",
   "pygments_lexer": "ipython3",
   "version": "3.12.4"
  }
 },
 "nbformat": 4,
 "nbformat_minor": 5
}
