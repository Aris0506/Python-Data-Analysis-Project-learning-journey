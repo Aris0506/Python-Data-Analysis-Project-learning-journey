{
 "cells": [
  {
   "cell_type": "markdown",
   "id": "0120e246",
   "metadata": {},
   "source": [
    "**Proyek Akhir Bab: Meringkas Data Penjualan**\n",
    "\n",
    "***Skenario: Manajer penjualan sangat terkesan dengan analisis Anda. Sekarang, dia meminta Anda untuk membuat laporan ringkasan (agregat) untuk mendapatkan gambaran besar tentang performa penjualan bulan lalu.***\n",
    "\n",
    "----"
   ]
  },
  {
   "cell_type": "markdown",
   "id": "969ce54e",
   "metadata": {},
   "source": [
    "**Tantangan**\n",
    "\n",
    "**1. Statistik Penjualan Keseluruhan**\n",
    "\n",
    "- Cetak statistik ringkasan dasar untuk kolom numerik utama: 'Harga Satuan', 'Jumlah Terjual', dan 'Total Pendapatan'.\n",
    "\n",
    "    - Petunjuk: Gunakan metode .describe() pada DataFrame yang sudah dipilih kolomnya.\n",
    "\n",
    "**2. Popularitas Produk**\n",
    "\n",
    "- Hitung dan tampilkan produk mana yang paling sering muncul dalam transaksi (paling populer).\n",
    "\n",
    "    - Petunjuk: Gunakan .value_counts() pada kolom 'Produk'.\n",
    "\n",
    "**3. Ringkasan per Kategori (Menggunakan .groupby())**\n",
    "\n",
    "- Manajer ingin membandingkan performa kategori 'Elektronik' dan 'Aksesoris'.\n",
    "\n",
    "- Gunakan .groupby() untuk menghitung jumlah total (sum) dari 'Jumlah Terjual' dan 'Total Pendapatan' untuk setiap 'Kategori'.\n",
    "\n",
    "**4. (Tantangan Ekstra) Laporan Penjualan Harian (Menggunakan .pivot_table())**\n",
    "\n",
    "- Buat sebuah pivot table untuk melihat ringkasan penjualan harian.\n",
    "\n",
    "- Jadikan 'Tanggal' sebagai index.\n",
    "\n",
    "- Hitung jumlah (sum) dari 'Total Pendapatan' untuk setiap tanggal.\n",
    "\n",
    "- Tampilkan pivot table tersebut.\n",
    "[Gambar dari tabel pivot Pandas yang diringkas]\n",
    "\n",
    "---"
   ]
  },
  {
   "cell_type": "markdown",
   "id": "bc220dd0",
   "metadata": {},
   "source": [
    "**Data yang Digunakan**\n",
    "\n",
    "***menggunakan DataFrame df_penjualan yang sudah memiliki kolom 'Total Pendapatan'.***"
   ]
  },
  {
   "cell_type": "code",
   "execution_count": 16,
   "id": "501080a9",
   "metadata": {},
   "outputs": [
    {
     "data": {
      "application/vnd.microsoft.datawrangler.viewer.v0+json": {
       "columns": [
        {
         "name": "index",
         "rawType": "int64",
         "type": "integer"
        },
        {
         "name": "Tanggal",
         "rawType": "object",
         "type": "string"
        },
        {
         "name": "Produk",
         "rawType": "object",
         "type": "string"
        },
        {
         "name": "Kategori",
         "rawType": "object",
         "type": "string"
        },
        {
         "name": "Harga Satuan",
         "rawType": "int64",
         "type": "integer"
        },
        {
         "name": "Jumlah Terjual",
         "rawType": "int64",
         "type": "integer"
        },
        {
         "name": "Total Pendapatan",
         "rawType": "int64",
         "type": "integer"
        }
       ],
       "ref": "f21012ad-b8fb-48f6-a879-01118eb46a6b",
       "rows": [
        [
         "0",
         "2024-07-01",
         "Laptop",
         "Elektronik",
         "15000000",
         "5",
         "75000000"
        ],
        [
         "1",
         "2024-07-01",
         "Mouse",
         "Aksesoris",
         "150000",
         "10",
         "1500000"
        ],
        [
         "2",
         "2024-07-02",
         "Laptop",
         "Elektronik",
         "15500000",
         "3",
         "46500000"
        ],
        [
         "3",
         "2024-07-03",
         "Monitor",
         "Elektronik",
         "3500000",
         "7",
         "24500000"
        ],
        [
         "4",
         "2024-07-03",
         "Keyboard",
         "Aksesoris",
         "750000",
         "8",
         "6000000"
        ],
        [
         "5",
         "2024-07-04",
         "Mouse",
         "Aksesoris",
         "160000",
         "12",
         "1920000"
        ]
       ],
       "shape": {
        "columns": 6,
        "rows": 6
       }
      },
      "text/html": [
       "<div>\n",
       "<style scoped>\n",
       "    .dataframe tbody tr th:only-of-type {\n",
       "        vertical-align: middle;\n",
       "    }\n",
       "\n",
       "    .dataframe tbody tr th {\n",
       "        vertical-align: top;\n",
       "    }\n",
       "\n",
       "    .dataframe thead th {\n",
       "        text-align: right;\n",
       "    }\n",
       "</style>\n",
       "<table border=\"1\" class=\"dataframe\">\n",
       "  <thead>\n",
       "    <tr style=\"text-align: right;\">\n",
       "      <th></th>\n",
       "      <th>Tanggal</th>\n",
       "      <th>Produk</th>\n",
       "      <th>Kategori</th>\n",
       "      <th>Harga Satuan</th>\n",
       "      <th>Jumlah Terjual</th>\n",
       "      <th>Total Pendapatan</th>\n",
       "    </tr>\n",
       "  </thead>\n",
       "  <tbody>\n",
       "    <tr>\n",
       "      <th>0</th>\n",
       "      <td>2024-07-01</td>\n",
       "      <td>Laptop</td>\n",
       "      <td>Elektronik</td>\n",
       "      <td>15000000</td>\n",
       "      <td>5</td>\n",
       "      <td>75000000</td>\n",
       "    </tr>\n",
       "    <tr>\n",
       "      <th>1</th>\n",
       "      <td>2024-07-01</td>\n",
       "      <td>Mouse</td>\n",
       "      <td>Aksesoris</td>\n",
       "      <td>150000</td>\n",
       "      <td>10</td>\n",
       "      <td>1500000</td>\n",
       "    </tr>\n",
       "    <tr>\n",
       "      <th>2</th>\n",
       "      <td>2024-07-02</td>\n",
       "      <td>Laptop</td>\n",
       "      <td>Elektronik</td>\n",
       "      <td>15500000</td>\n",
       "      <td>3</td>\n",
       "      <td>46500000</td>\n",
       "    </tr>\n",
       "    <tr>\n",
       "      <th>3</th>\n",
       "      <td>2024-07-03</td>\n",
       "      <td>Monitor</td>\n",
       "      <td>Elektronik</td>\n",
       "      <td>3500000</td>\n",
       "      <td>7</td>\n",
       "      <td>24500000</td>\n",
       "    </tr>\n",
       "    <tr>\n",
       "      <th>4</th>\n",
       "      <td>2024-07-03</td>\n",
       "      <td>Keyboard</td>\n",
       "      <td>Aksesoris</td>\n",
       "      <td>750000</td>\n",
       "      <td>8</td>\n",
       "      <td>6000000</td>\n",
       "    </tr>\n",
       "    <tr>\n",
       "      <th>5</th>\n",
       "      <td>2024-07-04</td>\n",
       "      <td>Mouse</td>\n",
       "      <td>Aksesoris</td>\n",
       "      <td>160000</td>\n",
       "      <td>12</td>\n",
       "      <td>1920000</td>\n",
       "    </tr>\n",
       "  </tbody>\n",
       "</table>\n",
       "</div>"
      ],
      "text/plain": [
       "      Tanggal    Produk    Kategori  Harga Satuan  Jumlah Terjual  \\\n",
       "0  2024-07-01    Laptop  Elektronik      15000000               5   \n",
       "1  2024-07-01     Mouse   Aksesoris        150000              10   \n",
       "2  2024-07-02    Laptop  Elektronik      15500000               3   \n",
       "3  2024-07-03   Monitor  Elektronik       3500000               7   \n",
       "4  2024-07-03  Keyboard   Aksesoris        750000               8   \n",
       "5  2024-07-04     Mouse   Aksesoris        160000              12   \n",
       "\n",
       "   Total Pendapatan  \n",
       "0          75000000  \n",
       "1           1500000  \n",
       "2          46500000  \n",
       "3          24500000  \n",
       "4           6000000  \n",
       "5           1920000  "
      ]
     },
     "execution_count": 16,
     "metadata": {},
     "output_type": "execute_result"
    }
   ],
   "source": [
    "import pandas as pd\n",
    "import numpy as np\n",
    "\n",
    "data_penjualan = {\n",
    "    'Tanggal' : ['2024-07-01', '2024-07-01', '2024-07-02', '2024-07-03', '2024-07-03', '2024-07-04'],\n",
    "    'Produk' : ['Laptop', 'Mouse', 'Laptop', 'Monitor', 'Keyboard', 'Mouse'],\n",
    "    'Kategori': ['Elektronik', 'Aksesoris', 'Elektronik', 'Elektronik', 'Aksesoris', 'Aksesoris'],\n",
    "    'Harga Satuan': [15000000, 150000, 15500000, 3500000, 750000, 160000],\n",
    "    'Jumlah Terjual': [5, 10, 3, 7, 8, 12]\n",
    "}\n",
    "df_penjualan = pd.DataFrame(data_penjualan)\n",
    "df_penjualan['Total Pendapatan'] = np.array(df_penjualan['Harga Satuan']) * np.array(df_penjualan['Jumlah Terjual'])\n",
    "df_penjualan "
   ]
  },
  {
   "cell_type": "markdown",
   "id": "61c7af95",
   "metadata": {},
   "source": [
    "---"
   ]
  },
  {
   "cell_type": "markdown",
   "id": "42bb3514",
   "metadata": {},
   "source": [
    "**1. Statistik Penjualan Keseluruhan**"
   ]
  },
  {
   "cell_type": "code",
   "execution_count": 17,
   "id": "06eb5a01",
   "metadata": {},
   "outputs": [
    {
     "data": {
      "application/vnd.microsoft.datawrangler.viewer.v0+json": {
       "columns": [
        {
         "name": "index",
         "rawType": "object",
         "type": "string"
        },
        {
         "name": "Harga Satuan",
         "rawType": "float64",
         "type": "float"
        },
        {
         "name": "Jumlah Terjual",
         "rawType": "float64",
         "type": "float"
        },
        {
         "name": "Total Pendapatan",
         "rawType": "float64",
         "type": "float"
        }
       ],
       "ref": "62c24e91-ddb6-4825-87e8-68927bd06b32",
       "rows": [
        [
         "count",
         "6.0",
         "6.0",
         "6.0"
        ],
        [
         "mean",
         "5843333.0",
         "8.0",
         "25903333.0"
        ],
        [
         "std",
         "7392474.0",
         "3.0",
         "29676726.0"
        ],
        [
         "min",
         "150000.0",
         "3.0",
         "1500000.0"
        ],
        [
         "25%",
         "307500.0",
         "6.0",
         "2940000.0"
        ],
        [
         "50%",
         "2125000.0",
         "8.0",
         "15250000.0"
        ],
        [
         "75%",
         "12125000.0",
         "10.0",
         "41000000.0"
        ],
        [
         "max",
         "15500000.0",
         "12.0",
         "75000000.0"
        ]
       ],
       "shape": {
        "columns": 3,
        "rows": 8
       }
      },
      "text/html": [
       "<div>\n",
       "<style scoped>\n",
       "    .dataframe tbody tr th:only-of-type {\n",
       "        vertical-align: middle;\n",
       "    }\n",
       "\n",
       "    .dataframe tbody tr th {\n",
       "        vertical-align: top;\n",
       "    }\n",
       "\n",
       "    .dataframe thead th {\n",
       "        text-align: right;\n",
       "    }\n",
       "</style>\n",
       "<table border=\"1\" class=\"dataframe\">\n",
       "  <thead>\n",
       "    <tr style=\"text-align: right;\">\n",
       "      <th></th>\n",
       "      <th>Harga Satuan</th>\n",
       "      <th>Jumlah Terjual</th>\n",
       "      <th>Total Pendapatan</th>\n",
       "    </tr>\n",
       "  </thead>\n",
       "  <tbody>\n",
       "    <tr>\n",
       "      <th>count</th>\n",
       "      <td>6.0</td>\n",
       "      <td>6.0</td>\n",
       "      <td>6.0</td>\n",
       "    </tr>\n",
       "    <tr>\n",
       "      <th>mean</th>\n",
       "      <td>5843333.0</td>\n",
       "      <td>8.0</td>\n",
       "      <td>25903333.0</td>\n",
       "    </tr>\n",
       "    <tr>\n",
       "      <th>std</th>\n",
       "      <td>7392474.0</td>\n",
       "      <td>3.0</td>\n",
       "      <td>29676726.0</td>\n",
       "    </tr>\n",
       "    <tr>\n",
       "      <th>min</th>\n",
       "      <td>150000.0</td>\n",
       "      <td>3.0</td>\n",
       "      <td>1500000.0</td>\n",
       "    </tr>\n",
       "    <tr>\n",
       "      <th>25%</th>\n",
       "      <td>307500.0</td>\n",
       "      <td>6.0</td>\n",
       "      <td>2940000.0</td>\n",
       "    </tr>\n",
       "    <tr>\n",
       "      <th>50%</th>\n",
       "      <td>2125000.0</td>\n",
       "      <td>8.0</td>\n",
       "      <td>15250000.0</td>\n",
       "    </tr>\n",
       "    <tr>\n",
       "      <th>75%</th>\n",
       "      <td>12125000.0</td>\n",
       "      <td>10.0</td>\n",
       "      <td>41000000.0</td>\n",
       "    </tr>\n",
       "    <tr>\n",
       "      <th>max</th>\n",
       "      <td>15500000.0</td>\n",
       "      <td>12.0</td>\n",
       "      <td>75000000.0</td>\n",
       "    </tr>\n",
       "  </tbody>\n",
       "</table>\n",
       "</div>"
      ],
      "text/plain": [
       "       Harga Satuan  Jumlah Terjual  Total Pendapatan\n",
       "count           6.0             6.0               6.0\n",
       "mean      5843333.0             8.0        25903333.0\n",
       "std       7392474.0             3.0        29676726.0\n",
       "min        150000.0             3.0         1500000.0\n",
       "25%        307500.0             6.0         2940000.0\n",
       "50%       2125000.0             8.0        15250000.0\n",
       "75%      12125000.0            10.0        41000000.0\n",
       "max      15500000.0            12.0        75000000.0"
      ]
     },
     "execution_count": 17,
     "metadata": {},
     "output_type": "execute_result"
    }
   ],
   "source": [
    "summary_statistic = df_penjualan[['Harga Satuan', 'Jumlah Terjual', 'Total Pendapatan']].describe().round()\n",
    "summary_statistic"
   ]
  },
  {
   "cell_type": "markdown",
   "id": "8f5f5065",
   "metadata": {},
   "source": [
    "---"
   ]
  },
  {
   "cell_type": "markdown",
   "id": "8da018d7",
   "metadata": {},
   "source": [
    "**2. Popularitas Produk[[**"
   ]
  },
  {
   "cell_type": "code",
   "execution_count": 20,
   "id": "ff054014",
   "metadata": {},
   "outputs": [
    {
     "data": {
      "application/vnd.microsoft.datawrangler.viewer.v0+json": {
       "columns": [
        {
         "name": "Produk",
         "rawType": "object",
         "type": "string"
        },
        {
         "name": "count",
         "rawType": "int64",
         "type": "integer"
        }
       ],
       "ref": "4496f0da-0d34-412d-84f5-2e332dfd5200",
       "rows": [
        [
         "Laptop",
         "2"
        ],
        [
         "Mouse",
         "2"
        ],
        [
         "Monitor",
         "1"
        ],
        [
         "Keyboard",
         "1"
        ]
       ],
       "shape": {
        "columns": 1,
        "rows": 4
       }
      },
      "text/plain": [
       "Produk\n",
       "Laptop      2\n",
       "Mouse       2\n",
       "Monitor     1\n",
       "Keyboard    1\n",
       "Name: count, dtype: int64"
      ]
     },
     "execution_count": 20,
     "metadata": {},
     "output_type": "execute_result"
    }
   ],
   "source": [
    "most_frequent_product = df_penjualan['Produk'].value_counts()\n",
    "most_frequent_product\n"
   ]
  },
  {
   "cell_type": "markdown",
   "id": "210f57e0",
   "metadata": {},
   "source": [
    "----"
   ]
  },
  {
   "cell_type": "markdown",
   "id": "4f9f1cac",
   "metadata": {},
   "source": [
    "**3. Ringkasan per Kategori (Menggunakan .groupby())**"
   ]
  },
  {
   "cell_type": "code",
   "execution_count": 31,
   "id": "7e2d866f",
   "metadata": {},
   "outputs": [
    {
     "name": "stdout",
     "output_type": "stream",
     "text": [
      "            Jumlah Terjual  Total Pendapatan\n",
      "Kategori                                    \n",
      "Aksesoris               30           9420000\n",
      "Elektronik              15         146000000\n"
     ]
    }
   ],
   "source": [
    "versus = df_penjualan.groupby('Kategori')[['Jumlah Terjual', 'Total Pendapatan']].sum()\n",
    "print(versus)\n",
    "\n",
    "\n",
    "# import matplotlib.pyplot as plt\n",
    "# versus.plot(kind='bar', figsize=(8,4))\n",
    "# plt.title('Total Penjualan dan Pendapatan per Kategori')\n",
    "# plt.xlabel('Kategori')\n",
    "# plt.ylabel('Jumlah')\n",
    "# plt.xticks(rotation=0)\n",
    "# plt.legend(['Jumlah Terjual', 'Total Pendapatan'])\n",
    "\n",
    "# plt.show() \n",
    "\n",
    "\n"
   ]
  },
  {
   "cell_type": "code",
   "execution_count": 32,
   "id": "229f24c5",
   "metadata": {},
   "outputs": [
    {
     "data": {
      "image/png": "[encoded data removed]",
      "text/plain": [
       "<Figure size 1600x500 with 2 Axes>"
      ]
     },
     "metadata": {},
     "output_type": "display_data"
    }
   ],
   "source": [
    "import matplotlib.pyplot as plt\n",
    "\n",
    "fig, axes = plt.subplots(1, 2, figsize=(16, 5))  # 1 baris, 2 kolom subplot\n",
    "\n",
    "# Subplot 1: Jumlah Terjual\n",
    "versus['Jumlah Terjual'].plot(kind='bar', ax=axes[0], color='skyblue')\n",
    "axes[0].set_title('Jumlah Terjual per Kategori')\n",
    "axes[0].set_xlabel('Kategori')\n",
    "axes[0].set_ylabel('Jumlah Terjual')\n",
    "axes[0].set_xticklabels(versus.index, rotation=0)\n",
    "\n",
    "# Subplot 2: Total Pendapatan\n",
    "versus['Total Pendapatan'].plot(kind='bar', ax=axes[1], color='orange')\n",
    "axes[1].set_title('Total Pendapatan per Kategori')\n",
    "axes[1].set_xlabel('Kategori')\n",
    "axes[1].set_ylabel('Total Pendapatan')\n",
    "axes[1].set_xticklabels(versus.index, rotation=0)\n",
    "\n",
    "plt.tight_layout()  # rapikan layout supaya gak saling tumpang tindih\n",
    "plt.show()\n"
   ]
  },
  {
   "cell_type": "markdown",
   "id": "34be331c",
   "metadata": {},
   "source": [
    "---"
   ]
  },
  {
   "cell_type": "markdown",
   "id": "ede266e6",
   "metadata": {},
   "source": [
    "**4. (Tantangan Ekstra) Laporan Penjualan Harian (Menggunakan .pivot_table())**"
   ]
  },
  {
   "cell_type": "code",
   "execution_count": 39,
   "id": "d578bedb",
   "metadata": {},
   "outputs": [
    {
     "data": {
      "application/vnd.microsoft.datawrangler.viewer.v0+json": {
       "columns": [
        {
         "name": "Tanggal",
         "rawType": "object",
         "type": "string"
        },
        {
         "name": "Total Pendapatan",
         "rawType": "int64",
         "type": "integer"
        }
       ],
       "ref": "bfd0756a-96d8-4fde-99b7-e51c8177902d",
       "rows": [
        [
         "2024-07-01",
         "76500000"
        ],
        [
         "2024-07-02",
         "46500000"
        ],
        [
         "2024-07-03",
         "30500000"
        ],
        [
         "2024-07-04",
         "1920000"
        ]
       ],
       "shape": {
        "columns": 1,
        "rows": 4
       }
      },
      "text/html": [
       "<div>\n",
       "<style scoped>\n",
       "    .dataframe tbody tr th:only-of-type {\n",
       "        vertical-align: middle;\n",
       "    }\n",
       "\n",
       "    .dataframe tbody tr th {\n",
       "        vertical-align: top;\n",
       "    }\n",
       "\n",
       "    .dataframe thead th {\n",
       "        text-align: right;\n",
       "    }\n",
       "</style>\n",
       "<table border=\"1\" class=\"dataframe\">\n",
       "  <thead>\n",
       "    <tr style=\"text-align: right;\">\n",
       "      <th></th>\n",
       "      <th>Total Pendapatan</th>\n",
       "    </tr>\n",
       "    <tr>\n",
       "      <th>Tanggal</th>\n",
       "      <th></th>\n",
       "    </tr>\n",
       "  </thead>\n",
       "  <tbody>\n",
       "    <tr>\n",
       "      <th>2024-07-01</th>\n",
       "      <td>76500000</td>\n",
       "    </tr>\n",
       "    <tr>\n",
       "      <th>2024-07-02</th>\n",
       "      <td>46500000</td>\n",
       "    </tr>\n",
       "    <tr>\n",
       "      <th>2024-07-03</th>\n",
       "      <td>30500000</td>\n",
       "    </tr>\n",
       "    <tr>\n",
       "      <th>2024-07-04</th>\n",
       "      <td>1920000</td>\n",
       "    </tr>\n",
       "  </tbody>\n",
       "</table>\n",
       "</div>"
      ],
      "text/plain": [
       "            Total Pendapatan\n",
       "Tanggal                     \n",
       "2024-07-01          76500000\n",
       "2024-07-02          46500000\n",
       "2024-07-03          30500000\n",
       "2024-07-04           1920000"
      ]
     },
     "execution_count": 39,
     "metadata": {},
     "output_type": "execute_result"
    }
   ],
   "source": [
    "daily_report = df_penjualan.pivot_table(values='Total Pendapatan', index='Tanggal', aggfunc='sum')\n",
    "daily_report\n"
   ]
  },
  {
   "cell_type": "code",
   "execution_count": 42,
   "id": "58b25337",
   "metadata": {},
   "outputs": [
    {
     "data": {
      "image/png": "[encoded data removed]",
      "text/plain": [
       "<Figure size 1600x400 with 1 Axes>"
      ]
     },
     "metadata": {},
     "output_type": "display_data"
    }
   ],
   "source": [
    "daily_report.plot(kind='line', figsize=(16,4), color='green')\n",
    "plt.title('Laporan Penjualan Harian')\n",
    "plt.xlabel('Tanggal')\n",
    "plt.ylabel('Total Pendapatan')\n",
    "plt.xticks(rotation=45)\n",
    "plt.show()"
   ]
  },
  {
   "cell_type": "code",
   "execution_count": null,
   "id": "ea6fc5b0",
   "metadata": {},
   "outputs": [],
   "source": []
  }
 ],
 "metadata": {
  "kernelspec": {
   "display_name": "Python 3",
   "language": "python",
   "name": "python3"
  },
  "language_info": {
   "codemirror_mode": {
    "name": "ipython",
    "version": 3
   },
   "file_extension": ".py",
   "mimetype": "text/x-python",
   "name": "python",
   "nbconvert_exporter": "python",
   "pygments_lexer": "ipython3",
   "version": "3.12.4"
  }
 },
 "nbformat": 4,
 "nbformat_minor": 5
}
