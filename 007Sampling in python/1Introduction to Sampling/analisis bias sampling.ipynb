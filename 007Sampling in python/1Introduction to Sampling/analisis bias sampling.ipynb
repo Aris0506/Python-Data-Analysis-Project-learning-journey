{
 "cells": [
  {
   "cell_type": "markdown",
   "id": "9373acd1",
   "metadata": {},
   "source": [
    "**Proyek: Menganalisis Bias Sampling**\n",
    "\n",
    "**Tujuan:**\n",
    "**untuk melihat secara langsung efek dari metode sampling yang berbeda.**\n",
    "\n",
    "----"
   ]
  },
  {
   "cell_type": "markdown",
   "id": "92fdf1ef",
   "metadata": {},
   "source": [
    "**1. Muat Data dan Tentukan Populasi:**\n",
    "\n",
    "- Impor library yang dibutuhkan: pandas, numpy, dan matplotlib.pyplot.\n",
    "- Muat dataset Titanic: titanic = sns.load_dataset('titanic').\n",
    "- Kita akan menganggap DataFrame titanic ini sebagai populasi kita. Fokus pada kolom 'age' (usia).\n",
    "- Hitung parameter populasi: rata-rata usia sebenarnya dari semua penumpang. mean_age_pop = titanic['age'].mean(). Cetak hasilnya."
   ]
  },
  {
   "cell_type": "markdown",
   "id": "093bed0b",
   "metadata": {},
   "source": [
    "***import library dan muat dataset***"
   ]
  },
  {
   "cell_type": "code",
   "execution_count": 2,
   "id": "061be63c",
   "metadata": {},
   "outputs": [
    {
     "data": {
      "application/vnd.microsoft.datawrangler.viewer.v0+json": {
       "columns": [
        {
         "name": "index",
         "rawType": "int64",
         "type": "integer"
        },
        {
         "name": "survived",
         "rawType": "int64",
         "type": "integer"
        },
        {
         "name": "pclass",
         "rawType": "int64",
         "type": "integer"
        },
        {
         "name": "sex",
         "rawType": "object",
         "type": "string"
        },
        {
         "name": "age",
         "rawType": "float64",
         "type": "float"
        },
        {
         "name": "sibsp",
         "rawType": "int64",
         "type": "integer"
        },
        {
         "name": "parch",
         "rawType": "int64",
         "type": "integer"
        },
        {
         "name": "fare",
         "rawType": "float64",
         "type": "float"
        },
        {
         "name": "embarked",
         "rawType": "object",
         "type": "string"
        },
        {
         "name": "class",
         "rawType": "category",
         "type": "unknown"
        },
        {
         "name": "who",
         "rawType": "object",
         "type": "string"
        },
        {
         "name": "adult_male",
         "rawType": "bool",
         "type": "boolean"
        },
        {
         "name": "deck",
         "rawType": "category",
         "type": "unknown"
        },
        {
         "name": "embark_town",
         "rawType": "object",
         "type": "string"
        },
        {
         "name": "alive",
         "rawType": "object",
         "type": "string"
        },
        {
         "name": "alone",
         "rawType": "bool",
         "type": "boolean"
        }
       ],
       "ref": "dca2e6b7-e090-451e-bfa7-4016a9619da0",
       "rows": [
        [
         "0",
         "0",
         "3",
         "male",
         "22.0",
         "1",
         "0",
         "7.25",
         "S",
         "Third",
         "man",
         "True",
         null,
         "Southampton",
         "no",
         "False"
        ],
        [
         "1",
         "1",
         "1",
         "female",
         "38.0",
         "1",
         "0",
         "71.2833",
         "C",
         "First",
         "woman",
         "False",
         "C",
         "Cherbourg",
         "yes",
         "False"
        ],
        [
         "2",
         "1",
         "3",
         "female",
         "26.0",
         "0",
         "0",
         "7.925",
         "S",
         "Third",
         "woman",
         "False",
         null,
         "Southampton",
         "yes",
         "True"
        ],
        [
         "3",
         "1",
         "1",
         "female",
         "35.0",
         "1",
         "0",
         "53.1",
         "S",
         "First",
         "woman",
         "False",
         "C",
         "Southampton",
         "yes",
         "False"
        ],
        [
         "4",
         "0",
         "3",
         "male",
         "35.0",
         "0",
         "0",
         "8.05",
         "S",
         "Third",
         "man",
         "True",
         null,
         "Southampton",
         "no",
         "True"
        ]
       ],
       "shape": {
        "columns": 15,
        "rows": 5
       }
      },
      "text/html": [
       "<div>\n",
       "<style scoped>\n",
       "    .dataframe tbody tr th:only-of-type {\n",
       "        vertical-align: middle;\n",
       "    }\n",
       "\n",
       "    .dataframe tbody tr th {\n",
       "        vertical-align: top;\n",
       "    }\n",
       "\n",
       "    .dataframe thead th {\n",
       "        text-align: right;\n",
       "    }\n",
       "</style>\n",
       "<table border=\"1\" class=\"dataframe\">\n",
       "  <thead>\n",
       "    <tr style=\"text-align: right;\">\n",
       "      <th></th>\n",
       "      <th>survived</th>\n",
       "      <th>pclass</th>\n",
       "      <th>sex</th>\n",
       "      <th>age</th>\n",
       "      <th>sibsp</th>\n",
       "      <th>parch</th>\n",
       "      <th>fare</th>\n",
       "      <th>embarked</th>\n",
       "      <th>class</th>\n",
       "      <th>who</th>\n",
       "      <th>adult_male</th>\n",
       "      <th>deck</th>\n",
       "      <th>embark_town</th>\n",
       "      <th>alive</th>\n",
       "      <th>alone</th>\n",
       "    </tr>\n",
       "  </thead>\n",
       "  <tbody>\n",
       "    <tr>\n",
       "      <th>0</th>\n",
       "      <td>0</td>\n",
       "      <td>3</td>\n",
       "      <td>male</td>\n",
       "      <td>22.0</td>\n",
       "      <td>1</td>\n",
       "      <td>0</td>\n",
       "      <td>7.2500</td>\n",
       "      <td>S</td>\n",
       "      <td>Third</td>\n",
       "      <td>man</td>\n",
       "      <td>True</td>\n",
       "      <td>NaN</td>\n",
       "      <td>Southampton</td>\n",
       "      <td>no</td>\n",
       "      <td>False</td>\n",
       "    </tr>\n",
       "    <tr>\n",
       "      <th>1</th>\n",
       "      <td>1</td>\n",
       "      <td>1</td>\n",
       "      <td>female</td>\n",
       "      <td>38.0</td>\n",
       "      <td>1</td>\n",
       "      <td>0</td>\n",
       "      <td>71.2833</td>\n",
       "      <td>C</td>\n",
       "      <td>First</td>\n",
       "      <td>woman</td>\n",
       "      <td>False</td>\n",
       "      <td>C</td>\n",
       "      <td>Cherbourg</td>\n",
       "      <td>yes</td>\n",
       "      <td>False</td>\n",
       "    </tr>\n",
       "    <tr>\n",
       "      <th>2</th>\n",
       "      <td>1</td>\n",
       "      <td>3</td>\n",
       "      <td>female</td>\n",
       "      <td>26.0</td>\n",
       "      <td>0</td>\n",
       "      <td>0</td>\n",
       "      <td>7.9250</td>\n",
       "      <td>S</td>\n",
       "      <td>Third</td>\n",
       "      <td>woman</td>\n",
       "      <td>False</td>\n",
       "      <td>NaN</td>\n",
       "      <td>Southampton</td>\n",
       "      <td>yes</td>\n",
       "      <td>True</td>\n",
       "    </tr>\n",
       "    <tr>\n",
       "      <th>3</th>\n",
       "      <td>1</td>\n",
       "      <td>1</td>\n",
       "      <td>female</td>\n",
       "      <td>35.0</td>\n",
       "      <td>1</td>\n",
       "      <td>0</td>\n",
       "      <td>53.1000</td>\n",
       "      <td>S</td>\n",
       "      <td>First</td>\n",
       "      <td>woman</td>\n",
       "      <td>False</td>\n",
       "      <td>C</td>\n",
       "      <td>Southampton</td>\n",
       "      <td>yes</td>\n",
       "      <td>False</td>\n",
       "    </tr>\n",
       "    <tr>\n",
       "      <th>4</th>\n",
       "      <td>0</td>\n",
       "      <td>3</td>\n",
       "      <td>male</td>\n",
       "      <td>35.0</td>\n",
       "      <td>0</td>\n",
       "      <td>0</td>\n",
       "      <td>8.0500</td>\n",
       "      <td>S</td>\n",
       "      <td>Third</td>\n",
       "      <td>man</td>\n",
       "      <td>True</td>\n",
       "      <td>NaN</td>\n",
       "      <td>Southampton</td>\n",
       "      <td>no</td>\n",
       "      <td>True</td>\n",
       "    </tr>\n",
       "  </tbody>\n",
       "</table>\n",
       "</div>"
      ],
      "text/plain": [
       "   survived  pclass     sex   age  sibsp  parch     fare embarked  class  \\\n",
       "0         0       3    male  22.0      1      0   7.2500        S  Third   \n",
       "1         1       1  female  38.0      1      0  71.2833        C  First   \n",
       "2         1       3  female  26.0      0      0   7.9250        S  Third   \n",
       "3         1       1  female  35.0      1      0  53.1000        S  First   \n",
       "4         0       3    male  35.0      0      0   8.0500        S  Third   \n",
       "\n",
       "     who  adult_male deck  embark_town alive  alone  \n",
       "0    man        True  NaN  Southampton    no  False  \n",
       "1  woman       False    C    Cherbourg   yes  False  \n",
       "2  woman       False  NaN  Southampton   yes   True  \n",
       "3  woman       False    C  Southampton   yes  False  \n",
       "4    man        True  NaN  Southampton    no   True  "
      ]
     },
     "execution_count": 2,
     "metadata": {},
     "output_type": "execute_result"
    }
   ],
   "source": [
    "import pandas as pd\n",
    "import numpy as np\n",
    "import seaborn as sns \n",
    "\n",
    "\n",
    "titanic = sns.load_dataset('titanic')\n",
    "\n",
    "titanic.head()"
   ]
  },
  {
   "cell_type": "markdown",
   "id": "905e763a",
   "metadata": {},
   "source": [
    "***Anggap dataframe titanic adalah populasi dengan fokus ke variable age lalu hitung parameter populasi/rata-rata sebenarnya semua penumpang***"
   ]
  },
  {
   "cell_type": "code",
   "execution_count": 3,
   "id": "c1218386",
   "metadata": {},
   "outputs": [
    {
     "data": {
      "text/plain": [
       "29.7"
      ]
     },
     "execution_count": 3,
     "metadata": {},
     "output_type": "execute_result"
    }
   ],
   "source": [
    "# mean_age_pop = np.mean(titanic['age'])\n",
    "mean_age_pop = titanic['age'].mean()\n",
    "mean_age_pop.round(2)"
   ]
  },
  {
   "cell_type": "markdown",
   "id": "05516a7b",
   "metadata": {},
   "source": [
    "---\n",
    "\n",
    "**2. Lakukan Simple Random Sampling:**\n",
    "\n",
    "- Ambil sampel acak sebanyak 50 penumpang dari populasi: random_sample = titanic.sample(n=50, random_state=42). (Penggunaan random_state berfungsi sama seperti np.random.seed() untuk reproduktifitas).\n",
    "- Hitung estimasi titik: rata-rata usia dari sampel acak Anda. mean_age_random = random_sample['age'].mean().\n",
    "- Bandingkan hasilnya dengan rata-rata populasi. Apakah nilainya mendekati?"
   ]
  },
  {
   "cell_type": "code",
   "execution_count": 4,
   "id": "d6a519ec",
   "metadata": {},
   "outputs": [
    {
     "data": {
      "text/plain": [
       "26.13"
      ]
     },
     "execution_count": 4,
     "metadata": {},
     "output_type": "execute_result"
    }
   ],
   "source": [
    "# do random sampling\n",
    "rand_samp = titanic.sample(n=50, random_state=42)\n",
    "# calculate mean age from random sampling\n",
    "mean_age_rand = rand_samp['age'].mean()\n",
    "mean_age_rand.round(2)"
   ]
  },
  {
   "cell_type": "markdown",
   "id": "7e07f2c1",
   "metadata": {},
   "source": [
    "---\n",
    "\n",
    "**3. Simulasikan Convenience Sampling:**\n",
    "- Untuk menyimulasikan convenience sample, ambil saja 50 baris pertama dari dataset, yang mungkin saja diurutkan berdasarkan kriteria tertentu (misalnya, kelas penumpang). convenience_sample = titanic.head(50).\n",
    "- Hitung estimasi titik dari sampel ini: mean_age_convenience = convenience_sample['age'].mean().\n",
    "- Bandingkan hasilnya dengan rata-rata populasi. Apakah lebih dekat atau lebih jauh dibandingkan dengan hasil dari sampel acak?"
   ]
  },
  {
   "cell_type": "code",
   "execution_count": 5,
   "id": "c3d73d84",
   "metadata": {},
   "outputs": [
    {
     "data": {
      "text/plain": [
       "27.47"
      ]
     },
     "execution_count": 5,
     "metadata": {},
     "output_type": "execute_result"
    }
   ],
   "source": [
    "# Convenience Sampling\n",
    "\n",
    "# Select fifty rows of the dataset\n",
    "conv_samp = titanic.head(50)\n",
    "# Calculate mean age from convenience sampling\n",
    "mean_age_conv = conv_samp['age'].mean()\n",
    "mean_age_conv.round(2)\n",
    "\n"
   ]
  },
  {
   "cell_type": "markdown",
   "id": "bcc6188c",
   "metadata": {},
   "source": [
    "**4. Visualisasikan Distribusinya:**\n",
    "\n",
    "- Buat tiga histogram terpisah untuk membandingkan distribusi usia dari:\n",
    "    - Seluruh populasi (titanic['age'])\n",
    "    - Sampel acak (random_sample['age'])\n",
    "    - Sampel kemudahan (convenience_sample['age'])\n",
    "- Gunakan plt.hist() dan plt.show() untuk setiap plot. Beri judul pada setiap plot agar jelas."
   ]
  },
  {
   "cell_type": "code",
   "execution_count": 6,
   "id": "f598685a",
   "metadata": {},
   "outputs": [
    {
     "data": {
      "image/png": "[encoded data removed]",
      "text/plain": [
       "<Figure size 1600x600 with 3 Axes>"
      ]
     },
     "metadata": {},
     "output_type": "display_data"
    }
   ],
   "source": [
    "import matplotlib.pyplot as plt\n",
    "\n",
    "\n",
    "fig, axes = plt.subplots(1, 3, figsize=(16,6))  # 1 row, 3 columns\n",
    "\n",
    "# Subplot 1\n",
    "axes[0].hist(titanic['age'], bins=10, color='blue', alpha=0.5)\n",
    "axes[0].set_title(\"Titanic - Age\")\n",
    "\n",
    "# Subplot 2\n",
    "axes[1].hist(rand_samp['age'], bins=10, color='green', alpha=0.5)\n",
    "axes[1].set_title(\"Random Sample - Age\")\n",
    "\n",
    "# Subplot 3\n",
    "axes[2].hist(conv_samp['age'], bins=10, color='red', alpha=0.5)\n",
    "axes[2].set_title(\"Convenience Sample - Age\")\n",
    "\n",
    "plt.tight_layout()\n",
    "plt.show()"
   ]
  },
  {
   "cell_type": "code",
   "execution_count": 7,
   "id": "a9e15235",
   "metadata": {},
   "outputs": [
    {
     "name": "stdout",
     "output_type": "stream",
     "text": [
      "Average age of population: 29.7\n",
      "Average age of random sampling: 26.13\n",
      "Average age of convenience sampling with first 50 rows : 27.47\n"
     ]
    },
    {
     "data": {
      "image/png": "[encoded data removed]",
      "text/plain": [
       "<Figure size 1600x600 with 3 Axes>"
      ]
     },
     "metadata": {},
     "output_type": "display_data"
    }
   ],
   "source": [
    "# mean_age_pop = np.mean(titanic['age'])\n",
    "mean_age_pop = titanic['age'].mean()\n",
    "print('Average age of population:', mean_age_pop.round(2))\n",
    "\n",
    "# do random sampling\n",
    "rand_samp = titanic.sample(n=50, random_state=42)\n",
    "# calculate mean age from random sampling\n",
    "mean_age_rand = rand_samp['age'].mean()\n",
    "print('Average age of random sampling:', mean_age_rand.round(2))\n",
    "\n",
    "# Convenience Sampling\n",
    "# Select fifty rows of the dataset\n",
    "conv_samp = titanic.head(50)\n",
    "# Calculate mean age from convenience sampling\n",
    "mean_age_conv = conv_samp['age'].mean()\n",
    "print('Average age of convenience sampling with first 50 rows :', mean_age_conv.round(2))\n",
    "\n",
    "\n",
    "\n",
    "# vizualization\n",
    "import matplotlib.pyplot as plt\n",
    "\n",
    "fig, axes = plt.subplots(1, 3, figsize=(16,6))  # 1 row, 3 columns\n",
    "\n",
    "# Subplot 1\n",
    "axes[0].hist(titanic['age'], bins=10, color='blue', alpha=0.5)\n",
    "axes[0].set_title(\"Titanic - Age\")\n",
    "# Subplot 2\n",
    "axes[1].hist(rand_samp['age'], bins=10, color='green', alpha=0.5)\n",
    "axes[1].set_title(\"Random Sample - Age\")\n",
    "# Subplot 3\n",
    "axes[2].hist(conv_samp['age'], bins=10, color='red', alpha=0.5)\n",
    "axes[2].set_title(\"Convenience Sample - Age\")\n",
    "\n",
    "plt.tight_layout()\n",
    "plt.show()\n"
   ]
  },
  {
   "cell_type": "markdown",
   "id": "0c6c8216",
   "metadata": {},
   "source": [
    "**Meskipun hasil estimasi rata-rata usia dari convenience sampling (27.47) secara numerik lebih dekat ke rata-rata populasi (29.7) dibandingkan simple random sampling (26.13), metode simple random sampling terbukti lebih unggul.**\n",
    "\n",
    "**Alasannya ada dua:**\n",
    "\n",
    "1. Representativitas Distribusi: Histogram dari sampel acak menunjukkan bentuk distribusi yang jauh lebih mirip dengan distribusi populasi. Ini berarti sampel acak berhasil menangkap keragaman usia yang ada di seluruh populasi, menjadikannya gambaran mini yang lebih akurat.\n",
    "\n",
    "2. Proses yang Tidak Bias: Kedekatan nilai dari convenience sampling bersifat kebetulan dan tidak dapat diandalkan. Proses pengambilan 50 data pertama memiliki bias yang inheren. Sebaliknya, proses sampling acak secara statistik dijamin tidak bias dalam jangka panjang, menjadikannya metode yang dapat dipercaya untuk inferensi statistik.\""
   ]
  }
 ],
 "metadata": {
  "kernelspec": {
   "display_name": "Python 3",
   "language": "python",
   "name": "python3"
  },
  "language_info": {
   "codemirror_mode": {
    "name": "ipython",
    "version": 3
   },
   "file_extension": ".py",
   "mimetype": "text/x-python",
   "name": "python",
   "nbconvert_exporter": "python",
   "pygments_lexer": "ipython3",
   "version": "3.12.4"
  }
 },
 "nbformat": 4,
 "nbformat_minor": 5
}
