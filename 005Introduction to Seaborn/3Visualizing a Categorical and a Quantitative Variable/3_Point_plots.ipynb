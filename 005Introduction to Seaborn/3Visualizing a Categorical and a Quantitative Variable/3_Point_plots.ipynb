{
 "cells": [
  {
   "cell_type": "code",
   "execution_count": null,
   "id": "dfe421bf",
   "metadata": {},
   "outputs": [],
   "source": [
    "# Customizing point plots\n",
    "\n",
    "# Add caps to the confidence interval\n",
    "sns.catplot(x=\"famrel\", y=\"absences\",\n",
    "\t\t\tdata=student_data,\n",
    "            kind=\"point\")\n",
    "        \n",
    "# Show plot\n",
    "plt.show()\n",
    "\n",
    "\n",
    "##############################\n",
    "\n",
    "# Add caps to the confidence interval\n",
    "sns.catplot(x=\"famrel\", y=\"absences\",\n",
    "\t\t\tdata=student_data,\n",
    "            kind=\"point\", capsize=0.2)\n",
    "        \n",
    "# Show plot\n",
    "plt.show()\n",
    "\n",
    "\n",
    "##############################\n",
    "\n",
    "# Remove the lines joining the points\n",
    "sns.catplot(x=\"famrel\", y=\"absences\",\n",
    "\t\t\tdata=student_data,\n",
    "            kind=\"point\",\n",
    "            capsize=0.2, join=False)\n",
    "            \n",
    "# Show plot\n",
    "plt.show()"
   ]
  },
  {
   "cell_type": "code",
   "execution_count": null,
   "id": "b01732a4",
   "metadata": {},
   "outputs": [],
   "source": [
    "# Point plots with subgroups\n",
    "\n",
    "# Create a point plot that uses color to create subgroups\n",
    "sns.catplot(x=\"romantic\", y=\"absences\", data=student_data, kind=\"point\", hue=\"school\")\n",
    "\n",
    "\n",
    "# Show plot\n",
    "plt.show()\n",
    "\n",
    "####################\n",
    "\n",
    "# Turn off the confidence intervals for this plot\n",
    "sns.catplot(x=\"romantic\", y=\"absences\",\n",
    "\t\t\tdata=student_data,\n",
    "            kind=\"point\",\n",
    "            hue=\"school\", ci=None)\n",
    "\n",
    "# Show plot\n",
    "plt.show()\n",
    "\n",
    "###########################\n",
    "\n",
    "# Import median function from numpy\n",
    "from numpy import median\n",
    "\n",
    "# Plot the median number of absences instead of the mean\n",
    "sns.catplot(x=\"romantic\", y=\"absences\",\n",
    "\t\t\tdata=student_data,\n",
    "            kind=\"point\",\n",
    "            hue=\"school\",\n",
    "            ci=None, estimator=median)\n",
    "\n",
    "# Show plot\n",
    "plt.show()"
   ]
  }
 ],
 "metadata": {
  "kernelspec": {
   "display_name": "Python 3",
   "language": "python",
   "name": "python3"
  },
  "language_info": {
   "codemirror_mode": {
    "name": "ipython",
    "version": 3
   },
   "file_extension": ".py",
   "mimetype": "text/x-python",
   "name": "python",
   "nbconvert_exporter": "python",
   "pygments_lexer": "ipython3",
   "version": "3.12.4"
  }
 },
 "nbformat": 4,
 "nbformat_minor": 5
}
