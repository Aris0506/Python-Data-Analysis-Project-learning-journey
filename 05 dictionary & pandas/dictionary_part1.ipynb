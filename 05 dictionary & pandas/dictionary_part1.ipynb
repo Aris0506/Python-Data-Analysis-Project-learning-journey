{
 "cells": [
  {
   "cell_type": "code",
   "execution_count": null,
   "id": "ee7d884a",
   "metadata": {},
   "outputs": [],
   "source": [
    "# Motivation for dictionaries\n",
    "\n",
    "# Instructions\n",
    "# Use the index() method on countries to find the index of 'germany'. Store this index as ind_ger.\n",
    "# Use ind_ger to access the capital of Germany from the capitals list. Print it out.\n",
    "\n",
    "# Definition of countries and capital\n",
    "countries = ['spain', 'france', 'germany', 'norway']\n",
    "capitals = ['madrid', 'paris', 'berlin', 'oslo']\n",
    "\n",
    "# Get index of 'germany': ind_ger\n",
    "ind_ger = countries.index('germany')\n",
    "\n",
    "# Use ind_ger to print out capital of Germany\n",
    "print(capitals[nd_ger])"
   ]
  },
  {
   "cell_type": "code",
   "execution_count": null,
   "id": "b213d3dd",
   "metadata": {},
   "outputs": [],
   "source": [
    "# Create dictionary\n",
    "\n",
    "# The countries and capitals lists are again available in the script. \n",
    "# It's your job to convert this data to a dictionary where the country names are the keys and the capitals are the corresponding values. \n",
    "# As a refresher, here is a recipe for creating a dictionary:\n",
    "\n",
    "#my_dict = {\n",
    "#   \"key1\":\"value1\",\n",
    "#   \"key2\":\"value2\",\n",
    "#}\n",
    "#In this recipe, both the keys and the values are strings. This will also be the case for this exercise.\n",
    "\n",
    "#Instructions\n",
    "\n",
    "#With the strings in countries and capitals, create a dictionary called europe \n",
    "# with 4 key:value pairs. Beware of capitalization! Make sure you use lowercase characters everywhere.\n",
    "#Print out europe to see if the result is what you expected.\n",
    "\n",
    "\n",
    "# Definition of countries and capital\n",
    "countries = ['spain', 'france', 'germany', 'norway']\n",
    "capitals = ['madrid', 'paris', 'berlin', 'oslo']\n",
    "\n",
    "# From string in countries and capitals, create dictionary europe\n",
    "europe = {'spain':'madrid', 'france':'paris', 'germany':'berlin', 'norway':'oslo' }\n",
    "\n",
    "# Print europe\n",
    "print(europe)"
   ]
  },
  {
   "cell_type": "code",
   "execution_count": null,
   "id": "621fb7d6",
   "metadata": {},
   "outputs": [],
   "source": [
    "# Access dictionary\n",
    "# if the keys of a dictionary are chosen wisely, accessing the values in a dictionary is easy and intuitive. \n",
    "# For example, to get the capital for France from europe you can use:\n",
    "\n",
    "#europe['france']\n",
    "\n",
    "#Here, 'france' is the key and 'paris' the value is returned.\n",
    "\n",
    "# Instructions\n",
    "# Check out which keys are in europe by calling the keys() method on europe. Print out the result.\n",
    "# Print out the value that belongs to the key 'norway'.\n",
    "\n",
    "\n",
    "# Definition of dictionary\n",
    "europe = {'spain':'madrid', 'france':'paris', 'germany':'berlin', 'norway':'oslo' }\n",
    "\n",
    "# Print out the keys in europe\n",
    "print(europe.keys())\n",
    "\n",
    "# Print out value that belongs to key 'norway'\n",
    "print(europe['norway'])"
   ]
  }
 ],
 "metadata": {
  "language_info": {
   "name": "python"
  }
 },
 "nbformat": 4,
 "nbformat_minor": 5
}
